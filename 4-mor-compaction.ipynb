{
 "cells": [
  {
   "cell_type": "markdown",
   "id": "1d574cc5-0034-439e-b4c9-45f0afea203d",
   "metadata": {
    "tags": []
   },
   "source": [
    "# Apache Hudi Core Conceptions (3) - MOR: File Layouts + Compaction"
   ]
  },
  {
   "cell_type": "markdown",
   "id": "a8f99894-93f3-4cef-a853-d2d73a3515b6",
   "metadata": {
    "tags": []
   },
   "source": [
    "## 1. Configuration"
   ]
  },
  {
   "cell_type": "code",
   "execution_count": 1,
   "id": "638504d6-1136-4807-af98-1d4248d1a8f3",
   "metadata": {
    "execution": {
     "iopub.execute_input": "2023-03-10T12:54:22.186287Z",
     "iopub.status.busy": "2023-03-10T12:54:22.185895Z",
     "iopub.status.idle": "2023-03-10T12:54:26.490431Z",
     "shell.execute_reply": "2023-03-10T12:54:26.489651Z",
     "shell.execute_reply.started": "2023-03-10T12:54:22.186250Z"
    },
    "tags": []
   },
   "outputs": [
    {
     "name": "stdout",
     "output_type": "stream",
     "text": [
      "-rw-r--r--   1 emr-notebook hdfsadmingroup   61421977 2023-03-10 12:54 /tmp/hudi-spark-bundle.jar\n"
     ]
    }
   ],
   "source": [
    "%%sh\n",
    "# deploy hudi bundle jar\n",
    "hdfs dfs -copyFromLocal -f /usr/lib/hudi/hudi-spark-bundle.jar /tmp/hudi-spark-bundle.jar\n",
    "hdfs dfs -ls /tmp/hudi-spark-bundle.jar"
   ]
  },
  {
   "cell_type": "code",
   "execution_count": 2,
   "id": "c7b533e6-60dc-44b6-be57-d3b86c11c583",
   "metadata": {
    "execution": {
     "iopub.execute_input": "2023-03-10T12:54:26.492099Z",
     "iopub.status.busy": "2023-03-10T12:54:26.491865Z",
     "iopub.status.idle": "2023-03-10T12:54:26.530876Z",
     "shell.execute_reply": "2023-03-10T12:54:26.530026Z",
     "shell.execute_reply.started": "2023-03-10T12:54:26.492075Z"
    },
    "tags": []
   },
   "outputs": [
    {
     "data": {
      "text/html": [
       "Current session configs: <tt>{'conf': {'spark.jars': 'hdfs:///tmp/hudi-spark-bundle.jar', 'spark.serializer': 'org.apache.spark.serializer.KryoSerializer', 'spark.sql.extensions': 'org.apache.spark.sql.hudi.HoodieSparkSessionExtension', 'spark.sql.catalog.spark_catalog': 'org.apache.spark.sql.hudi.catalog.HoodieCatalog'}, 'proxyUser': 'user_bluishglc', 'kind': 'spark'}</tt><br>"
      ],
      "text/plain": [
       "<IPython.core.display.HTML object>"
      ]
     },
     "metadata": {},
     "output_type": "display_data"
    },
    {
     "data": {
      "text/html": [
       "<table>\n<tbody><tr><th>ID</th><th>YARN Application ID</th><th>Kind</th><th>State</th><th>Spark UI</th><th>Driver log</th><th>User</th><th>Current session?</th></tr><tr><td>51</td><td>application_1678096020253_0074</td><td>spark</td><td>idle</td><td><a target=\"_blank\" href=\"http://ip-10-0-129-209.ec2.internal:20888/proxy/application_1678096020253_0074/\" class=\"emr-proxy-link j-6V65AY8X5VHR application_1678096020253_0074\" emr-resource=\"j-6V65AY8X5VHR\n\" application-id=\"application_1678096020253_0074\">Link</a></td><td><a target=\"_blank\" href=\"http://ip-10-0-132-108.ec2.internal:8042/node/containerlogs/container_1678096020253_0074_01_000001/livy\">Link</a></td><td>None</td><td></td></tr><tr><td>53</td><td>application_1678096020253_0079</td><td>spark</td><td>idle</td><td><a target=\"_blank\" href=\"http://ip-10-0-129-209.ec2.internal:20888/proxy/application_1678096020253_0079/\" class=\"emr-proxy-link j-6V65AY8X5VHR application_1678096020253_0079\" emr-resource=\"j-6V65AY8X5VHR\n\" application-id=\"application_1678096020253_0079\">Link</a></td><td><a target=\"_blank\" href=\"http://ip-10-0-132-108.ec2.internal:8042/node/containerlogs/container_1678096020253_0079_01_000001/livy\">Link</a></td><td>None</td><td></td></tr></tbody></table>"
      ],
      "text/plain": [
       "<IPython.core.display.HTML object>"
      ]
     },
     "metadata": {},
     "output_type": "display_data"
    }
   ],
   "source": [
    "%%configure -f\n",
    "{\n",
    "    \"conf\" : {\n",
    "        \"spark.jars\":\"hdfs:///tmp/hudi-spark-bundle.jar\",            \n",
    "        \"spark.serializer\":\"org.apache.spark.serializer.KryoSerializer\",\n",
    "        \"spark.sql.extensions\":\"org.apache.spark.sql.hudi.HoodieSparkSessionExtension\",\n",
    "        \"spark.sql.catalog.spark_catalog\":\"org.apache.spark.sql.hudi.catalog.HoodieCatalog\"\n",
    "    }\n",
    "}"
   ]
  },
  {
   "cell_type": "code",
   "execution_count": 3,
   "id": "8af4b944-fe51-41b9-90fb-ed249199f406",
   "metadata": {
    "execution": {
     "iopub.execute_input": "2023-03-10T12:54:26.532619Z",
     "iopub.status.busy": "2023-03-10T12:54:26.532394Z",
     "iopub.status.idle": "2023-03-10T12:54:26.537339Z",
     "shell.execute_reply": "2023-03-10T12:54:26.536511Z",
     "shell.execute_reply.started": "2023-03-10T12:54:26.532596Z"
    },
    "tags": []
   },
   "outputs": [
    {
     "name": "stdout",
     "output_type": "stream",
     "text": [
      "env: S3_BUCKET=apache-hudi-core-conceptions\n"
     ]
    }
   ],
   "source": [
    "%env S3_BUCKET=apache-hudi-core-conceptions"
   ]
  },
  {
   "cell_type": "code",
   "execution_count": 4,
   "id": "c5d08e30-76d6-4d19-af7c-15a49469c013",
   "metadata": {
    "execution": {
     "iopub.execute_input": "2023-03-10T12:54:26.539446Z",
     "iopub.status.busy": "2023-03-10T12:54:26.539136Z",
     "iopub.status.idle": "2023-03-10T12:54:56.077442Z",
     "shell.execute_reply": "2023-03-10T12:54:56.076735Z",
     "shell.execute_reply.started": "2023-03-10T12:54:26.539413Z"
    },
    "tags": []
   },
   "outputs": [
    {
     "name": "stdout",
     "output_type": "stream",
     "text": [
      "Starting Spark application\n"
     ]
    },
    {
     "data": {
      "text/html": [
       "<table>\n<tbody><tr><th>ID</th><th>YARN Application ID</th><th>Kind</th><th>State</th><th>Spark UI</th><th>Driver log</th><th>User</th><th>Current session?</th></tr><tr><td>55</td><td>application_1678096020253_0084</td><td>spark</td><td>idle</td><td><a target=\"_blank\" href=\"http://ip-10-0-129-209.ec2.internal:20888/proxy/application_1678096020253_0084/\" class=\"emr-proxy-link j-6V65AY8X5VHR application_1678096020253_0084\" emr-resource=\"j-6V65AY8X5VHR\n\" application-id=\"application_1678096020253_0084\">Link</a></td><td><a target=\"_blank\" href=\"http://ip-10-0-132-108.ec2.internal:8042/node/containerlogs/container_1678096020253_0084_01_000001/livy\">Link</a></td><td>None</td><td>✔</td></tr></tbody></table>"
      ],
      "text/plain": [
       "<IPython.core.display.HTML object>"
      ]
     },
     "metadata": {},
     "output_type": "display_data"
    },
    {
     "data": {
      "application/vnd.jupyter.widget-view+json": {
       "model_id": "",
       "version_major": 2,
       "version_minor": 0
      },
      "text/plain": [
       "FloatProgress(value=0.0, bar_style='info', description='Progress:', layout=Layout(height='25px', width='50%'),…"
      ]
     },
     "metadata": {},
     "output_type": "display_data"
    },
    {
     "name": "stdout",
     "output_type": "stream",
     "text": [
      "SparkSession available as 'spark'.\n"
     ]
    },
    {
     "data": {
      "application/vnd.jupyter.widget-view+json": {
       "model_id": "",
       "version_major": 2,
       "version_minor": 0
      },
      "text/plain": [
       "FloatProgress(value=0.0, bar_style='info', description='Progress:', layout=Layout(height='25px', width='50%'),…"
      ]
     },
     "metadata": {},
     "output_type": "display_data"
    },
    {
     "data": {
      "text/html": [
       "<style>.jp-OutputArea-child .jupyter-widgets.jp-OutputArea-output { overflow: auto; }</style>"
      ],
      "text/plain": [
       "<IPython.core.display.HTML object>"
      ]
     },
     "metadata": {},
     "output_type": "display_data"
    },
    {
     "data": {
      "application/vnd.jupyter.widget-view+json": {
       "model_id": "d6b7bdda478a46ff86b508bc6cb02d33",
       "version_major": 2,
       "version_minor": 0
      },
      "text/plain": [
       "VBox(children=(HBox(children=(HTML(value='Type:'), Button(description='Table', layout=Layout(width='70px'), st…"
      ]
     },
     "metadata": {},
     "output_type": "display_data"
    },
    {
     "data": {
      "application/vnd.jupyter.widget-view+json": {
       "model_id": "47d6a2e00bfe43a68151c379591210f7",
       "version_major": 2,
       "version_minor": 0
      },
      "text/plain": [
       "Output()"
      ]
     },
     "metadata": {},
     "output_type": "display_data"
    }
   ],
   "source": [
    "%%sql\n",
    "set S3_BUCKET=apache-hudi-core-conceptions"
   ]
  },
  {
   "cell_type": "code",
   "execution_count": 5,
   "id": "2b88311f-c410-4935-a41a-ce3d81c84920",
   "metadata": {
    "execution": {
     "iopub.execute_input": "2023-03-10T12:54:56.078770Z",
     "iopub.status.busy": "2023-03-10T12:54:56.078441Z",
     "iopub.status.idle": "2023-03-10T12:54:56.083046Z",
     "shell.execute_reply": "2023-03-10T12:54:56.082365Z",
     "shell.execute_reply.started": "2023-03-10T12:54:56.078746Z"
    },
    "tags": []
   },
   "outputs": [
    {
     "name": "stdout",
     "output_type": "stream",
     "text": [
      "env: WORKSPACE=/home/emr-notebook/apache-hudi-core-conceptions\n"
     ]
    }
   ],
   "source": [
    "%env WORKSPACE=/home/emr-notebook/apache-hudi-core-conceptions"
   ]
  },
  {
   "cell_type": "code",
   "execution_count": 6,
   "id": "78881ec6-4329-416b-ab27-38339020e322",
   "metadata": {
    "execution": {
     "iopub.execute_input": "2023-03-10T12:54:56.084287Z",
     "iopub.status.busy": "2023-03-10T12:54:56.084039Z",
     "iopub.status.idle": "2023-03-10T12:54:56.199916Z",
     "shell.execute_reply": "2023-03-10T12:54:56.198925Z",
     "shell.execute_reply.started": "2023-03-10T12:54:56.084239Z"
    },
    "tags": []
   },
   "outputs": [
    {
     "name": "stdout",
     "output_type": "stream",
     "text": [
      "/home/emr-notebook/apache-hudi-core-conceptions/hudi-stat.sh\n"
     ]
    }
   ],
   "source": [
    "%%sh\n",
    "# make workspace\n",
    "mkdir -p $WORKSPACE\n",
    "# deploy hudi-stat.sh, a utility shell script to output hudi table status\n",
    "wget https://raw.githubusercontent.com/bluishglc/apache-hudi-core-conceptions/master/hudi-stat.sh -O $WORKSPACE/hudi-stat.sh &>/dev/null\n",
    "chmod a+x $WORKSPACE/hudi-stat.sh\n",
    "ls $WORKSPACE/hudi-stat.sh"
   ]
  },
  {
   "cell_type": "code",
   "execution_count": 7,
   "id": "db234f04-c0c0-4be7-829b-0bbfc6e1395f",
   "metadata": {
    "execution": {
     "iopub.execute_input": "2023-03-10T12:54:56.201766Z",
     "iopub.status.busy": "2023-03-10T12:54:56.201449Z",
     "iopub.status.idle": "2023-03-10T12:54:56.207997Z",
     "shell.execute_reply": "2023-03-10T12:54:56.207179Z",
     "shell.execute_reply.started": "2023-03-10T12:54:56.201732Z"
    },
    "tags": []
   },
   "outputs": [
    {
     "data": {
      "text/html": [
       "<style>\n",
       "table {float:left}\n",
       "</style>\n"
      ],
      "text/plain": [
       "<IPython.core.display.HTML object>"
      ]
     },
     "metadata": {},
     "output_type": "display_data"
    }
   ],
   "source": [
    "%%html\n",
    "<style>\n",
    "table {float:left}\n",
    "</style>"
   ]
  },
  {
   "cell_type": "markdown",
   "id": "bc82b4ae-9599-456d-8935-09a752cfc084",
   "metadata": {
    "tags": []
   },
   "source": [
    "## 2. Test Case 1 - Sync Compaction: Inline Schedule + Inline Execute"
   ]
  },
  {
   "cell_type": "markdown",
   "id": "c28b6c54-1ec9-49d4-a7b7-600021f01b9c",
   "metadata": {
    "jp-MarkdownHeadingCollapsed": true,
    "tags": []
   },
   "source": [
    "### 2.1. Test Plan\n",
    "\n",
    "Step No.|Action|Volume Per Partition |Storage\n",
    ":--------:|:------|:------|:----------\n",
    "1|Insert|41MB|+1 Base File\n",
    "2|Update|177KB|+1 Log File\n",
    "3|Update|252KB|+1 Log File, +1 Base File\n",
    "4|Update|258KB|+1 Log File\n",
    "5|Update|280KB|+1 Log File"
   ]
  },
  {
   "cell_type": "markdown",
   "id": "31e93d47-45ab-44af-99e0-b4b06a09ff00",
   "metadata": {
    "tags": []
   },
   "source": [
    "### 2.2. Key Settings\n",
    "\n",
    "KEY|DEFAULT VALUE|SET VALUE\n",
    ":---|:---|:---\n",
    "hoodie.compact.inline|false|true\n",
    "hoodie.compact.schedule.inline|false|Default Value\n",
    "hoodie.compact.inline.max.delta.commits|5|3\n",
    "hoodie.copyonwrite.record.size.estimate|1024|175"
   ]
  },
  {
   "cell_type": "markdown",
   "id": "e080d404-7670-4829-840c-a42dc0d1bdf5",
   "metadata": {
    "execution": {
     "iopub.execute_input": "2023-02-25T02:57:45.037101Z",
     "iopub.status.busy": "2023-02-25T02:57:45.036681Z",
     "iopub.status.idle": "2023-02-25T02:58:07.353493Z",
     "shell.execute_reply": "2023-02-25T02:58:07.352596Z",
     "shell.execute_reply.started": "2023-02-25T02:57:45.037060Z"
    },
    "tags": []
   },
   "source": [
    "### 2.3. Set Variables"
   ]
  },
  {
   "cell_type": "code",
   "execution_count": 8,
   "id": "b5285549-b3bf-48f6-a467-2aec77d7abd3",
   "metadata": {
    "execution": {
     "iopub.execute_input": "2023-03-10T12:54:56.210950Z",
     "iopub.status.busy": "2023-03-10T12:54:56.210708Z",
     "iopub.status.idle": "2023-03-10T12:54:57.135944Z",
     "shell.execute_reply": "2023-03-10T12:54:57.135100Z",
     "shell.execute_reply.started": "2023-03-10T12:54:56.210928Z"
    },
    "tags": []
   },
   "outputs": [
    {
     "data": {
      "application/vnd.jupyter.widget-view+json": {
       "model_id": "",
       "version_major": 2,
       "version_minor": 0
      },
      "text/plain": [
       "FloatProgress(value=0.0, bar_style='info', description='Progress:', layout=Layout(height='25px', width='50%'),…"
      ]
     },
     "metadata": {},
     "output_type": "display_data"
    },
    {
     "data": {
      "text/html": [
       "<style>.jp-OutputArea-child .jupyter-widgets.jp-OutputArea-output { overflow: auto; }</style>"
      ],
      "text/plain": [
       "<IPython.core.display.HTML object>"
      ]
     },
     "metadata": {},
     "output_type": "display_data"
    },
    {
     "data": {
      "application/vnd.jupyter.widget-view+json": {
       "model_id": "ea3a6fa5daee42d8bbf49abbca95133e",
       "version_major": 2,
       "version_minor": 0
      },
      "text/plain": [
       "VBox(children=(HBox(children=(HTML(value='Type:'), Button(description='Table', layout=Layout(width='70px'), st…"
      ]
     },
     "metadata": {},
     "output_type": "display_data"
    },
    {
     "data": {
      "application/vnd.jupyter.widget-view+json": {
       "model_id": "8bc16867cf09417584f984f7ee23bdcc",
       "version_major": 2,
       "version_minor": 0
      },
      "text/plain": [
       "Output()"
      ]
     },
     "metadata": {},
     "output_type": "display_data"
    }
   ],
   "source": [
    "%%sql\n",
    "set TABLE_NAME=reviews_mor_1"
   ]
  },
  {
   "cell_type": "code",
   "execution_count": 9,
   "id": "508c207e-07eb-4738-8b22-a24652f29ab5",
   "metadata": {
    "execution": {
     "iopub.execute_input": "2023-03-10T12:54:57.189214Z",
     "iopub.status.busy": "2023-03-10T12:54:57.188876Z",
     "iopub.status.idle": "2023-03-10T12:54:57.193940Z",
     "shell.execute_reply": "2023-03-10T12:54:57.193196Z",
     "shell.execute_reply.started": "2023-03-10T12:54:57.189181Z"
    },
    "tags": []
   },
   "outputs": [
    {
     "name": "stdout",
     "output_type": "stream",
     "text": [
      "env: TABLE_NAME=reviews_mor_1\n"
     ]
    }
   ],
   "source": [
    "%env TABLE_NAME=reviews_mor_1"
   ]
  },
  {
   "cell_type": "markdown",
   "id": "f91bc196-3c0e-4576-bdf6-42aa983278dc",
   "metadata": {
    "tags": []
   },
   "source": [
    "### 2.4. Create Table"
   ]
  },
  {
   "cell_type": "code",
   "execution_count": 10,
   "id": "ac378d22-f430-4130-adf7-43955c5a9994",
   "metadata": {
    "execution": {
     "iopub.execute_input": "2023-03-10T12:54:57.261139Z",
     "iopub.status.busy": "2023-03-10T12:54:57.260803Z",
     "iopub.status.idle": "2023-03-10T12:55:03.237231Z",
     "shell.execute_reply": "2023-03-10T12:55:03.236369Z",
     "shell.execute_reply.started": "2023-03-10T12:54:57.261106Z"
    },
    "tags": []
   },
   "outputs": [],
   "source": [
    "%%sh\n",
    "aws s3 rm s3://${S3_BUCKET}/${TABLE_NAME} --recursive &>/dev/null\n",
    "rm -rf ${WORKSPACE}/${TABLE_NAME}\n",
    "sleep 5"
   ]
  },
  {
   "cell_type": "code",
   "execution_count": 11,
   "id": "a90d05cd-a733-4919-aa15-e2c970de300f",
   "metadata": {
    "execution": {
     "iopub.execute_input": "2023-03-10T12:55:03.238755Z",
     "iopub.status.busy": "2023-03-10T12:55:03.238509Z",
     "iopub.status.idle": "2023-03-10T12:55:06.578874Z",
     "shell.execute_reply": "2023-03-10T12:55:06.578001Z",
     "shell.execute_reply.started": "2023-03-10T12:55:03.238728Z"
    },
    "tags": []
   },
   "outputs": [
    {
     "data": {
      "application/vnd.jupyter.widget-view+json": {
       "model_id": "",
       "version_major": 2,
       "version_minor": 0
      },
      "text/plain": [
       "FloatProgress(value=0.0, bar_style='info', description='Progress:', layout=Layout(height='25px', width='50%'),…"
      ]
     },
     "metadata": {},
     "output_type": "display_data"
    },
    {
     "data": {
      "text/html": [
       "<style>.jp-OutputArea-child .jupyter-widgets.jp-OutputArea-output { overflow: auto; }</style>"
      ],
      "text/plain": [
       "<IPython.core.display.HTML object>"
      ]
     },
     "metadata": {},
     "output_type": "display_data"
    },
    {
     "data": {
      "application/vnd.jupyter.widget-view+json": {
       "model_id": "c7e58860ac7145a081c782491e7ac599",
       "version_major": 2,
       "version_minor": 0
      },
      "text/plain": [
       "VBox(children=(HBox(), EncodingWidget(children=(VBox(children=(HTML(value='Encoding:'), Dropdown(description='…"
      ]
     },
     "metadata": {},
     "output_type": "display_data"
    },
    {
     "data": {
      "application/vnd.jupyter.widget-view+json": {
       "model_id": "069e0542320a497393ef7de6bf3de7fc",
       "version_major": 2,
       "version_minor": 0
      },
      "text/plain": [
       "Output()"
      ]
     },
     "metadata": {},
     "output_type": "display_data"
    }
   ],
   "source": [
    "%%sql\n",
    "drop table if exists ${TABLE_NAME}"
   ]
  },
  {
   "cell_type": "code",
   "execution_count": 12,
   "id": "bbfb084d-6f9b-440b-a50d-c2186dd9838f",
   "metadata": {
    "execution": {
     "iopub.execute_input": "2023-03-10T12:55:06.580209Z",
     "iopub.status.busy": "2023-03-10T12:55:06.579976Z",
     "iopub.status.idle": "2023-03-10T12:55:07.431482Z",
     "shell.execute_reply": "2023-03-10T12:55:07.430673Z",
     "shell.execute_reply.started": "2023-03-10T12:55:06.580186Z"
    },
    "tags": []
   },
   "outputs": [
    {
     "data": {
      "application/vnd.jupyter.widget-view+json": {
       "model_id": "",
       "version_major": 2,
       "version_minor": 0
      },
      "text/plain": [
       "FloatProgress(value=0.0, bar_style='info', description='Progress:', layout=Layout(height='25px', width='50%'),…"
      ]
     },
     "metadata": {},
     "output_type": "display_data"
    },
    {
     "data": {
      "text/html": [
       "<style>.jp-OutputArea-child .jupyter-widgets.jp-OutputArea-output { overflow: auto; }</style>"
      ],
      "text/plain": [
       "<IPython.core.display.HTML object>"
      ]
     },
     "metadata": {},
     "output_type": "display_data"
    },
    {
     "data": {
      "application/vnd.jupyter.widget-view+json": {
       "model_id": "290b9dcea48241b1b06b4ca589e86327",
       "version_major": 2,
       "version_minor": 0
      },
      "text/plain": [
       "VBox(children=(HBox(), EncodingWidget(children=(VBox(children=(HTML(value='Encoding:'), Dropdown(description='…"
      ]
     },
     "metadata": {},
     "output_type": "display_data"
    },
    {
     "data": {
      "application/vnd.jupyter.widget-view+json": {
       "model_id": "62a6d838599e43399f954b95936ebea9",
       "version_major": 2,
       "version_minor": 0
      },
      "text/plain": [
       "Output()"
      ]
     },
     "metadata": {},
     "output_type": "display_data"
    }
   ],
   "source": [
    "%%sql\n",
    "drop table if exists ${TABLE_NAME}_ro"
   ]
  },
  {
   "cell_type": "code",
   "execution_count": 13,
   "id": "871286b5-a304-4e8b-a341-1ed8f903c607",
   "metadata": {
    "execution": {
     "iopub.execute_input": "2023-03-10T12:55:07.433116Z",
     "iopub.status.busy": "2023-03-10T12:55:07.432793Z",
     "iopub.status.idle": "2023-03-10T12:55:08.272929Z",
     "shell.execute_reply": "2023-03-10T12:55:08.272045Z",
     "shell.execute_reply.started": "2023-03-10T12:55:07.433077Z"
    },
    "tags": []
   },
   "outputs": [
    {
     "data": {
      "application/vnd.jupyter.widget-view+json": {
       "model_id": "",
       "version_major": 2,
       "version_minor": 0
      },
      "text/plain": [
       "FloatProgress(value=0.0, bar_style='info', description='Progress:', layout=Layout(height='25px', width='50%'),…"
      ]
     },
     "metadata": {},
     "output_type": "display_data"
    },
    {
     "data": {
      "text/html": [
       "<style>.jp-OutputArea-child .jupyter-widgets.jp-OutputArea-output { overflow: auto; }</style>"
      ],
      "text/plain": [
       "<IPython.core.display.HTML object>"
      ]
     },
     "metadata": {},
     "output_type": "display_data"
    },
    {
     "data": {
      "application/vnd.jupyter.widget-view+json": {
       "model_id": "b8ce0ab4ccc847208c45902ed3aab2fd",
       "version_major": 2,
       "version_minor": 0
      },
      "text/plain": [
       "VBox(children=(HBox(), EncodingWidget(children=(VBox(children=(HTML(value='Encoding:'), Dropdown(description='…"
      ]
     },
     "metadata": {},
     "output_type": "display_data"
    },
    {
     "data": {
      "application/vnd.jupyter.widget-view+json": {
       "model_id": "84a9e5b85906499b939cf161b3ca6f26",
       "version_major": 2,
       "version_minor": 0
      },
      "text/plain": [
       "Output()"
      ]
     },
     "metadata": {},
     "output_type": "display_data"
    }
   ],
   "source": [
    "%%sql\n",
    "drop table if exists ${TABLE_NAME}_rt"
   ]
  },
  {
   "cell_type": "code",
   "execution_count": 14,
   "id": "dc87312e-a379-417a-a556-918898068755",
   "metadata": {
    "execution": {
     "iopub.execute_input": "2023-03-10T12:55:08.274208Z",
     "iopub.status.busy": "2023-03-10T12:55:08.273974Z",
     "iopub.status.idle": "2023-03-10T12:55:11.611178Z",
     "shell.execute_reply": "2023-03-10T12:55:11.610407Z",
     "shell.execute_reply.started": "2023-03-10T12:55:08.274186Z"
    },
    "tags": []
   },
   "outputs": [
    {
     "data": {
      "application/vnd.jupyter.widget-view+json": {
       "model_id": "",
       "version_major": 2,
       "version_minor": 0
      },
      "text/plain": [
       "FloatProgress(value=0.0, bar_style='info', description='Progress:', layout=Layout(height='25px', width='50%'),…"
      ]
     },
     "metadata": {},
     "output_type": "display_data"
    },
    {
     "data": {
      "text/html": [
       "<style>.jp-OutputArea-child .jupyter-widgets.jp-OutputArea-output { overflow: auto; }</style>"
      ],
      "text/plain": [
       "<IPython.core.display.HTML object>"
      ]
     },
     "metadata": {},
     "output_type": "display_data"
    },
    {
     "data": {
      "application/vnd.jupyter.widget-view+json": {
       "model_id": "95513317e2d248c79727e1f10f65706b",
       "version_major": 2,
       "version_minor": 0
      },
      "text/plain": [
       "VBox(children=(HBox(), EncodingWidget(children=(VBox(children=(HTML(value='Encoding:'), Dropdown(description='…"
      ]
     },
     "metadata": {},
     "output_type": "display_data"
    },
    {
     "data": {
      "application/vnd.jupyter.widget-view+json": {
       "model_id": "b06ae8556d8e404ea7a997892e7f1027",
       "version_major": 2,
       "version_minor": 0
      },
      "text/plain": [
       "Output()"
      ]
     },
     "metadata": {},
     "output_type": "display_data"
    }
   ],
   "source": [
    "%%sql\n",
    "create table if not exists ${TABLE_NAME} (\n",
    "    review_id string, \n",
    "    star_rating long, \n",
    "    review_body string, \n",
    "    review_date date, \n",
    "    year long,\n",
    "    timestamp long,\n",
    "    parity int\n",
    ")\n",
    "using hudi\n",
    "location 's3://${S3_BUCKET}/${TABLE_NAME}'\n",
    "partitioned by (parity)\n",
    "options ( \n",
    "    type = 'mor',  \n",
    "    primaryKey = 'review_id', \n",
    "    preCombineField = 'timestamp',\n",
    "    hoodie.copyonwrite.record.size.estimate = '175',\n",
    "    hoodie.compact.inline = 'true',\n",
    "    -- hoodie.compact.schedule.inline = 'false',\n",
    "    hoodie.compact.inline.max.delta.commits = '3'\n",
    ");"
   ]
  },
  {
   "cell_type": "code",
   "execution_count": 15,
   "id": "1c5bdfa7-d4f5-4d2d-8a71-0472ec1ea620",
   "metadata": {
    "execution": {
     "iopub.execute_input": "2023-03-10T12:55:11.612847Z",
     "iopub.status.busy": "2023-03-10T12:55:11.612519Z",
     "iopub.status.idle": "2023-03-10T12:55:12.561031Z",
     "shell.execute_reply": "2023-03-10T12:55:12.559980Z",
     "shell.execute_reply.started": "2023-03-10T12:55:11.612813Z"
    }
   },
   "outputs": [
    {
     "data": {
      "application/vnd.jupyter.widget-view+json": {
       "model_id": "",
       "version_major": 2,
       "version_minor": 0
      },
      "text/plain": [
       "FloatProgress(value=0.0, bar_style='info', description='Progress:', layout=Layout(height='25px', width='50%'),…"
      ]
     },
     "metadata": {},
     "output_type": "display_data"
    },
    {
     "data": {
      "text/html": [
       "<style>.jp-OutputArea-child .jupyter-widgets.jp-OutputArea-output { overflow: auto; }</style>"
      ],
      "text/plain": [
       "<IPython.core.display.HTML object>"
      ]
     },
     "metadata": {},
     "output_type": "display_data"
    },
    {
     "data": {
      "application/vnd.jupyter.widget-view+json": {
       "model_id": "9f3a6a8b0ff6479495b9e973c72a949e",
       "version_major": 2,
       "version_minor": 0
      },
      "text/plain": [
       "VBox(children=(HBox(children=(HTML(value='Type:'), Button(description='Table', layout=Layout(width='70px'), st…"
      ]
     },
     "metadata": {},
     "output_type": "display_data"
    },
    {
     "data": {
      "application/vnd.jupyter.widget-view+json": {
       "model_id": "ca45a868e40843cc84ef29c838bceebd",
       "version_major": 2,
       "version_minor": 0
      },
      "text/plain": [
       "Output()"
      ]
     },
     "metadata": {},
     "output_type": "display_data"
    }
   ],
   "source": [
    "%%sql\n",
    "set YEAR=1999"
   ]
  },
  {
   "cell_type": "code",
   "execution_count": 16,
   "id": "6b430dc0-309d-45a1-89d5-02c0e44b76d7",
   "metadata": {
    "execution": {
     "iopub.execute_input": "2023-03-10T12:55:12.562865Z",
     "iopub.status.busy": "2023-03-10T12:55:12.562534Z",
     "iopub.status.idle": "2023-03-10T12:55:22.020053Z",
     "shell.execute_reply": "2023-03-10T12:55:22.019262Z",
     "shell.execute_reply.started": "2023-03-10T12:55:12.562830Z"
    },
    "tags": []
   },
   "outputs": [
    {
     "data": {
      "application/vnd.jupyter.widget-view+json": {
       "model_id": "",
       "version_major": 2,
       "version_minor": 0
      },
      "text/plain": [
       "FloatProgress(value=0.0, bar_style='info', description='Progress:', layout=Layout(height='25px', width='50%'),…"
      ]
     },
     "metadata": {},
     "output_type": "display_data"
    },
    {
     "data": {
      "text/html": [
       "<style>.jp-OutputArea-child .jupyter-widgets.jp-OutputArea-output { overflow: auto; }</style>"
      ],
      "text/plain": [
       "<IPython.core.display.HTML object>"
      ]
     },
     "metadata": {},
     "output_type": "display_data"
    },
    {
     "data": {
      "application/vnd.jupyter.widget-view+json": {
       "model_id": "a5d7274c19404d988e4b0a19463bc4b3",
       "version_major": 2,
       "version_minor": 0
      },
      "text/plain": [
       "VBox(children=(HBox(children=(HTML(value='Type:'), Button(description='Table', layout=Layout(width='70px'), st…"
      ]
     },
     "metadata": {},
     "output_type": "display_data"
    },
    {
     "data": {
      "application/vnd.jupyter.widget-view+json": {
       "model_id": "1a810121ce5e4c32a414b110f54a52d5",
       "version_major": 2,
       "version_minor": 0
      },
      "text/plain": [
       "Output()"
      ]
     },
     "metadata": {},
     "output_type": "display_data"
    }
   ],
   "source": [
    "%%sql\n",
    "select\n",
    "    l.*, l.records_num / r.total as percentage\n",
    "from\n",
    "    (select star_rating, count(1) as records_num from reviews where year=${YEAR} group by star_rating) as l\n",
    "join\n",
    "    (select count(1) as total from reviews where year=${YEAR}) as r\n",
    "order by \n",
    "    star_rating asc;"
   ]
  },
  {
   "cell_type": "markdown",
   "id": "bdf101e6-61f5-46ec-95cd-2eecaeb948c8",
   "metadata": {
    "tags": []
   },
   "source": [
    "### 2.5. Insert 41MB / +1 Base File"
   ]
  },
  {
   "cell_type": "code",
   "execution_count": 17,
   "id": "d3aab4ae-4f88-4539-841f-38f254fc2d83",
   "metadata": {
    "execution": {
     "iopub.execute_input": "2023-03-10T12:55:22.021427Z",
     "iopub.status.busy": "2023-03-10T12:55:22.021175Z",
     "iopub.status.idle": "2023-03-10T12:56:01.516595Z",
     "shell.execute_reply": "2023-03-10T12:56:01.515808Z",
     "shell.execute_reply.started": "2023-03-10T12:55:22.021403Z"
    },
    "tags": []
   },
   "outputs": [
    {
     "data": {
      "application/vnd.jupyter.widget-view+json": {
       "model_id": "",
       "version_major": 2,
       "version_minor": 0
      },
      "text/plain": [
       "FloatProgress(value=0.0, bar_style='info', description='Progress:', layout=Layout(height='25px', width='50%'),…"
      ]
     },
     "metadata": {},
     "output_type": "display_data"
    },
    {
     "data": {
      "text/html": [
       "<style>.jp-OutputArea-child .jupyter-widgets.jp-OutputArea-output { overflow: auto; }</style>"
      ],
      "text/plain": [
       "<IPython.core.display.HTML object>"
      ]
     },
     "metadata": {},
     "output_type": "display_data"
    },
    {
     "data": {
      "application/vnd.jupyter.widget-view+json": {
       "model_id": "ed76fefc182348c4b99293e363d7eea0",
       "version_major": 2,
       "version_minor": 0
      },
      "text/plain": [
       "VBox(children=(HBox(), EncodingWidget(children=(VBox(children=(HTML(value='Encoding:'), Dropdown(description='…"
      ]
     },
     "metadata": {},
     "output_type": "display_data"
    },
    {
     "data": {
      "application/vnd.jupyter.widget-view+json": {
       "model_id": "615835978b734d1ea01939a620af7247",
       "version_major": 2,
       "version_minor": 0
      },
      "text/plain": [
       "Output()"
      ]
     },
     "metadata": {},
     "output_type": "display_data"
    }
   ],
   "source": [
    "%%sql\n",
    "insert into \n",
    "    ${TABLE_NAME}\n",
    "select \n",
    "    review_id, \n",
    "    star_rating, \n",
    "    review_body, \n",
    "    review_date, \n",
    "    year,\n",
    "    unix_timestamp(current_timestamp()) as timestamp,\n",
    "    mod(crc32(review_id), 2) as parity\n",
    "from\n",
    "    reviews\n",
    "where\n",
    "    year = 1999"
   ]
  },
  {
   "cell_type": "code",
   "execution_count": 18,
   "id": "d1c970c1-888f-425c-9715-4be8feb40ed1",
   "metadata": {
    "execution": {
     "iopub.execute_input": "2023-03-10T12:56:01.517862Z",
     "iopub.status.busy": "2023-03-10T12:56:01.517640Z",
     "iopub.status.idle": "2023-03-10T12:56:24.009015Z",
     "shell.execute_reply": "2023-03-10T12:56:24.008239Z",
     "shell.execute_reply.started": "2023-03-10T12:56:01.517841Z"
    },
    "tags": []
   },
   "outputs": [
    {
     "name": "stdout",
     "output_type": "stream",
     "text": [
      "\n",
      "[ TIMELINE ]\n",
      "\n",
      "╔═════╤═══════════════════╤═════════════╤═══════════╤═════════════╤═════════════╤═════════════╗\n",
      "║ No. │ Instant           │ Action      │ State     │ Requested   │ Inflight    │ Completed   ║\n",
      "║     │                   │             │           │ Time        │ Time        │ Time        ║\n",
      "╠═════╪═══════════════════╪═════════════╪═══════════╪═════════════╪═════════════╪═════════════╣\n",
      "║ 0   │ 20230310125522704 │ deltacommit │ COMPLETED │ 03-10 12:55 │ 03-10 12:55 │ 03-10 12:55 ║\n",
      "╚═════╧═══════════════════╧═════════════╧═══════════╧═════════════╧═════════════╧═════════════╝\n",
      "\n",
      "[ COMMITS ]\n",
      "\n",
      "╔═══════════════════╤═════════════════════╤═══════════════════╤═════════════════════╤══════════════════════════╤═══════════════════════╤══════════════════════════════╤══════════════╗\n",
      "║ CommitTime        │ Total Bytes Written │ Total Files Added │ Total Files Updated │ Total Partitions Written │ Total Records Written │ Total Update Records Written │ Total Errors ║\n",
      "╠═══════════════════╪═════════════════════╪═══════════════════╪═════════════════════╪══════════════════════════╪═══════════════════════╪══════════════════════════════╪══════════════╣\n",
      "║ 20230310125522704 │ 81.3 MB             │ 2                 │ 0                   │ 2                        │ 484469                │ 0                            │ 0            ║\n",
      "╚═══════════════════╧═════════════════════╧═══════════════════╧═════════════════════╧══════════════════════════╧═══════════════════════╧══════════════════════════════╧══════════════╝\n",
      "\n",
      "[ COMPACTIONS ]\n",
      "\n",
      "╔═════════════════════════╤═══════╤═══════════════════════════════╗\n",
      "║ Compaction Instant Time │ State │ Total FileIds to be Compacted ║\n",
      "╠═════════════════════════╧═══════╧═══════════════════════════════╣\n",
      "║ (empty)                                                         ║\n",
      "╚═════════════════════════════════════════════════════════════════╝\n",
      "\n",
      "[ STORAGE ]\n",
      "\n",
      "/home/emr-notebook/reviews_mor_1\n",
      "├── [ 41M 12:56:23]  parity=0\n",
      "│   └── [ 41M 12:55:49]  c2dd86f1-9c7b-49d5-a98c-6396282a6361-0_0-47-837_20230310125522704.parquet\n",
      "└── [ 41M 12:56:23]  parity=1\n",
      "    └── [ 41M 12:55:49]  8245ccff-c797-4985-9cfd-8b175a3e1952-0_1-47-838_20230310125522704.parquet\n",
      "\n",
      "  81M used in 2 directories, 2 files\n"
     ]
    }
   ],
   "source": [
    "%%sh\n",
    "~/hudi-stat.sh s3://${S3_BUCKET}/${TABLE_NAME} timeline commits compactions storage"
   ]
  },
  {
   "cell_type": "markdown",
   "id": "2e557928-f092-4752-b170-6cd18b0a77bb",
   "metadata": {
    "tags": []
   },
   "source": [
    "### 2.6. Update 177KB / +1 Log File"
   ]
  },
  {
   "cell_type": "code",
   "execution_count": 19,
   "id": "a75f4152-7c4b-4f59-a80f-8dd0ac26cd56",
   "metadata": {
    "execution": {
     "iopub.execute_input": "2023-03-10T12:56:24.010535Z",
     "iopub.status.busy": "2023-03-10T12:56:24.010290Z",
     "iopub.status.idle": "2023-03-10T12:56:43.412155Z",
     "shell.execute_reply": "2023-03-10T12:56:43.411454Z",
     "shell.execute_reply.started": "2023-03-10T12:56:24.010510Z"
    },
    "tags": []
   },
   "outputs": [
    {
     "data": {
      "application/vnd.jupyter.widget-view+json": {
       "model_id": "",
       "version_major": 2,
       "version_minor": 0
      },
      "text/plain": [
       "FloatProgress(value=0.0, bar_style='info', description='Progress:', layout=Layout(height='25px', width='50%'),…"
      ]
     },
     "metadata": {},
     "output_type": "display_data"
    },
    {
     "data": {
      "text/html": [
       "<style>.jp-OutputArea-child .jupyter-widgets.jp-OutputArea-output { overflow: auto; }</style>"
      ],
      "text/plain": [
       "<IPython.core.display.HTML object>"
      ]
     },
     "metadata": {},
     "output_type": "display_data"
    },
    {
     "data": {
      "application/vnd.jupyter.widget-view+json": {
       "model_id": "3cc96d2b53824ac7a5f312ad10067af9",
       "version_major": 2,
       "version_minor": 0
      },
      "text/plain": [
       "VBox(children=(HBox(), EncodingWidget(children=(VBox(children=(HTML(value='Encoding:'), Dropdown(description='…"
      ]
     },
     "metadata": {},
     "output_type": "display_data"
    },
    {
     "data": {
      "application/vnd.jupyter.widget-view+json": {
       "model_id": "bf8f16d25dcd48bba16fed1f98678d63",
       "version_major": 2,
       "version_minor": 0
      },
      "text/plain": [
       "Output()"
      ]
     },
     "metadata": {},
     "output_type": "display_data"
    }
   ],
   "source": [
    "%%sql\n",
    "update\n",
    "    ${TABLE_NAME}\n",
    "set             \n",
    "    review_body = concat(uuid(),uuid(),uuid(),uuid(),uuid(),uuid(),uuid(),uuid(),uuid(),uuid()),\n",
    "    timestamp = unix_timestamp(current_timestamp())\n",
    "where\n",
    "    review_date = '1999-01-01'\n",
    ";"
   ]
  },
  {
   "cell_type": "code",
   "execution_count": 20,
   "id": "890ce406-1702-4170-9525-278588ec3424",
   "metadata": {
    "execution": {
     "iopub.execute_input": "2023-03-10T12:56:43.413521Z",
     "iopub.status.busy": "2023-03-10T12:56:43.413270Z",
     "iopub.status.idle": "2023-03-10T12:57:05.440406Z",
     "shell.execute_reply": "2023-03-10T12:57:05.439601Z",
     "shell.execute_reply.started": "2023-03-10T12:56:43.413495Z"
    },
    "tags": []
   },
   "outputs": [
    {
     "name": "stdout",
     "output_type": "stream",
     "text": [
      "\n",
      "[ TIMELINE ]\n",
      "\n",
      "╔═════╤═══════════════════╤═════════════╤═══════════╤═════════════╤═════════════╤═════════════╗\n",
      "║ No. │ Instant           │ Action      │ State     │ Requested   │ Inflight    │ Completed   ║\n",
      "║     │                   │             │           │ Time        │ Time        │ Time        ║\n",
      "╠═════╪═══════════════════╪═════════════╪═══════════╪═════════════╪═════════════╪═════════════╣\n",
      "║ 0   │ 20230310125522704 │ deltacommit │ COMPLETED │ 03-10 12:55 │ 03-10 12:55 │ 03-10 12:55 ║\n",
      "╟─────┼───────────────────┼─────────────┼───────────┼─────────────┼─────────────┼─────────────╢\n",
      "║ 1   │ 20230310125624734 │ deltacommit │ COMPLETED │ 03-10 12:56 │ 03-10 12:56 │ 03-10 12:56 ║\n",
      "╚═════╧═══════════════════╧═════════════╧═══════════╧═════════════╧═════════════╧═════════════╝\n",
      "\n",
      "[ COMMITS ]\n",
      "\n",
      "╔═══════════════════╤═════════════════════╤═══════════════════╤═════════════════════╤══════════════════════════╤═══════════════════════╤══════════════════════════════╤══════════════╗\n",
      "║ CommitTime        │ Total Bytes Written │ Total Files Added │ Total Files Updated │ Total Partitions Written │ Total Records Written │ Total Update Records Written │ Total Errors ║\n",
      "╠═══════════════════╪═════════════════════╪═══════════════════╪═════════════════════╪══════════════════════════╪═══════════════════════╪══════════════════════════════╪══════════════╣\n",
      "║ 20230310125624734 │ 381.2 KB            │ 0                 │ 2                   │ 2                        │ 701                   │ 701                          │ 0            ║\n",
      "╟───────────────────┼─────────────────────┼───────────────────┼─────────────────────┼──────────────────────────┼───────────────────────┼──────────────────────────────┼──────────────╢\n",
      "║ 20230310125522704 │ 81.3 MB             │ 2                 │ 0                   │ 2                        │ 484469                │ 0                            │ 0            ║\n",
      "╚═══════════════════╧═════════════════════╧═══════════════════╧═════════════════════╧══════════════════════════╧═══════════════════════╧══════════════════════════════╧══════════════╝\n",
      "\n",
      "[ COMPACTIONS ]\n",
      "\n",
      "╔═════════════════════════╤═══════╤═══════════════════════════════╗\n",
      "║ Compaction Instant Time │ State │ Total FileIds to be Compacted ║\n",
      "╠═════════════════════════╧═══════╧═══════════════════════════════╣\n",
      "║ (empty)                                                         ║\n",
      "╚═════════════════════════════════════════════════════════════════╝\n",
      "\n",
      "[ STORAGE ]\n",
      "\n",
      "/home/emr-notebook/reviews_mor_1\n",
      "├── [ 41M 12:57:05]  parity=0\n",
      "│   ├── [177K 12:56:33]  .c2dd86f1-9c7b-49d5-a98c-6396282a6361-0_20230310125522704.log.1_0-95-898\n",
      "│   └── [ 41M 12:55:49]  c2dd86f1-9c7b-49d5-a98c-6396282a6361-0_0-47-837_20230310125522704.parquet\n",
      "└── [ 41M 12:57:05]  parity=1\n",
      "    ├── [204K 12:56:33]  .8245ccff-c797-4985-9cfd-8b175a3e1952-0_20230310125522704.log.1_1-95-899\n",
      "    └── [ 41M 12:55:49]  8245ccff-c797-4985-9cfd-8b175a3e1952-0_1-47-838_20230310125522704.parquet\n",
      "\n",
      "  82M used in 2 directories, 4 files\n"
     ]
    }
   ],
   "source": [
    "%%sh\n",
    "~/hudi-stat.sh s3://${S3_BUCKET}/${TABLE_NAME} timeline commits compactions storage"
   ]
  },
  {
   "cell_type": "markdown",
   "id": "4b31ffb1-7cd5-4be0-a7b6-211fb0b54ba1",
   "metadata": {
    "tags": []
   },
   "source": [
    "### 2.7. Update 252KB / +1 Log File +1 Base File"
   ]
  },
  {
   "cell_type": "code",
   "execution_count": 21,
   "id": "3673cbdb-71a8-45a6-b092-c6bb6215a235",
   "metadata": {
    "execution": {
     "iopub.execute_input": "2023-03-10T12:57:05.445425Z",
     "iopub.status.busy": "2023-03-10T12:57:05.445161Z",
     "iopub.status.idle": "2023-03-10T12:57:40.872793Z",
     "shell.execute_reply": "2023-03-10T12:57:40.872133Z",
     "shell.execute_reply.started": "2023-03-10T12:57:05.445397Z"
    },
    "tags": []
   },
   "outputs": [
    {
     "data": {
      "application/vnd.jupyter.widget-view+json": {
       "model_id": "",
       "version_major": 2,
       "version_minor": 0
      },
      "text/plain": [
       "FloatProgress(value=0.0, bar_style='info', description='Progress:', layout=Layout(height='25px', width='50%'),…"
      ]
     },
     "metadata": {},
     "output_type": "display_data"
    },
    {
     "data": {
      "text/html": [
       "<style>.jp-OutputArea-child .jupyter-widgets.jp-OutputArea-output { overflow: auto; }</style>"
      ],
      "text/plain": [
       "<IPython.core.display.HTML object>"
      ]
     },
     "metadata": {},
     "output_type": "display_data"
    },
    {
     "data": {
      "application/vnd.jupyter.widget-view+json": {
       "model_id": "58ff58e9a21443b28a4238e6cb1346d4",
       "version_major": 2,
       "version_minor": 0
      },
      "text/plain": [
       "VBox(children=(HBox(), EncodingWidget(children=(VBox(children=(HTML(value='Encoding:'), Dropdown(description='…"
      ]
     },
     "metadata": {},
     "output_type": "display_data"
    },
    {
     "data": {
      "application/vnd.jupyter.widget-view+json": {
       "model_id": "d5b22ef953734e15b4f1e5359ea2c71f",
       "version_major": 2,
       "version_minor": 0
      },
      "text/plain": [
       "Output()"
      ]
     },
     "metadata": {},
     "output_type": "display_data"
    }
   ],
   "source": [
    "%%sql\n",
    "update\n",
    "    ${TABLE_NAME}\n",
    "set             \n",
    "    review_body = concat(uuid(),uuid(),uuid(),uuid(),uuid(),uuid(),uuid(),uuid(),uuid(),uuid()),\n",
    "    timestamp = unix_timestamp(current_timestamp())\n",
    "where\n",
    "    review_date = '1999-01-02'\n",
    ";"
   ]
  },
  {
   "cell_type": "code",
   "execution_count": 22,
   "id": "f4ab5e65-8a0a-4b0b-ae18-13135f7b757f",
   "metadata": {
    "execution": {
     "iopub.execute_input": "2023-03-10T12:57:40.919080Z",
     "iopub.status.busy": "2023-03-10T12:57:40.918828Z",
     "iopub.status.idle": "2023-03-10T12:58:04.060296Z",
     "shell.execute_reply": "2023-03-10T12:58:04.059487Z",
     "shell.execute_reply.started": "2023-03-10T12:57:40.919056Z"
    },
    "tags": []
   },
   "outputs": [
    {
     "name": "stdout",
     "output_type": "stream",
     "text": [
      "\n",
      "[ TIMELINE ]\n",
      "\n",
      "╔═════╤═══════════════════╤═════════════╤═══════════╤═════════════╤═════════════╤═════════════╗\n",
      "║ No. │ Instant           │ Action      │ State     │ Requested   │ Inflight    │ Completed   ║\n",
      "║     │                   │             │           │ Time        │ Time        │ Time        ║\n",
      "╠═════╪═══════════════════╪═════════════╪═══════════╪═════════════╪═════════════╪═════════════╣\n",
      "║ 0   │ 20230310125522704 │ deltacommit │ COMPLETED │ 03-10 12:55 │ 03-10 12:55 │ 03-10 12:55 ║\n",
      "╟─────┼───────────────────┼─────────────┼───────────┼─────────────┼─────────────┼─────────────╢\n",
      "║ 1   │ 20230310125624734 │ deltacommit │ COMPLETED │ 03-10 12:56 │ 03-10 12:56 │ 03-10 12:56 ║\n",
      "╟─────┼───────────────────┼─────────────┼───────────┼─────────────┼─────────────┼─────────────╢\n",
      "║ 2   │ 20230310125706103 │ deltacommit │ COMPLETED │ 03-10 12:57 │ 03-10 12:57 │ 03-10 12:57 ║\n",
      "╟─────┼───────────────────┼─────────────┼───────────┼─────────────┼─────────────┼─────────────╢\n",
      "║ 3   │ 20230310125720044 │ commit      │ COMPLETED │ 03-10 12:57 │ 03-10 12:57 │ 03-10 12:57 ║\n",
      "╚═════╧═══════════════════╧═════════════╧═══════════╧═════════════╧═════════════╧═════════════╝\n",
      "\n",
      "[ COMMITS ]\n",
      "\n",
      "╔═══════════════════╤═════════════════════╤═══════════════════╤═════════════════════╤══════════════════════════╤═══════════════════════╤══════════════════════════════╤══════════════╗\n",
      "║ CommitTime        │ Total Bytes Written │ Total Files Added │ Total Files Updated │ Total Partitions Written │ Total Records Written │ Total Update Records Written │ Total Errors ║\n",
      "╠═══════════════════╪═════════════════════╪═══════════════════╪═════════════════════╪══════════════════════════╪═══════════════════════╪══════════════════════════════╪══════════════╣\n",
      "║ 20230310125720044 │ 81.5 MB             │ 0                 │ 2                   │ 2                        │ 484469                │ 1627                         │ 0            ║\n",
      "╟───────────────────┼─────────────────────┼───────────────────┼─────────────────────┼──────────────────────────┼───────────────────────┼──────────────────────────────┼──────────────╢\n",
      "║ 20230310125706103 │ 503.6 KB            │ 0                 │ 2                   │ 2                        │ 926                   │ 926                          │ 0            ║\n",
      "╟───────────────────┼─────────────────────┼───────────────────┼─────────────────────┼──────────────────────────┼───────────────────────┼──────────────────────────────┼──────────────╢\n",
      "║ 20230310125624734 │ 381.2 KB            │ 0                 │ 2                   │ 2                        │ 701                   │ 701                          │ 0            ║\n",
      "╟───────────────────┼─────────────────────┼───────────────────┼─────────────────────┼──────────────────────────┼───────────────────────┼──────────────────────────────┼──────────────╢\n",
      "║ 20230310125522704 │ 81.3 MB             │ 2                 │ 0                   │ 2                        │ 484469                │ 0                            │ 0            ║\n",
      "╚═══════════════════╧═════════════════════╧═══════════════════╧═════════════════════╧══════════════════════════╧═══════════════════════╧══════════════════════════════╧══════════════╝\n",
      "\n",
      "[ COMPACTIONS ]\n",
      "\n",
      "╔═════════════════════════╤═══════════╤═══════════════════════════════╗\n",
      "║ Compaction Instant Time │ State     │ Total FileIds to be Compacted ║\n",
      "╠═════════════════════════╪═══════════╪═══════════════════════════════╣\n",
      "║ 20230310125720044       │ COMPLETED │ 2                             ║\n",
      "╚═════════════════════════╧═══════════╧═══════════════════════════════╝\n",
      "\n",
      "[ STORAGE ]\n",
      "\n",
      "/home/emr-notebook/reviews_mor_1\n",
      "├── [ 82M 12:58:03]  parity=0\n",
      "│   ├── [177K 12:56:33]  .c2dd86f1-9c7b-49d5-a98c-6396282a6361-0_20230310125522704.log.1_0-95-898\n",
      "│   ├── [252K 12:57:14]  .c2dd86f1-9c7b-49d5-a98c-6396282a6361-0_20230310125522704.log.2_0-143-959\n",
      "│   ├── [ 41M 12:55:49]  c2dd86f1-9c7b-49d5-a98c-6396282a6361-0_0-47-837_20230310125522704.parquet\n",
      "│   └── [ 41M 12:57:33]  c2dd86f1-9c7b-49d5-a98c-6396282a6361-0_1-166-981_20230310125720044.parquet\n",
      "└── [ 82M 12:58:03]  parity=1\n",
      "    ├── [204K 12:56:33]  .8245ccff-c797-4985-9cfd-8b175a3e1952-0_20230310125522704.log.1_1-95-899\n",
      "    ├── [251K 12:57:14]  .8245ccff-c797-4985-9cfd-8b175a3e1952-0_20230310125522704.log.2_1-143-960\n",
      "    ├── [ 41M 12:57:33]  8245ccff-c797-4985-9cfd-8b175a3e1952-0_0-166-980_20230310125720044.parquet\n",
      "    └── [ 41M 12:55:49]  8245ccff-c797-4985-9cfd-8b175a3e1952-0_1-47-838_20230310125522704.parquet\n",
      "\n",
      " 164M used in 2 directories, 8 files\n"
     ]
    }
   ],
   "source": [
    "%%sh\n",
    "~/hudi-stat.sh s3://${S3_BUCKET}/${TABLE_NAME} timeline commits compactions storage"
   ]
  },
  {
   "cell_type": "markdown",
   "id": "90ea7cdb-10a6-482e-9525-0eed588a7e68",
   "metadata": {
    "tags": []
   },
   "source": [
    "### 2.8. Update 258KB / +1 Log File"
   ]
  },
  {
   "cell_type": "code",
   "execution_count": 23,
   "id": "a1f696c6-9bae-4a4f-a1a1-a1be36c2d04b",
   "metadata": {
    "execution": {
     "iopub.execute_input": "2023-03-10T12:58:04.061761Z",
     "iopub.status.busy": "2023-03-10T12:58:04.061515Z",
     "iopub.status.idle": "2023-03-10T12:58:21.469082Z",
     "shell.execute_reply": "2023-03-10T12:58:21.467860Z",
     "shell.execute_reply.started": "2023-03-10T12:58:04.061735Z"
    },
    "tags": []
   },
   "outputs": [
    {
     "data": {
      "application/vnd.jupyter.widget-view+json": {
       "model_id": "",
       "version_major": 2,
       "version_minor": 0
      },
      "text/plain": [
       "FloatProgress(value=0.0, bar_style='info', description='Progress:', layout=Layout(height='25px', width='50%'),…"
      ]
     },
     "metadata": {},
     "output_type": "display_data"
    },
    {
     "data": {
      "text/html": [
       "<style>.jp-OutputArea-child .jupyter-widgets.jp-OutputArea-output { overflow: auto; }</style>"
      ],
      "text/plain": [
       "<IPython.core.display.HTML object>"
      ]
     },
     "metadata": {},
     "output_type": "display_data"
    },
    {
     "data": {
      "application/vnd.jupyter.widget-view+json": {
       "model_id": "59dabd394baf4b28bd8a920ab5cf9995",
       "version_major": 2,
       "version_minor": 0
      },
      "text/plain": [
       "VBox(children=(HBox(), EncodingWidget(children=(VBox(children=(HTML(value='Encoding:'), Dropdown(description='…"
      ]
     },
     "metadata": {},
     "output_type": "display_data"
    },
    {
     "data": {
      "application/vnd.jupyter.widget-view+json": {
       "model_id": "5d52aa7dad024ec4b0414257a4af55a9",
       "version_major": 2,
       "version_minor": 0
      },
      "text/plain": [
       "Output()"
      ]
     },
     "metadata": {},
     "output_type": "display_data"
    }
   ],
   "source": [
    "%%sql\n",
    "update\n",
    "    ${TABLE_NAME}\n",
    "set             \n",
    "    review_body = concat(uuid(),uuid(),uuid(),uuid(),uuid(),uuid(),uuid(),uuid(),uuid(),uuid()),\n",
    "    timestamp = unix_timestamp(current_timestamp())\n",
    "where\n",
    "    review_date = '1999-01-03'\n",
    ";"
   ]
  },
  {
   "cell_type": "code",
   "execution_count": 24,
   "id": "44a8434a-45ac-431b-9e0d-303df8682267",
   "metadata": {
    "execution": {
     "iopub.execute_input": "2023-03-10T12:58:21.470914Z",
     "iopub.status.busy": "2023-03-10T12:58:21.470421Z",
     "iopub.status.idle": "2023-03-10T12:58:44.063807Z",
     "shell.execute_reply": "2023-03-10T12:58:44.062947Z",
     "shell.execute_reply.started": "2023-03-10T12:58:21.470877Z"
    },
    "tags": []
   },
   "outputs": [
    {
     "name": "stdout",
     "output_type": "stream",
     "text": [
      "\n",
      "[ TIMELINE ]\n",
      "\n",
      "╔═════╤═══════════════════╤═════════════╤═══════════╤═════════════╤═════════════╤═════════════╗\n",
      "║ No. │ Instant           │ Action      │ State     │ Requested   │ Inflight    │ Completed   ║\n",
      "║     │                   │             │           │ Time        │ Time        │ Time        ║\n",
      "╠═════╪═══════════════════╪═════════════╪═══════════╪═════════════╪═════════════╪═════════════╣\n",
      "║ 0   │ 20230310125522704 │ deltacommit │ COMPLETED │ 03-10 12:55 │ 03-10 12:55 │ 03-10 12:55 ║\n",
      "╟─────┼───────────────────┼─────────────┼───────────┼─────────────┼─────────────┼─────────────╢\n",
      "║ 1   │ 20230310125624734 │ deltacommit │ COMPLETED │ 03-10 12:56 │ 03-10 12:56 │ 03-10 12:56 ║\n",
      "╟─────┼───────────────────┼─────────────┼───────────┼─────────────┼─────────────┼─────────────╢\n",
      "║ 2   │ 20230310125706103 │ deltacommit │ COMPLETED │ 03-10 12:57 │ 03-10 12:57 │ 03-10 12:57 ║\n",
      "╟─────┼───────────────────┼─────────────┼───────────┼─────────────┼─────────────┼─────────────╢\n",
      "║ 3   │ 20230310125720044 │ commit      │ COMPLETED │ 03-10 12:57 │ 03-10 12:57 │ 03-10 12:57 ║\n",
      "╟─────┼───────────────────┼─────────────┼───────────┼─────────────┼─────────────┼─────────────╢\n",
      "║ 4   │ 20230310125804723 │ deltacommit │ COMPLETED │ 03-10 12:58 │ 03-10 12:58 │ 03-10 12:58 ║\n",
      "╚═════╧═══════════════════╧═════════════╧═══════════╧═════════════╧═════════════╧═════════════╝\n",
      "\n",
      "[ COMMITS ]\n",
      "\n",
      "╔═══════════════════╤═════════════════════╤═══════════════════╤═════════════════════╤══════════════════════════╤═══════════════════════╤══════════════════════════════╤══════════════╗\n",
      "║ CommitTime        │ Total Bytes Written │ Total Files Added │ Total Files Updated │ Total Partitions Written │ Total Records Written │ Total Update Records Written │ Total Errors ║\n",
      "╠═══════════════════╪═════════════════════╪═══════════════════╪═════════════════════╪══════════════════════════╪═══════════════════════╪══════════════════════════════╪══════════════╣\n",
      "║ 20230310125804723 │ 522.3 KB            │ 0                 │ 2                   │ 2                        │ 960                   │ 960                          │ 0            ║\n",
      "╟───────────────────┼─────────────────────┼───────────────────┼─────────────────────┼──────────────────────────┼───────────────────────┼──────────────────────────────┼──────────────╢\n",
      "║ 20230310125720044 │ 81.5 MB             │ 0                 │ 2                   │ 2                        │ 484469                │ 1627                         │ 0            ║\n",
      "╟───────────────────┼─────────────────────┼───────────────────┼─────────────────────┼──────────────────────────┼───────────────────────┼──────────────────────────────┼──────────────╢\n",
      "║ 20230310125706103 │ 503.6 KB            │ 0                 │ 2                   │ 2                        │ 926                   │ 926                          │ 0            ║\n",
      "╟───────────────────┼─────────────────────┼───────────────────┼─────────────────────┼──────────────────────────┼───────────────────────┼──────────────────────────────┼──────────────╢\n",
      "║ 20230310125624734 │ 381.2 KB            │ 0                 │ 2                   │ 2                        │ 701                   │ 701                          │ 0            ║\n",
      "╟───────────────────┼─────────────────────┼───────────────────┼─────────────────────┼──────────────────────────┼───────────────────────┼──────────────────────────────┼──────────────╢\n",
      "║ 20230310125522704 │ 81.3 MB             │ 2                 │ 0                   │ 2                        │ 484469                │ 0                            │ 0            ║\n",
      "╚═══════════════════╧═════════════════════╧═══════════════════╧═════════════════════╧══════════════════════════╧═══════════════════════╧══════════════════════════════╧══════════════╝\n",
      "\n",
      "[ COMPACTIONS ]\n",
      "\n",
      "╔═════════════════════════╤═══════════╤═══════════════════════════════╗\n",
      "║ Compaction Instant Time │ State     │ Total FileIds to be Compacted ║\n",
      "╠═════════════════════════╪═══════════╪═══════════════════════════════╣\n",
      "║ 20230310125720044       │ COMPLETED │ 2                             ║\n",
      "╚═════════════════════════╧═══════════╧═══════════════════════════════╝\n",
      "\n",
      "[ STORAGE ]\n",
      "\n",
      "/home/emr-notebook/reviews_mor_1\n",
      "├── [ 82M 12:58:43]  parity=0\n",
      "│   ├── [177K 12:56:33]  .c2dd86f1-9c7b-49d5-a98c-6396282a6361-0_20230310125522704.log.1_0-95-898\n",
      "│   ├── [252K 12:57:14]  .c2dd86f1-9c7b-49d5-a98c-6396282a6361-0_20230310125522704.log.2_0-143-959\n",
      "│   ├── [258K 12:58:12]  .c2dd86f1-9c7b-49d5-a98c-6396282a6361-0_20230310125720044.log.1_0-208-1039\n",
      "│   ├── [ 41M 12:55:49]  c2dd86f1-9c7b-49d5-a98c-6396282a6361-0_0-47-837_20230310125522704.parquet\n",
      "│   └── [ 41M 12:57:33]  c2dd86f1-9c7b-49d5-a98c-6396282a6361-0_1-166-981_20230310125720044.parquet\n",
      "└── [ 82M 12:58:43]  parity=1\n",
      "    ├── [204K 12:56:33]  .8245ccff-c797-4985-9cfd-8b175a3e1952-0_20230310125522704.log.1_1-95-899\n",
      "    ├── [251K 12:57:14]  .8245ccff-c797-4985-9cfd-8b175a3e1952-0_20230310125522704.log.2_1-143-960\n",
      "    ├── [264K 12:58:12]  .8245ccff-c797-4985-9cfd-8b175a3e1952-0_20230310125720044.log.1_1-208-1040\n",
      "    ├── [ 41M 12:57:33]  8245ccff-c797-4985-9cfd-8b175a3e1952-0_0-166-980_20230310125720044.parquet\n",
      "    └── [ 41M 12:55:49]  8245ccff-c797-4985-9cfd-8b175a3e1952-0_1-47-838_20230310125522704.parquet\n",
      "\n",
      " 164M used in 2 directories, 10 files\n"
     ]
    }
   ],
   "source": [
    "%%sh\n",
    "~/hudi-stat.sh s3://${S3_BUCKET}/${TABLE_NAME} timeline commits compactions storage"
   ]
  },
  {
   "cell_type": "markdown",
   "id": "aaa7ad38-2252-43c7-a25f-91537591b6bb",
   "metadata": {
    "tags": []
   },
   "source": [
    "### 2.9. Update 280KB / +1 Log File"
   ]
  },
  {
   "cell_type": "code",
   "execution_count": 25,
   "id": "8f772f05-b358-4547-916e-9d491f64767d",
   "metadata": {
    "execution": {
     "iopub.execute_input": "2023-03-10T12:58:44.065637Z",
     "iopub.status.busy": "2023-03-10T12:58:44.065292Z",
     "iopub.status.idle": "2023-03-10T12:59:03.550045Z",
     "shell.execute_reply": "2023-03-10T12:59:03.549184Z",
     "shell.execute_reply.started": "2023-03-10T12:58:44.065597Z"
    },
    "tags": []
   },
   "outputs": [
    {
     "data": {
      "application/vnd.jupyter.widget-view+json": {
       "model_id": "",
       "version_major": 2,
       "version_minor": 0
      },
      "text/plain": [
       "FloatProgress(value=0.0, bar_style='info', description='Progress:', layout=Layout(height='25px', width='50%'),…"
      ]
     },
     "metadata": {},
     "output_type": "display_data"
    },
    {
     "data": {
      "text/html": [
       "<style>.jp-OutputArea-child .jupyter-widgets.jp-OutputArea-output { overflow: auto; }</style>"
      ],
      "text/plain": [
       "<IPython.core.display.HTML object>"
      ]
     },
     "metadata": {},
     "output_type": "display_data"
    },
    {
     "data": {
      "application/vnd.jupyter.widget-view+json": {
       "model_id": "b8383eb096c746d98b3fcd9d2c85e9e3",
       "version_major": 2,
       "version_minor": 0
      },
      "text/plain": [
       "VBox(children=(HBox(), EncodingWidget(children=(VBox(children=(HTML(value='Encoding:'), Dropdown(description='…"
      ]
     },
     "metadata": {},
     "output_type": "display_data"
    },
    {
     "data": {
      "application/vnd.jupyter.widget-view+json": {
       "model_id": "d25ad2cd2ed34e9c954a05eba7b50f45",
       "version_major": 2,
       "version_minor": 0
      },
      "text/plain": [
       "Output()"
      ]
     },
     "metadata": {},
     "output_type": "display_data"
    }
   ],
   "source": [
    "%%sql\n",
    "update\n",
    "    ${TABLE_NAME}\n",
    "set             \n",
    "    review_body = concat(uuid(),uuid(),uuid(),uuid(),uuid(),uuid(),uuid(),uuid(),uuid(),uuid()),\n",
    "    timestamp = unix_timestamp(current_timestamp())\n",
    "where\n",
    "    review_date = '1999-01-04'\n",
    ";"
   ]
  },
  {
   "cell_type": "code",
   "execution_count": 26,
   "id": "dc06252d-c797-4b50-a926-76bca02d3f2d",
   "metadata": {
    "execution": {
     "iopub.execute_input": "2023-03-10T12:59:03.551401Z",
     "iopub.status.busy": "2023-03-10T12:59:03.551119Z",
     "iopub.status.idle": "2023-03-10T12:59:27.162704Z",
     "shell.execute_reply": "2023-03-10T12:59:27.161886Z",
     "shell.execute_reply.started": "2023-03-10T12:59:03.551377Z"
    },
    "tags": []
   },
   "outputs": [
    {
     "name": "stdout",
     "output_type": "stream",
     "text": [
      "\n",
      "[ TIMELINE ]\n",
      "\n",
      "╔═════╤═══════════════════╤═════════════╤═══════════╤═════════════╤═════════════╤═════════════╗\n",
      "║ No. │ Instant           │ Action      │ State     │ Requested   │ Inflight    │ Completed   ║\n",
      "║     │                   │             │           │ Time        │ Time        │ Time        ║\n",
      "╠═════╪═══════════════════╪═════════════╪═══════════╪═════════════╪═════════════╪═════════════╣\n",
      "║ 0   │ 20230310125522704 │ deltacommit │ COMPLETED │ 03-10 12:55 │ 03-10 12:55 │ 03-10 12:55 ║\n",
      "╟─────┼───────────────────┼─────────────┼───────────┼─────────────┼─────────────┼─────────────╢\n",
      "║ 1   │ 20230310125624734 │ deltacommit │ COMPLETED │ 03-10 12:56 │ 03-10 12:56 │ 03-10 12:56 ║\n",
      "╟─────┼───────────────────┼─────────────┼───────────┼─────────────┼─────────────┼─────────────╢\n",
      "║ 2   │ 20230310125706103 │ deltacommit │ COMPLETED │ 03-10 12:57 │ 03-10 12:57 │ 03-10 12:57 ║\n",
      "╟─────┼───────────────────┼─────────────┼───────────┼─────────────┼─────────────┼─────────────╢\n",
      "║ 3   │ 20230310125720044 │ commit      │ COMPLETED │ 03-10 12:57 │ 03-10 12:57 │ 03-10 12:57 ║\n",
      "╟─────┼───────────────────┼─────────────┼───────────┼─────────────┼─────────────┼─────────────╢\n",
      "║ 4   │ 20230310125804723 │ deltacommit │ COMPLETED │ 03-10 12:58 │ 03-10 12:58 │ 03-10 12:58 ║\n",
      "╟─────┼───────────────────┼─────────────┼───────────┼─────────────┼─────────────┼─────────────╢\n",
      "║ 5   │ 20230310125844881 │ deltacommit │ COMPLETED │ 03-10 12:58 │ 03-10 12:58 │ 03-10 12:58 ║\n",
      "╚═════╧═══════════════════╧═════════════╧═══════════╧═════════════╧═════════════╧═════════════╝\n",
      "\n",
      "[ COMMITS ]\n",
      "\n",
      "╔═══════════════════╤═════════════════════╤═══════════════════╤═════════════════════╤══════════════════════════╤═══════════════════════╤══════════════════════════════╤══════════════╗\n",
      "║ CommitTime        │ Total Bytes Written │ Total Files Added │ Total Files Updated │ Total Partitions Written │ Total Records Written │ Total Update Records Written │ Total Errors ║\n",
      "╠═══════════════════╪═════════════════════╪═══════════════════╪═════════════════════╪══════════════════════════╪═══════════════════════╪══════════════════════════════╪══════════════╣\n",
      "║ 20230310125844881 │ 572.2 KB            │ 0                 │ 2                   │ 2                        │ 1052                  │ 1052                         │ 0            ║\n",
      "╟───────────────────┼─────────────────────┼───────────────────┼─────────────────────┼──────────────────────────┼───────────────────────┼──────────────────────────────┼──────────────╢\n",
      "║ 20230310125804723 │ 522.3 KB            │ 0                 │ 2                   │ 2                        │ 960                   │ 960                          │ 0            ║\n",
      "╟───────────────────┼─────────────────────┼───────────────────┼─────────────────────┼──────────────────────────┼───────────────────────┼──────────────────────────────┼──────────────╢\n",
      "║ 20230310125720044 │ 81.5 MB             │ 0                 │ 2                   │ 2                        │ 484469                │ 1627                         │ 0            ║\n",
      "╟───────────────────┼─────────────────────┼───────────────────┼─────────────────────┼──────────────────────────┼───────────────────────┼──────────────────────────────┼──────────────╢\n",
      "║ 20230310125706103 │ 503.6 KB            │ 0                 │ 2                   │ 2                        │ 926                   │ 926                          │ 0            ║\n",
      "╟───────────────────┼─────────────────────┼───────────────────┼─────────────────────┼──────────────────────────┼───────────────────────┼──────────────────────────────┼──────────────╢\n",
      "║ 20230310125624734 │ 381.2 KB            │ 0                 │ 2                   │ 2                        │ 701                   │ 701                          │ 0            ║\n",
      "╟───────────────────┼─────────────────────┼───────────────────┼─────────────────────┼──────────────────────────┼───────────────────────┼──────────────────────────────┼──────────────╢\n",
      "║ 20230310125522704 │ 81.3 MB             │ 2                 │ 0                   │ 2                        │ 484469                │ 0                            │ 0            ║\n",
      "╚═══════════════════╧═════════════════════╧═══════════════════╧═════════════════════╧══════════════════════════╧═══════════════════════╧══════════════════════════════╧══════════════╝\n",
      "\n",
      "[ COMPACTIONS ]\n",
      "\n",
      "╔═════════════════════════╤═══════════╤═══════════════════════════════╗\n",
      "║ Compaction Instant Time │ State     │ Total FileIds to be Compacted ║\n",
      "╠═════════════════════════╪═══════════╪═══════════════════════════════╣\n",
      "║ 20230310125720044       │ COMPLETED │ 2                             ║\n",
      "╚═════════════════════════╧═══════════╧═══════════════════════════════╝\n",
      "\n",
      "[ STORAGE ]\n",
      "\n",
      "/home/emr-notebook/reviews_mor_1\n",
      "├── [ 82M 12:59:27]  parity=0\n",
      "│   ├── [177K 12:56:33]  .c2dd86f1-9c7b-49d5-a98c-6396282a6361-0_20230310125522704.log.1_0-95-898\n",
      "│   ├── [252K 12:57:14]  .c2dd86f1-9c7b-49d5-a98c-6396282a6361-0_20230310125522704.log.2_0-143-959\n",
      "│   ├── [258K 12:58:12]  .c2dd86f1-9c7b-49d5-a98c-6396282a6361-0_20230310125720044.log.1_0-208-1039\n",
      "│   ├── [280K 12:58:53]  .c2dd86f1-9c7b-49d5-a98c-6396282a6361-0_20230310125720044.log.2_0-259-1104\n",
      "│   ├── [ 41M 12:55:49]  c2dd86f1-9c7b-49d5-a98c-6396282a6361-0_0-47-837_20230310125522704.parquet\n",
      "│   └── [ 41M 12:57:33]  c2dd86f1-9c7b-49d5-a98c-6396282a6361-0_1-166-981_20230310125720044.parquet\n",
      "└── [ 82M 12:59:27]  parity=1\n",
      "    ├── [204K 12:56:33]  .8245ccff-c797-4985-9cfd-8b175a3e1952-0_20230310125522704.log.1_1-95-899\n",
      "    ├── [251K 12:57:14]  .8245ccff-c797-4985-9cfd-8b175a3e1952-0_20230310125522704.log.2_1-143-960\n",
      "    ├── [264K 12:58:12]  .8245ccff-c797-4985-9cfd-8b175a3e1952-0_20230310125720044.log.1_1-208-1040\n",
      "    ├── [293K 12:58:53]  .8245ccff-c797-4985-9cfd-8b175a3e1952-0_20230310125720044.log.2_1-259-1105\n",
      "    ├── [ 41M 12:57:33]  8245ccff-c797-4985-9cfd-8b175a3e1952-0_0-166-980_20230310125720044.parquet\n",
      "    └── [ 41M 12:55:49]  8245ccff-c797-4985-9cfd-8b175a3e1952-0_1-47-838_20230310125522704.parquet\n",
      "\n",
      " 165M used in 2 directories, 12 files\n"
     ]
    }
   ],
   "source": [
    "%%sh\n",
    "~/hudi-stat.sh s3://${S3_BUCKET}/${TABLE_NAME} timeline commits compactions storage"
   ]
  },
  {
   "cell_type": "markdown",
   "id": "55444eec-8bca-40a6-9e55-93b01a62b14b",
   "metadata": {
    "tags": []
   },
   "source": [
    "## 3. Test Case 2 - Async Compaction: Inline Schedule + Offline Execute"
   ]
  },
  {
   "cell_type": "markdown",
   "id": "9ff3a295-839b-4751-9b14-d9ddebc637ed",
   "metadata": {
    "tags": []
   },
   "source": [
    "### 3.1. Create Table"
   ]
  },
  {
   "cell_type": "code",
   "execution_count": 27,
   "id": "d97867de-c62b-423f-9c89-623c75c3458c",
   "metadata": {
    "execution": {
     "iopub.execute_input": "2023-03-10T12:59:27.164745Z",
     "iopub.status.busy": "2023-03-10T12:59:27.164382Z",
     "iopub.status.idle": "2023-03-10T12:59:28.101607Z",
     "shell.execute_reply": "2023-03-10T12:59:28.100650Z",
     "shell.execute_reply.started": "2023-03-10T12:59:27.164705Z"
    },
    "tags": []
   },
   "outputs": [
    {
     "data": {
      "application/vnd.jupyter.widget-view+json": {
       "model_id": "",
       "version_major": 2,
       "version_minor": 0
      },
      "text/plain": [
       "FloatProgress(value=0.0, bar_style='info', description='Progress:', layout=Layout(height='25px', width='50%'),…"
      ]
     },
     "metadata": {},
     "output_type": "display_data"
    },
    {
     "data": {
      "text/html": [
       "<style>.jp-OutputArea-child .jupyter-widgets.jp-OutputArea-output { overflow: auto; }</style>"
      ],
      "text/plain": [
       "<IPython.core.display.HTML object>"
      ]
     },
     "metadata": {},
     "output_type": "display_data"
    },
    {
     "data": {
      "application/vnd.jupyter.widget-view+json": {
       "model_id": "c460bba697524f35a4190ec7307d35aa",
       "version_major": 2,
       "version_minor": 0
      },
      "text/plain": [
       "VBox(children=(HBox(children=(HTML(value='Type:'), Button(description='Table', layout=Layout(width='70px'), st…"
      ]
     },
     "metadata": {},
     "output_type": "display_data"
    },
    {
     "data": {
      "application/vnd.jupyter.widget-view+json": {
       "model_id": "812fb2d570ed48c6afd1af92e6b69d9d",
       "version_major": 2,
       "version_minor": 0
      },
      "text/plain": [
       "Output()"
      ]
     },
     "metadata": {},
     "output_type": "display_data"
    }
   ],
   "source": [
    "%%sql\n",
    "set TABLE_NAME=reviews_mor_2"
   ]
  },
  {
   "cell_type": "code",
   "execution_count": 28,
   "id": "8ce23c59-3a01-47e1-a5e8-6cf818928899",
   "metadata": {
    "execution": {
     "iopub.execute_input": "2023-03-10T12:59:28.103523Z",
     "iopub.status.busy": "2023-03-10T12:59:28.103131Z",
     "iopub.status.idle": "2023-03-10T12:59:28.570100Z",
     "shell.execute_reply": "2023-03-10T12:59:28.569437Z",
     "shell.execute_reply.started": "2023-03-10T12:59:28.103484Z"
    },
    "tags": []
   },
   "outputs": [
    {
     "data": {
      "application/vnd.jupyter.widget-view+json": {
       "model_id": "",
       "version_major": 2,
       "version_minor": 0
      },
      "text/plain": [
       "FloatProgress(value=0.0, bar_style='info', description='Progress:', layout=Layout(height='25px', width='50%'),…"
      ]
     },
     "metadata": {},
     "output_type": "display_data"
    },
    {
     "data": {
      "text/html": [
       "<style>.jp-OutputArea-child .jupyter-widgets.jp-OutputArea-output { overflow: auto; }</style>"
      ],
      "text/plain": [
       "<IPython.core.display.HTML object>"
      ]
     },
     "metadata": {},
     "output_type": "display_data"
    },
    {
     "data": {
      "application/vnd.jupyter.widget-view+json": {
       "model_id": "92cba513c4a9413eb683016f73e8169a",
       "version_major": 2,
       "version_minor": 0
      },
      "text/plain": [
       "VBox(children=(HBox(children=(HTML(value='Type:'), Button(description='Table', layout=Layout(width='70px'), st…"
      ]
     },
     "metadata": {},
     "output_type": "display_data"
    },
    {
     "data": {
      "application/vnd.jupyter.widget-view+json": {
       "model_id": "6b565d7d11134084b87edb97c4158acf",
       "version_major": 2,
       "version_minor": 0
      },
      "text/plain": [
       "Output()"
      ]
     },
     "metadata": {},
     "output_type": "display_data"
    }
   ],
   "source": [
    "%%sql\n",
    "set TABLE_PATH=s3://glc-examples/hudi-core-conceptions/reviews_mor_2"
   ]
  },
  {
   "cell_type": "code",
   "execution_count": 29,
   "id": "0d950462-2d13-406b-b8c1-fee45fd924ff",
   "metadata": {
    "execution": {
     "iopub.execute_input": "2023-03-10T12:59:28.571353Z",
     "iopub.status.busy": "2023-03-10T12:59:28.571120Z",
     "iopub.status.idle": "2023-03-10T12:59:28.575625Z",
     "shell.execute_reply": "2023-03-10T12:59:28.574908Z",
     "shell.execute_reply.started": "2023-03-10T12:59:28.571331Z"
    },
    "tags": []
   },
   "outputs": [
    {
     "name": "stdout",
     "output_type": "stream",
     "text": [
      "env: TABLE_NAME=reviews_mor_2\n"
     ]
    }
   ],
   "source": [
    "%env TABLE_NAME=reviews_mor_2"
   ]
  },
  {
   "cell_type": "code",
   "execution_count": 30,
   "id": "710e5c45-6a5a-49b7-a967-54e1a90566ae",
   "metadata": {
    "execution": {
     "iopub.execute_input": "2023-03-10T12:59:28.577117Z",
     "iopub.status.busy": "2023-03-10T12:59:28.576833Z",
     "iopub.status.idle": "2023-03-10T12:59:28.581365Z",
     "shell.execute_reply": "2023-03-10T12:59:28.580705Z",
     "shell.execute_reply.started": "2023-03-10T12:59:28.577094Z"
    },
    "tags": []
   },
   "outputs": [
    {
     "name": "stdout",
     "output_type": "stream",
     "text": [
      "env: TABLE_PATH=s3://glc-examples/hudi-core-conceptions/reviews_mor_2\n"
     ]
    }
   ],
   "source": [
    "%env TABLE_PATH=s3://glc-examples/hudi-core-conceptions/reviews_mor_2"
   ]
  },
  {
   "cell_type": "code",
   "execution_count": 31,
   "id": "81d4cf3a-64d9-443c-a68d-00acb016023d",
   "metadata": {
    "execution": {
     "iopub.execute_input": "2023-03-10T12:59:28.582387Z",
     "iopub.status.busy": "2023-03-10T12:59:28.582176Z",
     "iopub.status.idle": "2023-03-10T12:59:32.460912Z",
     "shell.execute_reply": "2023-03-10T12:59:32.460103Z",
     "shell.execute_reply.started": "2023-03-10T12:59:28.582363Z"
    },
    "tags": []
   },
   "outputs": [
    {
     "name": "stdout",
     "output_type": "stream",
     "text": [
      "reviews_mor_2\n"
     ]
    }
   ],
   "source": [
    "%%sh\n",
    "echo $(basename s3://${S3_BUCKET}/${TABLE_NAME})\n",
    "aws s3 rm s3://${S3_BUCKET}/${TABLE_NAME} --recursive &>/dev/null\n",
    "rm -rf ~/${TABLE_NAME}\n",
    "sleep 3"
   ]
  },
  {
   "cell_type": "code",
   "execution_count": 32,
   "id": "908a5c32-cf70-4a38-8df2-7c43633cb278",
   "metadata": {
    "execution": {
     "iopub.execute_input": "2023-03-10T12:59:32.462595Z",
     "iopub.status.busy": "2023-03-10T12:59:32.462200Z",
     "iopub.status.idle": "2023-03-10T12:59:33.305375Z",
     "shell.execute_reply": "2023-03-10T12:59:33.304649Z",
     "shell.execute_reply.started": "2023-03-10T12:59:32.462561Z"
    },
    "tags": []
   },
   "outputs": [
    {
     "data": {
      "application/vnd.jupyter.widget-view+json": {
       "model_id": "",
       "version_major": 2,
       "version_minor": 0
      },
      "text/plain": [
       "FloatProgress(value=0.0, bar_style='info', description='Progress:', layout=Layout(height='25px', width='50%'),…"
      ]
     },
     "metadata": {},
     "output_type": "display_data"
    },
    {
     "data": {
      "text/html": [
       "<style>.jp-OutputArea-child .jupyter-widgets.jp-OutputArea-output { overflow: auto; }</style>"
      ],
      "text/plain": [
       "<IPython.core.display.HTML object>"
      ]
     },
     "metadata": {},
     "output_type": "display_data"
    },
    {
     "data": {
      "application/vnd.jupyter.widget-view+json": {
       "model_id": "fc2f9b1bd4454a26b05f69f6f9eee9b9",
       "version_major": 2,
       "version_minor": 0
      },
      "text/plain": [
       "VBox(children=(HBox(), EncodingWidget(children=(VBox(children=(HTML(value='Encoding:'), Dropdown(description='…"
      ]
     },
     "metadata": {},
     "output_type": "display_data"
    },
    {
     "data": {
      "application/vnd.jupyter.widget-view+json": {
       "model_id": "6a29cb5e37fa4fec83d9b3d89782352c",
       "version_major": 2,
       "version_minor": 0
      },
      "text/plain": [
       "Output()"
      ]
     },
     "metadata": {},
     "output_type": "display_data"
    }
   ],
   "source": [
    "%%sql\n",
    "drop table if exists ${TABLE_NAME}"
   ]
  },
  {
   "cell_type": "code",
   "execution_count": 33,
   "id": "26f33c28-05b3-42d8-b3dc-d874e950d577",
   "metadata": {
    "execution": {
     "iopub.execute_input": "2023-03-10T12:59:33.306684Z",
     "iopub.status.busy": "2023-03-10T12:59:33.306454Z",
     "iopub.status.idle": "2023-03-10T12:59:34.129270Z",
     "shell.execute_reply": "2023-03-10T12:59:34.128591Z",
     "shell.execute_reply.started": "2023-03-10T12:59:33.306662Z"
    },
    "tags": []
   },
   "outputs": [
    {
     "data": {
      "application/vnd.jupyter.widget-view+json": {
       "model_id": "",
       "version_major": 2,
       "version_minor": 0
      },
      "text/plain": [
       "FloatProgress(value=0.0, bar_style='info', description='Progress:', layout=Layout(height='25px', width='50%'),…"
      ]
     },
     "metadata": {},
     "output_type": "display_data"
    },
    {
     "data": {
      "text/html": [
       "<style>.jp-OutputArea-child .jupyter-widgets.jp-OutputArea-output { overflow: auto; }</style>"
      ],
      "text/plain": [
       "<IPython.core.display.HTML object>"
      ]
     },
     "metadata": {},
     "output_type": "display_data"
    },
    {
     "data": {
      "application/vnd.jupyter.widget-view+json": {
       "model_id": "8f005696ef654c728884dd64df0afada",
       "version_major": 2,
       "version_minor": 0
      },
      "text/plain": [
       "VBox(children=(HBox(), EncodingWidget(children=(VBox(children=(HTML(value='Encoding:'), Dropdown(description='…"
      ]
     },
     "metadata": {},
     "output_type": "display_data"
    },
    {
     "data": {
      "application/vnd.jupyter.widget-view+json": {
       "model_id": "4b7485f0f7864a7aab29cddabf6a4a45",
       "version_major": 2,
       "version_minor": 0
      },
      "text/plain": [
       "Output()"
      ]
     },
     "metadata": {},
     "output_type": "display_data"
    }
   ],
   "source": [
    "%%sql\n",
    "drop table if exists ${TABLE_NAME}_ro"
   ]
  },
  {
   "cell_type": "code",
   "execution_count": 34,
   "id": "83622006-a6fd-4b97-ab7d-e36940956928",
   "metadata": {
    "execution": {
     "iopub.execute_input": "2023-03-10T12:59:34.130503Z",
     "iopub.status.busy": "2023-03-10T12:59:34.130250Z",
     "iopub.status.idle": "2023-03-10T12:59:34.951155Z",
     "shell.execute_reply": "2023-03-10T12:59:34.950339Z",
     "shell.execute_reply.started": "2023-03-10T12:59:34.130481Z"
    },
    "tags": []
   },
   "outputs": [
    {
     "data": {
      "application/vnd.jupyter.widget-view+json": {
       "model_id": "",
       "version_major": 2,
       "version_minor": 0
      },
      "text/plain": [
       "FloatProgress(value=0.0, bar_style='info', description='Progress:', layout=Layout(height='25px', width='50%'),…"
      ]
     },
     "metadata": {},
     "output_type": "display_data"
    },
    {
     "data": {
      "text/html": [
       "<style>.jp-OutputArea-child .jupyter-widgets.jp-OutputArea-output { overflow: auto; }</style>"
      ],
      "text/plain": [
       "<IPython.core.display.HTML object>"
      ]
     },
     "metadata": {},
     "output_type": "display_data"
    },
    {
     "data": {
      "application/vnd.jupyter.widget-view+json": {
       "model_id": "9b6fb5abe6ba4a45b86c8d065a49ff49",
       "version_major": 2,
       "version_minor": 0
      },
      "text/plain": [
       "VBox(children=(HBox(), EncodingWidget(children=(VBox(children=(HTML(value='Encoding:'), Dropdown(description='…"
      ]
     },
     "metadata": {},
     "output_type": "display_data"
    },
    {
     "data": {
      "application/vnd.jupyter.widget-view+json": {
       "model_id": "46581c56c9bc47f79da71efb4e6318ca",
       "version_major": 2,
       "version_minor": 0
      },
      "text/plain": [
       "Output()"
      ]
     },
     "metadata": {},
     "output_type": "display_data"
    }
   ],
   "source": [
    "%%sql\n",
    "drop table if exists ${TABLE_NAME}_rt"
   ]
  },
  {
   "cell_type": "code",
   "execution_count": 35,
   "id": "494b711d-eff7-43ca-b816-47d8a6909a38",
   "metadata": {
    "execution": {
     "iopub.execute_input": "2023-03-10T12:59:34.952829Z",
     "iopub.status.busy": "2023-03-10T12:59:34.952473Z",
     "iopub.status.idle": "2023-03-10T12:59:37.282116Z",
     "shell.execute_reply": "2023-03-10T12:59:37.281286Z",
     "shell.execute_reply.started": "2023-03-10T12:59:34.952776Z"
    },
    "tags": []
   },
   "outputs": [
    {
     "data": {
      "application/vnd.jupyter.widget-view+json": {
       "model_id": "",
       "version_major": 2,
       "version_minor": 0
      },
      "text/plain": [
       "FloatProgress(value=0.0, bar_style='info', description='Progress:', layout=Layout(height='25px', width='50%'),…"
      ]
     },
     "metadata": {},
     "output_type": "display_data"
    },
    {
     "data": {
      "text/html": [
       "<style>.jp-OutputArea-child .jupyter-widgets.jp-OutputArea-output { overflow: auto; }</style>"
      ],
      "text/plain": [
       "<IPython.core.display.HTML object>"
      ]
     },
     "metadata": {},
     "output_type": "display_data"
    },
    {
     "data": {
      "application/vnd.jupyter.widget-view+json": {
       "model_id": "17c44999dec845d787c68801f0e7858a",
       "version_major": 2,
       "version_minor": 0
      },
      "text/plain": [
       "VBox(children=(HBox(), EncodingWidget(children=(VBox(children=(HTML(value='Encoding:'), Dropdown(description='…"
      ]
     },
     "metadata": {},
     "output_type": "display_data"
    },
    {
     "data": {
      "application/vnd.jupyter.widget-view+json": {
       "model_id": "1afcdfc2fe004d55beedad02b2c26cff",
       "version_major": 2,
       "version_minor": 0
      },
      "text/plain": [
       "Output()"
      ]
     },
     "metadata": {},
     "output_type": "display_data"
    }
   ],
   "source": [
    "%%sql\n",
    "create table if not exists ${TABLE_NAME} (\n",
    "    review_id string, \n",
    "    star_rating long, \n",
    "    review_body string, \n",
    "    review_date date, \n",
    "    year long,\n",
    "    timestamp long,\n",
    "    parity int\n",
    ")\n",
    "using hudi\n",
    "location 's3://${S3_BUCKET}/${TABLE_NAME}'\n",
    "partitioned by (parity)\n",
    "options ( \n",
    "    type = 'mor',  \n",
    "    primaryKey = 'review_id', \n",
    "    preCombineField = 'timestamp',\n",
    "    hoodie.copyonwrite.record.size.estimate = '175',\n",
    "    hoodie.compact.inline = 'false',\n",
    "    hoodie.compact.schedule.inline = 'true',\n",
    "    hoodie.compact.inline.max.delta.commits = '3'\n",
    ");"
   ]
  },
  {
   "cell_type": "markdown",
   "id": "a6291baf-6afd-4f6e-b56a-83dd5c613a8e",
   "metadata": {
    "tags": []
   },
   "source": [
    "### 3.2. Batch 1 - Insert"
   ]
  },
  {
   "cell_type": "code",
   "execution_count": 36,
   "id": "4d68bff7-e1db-46b5-8684-de53633dbf4e",
   "metadata": {
    "execution": {
     "iopub.execute_input": "2023-03-10T12:59:37.283713Z",
     "iopub.status.busy": "2023-03-10T12:59:37.283386Z",
     "iopub.status.idle": "2023-03-10T13:00:10.685255Z",
     "shell.execute_reply": "2023-03-10T13:00:10.684576Z",
     "shell.execute_reply.started": "2023-03-10T12:59:37.283678Z"
    },
    "tags": []
   },
   "outputs": [
    {
     "data": {
      "application/vnd.jupyter.widget-view+json": {
       "model_id": "",
       "version_major": 2,
       "version_minor": 0
      },
      "text/plain": [
       "FloatProgress(value=0.0, bar_style='info', description='Progress:', layout=Layout(height='25px', width='50%'),…"
      ]
     },
     "metadata": {},
     "output_type": "display_data"
    },
    {
     "data": {
      "text/html": [
       "<style>.jp-OutputArea-child .jupyter-widgets.jp-OutputArea-output { overflow: auto; }</style>"
      ],
      "text/plain": [
       "<IPython.core.display.HTML object>"
      ]
     },
     "metadata": {},
     "output_type": "display_data"
    },
    {
     "data": {
      "application/vnd.jupyter.widget-view+json": {
       "model_id": "7fbeb311f27f412d98b8e14b9d53050d",
       "version_major": 2,
       "version_minor": 0
      },
      "text/plain": [
       "VBox(children=(HBox(), EncodingWidget(children=(VBox(children=(HTML(value='Encoding:'), Dropdown(description='…"
      ]
     },
     "metadata": {},
     "output_type": "display_data"
    },
    {
     "data": {
      "application/vnd.jupyter.widget-view+json": {
       "model_id": "616b893df10b4fa993ba9968440001b1",
       "version_major": 2,
       "version_minor": 0
      },
      "text/plain": [
       "Output()"
      ]
     },
     "metadata": {},
     "output_type": "display_data"
    }
   ],
   "source": [
    "%%sql\n",
    "insert into \n",
    "    ${TABLE_NAME}\n",
    "select \n",
    "    review_id, \n",
    "    star_rating, \n",
    "    review_body, \n",
    "    review_date, \n",
    "    year,\n",
    "    unix_timestamp(current_timestamp()) as timestamp,\n",
    "    mod(crc32(review_id), 2) as parity\n",
    "from\n",
    "    reviews\n",
    "where\n",
    "    year = 1999"
   ]
  },
  {
   "cell_type": "code",
   "execution_count": 37,
   "id": "d8879b18-34e8-482f-8710-8776505e6f62",
   "metadata": {
    "execution": {
     "iopub.execute_input": "2023-03-10T13:00:10.686453Z",
     "iopub.status.busy": "2023-03-10T13:00:10.686228Z",
     "iopub.status.idle": "2023-03-10T13:00:33.408297Z",
     "shell.execute_reply": "2023-03-10T13:00:33.407282Z",
     "shell.execute_reply.started": "2023-03-10T13:00:10.686431Z"
    },
    "tags": []
   },
   "outputs": [
    {
     "name": "stdout",
     "output_type": "stream",
     "text": [
      "\n",
      "[ TIMELINE ]\n",
      "\n",
      "╔═════╤═══════════════════╤═════════════╤═══════════╤═════════════╤═════════════╤═════════════╗\n",
      "║ No. │ Instant           │ Action      │ State     │ Requested   │ Inflight    │ Completed   ║\n",
      "║     │                   │             │           │ Time        │ Time        │ Time        ║\n",
      "╠═════╪═══════════════════╪═════════════╪═══════════╪═════════════╪═════════════╪═════════════╣\n",
      "║ 0   │ 20230310125937816 │ deltacommit │ COMPLETED │ 03-10 12:59 │ 03-10 12:59 │ 03-10 13:00 ║\n",
      "╚═════╧═══════════════════╧═════════════╧═══════════╧═════════════╧═════════════╧═════════════╝\n",
      "\n",
      "[ COMMITS ]\n",
      "\n",
      "╔═══════════════════╤═════════════════════╤═══════════════════╤═════════════════════╤══════════════════════════╤═══════════════════════╤══════════════════════════════╤══════════════╗\n",
      "║ CommitTime        │ Total Bytes Written │ Total Files Added │ Total Files Updated │ Total Partitions Written │ Total Records Written │ Total Update Records Written │ Total Errors ║\n",
      "╠═══════════════════╪═════════════════════╪═══════════════════╪═════════════════════╪══════════════════════════╪═══════════════════════╪══════════════════════════════╪══════════════╣\n",
      "║ 20230310125937816 │ 81.3 MB             │ 2                 │ 0                   │ 2                        │ 484469                │ 0                            │ 0            ║\n",
      "╚═══════════════════╧═════════════════════╧═══════════════════╧═════════════════════╧══════════════════════════╧═══════════════════════╧══════════════════════════════╧══════════════╝\n",
      "\n",
      "[ COMPACTIONS ]\n",
      "\n",
      "╔═════════════════════════╤═══════╤═══════════════════════════════╗\n",
      "║ Compaction Instant Time │ State │ Total FileIds to be Compacted ║\n",
      "╠═════════════════════════╧═══════╧═══════════════════════════════╣\n",
      "║ (empty)                                                         ║\n",
      "╚═════════════════════════════════════════════════════════════════╝\n",
      "\n",
      "[ STORAGE ]\n",
      "\n",
      "/home/emr-notebook/reviews_mor_2\n",
      "├── [ 41M 13:00:33]  parity=0\n",
      "│   └── [ 41M 12:59:59]  6f53e9b9-1a6a-4a74-b266-19a874fe9feb-0_0-322-1819_20230310125937816.parquet\n",
      "└── [ 41M 13:00:33]  parity=1\n",
      "    └── [ 41M 12:59:59]  8916f00a-8b6b-4856-b79b-d31b5b22af5b-0_1-322-1820_20230310125937816.parquet\n",
      "\n",
      "  81M used in 2 directories, 2 files\n"
     ]
    }
   ],
   "source": [
    "%%sh\n",
    "~/hudi-stat.sh s3://${S3_BUCKET}/${TABLE_NAME} timeline commits compactions storage"
   ]
  },
  {
   "cell_type": "markdown",
   "id": "c37c027f-e63b-4387-9cf8-06eabd9055fe",
   "metadata": {
    "tags": []
   },
   "source": [
    "### 3.3. Batch 2 - Update"
   ]
  },
  {
   "cell_type": "code",
   "execution_count": 38,
   "id": "63a21ca1-826c-4201-9da0-66e7d2ee81ba",
   "metadata": {
    "execution": {
     "iopub.execute_input": "2023-03-10T13:00:33.410098Z",
     "iopub.status.busy": "2023-03-10T13:00:33.409758Z",
     "iopub.status.idle": "2023-03-10T13:00:50.987260Z",
     "shell.execute_reply": "2023-03-10T13:00:50.986583Z",
     "shell.execute_reply.started": "2023-03-10T13:00:33.410059Z"
    },
    "tags": []
   },
   "outputs": [
    {
     "data": {
      "application/vnd.jupyter.widget-view+json": {
       "model_id": "",
       "version_major": 2,
       "version_minor": 0
      },
      "text/plain": [
       "FloatProgress(value=0.0, bar_style='info', description='Progress:', layout=Layout(height='25px', width='50%'),…"
      ]
     },
     "metadata": {},
     "output_type": "display_data"
    },
    {
     "data": {
      "text/html": [
       "<style>.jp-OutputArea-child .jupyter-widgets.jp-OutputArea-output { overflow: auto; }</style>"
      ],
      "text/plain": [
       "<IPython.core.display.HTML object>"
      ]
     },
     "metadata": {},
     "output_type": "display_data"
    },
    {
     "data": {
      "application/vnd.jupyter.widget-view+json": {
       "model_id": "afa879ad062b4783a3d75ba42ecdcd9f",
       "version_major": 2,
       "version_minor": 0
      },
      "text/plain": [
       "VBox(children=(HBox(), EncodingWidget(children=(VBox(children=(HTML(value='Encoding:'), Dropdown(description='…"
      ]
     },
     "metadata": {},
     "output_type": "display_data"
    },
    {
     "data": {
      "application/vnd.jupyter.widget-view+json": {
       "model_id": "05383236c1314a2c8f59e3b7daa2594b",
       "version_major": 2,
       "version_minor": 0
      },
      "text/plain": [
       "Output()"
      ]
     },
     "metadata": {},
     "output_type": "display_data"
    }
   ],
   "source": [
    "%%sql\n",
    "-- 更新1999-01-01的评价\n",
    "update\n",
    "    ${TABLE_NAME}\n",
    "set             \n",
    "    review_body = concat(uuid(),uuid(),uuid(),uuid(),uuid(),uuid(),uuid(),uuid(),uuid(),uuid()),\n",
    "    timestamp = unix_timestamp(current_timestamp())\n",
    "where\n",
    "    review_date = '1999-01-01'\n",
    ";"
   ]
  },
  {
   "cell_type": "code",
   "execution_count": 39,
   "id": "8d6b87be-cbe8-4d32-aaa5-79903d878180",
   "metadata": {
    "execution": {
     "iopub.execute_input": "2023-03-10T13:00:50.988528Z",
     "iopub.status.busy": "2023-03-10T13:00:50.988308Z",
     "iopub.status.idle": "2023-03-10T13:01:11.888232Z",
     "shell.execute_reply": "2023-03-10T13:01:11.887334Z",
     "shell.execute_reply.started": "2023-03-10T13:00:50.988506Z"
    },
    "tags": []
   },
   "outputs": [
    {
     "name": "stdout",
     "output_type": "stream",
     "text": [
      "\n",
      "[ TIMELINE ]\n",
      "\n",
      "╔═════╤═══════════════════╤═════════════╤═══════════╤═════════════╤═════════════╤═════════════╗\n",
      "║ No. │ Instant           │ Action      │ State     │ Requested   │ Inflight    │ Completed   ║\n",
      "║     │                   │             │           │ Time        │ Time        │ Time        ║\n",
      "╠═════╪═══════════════════╪═════════════╪═══════════╪═════════════╪═════════════╪═════════════╣\n",
      "║ 0   │ 20230310125937816 │ deltacommit │ COMPLETED │ 03-10 12:59 │ 03-10 12:59 │ 03-10 13:00 ║\n",
      "╟─────┼───────────────────┼─────────────┼───────────┼─────────────┼─────────────┼─────────────╢\n",
      "║ 1   │ 20230310130033905 │ deltacommit │ COMPLETED │ 03-10 13:00 │ 03-10 13:00 │ 03-10 13:00 ║\n",
      "╚═════╧═══════════════════╧═════════════╧═══════════╧═════════════╧═════════════╧═════════════╝\n",
      "\n",
      "[ COMMITS ]\n",
      "\n",
      "╔═══════════════════╤═════════════════════╤═══════════════════╤═════════════════════╤══════════════════════════╤═══════════════════════╤══════════════════════════════╤══════════════╗\n",
      "║ CommitTime        │ Total Bytes Written │ Total Files Added │ Total Files Updated │ Total Partitions Written │ Total Records Written │ Total Update Records Written │ Total Errors ║\n",
      "╠═══════════════════╪═════════════════════╪═══════════════════╪═════════════════════╪══════════════════════════╪═══════════════════════╪══════════════════════════════╪══════════════╣\n",
      "║ 20230310130033905 │ 381.9 KB            │ 0                 │ 2                   │ 2                        │ 701                   │ 701                          │ 0            ║\n",
      "╟───────────────────┼─────────────────────┼───────────────────┼─────────────────────┼──────────────────────────┼───────────────────────┼──────────────────────────────┼──────────────╢\n",
      "║ 20230310125937816 │ 81.3 MB             │ 2                 │ 0                   │ 2                        │ 484469                │ 0                            │ 0            ║\n",
      "╚═══════════════════╧═════════════════════╧═══════════════════╧═════════════════════╧══════════════════════════╧═══════════════════════╧══════════════════════════════╧══════════════╝\n",
      "\n",
      "[ COMPACTIONS ]\n",
      "\n",
      "╔═════════════════════════╤═══════╤═══════════════════════════════╗\n",
      "║ Compaction Instant Time │ State │ Total FileIds to be Compacted ║\n",
      "╠═════════════════════════╧═══════╧═══════════════════════════════╣\n",
      "║ (empty)                                                         ║\n",
      "╚═════════════════════════════════════════════════════════════════╝\n",
      "\n",
      "[ STORAGE ]\n",
      "\n",
      "/home/emr-notebook/reviews_mor_2\n",
      "├── [ 41M 13:01:11]  parity=0\n",
      "│   ├── [178K 13:00:42]  .6f53e9b9-1a6a-4a74-b266-19a874fe9feb-0_20230310125937816.log.1_0-370-1880\n",
      "│   └── [ 41M 12:59:59]  6f53e9b9-1a6a-4a74-b266-19a874fe9feb-0_0-322-1819_20230310125937816.parquet\n",
      "└── [ 41M 13:01:11]  parity=1\n",
      "    ├── [204K 13:00:42]  .8916f00a-8b6b-4856-b79b-d31b5b22af5b-0_20230310125937816.log.1_1-370-1881\n",
      "    └── [ 41M 12:59:59]  8916f00a-8b6b-4856-b79b-d31b5b22af5b-0_1-322-1820_20230310125937816.parquet\n",
      "\n",
      "  82M used in 2 directories, 4 files\n"
     ]
    }
   ],
   "source": [
    "%%sh\n",
    "~/hudi-stat.sh s3://${S3_BUCKET}/${TABLE_NAME} timeline commits compactions storage"
   ]
  },
  {
   "cell_type": "markdown",
   "id": "bfa29f8c-33f3-4a74-b9e1-2ef66f5d7019",
   "metadata": {
    "tags": []
   },
   "source": [
    "### 3.4. Batch 3 - Update"
   ]
  },
  {
   "cell_type": "code",
   "execution_count": 40,
   "id": "cf852ac7-29b4-4b05-8cdc-4d8f41f801d5",
   "metadata": {
    "execution": {
     "iopub.execute_input": "2023-03-10T13:01:11.890036Z",
     "iopub.status.busy": "2023-03-10T13:01:11.889680Z",
     "iopub.status.idle": "2023-03-10T13:01:33.289946Z",
     "shell.execute_reply": "2023-03-10T13:01:33.289142Z",
     "shell.execute_reply.started": "2023-03-10T13:01:11.889996Z"
    },
    "tags": []
   },
   "outputs": [
    {
     "data": {
      "application/vnd.jupyter.widget-view+json": {
       "model_id": "",
       "version_major": 2,
       "version_minor": 0
      },
      "text/plain": [
       "FloatProgress(value=0.0, bar_style='info', description='Progress:', layout=Layout(height='25px', width='50%'),…"
      ]
     },
     "metadata": {},
     "output_type": "display_data"
    },
    {
     "data": {
      "text/html": [
       "<style>.jp-OutputArea-child .jupyter-widgets.jp-OutputArea-output { overflow: auto; }</style>"
      ],
      "text/plain": [
       "<IPython.core.display.HTML object>"
      ]
     },
     "metadata": {},
     "output_type": "display_data"
    },
    {
     "data": {
      "application/vnd.jupyter.widget-view+json": {
       "model_id": "c5879d62aaa840e594507f24f6693e5b",
       "version_major": 2,
       "version_minor": 0
      },
      "text/plain": [
       "VBox(children=(HBox(), EncodingWidget(children=(VBox(children=(HTML(value='Encoding:'), Dropdown(description='…"
      ]
     },
     "metadata": {},
     "output_type": "display_data"
    },
    {
     "data": {
      "application/vnd.jupyter.widget-view+json": {
       "model_id": "a8238a405e0c4cffa30362cac3f5d087",
       "version_major": 2,
       "version_minor": 0
      },
      "text/plain": [
       "Output()"
      ]
     },
     "metadata": {},
     "output_type": "display_data"
    }
   ],
   "source": [
    "%%sql\n",
    "-- 更新1999-01-02的评价\n",
    "update\n",
    "    ${TABLE_NAME}\n",
    "set             \n",
    "    review_body = concat(uuid(),uuid(),uuid(),uuid(),uuid(),uuid(),uuid(),uuid(),uuid(),uuid()),\n",
    "    timestamp = unix_timestamp(current_timestamp())\n",
    "where\n",
    "    review_date = '1999-01-02'\n",
    ";"
   ]
  },
  {
   "cell_type": "code",
   "execution_count": 41,
   "id": "a2559fa0-3dd1-46fe-bd5f-40373e76f347",
   "metadata": {
    "execution": {
     "iopub.execute_input": "2023-03-10T13:01:33.291653Z",
     "iopub.status.busy": "2023-03-10T13:01:33.291306Z",
     "iopub.status.idle": "2023-03-10T13:01:56.480265Z",
     "shell.execute_reply": "2023-03-10T13:01:56.479414Z",
     "shell.execute_reply.started": "2023-03-10T13:01:33.291618Z"
    },
    "tags": []
   },
   "outputs": [
    {
     "name": "stdout",
     "output_type": "stream",
     "text": [
      "\n",
      "[ TIMELINE ]\n",
      "\n",
      "╔═════╤═══════════════════╤═════════════╤═══════════╤═════════════╤═════════════╤═════════════╗\n",
      "║ No. │ Instant           │ Action      │ State     │ Requested   │ Inflight    │ Completed   ║\n",
      "║     │                   │             │           │ Time        │ Time        │ Time        ║\n",
      "╠═════╪═══════════════════╪═════════════╪═══════════╪═════════════╪═════════════╪═════════════╣\n",
      "║ 0   │ 20230310125937816 │ deltacommit │ COMPLETED │ 03-10 12:59 │ 03-10 12:59 │ 03-10 13:00 ║\n",
      "╟─────┼───────────────────┼─────────────┼───────────┼─────────────┼─────────────┼─────────────╢\n",
      "║ 1   │ 20230310130033905 │ deltacommit │ COMPLETED │ 03-10 13:00 │ 03-10 13:00 │ 03-10 13:00 ║\n",
      "╟─────┼───────────────────┼─────────────┼───────────┼─────────────┼─────────────┼─────────────╢\n",
      "║ 2   │ 20230310130112519 │ deltacommit │ COMPLETED │ 03-10 13:01 │ 03-10 13:01 │ 03-10 13:01 ║\n",
      "╟─────┼───────────────────┼─────────────┼───────────┼─────────────┼─────────────┼─────────────╢\n",
      "║ 3   │ 20230310130126770 │ compaction  │ REQUESTED │ 03-10 13:01 │ -           │ -           ║\n",
      "╚═════╧═══════════════════╧═════════════╧═══════════╧═════════════╧═════════════╧═════════════╝\n",
      "\n",
      "[ COMMITS ]\n",
      "\n",
      "╔═══════════════════╤═════════════════════╤═══════════════════╤═════════════════════╤══════════════════════════╤═══════════════════════╤══════════════════════════════╤══════════════╗\n",
      "║ CommitTime        │ Total Bytes Written │ Total Files Added │ Total Files Updated │ Total Partitions Written │ Total Records Written │ Total Update Records Written │ Total Errors ║\n",
      "╠═══════════════════╪═════════════════════╪═══════════════════╪═════════════════════╪══════════════════════════╪═══════════════════════╪══════════════════════════════╪══════════════╣\n",
      "║ 20230310130112519 │ 503.9 KB            │ 0                 │ 2                   │ 2                        │ 926                   │ 926                          │ 0            ║\n",
      "╟───────────────────┼─────────────────────┼───────────────────┼─────────────────────┼──────────────────────────┼───────────────────────┼──────────────────────────────┼──────────────╢\n",
      "║ 20230310130033905 │ 381.9 KB            │ 0                 │ 2                   │ 2                        │ 701                   │ 701                          │ 0            ║\n",
      "╟───────────────────┼─────────────────────┼───────────────────┼─────────────────────┼──────────────────────────┼───────────────────────┼──────────────────────────────┼──────────────╢\n",
      "║ 20230310125937816 │ 81.3 MB             │ 2                 │ 0                   │ 2                        │ 484469                │ 0                            │ 0            ║\n",
      "╚═══════════════════╧═════════════════════╧═══════════════════╧═════════════════════╧══════════════════════════╧═══════════════════════╧══════════════════════════════╧══════════════╝\n",
      "\n",
      "[ COMPACTIONS ]\n",
      "\n",
      "╔═════════════════════════╤═══════════╤═══════════════════════════════╗\n",
      "║ Compaction Instant Time │ State     │ Total FileIds to be Compacted ║\n",
      "╠═════════════════════════╪═══════════╪═══════════════════════════════╣\n",
      "║ 20230310130126770       │ REQUESTED │ 2                             ║\n",
      "╚═════════════════════════╧═══════════╧═══════════════════════════════╝\n",
      "\n",
      "[ STORAGE ]\n",
      "\n",
      "/home/emr-notebook/reviews_mor_2\n",
      "├── [ 41M 13:01:56]  parity=0\n",
      "│   ├── [178K 13:00:42]  .6f53e9b9-1a6a-4a74-b266-19a874fe9feb-0_20230310125937816.log.1_0-370-1880\n",
      "│   ├── [252K 13:01:21]  .6f53e9b9-1a6a-4a74-b266-19a874fe9feb-0_20230310125937816.log.2_0-418-1941\n",
      "│   └── [ 41M 12:59:59]  6f53e9b9-1a6a-4a74-b266-19a874fe9feb-0_0-322-1819_20230310125937816.parquet\n",
      "└── [ 41M 13:01:56]  parity=1\n",
      "    ├── [204K 13:00:42]  .8916f00a-8b6b-4856-b79b-d31b5b22af5b-0_20230310125937816.log.1_1-370-1881\n",
      "    ├── [251K 13:01:21]  .8916f00a-8b6b-4856-b79b-d31b5b22af5b-0_20230310125937816.log.2_1-418-1942\n",
      "    └── [ 41M 12:59:59]  8916f00a-8b6b-4856-b79b-d31b5b22af5b-0_1-322-1820_20230310125937816.parquet\n",
      "\n",
      "  82M used in 2 directories, 6 files\n"
     ]
    }
   ],
   "source": [
    "%%sh\n",
    "~/hudi-stat.sh s3://${S3_BUCKET}/${TABLE_NAME} timeline commits compactions storage"
   ]
  },
  {
   "cell_type": "markdown",
   "id": "45092c79-c89c-4643-9c53-3ec8ff7e5d23",
   "metadata": {},
   "source": [
    "### 3.5. Async Execute Compaction"
   ]
  },
  {
   "cell_type": "code",
   "execution_count": 42,
   "id": "f4c2102e-7d4a-4395-9538-d73d2d0686ec",
   "metadata": {
    "execution": {
     "iopub.execute_input": "2023-03-10T13:01:56.481759Z",
     "iopub.status.busy": "2023-03-10T13:01:56.481508Z",
     "iopub.status.idle": "2023-03-10T13:02:35.533160Z",
     "shell.execute_reply": "2023-03-10T13:02:35.532186Z",
     "shell.execute_reply.started": "2023-03-10T13:01:56.481733Z"
    },
    "tags": []
   },
   "outputs": [],
   "source": [
    "%%sh\n",
    "# it's required for current user (emr-notebook) to get sudo permission\n",
    "sudo -u hadoop spark-submit \\\n",
    "  --jars '/usr/lib/hudi/hudi-spark-bundle.jar' \\\n",
    "  --class \"org.apache.hudi.utilities.HoodieCompactor\" \\\n",
    "  /usr/lib/hudi/hudi-utilities-bundle.jar \\\n",
    "  --spark-memory '4g' \\\n",
    "  --mode 'execute' \\\n",
    "  --base-path \"s3://${S3_BUCKET}/${TABLE_NAME}\" \\\n",
    "  --table-name \"$TABLE_NAME\" > ~/${TABLE_NAME}.compaction.execute.out &>/dev/null"
   ]
  },
  {
   "cell_type": "code",
   "execution_count": 43,
   "id": "83d7b6c0-930f-4410-9643-20d9b9a01b63",
   "metadata": {
    "execution": {
     "iopub.execute_input": "2023-03-10T13:02:35.534992Z",
     "iopub.status.busy": "2023-03-10T13:02:35.534629Z",
     "iopub.status.idle": "2023-03-10T13:02:58.985246Z",
     "shell.execute_reply": "2023-03-10T13:02:58.984457Z",
     "shell.execute_reply.started": "2023-03-10T13:02:35.534948Z"
    },
    "tags": []
   },
   "outputs": [
    {
     "name": "stdout",
     "output_type": "stream",
     "text": [
      "\n",
      "[ TIMELINE ]\n",
      "\n",
      "╔═════╤═══════════════════╤═════════════╤═══════════╤═════════════╤═════════════╤═════════════╗\n",
      "║ No. │ Instant           │ Action      │ State     │ Requested   │ Inflight    │ Completed   ║\n",
      "║     │                   │             │           │ Time        │ Time        │ Time        ║\n",
      "╠═════╪═══════════════════╪═════════════╪═══════════╪═════════════╪═════════════╪═════════════╣\n",
      "║ 0   │ 20230310125937816 │ deltacommit │ COMPLETED │ 03-10 12:59 │ 03-10 12:59 │ 03-10 13:00 ║\n",
      "╟─────┼───────────────────┼─────────────┼───────────┼─────────────┼─────────────┼─────────────╢\n",
      "║ 1   │ 20230310130033905 │ deltacommit │ COMPLETED │ 03-10 13:00 │ 03-10 13:00 │ 03-10 13:00 ║\n",
      "╟─────┼───────────────────┼─────────────┼───────────┼─────────────┼─────────────┼─────────────╢\n",
      "║ 2   │ 20230310130112519 │ deltacommit │ COMPLETED │ 03-10 13:01 │ 03-10 13:01 │ 03-10 13:01 ║\n",
      "╟─────┼───────────────────┼─────────────┼───────────┼─────────────┼─────────────┼─────────────╢\n",
      "║ 3   │ 20230310130126770 │ commit      │ COMPLETED │ 03-10 13:01 │ 03-10 13:02 │ 03-10 13:02 ║\n",
      "╚═════╧═══════════════════╧═════════════╧═══════════╧═════════════╧═════════════╧═════════════╝\n",
      "\n",
      "[ COMMITS ]\n",
      "\n",
      "╔═══════════════════╤═════════════════════╤═══════════════════╤═════════════════════╤══════════════════════════╤═══════════════════════╤══════════════════════════════╤══════════════╗\n",
      "║ CommitTime        │ Total Bytes Written │ Total Files Added │ Total Files Updated │ Total Partitions Written │ Total Records Written │ Total Update Records Written │ Total Errors ║\n",
      "╠═══════════════════╪═════════════════════╪═══════════════════╪═════════════════════╪══════════════════════════╪═══════════════════════╪══════════════════════════════╪══════════════╣\n",
      "║ 20230310130126770 │ 81.5 MB             │ 0                 │ 2                   │ 2                        │ 484469                │ 1627                         │ 0            ║\n",
      "╟───────────────────┼─────────────────────┼───────────────────┼─────────────────────┼──────────────────────────┼───────────────────────┼──────────────────────────────┼──────────────╢\n",
      "║ 20230310130112519 │ 503.9 KB            │ 0                 │ 2                   │ 2                        │ 926                   │ 926                          │ 0            ║\n",
      "╟───────────────────┼─────────────────────┼───────────────────┼─────────────────────┼──────────────────────────┼───────────────────────┼──────────────────────────────┼──────────────╢\n",
      "║ 20230310130033905 │ 381.9 KB            │ 0                 │ 2                   │ 2                        │ 701                   │ 701                          │ 0            ║\n",
      "╟───────────────────┼─────────────────────┼───────────────────┼─────────────────────┼──────────────────────────┼───────────────────────┼──────────────────────────────┼──────────────╢\n",
      "║ 20230310125937816 │ 81.3 MB             │ 2                 │ 0                   │ 2                        │ 484469                │ 0                            │ 0            ║\n",
      "╚═══════════════════╧═════════════════════╧═══════════════════╧═════════════════════╧══════════════════════════╧═══════════════════════╧══════════════════════════════╧══════════════╝\n",
      "\n",
      "[ COMPACTIONS ]\n",
      "\n",
      "╔═════════════════════════╤═══════════╤═══════════════════════════════╗\n",
      "║ Compaction Instant Time │ State     │ Total FileIds to be Compacted ║\n",
      "╠═════════════════════════╪═══════════╪═══════════════════════════════╣\n",
      "║ 20230310130126770       │ COMPLETED │ 2                             ║\n",
      "╚═════════════════════════╧═══════════╧═══════════════════════════════╝\n",
      "\n",
      "[ STORAGE ]\n",
      "\n",
      "/home/emr-notebook/reviews_mor_2\n",
      "├── [ 82M 13:02:58]  parity=0\n",
      "│   ├── [178K 13:00:42]  .6f53e9b9-1a6a-4a74-b266-19a874fe9feb-0_20230310125937816.log.1_0-370-1880\n",
      "│   ├── [252K 13:01:21]  .6f53e9b9-1a6a-4a74-b266-19a874fe9feb-0_20230310125937816.log.2_0-418-1941\n",
      "│   ├── [ 41M 12:59:59]  6f53e9b9-1a6a-4a74-b266-19a874fe9feb-0_0-322-1819_20230310125937816.parquet\n",
      "│   └── [ 41M 13:02:29]  6f53e9b9-1a6a-4a74-b266-19a874fe9feb-0_1-0-1_20230310130126770.parquet\n",
      "└── [ 82M 13:02:58]  parity=1\n",
      "    ├── [204K 13:00:42]  .8916f00a-8b6b-4856-b79b-d31b5b22af5b-0_20230310125937816.log.1_1-370-1881\n",
      "    ├── [251K 13:01:21]  .8916f00a-8b6b-4856-b79b-d31b5b22af5b-0_20230310125937816.log.2_1-418-1942\n",
      "    ├── [ 41M 13:02:29]  8916f00a-8b6b-4856-b79b-d31b5b22af5b-0_0-0-0_20230310130126770.parquet\n",
      "    └── [ 41M 12:59:59]  8916f00a-8b6b-4856-b79b-d31b5b22af5b-0_1-322-1820_20230310125937816.parquet\n",
      "\n",
      " 164M used in 2 directories, 8 files\n"
     ]
    }
   ],
   "source": [
    "%%sh\n",
    "~/hudi-stat.sh s3://${S3_BUCKET}/${TABLE_NAME} timeline commits compactions storage"
   ]
  },
  {
   "cell_type": "markdown",
   "id": "0d75e921-d7ed-47c7-b9c1-1eb983e82f70",
   "metadata": {
    "tags": []
   },
   "source": [
    "## 4. Test Case 3 - Async Compaction: Offline Schedule + Offline Execute"
   ]
  },
  {
   "cell_type": "markdown",
   "id": "ac42cf25-8fd3-4c72-88d6-0153b34cf0de",
   "metadata": {
    "tags": []
   },
   "source": [
    "### 4.1. Create Table"
   ]
  },
  {
   "cell_type": "code",
   "execution_count": 44,
   "id": "55e7ce24-2737-4446-94b6-51abc95c7eb0",
   "metadata": {
    "execution": {
     "iopub.execute_input": "2023-03-10T13:02:58.986740Z",
     "iopub.status.busy": "2023-03-10T13:02:58.986453Z",
     "iopub.status.idle": "2023-03-10T13:03:08.440724Z",
     "shell.execute_reply": "2023-03-10T13:03:08.439997Z",
     "shell.execute_reply.started": "2023-03-10T13:02:58.986711Z"
    },
    "tags": []
   },
   "outputs": [
    {
     "data": {
      "application/vnd.jupyter.widget-view+json": {
       "model_id": "",
       "version_major": 2,
       "version_minor": 0
      },
      "text/plain": [
       "FloatProgress(value=0.0, bar_style='info', description='Progress:', layout=Layout(height='25px', width='50%'),…"
      ]
     },
     "metadata": {},
     "output_type": "display_data"
    },
    {
     "data": {
      "text/html": [
       "<style>.jp-OutputArea-child .jupyter-widgets.jp-OutputArea-output { overflow: auto; }</style>"
      ],
      "text/plain": [
       "<IPython.core.display.HTML object>"
      ]
     },
     "metadata": {},
     "output_type": "display_data"
    },
    {
     "data": {
      "application/vnd.jupyter.widget-view+json": {
       "model_id": "2241359b415d4a80a865c6fb8056a0ec",
       "version_major": 2,
       "version_minor": 0
      },
      "text/plain": [
       "VBox(children=(HBox(children=(HTML(value='Type:'), Button(description='Table', layout=Layout(width='70px'), st…"
      ]
     },
     "metadata": {},
     "output_type": "display_data"
    },
    {
     "data": {
      "application/vnd.jupyter.widget-view+json": {
       "model_id": "ea2e82a3c3694b21ad5f2dd8f52be55e",
       "version_major": 2,
       "version_minor": 0
      },
      "text/plain": [
       "Output()"
      ]
     },
     "metadata": {},
     "output_type": "display_data"
    }
   ],
   "source": [
    "%%sql\n",
    "set TABLE_NAME=reviews_mor_3"
   ]
  },
  {
   "cell_type": "code",
   "execution_count": 45,
   "id": "df095b43-9ef3-49a2-b718-170429c36089",
   "metadata": {
    "execution": {
     "iopub.execute_input": "2023-03-10T13:03:08.442181Z",
     "iopub.status.busy": "2023-03-10T13:03:08.441866Z",
     "iopub.status.idle": "2023-03-10T13:03:09.359107Z",
     "shell.execute_reply": "2023-03-10T13:03:09.358443Z",
     "shell.execute_reply.started": "2023-03-10T13:03:08.442150Z"
    },
    "tags": []
   },
   "outputs": [
    {
     "data": {
      "application/vnd.jupyter.widget-view+json": {
       "model_id": "",
       "version_major": 2,
       "version_minor": 0
      },
      "text/plain": [
       "FloatProgress(value=0.0, bar_style='info', description='Progress:', layout=Layout(height='25px', width='50%'),…"
      ]
     },
     "metadata": {},
     "output_type": "display_data"
    },
    {
     "data": {
      "text/html": [
       "<style>.jp-OutputArea-child .jupyter-widgets.jp-OutputArea-output { overflow: auto; }</style>"
      ],
      "text/plain": [
       "<IPython.core.display.HTML object>"
      ]
     },
     "metadata": {},
     "output_type": "display_data"
    },
    {
     "data": {
      "application/vnd.jupyter.widget-view+json": {
       "model_id": "68e7a463cbbc4022a3402cee155e75ee",
       "version_major": 2,
       "version_minor": 0
      },
      "text/plain": [
       "VBox(children=(HBox(children=(HTML(value='Type:'), Button(description='Table', layout=Layout(width='70px'), st…"
      ]
     },
     "metadata": {},
     "output_type": "display_data"
    },
    {
     "data": {
      "application/vnd.jupyter.widget-view+json": {
       "model_id": "e928a6d85eb145d88299360756717e65",
       "version_major": 2,
       "version_minor": 0
      },
      "text/plain": [
       "Output()"
      ]
     },
     "metadata": {},
     "output_type": "display_data"
    }
   ],
   "source": [
    "%%sql\n",
    "set TABLE_PATH=s3://glc-examples/hudi-core-conceptions/reviews_mor_3"
   ]
  },
  {
   "cell_type": "code",
   "execution_count": 46,
   "id": "aa987e9d-b73f-4dd9-b93e-9b7b988a3ceb",
   "metadata": {
    "execution": {
     "iopub.execute_input": "2023-03-10T13:03:09.360300Z",
     "iopub.status.busy": "2023-03-10T13:03:09.360073Z",
     "iopub.status.idle": "2023-03-10T13:03:09.364714Z",
     "shell.execute_reply": "2023-03-10T13:03:09.363941Z",
     "shell.execute_reply.started": "2023-03-10T13:03:09.360279Z"
    },
    "tags": []
   },
   "outputs": [
    {
     "name": "stdout",
     "output_type": "stream",
     "text": [
      "env: TABLE_NAME=reviews_mor_3\n"
     ]
    }
   ],
   "source": [
    "%env TABLE_NAME=reviews_mor_3"
   ]
  },
  {
   "cell_type": "code",
   "execution_count": 47,
   "id": "b730461d-8115-4b28-9cc8-cc237a7e1ff3",
   "metadata": {
    "execution": {
     "iopub.execute_input": "2023-03-10T13:03:09.366140Z",
     "iopub.status.busy": "2023-03-10T13:03:09.365849Z",
     "iopub.status.idle": "2023-03-10T13:03:09.370936Z",
     "shell.execute_reply": "2023-03-10T13:03:09.370229Z",
     "shell.execute_reply.started": "2023-03-10T13:03:09.366110Z"
    },
    "tags": []
   },
   "outputs": [
    {
     "name": "stdout",
     "output_type": "stream",
     "text": [
      "env: TABLE_PATH=s3://glc-examples/hudi-core-conceptions/reviews_mor_3\n"
     ]
    }
   ],
   "source": [
    "%env TABLE_PATH=s3://glc-examples/hudi-core-conceptions/reviews_mor_3"
   ]
  },
  {
   "cell_type": "code",
   "execution_count": 48,
   "id": "fe5da321-6ef0-4837-b4fb-c3e22c0d34cf",
   "metadata": {
    "execution": {
     "iopub.execute_input": "2023-03-10T13:03:09.372485Z",
     "iopub.status.busy": "2023-03-10T13:03:09.372125Z",
     "iopub.status.idle": "2023-03-10T13:03:13.219230Z",
     "shell.execute_reply": "2023-03-10T13:03:13.218449Z",
     "shell.execute_reply.started": "2023-03-10T13:03:09.372454Z"
    },
    "tags": []
   },
   "outputs": [
    {
     "name": "stdout",
     "output_type": "stream",
     "text": [
      "reviews_mor_3\n"
     ]
    }
   ],
   "source": [
    "%%sh\n",
    "echo $(basename s3://${S3_BUCKET}/${TABLE_NAME})\n",
    "aws s3 rm s3://${S3_BUCKET}/${TABLE_NAME} --recursive &>/dev/null\n",
    "rm -rf ~/${TABLE_NAME}\n",
    "sleep 3"
   ]
  },
  {
   "cell_type": "code",
   "execution_count": 49,
   "id": "3bbb4fc2-4aa0-46d4-9e6b-68ae62a5e024",
   "metadata": {
    "execution": {
     "iopub.execute_input": "2023-03-10T13:03:13.220792Z",
     "iopub.status.busy": "2023-03-10T13:03:13.220549Z",
     "iopub.status.idle": "2023-03-10T13:03:14.083147Z",
     "shell.execute_reply": "2023-03-10T13:03:14.082082Z",
     "shell.execute_reply.started": "2023-03-10T13:03:13.220767Z"
    },
    "tags": []
   },
   "outputs": [
    {
     "data": {
      "application/vnd.jupyter.widget-view+json": {
       "model_id": "",
       "version_major": 2,
       "version_minor": 0
      },
      "text/plain": [
       "FloatProgress(value=0.0, bar_style='info', description='Progress:', layout=Layout(height='25px', width='50%'),…"
      ]
     },
     "metadata": {},
     "output_type": "display_data"
    },
    {
     "data": {
      "text/html": [
       "<style>.jp-OutputArea-child .jupyter-widgets.jp-OutputArea-output { overflow: auto; }</style>"
      ],
      "text/plain": [
       "<IPython.core.display.HTML object>"
      ]
     },
     "metadata": {},
     "output_type": "display_data"
    },
    {
     "data": {
      "application/vnd.jupyter.widget-view+json": {
       "model_id": "00f18e84b0ef4102b581babe51d02a31",
       "version_major": 2,
       "version_minor": 0
      },
      "text/plain": [
       "VBox(children=(HBox(), EncodingWidget(children=(VBox(children=(HTML(value='Encoding:'), Dropdown(description='…"
      ]
     },
     "metadata": {},
     "output_type": "display_data"
    },
    {
     "data": {
      "application/vnd.jupyter.widget-view+json": {
       "model_id": "564929f0af2d4c5cb754579d73b40f93",
       "version_major": 2,
       "version_minor": 0
      },
      "text/plain": [
       "Output()"
      ]
     },
     "metadata": {},
     "output_type": "display_data"
    }
   ],
   "source": [
    "%%sql\n",
    "drop table if exists ${TABLE_NAME}"
   ]
  },
  {
   "cell_type": "code",
   "execution_count": 50,
   "id": "6f672ee0-33d8-49cc-9722-c664a6b42d42",
   "metadata": {
    "execution": {
     "iopub.execute_input": "2023-03-10T13:03:14.084864Z",
     "iopub.status.busy": "2023-03-10T13:03:14.084521Z",
     "iopub.status.idle": "2023-03-10T13:03:14.912606Z",
     "shell.execute_reply": "2023-03-10T13:03:14.911746Z",
     "shell.execute_reply.started": "2023-03-10T13:03:14.084829Z"
    },
    "tags": []
   },
   "outputs": [
    {
     "data": {
      "application/vnd.jupyter.widget-view+json": {
       "model_id": "",
       "version_major": 2,
       "version_minor": 0
      },
      "text/plain": [
       "FloatProgress(value=0.0, bar_style='info', description='Progress:', layout=Layout(height='25px', width='50%'),…"
      ]
     },
     "metadata": {},
     "output_type": "display_data"
    },
    {
     "data": {
      "text/html": [
       "<style>.jp-OutputArea-child .jupyter-widgets.jp-OutputArea-output { overflow: auto; }</style>"
      ],
      "text/plain": [
       "<IPython.core.display.HTML object>"
      ]
     },
     "metadata": {},
     "output_type": "display_data"
    },
    {
     "data": {
      "application/vnd.jupyter.widget-view+json": {
       "model_id": "c2c71bc9ff4542108753f55ba9dbde9e",
       "version_major": 2,
       "version_minor": 0
      },
      "text/plain": [
       "VBox(children=(HBox(), EncodingWidget(children=(VBox(children=(HTML(value='Encoding:'), Dropdown(description='…"
      ]
     },
     "metadata": {},
     "output_type": "display_data"
    },
    {
     "data": {
      "application/vnd.jupyter.widget-view+json": {
       "model_id": "35e17e9e7f74413eb395eca4246a386f",
       "version_major": 2,
       "version_minor": 0
      },
      "text/plain": [
       "Output()"
      ]
     },
     "metadata": {},
     "output_type": "display_data"
    }
   ],
   "source": [
    "%%sql\n",
    "drop table if exists ${TABLE_NAME}_ro"
   ]
  },
  {
   "cell_type": "code",
   "execution_count": 51,
   "id": "45f5b4d7-78ef-4334-9250-fdbd28685547",
   "metadata": {
    "execution": {
     "iopub.execute_input": "2023-03-10T13:03:14.914270Z",
     "iopub.status.busy": "2023-03-10T13:03:14.913937Z",
     "iopub.status.idle": "2023-03-10T13:03:15.772286Z",
     "shell.execute_reply": "2023-03-10T13:03:15.771222Z",
     "shell.execute_reply.started": "2023-03-10T13:03:14.914234Z"
    },
    "tags": []
   },
   "outputs": [
    {
     "data": {
      "application/vnd.jupyter.widget-view+json": {
       "model_id": "",
       "version_major": 2,
       "version_minor": 0
      },
      "text/plain": [
       "FloatProgress(value=0.0, bar_style='info', description='Progress:', layout=Layout(height='25px', width='50%'),…"
      ]
     },
     "metadata": {},
     "output_type": "display_data"
    },
    {
     "data": {
      "text/html": [
       "<style>.jp-OutputArea-child .jupyter-widgets.jp-OutputArea-output { overflow: auto; }</style>"
      ],
      "text/plain": [
       "<IPython.core.display.HTML object>"
      ]
     },
     "metadata": {},
     "output_type": "display_data"
    },
    {
     "data": {
      "application/vnd.jupyter.widget-view+json": {
       "model_id": "5c70b22b33514bf7bfb73166227245bc",
       "version_major": 2,
       "version_minor": 0
      },
      "text/plain": [
       "VBox(children=(HBox(), EncodingWidget(children=(VBox(children=(HTML(value='Encoding:'), Dropdown(description='…"
      ]
     },
     "metadata": {},
     "output_type": "display_data"
    },
    {
     "data": {
      "application/vnd.jupyter.widget-view+json": {
       "model_id": "c891aba57fad4cad8b848225dfbad68d",
       "version_major": 2,
       "version_minor": 0
      },
      "text/plain": [
       "Output()"
      ]
     },
     "metadata": {},
     "output_type": "display_data"
    }
   ],
   "source": [
    "%%sql\n",
    "drop table if exists ${TABLE_NAME}_rt"
   ]
  },
  {
   "cell_type": "code",
   "execution_count": 52,
   "id": "b270a64b-5b71-4593-855a-f627cf2e5da3",
   "metadata": {
    "execution": {
     "iopub.execute_input": "2023-03-10T13:03:15.774044Z",
     "iopub.status.busy": "2023-03-10T13:03:15.773725Z",
     "iopub.status.idle": "2023-03-10T13:03:18.125722Z",
     "shell.execute_reply": "2023-03-10T13:03:18.124896Z",
     "shell.execute_reply.started": "2023-03-10T13:03:15.774011Z"
    },
    "tags": []
   },
   "outputs": [
    {
     "data": {
      "application/vnd.jupyter.widget-view+json": {
       "model_id": "",
       "version_major": 2,
       "version_minor": 0
      },
      "text/plain": [
       "FloatProgress(value=0.0, bar_style='info', description='Progress:', layout=Layout(height='25px', width='50%'),…"
      ]
     },
     "metadata": {},
     "output_type": "display_data"
    },
    {
     "data": {
      "text/html": [
       "<style>.jp-OutputArea-child .jupyter-widgets.jp-OutputArea-output { overflow: auto; }</style>"
      ],
      "text/plain": [
       "<IPython.core.display.HTML object>"
      ]
     },
     "metadata": {},
     "output_type": "display_data"
    },
    {
     "data": {
      "application/vnd.jupyter.widget-view+json": {
       "model_id": "4aabdb8be6c44c2a989bc49b3d5fbe6e",
       "version_major": 2,
       "version_minor": 0
      },
      "text/plain": [
       "VBox(children=(HBox(), EncodingWidget(children=(VBox(children=(HTML(value='Encoding:'), Dropdown(description='…"
      ]
     },
     "metadata": {},
     "output_type": "display_data"
    },
    {
     "data": {
      "application/vnd.jupyter.widget-view+json": {
       "model_id": "ff458da38b2d4c11b2bc86fcfcb2b5cf",
       "version_major": 2,
       "version_minor": 0
      },
      "text/plain": [
       "Output()"
      ]
     },
     "metadata": {},
     "output_type": "display_data"
    }
   ],
   "source": [
    "%%sql\n",
    "create table if not exists ${TABLE_NAME} (\n",
    "    review_id string, \n",
    "    star_rating long, \n",
    "    review_body string, \n",
    "    review_date date, \n",
    "    year long,\n",
    "    timestamp long,\n",
    "    parity int\n",
    ")\n",
    "using hudi\n",
    "location 's3://${S3_BUCKET}/${TABLE_NAME}'\n",
    "partitioned by (parity)\n",
    "options ( \n",
    "    type = 'mor',  \n",
    "    primaryKey = 'review_id', \n",
    "    preCombineField = 'timestamp',\n",
    "    hoodie.copyonwrite.record.size.estimate = '175',\n",
    "    -- hoodie.compact.inline = 'false',\n",
    "    -- hoodie.compact.schedule.inline = 'false',\n",
    "    hoodie.compact.inline.max.delta.commits = '3'\n",
    ");"
   ]
  },
  {
   "cell_type": "markdown",
   "id": "e76f1b1b-1ff8-42a8-8845-8d9b1a5a5d0c",
   "metadata": {
    "tags": []
   },
   "source": [
    "### 4.2. Batch 1 - Insert"
   ]
  },
  {
   "cell_type": "code",
   "execution_count": 53,
   "id": "d059dd64-5473-4170-804c-865f2a905446",
   "metadata": {
    "execution": {
     "iopub.execute_input": "2023-03-10T13:03:18.127521Z",
     "iopub.status.busy": "2023-03-10T13:03:18.127180Z",
     "iopub.status.idle": "2023-03-10T13:04:05.573583Z",
     "shell.execute_reply": "2023-03-10T13:04:05.572698Z",
     "shell.execute_reply.started": "2023-03-10T13:03:18.127485Z"
    },
    "tags": []
   },
   "outputs": [
    {
     "data": {
      "application/vnd.jupyter.widget-view+json": {
       "model_id": "",
       "version_major": 2,
       "version_minor": 0
      },
      "text/plain": [
       "FloatProgress(value=0.0, bar_style='info', description='Progress:', layout=Layout(height='25px', width='50%'),…"
      ]
     },
     "metadata": {},
     "output_type": "display_data"
    },
    {
     "data": {
      "text/html": [
       "<style>.jp-OutputArea-child .jupyter-widgets.jp-OutputArea-output { overflow: auto; }</style>"
      ],
      "text/plain": [
       "<IPython.core.display.HTML object>"
      ]
     },
     "metadata": {},
     "output_type": "display_data"
    },
    {
     "data": {
      "application/vnd.jupyter.widget-view+json": {
       "model_id": "44355cc849c64abe9dd2934eb88c5be0",
       "version_major": 2,
       "version_minor": 0
      },
      "text/plain": [
       "VBox(children=(HBox(), EncodingWidget(children=(VBox(children=(HTML(value='Encoding:'), Dropdown(description='…"
      ]
     },
     "metadata": {},
     "output_type": "display_data"
    },
    {
     "data": {
      "application/vnd.jupyter.widget-view+json": {
       "model_id": "9f5d0c2a056842cdaa757d84e367b5a8",
       "version_major": 2,
       "version_minor": 0
      },
      "text/plain": [
       "Output()"
      ]
     },
     "metadata": {},
     "output_type": "display_data"
    }
   ],
   "source": [
    "%%sql\n",
    "insert into \n",
    "    ${TABLE_NAME}\n",
    "select \n",
    "    review_id, \n",
    "    star_rating, \n",
    "    review_body, \n",
    "    review_date, \n",
    "    year,\n",
    "    unix_timestamp(current_timestamp()) as timestamp,\n",
    "    mod(crc32(review_id), 2) as parity\n",
    "from\n",
    "    reviews\n",
    "where\n",
    "    year = 1999"
   ]
  },
  {
   "cell_type": "code",
   "execution_count": 54,
   "id": "f81f5f74-d832-449f-8dd2-27d241c08b27",
   "metadata": {
    "execution": {
     "iopub.execute_input": "2023-03-10T13:04:05.575234Z",
     "iopub.status.busy": "2023-03-10T13:04:05.574903Z",
     "iopub.status.idle": "2023-03-10T13:04:28.318362Z",
     "shell.execute_reply": "2023-03-10T13:04:28.317548Z",
     "shell.execute_reply.started": "2023-03-10T13:04:05.575198Z"
    },
    "tags": []
   },
   "outputs": [
    {
     "name": "stdout",
     "output_type": "stream",
     "text": [
      "\n",
      "[ TIMELINE ]\n",
      "\n",
      "╔═════╤═══════════════════╤═════════════╤═══════════╤═════════════╤═════════════╤═════════════╗\n",
      "║ No. │ Instant           │ Action      │ State     │ Requested   │ Inflight    │ Completed   ║\n",
      "║     │                   │             │           │ Time        │ Time        │ Time        ║\n",
      "╠═════╪═══════════════════╪═════════════╪═══════════╪═════════════╪═════════════╪═════════════╣\n",
      "║ 0   │ 20230310130318582 │ deltacommit │ COMPLETED │ 03-10 13:03 │ 03-10 13:03 │ 03-10 13:04 ║\n",
      "╚═════╧═══════════════════╧═════════════╧═══════════╧═════════════╧═════════════╧═════════════╝\n",
      "\n",
      "[ COMMITS ]\n",
      "\n",
      "╔═══════════════════╤═════════════════════╤═══════════════════╤═════════════════════╤══════════════════════════╤═══════════════════════╤══════════════════════════════╤══════════════╗\n",
      "║ CommitTime        │ Total Bytes Written │ Total Files Added │ Total Files Updated │ Total Partitions Written │ Total Records Written │ Total Update Records Written │ Total Errors ║\n",
      "╠═══════════════════╪═════════════════════╪═══════════════════╪═════════════════════╪══════════════════════════╪═══════════════════════╪══════════════════════════════╪══════════════╣\n",
      "║ 20230310130318582 │ 81.3 MB             │ 2                 │ 0                   │ 2                        │ 484469                │ 0                            │ 0            ║\n",
      "╚═══════════════════╧═════════════════════╧═══════════════════╧═════════════════════╧══════════════════════════╧═══════════════════════╧══════════════════════════════╧══════════════╝\n",
      "\n",
      "[ COMPACTIONS ]\n",
      "\n",
      "╔═════════════════════════╤═══════╤═══════════════════════════════╗\n",
      "║ Compaction Instant Time │ State │ Total FileIds to be Compacted ║\n",
      "╠═════════════════════════╧═══════╧═══════════════════════════════╣\n",
      "║ (empty)                                                         ║\n",
      "╚═════════════════════════════════════════════════════════════════╝\n",
      "\n",
      "[ STORAGE ]\n",
      "\n",
      "/home/emr-notebook/reviews_mor_3\n",
      "├── [ 41M 13:04:28]  parity=0\n",
      "│   └── [ 41M 13:03:51]  ad616551-3949-4cab-af07-29551d0c8560-0_0-482-2055_20230310130318582.parquet\n",
      "└── [ 41M 13:04:28]  parity=1\n",
      "    └── [ 41M 13:03:54]  584c376c-bc09-46ee-b6d8-59f93f0be2b6-0_1-482-2056_20230310130318582.parquet\n",
      "\n",
      "  81M used in 2 directories, 2 files\n"
     ]
    }
   ],
   "source": [
    "%%sh\n",
    "~/hudi-stat.sh s3://${S3_BUCKET}/${TABLE_NAME} timeline commits compactions storage"
   ]
  },
  {
   "cell_type": "markdown",
   "id": "d3e89e88-2b0e-4663-9b08-b8faabe9a568",
   "metadata": {
    "tags": []
   },
   "source": [
    "### 4.3. Batch 2 - Update"
   ]
  },
  {
   "cell_type": "code",
   "execution_count": 55,
   "id": "c7e4040d-bc2a-462e-b3ca-e828638a6f5f",
   "metadata": {
    "execution": {
     "iopub.execute_input": "2023-03-10T13:04:28.319981Z",
     "iopub.status.busy": "2023-03-10T13:04:28.319626Z",
     "iopub.status.idle": "2023-03-10T13:04:47.745232Z",
     "shell.execute_reply": "2023-03-10T13:04:47.744157Z",
     "shell.execute_reply.started": "2023-03-10T13:04:28.319951Z"
    },
    "tags": []
   },
   "outputs": [
    {
     "data": {
      "application/vnd.jupyter.widget-view+json": {
       "model_id": "",
       "version_major": 2,
       "version_minor": 0
      },
      "text/plain": [
       "FloatProgress(value=0.0, bar_style='info', description='Progress:', layout=Layout(height='25px', width='50%'),…"
      ]
     },
     "metadata": {},
     "output_type": "display_data"
    },
    {
     "data": {
      "text/html": [
       "<style>.jp-OutputArea-child .jupyter-widgets.jp-OutputArea-output { overflow: auto; }</style>"
      ],
      "text/plain": [
       "<IPython.core.display.HTML object>"
      ]
     },
     "metadata": {},
     "output_type": "display_data"
    },
    {
     "data": {
      "application/vnd.jupyter.widget-view+json": {
       "model_id": "8d63b3ff2da4404a9b5bfa5a657da7c4",
       "version_major": 2,
       "version_minor": 0
      },
      "text/plain": [
       "VBox(children=(HBox(), EncodingWidget(children=(VBox(children=(HTML(value='Encoding:'), Dropdown(description='…"
      ]
     },
     "metadata": {},
     "output_type": "display_data"
    },
    {
     "data": {
      "application/vnd.jupyter.widget-view+json": {
       "model_id": "10c6316f8cd6419c9ab5e738b6badd00",
       "version_major": 2,
       "version_minor": 0
      },
      "text/plain": [
       "Output()"
      ]
     },
     "metadata": {},
     "output_type": "display_data"
    }
   ],
   "source": [
    "%%sql\n",
    "-- 更新1999-01-01的评价\n",
    "update\n",
    "    ${TABLE_NAME}\n",
    "set             \n",
    "    review_body = concat(uuid(),uuid(),uuid(),uuid(),uuid(),uuid(),uuid(),uuid(),uuid(),uuid()),\n",
    "    timestamp = unix_timestamp(current_timestamp())\n",
    "where\n",
    "    review_date = '1999-01-01'\n",
    ";"
   ]
  },
  {
   "cell_type": "code",
   "execution_count": 56,
   "id": "0ac85b4e-db3d-4db8-a19f-61dcd159262a",
   "metadata": {
    "execution": {
     "iopub.execute_input": "2023-03-10T13:04:47.746925Z",
     "iopub.status.busy": "2023-03-10T13:04:47.746597Z",
     "iopub.status.idle": "2023-03-10T13:05:09.011155Z",
     "shell.execute_reply": "2023-03-10T13:05:09.010298Z",
     "shell.execute_reply.started": "2023-03-10T13:04:47.746889Z"
    },
    "tags": []
   },
   "outputs": [
    {
     "name": "stdout",
     "output_type": "stream",
     "text": [
      "\n",
      "[ TIMELINE ]\n",
      "\n",
      "╔═════╤═══════════════════╤═════════════╤═══════════╤═════════════╤═════════════╤═════════════╗\n",
      "║ No. │ Instant           │ Action      │ State     │ Requested   │ Inflight    │ Completed   ║\n",
      "║     │                   │             │           │ Time        │ Time        │ Time        ║\n",
      "╠═════╪═══════════════════╪═════════════╪═══════════╪═════════════╪═════════════╪═════════════╣\n",
      "║ 0   │ 20230310130318582 │ deltacommit │ COMPLETED │ 03-10 13:03 │ 03-10 13:03 │ 03-10 13:04 ║\n",
      "╟─────┼───────────────────┼─────────────┼───────────┼─────────────┼─────────────┼─────────────╢\n",
      "║ 1   │ 20230310130428939 │ deltacommit │ COMPLETED │ 03-10 13:04 │ 03-10 13:04 │ 03-10 13:04 ║\n",
      "╚═════╧═══════════════════╧═════════════╧═══════════╧═════════════╧═════════════╧═════════════╝\n",
      "\n",
      "[ COMMITS ]\n",
      "\n",
      "╔═══════════════════╤═════════════════════╤═══════════════════╤═════════════════════╤══════════════════════════╤═══════════════════════╤══════════════════════════════╤══════════════╗\n",
      "║ CommitTime        │ Total Bytes Written │ Total Files Added │ Total Files Updated │ Total Partitions Written │ Total Records Written │ Total Update Records Written │ Total Errors ║\n",
      "╠═══════════════════╪═════════════════════╪═══════════════════╪═════════════════════╪══════════════════════════╪═══════════════════════╪══════════════════════════════╪══════════════╣\n",
      "║ 20230310130428939 │ 381.0 KB            │ 0                 │ 2                   │ 2                        │ 701                   │ 701                          │ 0            ║\n",
      "╟───────────────────┼─────────────────────┼───────────────────┼─────────────────────┼──────────────────────────┼───────────────────────┼──────────────────────────────┼──────────────╢\n",
      "║ 20230310130318582 │ 81.3 MB             │ 2                 │ 0                   │ 2                        │ 484469                │ 0                            │ 0            ║\n",
      "╚═══════════════════╧═════════════════════╧═══════════════════╧═════════════════════╧══════════════════════════╧═══════════════════════╧══════════════════════════════╧══════════════╝\n",
      "\n",
      "[ COMPACTIONS ]\n",
      "\n",
      "╔═════════════════════════╤═══════╤═══════════════════════════════╗\n",
      "║ Compaction Instant Time │ State │ Total FileIds to be Compacted ║\n",
      "╠═════════════════════════╧═══════╧═══════════════════════════════╣\n",
      "║ (empty)                                                         ║\n",
      "╚═════════════════════════════════════════════════════════════════╝\n",
      "\n",
      "[ STORAGE ]\n",
      "\n",
      "/home/emr-notebook/reviews_mor_3\n",
      "├── [ 41M 13:05:08]  parity=0\n",
      "│   ├── [177K 13:04:38]  .ad616551-3949-4cab-af07-29551d0c8560-0_20230310130318582.log.1_0-530-2117\n",
      "│   └── [ 41M 13:03:51]  ad616551-3949-4cab-af07-29551d0c8560-0_0-482-2055_20230310130318582.parquet\n",
      "└── [ 41M 13:05:08]  parity=1\n",
      "    ├── [204K 13:04:38]  .584c376c-bc09-46ee-b6d8-59f93f0be2b6-0_20230310130318582.log.1_1-530-2118\n",
      "    └── [ 41M 13:03:54]  584c376c-bc09-46ee-b6d8-59f93f0be2b6-0_1-482-2056_20230310130318582.parquet\n",
      "\n",
      "  82M used in 2 directories, 4 files\n"
     ]
    }
   ],
   "source": [
    "%%sh\n",
    "~/hudi-stat.sh s3://${S3_BUCKET}/${TABLE_NAME} timeline commits compactions storage"
   ]
  },
  {
   "cell_type": "markdown",
   "id": "c4222f76-6ae8-4837-87ca-f5129883e803",
   "metadata": {
    "tags": []
   },
   "source": [
    "### 4.4. Batch 3 - Update"
   ]
  },
  {
   "cell_type": "code",
   "execution_count": 57,
   "id": "83a0ad1b-978d-4ab3-af04-843065e50880",
   "metadata": {
    "execution": {
     "iopub.execute_input": "2023-03-10T13:05:09.014150Z",
     "iopub.status.busy": "2023-03-10T13:05:09.013900Z",
     "iopub.status.idle": "2023-03-10T13:05:42.457901Z",
     "shell.execute_reply": "2023-03-10T13:05:42.457109Z",
     "shell.execute_reply.started": "2023-03-10T13:05:09.014125Z"
    },
    "tags": []
   },
   "outputs": [
    {
     "data": {
      "application/vnd.jupyter.widget-view+json": {
       "model_id": "",
       "version_major": 2,
       "version_minor": 0
      },
      "text/plain": [
       "FloatProgress(value=0.0, bar_style='info', description='Progress:', layout=Layout(height='25px', width='50%'),…"
      ]
     },
     "metadata": {},
     "output_type": "display_data"
    },
    {
     "data": {
      "text/html": [
       "<style>.jp-OutputArea-child .jupyter-widgets.jp-OutputArea-output { overflow: auto; }</style>"
      ],
      "text/plain": [
       "<IPython.core.display.HTML object>"
      ]
     },
     "metadata": {},
     "output_type": "display_data"
    },
    {
     "data": {
      "application/vnd.jupyter.widget-view+json": {
       "model_id": "b8ed89a7780b44518b6bde1e8282507e",
       "version_major": 2,
       "version_minor": 0
      },
      "text/plain": [
       "VBox(children=(HBox(), EncodingWidget(children=(VBox(children=(HTML(value='Encoding:'), Dropdown(description='…"
      ]
     },
     "metadata": {},
     "output_type": "display_data"
    },
    {
     "data": {
      "application/vnd.jupyter.widget-view+json": {
       "model_id": "92355738c2c8413ea41585cf69469812",
       "version_major": 2,
       "version_minor": 0
      },
      "text/plain": [
       "Output()"
      ]
     },
     "metadata": {},
     "output_type": "display_data"
    }
   ],
   "source": [
    "%%sql\n",
    "-- 更新1999-01-02的评价\n",
    "update\n",
    "    ${TABLE_NAME}\n",
    "set             \n",
    "    review_body = concat(uuid(),uuid(),uuid(),uuid(),uuid(),uuid(),uuid(),uuid(),uuid(),uuid()),\n",
    "    timestamp = unix_timestamp(current_timestamp())\n",
    "where\n",
    "    star_rating = 5\n",
    ";"
   ]
  },
  {
   "cell_type": "code",
   "execution_count": 58,
   "id": "cad514b3-eb8b-4588-8d25-91a3bb754d8d",
   "metadata": {
    "execution": {
     "iopub.execute_input": "2023-03-10T13:05:42.459544Z",
     "iopub.status.busy": "2023-03-10T13:05:42.459215Z",
     "iopub.status.idle": "2023-03-10T13:06:05.470752Z",
     "shell.execute_reply": "2023-03-10T13:06:05.470021Z",
     "shell.execute_reply.started": "2023-03-10T13:05:42.459509Z"
    },
    "tags": []
   },
   "outputs": [
    {
     "name": "stdout",
     "output_type": "stream",
     "text": [
      "\n",
      "[ TIMELINE ]\n",
      "\n",
      "╔═════╤═══════════════════╤═════════════╤═══════════╤═════════════╤═════════════╤═════════════╗\n",
      "║ No. │ Instant           │ Action      │ State     │ Requested   │ Inflight    │ Completed   ║\n",
      "║     │                   │             │           │ Time        │ Time        │ Time        ║\n",
      "╠═════╪═══════════════════╪═════════════╪═══════════╪═════════════╪═════════════╪═════════════╣\n",
      "║ 0   │ 20230310130318582 │ deltacommit │ COMPLETED │ 03-10 13:03 │ 03-10 13:03 │ 03-10 13:04 ║\n",
      "╟─────┼───────────────────┼─────────────┼───────────┼─────────────┼─────────────┼─────────────╢\n",
      "║ 1   │ 20230310130428939 │ deltacommit │ COMPLETED │ 03-10 13:04 │ 03-10 13:04 │ 03-10 13:04 ║\n",
      "╟─────┼───────────────────┼─────────────┼───────────┼─────────────┼─────────────┼─────────────╢\n",
      "║ 2   │ 20230310130509649 │ deltacommit │ COMPLETED │ 03-10 13:05 │ 03-10 13:05 │ 03-10 13:05 ║\n",
      "╚═════╧═══════════════════╧═════════════╧═══════════╧═════════════╧═════════════╧═════════════╝\n",
      "\n",
      "[ COMMITS ]\n",
      "\n",
      "╔═══════════════════╤═════════════════════╤═══════════════════╤═════════════════════╤══════════════════════════╤═══════════════════════╤══════════════════════════════╤══════════════╗\n",
      "║ CommitTime        │ Total Bytes Written │ Total Files Added │ Total Files Updated │ Total Partitions Written │ Total Records Written │ Total Update Records Written │ Total Errors ║\n",
      "╠═══════════════════╪═════════════════════╪═══════════════════╪═════════════════════╪══════════════════════════╪═══════════════════════╪══════════════════════════════╪══════════════╣\n",
      "║ 20230310130509649 │ 168.8 MB            │ 0                 │ 2                   │ 2                        │ 318225                │ 318225                       │ 0            ║\n",
      "╟───────────────────┼─────────────────────┼───────────────────┼─────────────────────┼──────────────────────────┼───────────────────────┼──────────────────────────────┼──────────────╢\n",
      "║ 20230310130428939 │ 381.0 KB            │ 0                 │ 2                   │ 2                        │ 701                   │ 701                          │ 0            ║\n",
      "╟───────────────────┼─────────────────────┼───────────────────┼─────────────────────┼──────────────────────────┼───────────────────────┼──────────────────────────────┼──────────────╢\n",
      "║ 20230310130318582 │ 81.3 MB             │ 2                 │ 0                   │ 2                        │ 484469                │ 0                            │ 0            ║\n",
      "╚═══════════════════╧═════════════════════╧═══════════════════╧═════════════════════╧══════════════════════════╧═══════════════════════╧══════════════════════════════╧══════════════╝\n",
      "\n",
      "[ COMPACTIONS ]\n",
      "\n",
      "╔═════════════════════════╤═══════╤═══════════════════════════════╗\n",
      "║ Compaction Instant Time │ State │ Total FileIds to be Compacted ║\n",
      "╠═════════════════════════╧═══════╧═══════════════════════════════╣\n",
      "║ (empty)                                                         ║\n",
      "╚═════════════════════════════════════════════════════════════════╝\n",
      "\n",
      "[ STORAGE ]\n",
      "\n",
      "/home/emr-notebook/reviews_mor_3\n",
      "├── [125M 13:06:05]  parity=0\n",
      "│   ├── [177K 13:04:38]  .ad616551-3949-4cab-af07-29551d0c8560-0_20230310130318582.log.1_0-530-2117\n",
      "│   ├── [ 84M 13:05:29]  .ad616551-3949-4cab-af07-29551d0c8560-0_20230310130318582.log.2_0-578-2179\n",
      "│   └── [ 41M 13:03:51]  ad616551-3949-4cab-af07-29551d0c8560-0_0-482-2055_20230310130318582.parquet\n",
      "└── [125M 13:06:05]  parity=1\n",
      "    ├── [204K 13:04:38]  .584c376c-bc09-46ee-b6d8-59f93f0be2b6-0_20230310130318582.log.1_1-530-2118\n",
      "    ├── [ 84M 13:05:29]  .584c376c-bc09-46ee-b6d8-59f93f0be2b6-0_20230310130318582.log.2_1-578-2180\n",
      "    └── [ 41M 13:03:54]  584c376c-bc09-46ee-b6d8-59f93f0be2b6-0_1-482-2056_20230310130318582.parquet\n",
      "\n",
      " 251M used in 2 directories, 6 files\n"
     ]
    }
   ],
   "source": [
    "%%sh\n",
    "~/hudi-stat.sh s3://${S3_BUCKET}/${TABLE_NAME} timeline commits compactions storage"
   ]
  },
  {
   "cell_type": "markdown",
   "id": "f1c2185a-746d-4712-ae2d-10e601fb99ab",
   "metadata": {},
   "source": [
    "### 4.5. Async Schedule Compaction"
   ]
  },
  {
   "cell_type": "code",
   "execution_count": 59,
   "id": "5f0b4785-07ad-481e-ac72-06d420edc255",
   "metadata": {
    "execution": {
     "iopub.execute_input": "2023-03-10T13:06:05.472196Z",
     "iopub.status.busy": "2023-03-10T13:06:05.471954Z",
     "iopub.status.idle": "2023-03-10T13:06:29.910871Z",
     "shell.execute_reply": "2023-03-10T13:06:29.909998Z",
     "shell.execute_reply.started": "2023-03-10T13:06:05.472171Z"
    },
    "tags": []
   },
   "outputs": [],
   "source": [
    "%%sh\n",
    "# it's required for current user (emr-notebook) to get sudo permission\n",
    "sudo -u hadoop spark-submit \\\n",
    "  --jars '/usr/lib/hudi/hudi-spark-bundle.jar' \\\n",
    "  --class 'org.apache.hudi.utilities.HoodieCompactor' \\\n",
    "  /usr/lib/hudi/hudi-utilities-bundle.jar \\\n",
    "  --spark-memory '4g' \\\n",
    "  --mode 'schedule' \\\n",
    "  --base-path \"s3://${S3_BUCKET}/${TABLE_NAME}\" \\\n",
    "  --table-name \"$TABLE_NAME\" \\\n",
    "  --hoodie-conf \"hoodie.compact.inline.max.delta.commits=3\" > ~/${TABLE_NAME}.compaction.schedule.out &>/dev/null"
   ]
  },
  {
   "cell_type": "code",
   "execution_count": 60,
   "id": "96250395-441a-47fc-8ae0-2fb4ff764af7",
   "metadata": {
    "execution": {
     "iopub.execute_input": "2023-03-10T13:06:29.912430Z",
     "iopub.status.busy": "2023-03-10T13:06:29.912182Z",
     "iopub.status.idle": "2023-03-10T13:06:53.091941Z",
     "shell.execute_reply": "2023-03-10T13:06:53.091114Z",
     "shell.execute_reply.started": "2023-03-10T13:06:29.912406Z"
    },
    "tags": []
   },
   "outputs": [
    {
     "name": "stdout",
     "output_type": "stream",
     "text": [
      "\n",
      "[ TIMELINE ]\n",
      "\n",
      "╔═════╤═══════════════════╤═════════════╤═══════════╤═════════════╤═════════════╤═════════════╗\n",
      "║ No. │ Instant           │ Action      │ State     │ Requested   │ Inflight    │ Completed   ║\n",
      "║     │                   │             │           │ Time        │ Time        │ Time        ║\n",
      "╠═════╪═══════════════════╪═════════════╪═══════════╪═════════════╪═════════════╪═════════════╣\n",
      "║ 0   │ 20230310130318582 │ deltacommit │ COMPLETED │ 03-10 13:03 │ 03-10 13:03 │ 03-10 13:04 ║\n",
      "╟─────┼───────────────────┼─────────────┼───────────┼─────────────┼─────────────┼─────────────╢\n",
      "║ 1   │ 20230310130428939 │ deltacommit │ COMPLETED │ 03-10 13:04 │ 03-10 13:04 │ 03-10 13:04 ║\n",
      "╟─────┼───────────────────┼─────────────┼───────────┼─────────────┼─────────────┼─────────────╢\n",
      "║ 2   │ 20230310130509649 │ deltacommit │ COMPLETED │ 03-10 13:05 │ 03-10 13:05 │ 03-10 13:05 ║\n",
      "╟─────┼───────────────────┼─────────────┼───────────┼─────────────┼─────────────┼─────────────╢\n",
      "║ 3   │ 20230310130622297 │ compaction  │ REQUESTED │ 03-10 13:06 │ -           │ -           ║\n",
      "╚═════╧═══════════════════╧═════════════╧═══════════╧═════════════╧═════════════╧═════════════╝\n",
      "\n",
      "[ COMMITS ]\n",
      "\n",
      "╔═══════════════════╤═════════════════════╤═══════════════════╤═════════════════════╤══════════════════════════╤═══════════════════════╤══════════════════════════════╤══════════════╗\n",
      "║ CommitTime        │ Total Bytes Written │ Total Files Added │ Total Files Updated │ Total Partitions Written │ Total Records Written │ Total Update Records Written │ Total Errors ║\n",
      "╠═══════════════════╪═════════════════════╪═══════════════════╪═════════════════════╪══════════════════════════╪═══════════════════════╪══════════════════════════════╪══════════════╣\n",
      "║ 20230310130509649 │ 168.8 MB            │ 0                 │ 2                   │ 2                        │ 318225                │ 318225                       │ 0            ║\n",
      "╟───────────────────┼─────────────────────┼───────────────────┼─────────────────────┼──────────────────────────┼───────────────────────┼──────────────────────────────┼──────────────╢\n",
      "║ 20230310130428939 │ 381.0 KB            │ 0                 │ 2                   │ 2                        │ 701                   │ 701                          │ 0            ║\n",
      "╟───────────────────┼─────────────────────┼───────────────────┼─────────────────────┼──────────────────────────┼───────────────────────┼──────────────────────────────┼──────────────╢\n",
      "║ 20230310130318582 │ 81.3 MB             │ 2                 │ 0                   │ 2                        │ 484469                │ 0                            │ 0            ║\n",
      "╚═══════════════════╧═════════════════════╧═══════════════════╧═════════════════════╧══════════════════════════╧═══════════════════════╧══════════════════════════════╧══════════════╝\n",
      "\n",
      "[ COMPACTIONS ]\n",
      "\n",
      "╔═════════════════════════╤═══════════╤═══════════════════════════════╗\n",
      "║ Compaction Instant Time │ State     │ Total FileIds to be Compacted ║\n",
      "╠═════════════════════════╪═══════════╪═══════════════════════════════╣\n",
      "║ 20230310130622297       │ REQUESTED │ 2                             ║\n",
      "╚═════════════════════════╧═══════════╧═══════════════════════════════╝\n",
      "\n",
      "[ STORAGE ]\n",
      "\n",
      "/home/emr-notebook/reviews_mor_3\n",
      "├── [125M 13:06:05]  parity=0\n",
      "│   ├── [177K 13:04:38]  .ad616551-3949-4cab-af07-29551d0c8560-0_20230310130318582.log.1_0-530-2117\n",
      "│   ├── [ 84M 13:05:29]  .ad616551-3949-4cab-af07-29551d0c8560-0_20230310130318582.log.2_0-578-2179\n",
      "│   └── [ 41M 13:03:51]  ad616551-3949-4cab-af07-29551d0c8560-0_0-482-2055_20230310130318582.parquet\n",
      "└── [125M 13:06:05]  parity=1\n",
      "    ├── [204K 13:04:38]  .584c376c-bc09-46ee-b6d8-59f93f0be2b6-0_20230310130318582.log.1_1-530-2118\n",
      "    ├── [ 84M 13:05:29]  .584c376c-bc09-46ee-b6d8-59f93f0be2b6-0_20230310130318582.log.2_1-578-2180\n",
      "    └── [ 41M 13:03:54]  584c376c-bc09-46ee-b6d8-59f93f0be2b6-0_1-482-2056_20230310130318582.parquet\n",
      "\n",
      " 251M used in 2 directories, 6 files\n"
     ]
    }
   ],
   "source": [
    "%%sh\n",
    "~/hudi-stat.sh s3://${S3_BUCKET}/${TABLE_NAME} timeline commits compactions storage"
   ]
  },
  {
   "cell_type": "markdown",
   "id": "9a0aa695-1f7d-4a70-b321-57a21aef42ae",
   "metadata": {},
   "source": [
    "### 4.6. Async Execute Compaction"
   ]
  },
  {
   "cell_type": "code",
   "execution_count": 61,
   "id": "c9c8c148-b805-4ff1-8cf2-2a6fe77f21e8",
   "metadata": {
    "execution": {
     "iopub.execute_input": "2023-03-10T13:06:53.099737Z",
     "iopub.status.busy": "2023-03-10T13:06:53.099465Z",
     "iopub.status.idle": "2023-03-10T13:07:36.650583Z",
     "shell.execute_reply": "2023-03-10T13:07:36.649364Z",
     "shell.execute_reply.started": "2023-03-10T13:06:53.099708Z"
    },
    "tags": []
   },
   "outputs": [],
   "source": [
    "%%sh\n",
    "# it's required for current user (emr-notebook) to get sudo permission\n",
    "sudo -u hadoop spark-submit \\\n",
    "  --jars '/usr/lib/hudi/hudi-spark-bundle.jar' \\\n",
    "  --class \"org.apache.hudi.utilities.HoodieCompactor\" \\\n",
    "  /usr/lib/hudi/hudi-utilities-bundle.jar \\\n",
    "  --spark-memory '4g' \\\n",
    "  --mode 'execute' \\\n",
    "  --base-path \"s3://${S3_BUCKET}/${TABLE_NAME}\" \\\n",
    "  --table-name \"$TABLE_NAME\" > ~/${TABLE_NAME}.compaction.execute.out &>/dev/null"
   ]
  },
  {
   "cell_type": "code",
   "execution_count": 62,
   "id": "c9f122f1-50f1-4736-b7f3-82536c85c420",
   "metadata": {
    "execution": {
     "iopub.execute_input": "2023-03-10T13:07:36.653696Z",
     "iopub.status.busy": "2023-03-10T13:07:36.653407Z",
     "iopub.status.idle": "2023-03-10T13:08:01.734883Z",
     "shell.execute_reply": "2023-03-10T13:08:01.734076Z",
     "shell.execute_reply.started": "2023-03-10T13:07:36.653669Z"
    },
    "tags": []
   },
   "outputs": [
    {
     "name": "stdout",
     "output_type": "stream",
     "text": [
      "\n",
      "[ TIMELINE ]\n",
      "\n",
      "╔═════╤═══════════════════╤═════════════╤═══════════╤═════════════╤═════════════╤═════════════╗\n",
      "║ No. │ Instant           │ Action      │ State     │ Requested   │ Inflight    │ Completed   ║\n",
      "║     │                   │             │           │ Time        │ Time        │ Time        ║\n",
      "╠═════╪═══════════════════╪═════════════╪═══════════╪═════════════╪═════════════╪═════════════╣\n",
      "║ 0   │ 20230310130318582 │ deltacommit │ COMPLETED │ 03-10 13:03 │ 03-10 13:03 │ 03-10 13:04 ║\n",
      "╟─────┼───────────────────┼─────────────┼───────────┼─────────────┼─────────────┼─────────────╢\n",
      "║ 1   │ 20230310130428939 │ deltacommit │ COMPLETED │ 03-10 13:04 │ 03-10 13:04 │ 03-10 13:04 ║\n",
      "╟─────┼───────────────────┼─────────────┼───────────┼─────────────┼─────────────┼─────────────╢\n",
      "║ 2   │ 20230310130509649 │ deltacommit │ COMPLETED │ 03-10 13:05 │ 03-10 13:05 │ 03-10 13:05 ║\n",
      "╟─────┼───────────────────┼─────────────┼───────────┼─────────────┼─────────────┼─────────────╢\n",
      "║ 3   │ 20230310130622297 │ commit      │ COMPLETED │ 03-10 13:06 │ 03-10 13:07 │ 03-10 13:07 ║\n",
      "╚═════╧═══════════════════╧═════════════╧═══════════╧═════════════╧═════════════╧═════════════╝\n",
      "\n",
      "[ COMMITS ]\n",
      "\n",
      "╔═══════════════════╤═════════════════════╤═══════════════════╤═════════════════════╤══════════════════════════╤═══════════════════════╤══════════════════════════════╤══════════════╗\n",
      "║ CommitTime        │ Total Bytes Written │ Total Files Added │ Total Files Updated │ Total Partitions Written │ Total Records Written │ Total Update Records Written │ Total Errors ║\n",
      "╠═══════════════════╪═════════════════════╪═══════════════════╪═════════════════════╪══════════════════════════╪═══════════════════════╪══════════════════════════════╪══════════════╣\n",
      "║ 20230310130622297 │ 106.6 MB            │ 0                 │ 2                   │ 2                        │ 484469                │ 318460                       │ 0            ║\n",
      "╟───────────────────┼─────────────────────┼───────────────────┼─────────────────────┼──────────────────────────┼───────────────────────┼──────────────────────────────┼──────────────╢\n",
      "║ 20230310130509649 │ 168.8 MB            │ 0                 │ 2                   │ 2                        │ 318225                │ 318225                       │ 0            ║\n",
      "╟───────────────────┼─────────────────────┼───────────────────┼─────────────────────┼──────────────────────────┼───────────────────────┼──────────────────────────────┼──────────────╢\n",
      "║ 20230310130428939 │ 381.0 KB            │ 0                 │ 2                   │ 2                        │ 701                   │ 701                          │ 0            ║\n",
      "╟───────────────────┼─────────────────────┼───────────────────┼─────────────────────┼──────────────────────────┼───────────────────────┼──────────────────────────────┼──────────────╢\n",
      "║ 20230310130318582 │ 81.3 MB             │ 2                 │ 0                   │ 2                        │ 484469                │ 0                            │ 0            ║\n",
      "╚═══════════════════╧═════════════════════╧═══════════════════╧═════════════════════╧══════════════════════════╧═══════════════════════╧══════════════════════════════╧══════════════╝\n",
      "\n",
      "[ COMPACTIONS ]\n",
      "\n",
      "╔═════════════════════════╤═══════════╤═══════════════════════════════╗\n",
      "║ Compaction Instant Time │ State     │ Total FileIds to be Compacted ║\n",
      "╠═════════════════════════╪═══════════╪═══════════════════════════════╣\n",
      "║ 20230310130622297       │ COMPLETED │ 2                             ║\n",
      "╚═════════════════════════╧═══════════╧═══════════════════════════════╝\n",
      "\n",
      "[ STORAGE ]\n",
      "\n",
      "/home/emr-notebook/reviews_mor_3\n",
      "├── [179M 13:08:01]  parity=0\n",
      "│   ├── [177K 13:04:38]  .ad616551-3949-4cab-af07-29551d0c8560-0_20230310130318582.log.1_0-530-2117\n",
      "│   ├── [ 84M 13:05:29]  .ad616551-3949-4cab-af07-29551d0c8560-0_20230310130318582.log.2_0-578-2179\n",
      "│   ├── [ 53M 13:07:30]  ad616551-3949-4cab-af07-29551d0c8560-0_0-0-0_20230310130622297.parquet\n",
      "│   └── [ 41M 13:03:51]  ad616551-3949-4cab-af07-29551d0c8560-0_0-482-2055_20230310130318582.parquet\n",
      "└── [178M 13:08:01]  parity=1\n",
      "    ├── [204K 13:04:38]  .584c376c-bc09-46ee-b6d8-59f93f0be2b6-0_20230310130318582.log.1_1-530-2118\n",
      "    ├── [ 84M 13:05:29]  .584c376c-bc09-46ee-b6d8-59f93f0be2b6-0_20230310130318582.log.2_1-578-2180\n",
      "    ├── [ 53M 13:07:30]  584c376c-bc09-46ee-b6d8-59f93f0be2b6-0_1-0-1_20230310130622297.parquet\n",
      "    └── [ 41M 13:03:54]  584c376c-bc09-46ee-b6d8-59f93f0be2b6-0_1-482-2056_20230310130318582.parquet\n",
      "\n",
      " 357M used in 2 directories, 8 files\n"
     ]
    }
   ],
   "source": [
    "%%sh\n",
    "~/hudi-stat.sh s3://${S3_BUCKET}/${TABLE_NAME} timeline commits compactions storage"
   ]
  },
  {
   "cell_type": "code",
   "execution_count": null,
   "id": "d1d521b3-641d-450c-aa97-1c08f4718601",
   "metadata": {},
   "outputs": [],
   "source": []
  }
 ],
 "metadata": {
  "kernelspec": {
   "display_name": "Spark",
   "language": "scala",
   "name": "sparkkernel"
  },
  "language_info": {
   "codemirror_mode": "text/x-scala",
   "file_extension": ".sc",
   "mimetype": "text/x-scala",
   "name": "scala",
   "pygments_lexer": "scala"
  }
 },
 "nbformat": 4,
 "nbformat_minor": 5
}
