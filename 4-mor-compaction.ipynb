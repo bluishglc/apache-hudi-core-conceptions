{
 "cells": [
  {
   "cell_type": "markdown",
   "id": "1d574cc5-0034-439e-b4c9-45f0afea203d",
   "metadata": {
    "tags": []
   },
   "source": [
    "# Apache Hudi Core Conceptions (4) - MOR: Compaction"
   ]
  },
  {
   "cell_type": "markdown",
   "id": "a8f99894-93f3-4cef-a853-d2d73a3515b6",
   "metadata": {
    "tags": []
   },
   "source": [
    "## 1. Configuration"
   ]
  },
  {
   "cell_type": "code",
   "execution_count": 1,
   "id": "638504d6-1136-4807-af98-1d4248d1a8f3",
   "metadata": {
    "execution": {
     "iopub.execute_input": "2023-03-20T08:22:45.447675Z",
     "iopub.status.busy": "2023-03-20T08:22:45.447360Z",
     "iopub.status.idle": "2023-03-20T08:22:50.734411Z",
     "shell.execute_reply": "2023-03-20T08:22:50.733580Z",
     "shell.execute_reply.started": "2023-03-20T08:22:45.447648Z"
    },
    "tags": []
   },
   "outputs": [
    {
     "name": "stdout",
     "output_type": "stream",
     "text": [
      "-rw-r--r--   1 emr-notebook hdfsadmingroup   61421977 2023-03-20 08:22 /tmp/hudi-spark-bundle.jar\n"
     ]
    }
   ],
   "source": [
    "%%sh\n",
    "# deploy hudi bundle jar\n",
    "hdfs dfs -copyFromLocal -f /usr/lib/hudi/hudi-spark-bundle.jar /tmp/hudi-spark-bundle.jar\n",
    "hdfs dfs -ls /tmp/hudi-spark-bundle.jar"
   ]
  },
  {
   "cell_type": "code",
   "execution_count": 2,
   "id": "c7b533e6-60dc-44b6-be57-d3b86c11c583",
   "metadata": {
    "execution": {
     "iopub.execute_input": "2023-03-20T08:22:50.736098Z",
     "iopub.status.busy": "2023-03-20T08:22:50.735846Z",
     "iopub.status.idle": "2023-03-20T08:22:50.766404Z",
     "shell.execute_reply": "2023-03-20T08:22:50.765712Z",
     "shell.execute_reply.started": "2023-03-20T08:22:50.736073Z"
    },
    "tags": []
   },
   "outputs": [
    {
     "data": {
      "text/html": [
       "Current session configs: <tt>{'conf': {'spark.jars': 'hdfs:///tmp/hudi-spark-bundle.jar', 'spark.serializer': 'org.apache.spark.serializer.KryoSerializer', 'spark.sql.extensions': 'org.apache.spark.sql.hudi.HoodieSparkSessionExtension', 'spark.sql.catalog.spark_catalog': 'org.apache.spark.sql.hudi.catalog.HoodieCatalog'}, 'proxyUser': 'user_bluishglc', 'kind': 'spark'}</tt><br>"
      ],
      "text/plain": [
       "<IPython.core.display.HTML object>"
      ]
     },
     "metadata": {},
     "output_type": "display_data"
    },
    {
     "data": {
      "text/html": [
       "<table>\n<tbody><tr><th>ID</th><th>YARN Application ID</th><th>Kind</th><th>State</th><th>Spark UI</th><th>Driver log</th><th>User</th><th>Current session?</th></tr><tr><td>99</td><td>application_1678096020253_0193</td><td>spark</td><td>idle</td><td><a target=\"_blank\" href=\"http://ip-10-0-129-209.ec2.internal:20888/proxy/application_1678096020253_0193/\" class=\"emr-proxy-link j-6V65AY8X5VHR application_1678096020253_0193\" emr-resource=\"j-6V65AY8X5VHR\n\" application-id=\"application_1678096020253_0193\">Link</a></td><td><a target=\"_blank\" href=\"http://ip-10-0-132-108.ec2.internal:8042/node/containerlogs/container_1678096020253_0193_01_000001/livy\">Link</a></td><td>None</td><td></td></tr></tbody></table>"
      ],
      "text/plain": [
       "<IPython.core.display.HTML object>"
      ]
     },
     "metadata": {},
     "output_type": "display_data"
    }
   ],
   "source": [
    "%%configure -f\n",
    "{\n",
    "    \"conf\" : {\n",
    "        \"spark.jars\":\"hdfs:///tmp/hudi-spark-bundle.jar\",            \n",
    "        \"spark.serializer\":\"org.apache.spark.serializer.KryoSerializer\",\n",
    "        \"spark.sql.extensions\":\"org.apache.spark.sql.hudi.HoodieSparkSessionExtension\",\n",
    "        \"spark.sql.catalog.spark_catalog\":\"org.apache.spark.sql.hudi.catalog.HoodieCatalog\"\n",
    "    }\n",
    "}"
   ]
  },
  {
   "cell_type": "code",
   "execution_count": 3,
   "id": "8af4b944-fe51-41b9-90fb-ed249199f406",
   "metadata": {
    "execution": {
     "iopub.execute_input": "2023-03-20T08:22:50.768081Z",
     "iopub.status.busy": "2023-03-20T08:22:50.767846Z",
     "iopub.status.idle": "2023-03-20T08:22:50.772454Z",
     "shell.execute_reply": "2023-03-20T08:22:50.771752Z",
     "shell.execute_reply.started": "2023-03-20T08:22:50.768059Z"
    },
    "tags": []
   },
   "outputs": [
    {
     "name": "stdout",
     "output_type": "stream",
     "text": [
      "env: S3_BUCKET=apache-hudi-core-conceptions\n"
     ]
    }
   ],
   "source": [
    "%env S3_BUCKET=apache-hudi-core-conceptions"
   ]
  },
  {
   "cell_type": "code",
   "execution_count": 4,
   "id": "c5d08e30-76d6-4d19-af7c-15a49469c013",
   "metadata": {
    "execution": {
     "iopub.execute_input": "2023-03-20T08:22:50.774023Z",
     "iopub.status.busy": "2023-03-20T08:22:50.773755Z",
     "iopub.status.idle": "2023-03-20T08:23:20.336753Z",
     "shell.execute_reply": "2023-03-20T08:23:20.335976Z",
     "shell.execute_reply.started": "2023-03-20T08:22:50.773997Z"
    },
    "tags": []
   },
   "outputs": [
    {
     "name": "stdout",
     "output_type": "stream",
     "text": [
      "Starting Spark application\n"
     ]
    },
    {
     "data": {
      "text/html": [
       "<table>\n<tbody><tr><th>ID</th><th>YARN Application ID</th><th>Kind</th><th>State</th><th>Spark UI</th><th>Driver log</th><th>User</th><th>Current session?</th></tr><tr><td>102</td><td>application_1678096020253_0199</td><td>spark</td><td>idle</td><td><a target=\"_blank\" href=\"http://ip-10-0-129-209.ec2.internal:20888/proxy/application_1678096020253_0199/\" class=\"emr-proxy-link j-6V65AY8X5VHR application_1678096020253_0199\" emr-resource=\"j-6V65AY8X5VHR\n\" application-id=\"application_1678096020253_0199\">Link</a></td><td><a target=\"_blank\" href=\"http://ip-10-0-132-108.ec2.internal:8042/node/containerlogs/container_1678096020253_0199_01_000001/livy\">Link</a></td><td>None</td><td>✔</td></tr></tbody></table>"
      ],
      "text/plain": [
       "<IPython.core.display.HTML object>"
      ]
     },
     "metadata": {},
     "output_type": "display_data"
    },
    {
     "data": {
      "application/vnd.jupyter.widget-view+json": {
       "model_id": "",
       "version_major": 2,
       "version_minor": 0
      },
      "text/plain": [
       "FloatProgress(value=0.0, bar_style='info', description='Progress:', layout=Layout(height='25px', width='50%'),…"
      ]
     },
     "metadata": {},
     "output_type": "display_data"
    },
    {
     "name": "stdout",
     "output_type": "stream",
     "text": [
      "SparkSession available as 'spark'.\n"
     ]
    },
    {
     "data": {
      "application/vnd.jupyter.widget-view+json": {
       "model_id": "",
       "version_major": 2,
       "version_minor": 0
      },
      "text/plain": [
       "FloatProgress(value=0.0, bar_style='info', description='Progress:', layout=Layout(height='25px', width='50%'),…"
      ]
     },
     "metadata": {},
     "output_type": "display_data"
    },
    {
     "data": {
      "text/html": [
       "<style>.jp-OutputArea-child .jupyter-widgets.jp-OutputArea-output { overflow: auto; }</style>"
      ],
      "text/plain": [
       "<IPython.core.display.HTML object>"
      ]
     },
     "metadata": {},
     "output_type": "display_data"
    },
    {
     "data": {
      "application/vnd.jupyter.widget-view+json": {
       "model_id": "b213161023d84238ad668fd5bcda8448",
       "version_major": 2,
       "version_minor": 0
      },
      "text/plain": [
       "VBox(children=(HBox(children=(HTML(value='Type:'), Button(description='Table', layout=Layout(width='70px'), st…"
      ]
     },
     "metadata": {},
     "output_type": "display_data"
    },
    {
     "data": {
      "application/vnd.jupyter.widget-view+json": {
       "model_id": "3cc83b8775ae4f7f8c26fbc2b1df5e42",
       "version_major": 2,
       "version_minor": 0
      },
      "text/plain": [
       "Output()"
      ]
     },
     "metadata": {},
     "output_type": "display_data"
    }
   ],
   "source": [
    "%%sql\n",
    "set S3_BUCKET=apache-hudi-core-conceptions"
   ]
  },
  {
   "cell_type": "code",
   "execution_count": 5,
   "id": "2b88311f-c410-4935-a41a-ce3d81c84920",
   "metadata": {
    "execution": {
     "iopub.execute_input": "2023-03-20T08:23:20.338385Z",
     "iopub.status.busy": "2023-03-20T08:23:20.337967Z",
     "iopub.status.idle": "2023-03-20T08:23:20.343100Z",
     "shell.execute_reply": "2023-03-20T08:23:20.342373Z",
     "shell.execute_reply.started": "2023-03-20T08:23:20.338354Z"
    },
    "tags": []
   },
   "outputs": [
    {
     "name": "stdout",
     "output_type": "stream",
     "text": [
      "env: WORKSPACE=/home/emr-notebook/apache-hudi-core-conceptions\n"
     ]
    }
   ],
   "source": [
    "%env WORKSPACE=/home/emr-notebook/apache-hudi-core-conceptions"
   ]
  },
  {
   "cell_type": "code",
   "execution_count": 6,
   "id": "78881ec6-4329-416b-ab27-38339020e322",
   "metadata": {
    "execution": {
     "iopub.execute_input": "2023-03-20T08:23:20.345019Z",
     "iopub.status.busy": "2023-03-20T08:23:20.344627Z",
     "iopub.status.idle": "2023-03-20T08:23:20.446840Z",
     "shell.execute_reply": "2023-03-20T08:23:20.445966Z",
     "shell.execute_reply.started": "2023-03-20T08:23:20.344988Z"
    },
    "tags": []
   },
   "outputs": [
    {
     "name": "stdout",
     "output_type": "stream",
     "text": [
      "/home/emr-notebook/apache-hudi-core-conceptions/hudi-stat.sh\n"
     ]
    }
   ],
   "source": [
    "%%sh\n",
    "# make workspace\n",
    "mkdir -p $WORKSPACE\n",
    "# deploy hudi-stat.sh, a utility shell script to output hudi table status\n",
    "wget https://raw.githubusercontent.com/bluishglc/apache-hudi-core-conceptions/master/hudi-stat.sh -O $WORKSPACE/hudi-stat.sh &>/dev/null\n",
    "chmod a+x $WORKSPACE/hudi-stat.sh\n",
    "ls $WORKSPACE/hudi-stat.sh"
   ]
  },
  {
   "cell_type": "code",
   "execution_count": 7,
   "id": "db234f04-c0c0-4be7-829b-0bbfc6e1395f",
   "metadata": {
    "execution": {
     "iopub.execute_input": "2023-03-20T08:23:20.448430Z",
     "iopub.status.busy": "2023-03-20T08:23:20.448168Z",
     "iopub.status.idle": "2023-03-20T08:23:20.454391Z",
     "shell.execute_reply": "2023-03-20T08:23:20.453549Z",
     "shell.execute_reply.started": "2023-03-20T08:23:20.448404Z"
    },
    "tags": []
   },
   "outputs": [
    {
     "data": {
      "text/html": [
       "<style>\n",
       "table {float:left}\n",
       "</style>\n"
      ],
      "text/plain": [
       "<IPython.core.display.HTML object>"
      ]
     },
     "metadata": {},
     "output_type": "display_data"
    }
   ],
   "source": [
    "%%html\n",
    "<style>\n",
    "table {float:left}\n",
    "</style>"
   ]
  },
  {
   "cell_type": "markdown",
   "id": "7915fc55-ebe6-4766-b32d-73f052f50c4f",
   "metadata": {
    "tags": []
   },
   "source": [
    "## 2. Test Case 1 - Sync Compaction ( Inline Schedule + Inline Execute )"
   ]
  },
  {
   "cell_type": "markdown",
   "id": "792c1cd6-5b05-4ca7-a97b-a30a599fc585",
   "metadata": {
    "jp-MarkdownHeadingCollapsed": true,
    "tags": []
   },
   "source": [
    "### 2.1. Test Plan\n",
    "\n",
    "Step No.|Action|Volume Per Partition |Storage\n",
    ":--------:|:------|:------|:----------\n",
    "1|Insert|96MB|+1 Base File\n",
    "2|Update|804KB|+1 Log File\n",
    "3|Update|1.2MB|+1 Log File +1 Base File"
   ]
  },
  {
   "cell_type": "markdown",
   "id": "41006950-e17e-46d5-9d8c-5ece022ecebd",
   "metadata": {
    "tags": []
   },
   "source": [
    "### 2.2. Key Settings\n",
    "\n",
    "KEY|DEFAULT VALUE|SET VALUE\n",
    ":---|:---|:---\n",
    "hoodie.compact.inline|false|true\n",
    "hoodie.compact.schedule.inline|false|false\n",
    "hoodie.compact.inline.max.delta.commits|5|3\n",
    "hoodie.copyonwrite.record.size.estimate|1024|175"
   ]
  },
  {
   "cell_type": "markdown",
   "id": "8a69bbf4-b366-4974-996e-55533732ff10",
   "metadata": {
    "execution": {
     "iopub.execute_input": "2023-02-25T02:57:45.037101Z",
     "iopub.status.busy": "2023-02-25T02:57:45.036681Z",
     "iopub.status.idle": "2023-02-25T02:58:07.353493Z",
     "shell.execute_reply": "2023-02-25T02:58:07.352596Z",
     "shell.execute_reply.started": "2023-02-25T02:57:45.037060Z"
    },
    "tags": []
   },
   "source": [
    "### 2.3. Set Variables"
   ]
  },
  {
   "cell_type": "code",
   "execution_count": 8,
   "id": "1c2945f5-27a3-45ab-90e5-3f76e941f758",
   "metadata": {
    "execution": {
     "iopub.execute_input": "2023-03-20T08:23:20.457236Z",
     "iopub.status.busy": "2023-03-20T08:23:20.456987Z",
     "iopub.status.idle": "2023-03-20T08:23:21.380611Z",
     "shell.execute_reply": "2023-03-20T08:23:21.379932Z",
     "shell.execute_reply.started": "2023-03-20T08:23:20.457212Z"
    },
    "tags": []
   },
   "outputs": [
    {
     "data": {
      "application/vnd.jupyter.widget-view+json": {
       "model_id": "",
       "version_major": 2,
       "version_minor": 0
      },
      "text/plain": [
       "FloatProgress(value=0.0, bar_style='info', description='Progress:', layout=Layout(height='25px', width='50%'),…"
      ]
     },
     "metadata": {},
     "output_type": "display_data"
    },
    {
     "data": {
      "text/html": [
       "<style>.jp-OutputArea-child .jupyter-widgets.jp-OutputArea-output { overflow: auto; }</style>"
      ],
      "text/plain": [
       "<IPython.core.display.HTML object>"
      ]
     },
     "metadata": {},
     "output_type": "display_data"
    },
    {
     "data": {
      "application/vnd.jupyter.widget-view+json": {
       "model_id": "3699d37fa65143d89ffa417cadf73599",
       "version_major": 2,
       "version_minor": 0
      },
      "text/plain": [
       "VBox(children=(HBox(children=(HTML(value='Type:'), Button(description='Table', layout=Layout(width='70px'), st…"
      ]
     },
     "metadata": {},
     "output_type": "display_data"
    },
    {
     "data": {
      "application/vnd.jupyter.widget-view+json": {
       "model_id": "ec7ad9dc190845339ced7982009d55b8",
       "version_major": 2,
       "version_minor": 0
      },
      "text/plain": [
       "Output()"
      ]
     },
     "metadata": {},
     "output_type": "display_data"
    }
   ],
   "source": [
    "%%sql\n",
    "set TABLE_NAME=reviews_mor_compaction_1"
   ]
  },
  {
   "cell_type": "code",
   "execution_count": 9,
   "id": "3438353c-696d-4b31-bd71-cc59834b6178",
   "metadata": {
    "execution": {
     "iopub.execute_input": "2023-03-20T08:23:21.382338Z",
     "iopub.status.busy": "2023-03-20T08:23:21.382102Z",
     "iopub.status.idle": "2023-03-20T08:23:21.386579Z",
     "shell.execute_reply": "2023-03-20T08:23:21.385929Z",
     "shell.execute_reply.started": "2023-03-20T08:23:21.382315Z"
    },
    "tags": []
   },
   "outputs": [
    {
     "name": "stdout",
     "output_type": "stream",
     "text": [
      "env: TABLE_NAME=reviews_mor_compaction_1\n"
     ]
    }
   ],
   "source": [
    "%env TABLE_NAME=reviews_mor_compaction_1"
   ]
  },
  {
   "cell_type": "markdown",
   "id": "d28de246-213d-417f-9846-7f972772dc6f",
   "metadata": {
    "tags": []
   },
   "source": [
    "### 2.4. Create Table"
   ]
  },
  {
   "cell_type": "code",
   "execution_count": 10,
   "id": "b5dc879f-be2f-4321-a11d-348432c93fc3",
   "metadata": {
    "execution": {
     "iopub.execute_input": "2023-03-20T08:23:21.387684Z",
     "iopub.status.busy": "2023-03-20T08:23:21.387464Z",
     "iopub.status.idle": "2023-03-20T08:23:27.148467Z",
     "shell.execute_reply": "2023-03-20T08:23:27.147582Z",
     "shell.execute_reply.started": "2023-03-20T08:23:21.387662Z"
    },
    "tags": []
   },
   "outputs": [],
   "source": [
    "%%sh\n",
    "aws s3 rm s3://${S3_BUCKET}/${TABLE_NAME} --recursive &>/dev/null\n",
    "rm -rf ${WORKSPACE}/${TABLE_NAME}\n",
    "sleep 5"
   ]
  },
  {
   "cell_type": "code",
   "execution_count": 11,
   "id": "18a7e743-3174-48f0-a03a-e0facb60ef31",
   "metadata": {
    "execution": {
     "iopub.execute_input": "2023-03-20T08:23:27.150453Z",
     "iopub.status.busy": "2023-03-20T08:23:27.150077Z",
     "iopub.status.idle": "2023-03-20T08:23:30.496782Z",
     "shell.execute_reply": "2023-03-20T08:23:30.496075Z",
     "shell.execute_reply.started": "2023-03-20T08:23:27.150413Z"
    },
    "tags": []
   },
   "outputs": [
    {
     "data": {
      "application/vnd.jupyter.widget-view+json": {
       "model_id": "",
       "version_major": 2,
       "version_minor": 0
      },
      "text/plain": [
       "FloatProgress(value=0.0, bar_style='info', description='Progress:', layout=Layout(height='25px', width='50%'),…"
      ]
     },
     "metadata": {},
     "output_type": "display_data"
    },
    {
     "data": {
      "text/html": [
       "<style>.jp-OutputArea-child .jupyter-widgets.jp-OutputArea-output { overflow: auto; }</style>"
      ],
      "text/plain": [
       "<IPython.core.display.HTML object>"
      ]
     },
     "metadata": {},
     "output_type": "display_data"
    },
    {
     "data": {
      "application/vnd.jupyter.widget-view+json": {
       "model_id": "24b1e09c17a44afc827a4caba5dcf2f0",
       "version_major": 2,
       "version_minor": 0
      },
      "text/plain": [
       "VBox(children=(HBox(), EncodingWidget(children=(VBox(children=(HTML(value='Encoding:'), Dropdown(description='…"
      ]
     },
     "metadata": {},
     "output_type": "display_data"
    },
    {
     "data": {
      "application/vnd.jupyter.widget-view+json": {
       "model_id": "7520c7b821d6477c90e1c66806bde91b",
       "version_major": 2,
       "version_minor": 0
      },
      "text/plain": [
       "Output()"
      ]
     },
     "metadata": {},
     "output_type": "display_data"
    }
   ],
   "source": [
    "%%sql\n",
    "drop table if exists ${TABLE_NAME}"
   ]
  },
  {
   "cell_type": "code",
   "execution_count": 12,
   "id": "2925561b-4951-4ef5-b911-9652d50c26f7",
   "metadata": {
    "execution": {
     "iopub.execute_input": "2023-03-20T08:23:30.498082Z",
     "iopub.status.busy": "2023-03-20T08:23:30.497823Z",
     "iopub.status.idle": "2023-03-20T08:23:31.316577Z",
     "shell.execute_reply": "2023-03-20T08:23:31.315873Z",
     "shell.execute_reply.started": "2023-03-20T08:23:30.498058Z"
    },
    "tags": []
   },
   "outputs": [
    {
     "data": {
      "application/vnd.jupyter.widget-view+json": {
       "model_id": "",
       "version_major": 2,
       "version_minor": 0
      },
      "text/plain": [
       "FloatProgress(value=0.0, bar_style='info', description='Progress:', layout=Layout(height='25px', width='50%'),…"
      ]
     },
     "metadata": {},
     "output_type": "display_data"
    },
    {
     "data": {
      "text/html": [
       "<style>.jp-OutputArea-child .jupyter-widgets.jp-OutputArea-output { overflow: auto; }</style>"
      ],
      "text/plain": [
       "<IPython.core.display.HTML object>"
      ]
     },
     "metadata": {},
     "output_type": "display_data"
    },
    {
     "data": {
      "application/vnd.jupyter.widget-view+json": {
       "model_id": "47144b97e11847b091e92b5618ff8ce2",
       "version_major": 2,
       "version_minor": 0
      },
      "text/plain": [
       "VBox(children=(HBox(), EncodingWidget(children=(VBox(children=(HTML(value='Encoding:'), Dropdown(description='…"
      ]
     },
     "metadata": {},
     "output_type": "display_data"
    },
    {
     "data": {
      "application/vnd.jupyter.widget-view+json": {
       "model_id": "959c90f632e449bb852ce32380336b6d",
       "version_major": 2,
       "version_minor": 0
      },
      "text/plain": [
       "Output()"
      ]
     },
     "metadata": {},
     "output_type": "display_data"
    }
   ],
   "source": [
    "%%sql\n",
    "drop table if exists ${TABLE_NAME}_ro"
   ]
  },
  {
   "cell_type": "code",
   "execution_count": 13,
   "id": "209f965e-f46f-4087-8ab1-455047885371",
   "metadata": {
    "execution": {
     "iopub.execute_input": "2023-03-20T08:23:31.317880Z",
     "iopub.status.busy": "2023-03-20T08:23:31.317640Z",
     "iopub.status.idle": "2023-03-20T08:23:32.154188Z",
     "shell.execute_reply": "2023-03-20T08:23:32.153509Z",
     "shell.execute_reply.started": "2023-03-20T08:23:31.317857Z"
    },
    "tags": []
   },
   "outputs": [
    {
     "data": {
      "application/vnd.jupyter.widget-view+json": {
       "model_id": "",
       "version_major": 2,
       "version_minor": 0
      },
      "text/plain": [
       "FloatProgress(value=0.0, bar_style='info', description='Progress:', layout=Layout(height='25px', width='50%'),…"
      ]
     },
     "metadata": {},
     "output_type": "display_data"
    },
    {
     "data": {
      "text/html": [
       "<style>.jp-OutputArea-child .jupyter-widgets.jp-OutputArea-output { overflow: auto; }</style>"
      ],
      "text/plain": [
       "<IPython.core.display.HTML object>"
      ]
     },
     "metadata": {},
     "output_type": "display_data"
    },
    {
     "data": {
      "application/vnd.jupyter.widget-view+json": {
       "model_id": "6e6439863246408f86a76c288880344f",
       "version_major": 2,
       "version_minor": 0
      },
      "text/plain": [
       "VBox(children=(HBox(), EncodingWidget(children=(VBox(children=(HTML(value='Encoding:'), Dropdown(description='…"
      ]
     },
     "metadata": {},
     "output_type": "display_data"
    },
    {
     "data": {
      "application/vnd.jupyter.widget-view+json": {
       "model_id": "44f4e2641cf04ad4959ea7512e0fde41",
       "version_major": 2,
       "version_minor": 0
      },
      "text/plain": [
       "Output()"
      ]
     },
     "metadata": {},
     "output_type": "display_data"
    }
   ],
   "source": [
    "%%sql\n",
    "drop table if exists ${TABLE_NAME}_rt"
   ]
  },
  {
   "cell_type": "code",
   "execution_count": 14,
   "id": "696144de-8567-4b4f-8608-b2e33bfc0b0b",
   "metadata": {
    "execution": {
     "iopub.execute_input": "2023-03-20T08:23:32.155476Z",
     "iopub.status.busy": "2023-03-20T08:23:32.155238Z",
     "iopub.status.idle": "2023-03-20T08:23:35.498479Z",
     "shell.execute_reply": "2023-03-20T08:23:35.497608Z",
     "shell.execute_reply.started": "2023-03-20T08:23:32.155453Z"
    },
    "tags": []
   },
   "outputs": [
    {
     "data": {
      "application/vnd.jupyter.widget-view+json": {
       "model_id": "",
       "version_major": 2,
       "version_minor": 0
      },
      "text/plain": [
       "FloatProgress(value=0.0, bar_style='info', description='Progress:', layout=Layout(height='25px', width='50%'),…"
      ]
     },
     "metadata": {},
     "output_type": "display_data"
    },
    {
     "data": {
      "text/html": [
       "<style>.jp-OutputArea-child .jupyter-widgets.jp-OutputArea-output { overflow: auto; }</style>"
      ],
      "text/plain": [
       "<IPython.core.display.HTML object>"
      ]
     },
     "metadata": {},
     "output_type": "display_data"
    },
    {
     "data": {
      "application/vnd.jupyter.widget-view+json": {
       "model_id": "f5b67ed1c8284c8b895166a756eb2e80",
       "version_major": 2,
       "version_minor": 0
      },
      "text/plain": [
       "VBox(children=(HBox(), EncodingWidget(children=(VBox(children=(HTML(value='Encoding:'), Dropdown(description='…"
      ]
     },
     "metadata": {},
     "output_type": "display_data"
    },
    {
     "data": {
      "application/vnd.jupyter.widget-view+json": {
       "model_id": "c546017e399e4d4999c0fe483046887d",
       "version_major": 2,
       "version_minor": 0
      },
      "text/plain": [
       "Output()"
      ]
     },
     "metadata": {},
     "output_type": "display_data"
    }
   ],
   "source": [
    "%%sql\n",
    "create table if not exists ${TABLE_NAME} (\n",
    "    review_id string, \n",
    "    star_rating long, \n",
    "    review_body string, \n",
    "    review_date date, \n",
    "    year long,\n",
    "    timestamp long,\n",
    "    parity int\n",
    ")\n",
    "using hudi\n",
    "location 's3://${S3_BUCKET}/${TABLE_NAME}'\n",
    "partitioned by (parity)\n",
    "options ( \n",
    "    type = 'mor',  \n",
    "    primaryKey = 'review_id', \n",
    "    preCombineField = 'timestamp',\n",
    "    hoodie.compact.inline = 'true',\n",
    "    hoodie.compact.schedule.inline = 'false',\n",
    "    hoodie.compact.inline.max.delta.commits = '3',\n",
    "    hoodie.copyonwrite.record.size.estimate = '175'\n",
    ");"
   ]
  },
  {
   "cell_type": "markdown",
   "id": "56de236b-7561-4cd0-a6e2-3fedc1074a4a",
   "metadata": {
    "tags": []
   },
   "source": [
    "### 2.5. Insert 96MB / +1 Base File"
   ]
  },
  {
   "cell_type": "code",
   "execution_count": 15,
   "id": "75655d62-397d-4399-87e0-511af8a5e252",
   "metadata": {
    "execution": {
     "iopub.execute_input": "2023-03-20T08:23:35.500284Z",
     "iopub.status.busy": "2023-03-20T08:23:35.499934Z",
     "iopub.status.idle": "2023-03-20T08:24:34.984983Z",
     "shell.execute_reply": "2023-03-20T08:24:34.984313Z",
     "shell.execute_reply.started": "2023-03-20T08:23:35.500248Z"
    },
    "tags": []
   },
   "outputs": [
    {
     "data": {
      "application/vnd.jupyter.widget-view+json": {
       "model_id": "",
       "version_major": 2,
       "version_minor": 0
      },
      "text/plain": [
       "FloatProgress(value=0.0, bar_style='info', description='Progress:', layout=Layout(height='25px', width='50%'),…"
      ]
     },
     "metadata": {},
     "output_type": "display_data"
    },
    {
     "data": {
      "text/html": [
       "<style>.jp-OutputArea-child .jupyter-widgets.jp-OutputArea-output { overflow: auto; }</style>"
      ],
      "text/plain": [
       "<IPython.core.display.HTML object>"
      ]
     },
     "metadata": {},
     "output_type": "display_data"
    },
    {
     "data": {
      "application/vnd.jupyter.widget-view+json": {
       "model_id": "85a57149372649f498690ece25070993",
       "version_major": 2,
       "version_minor": 0
      },
      "text/plain": [
       "VBox(children=(HBox(), EncodingWidget(children=(VBox(children=(HTML(value='Encoding:'), Dropdown(description='…"
      ]
     },
     "metadata": {},
     "output_type": "display_data"
    },
    {
     "data": {
      "application/vnd.jupyter.widget-view+json": {
       "model_id": "819a20ab4bf64cb2978d46ba5b30f2e0",
       "version_major": 2,
       "version_minor": 0
      },
      "text/plain": [
       "Output()"
      ]
     },
     "metadata": {},
     "output_type": "display_data"
    }
   ],
   "source": [
    "%%sql\n",
    "insert into \n",
    "    ${TABLE_NAME}\n",
    "select \n",
    "    review_id, \n",
    "    star_rating, \n",
    "    review_body, \n",
    "    review_date, \n",
    "    year,\n",
    "    unix_timestamp(current_timestamp()) as timestamp,\n",
    "    mod(crc32(review_id), 2) as parity\n",
    "from\n",
    "    reviews\n",
    "where\n",
    "    year = 2003"
   ]
  },
  {
   "cell_type": "code",
   "execution_count": 16,
   "id": "026ac372-3a9a-4cb2-b05c-d662efc2a2ce",
   "metadata": {
    "execution": {
     "iopub.execute_input": "2023-03-20T08:24:34.986198Z",
     "iopub.status.busy": "2023-03-20T08:24:34.985964Z",
     "iopub.status.idle": "2023-03-20T08:24:58.670454Z",
     "shell.execute_reply": "2023-03-20T08:24:58.669675Z",
     "shell.execute_reply.started": "2023-03-20T08:24:34.986175Z"
    },
    "tags": []
   },
   "outputs": [
    {
     "name": "stdout",
     "output_type": "stream",
     "text": [
      "\n",
      "[ TIMELINE ]\n",
      "\n",
      "╔═════╤═══════════════════╤═════════════╤═══════════╤═════════════╤═════════════╤═════════════╗\n",
      "║ No. │ Instant           │ Action      │ State     │ Requested   │ Inflight    │ Completed   ║\n",
      "║     │                   │             │           │ Time        │ Time        │ Time        ║\n",
      "╠═════╪═══════════════════╪═════════════╪═══════════╪═════════════╪═════════════╪═════════════╣\n",
      "║ 0   │ 20230320082336533 │ deltacommit │ COMPLETED │ 03-20 08:23 │ 03-20 08:23 │ 03-20 08:24 ║\n",
      "╚═════╧═══════════════════╧═════════════╧═══════════╧═════════════╧═════════════╧═════════════╝\n",
      "\n",
      "[ COMMITS ]\n",
      "\n",
      "╔═══════════════════╤═════════════════════╤═══════════════════╤═════════════════════╤══════════════════════════╤═══════════════════════╤══════════════════════════════╤══════════════╗\n",
      "║ CommitTime        │ Total Bytes Written │ Total Files Added │ Total Files Updated │ Total Partitions Written │ Total Records Written │ Total Update Records Written │ Total Errors ║\n",
      "╠═══════════════════╪═════════════════════╪═══════════════════╪═════════════════════╪══════════════════════════╪═══════════════════════╪══════════════════════════════╪══════════════╣\n",
      "║ 20230320082336533 │ 191.6 MB            │ 2                 │ 0                   │ 2                        │ 1155127               │ 0                            │ 0            ║\n",
      "╚═══════════════════╧═════════════════════╧═══════════════════╧═════════════════════╧══════════════════════════╧═══════════════════════╧══════════════════════════════╧══════════════╝\n",
      "\n",
      "[ COMPACTIONS ]\n",
      "\n",
      "╔═════════════════════════╤═══════╤═══════════════════════════════╗\n",
      "║ Compaction Instant Time │ State │ Total FileIds to be Compacted ║\n",
      "╠═════════════════════════╧═══════╧═══════════════════════════════╣\n",
      "║ (empty)                                                         ║\n",
      "╚═════════════════════════════════════════════════════════════════╝\n",
      "\n",
      "[ STORAGE ]\n",
      "\n",
      "/home/emr-notebook/apache-hudi-core-conceptions/reviews_mor_compaction_1\n",
      "├── [ 96M 08:24:58]  parity=0\n",
      "│   └── [ 96M 08:24:20]  c409e915-0254-4bd2-b504-9a9e2d3e2af2-0_0-35-630_20230320082336533.parquet\n",
      "└── [ 96M 08:24:58]  parity=1\n",
      "    └── [ 96M 08:24:21]  8386a358-9f88-4ecf-8194-27ff781382f4-0_1-35-631_20230320082336533.parquet\n"
     ]
    }
   ],
   "source": [
    "%%sh\n",
    "${WORKSPACE}/hudi-stat.sh s3://${S3_BUCKET}/${TABLE_NAME} timeline commits compactions storage"
   ]
  },
  {
   "cell_type": "markdown",
   "id": "8b09ae78-5fac-4a89-956d-6482046a0cae",
   "metadata": {
    "tags": []
   },
   "source": [
    "### 2.6. Update 803KB / +1 Log File"
   ]
  },
  {
   "cell_type": "code",
   "execution_count": 17,
   "id": "d7b2a994-1877-49b3-adb7-3e0bcbc603d6",
   "metadata": {
    "execution": {
     "iopub.execute_input": "2023-03-20T08:24:58.672015Z",
     "iopub.status.busy": "2023-03-20T08:24:58.671721Z",
     "iopub.status.idle": "2023-03-20T08:25:18.063522Z",
     "shell.execute_reply": "2023-03-20T08:25:18.062842Z",
     "shell.execute_reply.started": "2023-03-20T08:24:58.671971Z"
    },
    "tags": []
   },
   "outputs": [
    {
     "data": {
      "application/vnd.jupyter.widget-view+json": {
       "model_id": "",
       "version_major": 2,
       "version_minor": 0
      },
      "text/plain": [
       "FloatProgress(value=0.0, bar_style='info', description='Progress:', layout=Layout(height='25px', width='50%'),…"
      ]
     },
     "metadata": {},
     "output_type": "display_data"
    },
    {
     "data": {
      "text/html": [
       "<style>.jp-OutputArea-child .jupyter-widgets.jp-OutputArea-output { overflow: auto; }</style>"
      ],
      "text/plain": [
       "<IPython.core.display.HTML object>"
      ]
     },
     "metadata": {},
     "output_type": "display_data"
    },
    {
     "data": {
      "application/vnd.jupyter.widget-view+json": {
       "model_id": "12db2a62201741c8aff60e1093a76b06",
       "version_major": 2,
       "version_minor": 0
      },
      "text/plain": [
       "VBox(children=(HBox(), EncodingWidget(children=(VBox(children=(HTML(value='Encoding:'), Dropdown(description='…"
      ]
     },
     "metadata": {},
     "output_type": "display_data"
    },
    {
     "data": {
      "application/vnd.jupyter.widget-view+json": {
       "model_id": "0b653d1158f942fdb3f1a7c03a153f18",
       "version_major": 2,
       "version_minor": 0
      },
      "text/plain": [
       "Output()"
      ]
     },
     "metadata": {},
     "output_type": "display_data"
    }
   ],
   "source": [
    "%%sql\n",
    "update\n",
    "    ${TABLE_NAME}\n",
    "set             \n",
    "    review_body = concat(uuid(),uuid(),uuid(),uuid(),uuid(),uuid(),uuid(),uuid(),uuid(),uuid()),\n",
    "    timestamp = unix_timestamp(current_timestamp())\n",
    "where\n",
    "    review_date = '2003-01-01'\n",
    ";"
   ]
  },
  {
   "cell_type": "code",
   "execution_count": 18,
   "id": "4a3f08c1-7783-46af-a275-fdbb00f6ba0e",
   "metadata": {
    "execution": {
     "iopub.execute_input": "2023-03-20T08:25:18.064766Z",
     "iopub.status.busy": "2023-03-20T08:25:18.064529Z",
     "iopub.status.idle": "2023-03-20T08:25:39.432142Z",
     "shell.execute_reply": "2023-03-20T08:25:39.431300Z",
     "shell.execute_reply.started": "2023-03-20T08:25:18.064742Z"
    },
    "tags": []
   },
   "outputs": [
    {
     "name": "stdout",
     "output_type": "stream",
     "text": [
      "\n",
      "[ TIMELINE ]\n",
      "\n",
      "╔═════╤═══════════════════╤═════════════╤═══════════╤═════════════╤═════════════╤═════════════╗\n",
      "║ No. │ Instant           │ Action      │ State     │ Requested   │ Inflight    │ Completed   ║\n",
      "║     │                   │             │           │ Time        │ Time        │ Time        ║\n",
      "╠═════╪═══════════════════╪═════════════╪═══════════╪═════════════╪═════════════╪═════════════╣\n",
      "║ 0   │ 20230320082336533 │ deltacommit │ COMPLETED │ 03-20 08:23 │ 03-20 08:23 │ 03-20 08:24 ║\n",
      "╟─────┼───────────────────┼─────────────┼───────────┼─────────────┼─────────────┼─────────────╢\n",
      "║ 1   │ 20230320082459457 │ deltacommit │ COMPLETED │ 03-20 08:25 │ 03-20 08:25 │ 03-20 08:25 ║\n",
      "╚═════╧═══════════════════╧═════════════╧═══════════╧═════════════╧═════════════╧═════════════╝\n",
      "\n",
      "[ COMMITS ]\n",
      "\n",
      "╔═══════════════════╤═════════════════════╤═══════════════════╤═════════════════════╤══════════════════════════╤═══════════════════════╤══════════════════════════════╤══════════════╗\n",
      "║ CommitTime        │ Total Bytes Written │ Total Files Added │ Total Files Updated │ Total Partitions Written │ Total Records Written │ Total Update Records Written │ Total Errors ║\n",
      "╠═══════════════════╪═════════════════════╪═══════════════════╪═════════════════════╪══════════════════════════╪═══════════════════════╪══════════════════════════════╪══════════════╣\n",
      "║ 20230320082459457 │ 1.6 MB              │ 0                 │ 2                   │ 2                        │ 2951                  │ 2951                         │ 0            ║\n",
      "╟───────────────────┼─────────────────────┼───────────────────┼─────────────────────┼──────────────────────────┼───────────────────────┼──────────────────────────────┼──────────────╢\n",
      "║ 20230320082336533 │ 191.6 MB            │ 2                 │ 0                   │ 2                        │ 1155127               │ 0                            │ 0            ║\n",
      "╚═══════════════════╧═════════════════════╧═══════════════════╧═════════════════════╧══════════════════════════╧═══════════════════════╧══════════════════════════════╧══════════════╝\n",
      "\n",
      "[ COMPACTIONS ]\n",
      "\n",
      "╔═════════════════════════╤═══════╤═══════════════════════════════╗\n",
      "║ Compaction Instant Time │ State │ Total FileIds to be Compacted ║\n",
      "╠═════════════════════════╧═══════╧═══════════════════════════════╣\n",
      "║ (empty)                                                         ║\n",
      "╚═════════════════════════════════════════════════════════════════╝\n",
      "\n",
      "[ STORAGE ]\n",
      "\n",
      "/home/emr-notebook/apache-hudi-core-conceptions/reviews_mor_compaction_1\n",
      "├── [ 97M 08:25:39]  parity=0\n",
      "│   ├── [787K 08:25:08]  .c409e915-0254-4bd2-b504-9a9e2d3e2af2-0_20230320082336533.log.1_0-83-691\n",
      "│   └── [ 96M 08:24:20]  c409e915-0254-4bd2-b504-9a9e2d3e2af2-0_0-35-630_20230320082336533.parquet\n",
      "└── [ 97M 08:25:39]  parity=1\n",
      "    ├── [813K 08:25:08]  .8386a358-9f88-4ecf-8194-27ff781382f4-0_20230320082336533.log.1_1-83-692\n",
      "    └── [ 96M 08:24:21]  8386a358-9f88-4ecf-8194-27ff781382f4-0_1-35-631_20230320082336533.parquet\n"
     ]
    }
   ],
   "source": [
    "%%sh\n",
    "${WORKSPACE}/hudi-stat.sh s3://${S3_BUCKET}/${TABLE_NAME} timeline commits compactions storage"
   ]
  },
  {
   "cell_type": "markdown",
   "id": "92188a32-f51e-402b-a851-85b21021d0bb",
   "metadata": {
    "tags": []
   },
   "source": [
    "### 2.7. Update 1.2MB / +1 Log File +1 Base File"
   ]
  },
  {
   "cell_type": "code",
   "execution_count": 19,
   "id": "4c2900a0-e7a5-4a0e-9811-4c8511c2d699",
   "metadata": {
    "execution": {
     "iopub.execute_input": "2023-03-20T08:25:39.435010Z",
     "iopub.status.busy": "2023-03-20T08:25:39.434738Z",
     "iopub.status.idle": "2023-03-20T08:26:24.892972Z",
     "shell.execute_reply": "2023-03-20T08:26:24.891877Z",
     "shell.execute_reply.started": "2023-03-20T08:25:39.434978Z"
    },
    "tags": []
   },
   "outputs": [
    {
     "data": {
      "application/vnd.jupyter.widget-view+json": {
       "model_id": "",
       "version_major": 2,
       "version_minor": 0
      },
      "text/plain": [
       "FloatProgress(value=0.0, bar_style='info', description='Progress:', layout=Layout(height='25px', width='50%'),…"
      ]
     },
     "metadata": {},
     "output_type": "display_data"
    },
    {
     "data": {
      "text/html": [
       "<style>.jp-OutputArea-child .jupyter-widgets.jp-OutputArea-output { overflow: auto; }</style>"
      ],
      "text/plain": [
       "<IPython.core.display.HTML object>"
      ]
     },
     "metadata": {},
     "output_type": "display_data"
    },
    {
     "data": {
      "application/vnd.jupyter.widget-view+json": {
       "model_id": "a802ad97c54f4bc88b16165a38bc693e",
       "version_major": 2,
       "version_minor": 0
      },
      "text/plain": [
       "VBox(children=(HBox(), EncodingWidget(children=(VBox(children=(HTML(value='Encoding:'), Dropdown(description='…"
      ]
     },
     "metadata": {},
     "output_type": "display_data"
    },
    {
     "data": {
      "application/vnd.jupyter.widget-view+json": {
       "model_id": "4e35e233106347fc956a446943ecf02b",
       "version_major": 2,
       "version_minor": 0
      },
      "text/plain": [
       "Output()"
      ]
     },
     "metadata": {},
     "output_type": "display_data"
    }
   ],
   "source": [
    "%%sql\n",
    "update\n",
    "    ${TABLE_NAME}\n",
    "set             \n",
    "    review_body = concat(uuid(),uuid(),uuid(),uuid(),uuid(),uuid(),uuid(),uuid(),uuid(),uuid()),\n",
    "    timestamp = unix_timestamp(current_timestamp())\n",
    "where\n",
    "    review_date = '2003-01-02'\n",
    ";"
   ]
  },
  {
   "cell_type": "code",
   "execution_count": 20,
   "id": "d656a2a9-0d72-4afd-b1b0-ce71be37c43d",
   "metadata": {
    "execution": {
     "iopub.execute_input": "2023-03-20T08:26:24.894438Z",
     "iopub.status.busy": "2023-03-20T08:26:24.894148Z",
     "iopub.status.idle": "2023-03-20T08:26:48.200561Z",
     "shell.execute_reply": "2023-03-20T08:26:48.199718Z",
     "shell.execute_reply.started": "2023-03-20T08:26:24.894414Z"
    },
    "tags": []
   },
   "outputs": [
    {
     "name": "stdout",
     "output_type": "stream",
     "text": [
      "\n",
      "[ TIMELINE ]\n",
      "\n",
      "╔═════╤═══════════════════╤═════════════╤═══════════╤═════════════╤═════════════╤═════════════╗\n",
      "║ No. │ Instant           │ Action      │ State     │ Requested   │ Inflight    │ Completed   ║\n",
      "║     │                   │             │           │ Time        │ Time        │ Time        ║\n",
      "╠═════╪═══════════════════╪═════════════╪═══════════╪═════════════╪═════════════╪═════════════╣\n",
      "║ 0   │ 20230320082336533 │ deltacommit │ COMPLETED │ 03-20 08:23 │ 03-20 08:23 │ 03-20 08:24 ║\n",
      "╟─────┼───────────────────┼─────────────┼───────────┼─────────────┼─────────────┼─────────────╢\n",
      "║ 1   │ 20230320082459457 │ deltacommit │ COMPLETED │ 03-20 08:25 │ 03-20 08:25 │ 03-20 08:25 ║\n",
      "╟─────┼───────────────────┼─────────────┼───────────┼─────────────┼─────────────┼─────────────╢\n",
      "║ 2   │ 20230320082540109 │ deltacommit │ COMPLETED │ 03-20 08:25 │ 03-20 08:25 │ 03-20 08:25 ║\n",
      "╟─────┼───────────────────┼─────────────┼───────────┼─────────────┼─────────────┼─────────────╢\n",
      "║ 3   │ 20230320082554262 │ commit      │ COMPLETED │ 03-20 08:25 │ 03-20 08:25 │ 03-20 08:26 ║\n",
      "╚═════╧═══════════════════╧═════════════╧═══════════╧═════════════╧═════════════╧═════════════╝\n",
      "\n",
      "[ COMMITS ]\n",
      "\n",
      "╔═══════════════════╤═════════════════════╤═══════════════════╤═════════════════════╤══════════════════════════╤═══════════════════════╤══════════════════════════════╤══════════════╗\n",
      "║ CommitTime        │ Total Bytes Written │ Total Files Added │ Total Files Updated │ Total Partitions Written │ Total Records Written │ Total Update Records Written │ Total Errors ║\n",
      "╠═══════════════════╪═════════════════════╪═══════════════════╪═════════════════════╪══════════════════════════╪═══════════════════════╪══════════════════════════════╪══════════════╣\n",
      "║ 20230320082554262 │ 192.3 MB            │ 0                 │ 2                   │ 2                        │ 1155127               │ 7292                         │ 0            ║\n",
      "╟───────────────────┼─────────────────────┼───────────────────┼─────────────────────┼──────────────────────────┼───────────────────────┼──────────────────────────────┼──────────────╢\n",
      "║ 20230320082540109 │ 2.3 MB              │ 0                 │ 2                   │ 2                        │ 4341                  │ 4341                         │ 0            ║\n",
      "╟───────────────────┼─────────────────────┼───────────────────┼─────────────────────┼──────────────────────────┼───────────────────────┼──────────────────────────────┼──────────────╢\n",
      "║ 20230320082459457 │ 1.6 MB              │ 0                 │ 2                   │ 2                        │ 2951                  │ 2951                         │ 0            ║\n",
      "╟───────────────────┼─────────────────────┼───────────────────┼─────────────────────┼──────────────────────────┼───────────────────────┼──────────────────────────────┼──────────────╢\n",
      "║ 20230320082336533 │ 191.6 MB            │ 2                 │ 0                   │ 2                        │ 1155127               │ 0                            │ 0            ║\n",
      "╚═══════════════════╧═════════════════════╧═══════════════════╧═════════════════════╧══════════════════════════╧═══════════════════════╧══════════════════════════════╧══════════════╝\n",
      "\n",
      "[ COMPACTIONS ]\n",
      "\n",
      "╔═════════════════════════╤═══════════╤═══════════════════════════════╗\n",
      "║ Compaction Instant Time │ State     │ Total FileIds to be Compacted ║\n",
      "╠═════════════════════════╪═══════════╪═══════════════════════════════╣\n",
      "║ 20230320082554262       │ COMPLETED │ 2                             ║\n",
      "╚═════════════════════════╧═══════════╧═══════════════════════════════╝\n",
      "\n",
      "[ STORAGE ]\n",
      "\n",
      "/home/emr-notebook/apache-hudi-core-conceptions/reviews_mor_compaction_1\n",
      "├── [194M 08:26:48]  parity=0\n",
      "│   ├── [787K 08:25:08]  .c409e915-0254-4bd2-b504-9a9e2d3e2af2-0_20230320082336533.log.1_0-83-691\n",
      "│   ├── [1.2M 08:25:49]  .c409e915-0254-4bd2-b504-9a9e2d3e2af2-0_20230320082336533.log.2_0-131-752\n",
      "│   ├── [ 96M 08:24:20]  c409e915-0254-4bd2-b504-9a9e2d3e2af2-0_0-35-630_20230320082336533.parquet\n",
      "│   └── [ 96M 08:26:18]  c409e915-0254-4bd2-b504-9a9e2d3e2af2-0_1-154-774_20230320082554262.parquet\n",
      "└── [194M 08:26:48]  parity=1\n",
      "    ├── [813K 08:25:08]  .8386a358-9f88-4ecf-8194-27ff781382f4-0_20230320082336533.log.1_1-83-692\n",
      "    ├── [1.1M 08:25:49]  .8386a358-9f88-4ecf-8194-27ff781382f4-0_20230320082336533.log.2_1-131-753\n",
      "    ├── [ 96M 08:26:18]  8386a358-9f88-4ecf-8194-27ff781382f4-0_0-154-773_20230320082554262.parquet\n",
      "    └── [ 96M 08:24:21]  8386a358-9f88-4ecf-8194-27ff781382f4-0_1-35-631_20230320082336533.parquet\n"
     ]
    }
   ],
   "source": [
    "%%sh\n",
    "${WORKSPACE}/hudi-stat.sh s3://${S3_BUCKET}/${TABLE_NAME} timeline commits compactions storage"
   ]
  },
  {
   "cell_type": "markdown",
   "id": "b6b4d1a0-eb11-44c8-84d6-e5511b010ee1",
   "metadata": {
    "tags": []
   },
   "source": [
    "## 3. Test Case 2 - Async Compaction ( Offline Schedule, Offline Execute )"
   ]
  },
  {
   "cell_type": "markdown",
   "id": "733e27a1-3654-46c9-a983-e5b50cce7a2f",
   "metadata": {
    "tags": []
   },
   "source": [
    "### 3.1. Test Plan\n",
    "\n",
    "Step No.|Action|Volume Per Partition |Storage\n",
    ":--------:|:------|:------|:----------\n",
    "1|Insert|96MB|+1 Base File\n",
    "2|Update|804KB|+1 Log File\n",
    "3|Update|1.2MB|+1 Log File +1 Base File\n",
    "4|Offline Schedule|N/A|N/A\n",
    "5|Offline Execute|96.15MB|+1 Compacted File"
   ]
  },
  {
   "cell_type": "markdown",
   "id": "97e4f5b9-0a56-449d-8ebe-fcc0407f13de",
   "metadata": {
    "tags": []
   },
   "source": [
    "### 3.2. Key Settings\n",
    "\n",
    "KEY|DEFAULT VALUE|SET VALUE\n",
    ":---|:---|:---\n",
    "hoodie.compact.inline|false|true\n",
    "hoodie.compact.schedule.inline|false|false\n",
    "hoodie.compact.inline.max.delta.commits|5|3\n",
    "hoodie.copyonwrite.record.size.estimate|1024|175"
   ]
  },
  {
   "cell_type": "markdown",
   "id": "6fdade50-00ad-4d47-b203-81d8c8066938",
   "metadata": {
    "execution": {
     "iopub.execute_input": "2023-02-25T02:57:45.037101Z",
     "iopub.status.busy": "2023-02-25T02:57:45.036681Z",
     "iopub.status.idle": "2023-02-25T02:58:07.353493Z",
     "shell.execute_reply": "2023-02-25T02:58:07.352596Z",
     "shell.execute_reply.started": "2023-02-25T02:57:45.037060Z"
    },
    "tags": []
   },
   "source": [
    "### 3.3. Set Variables"
   ]
  },
  {
   "cell_type": "code",
   "execution_count": 21,
   "id": "3e358585-c75c-4840-98da-f3385d2d915d",
   "metadata": {
    "execution": {
     "iopub.execute_input": "2023-03-20T08:26:48.202440Z",
     "iopub.status.busy": "2023-03-20T08:26:48.202072Z",
     "iopub.status.idle": "2023-03-20T08:26:49.134233Z",
     "shell.execute_reply": "2023-03-20T08:26:49.133483Z",
     "shell.execute_reply.started": "2023-03-20T08:26:48.202399Z"
    },
    "tags": []
   },
   "outputs": [
    {
     "data": {
      "application/vnd.jupyter.widget-view+json": {
       "model_id": "",
       "version_major": 2,
       "version_minor": 0
      },
      "text/plain": [
       "FloatProgress(value=0.0, bar_style='info', description='Progress:', layout=Layout(height='25px', width='50%'),…"
      ]
     },
     "metadata": {},
     "output_type": "display_data"
    },
    {
     "data": {
      "text/html": [
       "<style>.jp-OutputArea-child .jupyter-widgets.jp-OutputArea-output { overflow: auto; }</style>"
      ],
      "text/plain": [
       "<IPython.core.display.HTML object>"
      ]
     },
     "metadata": {},
     "output_type": "display_data"
    },
    {
     "data": {
      "application/vnd.jupyter.widget-view+json": {
       "model_id": "aef5a2325d62456485978ced002a65bf",
       "version_major": 2,
       "version_minor": 0
      },
      "text/plain": [
       "VBox(children=(HBox(children=(HTML(value='Type:'), Button(description='Table', layout=Layout(width='70px'), st…"
      ]
     },
     "metadata": {},
     "output_type": "display_data"
    },
    {
     "data": {
      "application/vnd.jupyter.widget-view+json": {
       "model_id": "32b215d00caa438facee6dcb9ecb790d",
       "version_major": 2,
       "version_minor": 0
      },
      "text/plain": [
       "Output()"
      ]
     },
     "metadata": {},
     "output_type": "display_data"
    }
   ],
   "source": [
    "%%sql\n",
    "set TABLE_NAME=reviews_mor_compaction_2"
   ]
  },
  {
   "cell_type": "code",
   "execution_count": 22,
   "id": "a961a1cd-7a61-4fe8-aef5-36d54331aaef",
   "metadata": {
    "execution": {
     "iopub.execute_input": "2023-03-20T08:26:49.135676Z",
     "iopub.status.busy": "2023-03-20T08:26:49.135376Z",
     "iopub.status.idle": "2023-03-20T08:26:49.140075Z",
     "shell.execute_reply": "2023-03-20T08:26:49.139405Z",
     "shell.execute_reply.started": "2023-03-20T08:26:49.135645Z"
    },
    "tags": []
   },
   "outputs": [
    {
     "name": "stdout",
     "output_type": "stream",
     "text": [
      "env: TABLE_NAME=reviews_mor_compaction_2\n"
     ]
    }
   ],
   "source": [
    "%env TABLE_NAME=reviews_mor_compaction_2"
   ]
  },
  {
   "cell_type": "markdown",
   "id": "50c3d8e7-c792-45c7-b1b7-00122d252000",
   "metadata": {
    "tags": []
   },
   "source": [
    "### 3.4. Create Table"
   ]
  },
  {
   "cell_type": "code",
   "execution_count": 23,
   "id": "1d6e4141-cea5-4d95-871c-5d3b1be082ec",
   "metadata": {
    "execution": {
     "iopub.execute_input": "2023-03-20T08:26:49.144982Z",
     "iopub.status.busy": "2023-03-20T08:26:49.144678Z",
     "iopub.status.idle": "2023-03-20T08:26:55.119819Z",
     "shell.execute_reply": "2023-03-20T08:26:55.118983Z",
     "shell.execute_reply.started": "2023-03-20T08:26:49.144957Z"
    },
    "tags": []
   },
   "outputs": [],
   "source": [
    "%%sh\n",
    "aws s3 rm s3://${S3_BUCKET}/${TABLE_NAME} --recursive &>/dev/null\n",
    "rm -rf ${WORKSPACE}/${TABLE_NAME}\n",
    "sleep 5"
   ]
  },
  {
   "cell_type": "code",
   "execution_count": 24,
   "id": "caae37d5-1168-4e68-a8f9-7c3313529971",
   "metadata": {
    "execution": {
     "iopub.execute_input": "2023-03-20T08:26:55.122293Z",
     "iopub.status.busy": "2023-03-20T08:26:55.122046Z",
     "iopub.status.idle": "2023-03-20T08:26:55.945551Z",
     "shell.execute_reply": "2023-03-20T08:26:55.944818Z",
     "shell.execute_reply.started": "2023-03-20T08:26:55.122269Z"
    },
    "tags": []
   },
   "outputs": [
    {
     "data": {
      "application/vnd.jupyter.widget-view+json": {
       "model_id": "",
       "version_major": 2,
       "version_minor": 0
      },
      "text/plain": [
       "FloatProgress(value=0.0, bar_style='info', description='Progress:', layout=Layout(height='25px', width='50%'),…"
      ]
     },
     "metadata": {},
     "output_type": "display_data"
    },
    {
     "data": {
      "text/html": [
       "<style>.jp-OutputArea-child .jupyter-widgets.jp-OutputArea-output { overflow: auto; }</style>"
      ],
      "text/plain": [
       "<IPython.core.display.HTML object>"
      ]
     },
     "metadata": {},
     "output_type": "display_data"
    },
    {
     "data": {
      "application/vnd.jupyter.widget-view+json": {
       "model_id": "c7c1953a039e4101a467d652e3dfadc0",
       "version_major": 2,
       "version_minor": 0
      },
      "text/plain": [
       "VBox(children=(HBox(), EncodingWidget(children=(VBox(children=(HTML(value='Encoding:'), Dropdown(description='…"
      ]
     },
     "metadata": {},
     "output_type": "display_data"
    },
    {
     "data": {
      "application/vnd.jupyter.widget-view+json": {
       "model_id": "fa81341fee8a4c58a94e773fe6826d7b",
       "version_major": 2,
       "version_minor": 0
      },
      "text/plain": [
       "Output()"
      ]
     },
     "metadata": {},
     "output_type": "display_data"
    }
   ],
   "source": [
    "%%sql\n",
    "drop table if exists ${TABLE_NAME}"
   ]
  },
  {
   "cell_type": "code",
   "execution_count": 25,
   "id": "f0c8e2d7-ff10-4082-b71e-7268359d3574",
   "metadata": {
    "execution": {
     "iopub.execute_input": "2023-03-20T08:26:55.946744Z",
     "iopub.status.busy": "2023-03-20T08:26:55.946507Z",
     "iopub.status.idle": "2023-03-20T08:26:56.773776Z",
     "shell.execute_reply": "2023-03-20T08:26:56.772848Z",
     "shell.execute_reply.started": "2023-03-20T08:26:55.946722Z"
    },
    "tags": []
   },
   "outputs": [
    {
     "data": {
      "application/vnd.jupyter.widget-view+json": {
       "model_id": "",
       "version_major": 2,
       "version_minor": 0
      },
      "text/plain": [
       "FloatProgress(value=0.0, bar_style='info', description='Progress:', layout=Layout(height='25px', width='50%'),…"
      ]
     },
     "metadata": {},
     "output_type": "display_data"
    },
    {
     "data": {
      "text/html": [
       "<style>.jp-OutputArea-child .jupyter-widgets.jp-OutputArea-output { overflow: auto; }</style>"
      ],
      "text/plain": [
       "<IPython.core.display.HTML object>"
      ]
     },
     "metadata": {},
     "output_type": "display_data"
    },
    {
     "data": {
      "application/vnd.jupyter.widget-view+json": {
       "model_id": "3b7594fd9fb84260b7ac1cb7e51bb24a",
       "version_major": 2,
       "version_minor": 0
      },
      "text/plain": [
       "VBox(children=(HBox(), EncodingWidget(children=(VBox(children=(HTML(value='Encoding:'), Dropdown(description='…"
      ]
     },
     "metadata": {},
     "output_type": "display_data"
    },
    {
     "data": {
      "application/vnd.jupyter.widget-view+json": {
       "model_id": "f37c8bfc5060410e90d8a37b5dea431b",
       "version_major": 2,
       "version_minor": 0
      },
      "text/plain": [
       "Output()"
      ]
     },
     "metadata": {},
     "output_type": "display_data"
    }
   ],
   "source": [
    "%%sql\n",
    "drop table if exists ${TABLE_NAME}_ro"
   ]
  },
  {
   "cell_type": "code",
   "execution_count": 26,
   "id": "3beb5c35-6be9-478d-aad6-ef1caa5f7430",
   "metadata": {
    "execution": {
     "iopub.execute_input": "2023-03-20T08:26:56.775143Z",
     "iopub.status.busy": "2023-03-20T08:26:56.774894Z",
     "iopub.status.idle": "2023-03-20T08:26:57.595250Z",
     "shell.execute_reply": "2023-03-20T08:26:57.594362Z",
     "shell.execute_reply.started": "2023-03-20T08:26:56.775120Z"
    },
    "tags": []
   },
   "outputs": [
    {
     "data": {
      "application/vnd.jupyter.widget-view+json": {
       "model_id": "",
       "version_major": 2,
       "version_minor": 0
      },
      "text/plain": [
       "FloatProgress(value=0.0, bar_style='info', description='Progress:', layout=Layout(height='25px', width='50%'),…"
      ]
     },
     "metadata": {},
     "output_type": "display_data"
    },
    {
     "data": {
      "text/html": [
       "<style>.jp-OutputArea-child .jupyter-widgets.jp-OutputArea-output { overflow: auto; }</style>"
      ],
      "text/plain": [
       "<IPython.core.display.HTML object>"
      ]
     },
     "metadata": {},
     "output_type": "display_data"
    },
    {
     "data": {
      "application/vnd.jupyter.widget-view+json": {
       "model_id": "a1842682f6f34b4b9a68afdaa3112c82",
       "version_major": 2,
       "version_minor": 0
      },
      "text/plain": [
       "VBox(children=(HBox(), EncodingWidget(children=(VBox(children=(HTML(value='Encoding:'), Dropdown(description='…"
      ]
     },
     "metadata": {},
     "output_type": "display_data"
    },
    {
     "data": {
      "application/vnd.jupyter.widget-view+json": {
       "model_id": "cf3f2cebf0a644778e5ea0b3098c8f67",
       "version_major": 2,
       "version_minor": 0
      },
      "text/plain": [
       "Output()"
      ]
     },
     "metadata": {},
     "output_type": "display_data"
    }
   ],
   "source": [
    "%%sql\n",
    "drop table if exists ${TABLE_NAME}_rt"
   ]
  },
  {
   "cell_type": "code",
   "execution_count": 27,
   "id": "39157868-3a23-4309-993f-343d8849ee4b",
   "metadata": {
    "execution": {
     "iopub.execute_input": "2023-03-20T08:26:57.596566Z",
     "iopub.status.busy": "2023-03-20T08:26:57.596326Z",
     "iopub.status.idle": "2023-03-20T08:26:59.920357Z",
     "shell.execute_reply": "2023-03-20T08:26:59.919496Z",
     "shell.execute_reply.started": "2023-03-20T08:26:57.596544Z"
    },
    "tags": []
   },
   "outputs": [
    {
     "data": {
      "application/vnd.jupyter.widget-view+json": {
       "model_id": "",
       "version_major": 2,
       "version_minor": 0
      },
      "text/plain": [
       "FloatProgress(value=0.0, bar_style='info', description='Progress:', layout=Layout(height='25px', width='50%'),…"
      ]
     },
     "metadata": {},
     "output_type": "display_data"
    },
    {
     "data": {
      "text/html": [
       "<style>.jp-OutputArea-child .jupyter-widgets.jp-OutputArea-output { overflow: auto; }</style>"
      ],
      "text/plain": [
       "<IPython.core.display.HTML object>"
      ]
     },
     "metadata": {},
     "output_type": "display_data"
    },
    {
     "data": {
      "application/vnd.jupyter.widget-view+json": {
       "model_id": "7be134660b044035a1f278bcb76fc036",
       "version_major": 2,
       "version_minor": 0
      },
      "text/plain": [
       "VBox(children=(HBox(), EncodingWidget(children=(VBox(children=(HTML(value='Encoding:'), Dropdown(description='…"
      ]
     },
     "metadata": {},
     "output_type": "display_data"
    },
    {
     "data": {
      "application/vnd.jupyter.widget-view+json": {
       "model_id": "37d3c7140ee548788e0f7fd49c539696",
       "version_major": 2,
       "version_minor": 0
      },
      "text/plain": [
       "Output()"
      ]
     },
     "metadata": {},
     "output_type": "display_data"
    }
   ],
   "source": [
    "%%sql\n",
    "create table if not exists ${TABLE_NAME} (\n",
    "    review_id string, \n",
    "    star_rating long, \n",
    "    review_body string, \n",
    "    review_date date, \n",
    "    year long,\n",
    "    timestamp long,\n",
    "    parity int\n",
    ")\n",
    "using hudi\n",
    "location 's3://${S3_BUCKET}/${TABLE_NAME}'\n",
    "partitioned by (parity)\n",
    "options ( \n",
    "    type = 'mor',  \n",
    "    primaryKey = 'review_id', \n",
    "    preCombineField = 'timestamp',\n",
    "    hoodie.compact.inline = 'false',\n",
    "    hoodie.compact.schedule.inline = 'false',\n",
    "    hoodie.compact.inline.max.delta.commits = '3',\n",
    "    hoodie.copyonwrite.record.size.estimate = '175'\n",
    ");"
   ]
  },
  {
   "cell_type": "markdown",
   "id": "9245a1f4-bb6b-4866-8e92-1215b1078019",
   "metadata": {
    "tags": []
   },
   "source": [
    "### 3.5. Insert 96MB / +1 Base File"
   ]
  },
  {
   "cell_type": "code",
   "execution_count": 28,
   "id": "8ef4ae94-304a-4b11-911c-39a7bf3eb009",
   "metadata": {
    "execution": {
     "iopub.execute_input": "2023-03-20T08:26:59.921596Z",
     "iopub.status.busy": "2023-03-20T08:26:59.921349Z",
     "iopub.status.idle": "2023-03-20T08:27:43.370788Z",
     "shell.execute_reply": "2023-03-20T08:27:43.370102Z",
     "shell.execute_reply.started": "2023-03-20T08:26:59.921574Z"
    },
    "tags": []
   },
   "outputs": [
    {
     "data": {
      "application/vnd.jupyter.widget-view+json": {
       "model_id": "",
       "version_major": 2,
       "version_minor": 0
      },
      "text/plain": [
       "FloatProgress(value=0.0, bar_style='info', description='Progress:', layout=Layout(height='25px', width='50%'),…"
      ]
     },
     "metadata": {},
     "output_type": "display_data"
    },
    {
     "data": {
      "text/html": [
       "<style>.jp-OutputArea-child .jupyter-widgets.jp-OutputArea-output { overflow: auto; }</style>"
      ],
      "text/plain": [
       "<IPython.core.display.HTML object>"
      ]
     },
     "metadata": {},
     "output_type": "display_data"
    },
    {
     "data": {
      "application/vnd.jupyter.widget-view+json": {
       "model_id": "9937f07821b740aa953b9cefbbdf2d04",
       "version_major": 2,
       "version_minor": 0
      },
      "text/plain": [
       "VBox(children=(HBox(), EncodingWidget(children=(VBox(children=(HTML(value='Encoding:'), Dropdown(description='…"
      ]
     },
     "metadata": {},
     "output_type": "display_data"
    },
    {
     "data": {
      "application/vnd.jupyter.widget-view+json": {
       "model_id": "e34af9b96d6e443387e76133388fd969",
       "version_major": 2,
       "version_minor": 0
      },
      "text/plain": [
       "Output()"
      ]
     },
     "metadata": {},
     "output_type": "display_data"
    }
   ],
   "source": [
    "%%sql\n",
    "insert into \n",
    "    ${TABLE_NAME}\n",
    "select \n",
    "    review_id, \n",
    "    star_rating, \n",
    "    review_body, \n",
    "    review_date, \n",
    "    year,\n",
    "    unix_timestamp(current_timestamp()) as timestamp,\n",
    "    mod(crc32(review_id), 2) as parity\n",
    "from\n",
    "    reviews\n",
    "where\n",
    "    year = 2003"
   ]
  },
  {
   "cell_type": "code",
   "execution_count": 29,
   "id": "9bd9e397-d36b-4c13-a100-412071fbbe58",
   "metadata": {
    "execution": {
     "iopub.execute_input": "2023-03-20T08:27:43.372124Z",
     "iopub.status.busy": "2023-03-20T08:27:43.371724Z",
     "iopub.status.idle": "2023-03-20T08:28:08.175551Z",
     "shell.execute_reply": "2023-03-20T08:28:08.174774Z",
     "shell.execute_reply.started": "2023-03-20T08:27:43.372093Z"
    },
    "tags": []
   },
   "outputs": [
    {
     "name": "stdout",
     "output_type": "stream",
     "text": [
      "\n",
      "[ TIMELINE ]\n",
      "\n",
      "╔═════╤═══════════════════╤═════════════╤═══════════╤═════════════╤═════════════╤═════════════╗\n",
      "║ No. │ Instant           │ Action      │ State     │ Requested   │ Inflight    │ Completed   ║\n",
      "║     │                   │             │           │ Time        │ Time        │ Time        ║\n",
      "╠═════╪═══════════════════╪═════════════╪═══════════╪═════════════╪═════════════╪═════════════╣\n",
      "║ 0   │ 20230320082700479 │ deltacommit │ COMPLETED │ 03-20 08:27 │ 03-20 08:27 │ 03-20 08:27 ║\n",
      "╚═════╧═══════════════════╧═════════════╧═══════════╧═════════════╧═════════════╧═════════════╝\n",
      "\n",
      "[ COMMITS ]\n",
      "\n",
      "╔═══════════════════╤═════════════════════╤═══════════════════╤═════════════════════╤══════════════════════════╤═══════════════════════╤══════════════════════════════╤══════════════╗\n",
      "║ CommitTime        │ Total Bytes Written │ Total Files Added │ Total Files Updated │ Total Partitions Written │ Total Records Written │ Total Update Records Written │ Total Errors ║\n",
      "╠═══════════════════╪═════════════════════╪═══════════════════╪═════════════════════╪══════════════════════════╪═══════════════════════╪══════════════════════════════╪══════════════╣\n",
      "║ 20230320082700479 │ 191.6 MB            │ 2                 │ 0                   │ 2                        │ 1155127               │ 0                            │ 0            ║\n",
      "╚═══════════════════╧═════════════════════╧═══════════════════╧═════════════════════╧══════════════════════════╧═══════════════════════╧══════════════════════════════╧══════════════╝\n",
      "\n",
      "[ COMPACTIONS ]\n",
      "\n",
      "╔═════════════════════════╤═══════╤═══════════════════════════════╗\n",
      "║ Compaction Instant Time │ State │ Total FileIds to be Compacted ║\n",
      "╠═════════════════════════╧═══════╧═══════════════════════════════╣\n",
      "║ (empty)                                                         ║\n",
      "╚═════════════════════════════════════════════════════════════════╝\n",
      "\n",
      "[ STORAGE ]\n",
      "\n",
      "/home/emr-notebook/apache-hudi-core-conceptions/reviews_mor_compaction_2\n",
      "├── [ 96M 08:28:08]  parity=0\n",
      "│   └── [ 96M 08:27:33]  adb19cb1-1c55-48ac-a1ea-091128248846-0_0-207-1427_20230320082700479.parquet\n",
      "└── [ 96M 08:28:08]  parity=1\n",
      "    └── [ 96M 08:27:33]  f9f8cd64-57a8-453c-a498-6dd64b509b0a-0_1-207-1428_20230320082700479.parquet\n"
     ]
    }
   ],
   "source": [
    "%%sh\n",
    "${WORKSPACE}/hudi-stat.sh s3://${S3_BUCKET}/${TABLE_NAME} timeline commits compactions storage"
   ]
  },
  {
   "cell_type": "markdown",
   "id": "32af67bd-efd3-4b8e-9aed-c204fedc77c8",
   "metadata": {
    "tags": []
   },
   "source": [
    "### 3.6. Update 803KB / +1 Log File"
   ]
  },
  {
   "cell_type": "code",
   "execution_count": 30,
   "id": "a19c0c56-defc-4054-9104-943f2d10b1a1",
   "metadata": {
    "execution": {
     "iopub.execute_input": "2023-03-20T08:28:08.177111Z",
     "iopub.status.busy": "2023-03-20T08:28:08.176836Z",
     "iopub.status.idle": "2023-03-20T08:28:25.577880Z",
     "shell.execute_reply": "2023-03-20T08:28:25.577168Z",
     "shell.execute_reply.started": "2023-03-20T08:28:08.177085Z"
    },
    "tags": []
   },
   "outputs": [
    {
     "data": {
      "application/vnd.jupyter.widget-view+json": {
       "model_id": "",
       "version_major": 2,
       "version_minor": 0
      },
      "text/plain": [
       "FloatProgress(value=0.0, bar_style='info', description='Progress:', layout=Layout(height='25px', width='50%'),…"
      ]
     },
     "metadata": {},
     "output_type": "display_data"
    },
    {
     "data": {
      "text/html": [
       "<style>.jp-OutputArea-child .jupyter-widgets.jp-OutputArea-output { overflow: auto; }</style>"
      ],
      "text/plain": [
       "<IPython.core.display.HTML object>"
      ]
     },
     "metadata": {},
     "output_type": "display_data"
    },
    {
     "data": {
      "application/vnd.jupyter.widget-view+json": {
       "model_id": "102ccb8c7fb447249721d3eef0bf90b2",
       "version_major": 2,
       "version_minor": 0
      },
      "text/plain": [
       "VBox(children=(HBox(), EncodingWidget(children=(VBox(children=(HTML(value='Encoding:'), Dropdown(description='…"
      ]
     },
     "metadata": {},
     "output_type": "display_data"
    },
    {
     "data": {
      "application/vnd.jupyter.widget-view+json": {
       "model_id": "a17d5bb1ed014b7eb6707df6daadf20c",
       "version_major": 2,
       "version_minor": 0
      },
      "text/plain": [
       "Output()"
      ]
     },
     "metadata": {},
     "output_type": "display_data"
    }
   ],
   "source": [
    "%%sql\n",
    "update\n",
    "    ${TABLE_NAME}\n",
    "set             \n",
    "    review_body = concat(uuid(),uuid(),uuid(),uuid(),uuid(),uuid(),uuid(),uuid(),uuid(),uuid()),\n",
    "    timestamp = unix_timestamp(current_timestamp())\n",
    "where\n",
    "    review_date = '2003-01-01'\n",
    ";"
   ]
  },
  {
   "cell_type": "code",
   "execution_count": 31,
   "id": "6f13aace-5dfa-456a-9d7b-6b3d0d08f09c",
   "metadata": {
    "execution": {
     "iopub.execute_input": "2023-03-20T08:28:25.579142Z",
     "iopub.status.busy": "2023-03-20T08:28:25.578912Z",
     "iopub.status.idle": "2023-03-20T08:28:47.013355Z",
     "shell.execute_reply": "2023-03-20T08:28:47.012378Z",
     "shell.execute_reply.started": "2023-03-20T08:28:25.579120Z"
    },
    "tags": []
   },
   "outputs": [
    {
     "name": "stdout",
     "output_type": "stream",
     "text": [
      "\n",
      "[ TIMELINE ]\n",
      "\n",
      "╔═════╤═══════════════════╤═════════════╤═══════════╤═════════════╤═════════════╤═════════════╗\n",
      "║ No. │ Instant           │ Action      │ State     │ Requested   │ Inflight    │ Completed   ║\n",
      "║     │                   │             │           │ Time        │ Time        │ Time        ║\n",
      "╠═════╪═══════════════════╪═════════════╪═══════════╪═════════════╪═════════════╪═════════════╣\n",
      "║ 0   │ 20230320082700479 │ deltacommit │ COMPLETED │ 03-20 08:27 │ 03-20 08:27 │ 03-20 08:27 ║\n",
      "╟─────┼───────────────────┼─────────────┼───────────┼─────────────┼─────────────┼─────────────╢\n",
      "║ 1   │ 20230320082808778 │ deltacommit │ COMPLETED │ 03-20 08:28 │ 03-20 08:28 │ 03-20 08:28 ║\n",
      "╚═════╧═══════════════════╧═════════════╧═══════════╧═════════════╧═════════════╧═════════════╝\n",
      "\n",
      "[ COMMITS ]\n",
      "\n",
      "╔═══════════════════╤═════════════════════╤═══════════════════╤═════════════════════╤══════════════════════════╤═══════════════════════╤══════════════════════════════╤══════════════╗\n",
      "║ CommitTime        │ Total Bytes Written │ Total Files Added │ Total Files Updated │ Total Partitions Written │ Total Records Written │ Total Update Records Written │ Total Errors ║\n",
      "╠═══════════════════╪═════════════════════╪═══════════════════╪═════════════════════╪══════════════════════════╪═══════════════════════╪══════════════════════════════╪══════════════╣\n",
      "║ 20230320082808778 │ 1.6 MB              │ 0                 │ 2                   │ 2                        │ 2951                  │ 2951                         │ 0            ║\n",
      "╟───────────────────┼─────────────────────┼───────────────────┼─────────────────────┼──────────────────────────┼───────────────────────┼──────────────────────────────┼──────────────╢\n",
      "║ 20230320082700479 │ 191.6 MB            │ 2                 │ 0                   │ 2                        │ 1155127               │ 0                            │ 0            ║\n",
      "╚═══════════════════╧═════════════════════╧═══════════════════╧═════════════════════╧══════════════════════════╧═══════════════════════╧══════════════════════════════╧══════════════╝\n",
      "\n",
      "[ COMPACTIONS ]\n",
      "\n",
      "╔═════════════════════════╤═══════╤═══════════════════════════════╗\n",
      "║ Compaction Instant Time │ State │ Total FileIds to be Compacted ║\n",
      "╠═════════════════════════╧═══════╧═══════════════════════════════╣\n",
      "║ (empty)                                                         ║\n",
      "╚═════════════════════════════════════════════════════════════════╝\n",
      "\n",
      "[ STORAGE ]\n",
      "\n",
      "/home/emr-notebook/apache-hudi-core-conceptions/reviews_mor_compaction_2\n",
      "├── [ 97M 08:28:46]  parity=0\n",
      "│   ├── [788K 08:28:17]  .adb19cb1-1c55-48ac-a1ea-091128248846-0_20230320082700479.log.1_0-255-1488\n",
      "│   └── [ 96M 08:27:33]  adb19cb1-1c55-48ac-a1ea-091128248846-0_0-207-1427_20230320082700479.parquet\n",
      "└── [ 97M 08:28:46]  parity=1\n",
      "    ├── [814K 08:28:17]  .f9f8cd64-57a8-453c-a498-6dd64b509b0a-0_20230320082700479.log.1_1-255-1489\n",
      "    └── [ 96M 08:27:33]  f9f8cd64-57a8-453c-a498-6dd64b509b0a-0_1-207-1428_20230320082700479.parquet\n"
     ]
    }
   ],
   "source": [
    "%%sh\n",
    "${WORKSPACE}/hudi-stat.sh s3://${S3_BUCKET}/${TABLE_NAME} timeline commits compactions storage"
   ]
  },
  {
   "cell_type": "markdown",
   "id": "6e08fab1-1da7-4d56-9105-1f1f198b94e3",
   "metadata": {
    "tags": []
   },
   "source": [
    "### 3.7. Update 1.2MB / +1 Log File +1 Base File"
   ]
  },
  {
   "cell_type": "code",
   "execution_count": 32,
   "id": "fb41bb13-86c9-476a-abdc-4e680da9137a",
   "metadata": {
    "execution": {
     "iopub.execute_input": "2023-03-20T08:28:47.016238Z",
     "iopub.status.busy": "2023-03-20T08:28:47.015904Z",
     "iopub.status.idle": "2023-03-20T08:29:04.396898Z",
     "shell.execute_reply": "2023-03-20T08:29:04.396095Z",
     "shell.execute_reply.started": "2023-03-20T08:28:47.016201Z"
    },
    "tags": []
   },
   "outputs": [
    {
     "data": {
      "application/vnd.jupyter.widget-view+json": {
       "model_id": "",
       "version_major": 2,
       "version_minor": 0
      },
      "text/plain": [
       "FloatProgress(value=0.0, bar_style='info', description='Progress:', layout=Layout(height='25px', width='50%'),…"
      ]
     },
     "metadata": {},
     "output_type": "display_data"
    },
    {
     "data": {
      "text/html": [
       "<style>.jp-OutputArea-child .jupyter-widgets.jp-OutputArea-output { overflow: auto; }</style>"
      ],
      "text/plain": [
       "<IPython.core.display.HTML object>"
      ]
     },
     "metadata": {},
     "output_type": "display_data"
    },
    {
     "data": {
      "application/vnd.jupyter.widget-view+json": {
       "model_id": "9211d2cf4cf14d9b8f22ec243f2f7f8f",
       "version_major": 2,
       "version_minor": 0
      },
      "text/plain": [
       "VBox(children=(HBox(), EncodingWidget(children=(VBox(children=(HTML(value='Encoding:'), Dropdown(description='…"
      ]
     },
     "metadata": {},
     "output_type": "display_data"
    },
    {
     "data": {
      "application/vnd.jupyter.widget-view+json": {
       "model_id": "91c6127acbcc4e7589376eb89d584d18",
       "version_major": 2,
       "version_minor": 0
      },
      "text/plain": [
       "Output()"
      ]
     },
     "metadata": {},
     "output_type": "display_data"
    }
   ],
   "source": [
    "%%sql\n",
    "update\n",
    "    ${TABLE_NAME}\n",
    "set             \n",
    "    review_body = concat(uuid(),uuid(),uuid(),uuid(),uuid(),uuid(),uuid(),uuid(),uuid(),uuid()),\n",
    "    timestamp = unix_timestamp(current_timestamp())\n",
    "where\n",
    "    review_date = '2003-01-02'\n",
    ";"
   ]
  },
  {
   "cell_type": "code",
   "execution_count": 33,
   "id": "cba4b634-6c5a-4399-a7fa-b2d3a1ea7779",
   "metadata": {
    "execution": {
     "iopub.execute_input": "2023-03-20T08:29:04.398146Z",
     "iopub.status.busy": "2023-03-20T08:29:04.397842Z",
     "iopub.status.idle": "2023-03-20T08:29:25.649699Z",
     "shell.execute_reply": "2023-03-20T08:29:25.648800Z",
     "shell.execute_reply.started": "2023-03-20T08:29:04.398121Z"
    },
    "tags": []
   },
   "outputs": [
    {
     "name": "stdout",
     "output_type": "stream",
     "text": [
      "\n",
      "[ TIMELINE ]\n",
      "\n",
      "╔═════╤═══════════════════╤═════════════╤═══════════╤═════════════╤═════════════╤═════════════╗\n",
      "║ No. │ Instant           │ Action      │ State     │ Requested   │ Inflight    │ Completed   ║\n",
      "║     │                   │             │           │ Time        │ Time        │ Time        ║\n",
      "╠═════╪═══════════════════╪═════════════╪═══════════╪═════════════╪═════════════╪═════════════╣\n",
      "║ 0   │ 20230320082700479 │ deltacommit │ COMPLETED │ 03-20 08:27 │ 03-20 08:27 │ 03-20 08:27 ║\n",
      "╟─────┼───────────────────┼─────────────┼───────────┼─────────────┼─────────────┼─────────────╢\n",
      "║ 1   │ 20230320082808778 │ deltacommit │ COMPLETED │ 03-20 08:28 │ 03-20 08:28 │ 03-20 08:28 ║\n",
      "╟─────┼───────────────────┼─────────────┼───────────┼─────────────┼─────────────┼─────────────╢\n",
      "║ 2   │ 20230320082847632 │ deltacommit │ COMPLETED │ 03-20 08:28 │ 03-20 08:28 │ 03-20 08:29 ║\n",
      "╚═════╧═══════════════════╧═════════════╧═══════════╧═════════════╧═════════════╧═════════════╝\n",
      "\n",
      "[ COMMITS ]\n",
      "\n",
      "╔═══════════════════╤═════════════════════╤═══════════════════╤═════════════════════╤══════════════════════════╤═══════════════════════╤══════════════════════════════╤══════════════╗\n",
      "║ CommitTime        │ Total Bytes Written │ Total Files Added │ Total Files Updated │ Total Partitions Written │ Total Records Written │ Total Update Records Written │ Total Errors ║\n",
      "╠═══════════════════╪═════════════════════╪═══════════════════╪═════════════════════╪══════════════════════════╪═══════════════════════╪══════════════════════════════╪══════════════╣\n",
      "║ 20230320082847632 │ 2.3 MB              │ 0                 │ 2                   │ 2                        │ 4341                  │ 4341                         │ 0            ║\n",
      "╟───────────────────┼─────────────────────┼───────────────────┼─────────────────────┼──────────────────────────┼───────────────────────┼──────────────────────────────┼──────────────╢\n",
      "║ 20230320082808778 │ 1.6 MB              │ 0                 │ 2                   │ 2                        │ 2951                  │ 2951                         │ 0            ║\n",
      "╟───────────────────┼─────────────────────┼───────────────────┼─────────────────────┼──────────────────────────┼───────────────────────┼──────────────────────────────┼──────────────╢\n",
      "║ 20230320082700479 │ 191.6 MB            │ 2                 │ 0                   │ 2                        │ 1155127               │ 0                            │ 0            ║\n",
      "╚═══════════════════╧═════════════════════╧═══════════════════╧═════════════════════╧══════════════════════════╧═══════════════════════╧══════════════════════════════╧══════════════╝\n",
      "\n",
      "[ COMPACTIONS ]\n",
      "\n",
      "╔═════════════════════════╤═══════╤═══════════════════════════════╗\n",
      "║ Compaction Instant Time │ State │ Total FileIds to be Compacted ║\n",
      "╠═════════════════════════╧═══════╧═══════════════════════════════╣\n",
      "║ (empty)                                                         ║\n",
      "╚═════════════════════════════════════════════════════════════════╝\n",
      "\n",
      "[ STORAGE ]\n",
      "\n",
      "/home/emr-notebook/apache-hudi-core-conceptions/reviews_mor_compaction_2\n",
      "├── [ 98M 08:29:25]  parity=0\n",
      "│   ├── [788K 08:28:17]  .adb19cb1-1c55-48ac-a1ea-091128248846-0_20230320082700479.log.1_0-255-1488\n",
      "│   ├── [1.2M 08:28:56]  .adb19cb1-1c55-48ac-a1ea-091128248846-0_20230320082700479.log.2_0-303-1549\n",
      "│   └── [ 96M 08:27:33]  adb19cb1-1c55-48ac-a1ea-091128248846-0_0-207-1427_20230320082700479.parquet\n",
      "└── [ 98M 08:29:25]  parity=1\n",
      "    ├── [814K 08:28:17]  .f9f8cd64-57a8-453c-a498-6dd64b509b0a-0_20230320082700479.log.1_1-255-1489\n",
      "    ├── [1.1M 08:28:56]  .f9f8cd64-57a8-453c-a498-6dd64b509b0a-0_20230320082700479.log.2_1-303-1550\n",
      "    └── [ 96M 08:27:33]  f9f8cd64-57a8-453c-a498-6dd64b509b0a-0_1-207-1428_20230320082700479.parquet\n"
     ]
    }
   ],
   "source": [
    "%%sh\n",
    "${WORKSPACE}/hudi-stat.sh s3://${S3_BUCKET}/${TABLE_NAME} timeline commits compactions storage"
   ]
  },
  {
   "cell_type": "markdown",
   "id": "67fedbb9-282c-4a31-8c45-92c606c0d1e8",
   "metadata": {},
   "source": [
    "### 3.8. Offline Schedule"
   ]
  },
  {
   "cell_type": "code",
   "execution_count": 34,
   "id": "d1a86eab-96d4-41ae-8d5c-fde85bceec28",
   "metadata": {
    "execution": {
     "iopub.execute_input": "2023-03-20T08:29:25.651392Z",
     "iopub.status.busy": "2023-03-20T08:29:25.651089Z",
     "iopub.status.idle": "2023-03-20T08:29:49.781208Z",
     "shell.execute_reply": "2023-03-20T08:29:49.780359Z",
     "shell.execute_reply.started": "2023-03-20T08:29:25.651365Z"
    }
   },
   "outputs": [],
   "source": [
    "%%sh\n",
    "# it's required for current user (emr-notebook) to get sudo permission\n",
    "sudo -u hadoop spark-submit \\\n",
    "  --jars '/usr/lib/hudi/hudi-spark-bundle.jar' \\\n",
    "  --class 'org.apache.hudi.utilities.HoodieCompactor' \\\n",
    "  /usr/lib/hudi/hudi-utilities-bundle.jar \\\n",
    "  --spark-memory '4g' \\\n",
    "  --mode 'schedule' \\\n",
    "  --base-path \"s3://${S3_BUCKET}/${TABLE_NAME}\" \\\n",
    "  --table-name \"$TABLE_NAME\" \\\n",
    "  --hoodie-conf \"hoodie.compact.inline.max.delta.commits=3\" > ${WORKSPACE}/${TABLE_NAME}.schedule.out &>/dev/null"
   ]
  },
  {
   "cell_type": "code",
   "execution_count": 35,
   "id": "5a37632a-a3ad-4a04-8ac2-6358dc87ca20",
   "metadata": {
    "execution": {
     "iopub.execute_input": "2023-03-20T08:29:49.783071Z",
     "iopub.status.busy": "2023-03-20T08:29:49.782741Z",
     "iopub.status.idle": "2023-03-20T08:30:11.389345Z",
     "shell.execute_reply": "2023-03-20T08:30:11.388566Z",
     "shell.execute_reply.started": "2023-03-20T08:29:49.783034Z"
    }
   },
   "outputs": [
    {
     "name": "stdout",
     "output_type": "stream",
     "text": [
      "\n",
      "[ TIMELINE ]\n",
      "\n",
      "╔═════╤═══════════════════╤═════════════╤═══════════╤═════════════╤═════════════╤═════════════╗\n",
      "║ No. │ Instant           │ Action      │ State     │ Requested   │ Inflight    │ Completed   ║\n",
      "║     │                   │             │           │ Time        │ Time        │ Time        ║\n",
      "╠═════╪═══════════════════╪═════════════╪═══════════╪═════════════╪═════════════╪═════════════╣\n",
      "║ 0   │ 20230320082700479 │ deltacommit │ COMPLETED │ 03-20 08:27 │ 03-20 08:27 │ 03-20 08:27 ║\n",
      "╟─────┼───────────────────┼─────────────┼───────────┼─────────────┼─────────────┼─────────────╢\n",
      "║ 1   │ 20230320082808778 │ deltacommit │ COMPLETED │ 03-20 08:28 │ 03-20 08:28 │ 03-20 08:28 ║\n",
      "╟─────┼───────────────────┼─────────────┼───────────┼─────────────┼─────────────┼─────────────╢\n",
      "║ 2   │ 20230320082847632 │ deltacommit │ COMPLETED │ 03-20 08:28 │ 03-20 08:28 │ 03-20 08:29 ║\n",
      "╟─────┼───────────────────┼─────────────┼───────────┼─────────────┼─────────────┼─────────────╢\n",
      "║ 3   │ 20230320082942155 │ compaction  │ REQUESTED │ 03-20 08:29 │ -           │ -           ║\n",
      "╚═════╧═══════════════════╧═════════════╧═══════════╧═════════════╧═════════════╧═════════════╝\n",
      "\n",
      "[ COMMITS ]\n",
      "\n",
      "╔═══════════════════╤═════════════════════╤═══════════════════╤═════════════════════╤══════════════════════════╤═══════════════════════╤══════════════════════════════╤══════════════╗\n",
      "║ CommitTime        │ Total Bytes Written │ Total Files Added │ Total Files Updated │ Total Partitions Written │ Total Records Written │ Total Update Records Written │ Total Errors ║\n",
      "╠═══════════════════╪═════════════════════╪═══════════════════╪═════════════════════╪══════════════════════════╪═══════════════════════╪══════════════════════════════╪══════════════╣\n",
      "║ 20230320082847632 │ 2.3 MB              │ 0                 │ 2                   │ 2                        │ 4341                  │ 4341                         │ 0            ║\n",
      "╟───────────────────┼─────────────────────┼───────────────────┼─────────────────────┼──────────────────────────┼───────────────────────┼──────────────────────────────┼──────────────╢\n",
      "║ 20230320082808778 │ 1.6 MB              │ 0                 │ 2                   │ 2                        │ 2951                  │ 2951                         │ 0            ║\n",
      "╟───────────────────┼─────────────────────┼───────────────────┼─────────────────────┼──────────────────────────┼───────────────────────┼──────────────────────────────┼──────────────╢\n",
      "║ 20230320082700479 │ 191.6 MB            │ 2                 │ 0                   │ 2                        │ 1155127               │ 0                            │ 0            ║\n",
      "╚═══════════════════╧═════════════════════╧═══════════════════╧═════════════════════╧══════════════════════════╧═══════════════════════╧══════════════════════════════╧══════════════╝\n",
      "\n",
      "[ COMPACTIONS ]\n",
      "\n",
      "╔═════════════════════════╤═══════════╤═══════════════════════════════╗\n",
      "║ Compaction Instant Time │ State     │ Total FileIds to be Compacted ║\n",
      "╠═════════════════════════╪═══════════╪═══════════════════════════════╣\n",
      "║ 20230320082942155       │ REQUESTED │ 2                             ║\n",
      "╚═════════════════════════╧═══════════╧═══════════════════════════════╝\n",
      "\n",
      "[ STORAGE ]\n",
      "\n",
      "/home/emr-notebook/apache-hudi-core-conceptions/reviews_mor_compaction_2\n",
      "├── [ 98M 08:29:25]  parity=0\n",
      "│   ├── [788K 08:28:17]  .adb19cb1-1c55-48ac-a1ea-091128248846-0_20230320082700479.log.1_0-255-1488\n",
      "│   ├── [1.2M 08:28:56]  .adb19cb1-1c55-48ac-a1ea-091128248846-0_20230320082700479.log.2_0-303-1549\n",
      "│   └── [ 96M 08:27:33]  adb19cb1-1c55-48ac-a1ea-091128248846-0_0-207-1427_20230320082700479.parquet\n",
      "└── [ 98M 08:29:25]  parity=1\n",
      "    ├── [814K 08:28:17]  .f9f8cd64-57a8-453c-a498-6dd64b509b0a-0_20230320082700479.log.1_1-255-1489\n",
      "    ├── [1.1M 08:28:56]  .f9f8cd64-57a8-453c-a498-6dd64b509b0a-0_20230320082700479.log.2_1-303-1550\n",
      "    └── [ 96M 08:27:33]  f9f8cd64-57a8-453c-a498-6dd64b509b0a-0_1-207-1428_20230320082700479.parquet\n"
     ]
    }
   ],
   "source": [
    "%%sh\n",
    "${WORKSPACE}/hudi-stat.sh s3://${S3_BUCKET}/${TABLE_NAME} timeline commits compactions storage"
   ]
  },
  {
   "cell_type": "markdown",
   "id": "767651e7-0f4c-496f-9f26-83be7f2b2d1e",
   "metadata": {},
   "source": [
    "### 3.9. Offline Execute 96.15MB / +1 Compacted File"
   ]
  },
  {
   "cell_type": "code",
   "execution_count": 36,
   "id": "339cad2f-0e58-4439-bc68-b6cdda8ccd5f",
   "metadata": {
    "execution": {
     "iopub.execute_input": "2023-03-20T08:30:11.390896Z",
     "iopub.status.busy": "2023-03-20T08:30:11.390650Z",
     "iopub.status.idle": "2023-03-20T08:31:02.489075Z",
     "shell.execute_reply": "2023-03-20T08:31:02.487985Z",
     "shell.execute_reply.started": "2023-03-20T08:30:11.390871Z"
    },
    "tags": []
   },
   "outputs": [],
   "source": [
    "%%sh\n",
    "# it's required for current user (emr-notebook) to get sudo permission\n",
    "sudo -u hadoop spark-submit \\\n",
    "  --jars '/usr/lib/hudi/hudi-spark-bundle.jar' \\\n",
    "  --class \"org.apache.hudi.utilities.HoodieCompactor\" \\\n",
    "  /usr/lib/hudi/hudi-utilities-bundle.jar \\\n",
    "  --spark-memory '4g' \\\n",
    "  --mode 'execute' \\\n",
    "  --base-path \"s3://${S3_BUCKET}/${TABLE_NAME}\" \\\n",
    "  --table-name \"$TABLE_NAME\" > ${WORKSPACE}/${TABLE_NAME}.execute.out &>/dev/null"
   ]
  },
  {
   "cell_type": "code",
   "execution_count": 37,
   "id": "f7f3db57-9035-4c93-a5a5-0df1c810cafe",
   "metadata": {
    "execution": {
     "iopub.execute_input": "2023-03-20T08:31:02.491089Z",
     "iopub.status.busy": "2023-03-20T08:31:02.490594Z",
     "iopub.status.idle": "2023-03-20T08:31:24.968585Z",
     "shell.execute_reply": "2023-03-20T08:31:24.967754Z",
     "shell.execute_reply.started": "2023-03-20T08:31:02.491060Z"
    },
    "tags": []
   },
   "outputs": [
    {
     "name": "stdout",
     "output_type": "stream",
     "text": [
      "\n",
      "[ TIMELINE ]\n",
      "\n",
      "╔═════╤═══════════════════╤═════════════╤═══════════╤═════════════╤═════════════╤═════════════╗\n",
      "║ No. │ Instant           │ Action      │ State     │ Requested   │ Inflight    │ Completed   ║\n",
      "║     │                   │             │           │ Time        │ Time        │ Time        ║\n",
      "╠═════╪═══════════════════╪═════════════╪═══════════╪═════════════╪═════════════╪═════════════╣\n",
      "║ 0   │ 20230320082700479 │ deltacommit │ COMPLETED │ 03-20 08:27 │ 03-20 08:27 │ 03-20 08:27 ║\n",
      "╟─────┼───────────────────┼─────────────┼───────────┼─────────────┼─────────────┼─────────────╢\n",
      "║ 1   │ 20230320082808778 │ deltacommit │ COMPLETED │ 03-20 08:28 │ 03-20 08:28 │ 03-20 08:28 ║\n",
      "╟─────┼───────────────────┼─────────────┼───────────┼─────────────┼─────────────┼─────────────╢\n",
      "║ 2   │ 20230320082847632 │ deltacommit │ COMPLETED │ 03-20 08:28 │ 03-20 08:28 │ 03-20 08:29 ║\n",
      "╟─────┼───────────────────┼─────────────┼───────────┼─────────────┼─────────────┼─────────────╢\n",
      "║ 3   │ 20230320082942155 │ commit      │ COMPLETED │ 03-20 08:29 │ 03-20 08:30 │ 03-20 08:31 ║\n",
      "╚═════╧═══════════════════╧═════════════╧═══════════╧═════════════╧═════════════╧═════════════╝\n",
      "\n",
      "[ COMMITS ]\n",
      "\n",
      "╔═══════════════════╤═════════════════════╤═══════════════════╤═════════════════════╤══════════════════════════╤═══════════════════════╤══════════════════════════════╤══════════════╗\n",
      "║ CommitTime        │ Total Bytes Written │ Total Files Added │ Total Files Updated │ Total Partitions Written │ Total Records Written │ Total Update Records Written │ Total Errors ║\n",
      "╠═══════════════════╪═════════════════════╪═══════════════════╪═════════════════════╪══════════════════════════╪═══════════════════════╪══════════════════════════════╪══════════════╣\n",
      "║ 20230320082942155 │ 192.3 MB            │ 0                 │ 2                   │ 2                        │ 1155127               │ 7292                         │ 0            ║\n",
      "╟───────────────────┼─────────────────────┼───────────────────┼─────────────────────┼──────────────────────────┼───────────────────────┼──────────────────────────────┼──────────────╢\n",
      "║ 20230320082847632 │ 2.3 MB              │ 0                 │ 2                   │ 2                        │ 4341                  │ 4341                         │ 0            ║\n",
      "╟───────────────────┼─────────────────────┼───────────────────┼─────────────────────┼──────────────────────────┼───────────────────────┼──────────────────────────────┼──────────────╢\n",
      "║ 20230320082808778 │ 1.6 MB              │ 0                 │ 2                   │ 2                        │ 2951                  │ 2951                         │ 0            ║\n",
      "╟───────────────────┼─────────────────────┼───────────────────┼─────────────────────┼──────────────────────────┼───────────────────────┼──────────────────────────────┼──────────────╢\n",
      "║ 20230320082700479 │ 191.6 MB            │ 2                 │ 0                   │ 2                        │ 1155127               │ 0                            │ 0            ║\n",
      "╚═══════════════════╧═════════════════════╧═══════════════════╧═════════════════════╧══════════════════════════╧═══════════════════════╧══════════════════════════════╧══════════════╝\n",
      "\n",
      "[ COMPACTIONS ]\n",
      "\n",
      "╔═════════════════════════╤═══════════╤═══════════════════════════════╗\n",
      "║ Compaction Instant Time │ State     │ Total FileIds to be Compacted ║\n",
      "╠═════════════════════════╪═══════════╪═══════════════════════════════╣\n",
      "║ 20230320082942155       │ COMPLETED │ 2                             ║\n",
      "╚═════════════════════════╧═══════════╧═══════════════════════════════╝\n",
      "\n",
      "[ STORAGE ]\n",
      "\n",
      "/home/emr-notebook/apache-hudi-core-conceptions/reviews_mor_compaction_2\n",
      "├── [194M 08:31:24]  parity=0\n",
      "│   ├── [788K 08:28:17]  .adb19cb1-1c55-48ac-a1ea-091128248846-0_20230320082700479.log.1_0-255-1488\n",
      "│   ├── [1.2M 08:28:56]  .adb19cb1-1c55-48ac-a1ea-091128248846-0_20230320082700479.log.2_0-303-1549\n",
      "│   ├── [ 96M 08:30:56]  adb19cb1-1c55-48ac-a1ea-091128248846-0_0-0-0_20230320082942155.parquet\n",
      "│   └── [ 96M 08:27:33]  adb19cb1-1c55-48ac-a1ea-091128248846-0_0-207-1427_20230320082700479.parquet\n",
      "└── [194M 08:31:24]  parity=1\n",
      "    ├── [814K 08:28:17]  .f9f8cd64-57a8-453c-a498-6dd64b509b0a-0_20230320082700479.log.1_1-255-1489\n",
      "    ├── [1.1M 08:28:56]  .f9f8cd64-57a8-453c-a498-6dd64b509b0a-0_20230320082700479.log.2_1-303-1550\n",
      "    ├── [ 96M 08:30:56]  f9f8cd64-57a8-453c-a498-6dd64b509b0a-0_1-0-1_20230320082942155.parquet\n",
      "    └── [ 96M 08:27:33]  f9f8cd64-57a8-453c-a498-6dd64b509b0a-0_1-207-1428_20230320082700479.parquet\n"
     ]
    }
   ],
   "source": [
    "%%sh\n",
    "${WORKSPACE}/hudi-stat.sh s3://${S3_BUCKET}/${TABLE_NAME} timeline commits compactions storage"
   ]
  },
  {
   "cell_type": "markdown",
   "id": "55444eec-8bca-40a6-9e55-93b01a62b14b",
   "metadata": {
    "tags": []
   },
   "source": [
    "## 4. Test Case 3 - Semi Async Compaction ( Inline Schedule, Offline Execute )"
   ]
  },
  {
   "cell_type": "markdown",
   "id": "f23e94a0-c051-48ef-bbc8-ac490daec733",
   "metadata": {
    "jp-MarkdownHeadingCollapsed": true,
    "tags": []
   },
   "source": [
    "### 4.1. Test Plan\n",
    "\n",
    "Step No.|Action|Volume Per Partition |Storage\n",
    ":--------:|:------|:------|:----------\n",
    "1|Insert|96MB|+1 Base File\n",
    "2|Update|804KB|+1 Log File\n",
    "3|Update|1.2MB|+1 Log File +1 Base File\n",
    "4|Offline Execute|96.15MB|+1 Compacted File"
   ]
  },
  {
   "cell_type": "markdown",
   "id": "ca054749-97a3-4d76-ab1f-97c14628eb45",
   "metadata": {
    "jp-MarkdownHeadingCollapsed": true,
    "tags": []
   },
   "source": [
    "### 4.2. Key Settings\n",
    "\n",
    "KEY|DEFAULT VALUE|SET VALUE\n",
    ":---|:---|:---\n",
    "hoodie.compact.inline|false|true\n",
    "hoodie.compact.schedule.inline|false|false\n",
    "hoodie.compact.inline.max.delta.commits|5|3\n",
    "hoodie.copyonwrite.record.size.estimate|1024|175"
   ]
  },
  {
   "cell_type": "markdown",
   "id": "958f85aa-bf3f-4c94-9ab2-a8e6826fa07d",
   "metadata": {
    "execution": {
     "iopub.execute_input": "2023-02-25T02:57:45.037101Z",
     "iopub.status.busy": "2023-02-25T02:57:45.036681Z",
     "iopub.status.idle": "2023-02-25T02:58:07.353493Z",
     "shell.execute_reply": "2023-02-25T02:58:07.352596Z",
     "shell.execute_reply.started": "2023-02-25T02:57:45.037060Z"
    },
    "tags": []
   },
   "source": [
    "### 4.3. Set Variables"
   ]
  },
  {
   "cell_type": "code",
   "execution_count": 38,
   "id": "c70795a8-5ad1-498a-9c77-1d22804448e3",
   "metadata": {
    "execution": {
     "iopub.execute_input": "2023-03-20T08:31:24.970430Z",
     "iopub.status.busy": "2023-03-20T08:31:24.970067Z",
     "iopub.status.idle": "2023-03-20T08:31:32.418989Z",
     "shell.execute_reply": "2023-03-20T08:31:32.418303Z",
     "shell.execute_reply.started": "2023-03-20T08:31:24.970391Z"
    },
    "tags": []
   },
   "outputs": [
    {
     "data": {
      "application/vnd.jupyter.widget-view+json": {
       "model_id": "",
       "version_major": 2,
       "version_minor": 0
      },
      "text/plain": [
       "FloatProgress(value=0.0, bar_style='info', description='Progress:', layout=Layout(height='25px', width='50%'),…"
      ]
     },
     "metadata": {},
     "output_type": "display_data"
    },
    {
     "data": {
      "text/html": [
       "<style>.jp-OutputArea-child .jupyter-widgets.jp-OutputArea-output { overflow: auto; }</style>"
      ],
      "text/plain": [
       "<IPython.core.display.HTML object>"
      ]
     },
     "metadata": {},
     "output_type": "display_data"
    },
    {
     "data": {
      "application/vnd.jupyter.widget-view+json": {
       "model_id": "8f59085f9e8d49889b00efbd02d49ef7",
       "version_major": 2,
       "version_minor": 0
      },
      "text/plain": [
       "VBox(children=(HBox(children=(HTML(value='Type:'), Button(description='Table', layout=Layout(width='70px'), st…"
      ]
     },
     "metadata": {},
     "output_type": "display_data"
    },
    {
     "data": {
      "application/vnd.jupyter.widget-view+json": {
       "model_id": "315c94b55aea4cc88950211889898548",
       "version_major": 2,
       "version_minor": 0
      },
      "text/plain": [
       "Output()"
      ]
     },
     "metadata": {},
     "output_type": "display_data"
    }
   ],
   "source": [
    "%%sql\n",
    "set TABLE_NAME=reviews_mor_compaction_3"
   ]
  },
  {
   "cell_type": "code",
   "execution_count": 39,
   "id": "8924e11f-9d8b-4e98-b1b5-bacae57433cc",
   "metadata": {
    "execution": {
     "iopub.execute_input": "2023-03-20T08:31:32.420246Z",
     "iopub.status.busy": "2023-03-20T08:31:32.420014Z",
     "iopub.status.idle": "2023-03-20T08:31:32.424469Z",
     "shell.execute_reply": "2023-03-20T08:31:32.423745Z",
     "shell.execute_reply.started": "2023-03-20T08:31:32.420224Z"
    },
    "tags": []
   },
   "outputs": [
    {
     "name": "stdout",
     "output_type": "stream",
     "text": [
      "env: TABLE_NAME=reviews_mor_compaction_3\n"
     ]
    }
   ],
   "source": [
    "%env TABLE_NAME=reviews_mor_compaction_3"
   ]
  },
  {
   "cell_type": "markdown",
   "id": "e1fffe57-a602-40f5-aa20-ea1285eeeb7f",
   "metadata": {
    "tags": []
   },
   "source": [
    "### 4.4. Create Table"
   ]
  },
  {
   "cell_type": "code",
   "execution_count": 40,
   "id": "e2064d50-0ca9-4765-8282-e0d2f5fed32a",
   "metadata": {
    "execution": {
     "iopub.execute_input": "2023-03-20T08:31:32.425678Z",
     "iopub.status.busy": "2023-03-20T08:31:32.425365Z",
     "iopub.status.idle": "2023-03-20T08:31:38.343710Z",
     "shell.execute_reply": "2023-03-20T08:31:38.342625Z",
     "shell.execute_reply.started": "2023-03-20T08:31:32.425655Z"
    },
    "tags": []
   },
   "outputs": [],
   "source": [
    "%%sh\n",
    "aws s3 rm s3://${S3_BUCKET}/${TABLE_NAME} --recursive &>/dev/null\n",
    "rm -rf ${WORKSPACE}/${TABLE_NAME}\n",
    "sleep 5"
   ]
  },
  {
   "cell_type": "code",
   "execution_count": 41,
   "id": "177683eb-3b33-4f22-a549-f8d86c16cd5d",
   "metadata": {
    "execution": {
     "iopub.execute_input": "2023-03-20T08:31:38.345628Z",
     "iopub.status.busy": "2023-03-20T08:31:38.345254Z",
     "iopub.status.idle": "2023-03-20T08:31:39.172228Z",
     "shell.execute_reply": "2023-03-20T08:31:39.171405Z",
     "shell.execute_reply.started": "2023-03-20T08:31:38.345590Z"
    },
    "tags": []
   },
   "outputs": [
    {
     "data": {
      "application/vnd.jupyter.widget-view+json": {
       "model_id": "",
       "version_major": 2,
       "version_minor": 0
      },
      "text/plain": [
       "FloatProgress(value=0.0, bar_style='info', description='Progress:', layout=Layout(height='25px', width='50%'),…"
      ]
     },
     "metadata": {},
     "output_type": "display_data"
    },
    {
     "data": {
      "text/html": [
       "<style>.jp-OutputArea-child .jupyter-widgets.jp-OutputArea-output { overflow: auto; }</style>"
      ],
      "text/plain": [
       "<IPython.core.display.HTML object>"
      ]
     },
     "metadata": {},
     "output_type": "display_data"
    },
    {
     "data": {
      "application/vnd.jupyter.widget-view+json": {
       "model_id": "2c342b77452b46a6a1d0b8f1dc292cb0",
       "version_major": 2,
       "version_minor": 0
      },
      "text/plain": [
       "VBox(children=(HBox(), EncodingWidget(children=(VBox(children=(HTML(value='Encoding:'), Dropdown(description='…"
      ]
     },
     "metadata": {},
     "output_type": "display_data"
    },
    {
     "data": {
      "application/vnd.jupyter.widget-view+json": {
       "model_id": "71556b545b624c7d859fbc59b0fae6aa",
       "version_major": 2,
       "version_minor": 0
      },
      "text/plain": [
       "Output()"
      ]
     },
     "metadata": {},
     "output_type": "display_data"
    }
   ],
   "source": [
    "%%sql\n",
    "drop table if exists ${TABLE_NAME}"
   ]
  },
  {
   "cell_type": "code",
   "execution_count": 42,
   "id": "48de5702-579b-49aa-b29d-69d75ae3b4a4",
   "metadata": {
    "execution": {
     "iopub.execute_input": "2023-03-20T08:31:39.173900Z",
     "iopub.status.busy": "2023-03-20T08:31:39.173536Z",
     "iopub.status.idle": "2023-03-20T08:31:39.998032Z",
     "shell.execute_reply": "2023-03-20T08:31:39.997159Z",
     "shell.execute_reply.started": "2023-03-20T08:31:39.173864Z"
    },
    "tags": []
   },
   "outputs": [
    {
     "data": {
      "application/vnd.jupyter.widget-view+json": {
       "model_id": "",
       "version_major": 2,
       "version_minor": 0
      },
      "text/plain": [
       "FloatProgress(value=0.0, bar_style='info', description='Progress:', layout=Layout(height='25px', width='50%'),…"
      ]
     },
     "metadata": {},
     "output_type": "display_data"
    },
    {
     "data": {
      "text/html": [
       "<style>.jp-OutputArea-child .jupyter-widgets.jp-OutputArea-output { overflow: auto; }</style>"
      ],
      "text/plain": [
       "<IPython.core.display.HTML object>"
      ]
     },
     "metadata": {},
     "output_type": "display_data"
    },
    {
     "data": {
      "application/vnd.jupyter.widget-view+json": {
       "model_id": "5993a56ee5a74f84ba9287562bc2cdda",
       "version_major": 2,
       "version_minor": 0
      },
      "text/plain": [
       "VBox(children=(HBox(), EncodingWidget(children=(VBox(children=(HTML(value='Encoding:'), Dropdown(description='…"
      ]
     },
     "metadata": {},
     "output_type": "display_data"
    },
    {
     "data": {
      "application/vnd.jupyter.widget-view+json": {
       "model_id": "f96ad7e10ff84bedbd77ae7177cb9a9c",
       "version_major": 2,
       "version_minor": 0
      },
      "text/plain": [
       "Output()"
      ]
     },
     "metadata": {},
     "output_type": "display_data"
    }
   ],
   "source": [
    "%%sql\n",
    "drop table if exists ${TABLE_NAME}_ro"
   ]
  },
  {
   "cell_type": "code",
   "execution_count": 43,
   "id": "de2a228d-9310-4e93-a5dd-fad37ff10b92",
   "metadata": {
    "execution": {
     "iopub.execute_input": "2023-03-20T08:31:39.999279Z",
     "iopub.status.busy": "2023-03-20T08:31:39.999051Z",
     "iopub.status.idle": "2023-03-20T08:31:40.837337Z",
     "shell.execute_reply": "2023-03-20T08:31:40.836482Z",
     "shell.execute_reply.started": "2023-03-20T08:31:39.999256Z"
    },
    "tags": []
   },
   "outputs": [
    {
     "data": {
      "application/vnd.jupyter.widget-view+json": {
       "model_id": "",
       "version_major": 2,
       "version_minor": 0
      },
      "text/plain": [
       "FloatProgress(value=0.0, bar_style='info', description='Progress:', layout=Layout(height='25px', width='50%'),…"
      ]
     },
     "metadata": {},
     "output_type": "display_data"
    },
    {
     "data": {
      "text/html": [
       "<style>.jp-OutputArea-child .jupyter-widgets.jp-OutputArea-output { overflow: auto; }</style>"
      ],
      "text/plain": [
       "<IPython.core.display.HTML object>"
      ]
     },
     "metadata": {},
     "output_type": "display_data"
    },
    {
     "data": {
      "application/vnd.jupyter.widget-view+json": {
       "model_id": "1f389582fd154629bff82385ef75e54b",
       "version_major": 2,
       "version_minor": 0
      },
      "text/plain": [
       "VBox(children=(HBox(), EncodingWidget(children=(VBox(children=(HTML(value='Encoding:'), Dropdown(description='…"
      ]
     },
     "metadata": {},
     "output_type": "display_data"
    },
    {
     "data": {
      "application/vnd.jupyter.widget-view+json": {
       "model_id": "b5130b947bd848e3ac8e95175cf9e664",
       "version_major": 2,
       "version_minor": 0
      },
      "text/plain": [
       "Output()"
      ]
     },
     "metadata": {},
     "output_type": "display_data"
    }
   ],
   "source": [
    "%%sql\n",
    "drop table if exists ${TABLE_NAME}_rt"
   ]
  },
  {
   "cell_type": "code",
   "execution_count": 44,
   "id": "bcbbdfb8-0757-4815-a551-2eed34a41eb8",
   "metadata": {
    "execution": {
     "iopub.execute_input": "2023-03-20T08:31:40.838685Z",
     "iopub.status.busy": "2023-03-20T08:31:40.838441Z",
     "iopub.status.idle": "2023-03-20T08:31:43.177685Z",
     "shell.execute_reply": "2023-03-20T08:31:43.177004Z",
     "shell.execute_reply.started": "2023-03-20T08:31:40.838661Z"
    },
    "tags": []
   },
   "outputs": [
    {
     "data": {
      "application/vnd.jupyter.widget-view+json": {
       "model_id": "",
       "version_major": 2,
       "version_minor": 0
      },
      "text/plain": [
       "FloatProgress(value=0.0, bar_style='info', description='Progress:', layout=Layout(height='25px', width='50%'),…"
      ]
     },
     "metadata": {},
     "output_type": "display_data"
    },
    {
     "data": {
      "text/html": [
       "<style>.jp-OutputArea-child .jupyter-widgets.jp-OutputArea-output { overflow: auto; }</style>"
      ],
      "text/plain": [
       "<IPython.core.display.HTML object>"
      ]
     },
     "metadata": {},
     "output_type": "display_data"
    },
    {
     "data": {
      "application/vnd.jupyter.widget-view+json": {
       "model_id": "2102c9451f5046c9ad9b412c436334a2",
       "version_major": 2,
       "version_minor": 0
      },
      "text/plain": [
       "VBox(children=(HBox(), EncodingWidget(children=(VBox(children=(HTML(value='Encoding:'), Dropdown(description='…"
      ]
     },
     "metadata": {},
     "output_type": "display_data"
    },
    {
     "data": {
      "application/vnd.jupyter.widget-view+json": {
       "model_id": "69eb745173404c6c80b68cb1ebc53825",
       "version_major": 2,
       "version_minor": 0
      },
      "text/plain": [
       "Output()"
      ]
     },
     "metadata": {},
     "output_type": "display_data"
    }
   ],
   "source": [
    "%%sql\n",
    "create table if not exists ${TABLE_NAME} (\n",
    "    review_id string, \n",
    "    star_rating long, \n",
    "    review_body string, \n",
    "    review_date date, \n",
    "    year long,\n",
    "    timestamp long,\n",
    "    parity int\n",
    ")\n",
    "using hudi\n",
    "location 's3://${S3_BUCKET}/${TABLE_NAME}'\n",
    "partitioned by (parity)\n",
    "options ( \n",
    "    type = 'mor',  \n",
    "    primaryKey = 'review_id', \n",
    "    preCombineField = 'timestamp',\n",
    "    hoodie.compact.inline = 'false',\n",
    "    hoodie.compact.schedule.inline = 'true',\n",
    "    hoodie.compact.inline.max.delta.commits = '3',\n",
    "    hoodie.copyonwrite.record.size.estimate = '175'\n",
    ");"
   ]
  },
  {
   "cell_type": "markdown",
   "id": "2e63a3f6-b9ee-4eb9-a14c-4f970aed7325",
   "metadata": {
    "tags": []
   },
   "source": [
    "### 4.5. Insert 96MB / +1 Base File"
   ]
  },
  {
   "cell_type": "code",
   "execution_count": 45,
   "id": "d15b6a2d-7e1f-4c6b-95df-4bf6c2fcd3ea",
   "metadata": {
    "execution": {
     "iopub.execute_input": "2023-03-20T08:31:43.178973Z",
     "iopub.status.busy": "2023-03-20T08:31:43.178735Z",
     "iopub.status.idle": "2023-03-20T08:32:40.645468Z",
     "shell.execute_reply": "2023-03-20T08:32:40.644647Z",
     "shell.execute_reply.started": "2023-03-20T08:31:43.178950Z"
    },
    "tags": []
   },
   "outputs": [
    {
     "data": {
      "application/vnd.jupyter.widget-view+json": {
       "model_id": "",
       "version_major": 2,
       "version_minor": 0
      },
      "text/plain": [
       "FloatProgress(value=0.0, bar_style='info', description='Progress:', layout=Layout(height='25px', width='50%'),…"
      ]
     },
     "metadata": {},
     "output_type": "display_data"
    },
    {
     "data": {
      "text/html": [
       "<style>.jp-OutputArea-child .jupyter-widgets.jp-OutputArea-output { overflow: auto; }</style>"
      ],
      "text/plain": [
       "<IPython.core.display.HTML object>"
      ]
     },
     "metadata": {},
     "output_type": "display_data"
    },
    {
     "data": {
      "application/vnd.jupyter.widget-view+json": {
       "model_id": "1eaa2596040e4a288a82a7b1a2f3ab21",
       "version_major": 2,
       "version_minor": 0
      },
      "text/plain": [
       "VBox(children=(HBox(), EncodingWidget(children=(VBox(children=(HTML(value='Encoding:'), Dropdown(description='…"
      ]
     },
     "metadata": {},
     "output_type": "display_data"
    },
    {
     "data": {
      "application/vnd.jupyter.widget-view+json": {
       "model_id": "748922f38112481db92c2ec6ab47c883",
       "version_major": 2,
       "version_minor": 0
      },
      "text/plain": [
       "Output()"
      ]
     },
     "metadata": {},
     "output_type": "display_data"
    }
   ],
   "source": [
    "%%sql\n",
    "insert into \n",
    "    ${TABLE_NAME}\n",
    "select \n",
    "    review_id, \n",
    "    star_rating, \n",
    "    review_body, \n",
    "    review_date, \n",
    "    year,\n",
    "    unix_timestamp(current_timestamp()) as timestamp,\n",
    "    mod(crc32(review_id), 2) as parity\n",
    "from\n",
    "    reviews\n",
    "where\n",
    "    year = 2003"
   ]
  },
  {
   "cell_type": "code",
   "execution_count": 46,
   "id": "e7da5cb3-6e06-4dcb-9540-3ae2f14d9d2e",
   "metadata": {
    "execution": {
     "iopub.execute_input": "2023-03-20T08:32:40.647283Z",
     "iopub.status.busy": "2023-03-20T08:32:40.646936Z",
     "iopub.status.idle": "2023-03-20T08:33:10.210224Z",
     "shell.execute_reply": "2023-03-20T08:33:10.208879Z",
     "shell.execute_reply.started": "2023-03-20T08:32:40.647247Z"
    },
    "tags": []
   },
   "outputs": [
    {
     "name": "stdout",
     "output_type": "stream",
     "text": [
      "\n",
      "[ TIMELINE ]\n",
      "\n",
      "╔═════╤═══════════════════╤═════════════╤═══════════╤═════════════╤═════════════╤═════════════╗\n",
      "║ No. │ Instant           │ Action      │ State     │ Requested   │ Inflight    │ Completed   ║\n",
      "║     │                   │             │           │ Time        │ Time        │ Time        ║\n",
      "╠═════╪═══════════════════╪═════════════╪═══════════╪═════════════╪═════════════╪═════════════╣\n",
      "║ 0   │ 20230320083143622 │ deltacommit │ COMPLETED │ 03-20 08:31 │ 03-20 08:32 │ 03-20 08:32 ║\n",
      "╚═════╧═══════════════════╧═════════════╧═══════════╧═════════════╧═════════════╧═════════════╝\n",
      "\n",
      "[ COMMITS ]\n",
      "\n",
      "╔═══════════════════╤═════════════════════╤═══════════════════╤═════════════════════╤══════════════════════════╤═══════════════════════╤══════════════════════════════╤══════════════╗\n",
      "║ CommitTime        │ Total Bytes Written │ Total Files Added │ Total Files Updated │ Total Partitions Written │ Total Records Written │ Total Update Records Written │ Total Errors ║\n",
      "╠═══════════════════╪═════════════════════╪═══════════════════╪═════════════════════╪══════════════════════════╪═══════════════════════╪══════════════════════════════╪══════════════╣\n",
      "║ 20230320083143622 │ 191.6 MB            │ 2                 │ 0                   │ 2                        │ 1155127               │ 0                            │ 0            ║\n",
      "╚═══════════════════╧═════════════════════╧═══════════════════╧═════════════════════╧══════════════════════════╧═══════════════════════╧══════════════════════════════╧══════════════╝\n",
      "\n",
      "[ COMPACTIONS ]\n",
      "\n",
      "╔═════════════════════════╤═══════╤═══════════════════════════════╗\n",
      "║ Compaction Instant Time │ State │ Total FileIds to be Compacted ║\n",
      "╠═════════════════════════╧═══════╧═══════════════════════════════╣\n",
      "║ (empty)                                                         ║\n",
      "╚═════════════════════════════════════════════════════════════════╝\n",
      "\n",
      "[ STORAGE ]\n",
      "\n",
      "/home/emr-notebook/apache-hudi-core-conceptions/reviews_mor_compaction_3\n",
      "├── [ 96M 08:33:10]  parity=0\n",
      "│   └── [ 96M 08:32:29]  01a24ac6-4a67-40f2-848e-8d4fcbfe5e62-0_0-365-1696_20230320083143622.parquet\n",
      "└── [ 96M 08:33:10]  parity=1\n",
      "    └── [ 96M 08:32:29]  e13ebd86-d4de-4fb3-9c58-9b89063792a5-0_1-365-1697_20230320083143622.parquet\n"
     ]
    }
   ],
   "source": [
    "%%sh\n",
    "${WORKSPACE}/hudi-stat.sh s3://${S3_BUCKET}/${TABLE_NAME} timeline commits compactions storage"
   ]
  },
  {
   "cell_type": "markdown",
   "id": "e536299d-3816-4a25-8903-20fd252316fe",
   "metadata": {
    "tags": []
   },
   "source": [
    "### 4.6. Update 803KB / +1 Log File"
   ]
  },
  {
   "cell_type": "code",
   "execution_count": 47,
   "id": "6de7d86c-c5c0-4a25-a59c-e2aa7f8d309f",
   "metadata": {
    "execution": {
     "iopub.execute_input": "2023-03-20T08:33:10.212213Z",
     "iopub.status.busy": "2023-03-20T08:33:10.211869Z",
     "iopub.status.idle": "2023-03-20T08:33:29.611207Z",
     "shell.execute_reply": "2023-03-20T08:33:29.610475Z",
     "shell.execute_reply.started": "2023-03-20T08:33:10.212179Z"
    },
    "tags": []
   },
   "outputs": [
    {
     "data": {
      "application/vnd.jupyter.widget-view+json": {
       "model_id": "",
       "version_major": 2,
       "version_minor": 0
      },
      "text/plain": [
       "FloatProgress(value=0.0, bar_style='info', description='Progress:', layout=Layout(height='25px', width='50%'),…"
      ]
     },
     "metadata": {},
     "output_type": "display_data"
    },
    {
     "data": {
      "text/html": [
       "<style>.jp-OutputArea-child .jupyter-widgets.jp-OutputArea-output { overflow: auto; }</style>"
      ],
      "text/plain": [
       "<IPython.core.display.HTML object>"
      ]
     },
     "metadata": {},
     "output_type": "display_data"
    },
    {
     "data": {
      "application/vnd.jupyter.widget-view+json": {
       "model_id": "5aa93b01cd94472abde8ed3343e46bfc",
       "version_major": 2,
       "version_minor": 0
      },
      "text/plain": [
       "VBox(children=(HBox(), EncodingWidget(children=(VBox(children=(HTML(value='Encoding:'), Dropdown(description='…"
      ]
     },
     "metadata": {},
     "output_type": "display_data"
    },
    {
     "data": {
      "application/vnd.jupyter.widget-view+json": {
       "model_id": "ced32fe0b53849db810c064caaf98bd2",
       "version_major": 2,
       "version_minor": 0
      },
      "text/plain": [
       "Output()"
      ]
     },
     "metadata": {},
     "output_type": "display_data"
    }
   ],
   "source": [
    "%%sql\n",
    "update\n",
    "    ${TABLE_NAME}\n",
    "set             \n",
    "    review_body = concat(uuid(),uuid(),uuid(),uuid(),uuid(),uuid(),uuid(),uuid(),uuid(),uuid()),\n",
    "    timestamp = unix_timestamp(current_timestamp())\n",
    "where\n",
    "    review_date = '2003-01-01'\n",
    ";"
   ]
  },
  {
   "cell_type": "code",
   "execution_count": 48,
   "id": "2658943d-5b22-4ccc-b781-9238f3b4ae69",
   "metadata": {
    "execution": {
     "iopub.execute_input": "2023-03-20T08:33:29.612473Z",
     "iopub.status.busy": "2023-03-20T08:33:29.612231Z",
     "iopub.status.idle": "2023-03-20T08:33:52.783229Z",
     "shell.execute_reply": "2023-03-20T08:33:52.782423Z",
     "shell.execute_reply.started": "2023-03-20T08:33:29.612450Z"
    },
    "tags": []
   },
   "outputs": [
    {
     "name": "stdout",
     "output_type": "stream",
     "text": [
      "\n",
      "[ TIMELINE ]\n",
      "\n",
      "╔═════╤═══════════════════╤═════════════╤═══════════╤═════════════╤═════════════╤═════════════╗\n",
      "║ No. │ Instant           │ Action      │ State     │ Requested   │ Inflight    │ Completed   ║\n",
      "║     │                   │             │           │ Time        │ Time        │ Time        ║\n",
      "╠═════╪═══════════════════╪═════════════╪═══════════╪═════════════╪═════════════╪═════════════╣\n",
      "║ 0   │ 20230320083143622 │ deltacommit │ COMPLETED │ 03-20 08:31 │ 03-20 08:32 │ 03-20 08:32 ║\n",
      "╟─────┼───────────────────┼─────────────┼───────────┼─────────────┼─────────────┼─────────────╢\n",
      "║ 1   │ 20230320083310877 │ deltacommit │ COMPLETED │ 03-20 08:33 │ 03-20 08:33 │ 03-20 08:33 ║\n",
      "╚═════╧═══════════════════╧═════════════╧═══════════╧═════════════╧═════════════╧═════════════╝\n",
      "\n",
      "[ COMMITS ]\n",
      "\n",
      "╔═══════════════════╤═════════════════════╤═══════════════════╤═════════════════════╤══════════════════════════╤═══════════════════════╤══════════════════════════════╤══════════════╗\n",
      "║ CommitTime        │ Total Bytes Written │ Total Files Added │ Total Files Updated │ Total Partitions Written │ Total Records Written │ Total Update Records Written │ Total Errors ║\n",
      "╠═══════════════════╪═════════════════════╪═══════════════════╪═════════════════════╪══════════════════════════╪═══════════════════════╪══════════════════════════════╪══════════════╣\n",
      "║ 20230320083310877 │ 1.6 MB              │ 0                 │ 2                   │ 2                        │ 2951                  │ 2951                         │ 0            ║\n",
      "╟───────────────────┼─────────────────────┼───────────────────┼─────────────────────┼──────────────────────────┼───────────────────────┼──────────────────────────────┼──────────────╢\n",
      "║ 20230320083143622 │ 191.6 MB            │ 2                 │ 0                   │ 2                        │ 1155127               │ 0                            │ 0            ║\n",
      "╚═══════════════════╧═════════════════════╧═══════════════════╧═════════════════════╧══════════════════════════╧═══════════════════════╧══════════════════════════════╧══════════════╝\n",
      "\n",
      "[ COMPACTIONS ]\n",
      "\n",
      "╔═════════════════════════╤═══════╤═══════════════════════════════╗\n",
      "║ Compaction Instant Time │ State │ Total FileIds to be Compacted ║\n",
      "╠═════════════════════════╧═══════╧═══════════════════════════════╣\n",
      "║ (empty)                                                         ║\n",
      "╚═════════════════════════════════════════════════════════════════╝\n",
      "\n",
      "[ STORAGE ]\n",
      "\n",
      "/home/emr-notebook/apache-hudi-core-conceptions/reviews_mor_compaction_3\n",
      "├── [ 97M 08:33:52]  parity=0\n",
      "│   ├── [787K 08:33:20]  .01a24ac6-4a67-40f2-848e-8d4fcbfe5e62-0_20230320083143622.log.1_0-413-1758\n",
      "│   └── [ 96M 08:32:29]  01a24ac6-4a67-40f2-848e-8d4fcbfe5e62-0_0-365-1696_20230320083143622.parquet\n",
      "└── [ 97M 08:33:52]  parity=1\n",
      "    ├── [812K 08:33:20]  .e13ebd86-d4de-4fb3-9c58-9b89063792a5-0_20230320083143622.log.1_1-413-1759\n",
      "    └── [ 96M 08:32:29]  e13ebd86-d4de-4fb3-9c58-9b89063792a5-0_1-365-1697_20230320083143622.parquet\n"
     ]
    }
   ],
   "source": [
    "%%sh\n",
    "${WORKSPACE}/hudi-stat.sh s3://${S3_BUCKET}/${TABLE_NAME} timeline commits compactions storage"
   ]
  },
  {
   "cell_type": "markdown",
   "id": "68b92eb9-a751-4605-bda8-8ec009560fbb",
   "metadata": {
    "tags": []
   },
   "source": [
    "### 4.7. Update 1.2MB / +1 Log File +1 Base File"
   ]
  },
  {
   "cell_type": "code",
   "execution_count": 49,
   "id": "86584bca-b9a6-4170-9c7b-e45750bd5515",
   "metadata": {
    "execution": {
     "iopub.execute_input": "2023-03-20T08:33:52.784711Z",
     "iopub.status.busy": "2023-03-20T08:33:52.784467Z",
     "iopub.status.idle": "2023-03-20T08:34:16.297883Z",
     "shell.execute_reply": "2023-03-20T08:34:16.297028Z",
     "shell.execute_reply.started": "2023-03-20T08:33:52.784686Z"
    },
    "tags": []
   },
   "outputs": [
    {
     "data": {
      "application/vnd.jupyter.widget-view+json": {
       "model_id": "",
       "version_major": 2,
       "version_minor": 0
      },
      "text/plain": [
       "FloatProgress(value=0.0, bar_style='info', description='Progress:', layout=Layout(height='25px', width='50%'),…"
      ]
     },
     "metadata": {},
     "output_type": "display_data"
    },
    {
     "data": {
      "text/html": [
       "<style>.jp-OutputArea-child .jupyter-widgets.jp-OutputArea-output { overflow: auto; }</style>"
      ],
      "text/plain": [
       "<IPython.core.display.HTML object>"
      ]
     },
     "metadata": {},
     "output_type": "display_data"
    },
    {
     "data": {
      "application/vnd.jupyter.widget-view+json": {
       "model_id": "f651deea8cfc47bab24f3d267aeb8784",
       "version_major": 2,
       "version_minor": 0
      },
      "text/plain": [
       "VBox(children=(HBox(), EncodingWidget(children=(VBox(children=(HTML(value='Encoding:'), Dropdown(description='…"
      ]
     },
     "metadata": {},
     "output_type": "display_data"
    },
    {
     "data": {
      "application/vnd.jupyter.widget-view+json": {
       "model_id": "eefbcc57ccf94d4fab651ce719cbf5e4",
       "version_major": 2,
       "version_minor": 0
      },
      "text/plain": [
       "Output()"
      ]
     },
     "metadata": {},
     "output_type": "display_data"
    }
   ],
   "source": [
    "%%sql\n",
    "update\n",
    "    ${TABLE_NAME}\n",
    "set             \n",
    "    review_body = concat(uuid(),uuid(),uuid(),uuid(),uuid(),uuid(),uuid(),uuid(),uuid(),uuid()),\n",
    "    timestamp = unix_timestamp(current_timestamp())\n",
    "where\n",
    "    review_date = '2003-01-02'\n",
    ";"
   ]
  },
  {
   "cell_type": "code",
   "execution_count": 50,
   "id": "6111147c-bac6-456b-85f2-849750eaa772",
   "metadata": {
    "execution": {
     "iopub.execute_input": "2023-03-20T08:34:16.299763Z",
     "iopub.status.busy": "2023-03-20T08:34:16.299164Z",
     "iopub.status.idle": "2023-03-20T08:34:39.329914Z",
     "shell.execute_reply": "2023-03-20T08:34:39.329068Z",
     "shell.execute_reply.started": "2023-03-20T08:34:16.299725Z"
    },
    "tags": []
   },
   "outputs": [
    {
     "name": "stdout",
     "output_type": "stream",
     "text": [
      "\n",
      "[ TIMELINE ]\n",
      "\n",
      "╔═════╤═══════════════════╤═════════════╤═══════════╤═════════════╤═════════════╤═════════════╗\n",
      "║ No. │ Instant           │ Action      │ State     │ Requested   │ Inflight    │ Completed   ║\n",
      "║     │                   │             │           │ Time        │ Time        │ Time        ║\n",
      "╠═════╪═══════════════════╪═════════════╪═══════════╪═════════════╪═════════════╪═════════════╣\n",
      "║ 0   │ 20230320083143622 │ deltacommit │ COMPLETED │ 03-20 08:31 │ 03-20 08:32 │ 03-20 08:32 ║\n",
      "╟─────┼───────────────────┼─────────────┼───────────┼─────────────┼─────────────┼─────────────╢\n",
      "║ 1   │ 20230320083310877 │ deltacommit │ COMPLETED │ 03-20 08:33 │ 03-20 08:33 │ 03-20 08:33 ║\n",
      "╟─────┼───────────────────┼─────────────┼───────────┼─────────────┼─────────────┼─────────────╢\n",
      "║ 2   │ 20230320083353360 │ deltacommit │ COMPLETED │ 03-20 08:33 │ 03-20 08:34 │ 03-20 08:34 ║\n",
      "╟─────┼───────────────────┼─────────────┼───────────┼─────────────┼─────────────┼─────────────╢\n",
      "║ 3   │ 20230320083410096 │ compaction  │ REQUESTED │ 03-20 08:34 │ -           │ -           ║\n",
      "╚═════╧═══════════════════╧═════════════╧═══════════╧═════════════╧═════════════╧═════════════╝\n",
      "\n",
      "[ COMMITS ]\n",
      "\n",
      "╔═══════════════════╤═════════════════════╤═══════════════════╤═════════════════════╤══════════════════════════╤═══════════════════════╤══════════════════════════════╤══════════════╗\n",
      "║ CommitTime        │ Total Bytes Written │ Total Files Added │ Total Files Updated │ Total Partitions Written │ Total Records Written │ Total Update Records Written │ Total Errors ║\n",
      "╠═══════════════════╪═════════════════════╪═══════════════════╪═════════════════════╪══════════════════════════╪═══════════════════════╪══════════════════════════════╪══════════════╣\n",
      "║ 20230320083353360 │ 2.3 MB              │ 0                 │ 2                   │ 2                        │ 4341                  │ 4341                         │ 0            ║\n",
      "╟───────────────────┼─────────────────────┼───────────────────┼─────────────────────┼──────────────────────────┼───────────────────────┼──────────────────────────────┼──────────────╢\n",
      "║ 20230320083310877 │ 1.6 MB              │ 0                 │ 2                   │ 2                        │ 2951                  │ 2951                         │ 0            ║\n",
      "╟───────────────────┼─────────────────────┼───────────────────┼─────────────────────┼──────────────────────────┼───────────────────────┼──────────────────────────────┼──────────────╢\n",
      "║ 20230320083143622 │ 191.6 MB            │ 2                 │ 0                   │ 2                        │ 1155127               │ 0                            │ 0            ║\n",
      "╚═══════════════════╧═════════════════════╧═══════════════════╧═════════════════════╧══════════════════════════╧═══════════════════════╧══════════════════════════════╧══════════════╝\n",
      "\n",
      "[ COMPACTIONS ]\n",
      "\n",
      "╔═════════════════════════╤═══════════╤═══════════════════════════════╗\n",
      "║ Compaction Instant Time │ State     │ Total FileIds to be Compacted ║\n",
      "╠═════════════════════════╪═══════════╪═══════════════════════════════╣\n",
      "║ 20230320083410096       │ REQUESTED │ 2                             ║\n",
      "╚═════════════════════════╧═══════════╧═══════════════════════════════╝\n",
      "\n",
      "[ STORAGE ]\n",
      "\n",
      "/home/emr-notebook/apache-hudi-core-conceptions/reviews_mor_compaction_3\n",
      "├── [ 98M 08:34:39]  parity=0\n",
      "│   ├── [787K 08:33:20]  .01a24ac6-4a67-40f2-848e-8d4fcbfe5e62-0_20230320083143622.log.1_0-413-1758\n",
      "│   ├── [1.2M 08:34:04]  .01a24ac6-4a67-40f2-848e-8d4fcbfe5e62-0_20230320083143622.log.2_0-461-1819\n",
      "│   └── [ 96M 08:32:29]  01a24ac6-4a67-40f2-848e-8d4fcbfe5e62-0_0-365-1696_20230320083143622.parquet\n",
      "└── [ 98M 08:34:39]  parity=1\n",
      "    ├── [812K 08:33:20]  .e13ebd86-d4de-4fb3-9c58-9b89063792a5-0_20230320083143622.log.1_1-413-1759\n",
      "    ├── [1.1M 08:34:04]  .e13ebd86-d4de-4fb3-9c58-9b89063792a5-0_20230320083143622.log.2_1-461-1820\n",
      "    └── [ 96M 08:32:29]  e13ebd86-d4de-4fb3-9c58-9b89063792a5-0_1-365-1697_20230320083143622.parquet\n"
     ]
    }
   ],
   "source": [
    "%%sh\n",
    "${WORKSPACE}/hudi-stat.sh s3://${S3_BUCKET}/${TABLE_NAME} timeline commits compactions storage"
   ]
  },
  {
   "cell_type": "markdown",
   "id": "a82f370d-cf74-4a46-b590-fb051d32e5f6",
   "metadata": {},
   "source": [
    "### 4.8. Offline Execute 96.15MB / +1 Compacted File"
   ]
  },
  {
   "cell_type": "code",
   "execution_count": null,
   "id": "ce5ffcac-1e3b-454d-bab8-3fbfdd2a2512",
   "metadata": {
    "execution": {
     "iopub.execute_input": "2023-03-20T08:34:39.331435Z",
     "iopub.status.busy": "2023-03-20T08:34:39.331167Z"
    },
    "tags": []
   },
   "outputs": [],
   "source": [
    "%%sh\n",
    "# it's required for current user (emr-notebook) to get sudo permission\n",
    "sudo -u hadoop spark-submit \\\n",
    "  --jars '/usr/lib/hudi/hudi-spark-bundle.jar' \\\n",
    "  --class \"org.apache.hudi.utilities.HoodieCompactor\" \\\n",
    "  /usr/lib/hudi/hudi-utilities-bundle.jar \\\n",
    "  --spark-memory '4g' \\\n",
    "  --mode 'execute' \\\n",
    "  --base-path \"s3://${S3_BUCKET}/${TABLE_NAME}\" \\\n",
    "  --table-name \"$TABLE_NAME\" > ${WORKSPACE}/${TABLE_NAME}.execute.out &>/dev/null"
   ]
  },
  {
   "cell_type": "code",
   "execution_count": null,
   "id": "55e677b2-6151-4b87-b22a-55eba3550a1c",
   "metadata": {
    "tags": []
   },
   "outputs": [],
   "source": [
    "%%sh\n",
    "${WORKSPACE}/hudi-stat.sh s3://${S3_BUCKET}/${TABLE_NAME} timeline commits compactions storage"
   ]
  }
 ],
 "metadata": {
  "kernelspec": {
   "display_name": "Spark",
   "language": "scala",
   "name": "sparkkernel"
  },
  "language_info": {
   "codemirror_mode": "text/x-scala",
   "file_extension": ".sc",
   "mimetype": "text/x-scala",
   "name": "scala",
   "pygments_lexer": "scala"
  }
 },
 "nbformat": 4,
 "nbformat_minor": 5
}
