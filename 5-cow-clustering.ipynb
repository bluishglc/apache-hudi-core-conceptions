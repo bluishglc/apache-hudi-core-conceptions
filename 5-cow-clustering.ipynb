{
 "cells": [
  {
   "cell_type": "markdown",
   "id": "44288d4b-1602-44ad-9881-f0e510a30d76",
   "metadata": {
    "tags": []
   },
   "source": [
    "# Apache Hudi Core Conceptions (5) - COW: Clustering"
   ]
  },
  {
   "cell_type": "markdown",
   "id": "83431d2a-fdca-4dd4-b08c-230b3abd0fca",
   "metadata": {
    "tags": []
   },
   "source": [
    "## 1. Configuration"
   ]
  },
  {
   "cell_type": "code",
   "execution_count": 1,
   "id": "030c74b6-c1ea-4df3-bac4-20c9040dfc78",
   "metadata": {
    "execution": {
     "iopub.execute_input": "2023-03-17T08:52:12.357950Z",
     "iopub.status.busy": "2023-03-17T08:52:12.357681Z",
     "iopub.status.idle": "2023-03-17T08:52:17.283115Z",
     "shell.execute_reply": "2023-03-17T08:52:17.282103Z",
     "shell.execute_reply.started": "2023-03-17T08:52:12.357900Z"
    },
    "tags": []
   },
   "outputs": [
    {
     "name": "stdout",
     "output_type": "stream",
     "text": [
      "-rw-r--r--   1 emr-notebook hdfsadmingroup   61421977 2023-03-17 08:52 /tmp/hudi-spark-bundle.jar\n"
     ]
    }
   ],
   "source": [
    "%%sh\n",
    "# deploy hudi bundle jar\n",
    "hdfs dfs -copyFromLocal -f /usr/lib/hudi/hudi-spark-bundle.jar /tmp/hudi-spark-bundle.jar\n",
    "hdfs dfs -ls /tmp/hudi-spark-bundle.jar"
   ]
  },
  {
   "cell_type": "code",
   "execution_count": 2,
   "id": "2ec4c106-0651-493c-b9e7-3ef7b0c623be",
   "metadata": {
    "execution": {
     "iopub.execute_input": "2023-03-17T08:52:17.285265Z",
     "iopub.status.busy": "2023-03-17T08:52:17.284918Z",
     "iopub.status.idle": "2023-03-17T08:52:17.320518Z",
     "shell.execute_reply": "2023-03-17T08:52:17.309944Z",
     "shell.execute_reply.started": "2023-03-17T08:52:17.285228Z"
    },
    "tags": []
   },
   "outputs": [
    {
     "data": {
      "text/html": [
       "Current session configs: <tt>{'conf': {'spark.jars': 'hdfs:///tmp/hudi-spark-bundle.jar', 'spark.serializer': 'org.apache.spark.serializer.KryoSerializer', 'spark.sql.extensions': 'org.apache.spark.sql.hudi.HoodieSparkSessionExtension', 'spark.sql.catalog.spark_catalog': 'org.apache.spark.sql.hudi.catalog.HoodieCatalog'}, 'proxyUser': 'user_bluishglc', 'kind': 'spark'}</tt><br>"
      ],
      "text/plain": [
       "<IPython.core.display.HTML object>"
      ]
     },
     "metadata": {},
     "output_type": "display_data"
    },
    {
     "data": {
      "text/html": [
       "No active sessions."
      ],
      "text/plain": [
       "<IPython.core.display.HTML object>"
      ]
     },
     "metadata": {},
     "output_type": "display_data"
    }
   ],
   "source": [
    "%%configure -f\n",
    "{\n",
    "    \"conf\" : {\n",
    "        \"spark.jars\":\"hdfs:///tmp/hudi-spark-bundle.jar\",            \n",
    "        \"spark.serializer\":\"org.apache.spark.serializer.KryoSerializer\",\n",
    "        \"spark.sql.extensions\":\"org.apache.spark.sql.hudi.HoodieSparkSessionExtension\",\n",
    "        \"spark.sql.catalog.spark_catalog\":\"org.apache.spark.sql.hudi.catalog.HoodieCatalog\"\n",
    "    }\n",
    "}"
   ]
  },
  {
   "cell_type": "code",
   "execution_count": 3,
   "id": "bc32a2d6-445f-4f77-8af9-04a345e6dc68",
   "metadata": {
    "execution": {
     "iopub.execute_input": "2023-03-17T08:52:17.325452Z",
     "iopub.status.busy": "2023-03-17T08:52:17.325090Z",
     "iopub.status.idle": "2023-03-17T08:52:17.335965Z",
     "shell.execute_reply": "2023-03-17T08:52:17.334980Z",
     "shell.execute_reply.started": "2023-03-17T08:52:17.325415Z"
    },
    "tags": []
   },
   "outputs": [
    {
     "name": "stdout",
     "output_type": "stream",
     "text": [
      "env: S3_BUCKET=apache-hudi-core-conceptions\n"
     ]
    }
   ],
   "source": [
    "%env S3_BUCKET=apache-hudi-core-conceptions"
   ]
  },
  {
   "cell_type": "code",
   "execution_count": 4,
   "id": "4ddf9830-9202-45a7-aa5f-94c9f1d11995",
   "metadata": {
    "execution": {
     "iopub.execute_input": "2023-03-17T08:52:17.338764Z",
     "iopub.status.busy": "2023-03-17T08:52:17.338382Z",
     "iopub.status.idle": "2023-03-17T08:52:48.944008Z",
     "shell.execute_reply": "2023-03-17T08:52:48.943235Z",
     "shell.execute_reply.started": "2023-03-17T08:52:17.338728Z"
    },
    "tags": []
   },
   "outputs": [
    {
     "name": "stdout",
     "output_type": "stream",
     "text": [
      "Starting Spark application\n"
     ]
    },
    {
     "data": {
      "text/html": [
       "<table>\n<tbody><tr><th>ID</th><th>YARN Application ID</th><th>Kind</th><th>State</th><th>Spark UI</th><th>Driver log</th><th>User</th><th>Current session?</th></tr><tr><td>93</td><td>application_1678096020253_0174</td><td>spark</td><td>idle</td><td><a target=\"_blank\" href=\"http://ip-10-0-129-209.ec2.internal:20888/proxy/application_1678096020253_0174/\" class=\"emr-proxy-link j-6V65AY8X5VHR application_1678096020253_0174\" emr-resource=\"j-6V65AY8X5VHR\n\" application-id=\"application_1678096020253_0174\">Link</a></td><td><a target=\"_blank\" href=\"http://ip-10-0-132-108.ec2.internal:8042/node/containerlogs/container_1678096020253_0174_01_000001/livy\">Link</a></td><td>None</td><td>✔</td></tr></tbody></table>"
      ],
      "text/plain": [
       "<IPython.core.display.HTML object>"
      ]
     },
     "metadata": {},
     "output_type": "display_data"
    },
    {
     "data": {
      "application/vnd.jupyter.widget-view+json": {
       "model_id": "",
       "version_major": 2,
       "version_minor": 0
      },
      "text/plain": [
       "FloatProgress(value=0.0, bar_style='info', description='Progress:', layout=Layout(height='25px', width='50%'),…"
      ]
     },
     "metadata": {},
     "output_type": "display_data"
    },
    {
     "name": "stdout",
     "output_type": "stream",
     "text": [
      "SparkSession available as 'spark'.\n"
     ]
    },
    {
     "data": {
      "application/vnd.jupyter.widget-view+json": {
       "model_id": "",
       "version_major": 2,
       "version_minor": 0
      },
      "text/plain": [
       "FloatProgress(value=0.0, bar_style='info', description='Progress:', layout=Layout(height='25px', width='50%'),…"
      ]
     },
     "metadata": {},
     "output_type": "display_data"
    },
    {
     "data": {
      "text/html": [
       "<style>.jp-OutputArea-child .jupyter-widgets.jp-OutputArea-output { overflow: auto; }</style>"
      ],
      "text/plain": [
       "<IPython.core.display.HTML object>"
      ]
     },
     "metadata": {},
     "output_type": "display_data"
    },
    {
     "data": {
      "application/vnd.jupyter.widget-view+json": {
       "model_id": "b1ba1f125e1340f09e0647cdf896459d",
       "version_major": 2,
       "version_minor": 0
      },
      "text/plain": [
       "VBox(children=(HBox(children=(HTML(value='Type:'), Button(description='Table', layout=Layout(width='70px'), st…"
      ]
     },
     "metadata": {},
     "output_type": "display_data"
    },
    {
     "data": {
      "application/vnd.jupyter.widget-view+json": {
       "model_id": "cdf0d4bfe4714c05932015676469c193",
       "version_major": 2,
       "version_minor": 0
      },
      "text/plain": [
       "Output()"
      ]
     },
     "metadata": {},
     "output_type": "display_data"
    }
   ],
   "source": [
    "%%sql\n",
    "set S3_BUCKET=apache-hudi-core-conceptions"
   ]
  },
  {
   "cell_type": "code",
   "execution_count": 5,
   "id": "a26b4bca-2c9f-4df8-bae2-b6f410d234eb",
   "metadata": {
    "execution": {
     "iopub.execute_input": "2023-03-17T08:52:48.945612Z",
     "iopub.status.busy": "2023-03-17T08:52:48.945174Z",
     "iopub.status.idle": "2023-03-17T08:52:48.950320Z",
     "shell.execute_reply": "2023-03-17T08:52:48.949567Z",
     "shell.execute_reply.started": "2023-03-17T08:52:48.945576Z"
    },
    "tags": []
   },
   "outputs": [
    {
     "name": "stdout",
     "output_type": "stream",
     "text": [
      "env: WORKSPACE=/home/emr-notebook/apache-hudi-core-conceptions\n"
     ]
    }
   ],
   "source": [
    "%env WORKSPACE=/home/emr-notebook/apache-hudi-core-conceptions"
   ]
  },
  {
   "cell_type": "code",
   "execution_count": 6,
   "id": "6041fe4a-ef77-4519-aa37-9fd6feb3434e",
   "metadata": {
    "execution": {
     "iopub.execute_input": "2023-03-17T08:52:48.951835Z",
     "iopub.status.busy": "2023-03-17T08:52:48.951465Z",
     "iopub.status.idle": "2023-03-17T08:52:49.487345Z",
     "shell.execute_reply": "2023-03-17T08:52:49.486575Z",
     "shell.execute_reply.started": "2023-03-17T08:52:48.951771Z"
    },
    "tags": []
   },
   "outputs": [
    {
     "name": "stdout",
     "output_type": "stream",
     "text": [
      "/home/emr-notebook/apache-hudi-core-conceptions/hudi-stat.sh\n"
     ]
    }
   ],
   "source": [
    "%%sh\n",
    "# make workspace\n",
    "mkdir -p $WORKSPACE\n",
    "# deploy hudi-stat.sh, a utility shell script to output hudi table status\n",
    "wget https://raw.githubusercontent.com/bluishglc/apache-hudi-core-conceptions/master/hudi-stat.sh -O $WORKSPACE/hudi-stat.sh &>/dev/null\n",
    "chmod a+x $WORKSPACE/hudi-stat.sh\n",
    "ls $WORKSPACE/hudi-stat.sh"
   ]
  },
  {
   "cell_type": "code",
   "execution_count": 7,
   "id": "435d81cc-0e9d-4eaa-805b-2c28ff765b6e",
   "metadata": {
    "execution": {
     "iopub.execute_input": "2023-03-17T08:52:49.489172Z",
     "iopub.status.busy": "2023-03-17T08:52:49.488819Z",
     "iopub.status.idle": "2023-03-17T08:52:49.495405Z",
     "shell.execute_reply": "2023-03-17T08:52:49.494658Z",
     "shell.execute_reply.started": "2023-03-17T08:52:49.489131Z"
    },
    "tags": []
   },
   "outputs": [
    {
     "data": {
      "text/html": [
       "<style>\n",
       "table {float:left}\n",
       "</style>\n"
      ],
      "text/plain": [
       "<IPython.core.display.HTML object>"
      ]
     },
     "metadata": {},
     "output_type": "display_data"
    }
   ],
   "source": [
    "%%html\n",
    "<style>\n",
    "table {float:left}\n",
    "</style>"
   ]
  },
  {
   "cell_type": "markdown",
   "id": "07a926b5-08a4-4b5f-a8db-d2dd6e239566",
   "metadata": {
    "tags": []
   },
   "source": [
    "## 2. Test Case 1 - Sync Clustering ( Inline Schedule + Inline Execute )"
   ]
  },
  {
   "cell_type": "markdown",
   "id": "ef523d6b-0976-4b44-b924-c5526bce23f6",
   "metadata": {
    "jp-MarkdownHeadingCollapsed": true,
    "tags": []
   },
   "source": [
    "### 2.1. Test Plan\n",
    "\n",
    "Step No.|Action|Volume / Partition |Storage\n",
    ":--------:|:------|:------|:----------\n",
    "1|Insert|96MB|+ 1 Small FileGroup\n",
    "2|Insert|213MB|+ 1 Max File + 1 Small File\n",
    "3|Insert|182MB|+ 1 Max File + 1 Small File"
   ]
  },
  {
   "cell_type": "markdown",
   "id": "ee4c3d26-6790-4d3f-b468-88fb765bef94",
   "metadata": {
    "tags": []
   },
   "source": [
    "### 2.2. Key Settings\n",
    "\n",
    "KEY|DEFAULT VALUE|SET VALUE\n",
    ":---|:---|:---\n",
    "hoodie.clustering.inline|false|true\n",
    "hoodie.clustering.schedule.inline|false|false\n",
    "hoodie.clustering.async.enabled|false|false\n",
    "hoodie.clustering.inline.max.commits|4|3\n",
    "hoodie.clustering.plan.strategy.target.file.max.bytes|1073741824 / 1GB|314572800 / 300MB\n",
    "hoodie.clustering.plan.strategy.small.file.limit|314572800 / 300MB|209715200 / 200MB\n",
    "hoodie.clustering.plan.strategy.sort.columns|-|review_date\n",
    "hoodie.parquet.small.file.limit|104857600 / 100MB | 0\n",
    "hoodie.copyonwrite.record.size.estimate|1024|175"
   ]
  },
  {
   "cell_type": "markdown",
   "id": "cbb044c2-c560-4ef5-a432-1459b2b0184d",
   "metadata": {
    "execution": {
     "iopub.execute_input": "2023-02-25T02:57:45.037101Z",
     "iopub.status.busy": "2023-02-25T02:57:45.036681Z",
     "iopub.status.idle": "2023-02-25T02:58:07.353493Z",
     "shell.execute_reply": "2023-02-25T02:58:07.352596Z",
     "shell.execute_reply.started": "2023-02-25T02:57:45.037060Z"
    },
    "tags": []
   },
   "source": [
    "### 2.3. Set Variables"
   ]
  },
  {
   "cell_type": "code",
   "execution_count": 8,
   "id": "ec227cb2-7934-4c0b-a156-17555d0bf51f",
   "metadata": {
    "execution": {
     "iopub.execute_input": "2023-03-17T08:52:49.498108Z",
     "iopub.status.busy": "2023-03-17T08:52:49.497859Z",
     "iopub.status.idle": "2023-03-17T08:52:50.433983Z",
     "shell.execute_reply": "2023-03-17T08:52:50.433265Z",
     "shell.execute_reply.started": "2023-03-17T08:52:49.498085Z"
    },
    "tags": []
   },
   "outputs": [
    {
     "data": {
      "application/vnd.jupyter.widget-view+json": {
       "model_id": "",
       "version_major": 2,
       "version_minor": 0
      },
      "text/plain": [
       "FloatProgress(value=0.0, bar_style='info', description='Progress:', layout=Layout(height='25px', width='50%'),…"
      ]
     },
     "metadata": {},
     "output_type": "display_data"
    },
    {
     "data": {
      "text/html": [
       "<style>.jp-OutputArea-child .jupyter-widgets.jp-OutputArea-output { overflow: auto; }</style>"
      ],
      "text/plain": [
       "<IPython.core.display.HTML object>"
      ]
     },
     "metadata": {},
     "output_type": "display_data"
    },
    {
     "data": {
      "application/vnd.jupyter.widget-view+json": {
       "model_id": "9c0f9a156e1b4edd97e368e028103c74",
       "version_major": 2,
       "version_minor": 0
      },
      "text/plain": [
       "VBox(children=(HBox(children=(HTML(value='Type:'), Button(description='Table', layout=Layout(width='70px'), st…"
      ]
     },
     "metadata": {},
     "output_type": "display_data"
    },
    {
     "data": {
      "application/vnd.jupyter.widget-view+json": {
       "model_id": "e5deef76d6fb4ea482563f8a69923f51",
       "version_major": 2,
       "version_minor": 0
      },
      "text/plain": [
       "Output()"
      ]
     },
     "metadata": {},
     "output_type": "display_data"
    }
   ],
   "source": [
    "%%sql\n",
    "set TABLE_NAME=reviews_cow_clustering_1"
   ]
  },
  {
   "cell_type": "code",
   "execution_count": 9,
   "id": "af107b02-40e6-4c04-9ec2-05f2a04d2774",
   "metadata": {
    "execution": {
     "iopub.execute_input": "2023-03-17T08:52:50.435763Z",
     "iopub.status.busy": "2023-03-17T08:52:50.435525Z",
     "iopub.status.idle": "2023-03-17T08:52:50.439944Z",
     "shell.execute_reply": "2023-03-17T08:52:50.439274Z",
     "shell.execute_reply.started": "2023-03-17T08:52:50.435741Z"
    },
    "tags": []
   },
   "outputs": [
    {
     "name": "stdout",
     "output_type": "stream",
     "text": [
      "env: TABLE_NAME=reviews_cow_clustering_1\n"
     ]
    }
   ],
   "source": [
    "%env TABLE_NAME=reviews_cow_clustering_1"
   ]
  },
  {
   "cell_type": "markdown",
   "id": "bf9f3e19-bde1-46c7-b0cf-fa4d30244da0",
   "metadata": {},
   "source": [
    "### 2.4. Create Table"
   ]
  },
  {
   "cell_type": "code",
   "execution_count": 10,
   "id": "c7e14f8e-d1ab-4a09-9285-645780cd2040",
   "metadata": {
    "execution": {
     "iopub.execute_input": "2023-03-17T08:52:50.441167Z",
     "iopub.status.busy": "2023-03-17T08:52:50.440948Z",
     "iopub.status.idle": "2023-03-17T08:52:56.472919Z",
     "shell.execute_reply": "2023-03-17T08:52:56.471959Z",
     "shell.execute_reply.started": "2023-03-17T08:52:50.441146Z"
    },
    "tags": []
   },
   "outputs": [],
   "source": [
    "%%sh\n",
    "aws s3 rm s3://${S3_BUCKET}/${TABLE_NAME} --recursive &>/dev/null\n",
    "rm -rf ${WORKSPACE}/${TABLE_NAME}\n",
    "sleep 5"
   ]
  },
  {
   "cell_type": "code",
   "execution_count": 11,
   "id": "bc129c8c-720a-4b59-ab69-e62fde049dd4",
   "metadata": {
    "execution": {
     "iopub.execute_input": "2023-03-17T08:52:56.474477Z",
     "iopub.status.busy": "2023-03-17T08:52:56.474216Z",
     "iopub.status.idle": "2023-03-17T08:52:59.833547Z",
     "shell.execute_reply": "2023-03-17T08:52:59.832695Z",
     "shell.execute_reply.started": "2023-03-17T08:52:56.474450Z"
    },
    "tags": []
   },
   "outputs": [
    {
     "data": {
      "application/vnd.jupyter.widget-view+json": {
       "model_id": "",
       "version_major": 2,
       "version_minor": 0
      },
      "text/plain": [
       "FloatProgress(value=0.0, bar_style='info', description='Progress:', layout=Layout(height='25px', width='50%'),…"
      ]
     },
     "metadata": {},
     "output_type": "display_data"
    },
    {
     "data": {
      "text/html": [
       "<style>.jp-OutputArea-child .jupyter-widgets.jp-OutputArea-output { overflow: auto; }</style>"
      ],
      "text/plain": [
       "<IPython.core.display.HTML object>"
      ]
     },
     "metadata": {},
     "output_type": "display_data"
    },
    {
     "data": {
      "application/vnd.jupyter.widget-view+json": {
       "model_id": "b144cbe689a24cbd874781ee24d1d86f",
       "version_major": 2,
       "version_minor": 0
      },
      "text/plain": [
       "VBox(children=(HBox(), EncodingWidget(children=(VBox(children=(HTML(value='Encoding:'), Dropdown(description='…"
      ]
     },
     "metadata": {},
     "output_type": "display_data"
    },
    {
     "data": {
      "application/vnd.jupyter.widget-view+json": {
       "model_id": "fe2ce3fec6634ab4bf644a093a9f572e",
       "version_major": 2,
       "version_minor": 0
      },
      "text/plain": [
       "Output()"
      ]
     },
     "metadata": {},
     "output_type": "display_data"
    }
   ],
   "source": [
    "%%sql\n",
    "drop table if exists ${TABLE_NAME}"
   ]
  },
  {
   "cell_type": "code",
   "execution_count": 12,
   "id": "de3784b9-9661-47d7-a7f1-fa4db6e48b7d",
   "metadata": {
    "execution": {
     "iopub.execute_input": "2023-03-17T08:52:59.835160Z",
     "iopub.status.busy": "2023-03-17T08:52:59.834824Z",
     "iopub.status.idle": "2023-03-17T08:53:03.177270Z",
     "shell.execute_reply": "2023-03-17T08:53:03.176536Z",
     "shell.execute_reply.started": "2023-03-17T08:52:59.835124Z"
    },
    "tags": []
   },
   "outputs": [
    {
     "data": {
      "application/vnd.jupyter.widget-view+json": {
       "model_id": "",
       "version_major": 2,
       "version_minor": 0
      },
      "text/plain": [
       "FloatProgress(value=0.0, bar_style='info', description='Progress:', layout=Layout(height='25px', width='50%'),…"
      ]
     },
     "metadata": {},
     "output_type": "display_data"
    },
    {
     "data": {
      "text/html": [
       "<style>.jp-OutputArea-child .jupyter-widgets.jp-OutputArea-output { overflow: auto; }</style>"
      ],
      "text/plain": [
       "<IPython.core.display.HTML object>"
      ]
     },
     "metadata": {},
     "output_type": "display_data"
    },
    {
     "data": {
      "application/vnd.jupyter.widget-view+json": {
       "model_id": "9d1b500dd9144007a654f8e1cb77c3ea",
       "version_major": 2,
       "version_minor": 0
      },
      "text/plain": [
       "VBox(children=(HBox(), EncodingWidget(children=(VBox(children=(HTML(value='Encoding:'), Dropdown(description='…"
      ]
     },
     "metadata": {},
     "output_type": "display_data"
    },
    {
     "data": {
      "application/vnd.jupyter.widget-view+json": {
       "model_id": "52d995a8d1394ebdb3f29bc77c3000e7",
       "version_major": 2,
       "version_minor": 0
      },
      "text/plain": [
       "Output()"
      ]
     },
     "metadata": {},
     "output_type": "display_data"
    }
   ],
   "source": [
    "%%sql\n",
    "create table if not exists ${TABLE_NAME}(\n",
    "    review_id string, \n",
    "    star_rating int, \n",
    "    review_body string, \n",
    "    review_date date, \n",
    "    year long,\n",
    "    timestamp long,\n",
    "    parity int\n",
    ")\n",
    "using hudi\n",
    "location 's3://${S3_BUCKET}/${TABLE_NAME}'\n",
    "partitioned by (parity)\n",
    "options ( \n",
    "    type = 'cow',  \n",
    "    primaryKey = 'review_id', \n",
    "    preCombineField = 'timestamp',\n",
    "    hoodie.clustering.inline = 'true',\n",
    "    hoodie.clustering.schedule.inline = 'false',\n",
    "    hoodie.clustering.async.enabled = 'false',\n",
    "    hoodie.clustering.inline.max.commits = '3',\n",
    "    hoodie.clustering.plan.strategy.small.file.limit = '209715200',\n",
    "    hoodie.clustering.plan.strategy.target.file.max.bytes = '314572800',\n",
    "    hoodie.clustering.plan.strategy.sort.columns = 'review_date',\n",
    "    hoodie.parquet.small.file.limit = '0',\n",
    "    hoodie.copyonwrite.record.size.estimate = '175'\n",
    ");"
   ]
  },
  {
   "cell_type": "markdown",
   "id": "52c86110-0dd8-49cb-9e5c-db659e915ae2",
   "metadata": {
    "tags": []
   },
   "source": [
    "### 2.5. Insert 96MB / + 1 Small File"
   ]
  },
  {
   "cell_type": "code",
   "execution_count": 13,
   "id": "f593c3f9-b0b2-4950-96a4-06428f3ad161",
   "metadata": {
    "execution": {
     "iopub.execute_input": "2023-03-17T08:53:03.178462Z",
     "iopub.status.busy": "2023-03-17T08:53:03.178224Z",
     "iopub.status.idle": "2023-03-17T08:54:00.749128Z",
     "shell.execute_reply": "2023-03-17T08:54:00.748412Z",
     "shell.execute_reply.started": "2023-03-17T08:53:03.178438Z"
    },
    "tags": []
   },
   "outputs": [
    {
     "data": {
      "application/vnd.jupyter.widget-view+json": {
       "model_id": "",
       "version_major": 2,
       "version_minor": 0
      },
      "text/plain": [
       "FloatProgress(value=0.0, bar_style='info', description='Progress:', layout=Layout(height='25px', width='50%'),…"
      ]
     },
     "metadata": {},
     "output_type": "display_data"
    },
    {
     "data": {
      "text/html": [
       "<style>.jp-OutputArea-child .jupyter-widgets.jp-OutputArea-output { overflow: auto; }</style>"
      ],
      "text/plain": [
       "<IPython.core.display.HTML object>"
      ]
     },
     "metadata": {},
     "output_type": "display_data"
    },
    {
     "data": {
      "application/vnd.jupyter.widget-view+json": {
       "model_id": "01709fbec0194d86a20e47408bc1763f",
       "version_major": 2,
       "version_minor": 0
      },
      "text/plain": [
       "VBox(children=(HBox(), EncodingWidget(children=(VBox(children=(HTML(value='Encoding:'), Dropdown(description='…"
      ]
     },
     "metadata": {},
     "output_type": "display_data"
    },
    {
     "data": {
      "application/vnd.jupyter.widget-view+json": {
       "model_id": "a9f5c785b2664ac99bb5624e8b6c8e43",
       "version_major": 2,
       "version_minor": 0
      },
      "text/plain": [
       "Output()"
      ]
     },
     "metadata": {},
     "output_type": "display_data"
    }
   ],
   "source": [
    "%%sql\n",
    "insert into \n",
    "    ${TABLE_NAME}\n",
    "select \n",
    "    review_id, \n",
    "    star_rating, \n",
    "    review_body, \n",
    "    review_date, \n",
    "    year,\n",
    "    unix_timestamp(current_timestamp()) as timestamp,\n",
    "    mod(crc32(review_id), 2) as parity\n",
    "from\n",
    "    reviews\n",
    "where\n",
    "    year = 2003;"
   ]
  },
  {
   "cell_type": "code",
   "execution_count": 14,
   "id": "8dcdeac8-e953-4bdd-856a-c478bd52f7a8",
   "metadata": {
    "execution": {
     "iopub.execute_input": "2023-03-17T08:54:00.750303Z",
     "iopub.status.busy": "2023-03-17T08:54:00.750069Z",
     "iopub.status.idle": "2023-03-17T08:54:09.171126Z",
     "shell.execute_reply": "2023-03-17T08:54:09.170286Z",
     "shell.execute_reply.started": "2023-03-17T08:54:00.750280Z"
    },
    "tags": []
   },
   "outputs": [
    {
     "name": "stdout",
     "output_type": "stream",
     "text": [
      "\n",
      "[ TIMELINE ]\n",
      "\n",
      "╔═════╤═══════════════════╤════════╤═══════════╤═════════════╤═════════════╤═════════════╗\n",
      "║ No. │ Instant           │ Action │ State     │ Requested   │ Inflight    │ Completed   ║\n",
      "║     │                   │        │           │ Time        │ Time        │ Time        ║\n",
      "╠═════╪═══════════════════╪════════╪═══════════╪═════════════╪═════════════╪═════════════╣\n",
      "║ 0   │ 20230317085304196 │ commit │ COMPLETED │ 03-17 08:53 │ 03-17 08:53 │ 03-17 08:53 ║\n",
      "╚═════╧═══════════════════╧════════╧═══════════╧═════════════╧═════════════╧═════════════╝\n",
      "\n",
      "[ STORAGE ]\n",
      "\n",
      "/home/emr-notebook/apache-hudi-core-conceptions/reviews_cow_clustering_1\n",
      "├── [ 96M 08:54:09]  parity=0\n",
      "│   └── [ 96M 08:53:48]  3283c2a3-af0a-43cd-8db5-d0410806083f-0_0-34-628_20230317085304196.parquet\n",
      "└── [ 96M 08:54:09]  parity=1\n",
      "    └── [ 96M 08:53:48]  cc5b25d3-7d8f-4098-a785-32c6946e52da-0_1-34-629_20230317085304196.parquet\n"
     ]
    }
   ],
   "source": [
    "%%sh\n",
    "${WORKSPACE}/hudi-stat.sh s3://${S3_BUCKET}/${TABLE_NAME} timeline commits storage"
   ]
  },
  {
   "cell_type": "markdown",
   "id": "49d18b4b-187c-4d78-8680-61638307d829",
   "metadata": {
    "tags": []
   },
   "source": [
    "### 2.6. Insert 213MB / + 1 Max File + 1 Small File"
   ]
  },
  {
   "cell_type": "code",
   "execution_count": 15,
   "id": "8ddba28f-865c-434e-8f5b-21d09c0daddc",
   "metadata": {
    "execution": {
     "iopub.execute_input": "2023-03-17T08:54:09.173093Z",
     "iopub.status.busy": "2023-03-17T08:54:09.172699Z",
     "iopub.status.idle": "2023-03-17T08:55:14.679434Z",
     "shell.execute_reply": "2023-03-17T08:55:14.678592Z",
     "shell.execute_reply.started": "2023-03-17T08:54:09.173048Z"
    },
    "tags": []
   },
   "outputs": [
    {
     "data": {
      "application/vnd.jupyter.widget-view+json": {
       "model_id": "",
       "version_major": 2,
       "version_minor": 0
      },
      "text/plain": [
       "FloatProgress(value=0.0, bar_style='info', description='Progress:', layout=Layout(height='25px', width='50%'),…"
      ]
     },
     "metadata": {},
     "output_type": "display_data"
    },
    {
     "data": {
      "text/html": [
       "<style>.jp-OutputArea-child .jupyter-widgets.jp-OutputArea-output { overflow: auto; }</style>"
      ],
      "text/plain": [
       "<IPython.core.display.HTML object>"
      ]
     },
     "metadata": {},
     "output_type": "display_data"
    },
    {
     "data": {
      "application/vnd.jupyter.widget-view+json": {
       "model_id": "00e72ba718d04fdb9da4cd25e969fb06",
       "version_major": 2,
       "version_minor": 0
      },
      "text/plain": [
       "VBox(children=(HBox(), EncodingWidget(children=(VBox(children=(HTML(value='Encoding:'), Dropdown(description='…"
      ]
     },
     "metadata": {},
     "output_type": "display_data"
    },
    {
     "data": {
      "application/vnd.jupyter.widget-view+json": {
       "model_id": "391a406a85594212a9b674bcedb7b104",
       "version_major": 2,
       "version_minor": 0
      },
      "text/plain": [
       "Output()"
      ]
     },
     "metadata": {},
     "output_type": "display_data"
    }
   ],
   "source": [
    "%%sql\n",
    "insert into \n",
    "    ${TABLE_NAME}\n",
    "select \n",
    "    review_id, \n",
    "    star_rating, \n",
    "    review_body, \n",
    "    review_date, \n",
    "    year,\n",
    "    unix_timestamp(current_timestamp()) as timestamp,\n",
    "    mod(crc32(review_id), 2) as parity\n",
    "from\n",
    "    reviews\n",
    "where\n",
    "    year in (2004, 2005);"
   ]
  },
  {
   "cell_type": "code",
   "execution_count": 16,
   "id": "cc1da694-7f0b-443a-bdc9-d9d2b9815682",
   "metadata": {
    "execution": {
     "iopub.execute_input": "2023-03-17T08:55:14.681175Z",
     "iopub.status.busy": "2023-03-17T08:55:14.680840Z",
     "iopub.status.idle": "2023-03-17T08:55:25.352813Z",
     "shell.execute_reply": "2023-03-17T08:55:25.352038Z",
     "shell.execute_reply.started": "2023-03-17T08:55:14.681140Z"
    },
    "tags": []
   },
   "outputs": [
    {
     "name": "stdout",
     "output_type": "stream",
     "text": [
      "\n",
      "[ TIMELINE ]\n",
      "\n",
      "╔═════╤═══════════════════╤════════╤═══════════╤═════════════╤═════════════╤═════════════╗\n",
      "║ No. │ Instant           │ Action │ State     │ Requested   │ Inflight    │ Completed   ║\n",
      "║     │                   │        │           │ Time        │ Time        │ Time        ║\n",
      "╠═════╪═══════════════════╪════════╪═══════════╪═════════════╪═════════════╪═════════════╣\n",
      "║ 0   │ 20230317085304196 │ commit │ COMPLETED │ 03-17 08:53 │ 03-17 08:53 │ 03-17 08:53 ║\n",
      "╟─────┼───────────────────┼────────┼───────────┼─────────────┼─────────────┼─────────────╢\n",
      "║ 1   │ 20230317085410617 │ commit │ COMPLETED │ 03-17 08:54 │ 03-17 08:54 │ 03-17 08:55 ║\n",
      "╚═════╧═══════════════════╧════════╧═══════════╧═════════════╧═════════════╧═════════════╝\n",
      "\n",
      "[ STORAGE ]\n",
      "\n",
      "/home/emr-notebook/apache-hudi-core-conceptions/reviews_cow_clustering_1\n",
      "├── [309M 08:55:25]  parity=0\n",
      "│   ├── [ 96M 08:53:48]  3283c2a3-af0a-43cd-8db5-d0410806083f-0_0-34-628_20230317085304196.parquet\n",
      "│   ├── [120M 08:55:05]  6f6cfb7a-8978-4d4f-8309-85371a778d26-0_0-81-1327_20230317085410617.parquet\n",
      "│   └── [ 93M 08:55:01]  8b37de90-94b4-4234-9b0b-28d102ce6376-0_1-81-1328_20230317085410617.parquet\n",
      "└── [309M 08:55:25]  parity=1\n",
      "    ├── [ 94M 08:55:01]  bd9eacb0-10b3-4a98-b151-b6bcc12a1f8d-0_3-81-1330_20230317085410617.parquet\n",
      "    ├── [120M 08:55:05]  bfcd0e4f-0669-4b79-82da-26051e6e6023-0_2-81-1329_20230317085410617.parquet\n",
      "    └── [ 96M 08:53:48]  cc5b25d3-7d8f-4098-a785-32c6946e52da-0_1-34-629_20230317085304196.parquet\n"
     ]
    }
   ],
   "source": [
    "%%sh\n",
    "${WORKSPACE}/hudi-stat.sh s3://${S3_BUCKET}/${TABLE_NAME} timeline commits storage"
   ]
  },
  {
   "cell_type": "markdown",
   "id": "6ff12b6d-d624-4932-aaf8-efaca98b413b",
   "metadata": {
    "tags": []
   },
   "source": [
    "### 2.7. Insert 182MB / + 1 Max File + 1 Small File"
   ]
  },
  {
   "cell_type": "code",
   "execution_count": 17,
   "id": "63be0ec0-67e8-4767-a51c-24f5e2b6a25b",
   "metadata": {
    "execution": {
     "iopub.execute_input": "2023-03-17T08:55:25.354358Z",
     "iopub.status.busy": "2023-03-17T08:55:25.354099Z",
     "iopub.status.idle": "2023-03-17T08:59:05.278900Z",
     "shell.execute_reply": "2023-03-17T08:59:05.278074Z",
     "shell.execute_reply.started": "2023-03-17T08:55:25.354326Z"
    },
    "tags": []
   },
   "outputs": [
    {
     "data": {
      "application/vnd.jupyter.widget-view+json": {
       "model_id": "",
       "version_major": 2,
       "version_minor": 0
      },
      "text/plain": [
       "FloatProgress(value=0.0, bar_style='info', description='Progress:', layout=Layout(height='25px', width='50%'),…"
      ]
     },
     "metadata": {},
     "output_type": "display_data"
    },
    {
     "data": {
      "text/html": [
       "<style>.jp-OutputArea-child .jupyter-widgets.jp-OutputArea-output { overflow: auto; }</style>"
      ],
      "text/plain": [
       "<IPython.core.display.HTML object>"
      ]
     },
     "metadata": {},
     "output_type": "display_data"
    },
    {
     "data": {
      "application/vnd.jupyter.widget-view+json": {
       "model_id": "2f7b2e7cdecb45e7b396974a1ae3554d",
       "version_major": 2,
       "version_minor": 0
      },
      "text/plain": [
       "VBox(children=(HBox(), EncodingWidget(children=(VBox(children=(HTML(value='Encoding:'), Dropdown(description='…"
      ]
     },
     "metadata": {},
     "output_type": "display_data"
    },
    {
     "data": {
      "application/vnd.jupyter.widget-view+json": {
       "model_id": "a2f0583fae6d41319b75b56229756784",
       "version_major": 2,
       "version_minor": 0
      },
      "text/plain": [
       "Output()"
      ]
     },
     "metadata": {},
     "output_type": "display_data"
    }
   ],
   "source": [
    "%%sql\n",
    "insert into \n",
    "    ${TABLE_NAME}\n",
    "select \n",
    "    review_id, \n",
    "    star_rating, \n",
    "    review_body, \n",
    "    review_date, \n",
    "    year,\n",
    "    unix_timestamp(current_timestamp()) as timestamp,\n",
    "    mod(crc32(review_id), 2) as parity\n",
    "from\n",
    "    reviews\n",
    "where\n",
    "    year = 2007;"
   ]
  },
  {
   "cell_type": "code",
   "execution_count": 18,
   "id": "3cd2a646-fab5-49b4-81d1-d89729157174",
   "metadata": {
    "execution": {
     "iopub.execute_input": "2023-03-17T08:59:05.280504Z",
     "iopub.status.busy": "2023-03-17T08:59:05.280177Z",
     "iopub.status.idle": "2023-03-17T08:59:20.342694Z",
     "shell.execute_reply": "2023-03-17T08:59:20.341878Z",
     "shell.execute_reply.started": "2023-03-17T08:59:05.280469Z"
    },
    "tags": []
   },
   "outputs": [
    {
     "name": "stdout",
     "output_type": "stream",
     "text": [
      "\n",
      "[ TIMELINE ]\n",
      "\n",
      "╔═════╤═══════════════════╤═══════════════╤═══════════╤═════════════╤═════════════╤═════════════╗\n",
      "║ No. │ Instant           │ Action        │ State     │ Requested   │ Inflight    │ Completed   ║\n",
      "║     │                   │               │           │ Time        │ Time        │ Time        ║\n",
      "╠═════╪═══════════════════╪═══════════════╪═══════════╪═════════════╪═════════════╪═════════════╣\n",
      "║ 0   │ 20230317085304196 │ commit        │ COMPLETED │ 03-17 08:53 │ 03-17 08:53 │ 03-17 08:53 ║\n",
      "╟─────┼───────────────────┼───────────────┼───────────┼─────────────┼─────────────┼─────────────╢\n",
      "║ 1   │ 20230317085410617 │ commit        │ COMPLETED │ 03-17 08:54 │ 03-17 08:54 │ 03-17 08:55 ║\n",
      "╟─────┼───────────────────┼───────────────┼───────────┼─────────────┼─────────────┼─────────────╢\n",
      "║ 2   │ 20230317085526534 │ commit        │ COMPLETED │ 03-17 08:55 │ 03-17 08:55 │ 03-17 08:56 ║\n",
      "╟─────┼───────────────────┼───────────────┼───────────┼─────────────┼─────────────┼─────────────╢\n",
      "║ 3   │ 20230317085626880 │ replacecommit │ COMPLETED │ 03-17 08:56 │ 03-17 08:56 │ 03-17 08:59 ║\n",
      "╚═════╧═══════════════════╧═══════════════╧═══════════╧═════════════╧═════════════╧═════════════╝\n",
      "\n",
      "[ STORAGE ]\n",
      "\n",
      "/home/emr-notebook/apache-hudi-core-conceptions/reviews_cow_clustering_1\n",
      "├── [980M 08:59:20]  parity=0\n",
      "│   ├── [ 63M 08:56:10]  242603c7-ccc3-4125-b49a-7dd60888a8d5-0_1-131-2065_20230317085526534.parquet\n",
      "│   ├── [ 96M 08:53:48]  3283c2a3-af0a-43cd-8db5-d0410806083f-0_0-34-628_20230317085304196.parquet\n",
      "│   ├── [220M 08:57:42]  51bfe278-3ab4-4097-9feb-901c4bf6a648-0_1-158-2110_20230317085626880.parquet\n",
      "│   ├── [120M 08:55:05]  6f6cfb7a-8978-4d4f-8309-85371a778d26-0_0-81-1327_20230317085410617.parquet\n",
      "│   ├── [119M 08:56:19]  86c6bf5d-246d-4465-a231-5a467eca9685-0_0-131-2064_20230317085526534.parquet\n",
      "│   ├── [ 93M 08:55:01]  8b37de90-94b4-4234-9b0b-28d102ce6376-0_1-81-1328_20230317085410617.parquet\n",
      "│   └── [269M 08:57:46]  9e3648a2-1239-4790-9e75-e97ec78f03fe-0_0-158-2109_20230317085626880.parquet\n",
      "└── [981M 08:59:20]  parity=1\n",
      "    ├── [261M 08:57:44]  0268f44c-9be6-4731-9b7d-c8711586d51c-0_2-158-2111_20230317085626880.parquet\n",
      "    ├── [ 63M 08:56:09]  09f1d540-6a74-4215-87cb-a05d910793cb-0_3-131-2067_20230317085526534.parquet\n",
      "    ├── [229M 08:57:41]  5051e339-13d3-4fc6-87f3-9f66a94e5c83-0_3-158-2112_20230317085626880.parquet\n",
      "    ├── [119M 08:56:20]  86e639b2-8ff0-4a5a-9f0c-e7fe792b5c7e-0_2-131-2066_20230317085526534.parquet\n",
      "    ├── [ 94M 08:55:01]  bd9eacb0-10b3-4a98-b151-b6bcc12a1f8d-0_3-81-1330_20230317085410617.parquet\n",
      "    ├── [120M 08:55:05]  bfcd0e4f-0669-4b79-82da-26051e6e6023-0_2-81-1329_20230317085410617.parquet\n",
      "    └── [ 96M 08:53:48]  cc5b25d3-7d8f-4098-a785-32c6946e52da-0_1-34-629_20230317085304196.parquet\n"
     ]
    }
   ],
   "source": [
    "%%sh\n",
    "${WORKSPACE}/hudi-stat.sh s3://${S3_BUCKET}/${TABLE_NAME} timeline commits storage"
   ]
  },
  {
   "cell_type": "markdown",
   "id": "00bdc485-3043-484c-8603-0e630184d445",
   "metadata": {
    "tags": []
   },
   "source": [
    "## 3. Test Case 2 - Async Clustering ( Offline Schedule -> Offline Execute )"
   ]
  },
  {
   "cell_type": "markdown",
   "id": "02869779-0ffc-42f5-87f2-791bf152dff2",
   "metadata": {
    "tags": []
   },
   "source": [
    "### 3.1. Test Plan\n",
    "\n",
    "Step No.|Action|Volume / Partition |Storage\n",
    ":--------:|:------|:------|:----------\n",
    "1|Insert|96MB|+ 1 Small FileGroup\n",
    "2|Insert|213MB|+ 1 Max File + 1 Small File\n",
    "3|Insert|182MB|+ 1 Max File + 1 Small File\n",
    "4|Offline Schedule|491MB|N/A\n",
    "5|Offline Eexecute|491MB|+ 2 Clustered Files"
   ]
  },
  {
   "cell_type": "markdown",
   "id": "1166a654-4057-4309-8ccb-2976b5fc0ee9",
   "metadata": {
    "tags": []
   },
   "source": [
    "### 3.2. Key Settings\n",
    "\n",
    "KEY|DEFAULT VALUE|SET VALUE\n",
    ":---|:---|:---\n",
    "hoodie.clustering.inline|false|false\n",
    "hoodie.clustering.schedule.inline|false|false\n",
    "hoodie.clustering.async.enabled|false|true\n",
    "hoodie.clustering.async.max.commits|4|3\n",
    "hoodie.clustering.plan.strategy.target.file.max.bytes|1073741824 / 1GB|314572800 / 300MB\n",
    "hoodie.clustering.plan.strategy.small.file.limit|314572800 / 300MB|209715200 / 200MB\n",
    "hoodie.clustering.plan.strategy.sort.columns|-|review_date\n",
    "hoodie.parquet.small.file.limit|104857600 / 100MB | 0\n",
    "hoodie.copyonwrite.record.size.estimate|1024|175"
   ]
  },
  {
   "cell_type": "markdown",
   "id": "992230f3-5f68-4a33-954c-3e1e6e120f06",
   "metadata": {
    "execution": {
     "iopub.execute_input": "2023-02-25T02:57:45.037101Z",
     "iopub.status.busy": "2023-02-25T02:57:45.036681Z",
     "iopub.status.idle": "2023-02-25T02:58:07.353493Z",
     "shell.execute_reply": "2023-02-25T02:58:07.352596Z",
     "shell.execute_reply.started": "2023-02-25T02:57:45.037060Z"
    },
    "tags": []
   },
   "source": [
    "### 3.3. Set Variables"
   ]
  },
  {
   "cell_type": "code",
   "execution_count": 19,
   "id": "63bf2e47-d172-4f81-949c-2b46c408e99e",
   "metadata": {
    "execution": {
     "iopub.execute_input": "2023-03-17T08:59:20.344221Z",
     "iopub.status.busy": "2023-03-17T08:59:20.343947Z",
     "iopub.status.idle": "2023-03-17T08:59:21.264217Z",
     "shell.execute_reply": "2023-03-17T08:59:21.263313Z",
     "shell.execute_reply.started": "2023-03-17T08:59:20.344196Z"
    },
    "tags": []
   },
   "outputs": [
    {
     "data": {
      "application/vnd.jupyter.widget-view+json": {
       "model_id": "",
       "version_major": 2,
       "version_minor": 0
      },
      "text/plain": [
       "FloatProgress(value=0.0, bar_style='info', description='Progress:', layout=Layout(height='25px', width='50%'),…"
      ]
     },
     "metadata": {},
     "output_type": "display_data"
    },
    {
     "data": {
      "text/html": [
       "<style>.jp-OutputArea-child .jupyter-widgets.jp-OutputArea-output { overflow: auto; }</style>"
      ],
      "text/plain": [
       "<IPython.core.display.HTML object>"
      ]
     },
     "metadata": {},
     "output_type": "display_data"
    },
    {
     "data": {
      "application/vnd.jupyter.widget-view+json": {
       "model_id": "80008e3c99ec4014bcc546f33b8b4b7f",
       "version_major": 2,
       "version_minor": 0
      },
      "text/plain": [
       "VBox(children=(HBox(children=(HTML(value='Type:'), Button(description='Table', layout=Layout(width='70px'), st…"
      ]
     },
     "metadata": {},
     "output_type": "display_data"
    },
    {
     "data": {
      "application/vnd.jupyter.widget-view+json": {
       "model_id": "aabf96b4d54c4ff0a33e70cce42ac5b8",
       "version_major": 2,
       "version_minor": 0
      },
      "text/plain": [
       "Output()"
      ]
     },
     "metadata": {},
     "output_type": "display_data"
    }
   ],
   "source": [
    "%%sql\n",
    "set TABLE_NAME=reviews_cow_clustering_2"
   ]
  },
  {
   "cell_type": "code",
   "execution_count": 20,
   "id": "3cb3dd19-a55e-4ebd-ab6d-cb1c2cdef2b3",
   "metadata": {
    "execution": {
     "iopub.execute_input": "2023-03-17T08:59:21.265440Z",
     "iopub.status.busy": "2023-03-17T08:59:21.265208Z",
     "iopub.status.idle": "2023-03-17T08:59:21.270207Z",
     "shell.execute_reply": "2023-03-17T08:59:21.269426Z",
     "shell.execute_reply.started": "2023-03-17T08:59:21.265418Z"
    },
    "tags": []
   },
   "outputs": [
    {
     "name": "stdout",
     "output_type": "stream",
     "text": [
      "env: TABLE_NAME=reviews_cow_clustering_2\n"
     ]
    }
   ],
   "source": [
    "%env TABLE_NAME=reviews_cow_clustering_2"
   ]
  },
  {
   "cell_type": "markdown",
   "id": "0ba3031f-f92c-486d-a0de-3f141410f2bf",
   "metadata": {},
   "source": [
    "### 3.4. Create Table"
   ]
  },
  {
   "cell_type": "code",
   "execution_count": 21,
   "id": "bdcd022c-8a54-463d-9f3e-fbfb92969328",
   "metadata": {
    "execution": {
     "iopub.execute_input": "2023-03-17T08:59:21.271408Z",
     "iopub.status.busy": "2023-03-17T08:59:21.271170Z",
     "iopub.status.idle": "2023-03-17T08:59:27.286489Z",
     "shell.execute_reply": "2023-03-17T08:59:27.285250Z",
     "shell.execute_reply.started": "2023-03-17T08:59:21.271386Z"
    },
    "tags": []
   },
   "outputs": [],
   "source": [
    "%%sh\n",
    "aws s3 rm s3://${S3_BUCKET}/${TABLE_NAME} --recursive &>/dev/null\n",
    "rm -rf ${WORKSPACE}/${TABLE_NAME}\n",
    "sleep 5"
   ]
  },
  {
   "cell_type": "code",
   "execution_count": 22,
   "id": "2dd45b7f-cce2-4aec-99ec-7359d6d060e7",
   "metadata": {
    "execution": {
     "iopub.execute_input": "2023-03-17T08:59:27.288446Z",
     "iopub.status.busy": "2023-03-17T08:59:27.287967Z",
     "iopub.status.idle": "2023-03-17T08:59:28.130290Z",
     "shell.execute_reply": "2023-03-17T08:59:28.129441Z",
     "shell.execute_reply.started": "2023-03-17T08:59:27.288412Z"
    },
    "tags": []
   },
   "outputs": [
    {
     "data": {
      "application/vnd.jupyter.widget-view+json": {
       "model_id": "",
       "version_major": 2,
       "version_minor": 0
      },
      "text/plain": [
       "FloatProgress(value=0.0, bar_style='info', description='Progress:', layout=Layout(height='25px', width='50%'),…"
      ]
     },
     "metadata": {},
     "output_type": "display_data"
    },
    {
     "data": {
      "text/html": [
       "<style>.jp-OutputArea-child .jupyter-widgets.jp-OutputArea-output { overflow: auto; }</style>"
      ],
      "text/plain": [
       "<IPython.core.display.HTML object>"
      ]
     },
     "metadata": {},
     "output_type": "display_data"
    },
    {
     "data": {
      "application/vnd.jupyter.widget-view+json": {
       "model_id": "626e1db8d391414ea292ea06986e95a7",
       "version_major": 2,
       "version_minor": 0
      },
      "text/plain": [
       "VBox(children=(HBox(), EncodingWidget(children=(VBox(children=(HTML(value='Encoding:'), Dropdown(description='…"
      ]
     },
     "metadata": {},
     "output_type": "display_data"
    },
    {
     "data": {
      "application/vnd.jupyter.widget-view+json": {
       "model_id": "66a0359ca35541eab4d60cbec7fdcd0a",
       "version_major": 2,
       "version_minor": 0
      },
      "text/plain": [
       "Output()"
      ]
     },
     "metadata": {},
     "output_type": "display_data"
    }
   ],
   "source": [
    "%%sql\n",
    "drop table if exists ${TABLE_NAME}"
   ]
  },
  {
   "cell_type": "code",
   "execution_count": 23,
   "id": "f740f107-0ab8-46b7-bdd3-206571a40c09",
   "metadata": {
    "execution": {
     "iopub.execute_input": "2023-03-17T08:59:28.135864Z",
     "iopub.status.busy": "2023-03-17T08:59:28.135598Z",
     "iopub.status.idle": "2023-03-17T08:59:30.469526Z",
     "shell.execute_reply": "2023-03-17T08:59:30.468643Z",
     "shell.execute_reply.started": "2023-03-17T08:59:28.135839Z"
    },
    "tags": []
   },
   "outputs": [
    {
     "data": {
      "application/vnd.jupyter.widget-view+json": {
       "model_id": "",
       "version_major": 2,
       "version_minor": 0
      },
      "text/plain": [
       "FloatProgress(value=0.0, bar_style='info', description='Progress:', layout=Layout(height='25px', width='50%'),…"
      ]
     },
     "metadata": {},
     "output_type": "display_data"
    },
    {
     "data": {
      "text/html": [
       "<style>.jp-OutputArea-child .jupyter-widgets.jp-OutputArea-output { overflow: auto; }</style>"
      ],
      "text/plain": [
       "<IPython.core.display.HTML object>"
      ]
     },
     "metadata": {},
     "output_type": "display_data"
    },
    {
     "data": {
      "application/vnd.jupyter.widget-view+json": {
       "model_id": "db169c6f6de04689bb550187f2d2c213",
       "version_major": 2,
       "version_minor": 0
      },
      "text/plain": [
       "VBox(children=(HBox(), EncodingWidget(children=(VBox(children=(HTML(value='Encoding:'), Dropdown(description='…"
      ]
     },
     "metadata": {},
     "output_type": "display_data"
    },
    {
     "data": {
      "application/vnd.jupyter.widget-view+json": {
       "model_id": "0e8b90a126524a9cbdcc79f910ef37a3",
       "version_major": 2,
       "version_minor": 0
      },
      "text/plain": [
       "Output()"
      ]
     },
     "metadata": {},
     "output_type": "display_data"
    }
   ],
   "source": [
    "%%sql\n",
    "-- for async mode: \n",
    "-- 1. some clustering properties works as table properties, i.e. hoodie.clustering.async.enabled and hoodie.clustering.async.max.commits\n",
    "-- 2. all clustering async & plan properties will be overwritten by spark job level configuration via --hoodie-conf or --props\n",
    "-- so, to be simple, do NOT set any clustering-ralated properties on table, always set by --hoodie-conf or --props\n",
    "-- so, comment out clustering related settings, just keep them as reference.\n",
    "create table if not exists ${TABLE_NAME}(\n",
    "    review_id string, \n",
    "    star_rating int, \n",
    "    review_body string, \n",
    "    review_date date, \n",
    "    year long,\n",
    "    timestamp long,\n",
    "    parity int\n",
    ")\n",
    "using hudi\n",
    "location 's3://${S3_BUCKET}/${TABLE_NAME}'\n",
    "partitioned by (parity)\n",
    "options ( \n",
    "    type = 'cow',  \n",
    "    primaryKey = 'review_id', \n",
    "    preCombineField = 'timestamp',\n",
    "    -- hoodie.clustering.inline = 'false',\n",
    "    -- hoodie.clustering.schedule.inline = 'false',\n",
    "    -- hoodie.clustering.async.enabled = 'true',\n",
    "    -- hoodie.clustering.async.max.commits = '3',\n",
    "    -- hoodie.clustering.plan.strategy.small.file.limit = '209715200',\n",
    "    -- hoodie.clustering.plan.strategy.target.file.max.bytes = '314572800',\n",
    "    -- hoodie.clustering.plan.strategy.sort.columns = 'review_date',\n",
    "    hoodie.parquet.small.file.limit = '0',\n",
    "    hoodie.copyonwrite.record.size.estimate = '175'\n",
    ");"
   ]
  },
  {
   "cell_type": "markdown",
   "id": "970171f5-9d20-4683-98f7-29b1add0bf73",
   "metadata": {
    "tags": []
   },
   "source": [
    "### 3.5. Insert 96MB / + 1 Small File"
   ]
  },
  {
   "cell_type": "code",
   "execution_count": 24,
   "id": "68ba92de-f185-4316-a8f6-cec6ef2a5883",
   "metadata": {
    "execution": {
     "iopub.execute_input": "2023-03-17T08:59:30.472320Z",
     "iopub.status.busy": "2023-03-17T08:59:30.472050Z",
     "iopub.status.idle": "2023-03-17T09:00:13.924207Z",
     "shell.execute_reply": "2023-03-17T09:00:13.923364Z",
     "shell.execute_reply.started": "2023-03-17T08:59:30.472295Z"
    },
    "tags": []
   },
   "outputs": [
    {
     "data": {
      "application/vnd.jupyter.widget-view+json": {
       "model_id": "",
       "version_major": 2,
       "version_minor": 0
      },
      "text/plain": [
       "FloatProgress(value=0.0, bar_style='info', description='Progress:', layout=Layout(height='25px', width='50%'),…"
      ]
     },
     "metadata": {},
     "output_type": "display_data"
    },
    {
     "data": {
      "text/html": [
       "<style>.jp-OutputArea-child .jupyter-widgets.jp-OutputArea-output { overflow: auto; }</style>"
      ],
      "text/plain": [
       "<IPython.core.display.HTML object>"
      ]
     },
     "metadata": {},
     "output_type": "display_data"
    },
    {
     "data": {
      "application/vnd.jupyter.widget-view+json": {
       "model_id": "bd4b1d9073784963bf50706a29cd330a",
       "version_major": 2,
       "version_minor": 0
      },
      "text/plain": [
       "VBox(children=(HBox(), EncodingWidget(children=(VBox(children=(HTML(value='Encoding:'), Dropdown(description='…"
      ]
     },
     "metadata": {},
     "output_type": "display_data"
    },
    {
     "data": {
      "application/vnd.jupyter.widget-view+json": {
       "model_id": "e80593ea93e549d999edec62947e069e",
       "version_major": 2,
       "version_minor": 0
      },
      "text/plain": [
       "Output()"
      ]
     },
     "metadata": {},
     "output_type": "display_data"
    }
   ],
   "source": [
    "%%sql\n",
    "insert into \n",
    "    ${TABLE_NAME}\n",
    "select \n",
    "    review_id, \n",
    "    star_rating, \n",
    "    review_body, \n",
    "    review_date, \n",
    "    year,\n",
    "    unix_timestamp(current_timestamp()) as timestamp,\n",
    "    mod(crc32(review_id), 2) as parity\n",
    "from\n",
    "    reviews\n",
    "where\n",
    "    year = 2003;"
   ]
  },
  {
   "cell_type": "code",
   "execution_count": 25,
   "id": "53d697ae-e73b-4218-a5f9-78c5f71c0d8e",
   "metadata": {
    "execution": {
     "iopub.execute_input": "2023-03-17T09:00:13.925519Z",
     "iopub.status.busy": "2023-03-17T09:00:13.925259Z",
     "iopub.status.idle": "2023-03-17T09:00:23.105985Z",
     "shell.execute_reply": "2023-03-17T09:00:23.105098Z",
     "shell.execute_reply.started": "2023-03-17T09:00:13.925495Z"
    },
    "tags": []
   },
   "outputs": [
    {
     "name": "stdout",
     "output_type": "stream",
     "text": [
      "\n",
      "[ TIMELINE ]\n",
      "\n",
      "╔═════╤═══════════════════╤════════╤═══════════╤═════════════╤═════════════╤═════════════╗\n",
      "║ No. │ Instant           │ Action │ State     │ Requested   │ Inflight    │ Completed   ║\n",
      "║     │                   │        │           │ Time        │ Time        │ Time        ║\n",
      "╠═════╪═══════════════════╪════════╪═══════════╪═════════════╪═════════════╪═════════════╣\n",
      "║ 0   │ 20230317085930947 │ commit │ COMPLETED │ 03-17 08:59 │ 03-17 08:59 │ 03-17 09:00 ║\n",
      "╚═════╧═══════════════════╧════════╧═══════════╧═════════════╧═════════════╧═════════════╝\n",
      "\n",
      "[ STORAGE ]\n",
      "\n",
      "/home/emr-notebook/apache-hudi-core-conceptions/reviews_cow_clustering_2\n",
      "├── [ 96M 09:00:23]  parity=0\n",
      "│   └── [ 96M 09:00:04]  23929c20-1018-433c-b2bd-6f59848ed246-0_0-217-2973_20230317085930947.parquet\n",
      "└── [ 96M 09:00:23]  parity=1\n",
      "    └── [ 96M 09:00:04]  8862197d-b470-4652-b971-91fe1a9458f5-0_1-217-2974_20230317085930947.parquet\n"
     ]
    }
   ],
   "source": [
    "%%sh\n",
    "${WORKSPACE}/hudi-stat.sh s3://${S3_BUCKET}/${TABLE_NAME} timeline commits storage"
   ]
  },
  {
   "cell_type": "markdown",
   "id": "331f3396-e9e8-4cf4-9c7d-aeda1173b7f0",
   "metadata": {
    "tags": []
   },
   "source": [
    "### 3.6. Insert 213MB / + 1 Max File + 1 Small File"
   ]
  },
  {
   "cell_type": "code",
   "execution_count": 26,
   "id": "86502862-dfe3-46f2-b0db-a0a0850409dc",
   "metadata": {
    "execution": {
     "iopub.execute_input": "2023-03-17T09:00:23.107872Z",
     "iopub.status.busy": "2023-03-17T09:00:23.107456Z",
     "iopub.status.idle": "2023-03-17T09:01:22.605638Z",
     "shell.execute_reply": "2023-03-17T09:01:22.604818Z",
     "shell.execute_reply.started": "2023-03-17T09:00:23.107831Z"
    },
    "tags": []
   },
   "outputs": [
    {
     "data": {
      "application/vnd.jupyter.widget-view+json": {
       "model_id": "",
       "version_major": 2,
       "version_minor": 0
      },
      "text/plain": [
       "FloatProgress(value=0.0, bar_style='info', description='Progress:', layout=Layout(height='25px', width='50%'),…"
      ]
     },
     "metadata": {},
     "output_type": "display_data"
    },
    {
     "data": {
      "text/html": [
       "<style>.jp-OutputArea-child .jupyter-widgets.jp-OutputArea-output { overflow: auto; }</style>"
      ],
      "text/plain": [
       "<IPython.core.display.HTML object>"
      ]
     },
     "metadata": {},
     "output_type": "display_data"
    },
    {
     "data": {
      "application/vnd.jupyter.widget-view+json": {
       "model_id": "1bc08d82408f4aa9826880c09b7a1e0b",
       "version_major": 2,
       "version_minor": 0
      },
      "text/plain": [
       "VBox(children=(HBox(), EncodingWidget(children=(VBox(children=(HTML(value='Encoding:'), Dropdown(description='…"
      ]
     },
     "metadata": {},
     "output_type": "display_data"
    },
    {
     "data": {
      "application/vnd.jupyter.widget-view+json": {
       "model_id": "54b2d6ed16a642f797d52190d53322eb",
       "version_major": 2,
       "version_minor": 0
      },
      "text/plain": [
       "Output()"
      ]
     },
     "metadata": {},
     "output_type": "display_data"
    }
   ],
   "source": [
    "%%sql\n",
    "insert into \n",
    "    ${TABLE_NAME}\n",
    "select \n",
    "    review_id, \n",
    "    star_rating, \n",
    "    review_body, \n",
    "    review_date, \n",
    "    year,\n",
    "    unix_timestamp(current_timestamp()) as timestamp,\n",
    "    mod(crc32(review_id), 2) as parity\n",
    "from\n",
    "    reviews\n",
    "where\n",
    "    year in (2004, 2005);"
   ]
  },
  {
   "cell_type": "code",
   "execution_count": 27,
   "id": "f17d5f39-654f-4b30-bc94-9ac668b7cc48",
   "metadata": {
    "execution": {
     "iopub.execute_input": "2023-03-17T09:01:22.606828Z",
     "iopub.status.busy": "2023-03-17T09:01:22.606611Z",
     "iopub.status.idle": "2023-03-17T09:01:32.774214Z",
     "shell.execute_reply": "2023-03-17T09:01:32.773461Z",
     "shell.execute_reply.started": "2023-03-17T09:01:22.606806Z"
    },
    "tags": []
   },
   "outputs": [
    {
     "name": "stdout",
     "output_type": "stream",
     "text": [
      "\n",
      "[ TIMELINE ]\n",
      "\n",
      "╔═════╤═══════════════════╤════════╤═══════════╤═════════════╤═════════════╤═════════════╗\n",
      "║ No. │ Instant           │ Action │ State     │ Requested   │ Inflight    │ Completed   ║\n",
      "║     │                   │        │           │ Time        │ Time        │ Time        ║\n",
      "╠═════╪═══════════════════╪════════╪═══════════╪═════════════╪═════════════╪═════════════╣\n",
      "║ 0   │ 20230317085930947 │ commit │ COMPLETED │ 03-17 08:59 │ 03-17 08:59 │ 03-17 09:00 ║\n",
      "╟─────┼───────────────────┼────────┼───────────┼─────────────┼─────────────┼─────────────╢\n",
      "║ 1   │ 20230317090024178 │ commit │ COMPLETED │ 03-17 09:00 │ 03-17 09:00 │ 03-17 09:01 ║\n",
      "╚═════╧═══════════════════╧════════╧═══════════╧═════════════╧═════════════╧═════════════╝\n",
      "\n",
      "[ STORAGE ]\n",
      "\n",
      "/home/emr-notebook/apache-hudi-core-conceptions/reviews_cow_clustering_2\n",
      "├── [309M 09:01:32]  parity=0\n",
      "│   ├── [ 96M 09:00:04]  23929c20-1018-433c-b2bd-6f59848ed246-0_0-217-2973_20230317085930947.parquet\n",
      "│   ├── [ 93M 09:01:09]  5f305998-4b02-4153-a743-84809d81d3ac-0_1-264-3673_20230317090024178.parquet\n",
      "│   └── [120M 09:01:14]  6494a503-dbca-4f4a-82fb-0d2f9e75cd0b-0_0-264-3672_20230317090024178.parquet\n",
      "└── [309M 09:01:32]  parity=1\n",
      "    ├── [ 94M 09:01:09]  789bd450-d184-4365-90df-c2a21d7e3134-0_3-264-3675_20230317090024178.parquet\n",
      "    ├── [ 96M 09:00:04]  8862197d-b470-4652-b971-91fe1a9458f5-0_1-217-2974_20230317085930947.parquet\n",
      "    └── [120M 09:01:14]  a02c486d-cb47-48fc-af89-cf335cdd2262-0_2-264-3674_20230317090024178.parquet\n"
     ]
    }
   ],
   "source": [
    "%%sh\n",
    "${WORKSPACE}/hudi-stat.sh s3://${S3_BUCKET}/${TABLE_NAME} timeline commits storage"
   ]
  },
  {
   "cell_type": "markdown",
   "id": "1e098aa2-c590-4b28-9935-3994cc7e3e83",
   "metadata": {
    "tags": []
   },
   "source": [
    "### 3.7. Insert 182MB / + 1 Max File + 1 Small File"
   ]
  },
  {
   "cell_type": "code",
   "execution_count": 28,
   "id": "4bd5a1d7-b6bf-4e8a-9b27-5a316819dd54",
   "metadata": {
    "execution": {
     "iopub.execute_input": "2023-03-17T09:01:32.775836Z",
     "iopub.status.busy": "2023-03-17T09:01:32.775522Z",
     "iopub.status.idle": "2023-03-17T09:02:34.329484Z",
     "shell.execute_reply": "2023-03-17T09:02:34.328757Z",
     "shell.execute_reply.started": "2023-03-17T09:01:32.775807Z"
    },
    "tags": []
   },
   "outputs": [
    {
     "data": {
      "application/vnd.jupyter.widget-view+json": {
       "model_id": "",
       "version_major": 2,
       "version_minor": 0
      },
      "text/plain": [
       "FloatProgress(value=0.0, bar_style='info', description='Progress:', layout=Layout(height='25px', width='50%'),…"
      ]
     },
     "metadata": {},
     "output_type": "display_data"
    },
    {
     "data": {
      "text/html": [
       "<style>.jp-OutputArea-child .jupyter-widgets.jp-OutputArea-output { overflow: auto; }</style>"
      ],
      "text/plain": [
       "<IPython.core.display.HTML object>"
      ]
     },
     "metadata": {},
     "output_type": "display_data"
    },
    {
     "data": {
      "application/vnd.jupyter.widget-view+json": {
       "model_id": "85240d16c41949448d540cb3ced8fec9",
       "version_major": 2,
       "version_minor": 0
      },
      "text/plain": [
       "VBox(children=(HBox(), EncodingWidget(children=(VBox(children=(HTML(value='Encoding:'), Dropdown(description='…"
      ]
     },
     "metadata": {},
     "output_type": "display_data"
    },
    {
     "data": {
      "application/vnd.jupyter.widget-view+json": {
       "model_id": "0d23ea50bd8a4c3192140932a0067982",
       "version_major": 2,
       "version_minor": 0
      },
      "text/plain": [
       "Output()"
      ]
     },
     "metadata": {},
     "output_type": "display_data"
    }
   ],
   "source": [
    "%%sql\n",
    "insert into \n",
    "    ${TABLE_NAME}\n",
    "select \n",
    "    review_id, \n",
    "    star_rating, \n",
    "    review_body, \n",
    "    review_date, \n",
    "    year,\n",
    "    unix_timestamp(current_timestamp()) as timestamp,\n",
    "    mod(crc32(review_id), 2) as parity\n",
    "from\n",
    "    reviews\n",
    "where\n",
    "    year = 2007;"
   ]
  },
  {
   "cell_type": "code",
   "execution_count": 29,
   "id": "5079341a-0a03-4398-8ad8-c67ef7a07b85",
   "metadata": {
    "execution": {
     "iopub.execute_input": "2023-03-17T09:02:34.330732Z",
     "iopub.status.busy": "2023-03-17T09:02:34.330486Z",
     "iopub.status.idle": "2023-03-17T09:02:43.857354Z",
     "shell.execute_reply": "2023-03-17T09:02:43.856582Z",
     "shell.execute_reply.started": "2023-03-17T09:02:34.330709Z"
    },
    "tags": []
   },
   "outputs": [
    {
     "name": "stdout",
     "output_type": "stream",
     "text": [
      "\n",
      "[ TIMELINE ]\n",
      "\n",
      "╔═════╤═══════════════════╤════════╤═══════════╤═════════════╤═════════════╤═════════════╗\n",
      "║ No. │ Instant           │ Action │ State     │ Requested   │ Inflight    │ Completed   ║\n",
      "║     │                   │        │           │ Time        │ Time        │ Time        ║\n",
      "╠═════╪═══════════════════╪════════╪═══════════╪═════════════╪═════════════╪═════════════╣\n",
      "║ 0   │ 20230317085930947 │ commit │ COMPLETED │ 03-17 08:59 │ 03-17 08:59 │ 03-17 09:00 ║\n",
      "╟─────┼───────────────────┼────────┼───────────┼─────────────┼─────────────┼─────────────╢\n",
      "║ 1   │ 20230317090024178 │ commit │ COMPLETED │ 03-17 09:00 │ 03-17 09:00 │ 03-17 09:01 ║\n",
      "╟─────┼───────────────────┼────────┼───────────┼─────────────┼─────────────┼─────────────╢\n",
      "║ 2   │ 20230317090133814 │ commit │ COMPLETED │ 03-17 09:01 │ 03-17 09:02 │ 03-17 09:02 ║\n",
      "╚═════╧═══════════════════╧════════╧═══════════╧═════════════╧═════════════╧═════════════╝\n",
      "\n",
      "[ STORAGE ]\n",
      "\n",
      "/home/emr-notebook/apache-hudi-core-conceptions/reviews_cow_clustering_2\n",
      "├── [491M 09:02:43]  parity=0\n",
      "│   ├── [ 96M 09:00:04]  23929c20-1018-433c-b2bd-6f59848ed246-0_0-217-2973_20230317085930947.parquet\n",
      "│   ├── [ 93M 09:01:09]  5f305998-4b02-4153-a743-84809d81d3ac-0_1-264-3673_20230317090024178.parquet\n",
      "│   ├── [120M 09:01:14]  6494a503-dbca-4f4a-82fb-0d2f9e75cd0b-0_0-264-3672_20230317090024178.parquet\n",
      "│   ├── [119M 09:02:24]  874cdc42-4a50-42db-a445-74126476a4c3-0_0-314-4409_20230317090133814.parquet\n",
      "│   └── [ 63M 09:02:15]  adb669e6-4b09-4f0e-8c5e-b1050d1f25f7-0_1-314-4410_20230317090133814.parquet\n",
      "└── [491M 09:02:43]  parity=1\n",
      "    ├── [ 94M 09:01:09]  789bd450-d184-4365-90df-c2a21d7e3134-0_3-264-3675_20230317090024178.parquet\n",
      "    ├── [ 96M 09:00:04]  8862197d-b470-4652-b971-91fe1a9458f5-0_1-217-2974_20230317085930947.parquet\n",
      "    ├── [120M 09:01:14]  a02c486d-cb47-48fc-af89-cf335cdd2262-0_2-264-3674_20230317090024178.parquet\n",
      "    ├── [ 63M 09:02:15]  bc55e9c5-6618-4ea3-9bc4-2bae7c0aab1a-0_3-314-4412_20230317090133814.parquet\n",
      "    └── [119M 09:02:24]  c51eb3c6-cc5d-4644-8448-377213f3b54c-0_2-314-4411_20230317090133814.parquet\n"
     ]
    }
   ],
   "source": [
    "%%sh\n",
    "${WORKSPACE}/hudi-stat.sh s3://${S3_BUCKET}/${TABLE_NAME} timeline commits storage"
   ]
  },
  {
   "cell_type": "markdown",
   "id": "0e56f987-da37-4cc5-9aa4-bfbabc80c2dd",
   "metadata": {
    "tags": []
   },
   "source": [
    "### 3.8. Offline Schedule 491MB"
   ]
  },
  {
   "cell_type": "code",
   "execution_count": 30,
   "id": "38f967c8-5dd4-419f-b35b-37aa7007c9e9",
   "metadata": {
    "execution": {
     "iopub.execute_input": "2023-03-17T09:02:43.860403Z",
     "iopub.status.busy": "2023-03-17T09:02:43.860147Z",
     "iopub.status.idle": "2023-03-17T09:03:09.337808Z",
     "shell.execute_reply": "2023-03-17T09:03:09.336804Z",
     "shell.execute_reply.started": "2023-03-17T09:02:43.860376Z"
    },
    "tags": []
   },
   "outputs": [],
   "source": [
    "%%sh\n",
    "# it's required for current user (emr-notebook) to get sudo permission\n",
    "sudo -u hadoop spark-submit \\\n",
    "  --jars '/usr/lib/hudi/hudi-spark-bundle.jar' \\\n",
    "  --class 'org.apache.hudi.utilities.HoodieClusteringJob' \\\n",
    "  /usr/lib/hudi/hudi-utilities-bundle.jar \\\n",
    "  --spark-memory '4g' \\\n",
    "  --mode 'schedule' \\\n",
    "  --base-path \"s3://${S3_BUCKET}/${TABLE_NAME}\" \\\n",
    "  --table-name \"${TABLE_NAME}\" \\\n",
    "  --hoodie-conf \"hoodie.clustering.async.enabled=true\" \\\n",
    "  --hoodie-conf \"hoodie.clustering.async.max.commits=3\" \\\n",
    "  --hoodie-conf \"hoodie.clustering.plan.strategy.small.file.limit=209715200\" \\\n",
    "  --hoodie-conf \"hoodie.clustering.plan.strategy.target.file.max.bytes=314572800\" \\\n",
    "  --hoodie-conf \"hoodie.clustering.plan.strategy.sort.columns=review_date\" > ${WORKSPACE}/${TABLE_NAME}.schedule.out &>/dev/null"
   ]
  },
  {
   "cell_type": "code",
   "execution_count": 31,
   "id": "54846a2b-c826-48c6-8e8c-6b03cb05064f",
   "metadata": {
    "execution": {
     "iopub.execute_input": "2023-03-17T09:03:09.339456Z",
     "iopub.status.busy": "2023-03-17T09:03:09.339205Z",
     "iopub.status.idle": "2023-03-17T09:03:17.052971Z",
     "shell.execute_reply": "2023-03-17T09:03:17.051950Z",
     "shell.execute_reply.started": "2023-03-17T09:03:09.339432Z"
    },
    "tags": []
   },
   "outputs": [
    {
     "name": "stdout",
     "output_type": "stream",
     "text": [
      "\n",
      "[ TIMELINE ]\n",
      "\n",
      "╔═════╤═══════════════════╤═══════════════╤═══════════╤═════════════╤═════════════╤═════════════╗\n",
      "║ No. │ Instant           │ Action        │ State     │ Requested   │ Inflight    │ Completed   ║\n",
      "║     │                   │               │           │ Time        │ Time        │ Time        ║\n",
      "╠═════╪═══════════════════╪═══════════════╪═══════════╪═════════════╪═════════════╪═════════════╣\n",
      "║ 0   │ 20230317085930947 │ commit        │ COMPLETED │ 03-17 08:59 │ 03-17 08:59 │ 03-17 09:00 ║\n",
      "╟─────┼───────────────────┼───────────────┼───────────┼─────────────┼─────────────┼─────────────╢\n",
      "║ 1   │ 20230317090024178 │ commit        │ COMPLETED │ 03-17 09:00 │ 03-17 09:00 │ 03-17 09:01 ║\n",
      "╟─────┼───────────────────┼───────────────┼───────────┼─────────────┼─────────────┼─────────────╢\n",
      "║ 2   │ 20230317090133814 │ commit        │ COMPLETED │ 03-17 09:01 │ 03-17 09:02 │ 03-17 09:02 ║\n",
      "╟─────┼───────────────────┼───────────────┼───────────┼─────────────┼─────────────┼─────────────╢\n",
      "║ 3   │ 20230317090301407 │ replacecommit │ REQUESTED │ 03-17 09:03 │ -           │ -           ║\n",
      "╚═════╧═══════════════════╧═══════════════╧═══════════╧═════════════╧═════════════╧═════════════╝\n",
      "\n",
      "[ STORAGE ]\n",
      "\n",
      "/home/emr-notebook/apache-hudi-core-conceptions/reviews_cow_clustering_2\n",
      "├── [491M 09:02:43]  parity=0\n",
      "│   ├── [ 96M 09:00:04]  23929c20-1018-433c-b2bd-6f59848ed246-0_0-217-2973_20230317085930947.parquet\n",
      "│   ├── [ 93M 09:01:09]  5f305998-4b02-4153-a743-84809d81d3ac-0_1-264-3673_20230317090024178.parquet\n",
      "│   ├── [120M 09:01:14]  6494a503-dbca-4f4a-82fb-0d2f9e75cd0b-0_0-264-3672_20230317090024178.parquet\n",
      "│   ├── [119M 09:02:24]  874cdc42-4a50-42db-a445-74126476a4c3-0_0-314-4409_20230317090133814.parquet\n",
      "│   └── [ 63M 09:02:15]  adb669e6-4b09-4f0e-8c5e-b1050d1f25f7-0_1-314-4410_20230317090133814.parquet\n",
      "└── [491M 09:02:43]  parity=1\n",
      "    ├── [ 94M 09:01:09]  789bd450-d184-4365-90df-c2a21d7e3134-0_3-264-3675_20230317090024178.parquet\n",
      "    ├── [ 96M 09:00:04]  8862197d-b470-4652-b971-91fe1a9458f5-0_1-217-2974_20230317085930947.parquet\n",
      "    ├── [120M 09:01:14]  a02c486d-cb47-48fc-af89-cf335cdd2262-0_2-264-3674_20230317090024178.parquet\n",
      "    ├── [ 63M 09:02:15]  bc55e9c5-6618-4ea3-9bc4-2bae7c0aab1a-0_3-314-4412_20230317090133814.parquet\n",
      "    └── [119M 09:02:24]  c51eb3c6-cc5d-4644-8448-377213f3b54c-0_2-314-4411_20230317090133814.parquet\n"
     ]
    }
   ],
   "source": [
    "%%sh\n",
    "${WORKSPACE}/hudi-stat.sh s3://${S3_BUCKET}/${TABLE_NAME} timeline commits storage"
   ]
  },
  {
   "cell_type": "markdown",
   "id": "4d3095c2-2ee1-4aa0-9f91-4205e9865b89",
   "metadata": {
    "tags": []
   },
   "source": [
    "### 3.9. Offline Eexecute 491MB / + 2 Clustered Files"
   ]
  },
  {
   "cell_type": "code",
   "execution_count": 32,
   "id": "68836317-7694-4e78-a80b-105cbdbd9251",
   "metadata": {
    "execution": {
     "iopub.execute_input": "2023-03-17T09:03:17.054375Z",
     "iopub.status.busy": "2023-03-17T09:03:17.054133Z",
     "iopub.status.idle": "2023-03-17T09:06:19.082722Z",
     "shell.execute_reply": "2023-03-17T09:06:19.081892Z",
     "shell.execute_reply.started": "2023-03-17T09:03:17.054350Z"
    },
    "tags": []
   },
   "outputs": [],
   "source": [
    "%%sh\n",
    "# no need to provide --hoodie-conf setting again for execute, they are only used for schedule\n",
    "# for execute, if there are requested replacecommits in timeline, they will be executed via this job.\n",
    "# it's required for current user (emr-notebook) to get sudo permission\n",
    "sudo -u hadoop spark-submit \\\n",
    "  --jars '/usr/lib/hudi/hudi-spark-bundle.jar' \\\n",
    "  --class 'org.apache.hudi.utilities.HoodieClusteringJob' \\\n",
    "  /usr/lib/hudi/hudi-utilities-bundle.jar \\\n",
    "  --spark-memory '4g' \\\n",
    "  --mode 'execute' \\\n",
    "  --base-path \"s3://${S3_BUCKET}/${TABLE_NAME}\" \\\n",
    "  --table-name \"${TABLE_NAME}\" > ${WORKSPACE}/${TABLE_NAME}.execute.out &>/dev/null"
   ]
  },
  {
   "cell_type": "code",
   "execution_count": 33,
   "id": "2e63ca8f-a1ad-4f64-bb63-58d39cceb348",
   "metadata": {
    "execution": {
     "iopub.execute_input": "2023-03-17T09:06:19.084561Z",
     "iopub.status.busy": "2023-03-17T09:06:19.084211Z",
     "iopub.status.idle": "2023-03-17T09:06:31.952144Z",
     "shell.execute_reply": "2023-03-17T09:06:31.951335Z",
     "shell.execute_reply.started": "2023-03-17T09:06:19.084523Z"
    },
    "tags": []
   },
   "outputs": [
    {
     "name": "stdout",
     "output_type": "stream",
     "text": [
      "\n",
      "[ TIMELINE ]\n",
      "\n",
      "╔═════╤═══════════════════╤═══════════════╤═══════════╤═════════════╤═════════════╤═════════════╗\n",
      "║ No. │ Instant           │ Action        │ State     │ Requested   │ Inflight    │ Completed   ║\n",
      "║     │                   │               │           │ Time        │ Time        │ Time        ║\n",
      "╠═════╪═══════════════════╪═══════════════╪═══════════╪═════════════╪═════════════╪═════════════╣\n",
      "║ 0   │ 20230317085930947 │ commit        │ COMPLETED │ 03-17 08:59 │ 03-17 08:59 │ 03-17 09:00 ║\n",
      "╟─────┼───────────────────┼───────────────┼───────────┼─────────────┼─────────────┼─────────────╢\n",
      "║ 1   │ 20230317090024178 │ commit        │ COMPLETED │ 03-17 09:00 │ 03-17 09:00 │ 03-17 09:01 ║\n",
      "╟─────┼───────────────────┼───────────────┼───────────┼─────────────┼─────────────┼─────────────╢\n",
      "║ 2   │ 20230317090133814 │ commit        │ COMPLETED │ 03-17 09:01 │ 03-17 09:02 │ 03-17 09:02 ║\n",
      "╟─────┼───────────────────┼───────────────┼───────────┼─────────────┼─────────────┼─────────────╢\n",
      "║ 3   │ 20230317090301407 │ replacecommit │ COMPLETED │ 03-17 09:03 │ 03-17 09:03 │ 03-17 09:06 ║\n",
      "╚═════╧═══════════════════╧═══════════════╧═══════════╧═════════════╧═════════════╧═════════════╝\n",
      "\n",
      "[ STORAGE ]\n",
      "\n",
      "/home/emr-notebook/apache-hudi-core-conceptions/reviews_cow_clustering_2\n",
      "├── [980M 09:06:31]  parity=0\n",
      "│   ├── [ 96M 09:00:04]  23929c20-1018-433c-b2bd-6f59848ed246-0_0-217-2973_20230317085930947.parquet\n",
      "│   ├── [ 93M 09:01:09]  5f305998-4b02-4153-a743-84809d81d3ac-0_1-264-3673_20230317090024178.parquet\n",
      "│   ├── [120M 09:01:14]  6494a503-dbca-4f4a-82fb-0d2f9e75cd0b-0_0-264-3672_20230317090024178.parquet\n",
      "│   ├── [119M 09:02:24]  874cdc42-4a50-42db-a445-74126476a4c3-0_0-314-4409_20230317090133814.parquet\n",
      "│   ├── [ 63M 09:02:15]  adb669e6-4b09-4f0e-8c5e-b1050d1f25f7-0_1-314-4410_20230317090133814.parquet\n",
      "│   ├── [245M 09:04:54]  c29dd963-1646-415c-a4a5-52e0fcadf75e-0_1-4-21_20230317090301407.parquet\n",
      "│   └── [245M 09:04:57]  de01051e-5005-4583-ae5e-3c61a925e696-0_0-4-20_20230317090301407.parquet\n",
      "└── [981M 09:06:31]  parity=1\n",
      "    ├── [265M 09:05:01]  15b57b00-92be-4d56-b1da-3de8a85f93fd-0_2-4-22_20230317090301407.parquet\n",
      "    ├── [224M 09:04:57]  6bc66c2a-ad7a-43bd-80d5-9764add60c15-0_3-4-23_20230317090301407.parquet\n",
      "    ├── [ 94M 09:01:09]  789bd450-d184-4365-90df-c2a21d7e3134-0_3-264-3675_20230317090024178.parquet\n",
      "    ├── [ 96M 09:00:04]  8862197d-b470-4652-b971-91fe1a9458f5-0_1-217-2974_20230317085930947.parquet\n",
      "    ├── [120M 09:01:14]  a02c486d-cb47-48fc-af89-cf335cdd2262-0_2-264-3674_20230317090024178.parquet\n",
      "    ├── [ 63M 09:02:15]  bc55e9c5-6618-4ea3-9bc4-2bae7c0aab1a-0_3-314-4412_20230317090133814.parquet\n",
      "    └── [119M 09:02:24]  c51eb3c6-cc5d-4644-8448-377213f3b54c-0_2-314-4411_20230317090133814.parquet\n"
     ]
    }
   ],
   "source": [
    "%%sh\n",
    "${WORKSPACE}/hudi-stat.sh s3://${S3_BUCKET}/${TABLE_NAME} timeline commits storage"
   ]
  },
  {
   "cell_type": "markdown",
   "id": "004697ae-2c51-4107-9bf0-60b0713fe6be",
   "metadata": {
    "tags": []
   },
   "source": [
    "## 4. Test Case 3 - Async Clustering ( Offline Schedule，Offline Execute )"
   ]
  },
  {
   "cell_type": "markdown",
   "id": "6d8be26b-fbe2-4be3-b228-9c559b1d7f40",
   "metadata": {
    "tags": []
   },
   "source": [
    "### 4.1. Test Plan\n",
    "\n",
    "Step No.|Action|Volume / Partition |Storage\n",
    ":--------:|:------|:------|:----------\n",
    "1|Insert|96MB|+ 1 Small FileGroup\n",
    "2|Insert|213MB|+ 1 Max File + 1 Small File\n",
    "3|Insert|182MB|+ 1 Max File + 1 Small File\n",
    "4|Offline Schedule + Eexecute|491MB|+ 2 Clustered Files"
   ]
  },
  {
   "cell_type": "markdown",
   "id": "a1e7d641-3d45-4b84-9a77-16edf6f416a6",
   "metadata": {
    "tags": []
   },
   "source": [
    "### 4.2. Key Settings\n",
    "\n",
    "KEY|DEFAULT VALUE|SET VALUE\n",
    ":---|:---|:---\n",
    "hoodie.clustering.inline|false|false\n",
    "hoodie.clustering.schedule.inline|false|false\n",
    "hoodie.clustering.async.enabled|false|true\n",
    "hoodie.clustering.async.max.commits|4|3\n",
    "hoodie.clustering.plan.strategy.target.file.max.bytes|1073741824 / 1GB|314572800 / 300MB\n",
    "hoodie.clustering.plan.strategy.small.file.limit|314572800 / 300MB|209715200 / 200MB\n",
    "hoodie.clustering.plan.strategy.sort.columns|-|review_date\n",
    "hoodie.parquet.small.file.limit|104857600 / 100MB | 0\n",
    "hoodie.copyonwrite.record.size.estimate|1024|175"
   ]
  },
  {
   "cell_type": "markdown",
   "id": "1fb7dc06-61d1-43b4-a43e-c7cd9ff2adb6",
   "metadata": {
    "execution": {
     "iopub.execute_input": "2023-02-25T02:57:45.037101Z",
     "iopub.status.busy": "2023-02-25T02:57:45.036681Z",
     "iopub.status.idle": "2023-02-25T02:58:07.353493Z",
     "shell.execute_reply": "2023-02-25T02:58:07.352596Z",
     "shell.execute_reply.started": "2023-02-25T02:57:45.037060Z"
    },
    "tags": []
   },
   "source": [
    "### 4.3. Set Variables"
   ]
  },
  {
   "cell_type": "code",
   "execution_count": 34,
   "id": "c3a03aa0-ed08-4ece-90ee-8a04d33b0a1e",
   "metadata": {
    "execution": {
     "iopub.execute_input": "2023-03-17T09:06:31.953685Z",
     "iopub.status.busy": "2023-03-17T09:06:31.953409Z",
     "iopub.status.idle": "2023-03-17T09:06:41.396556Z",
     "shell.execute_reply": "2023-03-17T09:06:41.395842Z",
     "shell.execute_reply.started": "2023-03-17T09:06:31.953658Z"
    },
    "tags": []
   },
   "outputs": [
    {
     "data": {
      "application/vnd.jupyter.widget-view+json": {
       "model_id": "",
       "version_major": 2,
       "version_minor": 0
      },
      "text/plain": [
       "FloatProgress(value=0.0, bar_style='info', description='Progress:', layout=Layout(height='25px', width='50%'),…"
      ]
     },
     "metadata": {},
     "output_type": "display_data"
    },
    {
     "data": {
      "text/html": [
       "<style>.jp-OutputArea-child .jupyter-widgets.jp-OutputArea-output { overflow: auto; }</style>"
      ],
      "text/plain": [
       "<IPython.core.display.HTML object>"
      ]
     },
     "metadata": {},
     "output_type": "display_data"
    },
    {
     "data": {
      "application/vnd.jupyter.widget-view+json": {
       "model_id": "361dcdb5279e4eea9a77ca3cfdf9eb2f",
       "version_major": 2,
       "version_minor": 0
      },
      "text/plain": [
       "VBox(children=(HBox(children=(HTML(value='Type:'), Button(description='Table', layout=Layout(width='70px'), st…"
      ]
     },
     "metadata": {},
     "output_type": "display_data"
    },
    {
     "data": {
      "application/vnd.jupyter.widget-view+json": {
       "model_id": "59bc9d57ca7f402ba54e49d10fa7d50c",
       "version_major": 2,
       "version_minor": 0
      },
      "text/plain": [
       "Output()"
      ]
     },
     "metadata": {},
     "output_type": "display_data"
    }
   ],
   "source": [
    "%%sql\n",
    "set TABLE_NAME=reviews_cow_clustering_3"
   ]
  },
  {
   "cell_type": "code",
   "execution_count": 35,
   "id": "66ea5a4a-f5a6-44ca-9ddd-344522c1cc88",
   "metadata": {
    "execution": {
     "iopub.execute_input": "2023-03-17T09:06:41.397847Z",
     "iopub.status.busy": "2023-03-17T09:06:41.397601Z",
     "iopub.status.idle": "2023-03-17T09:06:41.401841Z",
     "shell.execute_reply": "2023-03-17T09:06:41.401206Z",
     "shell.execute_reply.started": "2023-03-17T09:06:41.397824Z"
    },
    "tags": []
   },
   "outputs": [
    {
     "name": "stdout",
     "output_type": "stream",
     "text": [
      "env: TABLE_NAME=reviews_cow_clustering_3\n"
     ]
    }
   ],
   "source": [
    "%env TABLE_NAME=reviews_cow_clustering_3"
   ]
  },
  {
   "cell_type": "markdown",
   "id": "2f20cdee-1a1f-44bf-be57-2bfbf6aeab7a",
   "metadata": {},
   "source": [
    "### 4.4. Create Table"
   ]
  },
  {
   "cell_type": "code",
   "execution_count": 36,
   "id": "36fc8a4e-423c-472a-85bf-c464b099c930",
   "metadata": {
    "execution": {
     "iopub.execute_input": "2023-03-17T09:06:41.403001Z",
     "iopub.status.busy": "2023-03-17T09:06:41.402786Z",
     "iopub.status.idle": "2023-03-17T09:06:47.395681Z",
     "shell.execute_reply": "2023-03-17T09:06:47.394823Z",
     "shell.execute_reply.started": "2023-03-17T09:06:41.402981Z"
    },
    "tags": []
   },
   "outputs": [],
   "source": [
    "%%sh\n",
    "aws s3 rm s3://${S3_BUCKET}/${TABLE_NAME} --recursive &>/dev/null\n",
    "rm -rf ${WORKSPACE}/${TABLE_NAME}\n",
    "sleep 5"
   ]
  },
  {
   "cell_type": "code",
   "execution_count": 37,
   "id": "c6477a30-4af3-4abe-9219-9324c924afa0",
   "metadata": {
    "execution": {
     "iopub.execute_input": "2023-03-17T09:06:47.397284Z",
     "iopub.status.busy": "2023-03-17T09:06:47.397022Z",
     "iopub.status.idle": "2023-03-17T09:06:48.226527Z",
     "shell.execute_reply": "2023-03-17T09:06:48.225775Z",
     "shell.execute_reply.started": "2023-03-17T09:06:47.397258Z"
    },
    "tags": []
   },
   "outputs": [
    {
     "data": {
      "application/vnd.jupyter.widget-view+json": {
       "model_id": "",
       "version_major": 2,
       "version_minor": 0
      },
      "text/plain": [
       "FloatProgress(value=0.0, bar_style='info', description='Progress:', layout=Layout(height='25px', width='50%'),…"
      ]
     },
     "metadata": {},
     "output_type": "display_data"
    },
    {
     "data": {
      "text/html": [
       "<style>.jp-OutputArea-child .jupyter-widgets.jp-OutputArea-output { overflow: auto; }</style>"
      ],
      "text/plain": [
       "<IPython.core.display.HTML object>"
      ]
     },
     "metadata": {},
     "output_type": "display_data"
    },
    {
     "data": {
      "application/vnd.jupyter.widget-view+json": {
       "model_id": "bc601c5dd6b845af9948a33860f9357a",
       "version_major": 2,
       "version_minor": 0
      },
      "text/plain": [
       "VBox(children=(HBox(), EncodingWidget(children=(VBox(children=(HTML(value='Encoding:'), Dropdown(description='…"
      ]
     },
     "metadata": {},
     "output_type": "display_data"
    },
    {
     "data": {
      "application/vnd.jupyter.widget-view+json": {
       "model_id": "dfecb009b909401fbe3407ef9787c115",
       "version_major": 2,
       "version_minor": 0
      },
      "text/plain": [
       "Output()"
      ]
     },
     "metadata": {},
     "output_type": "display_data"
    }
   ],
   "source": [
    "%%sql\n",
    "drop table if exists ${TABLE_NAME}"
   ]
  },
  {
   "cell_type": "code",
   "execution_count": 38,
   "id": "fafa88ef-e062-4adf-86bf-564528715b3e",
   "metadata": {
    "execution": {
     "iopub.execute_input": "2023-03-17T09:06:48.228163Z",
     "iopub.status.busy": "2023-03-17T09:06:48.227826Z",
     "iopub.status.idle": "2023-03-17T09:06:50.567994Z",
     "shell.execute_reply": "2023-03-17T09:06:50.567114Z",
     "shell.execute_reply.started": "2023-03-17T09:06:48.228128Z"
    },
    "tags": []
   },
   "outputs": [
    {
     "data": {
      "application/vnd.jupyter.widget-view+json": {
       "model_id": "",
       "version_major": 2,
       "version_minor": 0
      },
      "text/plain": [
       "FloatProgress(value=0.0, bar_style='info', description='Progress:', layout=Layout(height='25px', width='50%'),…"
      ]
     },
     "metadata": {},
     "output_type": "display_data"
    },
    {
     "data": {
      "text/html": [
       "<style>.jp-OutputArea-child .jupyter-widgets.jp-OutputArea-output { overflow: auto; }</style>"
      ],
      "text/plain": [
       "<IPython.core.display.HTML object>"
      ]
     },
     "metadata": {},
     "output_type": "display_data"
    },
    {
     "data": {
      "application/vnd.jupyter.widget-view+json": {
       "model_id": "1c77b2bd6e2a4448a7f8d154e0eb71cf",
       "version_major": 2,
       "version_minor": 0
      },
      "text/plain": [
       "VBox(children=(HBox(), EncodingWidget(children=(VBox(children=(HTML(value='Encoding:'), Dropdown(description='…"
      ]
     },
     "metadata": {},
     "output_type": "display_data"
    },
    {
     "data": {
      "application/vnd.jupyter.widget-view+json": {
       "model_id": "30bfc00de8ca4c4c92a61a72de8068bb",
       "version_major": 2,
       "version_minor": 0
      },
      "text/plain": [
       "Output()"
      ]
     },
     "metadata": {},
     "output_type": "display_data"
    }
   ],
   "source": [
    "%%sql\n",
    "-- for async mode: \n",
    "-- 1. some clustering properties works as table properties, i.e. hoodie.clustering.async.enabled and hoodie.clustering.async.max.commits\n",
    "-- 2. all clustering async & plan properties will be overwritten by spark job level configuration via --hoodie-conf or --props\n",
    "-- so, to be simple, do NOT set any clustering-ralated properties on table, always set by --hoodie-conf or --props\n",
    "-- so, comment out clustering related settings, just keep them as reference.\n",
    "create table if not exists ${TABLE_NAME}(\n",
    "    review_id string, \n",
    "    star_rating int, \n",
    "    review_body string, \n",
    "    review_date date, \n",
    "    year long,\n",
    "    timestamp long,\n",
    "    parity int\n",
    ")\n",
    "using hudi\n",
    "location 's3://${S3_BUCKET}/${TABLE_NAME}'\n",
    "partitioned by (parity)\n",
    "options ( \n",
    "    type = 'cow',  \n",
    "    primaryKey = 'review_id', \n",
    "    preCombineField = 'timestamp',\n",
    "    -- hoodie.clustering.inline = 'false',\n",
    "    -- hoodie.clustering.schedule.inline = 'false',\n",
    "    -- hoodie.clustering.async.enabled = 'true',\n",
    "    -- hoodie.clustering.async.max.commits = '3',\n",
    "    -- hoodie.clustering.plan.strategy.small.file.limit = '209715200',\n",
    "    -- hoodie.clustering.plan.strategy.target.file.max.bytes = '314572800',\n",
    "    -- hoodie.clustering.plan.strategy.sort.columns = 'review_date',\n",
    "    hoodie.parquet.small.file.limit = '0',\n",
    "    hoodie.copyonwrite.record.size.estimate = '175'\n",
    ");"
   ]
  },
  {
   "cell_type": "markdown",
   "id": "0f800040-bb4f-41c6-8612-0beda2fae8fa",
   "metadata": {
    "tags": []
   },
   "source": [
    "### 4.5. Insert 96MB / + 1 Small File"
   ]
  },
  {
   "cell_type": "code",
   "execution_count": 39,
   "id": "38c23a76-db2b-425f-bee3-eac06216cd62",
   "metadata": {
    "execution": {
     "iopub.execute_input": "2023-03-17T09:06:50.569708Z",
     "iopub.status.busy": "2023-03-17T09:06:50.569354Z",
     "iopub.status.idle": "2023-03-17T09:07:50.046066Z",
     "shell.execute_reply": "2023-03-17T09:07:50.045219Z",
     "shell.execute_reply.started": "2023-03-17T09:06:50.569672Z"
    },
    "tags": []
   },
   "outputs": [
    {
     "data": {
      "application/vnd.jupyter.widget-view+json": {
       "model_id": "",
       "version_major": 2,
       "version_minor": 0
      },
      "text/plain": [
       "FloatProgress(value=0.0, bar_style='info', description='Progress:', layout=Layout(height='25px', width='50%'),…"
      ]
     },
     "metadata": {},
     "output_type": "display_data"
    },
    {
     "data": {
      "text/html": [
       "<style>.jp-OutputArea-child .jupyter-widgets.jp-OutputArea-output { overflow: auto; }</style>"
      ],
      "text/plain": [
       "<IPython.core.display.HTML object>"
      ]
     },
     "metadata": {},
     "output_type": "display_data"
    },
    {
     "data": {
      "application/vnd.jupyter.widget-view+json": {
       "model_id": "5940501826f54e57895a83aca672f4b9",
       "version_major": 2,
       "version_minor": 0
      },
      "text/plain": [
       "VBox(children=(HBox(), EncodingWidget(children=(VBox(children=(HTML(value='Encoding:'), Dropdown(description='…"
      ]
     },
     "metadata": {},
     "output_type": "display_data"
    },
    {
     "data": {
      "application/vnd.jupyter.widget-view+json": {
       "model_id": "96447274f43e407ca9705c80b3120739",
       "version_major": 2,
       "version_minor": 0
      },
      "text/plain": [
       "Output()"
      ]
     },
     "metadata": {},
     "output_type": "display_data"
    }
   ],
   "source": [
    "%%sql\n",
    "insert into \n",
    "    ${TABLE_NAME}\n",
    "select \n",
    "    review_id, \n",
    "    star_rating, \n",
    "    review_body, \n",
    "    review_date, \n",
    "    year,\n",
    "    unix_timestamp(current_timestamp()) as timestamp,\n",
    "    mod(crc32(review_id), 2) as parity\n",
    "from\n",
    "    reviews\n",
    "where\n",
    "    year = 2003;"
   ]
  },
  {
   "cell_type": "code",
   "execution_count": 40,
   "id": "ade7d5bb-85b0-47d3-9df1-9e4402377472",
   "metadata": {
    "execution": {
     "iopub.execute_input": "2023-03-17T09:07:50.047671Z",
     "iopub.status.busy": "2023-03-17T09:07:50.047328Z",
     "iopub.status.idle": "2023-03-17T09:07:58.110536Z",
     "shell.execute_reply": "2023-03-17T09:07:58.109807Z",
     "shell.execute_reply.started": "2023-03-17T09:07:50.047634Z"
    },
    "tags": []
   },
   "outputs": [
    {
     "name": "stdout",
     "output_type": "stream",
     "text": [
      "\n",
      "[ TIMELINE ]\n",
      "\n",
      "╔═════╤═══════════════════╤════════╤═══════════╤═════════════╤═════════════╤═════════════╗\n",
      "║ No. │ Instant           │ Action │ State     │ Requested   │ Inflight    │ Completed   ║\n",
      "║     │                   │        │           │ Time        │ Time        │ Time        ║\n",
      "╠═════╪═══════════════════╪════════╪═══════════╪═════════════╪═════════════╪═════════════╣\n",
      "║ 0   │ 20230317090651018 │ commit │ COMPLETED │ 03-17 09:06 │ 03-17 09:07 │ 03-17 09:07 ║\n",
      "╚═════╧═══════════════════╧════════╧═══════════╧═════════════╧═════════════╧═════════════╝\n",
      "\n",
      "[ STORAGE ]\n",
      "\n",
      "/home/emr-notebook/apache-hudi-core-conceptions/reviews_cow_clustering_3\n",
      "├── [ 96M 09:07:57]  parity=0\n",
      "│   └── [ 96M 09:07:37]  be11e5a7-ab09-48e2-af11-04cdc0677d70-0_0-378-4564_20230317090651018.parquet\n",
      "└── [ 96M 09:07:57]  parity=1\n",
      "    └── [ 96M 09:07:39]  fe1beb81-eb50-441f-aaf1-d84c9750584b-0_1-378-4565_20230317090651018.parquet\n"
     ]
    }
   ],
   "source": [
    "%%sh\n",
    "${WORKSPACE}/hudi-stat.sh s3://${S3_BUCKET}/${TABLE_NAME} timeline commits storage"
   ]
  },
  {
   "cell_type": "markdown",
   "id": "20f1b7e1-9c98-48c6-9a01-c8c27dc359e1",
   "metadata": {
    "tags": []
   },
   "source": [
    "### 4.6. Insert 213MB / + 1 Max File + 1 Small File"
   ]
  },
  {
   "cell_type": "code",
   "execution_count": 41,
   "id": "c4c7eb72-c2a3-4bc7-9b98-a835c3c7dd69",
   "metadata": {
    "execution": {
     "iopub.execute_input": "2023-03-17T09:07:58.112445Z",
     "iopub.status.busy": "2023-03-17T09:07:58.112090Z",
     "iopub.status.idle": "2023-03-17T09:09:11.824664Z",
     "shell.execute_reply": "2023-03-17T09:09:11.823544Z",
     "shell.execute_reply.started": "2023-03-17T09:07:58.112407Z"
    },
    "tags": []
   },
   "outputs": [
    {
     "data": {
      "application/vnd.jupyter.widget-view+json": {
       "model_id": "",
       "version_major": 2,
       "version_minor": 0
      },
      "text/plain": [
       "FloatProgress(value=0.0, bar_style='info', description='Progress:', layout=Layout(height='25px', width='50%'),…"
      ]
     },
     "metadata": {},
     "output_type": "display_data"
    },
    {
     "data": {
      "text/html": [
       "<style>.jp-OutputArea-child .jupyter-widgets.jp-OutputArea-output { overflow: auto; }</style>"
      ],
      "text/plain": [
       "<IPython.core.display.HTML object>"
      ]
     },
     "metadata": {},
     "output_type": "display_data"
    },
    {
     "data": {
      "application/vnd.jupyter.widget-view+json": {
       "model_id": "eaab28e8871d4d1ca1a14113e3f0436d",
       "version_major": 2,
       "version_minor": 0
      },
      "text/plain": [
       "VBox(children=(HBox(), EncodingWidget(children=(VBox(children=(HTML(value='Encoding:'), Dropdown(description='…"
      ]
     },
     "metadata": {},
     "output_type": "display_data"
    },
    {
     "data": {
      "application/vnd.jupyter.widget-view+json": {
       "model_id": "37c4bfef34044f1f8b684198e2eca0d8",
       "version_major": 2,
       "version_minor": 0
      },
      "text/plain": [
       "Output()"
      ]
     },
     "metadata": {},
     "output_type": "display_data"
    }
   ],
   "source": [
    "%%sql\n",
    "insert into \n",
    "    ${TABLE_NAME}\n",
    "select \n",
    "    review_id, \n",
    "    star_rating, \n",
    "    review_body, \n",
    "    review_date, \n",
    "    year,\n",
    "    unix_timestamp(current_timestamp()) as timestamp,\n",
    "    mod(crc32(review_id), 2) as parity\n",
    "from\n",
    "    reviews\n",
    "where\n",
    "    year in (2004, 2005);"
   ]
  },
  {
   "cell_type": "code",
   "execution_count": 42,
   "id": "f4efab55-9d8a-450a-a747-b2e496e03f8d",
   "metadata": {
    "execution": {
     "iopub.execute_input": "2023-03-17T09:09:11.826465Z",
     "iopub.status.busy": "2023-03-17T09:09:11.826128Z",
     "iopub.status.idle": "2023-03-17T09:09:22.358211Z",
     "shell.execute_reply": "2023-03-17T09:09:22.357374Z",
     "shell.execute_reply.started": "2023-03-17T09:09:11.826430Z"
    },
    "tags": []
   },
   "outputs": [
    {
     "name": "stdout",
     "output_type": "stream",
     "text": [
      "\n",
      "[ TIMELINE ]\n",
      "\n",
      "╔═════╤═══════════════════╤════════╤═══════════╤═════════════╤═════════════╤═════════════╗\n",
      "║ No. │ Instant           │ Action │ State     │ Requested   │ Inflight    │ Completed   ║\n",
      "║     │                   │        │           │ Time        │ Time        │ Time        ║\n",
      "╠═════╪═══════════════════╪════════╪═══════════╪═════════════╪═════════════╪═════════════╣\n",
      "║ 0   │ 20230317090651018 │ commit │ COMPLETED │ 03-17 09:06 │ 03-17 09:07 │ 03-17 09:07 ║\n",
      "╟─────┼───────────────────┼────────┼───────────┼─────────────┼─────────────┼─────────────╢\n",
      "║ 1   │ 20230317090759205 │ commit │ COMPLETED │ 03-17 09:08 │ 03-17 09:08 │ 03-17 09:09 ║\n",
      "╚═════╧═══════════════════╧════════╧═══════════╧═════════════╧═════════════╧═════════════╝\n",
      "\n",
      "[ STORAGE ]\n",
      "\n",
      "/home/emr-notebook/apache-hudi-core-conceptions/reviews_cow_clustering_3\n",
      "├── [309M 09:09:22]  parity=0\n",
      "│   ├── [120M 09:09:01]  1c457f8c-5012-40c6-8de8-82c097a5aa40-0_0-425-4833_20230317090759205.parquet\n",
      "│   ├── [ 93M 09:08:54]  588614c5-5eae-4bc2-96f4-4e51c330e593-0_1-425-4834_20230317090759205.parquet\n",
      "│   └── [ 96M 09:07:37]  be11e5a7-ab09-48e2-af11-04cdc0677d70-0_0-378-4564_20230317090651018.parquet\n",
      "└── [309M 09:09:22]  parity=1\n",
      "    ├── [120M 09:08:58]  a5a04c16-33ef-4e28-8b45-f83004b2a32e-0_2-425-4835_20230317090759205.parquet\n",
      "    ├── [ 94M 09:08:54]  adbac161-fb01-4e5c-b28d-5eb55069ad43-0_3-425-4836_20230317090759205.parquet\n",
      "    └── [ 96M 09:07:39]  fe1beb81-eb50-441f-aaf1-d84c9750584b-0_1-378-4565_20230317090651018.parquet\n"
     ]
    }
   ],
   "source": [
    "%%sh\n",
    "${WORKSPACE}/hudi-stat.sh s3://${S3_BUCKET}/${TABLE_NAME} timeline commits storage"
   ]
  },
  {
   "cell_type": "markdown",
   "id": "40debeda-12fb-4781-b44c-0d72ff19f8ff",
   "metadata": {
    "tags": []
   },
   "source": [
    "### 4.7. Insert 182MB / + 1 Max File + 1 Small File"
   ]
  },
  {
   "cell_type": "code",
   "execution_count": 43,
   "id": "e5fcb991-264a-4966-a235-285fafdc5422",
   "metadata": {
    "execution": {
     "iopub.execute_input": "2023-03-17T09:09:22.360052Z",
     "iopub.status.busy": "2023-03-17T09:09:22.359660Z",
     "iopub.status.idle": "2023-03-17T09:10:25.864879Z",
     "shell.execute_reply": "2023-03-17T09:10:25.864007Z",
     "shell.execute_reply.started": "2023-03-17T09:09:22.360013Z"
    },
    "tags": []
   },
   "outputs": [
    {
     "data": {
      "application/vnd.jupyter.widget-view+json": {
       "model_id": "",
       "version_major": 2,
       "version_minor": 0
      },
      "text/plain": [
       "FloatProgress(value=0.0, bar_style='info', description='Progress:', layout=Layout(height='25px', width='50%'),…"
      ]
     },
     "metadata": {},
     "output_type": "display_data"
    },
    {
     "data": {
      "text/html": [
       "<style>.jp-OutputArea-child .jupyter-widgets.jp-OutputArea-output { overflow: auto; }</style>"
      ],
      "text/plain": [
       "<IPython.core.display.HTML object>"
      ]
     },
     "metadata": {},
     "output_type": "display_data"
    },
    {
     "data": {
      "application/vnd.jupyter.widget-view+json": {
       "model_id": "d65ac6001b4843e7b1e4b5d4d1924984",
       "version_major": 2,
       "version_minor": 0
      },
      "text/plain": [
       "VBox(children=(HBox(), EncodingWidget(children=(VBox(children=(HTML(value='Encoding:'), Dropdown(description='…"
      ]
     },
     "metadata": {},
     "output_type": "display_data"
    },
    {
     "data": {
      "application/vnd.jupyter.widget-view+json": {
       "model_id": "aa3bb04d15f34135a3d06731af30783d",
       "version_major": 2,
       "version_minor": 0
      },
      "text/plain": [
       "Output()"
      ]
     },
     "metadata": {},
     "output_type": "display_data"
    }
   ],
   "source": [
    "%%sql\n",
    "insert into \n",
    "    ${TABLE_NAME}\n",
    "select \n",
    "    review_id, \n",
    "    star_rating, \n",
    "    review_body, \n",
    "    review_date, \n",
    "    year,\n",
    "    unix_timestamp(current_timestamp()) as timestamp,\n",
    "    mod(crc32(review_id), 2) as parity\n",
    "from\n",
    "    reviews\n",
    "where\n",
    "    year = 2007;"
   ]
  },
  {
   "cell_type": "code",
   "execution_count": 44,
   "id": "87b77ce1-04db-4118-b133-7e4850def52a",
   "metadata": {
    "execution": {
     "iopub.execute_input": "2023-03-17T09:10:25.866172Z",
     "iopub.status.busy": "2023-03-17T09:10:25.865913Z",
     "iopub.status.idle": "2023-03-17T09:10:35.588025Z",
     "shell.execute_reply": "2023-03-17T09:10:35.587164Z",
     "shell.execute_reply.started": "2023-03-17T09:10:25.866148Z"
    },
    "tags": []
   },
   "outputs": [
    {
     "name": "stdout",
     "output_type": "stream",
     "text": [
      "\n",
      "[ TIMELINE ]\n",
      "\n",
      "╔═════╤═══════════════════╤════════╤═══════════╤═════════════╤═════════════╤═════════════╗\n",
      "║ No. │ Instant           │ Action │ State     │ Requested   │ Inflight    │ Completed   ║\n",
      "║     │                   │        │           │ Time        │ Time        │ Time        ║\n",
      "╠═════╪═══════════════════╪════════╪═══════════╪═════════════╪═════════════╪═════════════╣\n",
      "║ 0   │ 20230317090651018 │ commit │ COMPLETED │ 03-17 09:06 │ 03-17 09:07 │ 03-17 09:07 ║\n",
      "╟─────┼───────────────────┼────────┼───────────┼─────────────┼─────────────┼─────────────╢\n",
      "║ 1   │ 20230317090759205 │ commit │ COMPLETED │ 03-17 09:08 │ 03-17 09:08 │ 03-17 09:09 ║\n",
      "╟─────┼───────────────────┼────────┼───────────┼─────────────┼─────────────┼─────────────╢\n",
      "║ 2   │ 20230317090923456 │ commit │ COMPLETED │ 03-17 09:09 │ 03-17 09:09 │ 03-17 09:10 ║\n",
      "╚═════╧═══════════════════╧════════╧═══════════╧═════════════╧═════════════╧═════════════╝\n",
      "\n",
      "[ STORAGE ]\n",
      "\n",
      "/home/emr-notebook/apache-hudi-core-conceptions/reviews_cow_clustering_3\n",
      "├── [491M 09:10:35]  parity=0\n",
      "│   ├── [120M 09:09:01]  1c457f8c-5012-40c6-8de8-82c097a5aa40-0_0-425-4833_20230317090759205.parquet\n",
      "│   ├── [ 63M 09:10:04]  33d27e72-6e2f-4dfc-a2fc-712e4cfca5dd-0_1-475-5112_20230317090923456.parquet\n",
      "│   ├── [ 93M 09:08:54]  588614c5-5eae-4bc2-96f4-4e51c330e593-0_1-425-4834_20230317090759205.parquet\n",
      "│   ├── [ 96M 09:07:37]  be11e5a7-ab09-48e2-af11-04cdc0677d70-0_0-378-4564_20230317090651018.parquet\n",
      "│   └── [119M 09:10:15]  d608a6e2-7387-42c5-a209-259c53d31899-0_0-475-5111_20230317090923456.parquet\n",
      "└── [491M 09:10:35]  parity=1\n",
      "    ├── [ 63M 09:10:05]  13f1d436-1104-467d-ba5b-c24a120c7131-0_3-475-5114_20230317090923456.parquet\n",
      "    ├── [119M 09:10:14]  370d4be4-43c0-4cb3-9135-600f4ae3cd97-0_2-475-5113_20230317090923456.parquet\n",
      "    ├── [120M 09:08:58]  a5a04c16-33ef-4e28-8b45-f83004b2a32e-0_2-425-4835_20230317090759205.parquet\n",
      "    ├── [ 94M 09:08:54]  adbac161-fb01-4e5c-b28d-5eb55069ad43-0_3-425-4836_20230317090759205.parquet\n",
      "    └── [ 96M 09:07:39]  fe1beb81-eb50-441f-aaf1-d84c9750584b-0_1-378-4565_20230317090651018.parquet\n"
     ]
    }
   ],
   "source": [
    "%%sh\n",
    "${WORKSPACE}/hudi-stat.sh s3://${S3_BUCKET}/${TABLE_NAME} timeline commits storage"
   ]
  },
  {
   "cell_type": "markdown",
   "id": "e81e2c4d-ef6a-4786-ac61-e57bb3750dab",
   "metadata": {
    "tags": []
   },
   "source": [
    "### 4.8. Offline Schedule + Eexecute 491MB / + 2 Clustered Files"
   ]
  },
  {
   "cell_type": "code",
   "execution_count": 45,
   "id": "68c9f1ad-346b-408d-afc6-72203763c32c",
   "metadata": {
    "execution": {
     "iopub.execute_input": "2023-03-17T09:10:35.589765Z",
     "iopub.status.busy": "2023-03-17T09:10:35.589495Z",
     "iopub.status.idle": "2023-03-17T09:13:30.695341Z",
     "shell.execute_reply": "2023-03-17T09:13:30.694518Z",
     "shell.execute_reply.started": "2023-03-17T09:10:35.589736Z"
    },
    "tags": []
   },
   "outputs": [],
   "source": [
    "%%sh\n",
    "# it's required for current user (emr-notebook) to get sudo permission\n",
    "sudo -u hadoop spark-submit \\\n",
    "  --jars '/usr/lib/hudi/hudi-spark-bundle.jar' \\\n",
    "  --class 'org.apache.hudi.utilities.HoodieClusteringJob' \\\n",
    "  /usr/lib/hudi/hudi-utilities-bundle.jar \\\n",
    "  --spark-memory '4g' \\\n",
    "  --mode 'scheduleAndExecute' \\\n",
    "  --base-path \"s3://${S3_BUCKET}/${TABLE_NAME}\" \\\n",
    "  --table-name \"${TABLE_NAME}\" \\\n",
    "  --hoodie-conf \"hoodie.clustering.async.enabled=true\" \\\n",
    "  --hoodie-conf \"hoodie.clustering.async.max.commits=3\" \\\n",
    "  --hoodie-conf \"hoodie.clustering.plan.strategy.small.file.limit=209715200\" \\\n",
    "  --hoodie-conf \"hoodie.clustering.plan.strategy.target.file.max.bytes=314572800\" \\\n",
    "  --hoodie-conf \"hoodie.clustering.plan.strategy.sort.columns=review_date\" > ${WORKSPACE}/${TABLE_NAME}.schedule.out &>/dev/null"
   ]
  },
  {
   "cell_type": "code",
   "execution_count": 46,
   "id": "faa167dd-fff0-4500-9139-e0d21c296d9a",
   "metadata": {
    "execution": {
     "iopub.execute_input": "2023-03-17T09:13:30.696864Z",
     "iopub.status.busy": "2023-03-17T09:13:30.696589Z",
     "iopub.status.idle": "2023-03-17T09:13:44.119074Z",
     "shell.execute_reply": "2023-03-17T09:13:44.118266Z",
     "shell.execute_reply.started": "2023-03-17T09:13:30.696838Z"
    },
    "tags": []
   },
   "outputs": [
    {
     "name": "stdout",
     "output_type": "stream",
     "text": [
      "\n",
      "[ TIMELINE ]\n",
      "\n",
      "╔═════╤═══════════════════╤═══════════════╤═══════════╤═════════════╤═════════════╤═════════════╗\n",
      "║ No. │ Instant           │ Action        │ State     │ Requested   │ Inflight    │ Completed   ║\n",
      "║     │                   │               │           │ Time        │ Time        │ Time        ║\n",
      "╠═════╪═══════════════════╪═══════════════╪═══════════╪═════════════╪═════════════╪═════════════╣\n",
      "║ 0   │ 20230317090651018 │ commit        │ COMPLETED │ 03-17 09:06 │ 03-17 09:07 │ 03-17 09:07 ║\n",
      "╟─────┼───────────────────┼───────────────┼───────────┼─────────────┼─────────────┼─────────────╢\n",
      "║ 1   │ 20230317090759205 │ commit        │ COMPLETED │ 03-17 09:08 │ 03-17 09:08 │ 03-17 09:09 ║\n",
      "╟─────┼───────────────────┼───────────────┼───────────┼─────────────┼─────────────┼─────────────╢\n",
      "║ 2   │ 20230317090923456 │ commit        │ COMPLETED │ 03-17 09:09 │ 03-17 09:09 │ 03-17 09:10 ║\n",
      "╟─────┼───────────────────┼───────────────┼───────────┼─────────────┼─────────────┼─────────────╢\n",
      "║ 3   │ 20230317091052557 │ replacecommit │ COMPLETED │ 03-17 09:11 │ 03-17 09:11 │ 03-17 09:13 ║\n",
      "╚═════╧═══════════════════╧═══════════════╧═══════════╧═════════════╧═════════════╧═════════════╝\n",
      "\n",
      "[ STORAGE ]\n",
      "\n",
      "/home/emr-notebook/apache-hudi-core-conceptions/reviews_cow_clustering_3\n",
      "├── [980M 09:13:43]  parity=0\n",
      "│   ├── [120M 09:09:01]  1c457f8c-5012-40c6-8de8-82c097a5aa40-0_0-425-4833_20230317090759205.parquet\n",
      "│   ├── [ 63M 09:10:04]  33d27e72-6e2f-4dfc-a2fc-712e4cfca5dd-0_1-475-5112_20230317090923456.parquet\n",
      "│   ├── [ 93M 09:08:54]  588614c5-5eae-4bc2-96f4-4e51c330e593-0_1-425-4834_20230317090759205.parquet\n",
      "│   ├── [283M 09:12:27]  9b40ce26-e2aa-433d-8077-cfaa6bd3c22a-0_1-5-23_20230317091052557.parquet\n",
      "│   ├── [206M 09:12:22]  a2c5f084-99d7-4420-b124-d47150e6b331-0_0-5-22_20230317091052557.parquet\n",
      "│   ├── [ 96M 09:07:37]  be11e5a7-ab09-48e2-af11-04cdc0677d70-0_0-378-4564_20230317090651018.parquet\n",
      "│   └── [119M 09:10:15]  d608a6e2-7387-42c5-a209-259c53d31899-0_0-475-5111_20230317090923456.parquet\n",
      "└── [981M 09:13:43]  parity=1\n",
      "    ├── [ 63M 09:10:05]  13f1d436-1104-467d-ba5b-c24a120c7131-0_3-475-5114_20230317090923456.parquet\n",
      "    ├── [119M 09:10:14]  370d4be4-43c0-4cb3-9135-600f4ae3cd97-0_2-475-5113_20230317090923456.parquet\n",
      "    ├── [260M 09:12:26]  569c30ed-3b16-453b-9a53-dcb1860bbc3f-0_3-5-25_20230317091052557.parquet\n",
      "    ├── [120M 09:08:58]  a5a04c16-33ef-4e28-8b45-f83004b2a32e-0_2-425-4835_20230317090759205.parquet\n",
      "    ├── [ 94M 09:08:54]  adbac161-fb01-4e5c-b28d-5eb55069ad43-0_3-425-4836_20230317090759205.parquet\n",
      "    ├── [230M 09:12:24]  f3a635fb-688a-4eb5-a1f3-c856483d7c1c-0_2-5-24_20230317091052557.parquet\n",
      "    └── [ 96M 09:07:39]  fe1beb81-eb50-441f-aaf1-d84c9750584b-0_1-378-4565_20230317090651018.parquet\n"
     ]
    }
   ],
   "source": [
    "%%sh\n",
    "${WORKSPACE}/hudi-stat.sh s3://${S3_BUCKET}/${TABLE_NAME} timeline commits storage"
   ]
  },
  {
   "cell_type": "markdown",
   "id": "c9bddac8-2e03-4cbb-8853-6833f63e96f4",
   "metadata": {
    "tags": []
   },
   "source": [
    "## 5. Test Case 4 - Semi Async Clustering ( Inline Schedule，Offline Execute )"
   ]
  },
  {
   "cell_type": "markdown",
   "id": "819764fd-cd64-4f2a-8870-9ddf09341d04",
   "metadata": {},
   "source": [
    "NOTE:\n",
    "\n",
    "This mode has a problem, under this mode, both `hoodie.clustering.inline.max.commits` or `hoodie.clustering.async.max.commits` does NOT work. This behavior is defferent from comapcation"
   ]
  },
  {
   "cell_type": "markdown",
   "id": "a49f3d86-1eec-49be-9eb5-78c5064bce62",
   "metadata": {
    "tags": []
   },
   "source": [
    "### 5.1. Test Plan\n",
    "\n",
    "Step No.|Action|Volume / Partition |Storage\n",
    ":--------:|:------|:------|:----------\n",
    "1|Insert|96MB|+ 1 Small FileGroup\n",
    "2|Insert|213MB|+ 1 Max File + 1 Small File\n",
    "3|Insert|182MB|+ 1 Max File + 1 Small File\n",
    "4|Offline Eexecute|96MB|+ 1 Clustered File\n",
    "5|Insert 14.6MB|+1 Small File\n",
    "6|Offline Eexecute|503MB|+ 2 Clustered Files"
   ]
  },
  {
   "cell_type": "markdown",
   "id": "2bc71f37-3a53-45ab-8eed-466899a2d01d",
   "metadata": {
    "tags": []
   },
   "source": [
    "### 5.2. Key Settings\n",
    "\n",
    "KEY|DEFAULT VALUE|SET VALUE\n",
    ":---|:---|:---\n",
    "hoodie.clustering.inline|false|false\n",
    "hoodie.clustering.schedule.inline|false|true\n",
    "hoodie.clustering.async.enabled|false|false\n",
    "hoodie.clustering.plan.strategy.target.file.max.bytes|1073741824 / 1GB|314572800 / 300MB\n",
    "hoodie.clustering.plan.strategy.small.file.limit|314572800 / 300MB|209715200 / 200MB\n",
    "hoodie.clustering.plan.strategy.sort.columns|-|review_date\n",
    "hoodie.parquet.small.file.limit|104857600 / 100MB | 0\n",
    "hoodie.copyonwrite.record.size.estimate|1024|175"
   ]
  },
  {
   "cell_type": "markdown",
   "id": "50fe4d6c-b78f-49d2-a524-d01b41ae5678",
   "metadata": {
    "execution": {
     "iopub.execute_input": "2023-02-25T02:57:45.037101Z",
     "iopub.status.busy": "2023-02-25T02:57:45.036681Z",
     "iopub.status.idle": "2023-02-25T02:58:07.353493Z",
     "shell.execute_reply": "2023-02-25T02:58:07.352596Z",
     "shell.execute_reply.started": "2023-02-25T02:57:45.037060Z"
    },
    "tags": []
   },
   "source": [
    "### 5.3. Set Variables"
   ]
  },
  {
   "cell_type": "code",
   "execution_count": 47,
   "id": "0dab4969-c56e-4938-878d-dcc24c95e3a1",
   "metadata": {
    "execution": {
     "iopub.execute_input": "2023-03-17T09:13:44.120621Z",
     "iopub.status.busy": "2023-03-17T09:13:44.120362Z",
     "iopub.status.idle": "2023-03-17T09:13:53.624072Z",
     "shell.execute_reply": "2023-03-17T09:13:53.622970Z",
     "shell.execute_reply.started": "2023-03-17T09:13:44.120594Z"
    },
    "tags": []
   },
   "outputs": [
    {
     "data": {
      "application/vnd.jupyter.widget-view+json": {
       "model_id": "",
       "version_major": 2,
       "version_minor": 0
      },
      "text/plain": [
       "FloatProgress(value=0.0, bar_style='info', description='Progress:', layout=Layout(height='25px', width='50%'),…"
      ]
     },
     "metadata": {},
     "output_type": "display_data"
    },
    {
     "data": {
      "text/html": [
       "<style>.jp-OutputArea-child .jupyter-widgets.jp-OutputArea-output { overflow: auto; }</style>"
      ],
      "text/plain": [
       "<IPython.core.display.HTML object>"
      ]
     },
     "metadata": {},
     "output_type": "display_data"
    },
    {
     "data": {
      "application/vnd.jupyter.widget-view+json": {
       "model_id": "78f288c2a38a4e15bbb7641e32a8c588",
       "version_major": 2,
       "version_minor": 0
      },
      "text/plain": [
       "VBox(children=(HBox(children=(HTML(value='Type:'), Button(description='Table', layout=Layout(width='70px'), st…"
      ]
     },
     "metadata": {},
     "output_type": "display_data"
    },
    {
     "data": {
      "application/vnd.jupyter.widget-view+json": {
       "model_id": "dbcbadf4cf7f4d838bfbeb49b6cc681d",
       "version_major": 2,
       "version_minor": 0
      },
      "text/plain": [
       "Output()"
      ]
     },
     "metadata": {},
     "output_type": "display_data"
    }
   ],
   "source": [
    "%%sql\n",
    "set TABLE_NAME=reviews_cow_clustering_4"
   ]
  },
  {
   "cell_type": "code",
   "execution_count": 48,
   "id": "fa1dfb76-1755-439f-97bb-5a64e78aa86e",
   "metadata": {
    "execution": {
     "iopub.execute_input": "2023-03-17T09:13:53.626010Z",
     "iopub.status.busy": "2023-03-17T09:13:53.625636Z",
     "iopub.status.idle": "2023-03-17T09:13:53.631808Z",
     "shell.execute_reply": "2023-03-17T09:13:53.630612Z",
     "shell.execute_reply.started": "2023-03-17T09:13:53.625969Z"
    },
    "tags": []
   },
   "outputs": [
    {
     "name": "stdout",
     "output_type": "stream",
     "text": [
      "env: TABLE_NAME=reviews_cow_clustering_4\n"
     ]
    }
   ],
   "source": [
    "%env TABLE_NAME=reviews_cow_clustering_4"
   ]
  },
  {
   "cell_type": "markdown",
   "id": "85d90d6c-0615-479e-a60a-afef4764178d",
   "metadata": {},
   "source": [
    "### 5.4. Create Table"
   ]
  },
  {
   "cell_type": "code",
   "execution_count": 49,
   "id": "91677f08-c8d0-4055-b708-cf11d148b3a4",
   "metadata": {
    "execution": {
     "iopub.execute_input": "2023-03-17T09:13:53.633494Z",
     "iopub.status.busy": "2023-03-17T09:13:53.633178Z",
     "iopub.status.idle": "2023-03-17T09:13:59.739988Z",
     "shell.execute_reply": "2023-03-17T09:13:59.739032Z",
     "shell.execute_reply.started": "2023-03-17T09:13:53.633463Z"
    },
    "tags": []
   },
   "outputs": [],
   "source": [
    "%%sh\n",
    "aws s3 rm s3://${S3_BUCKET}/${TABLE_NAME} --recursive &>/dev/null\n",
    "rm -rf ${WORKSPACE}/${TABLE_NAME}\n",
    "sleep 5"
   ]
  },
  {
   "cell_type": "code",
   "execution_count": 50,
   "id": "47091422-382f-4517-adab-7d7706f1e737",
   "metadata": {
    "execution": {
     "iopub.execute_input": "2023-03-17T09:13:59.741629Z",
     "iopub.status.busy": "2023-03-17T09:13:59.741349Z",
     "iopub.status.idle": "2023-03-17T09:14:00.595870Z",
     "shell.execute_reply": "2023-03-17T09:14:00.595144Z",
     "shell.execute_reply.started": "2023-03-17T09:13:59.741599Z"
    },
    "tags": []
   },
   "outputs": [
    {
     "data": {
      "application/vnd.jupyter.widget-view+json": {
       "model_id": "",
       "version_major": 2,
       "version_minor": 0
      },
      "text/plain": [
       "FloatProgress(value=0.0, bar_style='info', description='Progress:', layout=Layout(height='25px', width='50%'),…"
      ]
     },
     "metadata": {},
     "output_type": "display_data"
    },
    {
     "data": {
      "text/html": [
       "<style>.jp-OutputArea-child .jupyter-widgets.jp-OutputArea-output { overflow: auto; }</style>"
      ],
      "text/plain": [
       "<IPython.core.display.HTML object>"
      ]
     },
     "metadata": {},
     "output_type": "display_data"
    },
    {
     "data": {
      "application/vnd.jupyter.widget-view+json": {
       "model_id": "16d6b010bab74ff19eb612f74543ab4f",
       "version_major": 2,
       "version_minor": 0
      },
      "text/plain": [
       "VBox(children=(HBox(), EncodingWidget(children=(VBox(children=(HTML(value='Encoding:'), Dropdown(description='…"
      ]
     },
     "metadata": {},
     "output_type": "display_data"
    },
    {
     "data": {
      "application/vnd.jupyter.widget-view+json": {
       "model_id": "0b7e9c8613564547b70e4196b23c9dbf",
       "version_major": 2,
       "version_minor": 0
      },
      "text/plain": [
       "Output()"
      ]
     },
     "metadata": {},
     "output_type": "display_data"
    }
   ],
   "source": [
    "%%sql\n",
    "drop table if exists ${TABLE_NAME}"
   ]
  },
  {
   "cell_type": "code",
   "execution_count": 51,
   "id": "92622bf2-688c-45b9-bb01-3fae12174b3d",
   "metadata": {
    "execution": {
     "iopub.execute_input": "2023-03-17T09:14:00.597668Z",
     "iopub.status.busy": "2023-03-17T09:14:00.597297Z",
     "iopub.status.idle": "2023-03-17T09:14:02.958107Z",
     "shell.execute_reply": "2023-03-17T09:14:02.956690Z",
     "shell.execute_reply.started": "2023-03-17T09:14:00.597629Z"
    },
    "tags": []
   },
   "outputs": [
    {
     "data": {
      "application/vnd.jupyter.widget-view+json": {
       "model_id": "",
       "version_major": 2,
       "version_minor": 0
      },
      "text/plain": [
       "FloatProgress(value=0.0, bar_style='info', description='Progress:', layout=Layout(height='25px', width='50%'),…"
      ]
     },
     "metadata": {},
     "output_type": "display_data"
    },
    {
     "data": {
      "text/html": [
       "<style>.jp-OutputArea-child .jupyter-widgets.jp-OutputArea-output { overflow: auto; }</style>"
      ],
      "text/plain": [
       "<IPython.core.display.HTML object>"
      ]
     },
     "metadata": {},
     "output_type": "display_data"
    },
    {
     "data": {
      "application/vnd.jupyter.widget-view+json": {
       "model_id": "9f1527623c07463dad7e2c31e12b2dd5",
       "version_major": 2,
       "version_minor": 0
      },
      "text/plain": [
       "VBox(children=(HBox(), EncodingWidget(children=(VBox(children=(HTML(value='Encoding:'), Dropdown(description='…"
      ]
     },
     "metadata": {},
     "output_type": "display_data"
    },
    {
     "data": {
      "application/vnd.jupyter.widget-view+json": {
       "model_id": "54e323456cd647f0908de0e0141c9c7e",
       "version_major": 2,
       "version_minor": 0
      },
      "text/plain": [
       "Output()"
      ]
     },
     "metadata": {},
     "output_type": "display_data"
    }
   ],
   "source": [
    "%%sql\n",
    "create table if not exists ${TABLE_NAME}(\n",
    "    review_id string, \n",
    "    star_rating int, \n",
    "    review_body string, \n",
    "    review_date date, \n",
    "    year long,\n",
    "    timestamp long,\n",
    "    parity int\n",
    ")\n",
    "using hudi\n",
    "location 's3://${S3_BUCKET}/${TABLE_NAME}'\n",
    "partitioned by (parity)\n",
    "options ( \n",
    "    type = 'cow',  \n",
    "    primaryKey = 'review_id', \n",
    "    preCombineField = 'timestamp',\n",
    "    hoodie.clustering.inline = 'false',\n",
    "    hoodie.clustering.schedule.inline = 'true',\n",
    "    hoodie.clustering.async.enabled = 'false',\n",
    "    -- NOT work for this mode\n",
    "    hoodie.clustering.inline.max.commits = '3',\n",
    "    -- NOT work for this mode\n",
    "    hoodie.clustering.async.max.commits = '3',\n",
    "    hoodie.clustering.plan.strategy.small.file.limit = '209715200',\n",
    "    hoodie.clustering.plan.strategy.target.file.max.bytes = '314572800',\n",
    "    hoodie.clustering.plan.strategy.sort.columns = 'review_date',\n",
    "    hoodie.parquet.small.file.limit = '0',\n",
    "    hoodie.copyonwrite.record.size.estimate = '175'\n",
    ");"
   ]
  },
  {
   "cell_type": "markdown",
   "id": "87b6f8a3-2835-41ed-aff0-9dab05e8b6c2",
   "metadata": {
    "tags": []
   },
   "source": [
    "### 5.5. Insert 96MB / + 1 Small File"
   ]
  },
  {
   "cell_type": "code",
   "execution_count": 52,
   "id": "e0701ba9-197a-4b64-8a28-1d58049f174f",
   "metadata": {
    "execution": {
     "iopub.execute_input": "2023-03-17T09:14:02.959891Z",
     "iopub.status.busy": "2023-03-17T09:14:02.959507Z",
     "iopub.status.idle": "2023-03-17T09:15:02.450537Z",
     "shell.execute_reply": "2023-03-17T09:15:02.449847Z",
     "shell.execute_reply.started": "2023-03-17T09:14:02.959854Z"
    },
    "tags": []
   },
   "outputs": [
    {
     "data": {
      "application/vnd.jupyter.widget-view+json": {
       "model_id": "",
       "version_major": 2,
       "version_minor": 0
      },
      "text/plain": [
       "FloatProgress(value=0.0, bar_style='info', description='Progress:', layout=Layout(height='25px', width='50%'),…"
      ]
     },
     "metadata": {},
     "output_type": "display_data"
    },
    {
     "data": {
      "text/html": [
       "<style>.jp-OutputArea-child .jupyter-widgets.jp-OutputArea-output { overflow: auto; }</style>"
      ],
      "text/plain": [
       "<IPython.core.display.HTML object>"
      ]
     },
     "metadata": {},
     "output_type": "display_data"
    },
    {
     "data": {
      "application/vnd.jupyter.widget-view+json": {
       "model_id": "fefae18275764f37825054ea08cdc096",
       "version_major": 2,
       "version_minor": 0
      },
      "text/plain": [
       "VBox(children=(HBox(), EncodingWidget(children=(VBox(children=(HTML(value='Encoding:'), Dropdown(description='…"
      ]
     },
     "metadata": {},
     "output_type": "display_data"
    },
    {
     "data": {
      "application/vnd.jupyter.widget-view+json": {
       "model_id": "9bcb8e413b424edf9abfb9c93da804d3",
       "version_major": 2,
       "version_minor": 0
      },
      "text/plain": [
       "Output()"
      ]
     },
     "metadata": {},
     "output_type": "display_data"
    }
   ],
   "source": [
    "%%sql\n",
    "insert into \n",
    "    ${TABLE_NAME}\n",
    "select \n",
    "    review_id, \n",
    "    star_rating, \n",
    "    review_body, \n",
    "    review_date, \n",
    "    year,\n",
    "    unix_timestamp(current_timestamp()) as timestamp,\n",
    "    mod(crc32(review_id), 2) as parity\n",
    "from\n",
    "    reviews\n",
    "where\n",
    "    year = 2003;"
   ]
  },
  {
   "cell_type": "code",
   "execution_count": 53,
   "id": "c0d0ab36-69bb-42ed-8dcb-8cbef542ef88",
   "metadata": {
    "execution": {
     "iopub.execute_input": "2023-03-17T09:15:02.452199Z",
     "iopub.status.busy": "2023-03-17T09:15:02.451862Z",
     "iopub.status.idle": "2023-03-17T09:15:11.082056Z",
     "shell.execute_reply": "2023-03-17T09:15:11.081208Z",
     "shell.execute_reply.started": "2023-03-17T09:15:02.452164Z"
    },
    "tags": []
   },
   "outputs": [
    {
     "name": "stdout",
     "output_type": "stream",
     "text": [
      "\n",
      "[ TIMELINE ]\n",
      "\n",
      "╔═════╤═══════════════════╤═══════════════╤═══════════╤═════════════╤═════════════╤═════════════╗\n",
      "║ No. │ Instant           │ Action        │ State     │ Requested   │ Inflight    │ Completed   ║\n",
      "║     │                   │               │           │ Time        │ Time        │ Time        ║\n",
      "╠═════╪═══════════════════╪═══════════════╪═══════════╪═════════════╪═════════════╪═════════════╣\n",
      "║ 0   │ 20230317091403489 │ commit        │ COMPLETED │ 03-17 09:14 │ 03-17 09:14 │ 03-17 09:14 ║\n",
      "╟─────┼───────────────────┼───────────────┼───────────┼─────────────┼─────────────┼─────────────╢\n",
      "║ 1   │ 20230317091456798 │ replacecommit │ REQUESTED │ 03-17 09:14 │ -           │ -           ║\n",
      "╚═════╧═══════════════════╧═══════════════╧═══════════╧═════════════╧═════════════╧═════════════╝\n",
      "\n",
      "[ STORAGE ]\n",
      "\n",
      "/home/emr-notebook/apache-hudi-core-conceptions/reviews_cow_clustering_4\n",
      "├── [ 96M 09:15:10]  parity=0\n",
      "│   └── [ 96M 09:14:50]  3d9a2d9d-cce5-4f58-8c7b-91dddd078939-0_0-539-5266_20230317091403489.parquet\n",
      "└── [ 96M 09:15:10]  parity=1\n",
      "    └── [ 96M 09:14:50]  e4d31181-5d7e-498e-84f7-540797c4e940-0_1-539-5267_20230317091403489.parquet\n"
     ]
    }
   ],
   "source": [
    "%%sh\n",
    "${WORKSPACE}/hudi-stat.sh s3://${S3_BUCKET}/${TABLE_NAME} timeline commits storage"
   ]
  },
  {
   "cell_type": "markdown",
   "id": "b17ff215-c6c6-46db-afe0-89ee101ceb80",
   "metadata": {
    "tags": []
   },
   "source": [
    "### 5.6. Insert 213MB / + 1 Max File + 1 Small File"
   ]
  },
  {
   "cell_type": "code",
   "execution_count": 54,
   "id": "b465bffa-b354-402a-ab65-80bbb0a2f188",
   "metadata": {
    "execution": {
     "iopub.execute_input": "2023-03-17T09:15:11.084972Z",
     "iopub.status.busy": "2023-03-17T09:15:11.084708Z",
     "iopub.status.idle": "2023-03-17T09:16:20.682288Z",
     "shell.execute_reply": "2023-03-17T09:16:20.681620Z",
     "shell.execute_reply.started": "2023-03-17T09:15:11.084945Z"
    },
    "tags": []
   },
   "outputs": [
    {
     "data": {
      "application/vnd.jupyter.widget-view+json": {
       "model_id": "",
       "version_major": 2,
       "version_minor": 0
      },
      "text/plain": [
       "FloatProgress(value=0.0, bar_style='info', description='Progress:', layout=Layout(height='25px', width='50%'),…"
      ]
     },
     "metadata": {},
     "output_type": "display_data"
    },
    {
     "data": {
      "text/html": [
       "<style>.jp-OutputArea-child .jupyter-widgets.jp-OutputArea-output { overflow: auto; }</style>"
      ],
      "text/plain": [
       "<IPython.core.display.HTML object>"
      ]
     },
     "metadata": {},
     "output_type": "display_data"
    },
    {
     "data": {
      "application/vnd.jupyter.widget-view+json": {
       "model_id": "ee44453d683b464d9b5edba22625d75d",
       "version_major": 2,
       "version_minor": 0
      },
      "text/plain": [
       "VBox(children=(HBox(), EncodingWidget(children=(VBox(children=(HTML(value='Encoding:'), Dropdown(description='…"
      ]
     },
     "metadata": {},
     "output_type": "display_data"
    },
    {
     "data": {
      "application/vnd.jupyter.widget-view+json": {
       "model_id": "c092b33263784596a33d8fe451c9419e",
       "version_major": 2,
       "version_minor": 0
      },
      "text/plain": [
       "Output()"
      ]
     },
     "metadata": {},
     "output_type": "display_data"
    }
   ],
   "source": [
    "%%sql\n",
    "insert into \n",
    "    ${TABLE_NAME}\n",
    "select \n",
    "    review_id, \n",
    "    star_rating, \n",
    "    review_body, \n",
    "    review_date, \n",
    "    year,\n",
    "    unix_timestamp(current_timestamp()) as timestamp,\n",
    "    mod(crc32(review_id), 2) as parity\n",
    "from\n",
    "    reviews\n",
    "where\n",
    "    year in (2004, 2005);"
   ]
  },
  {
   "cell_type": "code",
   "execution_count": 55,
   "id": "245bc526-52c4-44d4-b70b-b55dce3c9c60",
   "metadata": {
    "execution": {
     "iopub.execute_input": "2023-03-17T09:16:20.683537Z",
     "iopub.status.busy": "2023-03-17T09:16:20.683262Z",
     "iopub.status.idle": "2023-03-17T09:16:32.035814Z",
     "shell.execute_reply": "2023-03-17T09:16:32.035042Z",
     "shell.execute_reply.started": "2023-03-17T09:16:20.683512Z"
    },
    "tags": []
   },
   "outputs": [
    {
     "name": "stdout",
     "output_type": "stream",
     "text": [
      "\n",
      "[ TIMELINE ]\n",
      "\n",
      "╔═════╤═══════════════════╤═══════════════╤═══════════╤═════════════╤═════════════╤═════════════╗\n",
      "║ No. │ Instant           │ Action        │ State     │ Requested   │ Inflight    │ Completed   ║\n",
      "║     │                   │               │           │ Time        │ Time        │ Time        ║\n",
      "╠═════╪═══════════════════╪═══════════════╪═══════════╪═════════════╪═════════════╪═════════════╣\n",
      "║ 0   │ 20230317091403489 │ commit        │ COMPLETED │ 03-17 09:14 │ 03-17 09:14 │ 03-17 09:14 ║\n",
      "╟─────┼───────────────────┼───────────────┼───────────┼─────────────┼─────────────┼─────────────╢\n",
      "║ 1   │ 20230317091456798 │ replacecommit │ REQUESTED │ 03-17 09:14 │ -           │ -           ║\n",
      "╟─────┼───────────────────┼───────────────┼───────────┼─────────────┼─────────────┼─────────────╢\n",
      "║ 2   │ 20230317091512213 │ commit        │ COMPLETED │ 03-17 09:15 │ 03-17 09:15 │ 03-17 09:16 ║\n",
      "╚═════╧═══════════════════╧═══════════════╧═══════════╧═════════════╧═════════════╧═════════════╝\n",
      "\n",
      "[ STORAGE ]\n",
      "\n",
      "/home/emr-notebook/apache-hudi-core-conceptions/reviews_cow_clustering_4\n",
      "├── [309M 09:16:31]  parity=0\n",
      "│   ├── [ 96M 09:14:50]  3d9a2d9d-cce5-4f58-8c7b-91dddd078939-0_0-539-5266_20230317091403489.parquet\n",
      "│   ├── [ 93M 09:16:04]  4b114f50-8627-4c58-99f6-1378d3926694-0_1-593-5584_20230317091512213.parquet\n",
      "│   └── [120M 09:16:09]  babc0a61-c346-43aa-a42f-68e53a276289-0_0-593-5583_20230317091512213.parquet\n",
      "└── [309M 09:16:31]  parity=1\n",
      "    ├── [120M 09:16:11]  354f0723-3a28-4af7-9150-cd0f45a47b82-0_2-593-5585_20230317091512213.parquet\n",
      "    ├── [ 94M 09:16:04]  77642a00-d4e6-44b5-98d2-0d9d258c3282-0_3-593-5586_20230317091512213.parquet\n",
      "    └── [ 96M 09:14:50]  e4d31181-5d7e-498e-84f7-540797c4e940-0_1-539-5267_20230317091403489.parquet\n"
     ]
    }
   ],
   "source": [
    "%%sh\n",
    "${WORKSPACE}/hudi-stat.sh s3://${S3_BUCKET}/${TABLE_NAME} timeline commits storage"
   ]
  },
  {
   "cell_type": "markdown",
   "id": "b8d20628-f332-48d8-8590-02f0bb9b24c1",
   "metadata": {
    "tags": []
   },
   "source": [
    "### 5.7. Insert 182MB / + 1 Max File + 1 Small File"
   ]
  },
  {
   "cell_type": "code",
   "execution_count": 56,
   "id": "bb1f461a-5ff4-44d2-a4f9-6f0fb2ff3a29",
   "metadata": {
    "execution": {
     "iopub.execute_input": "2023-03-17T09:16:32.037329Z",
     "iopub.status.busy": "2023-03-17T09:16:32.037072Z",
     "iopub.status.idle": "2023-03-17T09:17:39.561327Z",
     "shell.execute_reply": "2023-03-17T09:17:39.560489Z",
     "shell.execute_reply.started": "2023-03-17T09:16:32.037303Z"
    },
    "tags": []
   },
   "outputs": [
    {
     "data": {
      "application/vnd.jupyter.widget-view+json": {
       "model_id": "",
       "version_major": 2,
       "version_minor": 0
      },
      "text/plain": [
       "FloatProgress(value=0.0, bar_style='info', description='Progress:', layout=Layout(height='25px', width='50%'),…"
      ]
     },
     "metadata": {},
     "output_type": "display_data"
    },
    {
     "data": {
      "text/html": [
       "<style>.jp-OutputArea-child .jupyter-widgets.jp-OutputArea-output { overflow: auto; }</style>"
      ],
      "text/plain": [
       "<IPython.core.display.HTML object>"
      ]
     },
     "metadata": {},
     "output_type": "display_data"
    },
    {
     "data": {
      "application/vnd.jupyter.widget-view+json": {
       "model_id": "faf517184e864f34914c24add776284f",
       "version_major": 2,
       "version_minor": 0
      },
      "text/plain": [
       "VBox(children=(HBox(), EncodingWidget(children=(VBox(children=(HTML(value='Encoding:'), Dropdown(description='…"
      ]
     },
     "metadata": {},
     "output_type": "display_data"
    },
    {
     "data": {
      "application/vnd.jupyter.widget-view+json": {
       "model_id": "8cae6bc85039488bab19042ac3ef6fac",
       "version_major": 2,
       "version_minor": 0
      },
      "text/plain": [
       "Output()"
      ]
     },
     "metadata": {},
     "output_type": "display_data"
    }
   ],
   "source": [
    "%%sql\n",
    "insert into \n",
    "    ${TABLE_NAME}\n",
    "select \n",
    "    review_id, \n",
    "    star_rating, \n",
    "    review_body, \n",
    "    review_date, \n",
    "    year,\n",
    "    unix_timestamp(current_timestamp()) as timestamp,\n",
    "    mod(crc32(review_id), 2) as parity\n",
    "from\n",
    "    reviews\n",
    "where\n",
    "    year = 2007;"
   ]
  },
  {
   "cell_type": "code",
   "execution_count": 57,
   "id": "4f1adcf2-235a-483c-97c9-a90015921c18",
   "metadata": {
    "execution": {
     "iopub.execute_input": "2023-03-17T09:17:39.562966Z",
     "iopub.status.busy": "2023-03-17T09:17:39.562629Z",
     "iopub.status.idle": "2023-03-17T09:17:49.469296Z",
     "shell.execute_reply": "2023-03-17T09:17:49.468570Z",
     "shell.execute_reply.started": "2023-03-17T09:17:39.562930Z"
    },
    "tags": []
   },
   "outputs": [
    {
     "name": "stdout",
     "output_type": "stream",
     "text": [
      "\n",
      "[ TIMELINE ]\n",
      "\n",
      "╔═════╤═══════════════════╤═══════════════╤═══════════╤═════════════╤═════════════╤═════════════╗\n",
      "║ No. │ Instant           │ Action        │ State     │ Requested   │ Inflight    │ Completed   ║\n",
      "║     │                   │               │           │ Time        │ Time        │ Time        ║\n",
      "╠═════╪═══════════════════╪═══════════════╪═══════════╪═════════════╪═════════════╪═════════════╣\n",
      "║ 0   │ 20230317091403489 │ commit        │ COMPLETED │ 03-17 09:14 │ 03-17 09:14 │ 03-17 09:14 ║\n",
      "╟─────┼───────────────────┼───────────────┼───────────┼─────────────┼─────────────┼─────────────╢\n",
      "║ 1   │ 20230317091456798 │ replacecommit │ REQUESTED │ 03-17 09:14 │ -           │ -           ║\n",
      "╟─────┼───────────────────┼───────────────┼───────────┼─────────────┼─────────────┼─────────────╢\n",
      "║ 2   │ 20230317091512213 │ commit        │ COMPLETED │ 03-17 09:15 │ 03-17 09:15 │ 03-17 09:16 ║\n",
      "╟─────┼───────────────────┼───────────────┼───────────┼─────────────┼─────────────┼─────────────╢\n",
      "║ 3   │ 20230317091633110 │ commit        │ COMPLETED │ 03-17 09:16 │ 03-17 09:17 │ 03-17 09:17 ║\n",
      "╚═════╧═══════════════════╧═══════════════╧═══════════╧═════════════╧═════════════╧═════════════╝\n",
      "\n",
      "[ STORAGE ]\n",
      "\n",
      "/home/emr-notebook/apache-hudi-core-conceptions/reviews_cow_clustering_4\n",
      "├── [491M 09:17:49]  parity=0\n",
      "│   ├── [ 96M 09:14:50]  3d9a2d9d-cce5-4f58-8c7b-91dddd078939-0_0-539-5266_20230317091403489.parquet\n",
      "│   ├── [ 93M 09:16:04]  4b114f50-8627-4c58-99f6-1378d3926694-0_1-593-5584_20230317091512213.parquet\n",
      "│   ├── [119M 09:17:26]  5c569aee-ff9f-4e53-a8b7-b08c980df16e-0_0-649-5905_20230317091633110.parquet\n",
      "│   ├── [120M 09:16:09]  babc0a61-c346-43aa-a42f-68e53a276289-0_0-593-5583_20230317091512213.parquet\n",
      "│   └── [ 63M 09:17:16]  ed141de7-4e74-408f-840e-f47e8c9b07da-0_1-649-5906_20230317091633110.parquet\n",
      "└── [491M 09:17:49]  parity=1\n",
      "    ├── [ 63M 09:17:16]  13f96b40-4bed-4e9b-b497-d99cc21c591c-0_3-649-5908_20230317091633110.parquet\n",
      "    ├── [119M 09:17:26]  353f72d1-d08f-4a35-bdc1-802eb2190988-0_2-649-5907_20230317091633110.parquet\n",
      "    ├── [120M 09:16:11]  354f0723-3a28-4af7-9150-cd0f45a47b82-0_2-593-5585_20230317091512213.parquet\n",
      "    ├── [ 94M 09:16:04]  77642a00-d4e6-44b5-98d2-0d9d258c3282-0_3-593-5586_20230317091512213.parquet\n",
      "    └── [ 96M 09:14:50]  e4d31181-5d7e-498e-84f7-540797c4e940-0_1-539-5267_20230317091403489.parquet\n"
     ]
    }
   ],
   "source": [
    "%%sh\n",
    "${WORKSPACE}/hudi-stat.sh s3://${S3_BUCKET}/${TABLE_NAME} timeline commits storage"
   ]
  },
  {
   "cell_type": "markdown",
   "id": "a6495b74-f28d-4a5c-806e-81a85ab1ec8f",
   "metadata": {
    "tags": []
   },
   "source": [
    "### 5.8. Offline Eexecute 96MB / + 1 Clustered File"
   ]
  },
  {
   "cell_type": "code",
   "execution_count": 58,
   "id": "e4092073-0258-42ac-8e62-51f1e4412bee",
   "metadata": {
    "execution": {
     "iopub.execute_input": "2023-03-17T09:17:49.471141Z",
     "iopub.status.busy": "2023-03-17T09:17:49.470718Z",
     "iopub.status.idle": "2023-03-17T09:19:18.582677Z",
     "shell.execute_reply": "2023-03-17T09:19:18.581687Z",
     "shell.execute_reply.started": "2023-03-17T09:17:49.471081Z"
    },
    "tags": []
   },
   "outputs": [],
   "source": [
    "%%sh\n",
    "# it's required for current user (emr-notebook) to get sudo permission\n",
    "sudo -u hadoop spark-submit \\\n",
    "  --jars '/usr/lib/hudi/hudi-spark-bundle.jar' \\\n",
    "  --class 'org.apache.hudi.utilities.HoodieClusteringJob' \\\n",
    "  /usr/lib/hudi/hudi-utilities-bundle.jar \\\n",
    "  --spark-memory '4g' \\\n",
    "  --mode 'execute' \\\n",
    "  --base-path \"s3://${S3_BUCKET}/${TABLE_NAME}\" \\\n",
    "  --table-name \"${TABLE_NAME}\" > ${WORKSPACE}/${TABLE_NAME}.execute.out &>/dev/null"
   ]
  },
  {
   "cell_type": "code",
   "execution_count": 59,
   "id": "b39c694d-1d14-4139-ae3c-3afd0ad82f98",
   "metadata": {
    "execution": {
     "iopub.execute_input": "2023-03-17T09:19:18.584741Z",
     "iopub.status.busy": "2023-03-17T09:19:18.584475Z",
     "iopub.status.idle": "2023-03-17T09:19:28.271270Z",
     "shell.execute_reply": "2023-03-17T09:19:28.270477Z",
     "shell.execute_reply.started": "2023-03-17T09:19:18.584715Z"
    },
    "tags": []
   },
   "outputs": [
    {
     "name": "stdout",
     "output_type": "stream",
     "text": [
      "\n",
      "[ TIMELINE ]\n",
      "\n",
      "╔═════╤═══════════════════╤═══════════════╤═══════════╤═════════════╤═════════════╤═════════════╗\n",
      "║ No. │ Instant           │ Action        │ State     │ Requested   │ Inflight    │ Completed   ║\n",
      "║     │                   │               │           │ Time        │ Time        │ Time        ║\n",
      "╠═════╪═══════════════════╪═══════════════╪═══════════╪═════════════╪═════════════╪═════════════╣\n",
      "║ 0   │ 20230317091403489 │ commit        │ COMPLETED │ 03-17 09:14 │ 03-17 09:14 │ 03-17 09:14 ║\n",
      "╟─────┼───────────────────┼───────────────┼───────────┼─────────────┼─────────────┼─────────────╢\n",
      "║ 1   │ 20230317091456798 │ replacecommit │ COMPLETED │ 03-17 09:14 │ 03-17 09:18 │ 03-17 09:19 ║\n",
      "╟─────┼───────────────────┼───────────────┼───────────┼─────────────┼─────────────┼─────────────╢\n",
      "║ 2   │ 20230317091512213 │ commit        │ COMPLETED │ 03-17 09:15 │ 03-17 09:15 │ 03-17 09:16 ║\n",
      "╟─────┼───────────────────┼───────────────┼───────────┼─────────────┼─────────────┼─────────────╢\n",
      "║ 3   │ 20230317091633110 │ commit        │ COMPLETED │ 03-17 09:16 │ 03-17 09:17 │ 03-17 09:17 ║\n",
      "╚═════╧═══════════════════╧═══════════════╧═══════════╧═════════════╧═════════════╧═════════════╝\n",
      "\n",
      "[ STORAGE ]\n",
      "\n",
      "/home/emr-notebook/apache-hudi-core-conceptions/reviews_cow_clustering_4\n",
      "├── [587M 09:19:28]  parity=0\n",
      "│   ├── [ 96M 09:14:50]  3d9a2d9d-cce5-4f58-8c7b-91dddd078939-0_0-539-5266_20230317091403489.parquet\n",
      "│   ├── [ 93M 09:16:04]  4b114f50-8627-4c58-99f6-1378d3926694-0_1-593-5584_20230317091512213.parquet\n",
      "│   ├── [119M 09:17:26]  5c569aee-ff9f-4e53-a8b7-b08c980df16e-0_0-649-5905_20230317091633110.parquet\n",
      "│   ├── [120M 09:16:09]  babc0a61-c346-43aa-a42f-68e53a276289-0_0-593-5583_20230317091512213.parquet\n",
      "│   ├── [ 96M 09:18:47]  df351c9e-1ad0-49ba-8b2d-d388d18a31d2-0_0-2-2_20230317091456798.parquet\n",
      "│   └── [ 63M 09:17:16]  ed141de7-4e74-408f-840e-f47e8c9b07da-0_1-649-5906_20230317091633110.parquet\n",
      "└── [587M 09:19:28]  parity=1\n",
      "    ├── [ 63M 09:17:16]  13f96b40-4bed-4e9b-b497-d99cc21c591c-0_3-649-5908_20230317091633110.parquet\n",
      "    ├── [119M 09:17:26]  353f72d1-d08f-4a35-bdc1-802eb2190988-0_2-649-5907_20230317091633110.parquet\n",
      "    ├── [120M 09:16:11]  354f0723-3a28-4af7-9150-cd0f45a47b82-0_2-593-5585_20230317091512213.parquet\n",
      "    ├── [ 96M 09:18:47]  4e2cafba-8028-4b26-b0d9-07b504a3feed-0_1-2-3_20230317091456798.parquet\n",
      "    ├── [ 94M 09:16:04]  77642a00-d4e6-44b5-98d2-0d9d258c3282-0_3-593-5586_20230317091512213.parquet\n",
      "    └── [ 96M 09:14:50]  e4d31181-5d7e-498e-84f7-540797c4e940-0_1-539-5267_20230317091403489.parquet\n"
     ]
    }
   ],
   "source": [
    "%%sh\n",
    "${WORKSPACE}/hudi-stat.sh s3://${S3_BUCKET}/${TABLE_NAME} timeline commits storage"
   ]
  },
  {
   "cell_type": "markdown",
   "id": "a76e5171-487d-4130-887d-84f910cdf57c",
   "metadata": {
    "tags": []
   },
   "source": [
    "### 5.9. Insert 14.6MB / +1 Small File"
   ]
  },
  {
   "cell_type": "code",
   "execution_count": 60,
   "id": "33cd47da-495c-41a1-9e66-1007fefbed82",
   "metadata": {
    "execution": {
     "iopub.execute_input": "2023-03-17T09:19:28.272850Z",
     "iopub.status.busy": "2023-03-17T09:19:28.272572Z",
     "iopub.status.idle": "2023-03-17T09:20:17.737895Z",
     "shell.execute_reply": "2023-03-17T09:20:17.737074Z",
     "shell.execute_reply.started": "2023-03-17T09:19:28.272822Z"
    },
    "tags": []
   },
   "outputs": [
    {
     "data": {
      "application/vnd.jupyter.widget-view+json": {
       "model_id": "",
       "version_major": 2,
       "version_minor": 0
      },
      "text/plain": [
       "FloatProgress(value=0.0, bar_style='info', description='Progress:', layout=Layout(height='25px', width='50%'),…"
      ]
     },
     "metadata": {},
     "output_type": "display_data"
    },
    {
     "data": {
      "text/html": [
       "<style>.jp-OutputArea-child .jupyter-widgets.jp-OutputArea-output { overflow: auto; }</style>"
      ],
      "text/plain": [
       "<IPython.core.display.HTML object>"
      ]
     },
     "metadata": {},
     "output_type": "display_data"
    },
    {
     "data": {
      "application/vnd.jupyter.widget-view+json": {
       "model_id": "6df306858bba45e0b28ca43e8d047622",
       "version_major": 2,
       "version_minor": 0
      },
      "text/plain": [
       "VBox(children=(HBox(), EncodingWidget(children=(VBox(children=(HTML(value='Encoding:'), Dropdown(description='…"
      ]
     },
     "metadata": {},
     "output_type": "display_data"
    },
    {
     "data": {
      "application/vnd.jupyter.widget-view+json": {
       "model_id": "876d735707bc436b9d03c2810fe45349",
       "version_major": 2,
       "version_minor": 0
      },
      "text/plain": [
       "Output()"
      ]
     },
     "metadata": {},
     "output_type": "display_data"
    }
   ],
   "source": [
    "%%sql\n",
    "insert into \n",
    "    ${TABLE_NAME}\n",
    "select \n",
    "    review_id, \n",
    "    star_rating, \n",
    "    review_body, \n",
    "    review_date, \n",
    "    year,\n",
    "    unix_timestamp(current_timestamp()) as timestamp,\n",
    "    mod(crc32(review_id), 2) as parity\n",
    "from\n",
    "    reviews\n",
    "where\n",
    "    year = 1998;"
   ]
  },
  {
   "cell_type": "code",
   "execution_count": 61,
   "id": "61207241-074c-4c1b-b75e-d50604732fae",
   "metadata": {
    "execution": {
     "iopub.execute_input": "2023-03-17T09:20:17.739534Z",
     "iopub.status.busy": "2023-03-17T09:20:17.739163Z",
     "iopub.status.idle": "2023-03-17T09:20:25.555597Z",
     "shell.execute_reply": "2023-03-17T09:20:25.554757Z",
     "shell.execute_reply.started": "2023-03-17T09:20:17.739496Z"
    },
    "tags": []
   },
   "outputs": [
    {
     "name": "stdout",
     "output_type": "stream",
     "text": [
      "\n",
      "[ TIMELINE ]\n",
      "\n",
      "╔═════╤═══════════════════╤═══════════════╤═══════════╤═════════════╤═════════════╤═════════════╗\n",
      "║ No. │ Instant           │ Action        │ State     │ Requested   │ Inflight    │ Completed   ║\n",
      "║     │                   │               │           │ Time        │ Time        │ Time        ║\n",
      "╠═════╪═══════════════════╪═══════════════╪═══════════╪═════════════╪═════════════╪═════════════╣\n",
      "║ 0   │ 20230317091403489 │ commit        │ COMPLETED │ 03-17 09:14 │ 03-17 09:14 │ 03-17 09:14 ║\n",
      "╟─────┼───────────────────┼───────────────┼───────────┼─────────────┼─────────────┼─────────────╢\n",
      "║ 1   │ 20230317091456798 │ replacecommit │ COMPLETED │ 03-17 09:14 │ 03-17 09:18 │ 03-17 09:19 ║\n",
      "╟─────┼───────────────────┼───────────────┼───────────┼─────────────┼─────────────┼─────────────╢\n",
      "║ 2   │ 20230317091512213 │ commit        │ COMPLETED │ 03-17 09:15 │ 03-17 09:15 │ 03-17 09:16 ║\n",
      "╟─────┼───────────────────┼───────────────┼───────────┼─────────────┼─────────────┼─────────────╢\n",
      "║ 3   │ 20230317091633110 │ commit        │ COMPLETED │ 03-17 09:16 │ 03-17 09:17 │ 03-17 09:17 ║\n",
      "╟─────┼───────────────────┼───────────────┼───────────┼─────────────┼─────────────┼─────────────╢\n",
      "║ 4   │ 20230317091935603 │ commit        │ COMPLETED │ 03-17 09:19 │ 03-17 09:19 │ 03-17 09:20 ║\n",
      "╟─────┼───────────────────┼───────────────┼───────────┼─────────────┼─────────────┼─────────────╢\n",
      "║ 5   │ 20230317092010253 │ replacecommit │ REQUESTED │ 03-17 09:20 │ -           │ -           ║\n",
      "╚═════╧═══════════════════╧═══════════════╧═══════════╧═════════════╧═════════════╧═════════════╝\n",
      "\n",
      "[ STORAGE ]\n",
      "\n",
      "/home/emr-notebook/apache-hudi-core-conceptions/reviews_cow_clustering_4\n",
      "├── [603M 09:20:25]  parity=0\n",
      "│   ├── [ 96M 09:14:50]  3d9a2d9d-cce5-4f58-8c7b-91dddd078939-0_0-539-5266_20230317091403489.parquet\n",
      "│   ├── [ 93M 09:16:04]  4b114f50-8627-4c58-99f6-1378d3926694-0_1-593-5584_20230317091512213.parquet\n",
      "│   ├── [119M 09:17:26]  5c569aee-ff9f-4e53-a8b7-b08c980df16e-0_0-649-5905_20230317091633110.parquet\n",
      "│   ├── [120M 09:16:09]  babc0a61-c346-43aa-a42f-68e53a276289-0_0-593-5583_20230317091512213.parquet\n",
      "│   ├── [ 96M 09:18:47]  df351c9e-1ad0-49ba-8b2d-d388d18a31d2-0_0-2-2_20230317091456798.parquet\n",
      "│   ├── [ 15M 09:20:01]  e74e0e06-fc76-4bec-ae55-a043367e5eb0-0_0-702-6009_20230317091935603.parquet\n",
      "│   └── [ 63M 09:17:16]  ed141de7-4e74-408f-840e-f47e8c9b07da-0_1-649-5906_20230317091633110.parquet\n",
      "└── [603M 09:20:25]  parity=1\n",
      "    ├── [ 63M 09:17:16]  13f96b40-4bed-4e9b-b497-d99cc21c591c-0_3-649-5908_20230317091633110.parquet\n",
      "    ├── [119M 09:17:26]  353f72d1-d08f-4a35-bdc1-802eb2190988-0_2-649-5907_20230317091633110.parquet\n",
      "    ├── [120M 09:16:11]  354f0723-3a28-4af7-9150-cd0f45a47b82-0_2-593-5585_20230317091512213.parquet\n",
      "    ├── [ 96M 09:18:47]  4e2cafba-8028-4b26-b0d9-07b504a3feed-0_1-2-3_20230317091456798.parquet\n",
      "    ├── [ 94M 09:16:04]  77642a00-d4e6-44b5-98d2-0d9d258c3282-0_3-593-5586_20230317091512213.parquet\n",
      "    ├── [ 96M 09:14:50]  e4d31181-5d7e-498e-84f7-540797c4e940-0_1-539-5267_20230317091403489.parquet\n",
      "    └── [ 15M 09:20:01]  e5e6c2eb-47f1-4df1-bd61-aea66efeef84-0_1-702-6010_20230317091935603.parquet\n"
     ]
    }
   ],
   "source": [
    "%%sh\n",
    "${WORKSPACE}/hudi-stat.sh s3://${S3_BUCKET}/${TABLE_NAME} timeline commits storage"
   ]
  },
  {
   "cell_type": "markdown",
   "id": "bba7f182-8d2f-45a3-88f2-38d38d226445",
   "metadata": {
    "tags": []
   },
   "source": [
    "### 5.10. Offline Eexecute 503MB / + 2 Clustered Files"
   ]
  },
  {
   "cell_type": "code",
   "execution_count": 62,
   "id": "b8be3bb1-bcf4-4158-a111-9cbc50af5020",
   "metadata": {
    "execution": {
     "iopub.execute_input": "2023-03-17T09:20:25.557506Z",
     "iopub.status.busy": "2023-03-17T09:20:25.557132Z",
     "iopub.status.idle": "2023-03-17T09:23:21.881966Z",
     "shell.execute_reply": "2023-03-17T09:23:21.881086Z",
     "shell.execute_reply.started": "2023-03-17T09:20:25.557457Z"
    },
    "tags": []
   },
   "outputs": [],
   "source": [
    "%%sh\n",
    "# it's required for current user (emr-notebook) to get sudo permission\n",
    "sudo -u hadoop spark-submit \\\n",
    "  --jars '/usr/lib/hudi/hudi-spark-bundle.jar' \\\n",
    "  --class 'org.apache.hudi.utilities.HoodieClusteringJob' \\\n",
    "  /usr/lib/hudi/hudi-utilities-bundle.jar \\\n",
    "  --spark-memory '4g' \\\n",
    "  --mode 'execute' \\\n",
    "  --base-path \"s3://${S3_BUCKET}/${TABLE_NAME}\" \\\n",
    "  --table-name \"${TABLE_NAME}\" > ${WORKSPACE}/${TABLE_NAME}.execute.out &>/dev/null"
   ]
  },
  {
   "cell_type": "code",
   "execution_count": 63,
   "id": "e1edf4ad-c992-4c16-9733-c4ecc2758f9b",
   "metadata": {
    "execution": {
     "iopub.execute_input": "2023-03-17T09:23:21.883434Z",
     "iopub.status.busy": "2023-03-17T09:23:21.883173Z",
     "iopub.status.idle": "2023-03-17T09:23:34.779104Z",
     "shell.execute_reply": "2023-03-17T09:23:34.778264Z",
     "shell.execute_reply.started": "2023-03-17T09:23:21.883408Z"
    },
    "tags": []
   },
   "outputs": [
    {
     "name": "stdout",
     "output_type": "stream",
     "text": [
      "\n",
      "[ TIMELINE ]\n",
      "\n",
      "╔═════╤═══════════════════╤═══════════════╤═══════════╤═════════════╤═════════════╤═════════════╗\n",
      "║ No. │ Instant           │ Action        │ State     │ Requested   │ Inflight    │ Completed   ║\n",
      "║     │                   │               │           │ Time        │ Time        │ Time        ║\n",
      "╠═════╪═══════════════════╪═══════════════╪═══════════╪═════════════╪═════════════╪═════════════╣\n",
      "║ 0   │ 20230317091403489 │ commit        │ COMPLETED │ 03-17 09:14 │ 03-17 09:14 │ 03-17 09:14 ║\n",
      "╟─────┼───────────────────┼───────────────┼───────────┼─────────────┼─────────────┼─────────────╢\n",
      "║ 1   │ 20230317091456798 │ replacecommit │ COMPLETED │ 03-17 09:14 │ 03-17 09:18 │ 03-17 09:19 ║\n",
      "╟─────┼───────────────────┼───────────────┼───────────┼─────────────┼─────────────┼─────────────╢\n",
      "║ 2   │ 20230317091512213 │ commit        │ COMPLETED │ 03-17 09:15 │ 03-17 09:15 │ 03-17 09:16 ║\n",
      "╟─────┼───────────────────┼───────────────┼───────────┼─────────────┼─────────────┼─────────────╢\n",
      "║ 3   │ 20230317091633110 │ commit        │ COMPLETED │ 03-17 09:16 │ 03-17 09:17 │ 03-17 09:17 ║\n",
      "╟─────┼───────────────────┼───────────────┼───────────┼─────────────┼─────────────┼─────────────╢\n",
      "║ 4   │ 20230317091935603 │ commit        │ COMPLETED │ 03-17 09:19 │ 03-17 09:19 │ 03-17 09:20 ║\n",
      "╟─────┼───────────────────┼───────────────┼───────────┼─────────────┼─────────────┼─────────────╢\n",
      "║ 5   │ 20230317092010253 │ replacecommit │ COMPLETED │ 03-17 09:20 │ 03-17 09:20 │ 03-17 09:23 ║\n",
      "╚═════╧═══════════════════╧═══════════════╧═══════════╧═════════════╧═════════════╧═════════════╝\n",
      "\n",
      "[ STORAGE ]\n",
      "\n",
      "/home/emr-notebook/apache-hudi-core-conceptions/reviews_cow_clustering_4\n",
      "├── [1.1G 09:23:34]  parity=0\n",
      "│   ├── [251M 09:22:08]  102b51d7-c6b4-43e7-8fc1-c0986f1e3a26-0_0-4-24_20230317092010253.parquet\n",
      "│   ├── [ 96M 09:14:50]  3d9a2d9d-cce5-4f58-8c7b-91dddd078939-0_0-539-5266_20230317091403489.parquet\n",
      "│   ├── [ 93M 09:16:04]  4b114f50-8627-4c58-99f6-1378d3926694-0_1-593-5584_20230317091512213.parquet\n",
      "│   ├── [119M 09:17:26]  5c569aee-ff9f-4e53-a8b7-b08c980df16e-0_0-649-5905_20230317091633110.parquet\n",
      "│   ├── [253M 09:22:10]  909832e1-5132-4eb8-a407-9d1371ec365c-0_1-4-25_20230317092010253.parquet\n",
      "│   ├── [120M 09:16:09]  babc0a61-c346-43aa-a42f-68e53a276289-0_0-593-5583_20230317091512213.parquet\n",
      "│   ├── [ 96M 09:18:47]  df351c9e-1ad0-49ba-8b2d-d388d18a31d2-0_0-2-2_20230317091456798.parquet\n",
      "│   ├── [ 15M 09:20:01]  e74e0e06-fc76-4bec-ae55-a043367e5eb0-0_0-702-6009_20230317091935603.parquet\n",
      "│   └── [ 63M 09:17:16]  ed141de7-4e74-408f-840e-f47e8c9b07da-0_1-649-5906_20230317091633110.parquet\n",
      "└── [1.1G 09:23:34]  parity=1\n",
      "    ├── [ 63M 09:17:16]  13f96b40-4bed-4e9b-b497-d99cc21c591c-0_3-649-5908_20230317091633110.parquet\n",
      "    ├── [235M 09:22:09]  252daf2e-f98d-4cf1-9a39-c24358f4e2a9-0_2-4-26_20230317092010253.parquet\n",
      "    ├── [119M 09:17:26]  353f72d1-d08f-4a35-bdc1-802eb2190988-0_2-649-5907_20230317091633110.parquet\n",
      "    ├── [120M 09:16:11]  354f0723-3a28-4af7-9150-cd0f45a47b82-0_2-593-5585_20230317091512213.parquet\n",
      "    ├── [ 96M 09:18:47]  4e2cafba-8028-4b26-b0d9-07b504a3feed-0_1-2-3_20230317091456798.parquet\n",
      "    ├── [ 94M 09:16:04]  77642a00-d4e6-44b5-98d2-0d9d258c3282-0_3-593-5586_20230317091512213.parquet\n",
      "    ├── [269M 09:22:10]  a519092b-e5a0-4fbb-a2c6-96d9373aef96-0_3-4-27_20230317092010253.parquet\n",
      "    ├── [ 96M 09:14:50]  e4d31181-5d7e-498e-84f7-540797c4e940-0_1-539-5267_20230317091403489.parquet\n",
      "    └── [ 15M 09:20:01]  e5e6c2eb-47f1-4df1-bd61-aea66efeef84-0_1-702-6010_20230317091935603.parquet\n"
     ]
    }
   ],
   "source": [
    "%%sh\n",
    "${WORKSPACE}/hudi-stat.sh s3://${S3_BUCKET}/${TABLE_NAME} timeline commits storage"
   ]
  },
  {
   "cell_type": "code",
   "execution_count": null,
   "id": "f584e077-8417-42d5-96a7-53f7a698bb3e",
   "metadata": {},
   "outputs": [],
   "source": []
  }
 ],
 "metadata": {
  "kernelspec": {
   "display_name": "Spark",
   "language": "scala",
   "name": "sparkkernel"
  },
  "language_info": {
   "codemirror_mode": "text/x-scala",
   "file_extension": ".sc",
   "mimetype": "text/x-scala",
   "name": "scala",
   "pygments_lexer": "scala"
  }
 },
 "nbformat": 4,
 "nbformat_minor": 5
}
