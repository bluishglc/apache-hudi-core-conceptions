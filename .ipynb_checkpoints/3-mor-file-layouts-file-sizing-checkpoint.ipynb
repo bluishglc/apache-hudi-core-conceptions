{
 "cells": [
  {
   "cell_type": "markdown",
   "id": "1d574cc5-0034-439e-b4c9-45f0afea203d",
   "metadata": {
    "tags": []
   },
   "source": [
    "# Apache Hudi Core Conceptions (3) - MOR: File Layouts & File Sizing"
   ]
  },
  {
   "cell_type": "markdown",
   "id": "8ab4926d-5fb6-4a3c-8466-bf5bd18192ba",
   "metadata": {},
   "source": [
    "*Author: [Laurence Geng](https://laurence.blog.csdn.net) @ [https://laurence.blog.csdn.net](https://laurence.blog.csdn.net)*"
   ]
  },
  {
   "cell_type": "markdown",
   "id": "a8f99894-93f3-4cef-a853-d2d73a3515b6",
   "metadata": {
    "tags": []
   },
   "source": [
    "## 1. Configuration"
   ]
  },
  {
   "cell_type": "code",
   "execution_count": 1,
   "id": "638504d6-1136-4807-af98-1d4248d1a8f3",
   "metadata": {
    "execution": {
     "iopub.execute_input": "2023-03-11T09:15:28.739325Z",
     "iopub.status.busy": "2023-03-11T09:15:28.739022Z",
     "iopub.status.idle": "2023-03-11T09:15:33.032921Z",
     "shell.execute_reply": "2023-03-11T09:15:33.031956Z",
     "shell.execute_reply.started": "2023-03-11T09:15:28.739298Z"
    },
    "tags": []
   },
   "outputs": [
    {
     "name": "stdout",
     "output_type": "stream",
     "text": [
      "-rw-r--r--   1 emr-notebook hdfsadmingroup   61421977 2023-03-11 09:15 /tmp/hudi-spark-bundle.jar\n"
     ]
    }
   ],
   "source": [
    "%%sh\n",
    "# deploy hudi bundle jar\n",
    "hdfs dfs -copyFromLocal -f /usr/lib/hudi/hudi-spark-bundle.jar /tmp/hudi-spark-bundle.jar\n",
    "hdfs dfs -ls /tmp/hudi-spark-bundle.jar"
   ]
  },
  {
   "cell_type": "code",
   "execution_count": 2,
   "id": "c7b533e6-60dc-44b6-be57-d3b86c11c583",
   "metadata": {
    "execution": {
     "iopub.execute_input": "2023-03-11T09:15:33.035159Z",
     "iopub.status.busy": "2023-03-11T09:15:33.034769Z",
     "iopub.status.idle": "2023-03-11T09:15:33.096881Z",
     "shell.execute_reply": "2023-03-11T09:15:33.096083Z",
     "shell.execute_reply.started": "2023-03-11T09:15:33.035113Z"
    },
    "tags": []
   },
   "outputs": [
    {
     "data": {
      "text/html": [
       "Current session configs: <tt>{'conf': {'spark.jars': 'hdfs:///tmp/hudi-spark-bundle.jar', 'spark.serializer': 'org.apache.spark.serializer.KryoSerializer', 'spark.sql.extensions': 'org.apache.spark.sql.hudi.HoodieSparkSessionExtension', 'spark.sql.catalog.spark_catalog': 'org.apache.spark.sql.hudi.catalog.HoodieCatalog'}, 'proxyUser': 'user_bluishglc', 'kind': 'spark'}</tt><br>"
      ],
      "text/plain": [
       "<IPython.core.display.HTML object>"
      ]
     },
     "metadata": {},
     "output_type": "display_data"
    },
    {
     "data": {
      "text/html": [
       "<table>\n<tbody><tr><th>ID</th><th>YARN Application ID</th><th>Kind</th><th>State</th><th>Spark UI</th><th>Driver log</th><th>User</th><th>Current session?</th></tr><tr><td>63</td><td>application_1678096020253_0095</td><td>spark</td><td>idle</td><td><a target=\"_blank\" href=\"http://ip-10-0-129-209.ec2.internal:20888/proxy/application_1678096020253_0095/\" class=\"emr-proxy-link j-6V65AY8X5VHR application_1678096020253_0095\" emr-resource=\"j-6V65AY8X5VHR\n\" application-id=\"application_1678096020253_0095\">Link</a></td><td><a target=\"_blank\" href=\"http://ip-10-0-132-108.ec2.internal:8042/node/containerlogs/container_1678096020253_0095_01_000001/livy\">Link</a></td><td>None</td><td></td></tr><tr><td>64</td><td>application_1678096020253_0096</td><td>spark</td><td>idle</td><td><a target=\"_blank\" href=\"http://ip-10-0-129-209.ec2.internal:20888/proxy/application_1678096020253_0096/\" class=\"emr-proxy-link j-6V65AY8X5VHR application_1678096020253_0096\" emr-resource=\"j-6V65AY8X5VHR\n\" application-id=\"application_1678096020253_0096\">Link</a></td><td><a target=\"_blank\" href=\"http://ip-10-0-132-108.ec2.internal:8042/node/containerlogs/container_1678096020253_0096_01_000001/livy\">Link</a></td><td>None</td><td></td></tr><tr><td>65</td><td>application_1678096020253_0097</td><td>spark</td><td>idle</td><td><a target=\"_blank\" href=\"http://ip-10-0-129-209.ec2.internal:20888/proxy/application_1678096020253_0097/\" class=\"emr-proxy-link j-6V65AY8X5VHR application_1678096020253_0097\" emr-resource=\"j-6V65AY8X5VHR\n\" application-id=\"application_1678096020253_0097\">Link</a></td><td><a target=\"_blank\" href=\"http://ip-10-0-132-108.ec2.internal:8042/node/containerlogs/container_1678096020253_0097_01_000001/livy\">Link</a></td><td>None</td><td></td></tr></tbody></table>"
      ],
      "text/plain": [
       "<IPython.core.display.HTML object>"
      ]
     },
     "metadata": {},
     "output_type": "display_data"
    }
   ],
   "source": [
    "%%configure -f\n",
    "{\n",
    "    \"conf\" : {\n",
    "        \"spark.jars\":\"hdfs:///tmp/hudi-spark-bundle.jar\",            \n",
    "        \"spark.serializer\":\"org.apache.spark.serializer.KryoSerializer\",\n",
    "        \"spark.sql.extensions\":\"org.apache.spark.sql.hudi.HoodieSparkSessionExtension\",\n",
    "        \"spark.sql.catalog.spark_catalog\":\"org.apache.spark.sql.hudi.catalog.HoodieCatalog\"\n",
    "    }\n",
    "}"
   ]
  },
  {
   "cell_type": "code",
   "execution_count": 3,
   "id": "8af4b944-fe51-41b9-90fb-ed249199f406",
   "metadata": {
    "execution": {
     "iopub.execute_input": "2023-03-11T09:15:33.098903Z",
     "iopub.status.busy": "2023-03-11T09:15:33.098542Z",
     "iopub.status.idle": "2023-03-11T09:15:33.103101Z",
     "shell.execute_reply": "2023-03-11T09:15:33.102422Z",
     "shell.execute_reply.started": "2023-03-11T09:15:33.098877Z"
    },
    "tags": []
   },
   "outputs": [
    {
     "name": "stdout",
     "output_type": "stream",
     "text": [
      "env: S3_BUCKET=apache-hudi-core-conceptions\n"
     ]
    }
   ],
   "source": [
    "%env S3_BUCKET=apache-hudi-core-conceptions"
   ]
  },
  {
   "cell_type": "code",
   "execution_count": 4,
   "id": "c5d08e30-76d6-4d19-af7c-15a49469c013",
   "metadata": {
    "execution": {
     "iopub.execute_input": "2023-03-11T09:15:33.104649Z",
     "iopub.status.busy": "2023-03-11T09:15:33.104400Z",
     "iopub.status.idle": "2023-03-11T09:16:02.710593Z",
     "shell.execute_reply": "2023-03-11T09:16:02.709870Z",
     "shell.execute_reply.started": "2023-03-11T09:15:33.104626Z"
    },
    "tags": []
   },
   "outputs": [
    {
     "name": "stdout",
     "output_type": "stream",
     "text": [
      "Starting Spark application\n"
     ]
    },
    {
     "data": {
      "text/html": [
       "<table>\n<tbody><tr><th>ID</th><th>YARN Application ID</th><th>Kind</th><th>State</th><th>Spark UI</th><th>Driver log</th><th>User</th><th>Current session?</th></tr><tr><td>66</td><td>application_1678096020253_0098</td><td>spark</td><td>idle</td><td><a target=\"_blank\" href=\"http://ip-10-0-129-209.ec2.internal:20888/proxy/application_1678096020253_0098/\" class=\"emr-proxy-link j-6V65AY8X5VHR application_1678096020253_0098\" emr-resource=\"j-6V65AY8X5VHR\n\" application-id=\"application_1678096020253_0098\">Link</a></td><td><a target=\"_blank\" href=\"http://ip-10-0-132-108.ec2.internal:8042/node/containerlogs/container_1678096020253_0098_01_000001/livy\">Link</a></td><td>None</td><td>✔</td></tr></tbody></table>"
      ],
      "text/plain": [
       "<IPython.core.display.HTML object>"
      ]
     },
     "metadata": {},
     "output_type": "display_data"
    },
    {
     "data": {
      "application/vnd.jupyter.widget-view+json": {
       "model_id": "",
       "version_major": 2,
       "version_minor": 0
      },
      "text/plain": [
       "FloatProgress(value=0.0, bar_style='info', description='Progress:', layout=Layout(height='25px', width='50%'),…"
      ]
     },
     "metadata": {},
     "output_type": "display_data"
    },
    {
     "name": "stdout",
     "output_type": "stream",
     "text": [
      "SparkSession available as 'spark'.\n"
     ]
    },
    {
     "data": {
      "application/vnd.jupyter.widget-view+json": {
       "model_id": "",
       "version_major": 2,
       "version_minor": 0
      },
      "text/plain": [
       "FloatProgress(value=0.0, bar_style='info', description='Progress:', layout=Layout(height='25px', width='50%'),…"
      ]
     },
     "metadata": {},
     "output_type": "display_data"
    },
    {
     "data": {
      "text/html": [
       "<style>.jp-OutputArea-child .jupyter-widgets.jp-OutputArea-output { overflow: auto; }</style>"
      ],
      "text/plain": [
       "<IPython.core.display.HTML object>"
      ]
     },
     "metadata": {},
     "output_type": "display_data"
    },
    {
     "data": {
      "application/vnd.jupyter.widget-view+json": {
       "model_id": "88b5887b3286402db0144eac3fb48dc5",
       "version_major": 2,
       "version_minor": 0
      },
      "text/plain": [
       "VBox(children=(HBox(children=(HTML(value='Type:'), Button(description='Table', layout=Layout(width='70px'), st…"
      ]
     },
     "metadata": {},
     "output_type": "display_data"
    },
    {
     "data": {
      "application/vnd.jupyter.widget-view+json": {
       "model_id": "ceb5558064cd49c9a6b1aa799d6293f6",
       "version_major": 2,
       "version_minor": 0
      },
      "text/plain": [
       "Output()"
      ]
     },
     "metadata": {},
     "output_type": "display_data"
    }
   ],
   "source": [
    "%%sql\n",
    "set S3_BUCKET=apache-hudi-core-conceptions"
   ]
  },
  {
   "cell_type": "code",
   "execution_count": 5,
   "id": "2b88311f-c410-4935-a41a-ce3d81c84920",
   "metadata": {
    "execution": {
     "iopub.execute_input": "2023-03-11T09:16:02.712263Z",
     "iopub.status.busy": "2023-03-11T09:16:02.711774Z",
     "iopub.status.idle": "2023-03-11T09:16:02.716867Z",
     "shell.execute_reply": "2023-03-11T09:16:02.715918Z",
     "shell.execute_reply.started": "2023-03-11T09:16:02.712182Z"
    },
    "tags": []
   },
   "outputs": [
    {
     "name": "stdout",
     "output_type": "stream",
     "text": [
      "env: WORKSPACE=/home/emr-notebook/apache-hudi-core-conceptions\n"
     ]
    }
   ],
   "source": [
    "%env WORKSPACE=/home/emr-notebook/apache-hudi-core-conceptions"
   ]
  },
  {
   "cell_type": "code",
   "execution_count": 6,
   "id": "78881ec6-4329-416b-ab27-38339020e322",
   "metadata": {
    "execution": {
     "iopub.execute_input": "2023-03-11T09:16:02.718623Z",
     "iopub.status.busy": "2023-03-11T09:16:02.718255Z",
     "iopub.status.idle": "2023-03-11T09:16:02.813615Z",
     "shell.execute_reply": "2023-03-11T09:16:02.812874Z",
     "shell.execute_reply.started": "2023-03-11T09:16:02.718592Z"
    },
    "tags": []
   },
   "outputs": [
    {
     "name": "stdout",
     "output_type": "stream",
     "text": [
      "/home/emr-notebook/apache-hudi-core-conceptions/hudi-stat.sh\n"
     ]
    }
   ],
   "source": [
    "%%sh\n",
    "# make workspace\n",
    "mkdir -p $WORKSPACE\n",
    "# deploy hudi-stat.sh, a utility shell script to output hudi table status\n",
    "wget https://raw.githubusercontent.com/bluishglc/apache-hudi-core-conceptions/master/hudi-stat.sh -O $WORKSPACE/hudi-stat.sh &>/dev/null\n",
    "chmod a+x $WORKSPACE/hudi-stat.sh\n",
    "ls $WORKSPACE/hudi-stat.sh"
   ]
  },
  {
   "cell_type": "code",
   "execution_count": 7,
   "id": "db234f04-c0c0-4be7-829b-0bbfc6e1395f",
   "metadata": {
    "execution": {
     "iopub.execute_input": "2023-03-11T09:16:02.815082Z",
     "iopub.status.busy": "2023-03-11T09:16:02.814850Z",
     "iopub.status.idle": "2023-03-11T09:16:02.820423Z",
     "shell.execute_reply": "2023-03-11T09:16:02.819746Z",
     "shell.execute_reply.started": "2023-03-11T09:16:02.815057Z"
    },
    "tags": []
   },
   "outputs": [
    {
     "data": {
      "text/html": [
       "<style>\n",
       "table {float:left}\n",
       "</style>\n"
      ],
      "text/plain": [
       "<IPython.core.display.HTML object>"
      ]
     },
     "metadata": {},
     "output_type": "display_data"
    }
   ],
   "source": [
    "%%html\n",
    "<style>\n",
    "table {float:left}\n",
    "</style>"
   ]
  },
  {
   "cell_type": "markdown",
   "id": "6214b0af-4317-403c-aaac-f556bd6572f8",
   "metadata": {
    "tags": []
   },
   "source": [
    "## 2. Test Case 1 - MOR: File Layouts + File Sizing"
   ]
  },
  {
   "cell_type": "markdown",
   "id": "ba6ba4c4-4a40-401b-9c2f-2726d57f8d1e",
   "metadata": {
    "jp-MarkdownHeadingCollapsed": true,
    "tags": []
   },
   "source": [
    "### 2.1. Test Plan\n",
    "\n",
    "Step No.|Action|Volume Per Partition |Storage\n",
    ":--------:|:------|:------|:----------\n",
    "1|Insert|96MB|+1 Base File\n",
    "2|Update|177KB|+1 Log File\n",
    "3|Update|252KB|+1 Log File +1 Base File\n",
    "4|Update|307MB|+1 Log File +1 Max Log File"
   ]
  },
  {
   "cell_type": "markdown",
   "id": "678e7c29-dd3f-413a-ae6e-367feec360f4",
   "metadata": {
    "tags": []
   },
   "source": [
    "### 2.2. Key Settings\n",
    "\n",
    "KEY|DEFAULT VALUE|SET VALUE\n",
    ":---|:---|:---\n",
    "hoodie.compact.inline|false|true\n",
    "hoodie.compact.schedule.inline|false|Default Value\n",
    "hoodie.compact.inline.max.delta.commits|5|3\n",
    "hoodie.logfile.max.size|1073741824 ( 1GB )|262144000 ( 250MB )\n",
    "hoodie.copyonwrite.record.size.estimate|1024|175"
   ]
  },
  {
   "cell_type": "markdown",
   "id": "2eeb3628-b884-494b-8452-ed6f5a54e052",
   "metadata": {
    "execution": {
     "iopub.execute_input": "2023-02-25T02:57:45.037101Z",
     "iopub.status.busy": "2023-02-25T02:57:45.036681Z",
     "iopub.status.idle": "2023-02-25T02:58:07.353493Z",
     "shell.execute_reply": "2023-02-25T02:58:07.352596Z",
     "shell.execute_reply.started": "2023-02-25T02:57:45.037060Z"
    },
    "tags": []
   },
   "source": [
    "### 2.3. Set Variables"
   ]
  },
  {
   "cell_type": "code",
   "execution_count": 8,
   "id": "64782769-59ad-4caa-83b1-1da57f43cfdf",
   "metadata": {
    "execution": {
     "iopub.execute_input": "2023-03-11T09:16:02.823322Z",
     "iopub.status.busy": "2023-03-11T09:16:02.823038Z",
     "iopub.status.idle": "2023-03-11T09:16:03.763180Z",
     "shell.execute_reply": "2023-03-11T09:16:03.762289Z",
     "shell.execute_reply.started": "2023-03-11T09:16:02.823300Z"
    },
    "tags": []
   },
   "outputs": [
    {
     "data": {
      "application/vnd.jupyter.widget-view+json": {
       "model_id": "",
       "version_major": 2,
       "version_minor": 0
      },
      "text/plain": [
       "FloatProgress(value=0.0, bar_style='info', description='Progress:', layout=Layout(height='25px', width='50%'),…"
      ]
     },
     "metadata": {},
     "output_type": "display_data"
    },
    {
     "data": {
      "text/html": [
       "<style>.jp-OutputArea-child .jupyter-widgets.jp-OutputArea-output { overflow: auto; }</style>"
      ],
      "text/plain": [
       "<IPython.core.display.HTML object>"
      ]
     },
     "metadata": {},
     "output_type": "display_data"
    },
    {
     "data": {
      "application/vnd.jupyter.widget-view+json": {
       "model_id": "1fcca440069948bd93a3fcabefc6ca60",
       "version_major": 2,
       "version_minor": 0
      },
      "text/plain": [
       "VBox(children=(HBox(children=(HTML(value='Type:'), Button(description='Table', layout=Layout(width='70px'), st…"
      ]
     },
     "metadata": {},
     "output_type": "display_data"
    },
    {
     "data": {
      "application/vnd.jupyter.widget-view+json": {
       "model_id": "5c9c1b748fb24c7fa0187c6b9ef06729",
       "version_major": 2,
       "version_minor": 0
      },
      "text/plain": [
       "Output()"
      ]
     },
     "metadata": {},
     "output_type": "display_data"
    }
   ],
   "source": [
    "%%sql\n",
    "set TABLE_NAME=reviews_mor_1"
   ]
  },
  {
   "cell_type": "code",
   "execution_count": 9,
   "id": "ede1910f-d9ad-42cf-8068-4e7b13eac8fe",
   "metadata": {
    "execution": {
     "iopub.execute_input": "2023-03-11T09:16:03.765448Z",
     "iopub.status.busy": "2023-03-11T09:16:03.765160Z",
     "iopub.status.idle": "2023-03-11T09:16:03.772935Z",
     "shell.execute_reply": "2023-03-11T09:16:03.772039Z",
     "shell.execute_reply.started": "2023-03-11T09:16:03.765416Z"
    },
    "tags": []
   },
   "outputs": [
    {
     "name": "stdout",
     "output_type": "stream",
     "text": [
      "env: TABLE_NAME=reviews_mor_1\n"
     ]
    }
   ],
   "source": [
    "%env TABLE_NAME=reviews_mor_1"
   ]
  },
  {
   "cell_type": "markdown",
   "id": "d076084e-20f7-4077-b482-6e50d0af4c9c",
   "metadata": {
    "tags": []
   },
   "source": [
    "### 2.4. Create Table"
   ]
  },
  {
   "cell_type": "code",
   "execution_count": 10,
   "id": "276f4dca-b839-44f4-bf3a-dab576430cec",
   "metadata": {
    "execution": {
     "iopub.execute_input": "2023-03-11T09:16:03.774487Z",
     "iopub.status.busy": "2023-03-11T09:16:03.774112Z",
     "iopub.status.idle": "2023-03-11T09:16:09.918067Z",
     "shell.execute_reply": "2023-03-11T09:16:09.917150Z",
     "shell.execute_reply.started": "2023-03-11T09:16:03.774456Z"
    },
    "tags": []
   },
   "outputs": [],
   "source": [
    "%%sh\n",
    "aws s3 rm s3://${S3_BUCKET}/${TABLE_NAME} --recursive &>/dev/null\n",
    "rm -rf ${WORKSPACE}/${TABLE_NAME}\n",
    "sleep 5"
   ]
  },
  {
   "cell_type": "code",
   "execution_count": 11,
   "id": "6756d9bb-53ba-4713-a0b4-8a2ac104cd27",
   "metadata": {
    "execution": {
     "iopub.execute_input": "2023-03-11T09:16:09.919666Z",
     "iopub.status.busy": "2023-03-11T09:16:09.919394Z",
     "iopub.status.idle": "2023-03-11T09:16:13.256684Z",
     "shell.execute_reply": "2023-03-11T09:16:13.255854Z",
     "shell.execute_reply.started": "2023-03-11T09:16:09.919622Z"
    },
    "tags": []
   },
   "outputs": [
    {
     "data": {
      "application/vnd.jupyter.widget-view+json": {
       "model_id": "",
       "version_major": 2,
       "version_minor": 0
      },
      "text/plain": [
       "FloatProgress(value=0.0, bar_style='info', description='Progress:', layout=Layout(height='25px', width='50%'),…"
      ]
     },
     "metadata": {},
     "output_type": "display_data"
    },
    {
     "data": {
      "text/html": [
       "<style>.jp-OutputArea-child .jupyter-widgets.jp-OutputArea-output { overflow: auto; }</style>"
      ],
      "text/plain": [
       "<IPython.core.display.HTML object>"
      ]
     },
     "metadata": {},
     "output_type": "display_data"
    },
    {
     "data": {
      "application/vnd.jupyter.widget-view+json": {
       "model_id": "db175bc6a5014bc5a9b4165e6c7d2e03",
       "version_major": 2,
       "version_minor": 0
      },
      "text/plain": [
       "VBox(children=(HBox(), EncodingWidget(children=(VBox(children=(HTML(value='Encoding:'), Dropdown(description='…"
      ]
     },
     "metadata": {},
     "output_type": "display_data"
    },
    {
     "data": {
      "application/vnd.jupyter.widget-view+json": {
       "model_id": "761107fdc76645a0aa5cd7ca3d3fb44c",
       "version_major": 2,
       "version_minor": 0
      },
      "text/plain": [
       "Output()"
      ]
     },
     "metadata": {},
     "output_type": "display_data"
    }
   ],
   "source": [
    "%%sql\n",
    "drop table if exists ${TABLE_NAME}"
   ]
  },
  {
   "cell_type": "code",
   "execution_count": 12,
   "id": "8eb4e764-3f34-40fa-81ed-966f47b74074",
   "metadata": {
    "execution": {
     "iopub.execute_input": "2023-03-11T09:16:13.258425Z",
     "iopub.status.busy": "2023-03-11T09:16:13.258095Z",
     "iopub.status.idle": "2023-03-11T09:16:14.098283Z",
     "shell.execute_reply": "2023-03-11T09:16:14.097433Z",
     "shell.execute_reply.started": "2023-03-11T09:16:13.258390Z"
    },
    "tags": []
   },
   "outputs": [
    {
     "data": {
      "application/vnd.jupyter.widget-view+json": {
       "model_id": "",
       "version_major": 2,
       "version_minor": 0
      },
      "text/plain": [
       "FloatProgress(value=0.0, bar_style='info', description='Progress:', layout=Layout(height='25px', width='50%'),…"
      ]
     },
     "metadata": {},
     "output_type": "display_data"
    },
    {
     "data": {
      "text/html": [
       "<style>.jp-OutputArea-child .jupyter-widgets.jp-OutputArea-output { overflow: auto; }</style>"
      ],
      "text/plain": [
       "<IPython.core.display.HTML object>"
      ]
     },
     "metadata": {},
     "output_type": "display_data"
    },
    {
     "data": {
      "application/vnd.jupyter.widget-view+json": {
       "model_id": "86777780e5c64f94a6de2c563f2ccbea",
       "version_major": 2,
       "version_minor": 0
      },
      "text/plain": [
       "VBox(children=(HBox(), EncodingWidget(children=(VBox(children=(HTML(value='Encoding:'), Dropdown(description='…"
      ]
     },
     "metadata": {},
     "output_type": "display_data"
    },
    {
     "data": {
      "application/vnd.jupyter.widget-view+json": {
       "model_id": "23c0150b955f40688eaff071e8cb9015",
       "version_major": 2,
       "version_minor": 0
      },
      "text/plain": [
       "Output()"
      ]
     },
     "metadata": {},
     "output_type": "display_data"
    }
   ],
   "source": [
    "%%sql\n",
    "drop table if exists ${TABLE_NAME}_ro"
   ]
  },
  {
   "cell_type": "code",
   "execution_count": 13,
   "id": "ee5cbe6b-fa70-4bdb-8214-7d24e9d190a9",
   "metadata": {
    "execution": {
     "iopub.execute_input": "2023-03-11T09:16:14.099989Z",
     "iopub.status.busy": "2023-03-11T09:16:14.099622Z",
     "iopub.status.idle": "2023-03-11T09:16:14.926639Z",
     "shell.execute_reply": "2023-03-11T09:16:14.925744Z",
     "shell.execute_reply.started": "2023-03-11T09:16:14.099951Z"
    },
    "tags": []
   },
   "outputs": [
    {
     "data": {
      "application/vnd.jupyter.widget-view+json": {
       "model_id": "",
       "version_major": 2,
       "version_minor": 0
      },
      "text/plain": [
       "FloatProgress(value=0.0, bar_style='info', description='Progress:', layout=Layout(height='25px', width='50%'),…"
      ]
     },
     "metadata": {},
     "output_type": "display_data"
    },
    {
     "data": {
      "text/html": [
       "<style>.jp-OutputArea-child .jupyter-widgets.jp-OutputArea-output { overflow: auto; }</style>"
      ],
      "text/plain": [
       "<IPython.core.display.HTML object>"
      ]
     },
     "metadata": {},
     "output_type": "display_data"
    },
    {
     "data": {
      "application/vnd.jupyter.widget-view+json": {
       "model_id": "e2efc8c5bec94d4f80c8ce7f88520921",
       "version_major": 2,
       "version_minor": 0
      },
      "text/plain": [
       "VBox(children=(HBox(), EncodingWidget(children=(VBox(children=(HTML(value='Encoding:'), Dropdown(description='…"
      ]
     },
     "metadata": {},
     "output_type": "display_data"
    },
    {
     "data": {
      "application/vnd.jupyter.widget-view+json": {
       "model_id": "23a67e354f5e4772b37185062759ef4d",
       "version_major": 2,
       "version_minor": 0
      },
      "text/plain": [
       "Output()"
      ]
     },
     "metadata": {},
     "output_type": "display_data"
    }
   ],
   "source": [
    "%%sql\n",
    "drop table if exists ${TABLE_NAME}_rt"
   ]
  },
  {
   "cell_type": "code",
   "execution_count": 14,
   "id": "fedbcacb-0967-42e2-8999-fc51d84ecf9d",
   "metadata": {
    "execution": {
     "iopub.execute_input": "2023-03-11T09:16:14.928013Z",
     "iopub.status.busy": "2023-03-11T09:16:14.927745Z",
     "iopub.status.idle": "2023-03-11T09:16:18.277413Z",
     "shell.execute_reply": "2023-03-11T09:16:18.276732Z",
     "shell.execute_reply.started": "2023-03-11T09:16:14.927989Z"
    },
    "tags": []
   },
   "outputs": [
    {
     "data": {
      "application/vnd.jupyter.widget-view+json": {
       "model_id": "",
       "version_major": 2,
       "version_minor": 0
      },
      "text/plain": [
       "FloatProgress(value=0.0, bar_style='info', description='Progress:', layout=Layout(height='25px', width='50%'),…"
      ]
     },
     "metadata": {},
     "output_type": "display_data"
    },
    {
     "data": {
      "text/html": [
       "<style>.jp-OutputArea-child .jupyter-widgets.jp-OutputArea-output { overflow: auto; }</style>"
      ],
      "text/plain": [
       "<IPython.core.display.HTML object>"
      ]
     },
     "metadata": {},
     "output_type": "display_data"
    },
    {
     "data": {
      "application/vnd.jupyter.widget-view+json": {
       "model_id": "59e4c73ee0b642219f6a5b10fcbe0253",
       "version_major": 2,
       "version_minor": 0
      },
      "text/plain": [
       "VBox(children=(HBox(), EncodingWidget(children=(VBox(children=(HTML(value='Encoding:'), Dropdown(description='…"
      ]
     },
     "metadata": {},
     "output_type": "display_data"
    },
    {
     "data": {
      "application/vnd.jupyter.widget-view+json": {
       "model_id": "53261494b75b44c28892e22ace6f9a08",
       "version_major": 2,
       "version_minor": 0
      },
      "text/plain": [
       "Output()"
      ]
     },
     "metadata": {},
     "output_type": "display_data"
    }
   ],
   "source": [
    "%%sql\n",
    "create table if not exists ${TABLE_NAME} (\n",
    "    review_id string, \n",
    "    star_rating long, \n",
    "    review_body string, \n",
    "    review_date date, \n",
    "    year long,\n",
    "    timestamp long,\n",
    "    parity int\n",
    ")\n",
    "using hudi\n",
    "location 's3://${S3_BUCKET}/${TABLE_NAME}'\n",
    "partitioned by (parity)\n",
    "options ( \n",
    "    type = 'mor',  \n",
    "    primaryKey = 'review_id', \n",
    "    preCombineField = 'timestamp',\n",
    "    hoodie.copyonwrite.record.size.estimate = '175',\n",
    "    hoodie.compact.inline = 'true',\n",
    "    -- hoodie.compact.schedule.inline = 'false',\n",
    "    hoodie.compact.inline.max.delta.commits = '3',\n",
    "    hoodie.logfile.max.size='262144000'\n",
    ");"
   ]
  },
  {
   "cell_type": "markdown",
   "id": "ff87bfb3-fd90-428a-b44f-d77f12bd109e",
   "metadata": {
    "tags": []
   },
   "source": [
    "### 2.5. Insert 96MB / +1 Base File"
   ]
  },
  {
   "cell_type": "code",
   "execution_count": 15,
   "id": "6d15fc74-9592-439d-b363-77afa4107602",
   "metadata": {
    "execution": {
     "iopub.execute_input": "2023-03-11T09:16:18.278588Z",
     "iopub.status.busy": "2023-03-11T09:16:18.278360Z",
     "iopub.status.idle": "2023-03-11T09:17:17.794972Z",
     "shell.execute_reply": "2023-03-11T09:17:17.794172Z",
     "shell.execute_reply.started": "2023-03-11T09:16:18.278566Z"
    },
    "tags": []
   },
   "outputs": [
    {
     "data": {
      "application/vnd.jupyter.widget-view+json": {
       "model_id": "",
       "version_major": 2,
       "version_minor": 0
      },
      "text/plain": [
       "FloatProgress(value=0.0, bar_style='info', description='Progress:', layout=Layout(height='25px', width='50%'),…"
      ]
     },
     "metadata": {},
     "output_type": "display_data"
    },
    {
     "data": {
      "text/html": [
       "<style>.jp-OutputArea-child .jupyter-widgets.jp-OutputArea-output { overflow: auto; }</style>"
      ],
      "text/plain": [
       "<IPython.core.display.HTML object>"
      ]
     },
     "metadata": {},
     "output_type": "display_data"
    },
    {
     "data": {
      "application/vnd.jupyter.widget-view+json": {
       "model_id": "1063cfc2eca7431ca83181da7df20cfc",
       "version_major": 2,
       "version_minor": 0
      },
      "text/plain": [
       "VBox(children=(HBox(), EncodingWidget(children=(VBox(children=(HTML(value='Encoding:'), Dropdown(description='…"
      ]
     },
     "metadata": {},
     "output_type": "display_data"
    },
    {
     "data": {
      "application/vnd.jupyter.widget-view+json": {
       "model_id": "4c2ae19a9eca4b0fb78407909d21615c",
       "version_major": 2,
       "version_minor": 0
      },
      "text/plain": [
       "Output()"
      ]
     },
     "metadata": {},
     "output_type": "display_data"
    }
   ],
   "source": [
    "%%sql\n",
    "insert into \n",
    "    ${TABLE_NAME}\n",
    "select \n",
    "    review_id, \n",
    "    star_rating, \n",
    "    review_body, \n",
    "    review_date, \n",
    "    year,\n",
    "    unix_timestamp(current_timestamp()) as timestamp,\n",
    "    mod(crc32(review_id), 2) as parity\n",
    "from\n",
    "    reviews\n",
    "where\n",
    "    year = 2003"
   ]
  },
  {
   "cell_type": "code",
   "execution_count": 16,
   "id": "7b9f7588-f444-4032-9641-8f7edb41c574",
   "metadata": {
    "execution": {
     "iopub.execute_input": "2023-03-11T09:17:17.796992Z",
     "iopub.status.busy": "2023-03-11T09:17:17.796271Z",
     "iopub.status.idle": "2023-03-11T09:17:26.484499Z",
     "shell.execute_reply": "2023-03-11T09:17:26.483684Z",
     "shell.execute_reply.started": "2023-03-11T09:17:17.796953Z"
    },
    "tags": []
   },
   "outputs": [
    {
     "name": "stdout",
     "output_type": "stream",
     "text": [
      "\n",
      "[ TIMELINE ]\n",
      "\n",
      "╔═════╤═══════════════════╤═════════════╤═══════════╤═════════════╤═════════════╤═════════════╗\n",
      "║ No. │ Instant           │ Action      │ State     │ Requested   │ Inflight    │ Completed   ║\n",
      "║     │                   │             │           │ Time        │ Time        │ Time        ║\n",
      "╠═════╪═══════════════════╪═════════════╪═══════════╪═════════════╪═════════════╪═════════════╣\n",
      "║ 0   │ 20230311091619357 │ deltacommit │ COMPLETED │ 03-11 09:16 │ 03-11 09:16 │ 03-11 09:17 ║\n",
      "╚═════╧═══════════════════╧═════════════╧═══════════╧═════════════╧═════════════╧═════════════╝\n",
      "\n",
      "[ STORAGE ]\n",
      "\n",
      "/home/emr-notebook/reviews_mor_1\n",
      "├── [ 96M 09:17:26]  parity=0\n",
      "│   └── [ 96M 09:17:05]  3eda247d-4fe6-4234-b6c8-072066145f85-0_0-35-630_20230311091619357.parquet\n",
      "└── [ 96M 09:17:26]  parity=1\n",
      "    └── [ 96M 09:17:05]  4d036de9-687c-401f-bb3f-f213b9949de0-0_1-35-631_20230311091619357.parquet\n",
      "\n",
      " 192M used in 2 directories, 2 files\n"
     ]
    }
   ],
   "source": [
    "%%sh\n",
    "${WORKSPACE}/hudi-stat.sh s3://${S3_BUCKET}/${TABLE_NAME} timeline storage"
   ]
  },
  {
   "cell_type": "markdown",
   "id": "2dab2564-1050-4e85-bd99-29c984427c44",
   "metadata": {
    "tags": []
   },
   "source": [
    "### 2.6. Update 803KB / +1 Log File"
   ]
  },
  {
   "cell_type": "code",
   "execution_count": 17,
   "id": "1ba65f5f-feb3-4242-83c6-bf1ffcf710b5",
   "metadata": {
    "execution": {
     "iopub.execute_input": "2023-03-11T09:17:26.485987Z",
     "iopub.status.busy": "2023-03-11T09:17:26.485742Z",
     "iopub.status.idle": "2023-03-11T09:17:45.929722Z",
     "shell.execute_reply": "2023-03-11T09:17:45.927310Z",
     "shell.execute_reply.started": "2023-03-11T09:17:26.485961Z"
    },
    "tags": []
   },
   "outputs": [
    {
     "data": {
      "application/vnd.jupyter.widget-view+json": {
       "model_id": "",
       "version_major": 2,
       "version_minor": 0
      },
      "text/plain": [
       "FloatProgress(value=0.0, bar_style='info', description='Progress:', layout=Layout(height='25px', width='50%'),…"
      ]
     },
     "metadata": {},
     "output_type": "display_data"
    },
    {
     "data": {
      "text/html": [
       "<style>.jp-OutputArea-child .jupyter-widgets.jp-OutputArea-output { overflow: auto; }</style>"
      ],
      "text/plain": [
       "<IPython.core.display.HTML object>"
      ]
     },
     "metadata": {},
     "output_type": "display_data"
    },
    {
     "data": {
      "application/vnd.jupyter.widget-view+json": {
       "model_id": "78f0d65a29b248168b576bcda3f2d740",
       "version_major": 2,
       "version_minor": 0
      },
      "text/plain": [
       "VBox(children=(HBox(), EncodingWidget(children=(VBox(children=(HTML(value='Encoding:'), Dropdown(description='…"
      ]
     },
     "metadata": {},
     "output_type": "display_data"
    },
    {
     "data": {
      "application/vnd.jupyter.widget-view+json": {
       "model_id": "4f0150ed6e7d444eb96d061a0a3071c3",
       "version_major": 2,
       "version_minor": 0
      },
      "text/plain": [
       "Output()"
      ]
     },
     "metadata": {},
     "output_type": "display_data"
    }
   ],
   "source": [
    "%%sql\n",
    "update\n",
    "    ${TABLE_NAME}\n",
    "set             \n",
    "    review_body = concat(uuid(),uuid(),uuid(),uuid(),uuid(),uuid(),uuid(),uuid(),uuid(),uuid()),\n",
    "    timestamp = unix_timestamp(current_timestamp())\n",
    "where\n",
    "    review_date = '2003-01-01'\n",
    ";"
   ]
  },
  {
   "cell_type": "code",
   "execution_count": 18,
   "id": "3f316646-0db1-4882-ac34-b2e498014279",
   "metadata": {
    "execution": {
     "iopub.execute_input": "2023-03-11T09:17:45.931618Z",
     "iopub.status.busy": "2023-03-11T09:17:45.931243Z",
     "iopub.status.idle": "2023-03-11T09:17:53.877656Z",
     "shell.execute_reply": "2023-03-11T09:17:53.876888Z",
     "shell.execute_reply.started": "2023-03-11T09:17:45.931578Z"
    },
    "tags": []
   },
   "outputs": [
    {
     "name": "stdout",
     "output_type": "stream",
     "text": [
      "\n",
      "[ TIMELINE ]\n",
      "\n",
      "╔═════╤═══════════════════╤═════════════╤═══════════╤═════════════╤═════════════╤═════════════╗\n",
      "║ No. │ Instant           │ Action      │ State     │ Requested   │ Inflight    │ Completed   ║\n",
      "║     │                   │             │           │ Time        │ Time        │ Time        ║\n",
      "╠═════╪═══════════════════╪═════════════╪═══════════╪═════════════╪═════════════╪═════════════╣\n",
      "║ 0   │ 20230311091619357 │ deltacommit │ COMPLETED │ 03-11 09:16 │ 03-11 09:16 │ 03-11 09:17 ║\n",
      "╟─────┼───────────────────┼─────────────┼───────────┼─────────────┼─────────────┼─────────────╢\n",
      "║ 1   │ 20230311091727170 │ deltacommit │ COMPLETED │ 03-11 09:17 │ 03-11 09:17 │ 03-11 09:17 ║\n",
      "╚═════╧═══════════════════╧═════════════╧═══════════╧═════════════╧═════════════╧═════════════╝\n",
      "\n",
      "[ STORAGE ]\n",
      "\n",
      "/home/emr-notebook/reviews_mor_1\n",
      "├── [ 97M 09:17:53]  parity=0\n",
      "│   ├── [804K 09:17:36]  .3eda247d-4fe6-4234-b6c8-072066145f85-0_20230311091619357.log.1_0-83-691\n",
      "│   └── [ 96M 09:17:05]  3eda247d-4fe6-4234-b6c8-072066145f85-0_0-35-630_20230311091619357.parquet\n",
      "└── [ 97M 09:17:53]  parity=1\n",
      "    ├── [797K 09:17:36]  .4d036de9-687c-401f-bb3f-f213b9949de0-0_20230311091619357.log.1_1-83-692\n",
      "    └── [ 96M 09:17:05]  4d036de9-687c-401f-bb3f-f213b9949de0-0_1-35-631_20230311091619357.parquet\n",
      "\n",
      " 193M used in 2 directories, 4 files\n"
     ]
    }
   ],
   "source": [
    "%%sh\n",
    "${WORKSPACE}/hudi-stat.sh s3://${S3_BUCKET}/${TABLE_NAME} timeline storage"
   ]
  },
  {
   "cell_type": "markdown",
   "id": "883d3313-0e0e-4988-a235-bd80f5cbd38b",
   "metadata": {
    "tags": []
   },
   "source": [
    "### 2.7. Update 1.2MB / +1 Log File +1 Base File"
   ]
  },
  {
   "cell_type": "code",
   "execution_count": 19,
   "id": "e5a0f57e-27f0-473c-b834-492504977678",
   "metadata": {
    "execution": {
     "iopub.execute_input": "2023-03-11T09:17:53.879147Z",
     "iopub.status.busy": "2023-03-11T09:17:53.878889Z",
     "iopub.status.idle": "2023-03-11T09:18:41.340237Z",
     "shell.execute_reply": "2023-03-11T09:18:41.339403Z",
     "shell.execute_reply.started": "2023-03-11T09:17:53.879121Z"
    },
    "tags": []
   },
   "outputs": [
    {
     "data": {
      "application/vnd.jupyter.widget-view+json": {
       "model_id": "",
       "version_major": 2,
       "version_minor": 0
      },
      "text/plain": [
       "FloatProgress(value=0.0, bar_style='info', description='Progress:', layout=Layout(height='25px', width='50%'),…"
      ]
     },
     "metadata": {},
     "output_type": "display_data"
    },
    {
     "data": {
      "text/html": [
       "<style>.jp-OutputArea-child .jupyter-widgets.jp-OutputArea-output { overflow: auto; }</style>"
      ],
      "text/plain": [
       "<IPython.core.display.HTML object>"
      ]
     },
     "metadata": {},
     "output_type": "display_data"
    },
    {
     "data": {
      "application/vnd.jupyter.widget-view+json": {
       "model_id": "5b8f133f00654c63ae51c000a7402f1d",
       "version_major": 2,
       "version_minor": 0
      },
      "text/plain": [
       "VBox(children=(HBox(), EncodingWidget(children=(VBox(children=(HTML(value='Encoding:'), Dropdown(description='…"
      ]
     },
     "metadata": {},
     "output_type": "display_data"
    },
    {
     "data": {
      "application/vnd.jupyter.widget-view+json": {
       "model_id": "5df9e259c46c4d879b811b8476ad6b44",
       "version_major": 2,
       "version_minor": 0
      },
      "text/plain": [
       "Output()"
      ]
     },
     "metadata": {},
     "output_type": "display_data"
    }
   ],
   "source": [
    "%%sql\n",
    "update\n",
    "    ${TABLE_NAME}\n",
    "set             \n",
    "    review_body = concat(uuid(),uuid(),uuid(),uuid(),uuid(),uuid(),uuid(),uuid(),uuid(),uuid()),\n",
    "    timestamp = unix_timestamp(current_timestamp())\n",
    "where\n",
    "    review_date = '2003-01-02'\n",
    ";"
   ]
  },
  {
   "cell_type": "code",
   "execution_count": 20,
   "id": "8932df29-2319-494d-9170-39e0041a18bd",
   "metadata": {
    "execution": {
     "iopub.execute_input": "2023-03-11T09:18:41.341673Z",
     "iopub.status.busy": "2023-03-11T09:18:41.341441Z",
     "iopub.status.idle": "2023-03-11T09:18:50.443235Z",
     "shell.execute_reply": "2023-03-11T09:18:50.442261Z",
     "shell.execute_reply.started": "2023-03-11T09:18:41.341651Z"
    },
    "tags": []
   },
   "outputs": [
    {
     "name": "stdout",
     "output_type": "stream",
     "text": [
      "\n",
      "[ TIMELINE ]\n",
      "\n",
      "╔═════╤═══════════════════╤═════════════╤═══════════╤═════════════╤═════════════╤═════════════╗\n",
      "║ No. │ Instant           │ Action      │ State     │ Requested   │ Inflight    │ Completed   ║\n",
      "║     │                   │             │           │ Time        │ Time        │ Time        ║\n",
      "╠═════╪═══════════════════╪═════════════╪═══════════╪═════════════╪═════════════╪═════════════╣\n",
      "║ 0   │ 20230311091619357 │ deltacommit │ COMPLETED │ 03-11 09:16 │ 03-11 09:16 │ 03-11 09:17 ║\n",
      "╟─────┼───────────────────┼─────────────┼───────────┼─────────────┼─────────────┼─────────────╢\n",
      "║ 1   │ 20230311091727170 │ deltacommit │ COMPLETED │ 03-11 09:17 │ 03-11 09:17 │ 03-11 09:17 ║\n",
      "╟─────┼───────────────────┼─────────────┼───────────┼─────────────┼─────────────┼─────────────╢\n",
      "║ 2   │ 20230311091754440 │ deltacommit │ COMPLETED │ 03-11 09:17 │ 03-11 09:18 │ 03-11 09:18 ║\n",
      "╟─────┼───────────────────┼─────────────┼───────────┼─────────────┼─────────────┼─────────────╢\n",
      "║ 3   │ 20230311091809368 │ commit      │ COMPLETED │ 03-11 09:18 │ 03-11 09:18 │ 03-11 09:18 ║\n",
      "╚═════╧═══════════════════╧═════════════╧═══════════╧═════════════╧═════════════╧═════════════╝\n",
      "\n",
      "[ STORAGE ]\n",
      "\n",
      "/home/emr-notebook/reviews_mor_1\n",
      "├── [194M 09:18:50]  parity=0\n",
      "│   ├── [804K 09:17:36]  .3eda247d-4fe6-4234-b6c8-072066145f85-0_20230311091619357.log.1_0-83-691\n",
      "│   ├── [1.2M 09:18:03]  .3eda247d-4fe6-4234-b6c8-072066145f85-0_20230311091619357.log.2_0-131-752\n",
      "│   ├── [ 96M 09:18:34]  3eda247d-4fe6-4234-b6c8-072066145f85-0_0-154-773_20230311091809368.parquet\n",
      "│   └── [ 96M 09:17:05]  3eda247d-4fe6-4234-b6c8-072066145f85-0_0-35-630_20230311091619357.parquet\n",
      "└── [194M 09:18:50]  parity=1\n",
      "    ├── [797K 09:17:36]  .4d036de9-687c-401f-bb3f-f213b9949de0-0_20230311091619357.log.1_1-83-692\n",
      "    ├── [1.1M 09:18:03]  .4d036de9-687c-401f-bb3f-f213b9949de0-0_20230311091619357.log.2_1-131-753\n",
      "    ├── [ 96M 09:18:34]  4d036de9-687c-401f-bb3f-f213b9949de0-0_1-154-774_20230311091809368.parquet\n",
      "    └── [ 96M 09:17:05]  4d036de9-687c-401f-bb3f-f213b9949de0-0_1-35-631_20230311091619357.parquet\n",
      "\n",
      " 388M used in 2 directories, 8 files\n"
     ]
    }
   ],
   "source": [
    "%%sh\n",
    "${WORKSPACE}/hudi-stat.sh s3://${S3_BUCKET}/${TABLE_NAME} timeline storage"
   ]
  },
  {
   "cell_type": "markdown",
   "id": "c5da2355-f57c-420b-a2a0-6f1602e07e09",
   "metadata": {
    "tags": []
   },
   "source": [
    "### 2.8. Update 307MB / +1 Log File +1 Max Log File"
   ]
  },
  {
   "cell_type": "code",
   "execution_count": 21,
   "id": "c71e399e-7954-4461-940b-e490c0edd846",
   "metadata": {
    "execution": {
     "iopub.execute_input": "2023-03-11T09:18:50.445565Z",
     "iopub.status.busy": "2023-03-11T09:18:50.445203Z",
     "iopub.status.idle": "2023-03-11T09:20:00.015176Z",
     "shell.execute_reply": "2023-03-11T09:20:00.014318Z",
     "shell.execute_reply.started": "2023-03-11T09:18:50.445522Z"
    },
    "tags": []
   },
   "outputs": [
    {
     "data": {
      "application/vnd.jupyter.widget-view+json": {
       "model_id": "",
       "version_major": 2,
       "version_minor": 0
      },
      "text/plain": [
       "FloatProgress(value=0.0, bar_style='info', description='Progress:', layout=Layout(height='25px', width='50%'),…"
      ]
     },
     "metadata": {},
     "output_type": "display_data"
    },
    {
     "data": {
      "text/html": [
       "<style>.jp-OutputArea-child .jupyter-widgets.jp-OutputArea-output { overflow: auto; }</style>"
      ],
      "text/plain": [
       "<IPython.core.display.HTML object>"
      ]
     },
     "metadata": {},
     "output_type": "display_data"
    },
    {
     "data": {
      "application/vnd.jupyter.widget-view+json": {
       "model_id": "38b82b341e1745cf9d997675015d40f6",
       "version_major": 2,
       "version_minor": 0
      },
      "text/plain": [
       "VBox(children=(HBox(), EncodingWidget(children=(VBox(children=(HTML(value='Encoding:'), Dropdown(description='…"
      ]
     },
     "metadata": {},
     "output_type": "display_data"
    },
    {
     "data": {
      "application/vnd.jupyter.widget-view+json": {
       "model_id": "39a2b300a2154c9f8df24926019a1fbb",
       "version_major": 2,
       "version_minor": 0
      },
      "text/plain": [
       "Output()"
      ]
     },
     "metadata": {},
     "output_type": "display_data"
    }
   ],
   "source": [
    "%%sql\n",
    "update\n",
    "    ${TABLE_NAME}\n",
    "set             \n",
    "    review_body = concat(uuid(),uuid(),uuid(),uuid(),uuid(),uuid(),uuid(),uuid(),uuid(),uuid()),\n",
    "    timestamp = unix_timestamp(current_timestamp())\n",
    ";"
   ]
  },
  {
   "cell_type": "code",
   "execution_count": 22,
   "id": "87e7e610-b67e-49ab-83d1-7804d15d66dd",
   "metadata": {
    "execution": {
     "iopub.execute_input": "2023-03-11T09:20:00.016468Z",
     "iopub.status.busy": "2023-03-11T09:20:00.016243Z",
     "iopub.status.idle": "2023-03-11T09:20:11.170982Z",
     "shell.execute_reply": "2023-03-11T09:20:11.170170Z",
     "shell.execute_reply.started": "2023-03-11T09:20:00.016446Z"
    },
    "tags": []
   },
   "outputs": [
    {
     "name": "stdout",
     "output_type": "stream",
     "text": [
      "\n",
      "[ TIMELINE ]\n",
      "\n",
      "╔═════╤═══════════════════╤═════════════╤═══════════╤═════════════╤═════════════╤═════════════╗\n",
      "║ No. │ Instant           │ Action      │ State     │ Requested   │ Inflight    │ Completed   ║\n",
      "║     │                   │             │           │ Time        │ Time        │ Time        ║\n",
      "╠═════╪═══════════════════╪═════════════╪═══════════╪═════════════╪═════════════╪═════════════╣\n",
      "║ 0   │ 20230311091619357 │ deltacommit │ COMPLETED │ 03-11 09:16 │ 03-11 09:16 │ 03-11 09:17 ║\n",
      "╟─────┼───────────────────┼─────────────┼───────────┼─────────────┼─────────────┼─────────────╢\n",
      "║ 1   │ 20230311091727170 │ deltacommit │ COMPLETED │ 03-11 09:17 │ 03-11 09:17 │ 03-11 09:17 ║\n",
      "╟─────┼───────────────────┼─────────────┼───────────┼─────────────┼─────────────┼─────────────╢\n",
      "║ 2   │ 20230311091754440 │ deltacommit │ COMPLETED │ 03-11 09:17 │ 03-11 09:18 │ 03-11 09:18 ║\n",
      "╟─────┼───────────────────┼─────────────┼───────────┼─────────────┼─────────────┼─────────────╢\n",
      "║ 3   │ 20230311091809368 │ commit      │ COMPLETED │ 03-11 09:18 │ 03-11 09:18 │ 03-11 09:18 ║\n",
      "╟─────┼───────────────────┼─────────────┼───────────┼─────────────┼─────────────┼─────────────╢\n",
      "║ 4   │ 20230311091851316 │ deltacommit │ COMPLETED │ 03-11 09:18 │ 03-11 09:19 │ 03-11 09:19 ║\n",
      "╚═════╧═══════════════════╧═════════════╧═══════════╧═════════════╧═════════════╧═════════════╝\n",
      "\n",
      "[ STORAGE ]\n",
      "\n",
      "/home/emr-notebook/reviews_mor_1\n",
      "├── [500M 09:20:10]  parity=0\n",
      "│   ├── [804K 09:17:36]  .3eda247d-4fe6-4234-b6c8-072066145f85-0_20230311091619357.log.1_0-83-691\n",
      "│   ├── [1.2M 09:18:03]  .3eda247d-4fe6-4234-b6c8-072066145f85-0_20230311091619357.log.2_0-131-752\n",
      "│   ├── [268M 09:19:43]  .3eda247d-4fe6-4234-b6c8-072066145f85-0_20230311091809368.log.1_0-196-833\n",
      "│   ├── [ 39M 09:19:48]  .3eda247d-4fe6-4234-b6c8-072066145f85-0_20230311091809368.log.2_0-196-833\n",
      "│   ├── [ 96M 09:18:34]  3eda247d-4fe6-4234-b6c8-072066145f85-0_0-154-773_20230311091809368.parquet\n",
      "│   └── [ 96M 09:17:05]  3eda247d-4fe6-4234-b6c8-072066145f85-0_0-35-630_20230311091619357.parquet\n",
      "└── [501M 09:20:11]  parity=1\n",
      "    ├── [797K 09:17:36]  .4d036de9-687c-401f-bb3f-f213b9949de0-0_20230311091619357.log.1_1-83-692\n",
      "    ├── [1.1M 09:18:03]  .4d036de9-687c-401f-bb3f-f213b9949de0-0_20230311091619357.log.2_1-131-753\n",
      "    ├── [268M 09:19:43]  .4d036de9-687c-401f-bb3f-f213b9949de0-0_20230311091809368.log.1_1-196-834\n",
      "    ├── [ 39M 09:19:48]  .4d036de9-687c-401f-bb3f-f213b9949de0-0_20230311091809368.log.2_1-196-834\n",
      "    ├── [ 96M 09:18:34]  4d036de9-687c-401f-bb3f-f213b9949de0-0_1-154-774_20230311091809368.parquet\n",
      "    └── [ 96M 09:17:05]  4d036de9-687c-401f-bb3f-f213b9949de0-0_1-35-631_20230311091619357.parquet\n",
      "\n",
      " 1001M used in 2 directories, 12 files\n"
     ]
    }
   ],
   "source": [
    "%%sh\n",
    "${WORKSPACE}/hudi-stat.sh s3://${S3_BUCKET}/${TABLE_NAME} timeline storage"
   ]
  }
 ],
 "metadata": {
  "kernelspec": {
   "display_name": "Spark",
   "language": "scala",
   "name": "sparkkernel"
  },
  "language_info": {
   "codemirror_mode": "text/x-scala",
   "file_extension": ".sc",
   "mimetype": "text/x-scala",
   "name": "scala",
   "pygments_lexer": "scala"
  }
 },
 "nbformat": 4,
 "nbformat_minor": 5
}
