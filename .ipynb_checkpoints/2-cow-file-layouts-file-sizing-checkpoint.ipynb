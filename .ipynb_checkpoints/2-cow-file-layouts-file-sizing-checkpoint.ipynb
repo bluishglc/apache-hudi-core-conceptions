{
 "cells": [
  {
   "cell_type": "markdown",
   "id": "44288d4b-1602-44ad-9881-f0e510a30d76",
   "metadata": {
    "tags": []
   },
   "source": [
    "# Apache Hudi Core Conceptions (2) - COW: File Layouts & File Sizing"
   ]
  },
  {
   "cell_type": "markdown",
   "id": "0c53ac40-4d0b-46c7-88ee-a94345a0130f",
   "metadata": {},
   "source": [
    "*Author: [Laurence Geng](https://laurence.blog.csdn.net) @ [https://laurence.blog.csdn.net](https://laurence.blog.csdn.net)*"
   ]
  },
  {
   "cell_type": "markdown",
   "id": "3d6261e3-fa15-410d-8472-29dd02f86b10",
   "metadata": {
    "tags": []
   },
   "source": [
    "## 1. Configuration"
   ]
  },
  {
   "cell_type": "code",
   "execution_count": 1,
   "id": "ce9885ac-50fe-4929-9b0d-85ff33f2cbcd",
   "metadata": {
    "execution": {
     "iopub.execute_input": "2023-03-11T09:22:23.448559Z",
     "iopub.status.busy": "2023-03-11T09:22:23.448253Z",
     "iopub.status.idle": "2023-03-11T09:22:27.784814Z",
     "shell.execute_reply": "2023-03-11T09:22:27.783340Z",
     "shell.execute_reply.started": "2023-03-11T09:22:23.448532Z"
    },
    "tags": []
   },
   "outputs": [
    {
     "name": "stdout",
     "output_type": "stream",
     "text": [
      "-rw-r--r--   1 emr-notebook hdfsadmingroup   61421977 2023-03-11 09:22 /tmp/hudi-spark-bundle.jar\n"
     ]
    }
   ],
   "source": [
    "%%sh\n",
    "# deploy hudi bundle jar\n",
    "hdfs dfs -copyFromLocal -f /usr/lib/hudi/hudi-spark-bundle.jar /tmp/hudi-spark-bundle.jar\n",
    "hdfs dfs -ls /tmp/hudi-spark-bundle.jar"
   ]
  },
  {
   "cell_type": "code",
   "execution_count": 2,
   "id": "57b9edaf-90a7-4b7c-b072-bc8c50c2e045",
   "metadata": {
    "execution": {
     "iopub.execute_input": "2023-03-11T09:22:27.786988Z",
     "iopub.status.busy": "2023-03-11T09:22:27.786624Z",
     "iopub.status.idle": "2023-03-11T09:22:27.846056Z",
     "shell.execute_reply": "2023-03-11T09:22:27.845135Z",
     "shell.execute_reply.started": "2023-03-11T09:22:27.786947Z"
    },
    "tags": []
   },
   "outputs": [
    {
     "data": {
      "text/html": [
       "Current session configs: <tt>{'conf': {'spark.jars': 'hdfs:///tmp/hudi-spark-bundle.jar', 'spark.serializer': 'org.apache.spark.serializer.KryoSerializer', 'spark.sql.extensions': 'org.apache.spark.sql.hudi.HoodieSparkSessionExtension', 'spark.sql.catalog.spark_catalog': 'org.apache.spark.sql.hudi.catalog.HoodieCatalog'}, 'proxyUser': 'user_bluishglc', 'kind': 'spark'}</tt><br>"
      ],
      "text/plain": [
       "<IPython.core.display.HTML object>"
      ]
     },
     "metadata": {},
     "output_type": "display_data"
    },
    {
     "data": {
      "text/html": [
       "<table>\n<tbody><tr><th>ID</th><th>YARN Application ID</th><th>Kind</th><th>State</th><th>Spark UI</th><th>Driver log</th><th>User</th><th>Current session?</th></tr><tr><td>63</td><td>application_1678096020253_0095</td><td>spark</td><td>idle</td><td><a target=\"_blank\" href=\"http://ip-10-0-129-209.ec2.internal:20888/proxy/application_1678096020253_0095/\" class=\"emr-proxy-link j-6V65AY8X5VHR application_1678096020253_0095\" emr-resource=\"j-6V65AY8X5VHR\n\" application-id=\"application_1678096020253_0095\">Link</a></td><td><a target=\"_blank\" href=\"http://ip-10-0-132-108.ec2.internal:8042/node/containerlogs/container_1678096020253_0095_01_000001/livy\">Link</a></td><td>None</td><td></td></tr><tr><td>64</td><td>application_1678096020253_0096</td><td>spark</td><td>idle</td><td><a target=\"_blank\" href=\"http://ip-10-0-129-209.ec2.internal:20888/proxy/application_1678096020253_0096/\" class=\"emr-proxy-link j-6V65AY8X5VHR application_1678096020253_0096\" emr-resource=\"j-6V65AY8X5VHR\n\" application-id=\"application_1678096020253_0096\">Link</a></td><td><a target=\"_blank\" href=\"http://ip-10-0-132-108.ec2.internal:8042/node/containerlogs/container_1678096020253_0096_01_000001/livy\">Link</a></td><td>None</td><td></td></tr><tr><td>66</td><td>application_1678096020253_0098</td><td>spark</td><td>idle</td><td><a target=\"_blank\" href=\"http://ip-10-0-129-209.ec2.internal:20888/proxy/application_1678096020253_0098/\" class=\"emr-proxy-link j-6V65AY8X5VHR application_1678096020253_0098\" emr-resource=\"j-6V65AY8X5VHR\n\" application-id=\"application_1678096020253_0098\">Link</a></td><td><a target=\"_blank\" href=\"http://ip-10-0-132-108.ec2.internal:8042/node/containerlogs/container_1678096020253_0098_01_000001/livy\">Link</a></td><td>None</td><td></td></tr></tbody></table>"
      ],
      "text/plain": [
       "<IPython.core.display.HTML object>"
      ]
     },
     "metadata": {},
     "output_type": "display_data"
    }
   ],
   "source": [
    "%%configure -f\n",
    "{\n",
    "    \"conf\" : {\n",
    "        \"spark.jars\":\"hdfs:///tmp/hudi-spark-bundle.jar\",            \n",
    "        \"spark.serializer\":\"org.apache.spark.serializer.KryoSerializer\",\n",
    "        \"spark.sql.extensions\":\"org.apache.spark.sql.hudi.HoodieSparkSessionExtension\",\n",
    "        \"spark.sql.catalog.spark_catalog\":\"org.apache.spark.sql.hudi.catalog.HoodieCatalog\"\n",
    "    }\n",
    "}"
   ]
  },
  {
   "cell_type": "code",
   "execution_count": 3,
   "id": "8facfe6d-f3b3-4000-acf2-b567881ee59e",
   "metadata": {
    "execution": {
     "iopub.execute_input": "2023-03-11T09:22:27.849774Z",
     "iopub.status.busy": "2023-03-11T09:22:27.849499Z",
     "iopub.status.idle": "2023-03-11T09:22:27.855286Z",
     "shell.execute_reply": "2023-03-11T09:22:27.854286Z",
     "shell.execute_reply.started": "2023-03-11T09:22:27.849749Z"
    },
    "tags": []
   },
   "outputs": [
    {
     "name": "stdout",
     "output_type": "stream",
     "text": [
      "env: S3_BUCKET=apache-hudi-core-conceptions\n"
     ]
    }
   ],
   "source": [
    "%env S3_BUCKET=apache-hudi-core-conceptions"
   ]
  },
  {
   "cell_type": "code",
   "execution_count": 4,
   "id": "51017d2a-0b23-4c2d-bad8-652a73de9e60",
   "metadata": {
    "execution": {
     "iopub.execute_input": "2023-03-11T09:22:27.857960Z",
     "iopub.status.busy": "2023-03-11T09:22:27.857395Z",
     "iopub.status.idle": "2023-03-11T09:22:59.437969Z",
     "shell.execute_reply": "2023-03-11T09:22:59.437195Z",
     "shell.execute_reply.started": "2023-03-11T09:22:27.857921Z"
    },
    "tags": []
   },
   "outputs": [
    {
     "name": "stdout",
     "output_type": "stream",
     "text": [
      "Starting Spark application\n"
     ]
    },
    {
     "data": {
      "text/html": [
       "<table>\n<tbody><tr><th>ID</th><th>YARN Application ID</th><th>Kind</th><th>State</th><th>Spark UI</th><th>Driver log</th><th>User</th><th>Current session?</th></tr><tr><td>67</td><td>application_1678096020253_0099</td><td>spark</td><td>idle</td><td><a target=\"_blank\" href=\"http://ip-10-0-129-209.ec2.internal:20888/proxy/application_1678096020253_0099/\" class=\"emr-proxy-link j-6V65AY8X5VHR application_1678096020253_0099\" emr-resource=\"j-6V65AY8X5VHR\n\" application-id=\"application_1678096020253_0099\">Link</a></td><td><a target=\"_blank\" href=\"http://ip-10-0-132-108.ec2.internal:8042/node/containerlogs/container_1678096020253_0099_01_000001/livy\">Link</a></td><td>None</td><td>✔</td></tr></tbody></table>"
      ],
      "text/plain": [
       "<IPython.core.display.HTML object>"
      ]
     },
     "metadata": {},
     "output_type": "display_data"
    },
    {
     "data": {
      "application/vnd.jupyter.widget-view+json": {
       "model_id": "",
       "version_major": 2,
       "version_minor": 0
      },
      "text/plain": [
       "FloatProgress(value=0.0, bar_style='info', description='Progress:', layout=Layout(height='25px', width='50%'),…"
      ]
     },
     "metadata": {},
     "output_type": "display_data"
    },
    {
     "name": "stdout",
     "output_type": "stream",
     "text": [
      "SparkSession available as 'spark'.\n"
     ]
    },
    {
     "data": {
      "application/vnd.jupyter.widget-view+json": {
       "model_id": "",
       "version_major": 2,
       "version_minor": 0
      },
      "text/plain": [
       "FloatProgress(value=0.0, bar_style='info', description='Progress:', layout=Layout(height='25px', width='50%'),…"
      ]
     },
     "metadata": {},
     "output_type": "display_data"
    },
    {
     "data": {
      "text/html": [
       "<style>.jp-OutputArea-child .jupyter-widgets.jp-OutputArea-output { overflow: auto; }</style>"
      ],
      "text/plain": [
       "<IPython.core.display.HTML object>"
      ]
     },
     "metadata": {},
     "output_type": "display_data"
    },
    {
     "data": {
      "application/vnd.jupyter.widget-view+json": {
       "model_id": "d178c48e36654b9cbf39e34c899dd15e",
       "version_major": 2,
       "version_minor": 0
      },
      "text/plain": [
       "VBox(children=(HBox(children=(HTML(value='Type:'), Button(description='Table', layout=Layout(width='70px'), st…"
      ]
     },
     "metadata": {},
     "output_type": "display_data"
    },
    {
     "data": {
      "application/vnd.jupyter.widget-view+json": {
       "model_id": "0c1efb650b9844bea95a32a036ad7a84",
       "version_major": 2,
       "version_minor": 0
      },
      "text/plain": [
       "Output()"
      ]
     },
     "metadata": {},
     "output_type": "display_data"
    }
   ],
   "source": [
    "%%sql\n",
    "set S3_BUCKET=apache-hudi-core-conceptions"
   ]
  },
  {
   "cell_type": "code",
   "execution_count": 5,
   "id": "a21ec2e4-486d-4952-af27-fcf56be0db14",
   "metadata": {
    "execution": {
     "iopub.execute_input": "2023-03-11T09:22:59.439323Z",
     "iopub.status.busy": "2023-03-11T09:22:59.438984Z",
     "iopub.status.idle": "2023-03-11T09:22:59.443881Z",
     "shell.execute_reply": "2023-03-11T09:22:59.443073Z",
     "shell.execute_reply.started": "2023-03-11T09:22:59.439298Z"
    },
    "tags": []
   },
   "outputs": [
    {
     "name": "stdout",
     "output_type": "stream",
     "text": [
      "env: WORKSPACE=/home/emr-notebook/apache-hudi-core-conceptions\n"
     ]
    }
   ],
   "source": [
    "%env WORKSPACE=/home/emr-notebook/apache-hudi-core-conceptions"
   ]
  },
  {
   "cell_type": "code",
   "execution_count": 6,
   "id": "3055ecc0-e6ef-4c8f-99f9-0c5b5a6c1c1d",
   "metadata": {
    "execution": {
     "iopub.execute_input": "2023-03-11T09:22:59.445159Z",
     "iopub.status.busy": "2023-03-11T09:22:59.444933Z",
     "iopub.status.idle": "2023-03-11T09:22:59.552211Z",
     "shell.execute_reply": "2023-03-11T09:22:59.551300Z",
     "shell.execute_reply.started": "2023-03-11T09:22:59.445137Z"
    },
    "tags": []
   },
   "outputs": [
    {
     "name": "stdout",
     "output_type": "stream",
     "text": [
      "/home/emr-notebook/apache-hudi-core-conceptions/hudi-stat.sh\n"
     ]
    }
   ],
   "source": [
    "%%sh\n",
    "# make workspace\n",
    "mkdir -p $WORKSPACE\n",
    "# deploy hudi-stat.sh, a utility shell script to output hudi table status\n",
    "wget https://raw.githubusercontent.com/bluishglc/apache-hudi-core-conceptions/master/hudi-stat.sh -O $WORKSPACE/hudi-stat.sh &>/dev/null\n",
    "chmod a+x $WORKSPACE/hudi-stat.sh\n",
    "ls $WORKSPACE/hudi-stat.sh"
   ]
  },
  {
   "cell_type": "code",
   "execution_count": 7,
   "id": "6bb44084-8afe-47fe-9454-b5a496275808",
   "metadata": {
    "execution": {
     "iopub.execute_input": "2023-03-11T09:22:59.553888Z",
     "iopub.status.busy": "2023-03-11T09:22:59.553617Z",
     "iopub.status.idle": "2023-03-11T09:22:59.559483Z",
     "shell.execute_reply": "2023-03-11T09:22:59.558718Z",
     "shell.execute_reply.started": "2023-03-11T09:22:59.553863Z"
    },
    "tags": []
   },
   "outputs": [
    {
     "data": {
      "text/html": [
       "<style>\n",
       "table {float:left}\n",
       "</style>\n"
      ],
      "text/plain": [
       "<IPython.core.display.HTML object>"
      ]
     },
     "metadata": {},
     "output_type": "display_data"
    }
   ],
   "source": [
    "%%html\n",
    "<style>\n",
    "table {float:left}\n",
    "</style>"
   ]
  },
  {
   "cell_type": "markdown",
   "id": "00bdc485-3043-484c-8603-0e630184d445",
   "metadata": {
    "tags": []
   },
   "source": [
    "## 2. Test Case 1 - COW File Layouts"
   ]
  },
  {
   "cell_type": "markdown",
   "id": "2199ea90-bd54-4c74-8b16-98f60f1968b3",
   "metadata": {
    "jp-MarkdownHeadingCollapsed": true,
    "tags": []
   },
   "source": [
    "### 2.1. Test Plan\n",
    "\n",
    "Step No.|Action|Volume Per Partition |Storage\n",
    ":--------:|:------|:------|:----------\n",
    "1|Insert|96MB|+5 Small Files\n",
    "2|Insert|14.6MB|+1 Big File\n",
    "3|Insert|3.7MB|+1 Small File\n",
    "4|Insert|188.5MB|+1 Big File, +1 Small File"
   ]
  },
  {
   "cell_type": "markdown",
   "id": "6efd4afb-6bfe-4f77-9928-ade6054fa20b",
   "metadata": {
    "tags": []
   },
   "source": [
    "### 2.2. Key Settings\n",
    "\n",
    "KEY|DEFAULT VALUE|SET VALUE\n",
    ":---|:---|:---\n",
    "hoodie.parquet.max.file.size|125829120 ( 120MB )|Default Value\n",
    "hoodie.parquet.small.file.limit|104857600 ( 100MB )|Default Value\n",
    "hoodie.copyonwrite.record.size.estimate|1024|175"
   ]
  },
  {
   "cell_type": "markdown",
   "id": "992230f3-5f68-4a33-954c-3e1e6e120f06",
   "metadata": {
    "execution": {
     "iopub.execute_input": "2023-02-25T02:57:45.037101Z",
     "iopub.status.busy": "2023-02-25T02:57:45.036681Z",
     "iopub.status.idle": "2023-02-25T02:58:07.353493Z",
     "shell.execute_reply": "2023-02-25T02:58:07.352596Z",
     "shell.execute_reply.started": "2023-02-25T02:57:45.037060Z"
    },
    "tags": []
   },
   "source": [
    "### 2.3. Set Variables"
   ]
  },
  {
   "cell_type": "code",
   "execution_count": 8,
   "id": "63bf2e47-d172-4f81-949c-2b46c408e99e",
   "metadata": {
    "execution": {
     "iopub.execute_input": "2023-03-11T09:22:59.563769Z",
     "iopub.status.busy": "2023-03-11T09:22:59.563338Z",
     "iopub.status.idle": "2023-03-11T09:23:00.521526Z",
     "shell.execute_reply": "2023-03-11T09:23:00.520796Z",
     "shell.execute_reply.started": "2023-03-11T09:22:59.563709Z"
    },
    "tags": []
   },
   "outputs": [
    {
     "data": {
      "application/vnd.jupyter.widget-view+json": {
       "model_id": "",
       "version_major": 2,
       "version_minor": 0
      },
      "text/plain": [
       "FloatProgress(value=0.0, bar_style='info', description='Progress:', layout=Layout(height='25px', width='50%'),…"
      ]
     },
     "metadata": {},
     "output_type": "display_data"
    },
    {
     "data": {
      "text/html": [
       "<style>.jp-OutputArea-child .jupyter-widgets.jp-OutputArea-output { overflow: auto; }</style>"
      ],
      "text/plain": [
       "<IPython.core.display.HTML object>"
      ]
     },
     "metadata": {},
     "output_type": "display_data"
    },
    {
     "data": {
      "application/vnd.jupyter.widget-view+json": {
       "model_id": "4978de74844f4a4596dc2129057ef29e",
       "version_major": 2,
       "version_minor": 0
      },
      "text/plain": [
       "VBox(children=(HBox(children=(HTML(value='Type:'), Button(description='Table', layout=Layout(width='70px'), st…"
      ]
     },
     "metadata": {},
     "output_type": "display_data"
    },
    {
     "data": {
      "application/vnd.jupyter.widget-view+json": {
       "model_id": "93efd17afdc04499be318dafa62ef986",
       "version_major": 2,
       "version_minor": 0
      },
      "text/plain": [
       "Output()"
      ]
     },
     "metadata": {},
     "output_type": "display_data"
    }
   ],
   "source": [
    "%%sql\n",
    "set TABLE_NAME=reviews_cow_1"
   ]
  },
  {
   "cell_type": "code",
   "execution_count": 9,
   "id": "3cb3dd19-a55e-4ebd-ab6d-cb1c2cdef2b3",
   "metadata": {
    "execution": {
     "iopub.execute_input": "2023-03-11T09:23:00.523621Z",
     "iopub.status.busy": "2023-03-11T09:23:00.523309Z",
     "iopub.status.idle": "2023-03-11T09:23:00.529644Z",
     "shell.execute_reply": "2023-03-11T09:23:00.528626Z",
     "shell.execute_reply.started": "2023-03-11T09:23:00.523594Z"
    },
    "tags": []
   },
   "outputs": [
    {
     "name": "stdout",
     "output_type": "stream",
     "text": [
      "env: TABLE_NAME=reviews_cow_1\n"
     ]
    }
   ],
   "source": [
    "%env TABLE_NAME=reviews_cow_1"
   ]
  },
  {
   "cell_type": "markdown",
   "id": "0ba3031f-f92c-486d-a0de-3f141410f2bf",
   "metadata": {},
   "source": [
    "### 2.4. Create Table"
   ]
  },
  {
   "cell_type": "code",
   "execution_count": 10,
   "id": "bdcd022c-8a54-463d-9f3e-fbfb92969328",
   "metadata": {
    "execution": {
     "iopub.execute_input": "2023-03-11T09:23:00.531213Z",
     "iopub.status.busy": "2023-03-11T09:23:00.530904Z",
     "iopub.status.idle": "2023-03-11T09:23:06.655523Z",
     "shell.execute_reply": "2023-03-11T09:23:06.654613Z",
     "shell.execute_reply.started": "2023-03-11T09:23:00.531187Z"
    },
    "tags": []
   },
   "outputs": [],
   "source": [
    "%%sh\n",
    "aws s3 rm s3://${S3_BUCKET}/${TABLE_NAME} --recursive &>/dev/null\n",
    "rm -rf ${WORKSPACE}/${TABLE_NAME}\n",
    "sleep 5"
   ]
  },
  {
   "cell_type": "code",
   "execution_count": 11,
   "id": "2dd45b7f-cce2-4aec-99ec-7359d6d060e7",
   "metadata": {
    "execution": {
     "iopub.execute_input": "2023-03-11T09:23:06.657106Z",
     "iopub.status.busy": "2023-03-11T09:23:06.656856Z",
     "iopub.status.idle": "2023-03-11T09:23:09.997324Z",
     "shell.execute_reply": "2023-03-11T09:23:09.996472Z",
     "shell.execute_reply.started": "2023-03-11T09:23:06.657081Z"
    },
    "tags": []
   },
   "outputs": [
    {
     "data": {
      "application/vnd.jupyter.widget-view+json": {
       "model_id": "",
       "version_major": 2,
       "version_minor": 0
      },
      "text/plain": [
       "FloatProgress(value=0.0, bar_style='info', description='Progress:', layout=Layout(height='25px', width='50%'),…"
      ]
     },
     "metadata": {},
     "output_type": "display_data"
    },
    {
     "data": {
      "text/html": [
       "<style>.jp-OutputArea-child .jupyter-widgets.jp-OutputArea-output { overflow: auto; }</style>"
      ],
      "text/plain": [
       "<IPython.core.display.HTML object>"
      ]
     },
     "metadata": {},
     "output_type": "display_data"
    },
    {
     "data": {
      "application/vnd.jupyter.widget-view+json": {
       "model_id": "cdbbddb9bbd3455e8325d9ceae2f4c87",
       "version_major": 2,
       "version_minor": 0
      },
      "text/plain": [
       "VBox(children=(HBox(), EncodingWidget(children=(VBox(children=(HTML(value='Encoding:'), Dropdown(description='…"
      ]
     },
     "metadata": {},
     "output_type": "display_data"
    },
    {
     "data": {
      "application/vnd.jupyter.widget-view+json": {
       "model_id": "6fbc67243d544ff895ea02c9c29dabee",
       "version_major": 2,
       "version_minor": 0
      },
      "text/plain": [
       "Output()"
      ]
     },
     "metadata": {},
     "output_type": "display_data"
    }
   ],
   "source": [
    "%%sql\n",
    "drop table if exists ${TABLE_NAME}"
   ]
  },
  {
   "cell_type": "code",
   "execution_count": 12,
   "id": "f740f107-0ab8-46b7-bdd3-206571a40c09",
   "metadata": {
    "execution": {
     "iopub.execute_input": "2023-03-11T09:23:09.999045Z",
     "iopub.status.busy": "2023-03-11T09:23:09.998693Z",
     "iopub.status.idle": "2023-03-11T09:23:13.348925Z",
     "shell.execute_reply": "2023-03-11T09:23:13.348163Z",
     "shell.execute_reply.started": "2023-03-11T09:23:09.999008Z"
    },
    "tags": []
   },
   "outputs": [
    {
     "data": {
      "application/vnd.jupyter.widget-view+json": {
       "model_id": "",
       "version_major": 2,
       "version_minor": 0
      },
      "text/plain": [
       "FloatProgress(value=0.0, bar_style='info', description='Progress:', layout=Layout(height='25px', width='50%'),…"
      ]
     },
     "metadata": {},
     "output_type": "display_data"
    },
    {
     "data": {
      "text/html": [
       "<style>.jp-OutputArea-child .jupyter-widgets.jp-OutputArea-output { overflow: auto; }</style>"
      ],
      "text/plain": [
       "<IPython.core.display.HTML object>"
      ]
     },
     "metadata": {},
     "output_type": "display_data"
    },
    {
     "data": {
      "application/vnd.jupyter.widget-view+json": {
       "model_id": "655039de784f40fe96a7ed91e0b2eb72",
       "version_major": 2,
       "version_minor": 0
      },
      "text/plain": [
       "VBox(children=(HBox(), EncodingWidget(children=(VBox(children=(HTML(value='Encoding:'), Dropdown(description='…"
      ]
     },
     "metadata": {},
     "output_type": "display_data"
    },
    {
     "data": {
      "application/vnd.jupyter.widget-view+json": {
       "model_id": "fbf24d0731984c95abd402b50a8c4d48",
       "version_major": 2,
       "version_minor": 0
      },
      "text/plain": [
       "Output()"
      ]
     },
     "metadata": {},
     "output_type": "display_data"
    }
   ],
   "source": [
    "%%sql\n",
    "create table if not exists ${TABLE_NAME}(\n",
    "    review_id string, \n",
    "    star_rating int, \n",
    "    review_body string, \n",
    "    review_date date, \n",
    "    year long,\n",
    "    timestamp long,\n",
    "    parity int\n",
    ")\n",
    "using hudi\n",
    "location 's3://${S3_BUCKET}/${TABLE_NAME}'\n",
    "partitioned by (parity)\n",
    "options ( \n",
    "    type = 'cow',  \n",
    "    primaryKey = 'review_id', \n",
    "    preCombineField = 'timestamp',\n",
    "    hoodie.copyonwrite.record.size.estimate = '175'\n",
    ");"
   ]
  },
  {
   "cell_type": "markdown",
   "id": "26d91fec-b0b0-4bc0-b295-71798ac42766",
   "metadata": {
    "tags": []
   },
   "source": [
    "### 2.5. Insert 96MB / +1 Small File"
   ]
  },
  {
   "cell_type": "code",
   "execution_count": 13,
   "id": "de1fac92-fdc7-403a-a491-e11510324f64",
   "metadata": {
    "execution": {
     "iopub.execute_input": "2023-03-11T09:23:13.350143Z",
     "iopub.status.busy": "2023-03-11T09:23:13.349922Z",
     "iopub.status.idle": "2023-03-11T09:24:14.932958Z",
     "shell.execute_reply": "2023-03-11T09:24:14.932115Z",
     "shell.execute_reply.started": "2023-03-11T09:23:13.350121Z"
    },
    "tags": []
   },
   "outputs": [
    {
     "data": {
      "application/vnd.jupyter.widget-view+json": {
       "model_id": "",
       "version_major": 2,
       "version_minor": 0
      },
      "text/plain": [
       "FloatProgress(value=0.0, bar_style='info', description='Progress:', layout=Layout(height='25px', width='50%'),…"
      ]
     },
     "metadata": {},
     "output_type": "display_data"
    },
    {
     "data": {
      "text/html": [
       "<style>.jp-OutputArea-child .jupyter-widgets.jp-OutputArea-output { overflow: auto; }</style>"
      ],
      "text/plain": [
       "<IPython.core.display.HTML object>"
      ]
     },
     "metadata": {},
     "output_type": "display_data"
    },
    {
     "data": {
      "application/vnd.jupyter.widget-view+json": {
       "model_id": "c020ba2aa2db48d5b0601bfbdfb8a695",
       "version_major": 2,
       "version_minor": 0
      },
      "text/plain": [
       "VBox(children=(HBox(), EncodingWidget(children=(VBox(children=(HTML(value='Encoding:'), Dropdown(description='…"
      ]
     },
     "metadata": {},
     "output_type": "display_data"
    },
    {
     "data": {
      "application/vnd.jupyter.widget-view+json": {
       "model_id": "dfc318ad174142e984a0dcbb0a2954ec",
       "version_major": 2,
       "version_minor": 0
      },
      "text/plain": [
       "Output()"
      ]
     },
     "metadata": {},
     "output_type": "display_data"
    }
   ],
   "source": [
    "%%sql\n",
    "insert into \n",
    "    ${TABLE_NAME}\n",
    "select \n",
    "    review_id, \n",
    "    star_rating, \n",
    "    review_body, \n",
    "    review_date, \n",
    "    year,\n",
    "    unix_timestamp(current_timestamp()) as timestamp,\n",
    "    mod(crc32(review_id), 2) as parity\n",
    "from\n",
    "    reviews\n",
    "where\n",
    "    year = 2003;"
   ]
  },
  {
   "cell_type": "code",
   "execution_count": 14,
   "id": "9adfa455-d9ea-4527-8d0e-942dc97a114e",
   "metadata": {
    "execution": {
     "iopub.execute_input": "2023-03-11T09:24:14.934600Z",
     "iopub.status.busy": "2023-03-11T09:24:14.934259Z",
     "iopub.status.idle": "2023-03-11T09:24:31.483727Z",
     "shell.execute_reply": "2023-03-11T09:24:31.482921Z",
     "shell.execute_reply.started": "2023-03-11T09:24:14.934563Z"
    },
    "tags": []
   },
   "outputs": [
    {
     "name": "stdout",
     "output_type": "stream",
     "text": [
      "\n",
      "[ TIMELINE ]\n",
      "\n",
      "╔═════╤═══════════════════╤════════╤═══════════╤═════════════╤═════════════╤═════════════╗\n",
      "║ No. │ Instant           │ Action │ State     │ Requested   │ Inflight    │ Completed   ║\n",
      "║     │                   │        │           │ Time        │ Time        │ Time        ║\n",
      "╠═════╪═══════════════════╪════════╪═══════════╪═════════════╪═════════════╪═════════════╣\n",
      "║ 0   │ 20230311092314319 │ commit │ COMPLETED │ 03-11 09:23 │ 03-11 09:23 │ 03-11 09:24 ║\n",
      "╚═════╧═══════════════════╧════════╧═══════════╧═════════════╧═════════════╧═════════════╝\n",
      "\n",
      "[ COMMITS ]\n",
      "\n",
      "╔═══════════════════╤═════════════════════╤═══════════════════╤═════════════════════╤══════════════════════════╤═══════════════════════╤══════════════════════════════╤══════════════╗\n",
      "║ CommitTime        │ Total Bytes Written │ Total Files Added │ Total Files Updated │ Total Partitions Written │ Total Records Written │ Total Update Records Written │ Total Errors ║\n",
      "╠═══════════════════╪═════════════════════╪═══════════════════╪═════════════════════╪══════════════════════════╪═══════════════════════╪══════════════════════════════╪══════════════╣\n",
      "║ 20230311092314319 │ 191.6 MB            │ 2                 │ 0                   │ 2                        │ 1155127               │ 0                            │ 0            ║\n",
      "╚═══════════════════╧═════════════════════╧═══════════════════╧═════════════════════╧══════════════════════════╧═══════════════════════╧══════════════════════════════╧══════════════╝\n",
      "\n",
      "[ STORAGE ]\n",
      "\n",
      "/home/emr-notebook/apache-hudi-core-conceptions/reviews_cow_1\n",
      "├── [ 96M 09:24:31]  parity=0\n",
      "│   └── [ 96M 09:24:00]  d930fbdb-deec-417c-88bf-85c199e655d1-0_0-35-630_20230311092314319.parquet\n",
      "└── [ 96M 09:24:31]  parity=1\n",
      "    └── [ 96M 09:24:00]  bd58f096-4eaa-40fe-8d33-957534e397c9-0_1-35-631_20230311092314319.parquet\n"
     ]
    }
   ],
   "source": [
    "%%sh\n",
    "${WORKSPACE}/hudi-stat.sh s3://${S3_BUCKET}/${TABLE_NAME} timeline commits storage"
   ]
  },
  {
   "cell_type": "markdown",
   "id": "36dd0b25-0283-405f-b991-9e78dae4b353",
   "metadata": {
    "tags": []
   },
   "source": [
    "### 2.6. Insert 14.6MB / +1 Big File"
   ]
  },
  {
   "cell_type": "code",
   "execution_count": 15,
   "id": "06b721c3-1364-4622-ae23-d590e55a8da4",
   "metadata": {
    "execution": {
     "iopub.execute_input": "2023-03-11T09:24:31.485234Z",
     "iopub.status.busy": "2023-03-11T09:24:31.484973Z",
     "iopub.status.idle": "2023-03-11T09:25:16.969954Z",
     "shell.execute_reply": "2023-03-11T09:25:16.968908Z",
     "shell.execute_reply.started": "2023-03-11T09:24:31.485199Z"
    },
    "tags": []
   },
   "outputs": [
    {
     "data": {
      "application/vnd.jupyter.widget-view+json": {
       "model_id": "",
       "version_major": 2,
       "version_minor": 0
      },
      "text/plain": [
       "FloatProgress(value=0.0, bar_style='info', description='Progress:', layout=Layout(height='25px', width='50%'),…"
      ]
     },
     "metadata": {},
     "output_type": "display_data"
    },
    {
     "data": {
      "text/html": [
       "<style>.jp-OutputArea-child .jupyter-widgets.jp-OutputArea-output { overflow: auto; }</style>"
      ],
      "text/plain": [
       "<IPython.core.display.HTML object>"
      ]
     },
     "metadata": {},
     "output_type": "display_data"
    },
    {
     "data": {
      "application/vnd.jupyter.widget-view+json": {
       "model_id": "6ad5853294654b18ae138f8123728ac5",
       "version_major": 2,
       "version_minor": 0
      },
      "text/plain": [
       "VBox(children=(HBox(), EncodingWidget(children=(VBox(children=(HTML(value='Encoding:'), Dropdown(description='…"
      ]
     },
     "metadata": {},
     "output_type": "display_data"
    },
    {
     "data": {
      "application/vnd.jupyter.widget-view+json": {
       "model_id": "f6959c01ccde45ddbc44eae5d6f0c9a5",
       "version_major": 2,
       "version_minor": 0
      },
      "text/plain": [
       "Output()"
      ]
     },
     "metadata": {},
     "output_type": "display_data"
    }
   ],
   "source": [
    "%%sql\n",
    "insert into \n",
    "    ${TABLE_NAME}\n",
    "select \n",
    "    review_id, \n",
    "    star_rating, \n",
    "    review_body, \n",
    "    review_date, \n",
    "    year,\n",
    "    unix_timestamp(current_timestamp()) as timestamp,\n",
    "    mod(crc32(review_id), 2) as parity\n",
    "from\n",
    "    reviews\n",
    "where\n",
    "    year = 1998;"
   ]
  },
  {
   "cell_type": "code",
   "execution_count": 16,
   "id": "314c257b-00e9-48ea-a5a6-50e89d871d8f",
   "metadata": {
    "execution": {
     "iopub.execute_input": "2023-03-11T09:25:16.971772Z",
     "iopub.status.busy": "2023-03-11T09:25:16.971390Z",
     "iopub.status.idle": "2023-03-11T09:25:32.882899Z",
     "shell.execute_reply": "2023-03-11T09:25:32.882101Z",
     "shell.execute_reply.started": "2023-03-11T09:25:16.971735Z"
    },
    "tags": []
   },
   "outputs": [
    {
     "name": "stdout",
     "output_type": "stream",
     "text": [
      "\n",
      "[ TIMELINE ]\n",
      "\n",
      "╔═════╤═══════════════════╤════════╤═══════════╤═════════════╤═════════════╤═════════════╗\n",
      "║ No. │ Instant           │ Action │ State     │ Requested   │ Inflight    │ Completed   ║\n",
      "║     │                   │        │           │ Time        │ Time        │ Time        ║\n",
      "╠═════╪═══════════════════╪════════╪═══════════╪═════════════╪═════════════╪═════════════╣\n",
      "║ 0   │ 20230311092314319 │ commit │ COMPLETED │ 03-11 09:23 │ 03-11 09:23 │ 03-11 09:24 ║\n",
      "╟─────┼───────────────────┼────────┼───────────┼─────────────┼─────────────┼─────────────╢\n",
      "║ 1   │ 20230311092432715 │ commit │ COMPLETED │ 03-11 09:24 │ 03-11 09:24 │ 03-11 09:25 ║\n",
      "╚═════╧═══════════════════╧════════╧═══════════╧═════════════╧═════════════╧═════════════╝\n",
      "\n",
      "[ COMMITS ]\n",
      "\n",
      "╔═══════════════════╤═════════════════════╤═══════════════════╤═════════════════════╤══════════════════════════╤═══════════════════════╤══════════════════════════════╤══════════════╗\n",
      "║ CommitTime        │ Total Bytes Written │ Total Files Added │ Total Files Updated │ Total Partitions Written │ Total Records Written │ Total Update Records Written │ Total Errors ║\n",
      "╠═══════════════════╪═════════════════════╪═══════════════════╪═════════════════════╪══════════════════════════╪═══════════════════════╪══════════════════════════════╪══════════════╣\n",
      "║ 20230311092432715 │ 220.9 MB            │ 0                 │ 2                   │ 2                        │ 1333111               │ 0                            │ 0            ║\n",
      "╟───────────────────┼─────────────────────┼───────────────────┼─────────────────────┼──────────────────────────┼───────────────────────┼──────────────────────────────┼──────────────╢\n",
      "║ 20230311092314319 │ 191.6 MB            │ 2                 │ 0                   │ 2                        │ 1155127               │ 0                            │ 0            ║\n",
      "╚═══════════════════╧═════════════════════╧═══════════════════╧═════════════════════╧══════════════════════════╧═══════════════════════╧══════════════════════════════╧══════════════╝\n",
      "\n",
      "[ STORAGE ]\n",
      "\n",
      "/home/emr-notebook/apache-hudi-core-conceptions/reviews_cow_1\n",
      "├── [206M 09:25:32]  parity=0\n",
      "│   ├── [ 96M 09:24:00]  d930fbdb-deec-417c-88bf-85c199e655d1-0_0-35-630_20230311092314319.parquet\n",
      "│   └── [110M 09:25:07]  d930fbdb-deec-417c-88bf-85c199e655d1-0_0-83-1421_20230311092432715.parquet\n",
      "└── [206M 09:25:32]  parity=1\n",
      "    ├── [ 96M 09:24:00]  bd58f096-4eaa-40fe-8d33-957534e397c9-0_1-35-631_20230311092314319.parquet\n",
      "    └── [111M 09:25:07]  bd58f096-4eaa-40fe-8d33-957534e397c9-0_1-83-1422_20230311092432715.parquet\n"
     ]
    }
   ],
   "source": [
    "%%sh\n",
    "${WORKSPACE}/hudi-stat.sh s3://${S3_BUCKET}/${TABLE_NAME} timeline commits storage"
   ]
  },
  {
   "cell_type": "markdown",
   "id": "0e56f987-da37-4cc5-9aa4-bfbabc80c2dd",
   "metadata": {
    "tags": []
   },
   "source": [
    "### 2.7. Insert 3.7MB / +1 Small File"
   ]
  },
  {
   "cell_type": "code",
   "execution_count": 17,
   "id": "9acff543-7a63-4f5b-9d0b-ce1752a095c5",
   "metadata": {
    "execution": {
     "iopub.execute_input": "2023-03-11T09:25:32.884947Z",
     "iopub.status.busy": "2023-03-11T09:25:32.884383Z",
     "iopub.status.idle": "2023-03-11T09:25:54.281518Z",
     "shell.execute_reply": "2023-03-11T09:25:54.280835Z",
     "shell.execute_reply.started": "2023-03-11T09:25:32.884906Z"
    },
    "tags": []
   },
   "outputs": [
    {
     "data": {
      "application/vnd.jupyter.widget-view+json": {
       "model_id": "",
       "version_major": 2,
       "version_minor": 0
      },
      "text/plain": [
       "FloatProgress(value=0.0, bar_style='info', description='Progress:', layout=Layout(height='25px', width='50%'),…"
      ]
     },
     "metadata": {},
     "output_type": "display_data"
    },
    {
     "data": {
      "text/html": [
       "<style>.jp-OutputArea-child .jupyter-widgets.jp-OutputArea-output { overflow: auto; }</style>"
      ],
      "text/plain": [
       "<IPython.core.display.HTML object>"
      ]
     },
     "metadata": {},
     "output_type": "display_data"
    },
    {
     "data": {
      "application/vnd.jupyter.widget-view+json": {
       "model_id": "ada26cb742e94083a75ad1410fc2bc99",
       "version_major": 2,
       "version_minor": 0
      },
      "text/plain": [
       "VBox(children=(HBox(), EncodingWidget(children=(VBox(children=(HTML(value='Encoding:'), Dropdown(description='…"
      ]
     },
     "metadata": {},
     "output_type": "display_data"
    },
    {
     "data": {
      "application/vnd.jupyter.widget-view+json": {
       "model_id": "fb6b6d2f7e9d407887e35b2c3f75cac3",
       "version_major": 2,
       "version_minor": 0
      },
      "text/plain": [
       "Output()"
      ]
     },
     "metadata": {},
     "output_type": "display_data"
    }
   ],
   "source": [
    "%%sql\n",
    "insert into \n",
    "    ${TABLE_NAME}\n",
    "select \n",
    "    review_id, \n",
    "    star_rating, \n",
    "    review_body, \n",
    "    review_date, \n",
    "    year,\n",
    "    unix_timestamp(current_timestamp()) as timestamp,\n",
    "    mod(crc32(review_id), 2) as parity\n",
    "from\n",
    "    reviews\n",
    "where\n",
    "    year = 1997;"
   ]
  },
  {
   "cell_type": "code",
   "execution_count": 18,
   "id": "9f8e8282-9766-4c23-a301-0a0143023368",
   "metadata": {
    "execution": {
     "iopub.execute_input": "2023-03-11T09:25:54.282780Z",
     "iopub.status.busy": "2023-03-11T09:25:54.282552Z",
     "iopub.status.idle": "2023-03-11T09:26:09.126083Z",
     "shell.execute_reply": "2023-03-11T09:26:09.125168Z",
     "shell.execute_reply.started": "2023-03-11T09:25:54.282758Z"
    },
    "tags": []
   },
   "outputs": [
    {
     "name": "stdout",
     "output_type": "stream",
     "text": [
      "\n",
      "[ TIMELINE ]\n",
      "\n",
      "╔═════╤═══════════════════╤════════╤═══════════╤═════════════╤═════════════╤═════════════╗\n",
      "║ No. │ Instant           │ Action │ State     │ Requested   │ Inflight    │ Completed   ║\n",
      "║     │                   │        │           │ Time        │ Time        │ Time        ║\n",
      "╠═════╪═══════════════════╪════════╪═══════════╪═════════════╪═════════════╪═════════════╣\n",
      "║ 0   │ 20230311092314319 │ commit │ COMPLETED │ 03-11 09:23 │ 03-11 09:23 │ 03-11 09:24 ║\n",
      "╟─────┼───────────────────┼────────┼───────────┼─────────────┼─────────────┼─────────────╢\n",
      "║ 1   │ 20230311092432715 │ commit │ COMPLETED │ 03-11 09:24 │ 03-11 09:24 │ 03-11 09:25 ║\n",
      "╟─────┼───────────────────┼────────┼───────────┼─────────────┼─────────────┼─────────────╢\n",
      "║ 2   │ 20230311092534022 │ commit │ COMPLETED │ 03-11 09:25 │ 03-11 09:25 │ 03-11 09:25 ║\n",
      "╚═════╧═══════════════════╧════════╧═══════════╧═════════════╧═════════════╧═════════════╝\n",
      "\n",
      "[ COMMITS ]\n",
      "\n",
      "╔═══════════════════╤═════════════════════╤═══════════════════╤═════════════════════╤══════════════════════════╤═══════════════════════╤══════════════════════════════╤══════════════╗\n",
      "║ CommitTime        │ Total Bytes Written │ Total Files Added │ Total Files Updated │ Total Partitions Written │ Total Records Written │ Total Update Records Written │ Total Errors ║\n",
      "╠═══════════════════╪═════════════════════╪═══════════════════╪═════════════════════╪══════════════════════════╪═══════════════════════╪══════════════════════════════╪══════════════╣\n",
      "║ 20230311092534022 │ 7.4 MB              │ 2                 │ 0                   │ 2                        │ 39868                 │ 0                            │ 0            ║\n",
      "╟───────────────────┼─────────────────────┼───────────────────┼─────────────────────┼──────────────────────────┼───────────────────────┼──────────────────────────────┼──────────────╢\n",
      "║ 20230311092432715 │ 220.9 MB            │ 0                 │ 2                   │ 2                        │ 1333111               │ 0                            │ 0            ║\n",
      "╟───────────────────┼─────────────────────┼───────────────────┼─────────────────────┼──────────────────────────┼───────────────────────┼──────────────────────────────┼──────────────╢\n",
      "║ 20230311092314319 │ 191.6 MB            │ 2                 │ 0                   │ 2                        │ 1155127               │ 0                            │ 0            ║\n",
      "╚═══════════════════╧═════════════════════╧═══════════════════╧═════════════════════╧══════════════════════════╧═══════════════════════╧══════════════════════════════╧══════════════╝\n",
      "\n",
      "[ STORAGE ]\n",
      "\n",
      "/home/emr-notebook/apache-hudi-core-conceptions/reviews_cow_1\n",
      "├── [210M 09:26:09]  parity=0\n",
      "│   ├── [3.7M 09:25:44]  ba4abb1e-5d80-4828-b5b6-ca564f5d8f22-0_0-134-1908_20230311092534022.parquet\n",
      "│   ├── [ 96M 09:24:00]  d930fbdb-deec-417c-88bf-85c199e655d1-0_0-35-630_20230311092314319.parquet\n",
      "│   └── [110M 09:25:07]  d930fbdb-deec-417c-88bf-85c199e655d1-0_0-83-1421_20230311092432715.parquet\n",
      "└── [210M 09:26:09]  parity=1\n",
      "    ├── [3.7M 09:25:44]  953ab972-c66b-4b1e-bc16-87e1dee3d62c-0_1-134-1909_20230311092534022.parquet\n",
      "    ├── [ 96M 09:24:00]  bd58f096-4eaa-40fe-8d33-957534e397c9-0_1-35-631_20230311092314319.parquet\n",
      "    └── [111M 09:25:07]  bd58f096-4eaa-40fe-8d33-957534e397c9-0_1-83-1422_20230311092432715.parquet\n"
     ]
    }
   ],
   "source": [
    "%%sh\n",
    "${WORKSPACE}/hudi-stat.sh s3://${S3_BUCKET}/${TABLE_NAME} timeline commits storage"
   ]
  },
  {
   "cell_type": "markdown",
   "id": "3bad4bcc-7fd4-408b-b10d-78def052bee9",
   "metadata": {
    "tags": []
   },
   "source": [
    "### 2.8. Insert 188.5MB / +1 Max File +1 Small File"
   ]
  },
  {
   "cell_type": "code",
   "execution_count": 19,
   "id": "7e51bc42-66e2-422a-bee8-5e6dbf7c7ae1",
   "metadata": {
    "execution": {
     "iopub.execute_input": "2023-03-11T09:26:09.127519Z",
     "iopub.status.busy": "2023-03-11T09:26:09.127274Z",
     "iopub.status.idle": "2023-03-11T09:27:14.649888Z",
     "shell.execute_reply": "2023-03-11T09:27:14.649168Z",
     "shell.execute_reply.started": "2023-03-11T09:26:09.127494Z"
    },
    "tags": []
   },
   "outputs": [
    {
     "data": {
      "application/vnd.jupyter.widget-view+json": {
       "model_id": "",
       "version_major": 2,
       "version_minor": 0
      },
      "text/plain": [
       "FloatProgress(value=0.0, bar_style='info', description='Progress:', layout=Layout(height='25px', width='50%'),…"
      ]
     },
     "metadata": {},
     "output_type": "display_data"
    },
    {
     "data": {
      "text/html": [
       "<style>.jp-OutputArea-child .jupyter-widgets.jp-OutputArea-output { overflow: auto; }</style>"
      ],
      "text/plain": [
       "<IPython.core.display.HTML object>"
      ]
     },
     "metadata": {},
     "output_type": "display_data"
    },
    {
     "data": {
      "application/vnd.jupyter.widget-view+json": {
       "model_id": "e25ee42d21f54ac3aaa4f7c28b6e2df7",
       "version_major": 2,
       "version_minor": 0
      },
      "text/plain": [
       "VBox(children=(HBox(), EncodingWidget(children=(VBox(children=(HTML(value='Encoding:'), Dropdown(description='…"
      ]
     },
     "metadata": {},
     "output_type": "display_data"
    },
    {
     "data": {
      "application/vnd.jupyter.widget-view+json": {
       "model_id": "f30b0040826c49c7bd4b7794077612a4",
       "version_major": 2,
       "version_minor": 0
      },
      "text/plain": [
       "Output()"
      ]
     },
     "metadata": {},
     "output_type": "display_data"
    }
   ],
   "source": [
    "%%sql\n",
    "insert into \n",
    "    ${TABLE_NAME}\n",
    "select \n",
    "    review_id, \n",
    "    star_rating, \n",
    "    review_body, \n",
    "    review_date, \n",
    "    year,\n",
    "    unix_timestamp(current_timestamp()) as timestamp,\n",
    "    mod(crc32(review_id), 2) as parity\n",
    "from\n",
    "    reviews\n",
    "where\n",
    "    year = 2007;"
   ]
  },
  {
   "cell_type": "code",
   "execution_count": 20,
   "id": "56b5c7a0-78e5-4df8-9e01-571418bc4dcf",
   "metadata": {
    "execution": {
     "iopub.execute_input": "2023-03-11T09:27:14.651083Z",
     "iopub.status.busy": "2023-03-11T09:27:14.650855Z",
     "iopub.status.idle": "2023-03-11T09:27:32.591152Z",
     "shell.execute_reply": "2023-03-11T09:27:32.590303Z",
     "shell.execute_reply.started": "2023-03-11T09:27:14.651060Z"
    },
    "tags": []
   },
   "outputs": [
    {
     "name": "stdout",
     "output_type": "stream",
     "text": [
      "\n",
      "[ TIMELINE ]\n",
      "\n",
      "╔═════╤═══════════════════╤════════╤═══════════╤═════════════╤═════════════╤═════════════╗\n",
      "║ No. │ Instant           │ Action │ State     │ Requested   │ Inflight    │ Completed   ║\n",
      "║     │                   │        │           │ Time        │ Time        │ Time        ║\n",
      "╠═════╪═══════════════════╪════════╪═══════════╪═════════════╪═════════════╪═════════════╣\n",
      "║ 0   │ 20230311092314319 │ commit │ COMPLETED │ 03-11 09:23 │ 03-11 09:23 │ 03-11 09:24 ║\n",
      "╟─────┼───────────────────┼────────┼───────────┼─────────────┼─────────────┼─────────────╢\n",
      "║ 1   │ 20230311092432715 │ commit │ COMPLETED │ 03-11 09:24 │ 03-11 09:24 │ 03-11 09:25 ║\n",
      "╟─────┼───────────────────┼────────┼───────────┼─────────────┼─────────────┼─────────────╢\n",
      "║ 2   │ 20230311092534022 │ commit │ COMPLETED │ 03-11 09:25 │ 03-11 09:25 │ 03-11 09:25 ║\n",
      "╟─────┼───────────────────┼────────┼───────────┼─────────────┼─────────────┼─────────────╢\n",
      "║ 3   │ 20230311092610380 │ commit │ COMPLETED │ 03-11 09:26 │ 03-11 09:26 │ 03-11 09:27 ║\n",
      "╚═════╧═══════════════════╧════════╧═══════════╧═════════════╧═════════════╧═════════════╝\n",
      "\n",
      "[ COMMITS ]\n",
      "\n",
      "╔═══════════════════╤═════════════════════╤═══════════════════╤═════════════════════╤══════════════════════════╤═══════════════════════╤══════════════════════════════╤══════════════╗\n",
      "║ CommitTime        │ Total Bytes Written │ Total Files Added │ Total Files Updated │ Total Partitions Written │ Total Records Written │ Total Update Records Written │ Total Errors ║\n",
      "╠═══════════════════╪═════════════════════╪═══════════════════╪═════════════════════╪══════════════════════════╪═══════════════════════╪══════════════════════════════╪══════════════╣\n",
      "║ 20230311092610380 │ 370.9 MB            │ 2                 │ 2                   │ 2                        │ 2234582               │ 0                            │ 0            ║\n",
      "╟───────────────────┼─────────────────────┼───────────────────┼─────────────────────┼──────────────────────────┼───────────────────────┼──────────────────────────────┼──────────────╢\n",
      "║ 20230311092534022 │ 7.4 MB              │ 2                 │ 0                   │ 2                        │ 39868                 │ 0                            │ 0            ║\n",
      "╟───────────────────┼─────────────────────┼───────────────────┼─────────────────────┼──────────────────────────┼───────────────────────┼──────────────────────────────┼──────────────╢\n",
      "║ 20230311092432715 │ 220.9 MB            │ 0                 │ 2                   │ 2                        │ 1333111               │ 0                            │ 0            ║\n",
      "╟───────────────────┼─────────────────────┼───────────────────┼─────────────────────┼──────────────────────────┼───────────────────────┼──────────────────────────────┼──────────────╢\n",
      "║ 20230311092314319 │ 191.6 MB            │ 2                 │ 0                   │ 2                        │ 1155127               │ 0                            │ 0            ║\n",
      "╚═══════════════════╧═════════════════════╧═══════════════════╧═════════════════════╧══════════════════════════╧═══════════════════════╧══════════════════════════════╧══════════════╝\n",
      "\n",
      "[ STORAGE ]\n",
      "\n",
      "/home/emr-notebook/apache-hudi-core-conceptions/reviews_cow_1\n",
      "├── [395M 09:27:32]  parity=0\n",
      "│   ├── [ 66M 09:26:54]  5c05708c-c5bd-43a6-be95-942bf10e1772-0_1-188-2644_20230311092610380.parquet\n",
      "│   ├── [3.7M 09:25:44]  ba4abb1e-5d80-4828-b5b6-ca564f5d8f22-0_0-134-1908_20230311092534022.parquet\n",
      "│   ├── [120M 09:27:04]  ba4abb1e-5d80-4828-b5b6-ca564f5d8f22-0_0-188-2643_20230311092610380.parquet\n",
      "│   ├── [ 96M 09:24:00]  d930fbdb-deec-417c-88bf-85c199e655d1-0_0-35-630_20230311092314319.parquet\n",
      "│   └── [110M 09:25:07]  d930fbdb-deec-417c-88bf-85c199e655d1-0_0-83-1421_20230311092432715.parquet\n",
      "└── [396M 09:27:32]  parity=1\n",
      "    ├── [ 66M 09:26:54]  34fe6544-2f15-445c-af7c-baf3407a0e01-0_3-188-2646_20230311092610380.parquet\n",
      "    ├── [3.7M 09:25:44]  953ab972-c66b-4b1e-bc16-87e1dee3d62c-0_1-134-1909_20230311092534022.parquet\n",
      "    ├── [119M 09:27:04]  953ab972-c66b-4b1e-bc16-87e1dee3d62c-0_2-188-2645_20230311092610380.parquet\n",
      "    ├── [ 96M 09:24:00]  bd58f096-4eaa-40fe-8d33-957534e397c9-0_1-35-631_20230311092314319.parquet\n",
      "    └── [111M 09:25:07]  bd58f096-4eaa-40fe-8d33-957534e397c9-0_1-83-1422_20230311092432715.parquet\n"
     ]
    }
   ],
   "source": [
    "%%sh\n",
    "${WORKSPACE}/hudi-stat.sh s3://${S3_BUCKET}/${TABLE_NAME} timeline commits storage"
   ]
  },
  {
   "cell_type": "markdown",
   "id": "c383c0c9-9598-4bf3-af10-1953d9589fe9",
   "metadata": {
    "tags": []
   },
   "source": [
    "## 3. Test Case 2 - COW Default Settings"
   ]
  },
  {
   "cell_type": "markdown",
   "id": "93c96ff2-778d-4a49-b9ac-d0c79083c3b5",
   "metadata": {
    "jp-MarkdownHeadingCollapsed": true,
    "tags": []
   },
   "source": [
    "### 3.1. Test Plan\n",
    "\n",
    "Step No.|Action|Volume Per Partition |Storage\n",
    ":--------:|:------|:------|:----------\n",
    "1|Insert|96MB|+1 Small File\n",
    "2|Insert|417MB|+3 Max Files + 1 Small File"
   ]
  },
  {
   "cell_type": "markdown",
   "id": "f6b363ac-1fff-405c-89ab-ad91805d9e86",
   "metadata": {
    "tags": []
   },
   "source": [
    "### 3.2. Key Settings\n",
    "\n",
    "KEY|DEFAULT VALUE|SET VALUE\n",
    ":---|:---|:---\n",
    "hoodie.parquet.max.file.size|125829120 ( 120MB )|Default Value\n",
    "hoodie.parquet.small.file.limit|104857600 ( 100MB )|Default Value\n",
    "hoodie.copyonwrite.record.size.estimate|1024|Default Value"
   ]
  },
  {
   "cell_type": "markdown",
   "id": "a3a15786-7b28-4382-921e-ead944c10530",
   "metadata": {
    "execution": {
     "iopub.execute_input": "2023-02-25T02:57:45.037101Z",
     "iopub.status.busy": "2023-02-25T02:57:45.036681Z",
     "iopub.status.idle": "2023-02-25T02:58:07.353493Z",
     "shell.execute_reply": "2023-02-25T02:58:07.352596Z",
     "shell.execute_reply.started": "2023-02-25T02:57:45.037060Z"
    },
    "tags": []
   },
   "source": [
    "### 3.3. Set Variables"
   ]
  },
  {
   "cell_type": "code",
   "execution_count": 21,
   "id": "6ff73c99-829a-4834-b175-8920bab4e894",
   "metadata": {
    "execution": {
     "iopub.execute_input": "2023-03-11T09:27:32.593023Z",
     "iopub.status.busy": "2023-03-11T09:27:32.592644Z",
     "iopub.status.idle": "2023-03-11T09:27:33.513394Z",
     "shell.execute_reply": "2023-03-11T09:27:33.512601Z",
     "shell.execute_reply.started": "2023-03-11T09:27:32.592984Z"
    },
    "tags": []
   },
   "outputs": [
    {
     "data": {
      "application/vnd.jupyter.widget-view+json": {
       "model_id": "",
       "version_major": 2,
       "version_minor": 0
      },
      "text/plain": [
       "FloatProgress(value=0.0, bar_style='info', description='Progress:', layout=Layout(height='25px', width='50%'),…"
      ]
     },
     "metadata": {},
     "output_type": "display_data"
    },
    {
     "data": {
      "text/html": [
       "<style>.jp-OutputArea-child .jupyter-widgets.jp-OutputArea-output { overflow: auto; }</style>"
      ],
      "text/plain": [
       "<IPython.core.display.HTML object>"
      ]
     },
     "metadata": {},
     "output_type": "display_data"
    },
    {
     "data": {
      "application/vnd.jupyter.widget-view+json": {
       "model_id": "de68decd880e43a2aa08d734d21de411",
       "version_major": 2,
       "version_minor": 0
      },
      "text/plain": [
       "VBox(children=(HBox(children=(HTML(value='Type:'), Button(description='Table', layout=Layout(width='70px'), st…"
      ]
     },
     "metadata": {},
     "output_type": "display_data"
    },
    {
     "data": {
      "application/vnd.jupyter.widget-view+json": {
       "model_id": "5426dcff27c4424f8c976a1c4e237c83",
       "version_major": 2,
       "version_minor": 0
      },
      "text/plain": [
       "Output()"
      ]
     },
     "metadata": {},
     "output_type": "display_data"
    }
   ],
   "source": [
    "%%sql\n",
    "set TABLE_NAME=reviews_cow_2"
   ]
  },
  {
   "cell_type": "code",
   "execution_count": 22,
   "id": "cde89744-801a-4cb0-b7ec-dbcde90add0c",
   "metadata": {
    "execution": {
     "iopub.execute_input": "2023-03-11T09:27:33.515134Z",
     "iopub.status.busy": "2023-03-11T09:27:33.514792Z",
     "iopub.status.idle": "2023-03-11T09:27:33.520479Z",
     "shell.execute_reply": "2023-03-11T09:27:33.519634Z",
     "shell.execute_reply.started": "2023-03-11T09:27:33.515098Z"
    },
    "tags": []
   },
   "outputs": [
    {
     "name": "stdout",
     "output_type": "stream",
     "text": [
      "env: TABLE_NAME=reviews_cow_2\n"
     ]
    }
   ],
   "source": [
    "%env TABLE_NAME=reviews_cow_2"
   ]
  },
  {
   "cell_type": "markdown",
   "id": "79458fca-7788-49a0-ae8c-8162ce3579da",
   "metadata": {},
   "source": [
    "### 3.4. Create Table"
   ]
  },
  {
   "cell_type": "code",
   "execution_count": 23,
   "id": "f77d0fce-c72f-4eff-81b2-b472a26107af",
   "metadata": {
    "execution": {
     "iopub.execute_input": "2023-03-11T09:27:33.524443Z",
     "iopub.status.busy": "2023-03-11T09:27:33.524195Z",
     "iopub.status.idle": "2023-03-11T09:27:39.648480Z",
     "shell.execute_reply": "2023-03-11T09:27:39.647564Z",
     "shell.execute_reply.started": "2023-03-11T09:27:33.524400Z"
    },
    "tags": []
   },
   "outputs": [],
   "source": [
    "%%sh\n",
    "aws s3 rm s3://${S3_BUCKET}/${TABLE_NAME} --recursive &>/dev/null\n",
    "rm -rf ${WORKSPACE}/${TABLE_NAME}\n",
    "sleep 5"
   ]
  },
  {
   "cell_type": "code",
   "execution_count": 24,
   "id": "23970243-d522-4d06-a6e2-8ed6e4bd1234",
   "metadata": {
    "execution": {
     "iopub.execute_input": "2023-03-11T09:27:39.650610Z",
     "iopub.status.busy": "2023-03-11T09:27:39.650361Z",
     "iopub.status.idle": "2023-03-11T09:27:40.497688Z",
     "shell.execute_reply": "2023-03-11T09:27:40.496957Z",
     "shell.execute_reply.started": "2023-03-11T09:27:39.650586Z"
    },
    "tags": []
   },
   "outputs": [
    {
     "data": {
      "application/vnd.jupyter.widget-view+json": {
       "model_id": "",
       "version_major": 2,
       "version_minor": 0
      },
      "text/plain": [
       "FloatProgress(value=0.0, bar_style='info', description='Progress:', layout=Layout(height='25px', width='50%'),…"
      ]
     },
     "metadata": {},
     "output_type": "display_data"
    },
    {
     "data": {
      "text/html": [
       "<style>.jp-OutputArea-child .jupyter-widgets.jp-OutputArea-output { overflow: auto; }</style>"
      ],
      "text/plain": [
       "<IPython.core.display.HTML object>"
      ]
     },
     "metadata": {},
     "output_type": "display_data"
    },
    {
     "data": {
      "application/vnd.jupyter.widget-view+json": {
       "model_id": "79f0df0bc72744ad830153bf0f2e2c4b",
       "version_major": 2,
       "version_minor": 0
      },
      "text/plain": [
       "VBox(children=(HBox(), EncodingWidget(children=(VBox(children=(HTML(value='Encoding:'), Dropdown(description='…"
      ]
     },
     "metadata": {},
     "output_type": "display_data"
    },
    {
     "data": {
      "application/vnd.jupyter.widget-view+json": {
       "model_id": "8d166d3eb7e6420290e881635d0eba43",
       "version_major": 2,
       "version_minor": 0
      },
      "text/plain": [
       "Output()"
      ]
     },
     "metadata": {},
     "output_type": "display_data"
    }
   ],
   "source": [
    "%%sql\n",
    "drop table if exists ${TABLE_NAME}"
   ]
  },
  {
   "cell_type": "code",
   "execution_count": 25,
   "id": "a8c6e3bf-e01e-428d-8d26-bffbc4313f68",
   "metadata": {
    "execution": {
     "iopub.execute_input": "2023-03-11T09:27:40.498927Z",
     "iopub.status.busy": "2023-03-11T09:27:40.498696Z",
     "iopub.status.idle": "2023-03-11T09:27:42.830156Z",
     "shell.execute_reply": "2023-03-11T09:27:42.829286Z",
     "shell.execute_reply.started": "2023-03-11T09:27:40.498905Z"
    },
    "tags": []
   },
   "outputs": [
    {
     "data": {
      "application/vnd.jupyter.widget-view+json": {
       "model_id": "",
       "version_major": 2,
       "version_minor": 0
      },
      "text/plain": [
       "FloatProgress(value=0.0, bar_style='info', description='Progress:', layout=Layout(height='25px', width='50%'),…"
      ]
     },
     "metadata": {},
     "output_type": "display_data"
    },
    {
     "data": {
      "text/html": [
       "<style>.jp-OutputArea-child .jupyter-widgets.jp-OutputArea-output { overflow: auto; }</style>"
      ],
      "text/plain": [
       "<IPython.core.display.HTML object>"
      ]
     },
     "metadata": {},
     "output_type": "display_data"
    },
    {
     "data": {
      "application/vnd.jupyter.widget-view+json": {
       "model_id": "173b1873abd94a21b81faac6042a5835",
       "version_major": 2,
       "version_minor": 0
      },
      "text/plain": [
       "VBox(children=(HBox(), EncodingWidget(children=(VBox(children=(HTML(value='Encoding:'), Dropdown(description='…"
      ]
     },
     "metadata": {},
     "output_type": "display_data"
    },
    {
     "data": {
      "application/vnd.jupyter.widget-view+json": {
       "model_id": "e528edd3eda147559d32fc656cd4e323",
       "version_major": 2,
       "version_minor": 0
      },
      "text/plain": [
       "Output()"
      ]
     },
     "metadata": {},
     "output_type": "display_data"
    }
   ],
   "source": [
    "%%sql\n",
    "create table if not exists ${TABLE_NAME}(\n",
    "    review_id string, \n",
    "    star_rating int, \n",
    "    review_body string, \n",
    "    review_date date, \n",
    "    year long,\n",
    "    timestamp long,\n",
    "    parity int\n",
    ")\n",
    "using hudi\n",
    "location 's3://${S3_BUCKET}/${TABLE_NAME}'\n",
    "partitioned by (parity)\n",
    "options ( \n",
    "    type = 'cow',  \n",
    "    primaryKey = 'review_id', \n",
    "    preCombineField = 'timestamp'\n",
    "    -- hoodie.copyonwrite.record.size.estimate = '175'\n",
    ");"
   ]
  },
  {
   "cell_type": "markdown",
   "id": "4a3bd4c0-8cbb-44ef-aacf-880e54c7638c",
   "metadata": {
    "tags": []
   },
   "source": [
    "### 3.5. Insert 96MB / +5 Small Files"
   ]
  },
  {
   "cell_type": "code",
   "execution_count": 26,
   "id": "8f8d4370-23da-4c05-b708-ffdb96147712",
   "metadata": {
    "execution": {
     "iopub.execute_input": "2023-03-11T09:27:42.831516Z",
     "iopub.status.busy": "2023-03-11T09:27:42.831263Z",
     "iopub.status.idle": "2023-03-11T09:28:14.239174Z",
     "shell.execute_reply": "2023-03-11T09:28:14.238286Z",
     "shell.execute_reply.started": "2023-03-11T09:27:42.831492Z"
    },
    "tags": []
   },
   "outputs": [
    {
     "data": {
      "application/vnd.jupyter.widget-view+json": {
       "model_id": "",
       "version_major": 2,
       "version_minor": 0
      },
      "text/plain": [
       "FloatProgress(value=0.0, bar_style='info', description='Progress:', layout=Layout(height='25px', width='50%'),…"
      ]
     },
     "metadata": {},
     "output_type": "display_data"
    },
    {
     "data": {
      "text/html": [
       "<style>.jp-OutputArea-child .jupyter-widgets.jp-OutputArea-output { overflow: auto; }</style>"
      ],
      "text/plain": [
       "<IPython.core.display.HTML object>"
      ]
     },
     "metadata": {},
     "output_type": "display_data"
    },
    {
     "data": {
      "application/vnd.jupyter.widget-view+json": {
       "model_id": "11f0d7715b5f41a1a560855094cb34c1",
       "version_major": 2,
       "version_minor": 0
      },
      "text/plain": [
       "VBox(children=(HBox(), EncodingWidget(children=(VBox(children=(HTML(value='Encoding:'), Dropdown(description='…"
      ]
     },
     "metadata": {},
     "output_type": "display_data"
    },
    {
     "data": {
      "application/vnd.jupyter.widget-view+json": {
       "model_id": "71e4a196fddc43048d59ab58a739b70f",
       "version_major": 2,
       "version_minor": 0
      },
      "text/plain": [
       "Output()"
      ]
     },
     "metadata": {},
     "output_type": "display_data"
    }
   ],
   "source": [
    "%%sql\n",
    "insert into \n",
    "    ${TABLE_NAME}\n",
    "select \n",
    "    review_id, \n",
    "    star_rating, \n",
    "    review_body, \n",
    "    review_date, \n",
    "    year,\n",
    "    unix_timestamp(current_timestamp()) as timestamp,\n",
    "    mod(crc32(review_id), 2) as parity\n",
    "from\n",
    "    reviews\n",
    "where\n",
    "    year = 2003;"
   ]
  },
  {
   "cell_type": "code",
   "execution_count": 27,
   "id": "45164a8c-726a-4949-b09e-e8f7c384c014",
   "metadata": {
    "execution": {
     "iopub.execute_input": "2023-03-11T09:28:14.240926Z",
     "iopub.status.busy": "2023-03-11T09:28:14.240583Z",
     "iopub.status.idle": "2023-03-11T09:28:31.084056Z",
     "shell.execute_reply": "2023-03-11T09:28:31.083196Z",
     "shell.execute_reply.started": "2023-03-11T09:28:14.240889Z"
    },
    "tags": []
   },
   "outputs": [
    {
     "name": "stdout",
     "output_type": "stream",
     "text": [
      "\n",
      "[ TIMELINE ]\n",
      "\n",
      "╔═════╤═══════════════════╤════════╤═══════════╤═════════════╤═════════════╤═════════════╗\n",
      "║ No. │ Instant           │ Action │ State     │ Requested   │ Inflight    │ Completed   ║\n",
      "║     │                   │        │           │ Time        │ Time        │ Time        ║\n",
      "╠═════╪═══════════════════╪════════╪═══════════╪═════════════╪═════════════╪═════════════╣\n",
      "║ 0   │ 20230311092743329 │ commit │ COMPLETED │ 03-11 09:27 │ 03-11 09:27 │ 03-11 09:28 ║\n",
      "╚═════╧═══════════════════╧════════╧═══════════╧═════════════╧═════════════╧═════════════╝\n",
      "\n",
      "[ COMMITS ]\n",
      "\n",
      "╔═══════════════════╤═════════════════════╤═══════════════════╤═════════════════════╤══════════════════════════╤═══════════════════════╤══════════════════════════════╤══════════════╗\n",
      "║ CommitTime        │ Total Bytes Written │ Total Files Added │ Total Files Updated │ Total Partitions Written │ Total Records Written │ Total Update Records Written │ Total Errors ║\n",
      "╠═══════════════════╪═════════════════════╪═══════════════════╪═════════════════════╪══════════════════════════╪═══════════════════════╪══════════════════════════════╪══════════════╣\n",
      "║ 20230311092743329 │ 198.3 MB            │ 10                │ 0                   │ 2                        │ 1155127               │ 0                            │ 0            ║\n",
      "╚═══════════════════╧═════════════════════╧═══════════════════╧═════════════════════╧══════════════════════════╧═══════════════════════╧══════════════════════════════╧══════════════╝\n",
      "\n",
      "[ STORAGE ]\n",
      "\n",
      "/home/emr-notebook/apache-hudi-core-conceptions/reviews_cow_2\n",
      "├── [ 99M 09:28:30]  parity=0\n",
      "│   ├── [ 21M 09:28:03]  428f1488-2f0a-467e-86af-c4259c65e950-0_3-253-3317_20230311092743329.parquet\n",
      "│   ├── [ 15M 09:28:02]  5b4aafd8-5d1f-4f04-8a99-cd3e5a072c05-0_4-253-3318_20230311092743329.parquet\n",
      "│   ├── [ 21M 09:28:03]  7b22fdba-f6d7-4f5f-a342-92ea28b09532-0_1-253-3315_20230311092743329.parquet\n",
      "│   ├── [ 21M 09:28:03]  8580d96e-9ca2-47d7-a2b3-728a5729af8d-0_0-253-3314_20230311092743329.parquet\n",
      "│   └── [ 21M 09:28:03]  f49e8c5d-af04-40b1-b876-91c6b6bfcd63-0_2-253-3316_20230311092743329.parquet\n",
      "└── [ 99M 09:28:31]  parity=1\n",
      "    ├── [ 21M 09:28:03]  35fad94e-1a05-4900-8845-aa52138b413c-0_8-253-3322_20230311092743329.parquet\n",
      "    ├── [ 21M 09:28:03]  601c8457-13ff-41cd-8bf7-f2b94e0741d4-0_7-253-3321_20230311092743329.parquet\n",
      "    ├── [ 21M 09:28:04]  6e3a5f27-50be-447b-b80f-6944be2cc2a0-0_6-253-3320_20230311092743329.parquet\n",
      "    ├── [ 15M 09:28:02]  b5916279-cfa8-4cd9-858b-b3e14cc3b8af-0_9-253-3323_20230311092743329.parquet\n",
      "    └── [ 21M 09:28:03]  c3c761b9-d635-4921-b3b0-9e31a9ef7c0a-0_5-253-3319_20230311092743329.parquet\n"
     ]
    }
   ],
   "source": [
    "%%sh\n",
    "${WORKSPACE}/hudi-stat.sh s3://${S3_BUCKET}/${TABLE_NAME} timeline commits storage"
   ]
  },
  {
   "cell_type": "markdown",
   "id": "37546d50-d336-408c-82b4-c7d33c5b3d89",
   "metadata": {
    "tags": []
   },
   "source": [
    "### 3.6. Insert 417MB / +3 Max Files + 1 Small File"
   ]
  },
  {
   "cell_type": "code",
   "execution_count": 28,
   "id": "f7b92fe2-0f7f-46d9-aead-6345b2a6b571",
   "metadata": {
    "execution": {
     "iopub.execute_input": "2023-03-11T09:28:31.085531Z",
     "iopub.status.busy": "2023-03-11T09:28:31.085278Z",
     "iopub.status.idle": "2023-03-11T09:30:12.711728Z",
     "shell.execute_reply": "2023-03-11T09:30:12.711017Z",
     "shell.execute_reply.started": "2023-03-11T09:28:31.085507Z"
    },
    "tags": []
   },
   "outputs": [
    {
     "data": {
      "application/vnd.jupyter.widget-view+json": {
       "model_id": "",
       "version_major": 2,
       "version_minor": 0
      },
      "text/plain": [
       "FloatProgress(value=0.0, bar_style='info', description='Progress:', layout=Layout(height='25px', width='50%'),…"
      ]
     },
     "metadata": {},
     "output_type": "display_data"
    },
    {
     "data": {
      "text/html": [
       "<style>.jp-OutputArea-child .jupyter-widgets.jp-OutputArea-output { overflow: auto; }</style>"
      ],
      "text/plain": [
       "<IPython.core.display.HTML object>"
      ]
     },
     "metadata": {},
     "output_type": "display_data"
    },
    {
     "data": {
      "application/vnd.jupyter.widget-view+json": {
       "model_id": "ea8205271c7944c590ca73128c86744d",
       "version_major": 2,
       "version_minor": 0
      },
      "text/plain": [
       "VBox(children=(HBox(), EncodingWidget(children=(VBox(children=(HTML(value='Encoding:'), Dropdown(description='…"
      ]
     },
     "metadata": {},
     "output_type": "display_data"
    },
    {
     "data": {
      "application/vnd.jupyter.widget-view+json": {
       "model_id": "233f05b3424545b8904f9c62e585c5e5",
       "version_major": 2,
       "version_minor": 0
      },
      "text/plain": [
       "Output()"
      ]
     },
     "metadata": {},
     "output_type": "display_data"
    }
   ],
   "source": [
    "%%sql\n",
    "insert into \n",
    "    ${TABLE_NAME}\n",
    "select \n",
    "    review_id, \n",
    "    star_rating, \n",
    "    review_body, \n",
    "    review_date, \n",
    "    year,\n",
    "    unix_timestamp(current_timestamp()) as timestamp,\n",
    "    mod(crc32(review_id), 2) as parity\n",
    "from\n",
    "    reviews\n",
    "where\n",
    "    year = 2010;"
   ]
  },
  {
   "cell_type": "code",
   "execution_count": 29,
   "id": "d9cc764a-2a72-4364-910b-2c6af64e6d1c",
   "metadata": {
    "execution": {
     "iopub.execute_input": "2023-03-11T09:30:12.713426Z",
     "iopub.status.busy": "2023-03-11T09:30:12.713112Z",
     "iopub.status.idle": "2023-03-11T09:30:33.320380Z",
     "shell.execute_reply": "2023-03-11T09:30:33.319329Z",
     "shell.execute_reply.started": "2023-03-11T09:30:12.713401Z"
    },
    "tags": []
   },
   "outputs": [
    {
     "name": "stdout",
     "output_type": "stream",
     "text": [
      "\n",
      "[ TIMELINE ]\n",
      "\n",
      "╔═════╤═══════════════════╤════════╤═══════════╤═════════════╤═════════════╤═════════════╗\n",
      "║ No. │ Instant           │ Action │ State     │ Requested   │ Inflight    │ Completed   ║\n",
      "║     │                   │        │           │ Time        │ Time        │ Time        ║\n",
      "╠═════╪═══════════════════╪════════╪═══════════╪═════════════╪═════════════╪═════════════╣\n",
      "║ 0   │ 20230311092743329 │ commit │ COMPLETED │ 03-11 09:27 │ 03-11 09:27 │ 03-11 09:28 ║\n",
      "╟─────┼───────────────────┼────────┼───────────┼─────────────┼─────────────┼─────────────╢\n",
      "║ 1   │ 20230311092832190 │ commit │ COMPLETED │ 03-11 09:28 │ 03-11 09:29 │ 03-11 09:30 ║\n",
      "╚═════╧═══════════════════╧════════╧═══════════╧═════════════╧═════════════╧═════════════╝\n",
      "\n",
      "[ COMMITS ]\n",
      "\n",
      "╔═══════════════════╤═════════════════════╤═══════════════════╤═════════════════════╤══════════════════════════╤═══════════════════════╤══════════════════════════════╤══════════════╗\n",
      "║ CommitTime        │ Total Bytes Written │ Total Files Added │ Total Files Updated │ Total Partitions Written │ Total Records Written │ Total Update Records Written │ Total Errors ║\n",
      "╠═══════════════════╪═════════════════════╪═══════════════════╪═════════════════════╪══════════════════════════╪═══════════════════════╪══════════════════════════════╪══════════════╣\n",
      "║ 20230311092832190 │ 834.2 MB            │ 0                 │ 8                   │ 2                        │ 5029347               │ 0                            │ 0            ║\n",
      "╟───────────────────┼─────────────────────┼───────────────────┼─────────────────────┼──────────────────────────┼───────────────────────┼──────────────────────────────┼──────────────╢\n",
      "║ 20230311092743329 │ 198.3 MB            │ 10                │ 0                   │ 2                        │ 1155127               │ 0                            │ 0            ║\n",
      "╚═══════════════════╧═════════════════════╧═══════════════════╧═════════════════════╧══════════════════════════╧═══════════════════════╧══════════════════════════════╧══════════════╝\n",
      "\n",
      "[ STORAGE ]\n",
      "\n",
      "/home/emr-notebook/apache-hudi-core-conceptions/reviews_cow_2\n",
      "├── [516M 09:30:33]  parity=0\n",
      "│   ├── [ 21M 09:28:03]  428f1488-2f0a-467e-86af-c4259c65e950-0_3-253-3317_20230311092743329.parquet\n",
      "│   ├── [116M 09:30:04]  5b4aafd8-5d1f-4f04-8a99-cd3e5a072c05-0_1-301-4061_20230311092832190.parquet\n",
      "│   ├── [ 15M 09:28:02]  5b4aafd8-5d1f-4f04-8a99-cd3e5a072c05-0_4-253-3318_20230311092743329.parquet\n",
      "│   ├── [ 21M 09:28:03]  7b22fdba-f6d7-4f5f-a342-92ea28b09532-0_1-253-3315_20230311092743329.parquet\n",
      "│   ├── [116M 09:30:04]  7b22fdba-f6d7-4f5f-a342-92ea28b09532-0_2-301-4062_20230311092832190.parquet\n",
      "│   ├── [ 21M 09:28:03]  8580d96e-9ca2-47d7-a2b3-728a5729af8d-0_0-253-3314_20230311092743329.parquet\n",
      "│   ├── [ 69M 09:29:55]  8580d96e-9ca2-47d7-a2b3-728a5729af8d-0_3-301-4063_20230311092832190.parquet\n",
      "│   ├── [116M 09:30:04]  f49e8c5d-af04-40b1-b876-91c6b6bfcd63-0_0-301-4060_20230311092832190.parquet\n",
      "│   └── [ 21M 09:28:03]  f49e8c5d-af04-40b1-b876-91c6b6bfcd63-0_2-253-3316_20230311092743329.parquet\n",
      "└── [516M 09:30:33]  parity=1\n",
      "    ├── [ 21M 09:28:03]  35fad94e-1a05-4900-8845-aa52138b413c-0_8-253-3322_20230311092743329.parquet\n",
      "    ├── [116M 09:30:04]  601c8457-13ff-41cd-8bf7-f2b94e0741d4-0_5-301-4065_20230311092832190.parquet\n",
      "    ├── [ 21M 09:28:03]  601c8457-13ff-41cd-8bf7-f2b94e0741d4-0_7-253-3321_20230311092743329.parquet\n",
      "    ├── [ 21M 09:28:04]  6e3a5f27-50be-447b-b80f-6944be2cc2a0-0_6-253-3320_20230311092743329.parquet\n",
      "    ├── [ 70M 09:29:55]  6e3a5f27-50be-447b-b80f-6944be2cc2a0-0_7-301-4067_20230311092832190.parquet\n",
      "    ├── [116M 09:30:04]  b5916279-cfa8-4cd9-858b-b3e14cc3b8af-0_6-301-4066_20230311092832190.parquet\n",
      "    ├── [ 15M 09:28:02]  b5916279-cfa8-4cd9-858b-b3e14cc3b8af-0_9-253-3323_20230311092743329.parquet\n",
      "    ├── [116M 09:30:04]  c3c761b9-d635-4921-b3b0-9e31a9ef7c0a-0_4-301-4064_20230311092832190.parquet\n",
      "    └── [ 21M 09:28:03]  c3c761b9-d635-4921-b3b0-9e31a9ef7c0a-0_5-253-3319_20230311092743329.parquet\n"
     ]
    }
   ],
   "source": [
    "%%sh\n",
    "${WORKSPACE}/hudi-stat.sh s3://${S3_BUCKET}/${TABLE_NAME} timeline commits storage"
   ]
  }
 ],
 "metadata": {
  "kernelspec": {
   "display_name": "Spark",
   "language": "scala",
   "name": "sparkkernel"
  },
  "language_info": {
   "codemirror_mode": "text/x-scala",
   "file_extension": ".sc",
   "mimetype": "text/x-scala",
   "name": "scala",
   "pygments_lexer": "scala"
  }
 },
 "nbformat": 4,
 "nbformat_minor": 5
}
