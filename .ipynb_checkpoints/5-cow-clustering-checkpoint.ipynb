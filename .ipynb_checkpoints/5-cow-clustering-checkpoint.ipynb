{
 "cells": [
  {
   "cell_type": "markdown",
   "id": "44288d4b-1602-44ad-9881-f0e510a30d76",
   "metadata": {
    "tags": []
   },
   "source": [
    "# Apache Hudi Core Conceptions (5) - COW: Clustering"
   ]
  },
  {
   "cell_type": "markdown",
   "id": "83431d2a-fdca-4dd4-b08c-230b3abd0fca",
   "metadata": {
    "tags": []
   },
   "source": [
    "## 1. Configuration"
   ]
  },
  {
   "cell_type": "code",
   "execution_count": 9,
   "id": "030c74b6-c1ea-4df3-bac4-20c9040dfc78",
   "metadata": {
    "execution": {
     "iopub.execute_input": "2023-03-16T05:53:30.668668Z",
     "iopub.status.busy": "2023-03-16T05:53:30.668360Z",
     "iopub.status.idle": "2023-03-16T05:53:34.932608Z",
     "shell.execute_reply": "2023-03-16T05:53:34.931821Z",
     "shell.execute_reply.started": "2023-03-16T05:53:30.668641Z"
    },
    "tags": []
   },
   "outputs": [
    {
     "name": "stdout",
     "output_type": "stream",
     "text": [
      "-rw-r--r--   1 emr-notebook hdfsadmingroup   61421977 2023-03-16 05:53 /tmp/hudi-spark-bundle.jar\n"
     ]
    }
   ],
   "source": [
    "%%sh\n",
    "# deploy hudi bundle jar\n",
    "hdfs dfs -copyFromLocal -f /usr/lib/hudi/hudi-spark-bundle.jar /tmp/hudi-spark-bundle.jar\n",
    "hdfs dfs -ls /tmp/hudi-spark-bundle.jar"
   ]
  },
  {
   "cell_type": "code",
   "execution_count": 10,
   "id": "2ec4c106-0651-493c-b9e7-3ef7b0c623be",
   "metadata": {
    "execution": {
     "iopub.execute_input": "2023-03-16T05:53:34.934255Z",
     "iopub.status.busy": "2023-03-16T05:53:34.933998Z",
     "iopub.status.idle": "2023-03-16T05:54:08.218284Z",
     "shell.execute_reply": "2023-03-16T05:54:08.217399Z",
     "shell.execute_reply.started": "2023-03-16T05:53:34.934228Z"
    },
    "tags": []
   },
   "outputs": [
    {
     "name": "stdout",
     "output_type": "stream",
     "text": [
      "Starting Spark application\n"
     ]
    },
    {
     "data": {
      "text/html": [
       "<table>\n<tbody><tr><th>ID</th><th>YARN Application ID</th><th>Kind</th><th>State</th><th>Spark UI</th><th>Driver log</th><th>User</th><th>Current session?</th></tr><tr><td>89</td><td>application_1678096020253_0160</td><td>spark</td><td>idle</td><td><a target=\"_blank\" href=\"http://ip-10-0-129-209.ec2.internal:20888/proxy/application_1678096020253_0160/\" class=\"emr-proxy-link j-6V65AY8X5VHR application_1678096020253_0160\" emr-resource=\"j-6V65AY8X5VHR\n\" application-id=\"application_1678096020253_0160\">Link</a></td><td><a target=\"_blank\" href=\"http://ip-10-0-132-108.ec2.internal:8042/node/containerlogs/container_1678096020253_0160_01_000001/livy\">Link</a></td><td>None</td><td>✔</td></tr></tbody></table>"
      ],
      "text/plain": [
       "<IPython.core.display.HTML object>"
      ]
     },
     "metadata": {},
     "output_type": "display_data"
    },
    {
     "data": {
      "application/vnd.jupyter.widget-view+json": {
       "model_id": "",
       "version_major": 2,
       "version_minor": 0
      },
      "text/plain": [
       "FloatProgress(value=0.0, bar_style='info', description='Progress:', layout=Layout(height='25px', width='50%'),…"
      ]
     },
     "metadata": {},
     "output_type": "display_data"
    },
    {
     "name": "stdout",
     "output_type": "stream",
     "text": [
      "SparkSession available as 'spark'.\n"
     ]
    },
    {
     "data": {
      "text/html": [
       "Current session configs: <tt>{'conf': {'spark.jars': 'hdfs:///tmp/hudi-spark-bundle.jar', 'spark.serializer': 'org.apache.spark.serializer.KryoSerializer', 'spark.sql.extensions': 'org.apache.spark.sql.hudi.HoodieSparkSessionExtension', 'spark.sql.catalog.spark_catalog': 'org.apache.spark.sql.hudi.catalog.HoodieCatalog'}, 'proxyUser': 'user_bluishglc', 'kind': 'spark'}</tt><br>"
      ],
      "text/plain": [
       "<IPython.core.display.HTML object>"
      ]
     },
     "metadata": {},
     "output_type": "display_data"
    },
    {
     "data": {
      "text/html": [
       "<table>\n<tbody><tr><th>ID</th><th>YARN Application ID</th><th>Kind</th><th>State</th><th>Spark UI</th><th>Driver log</th><th>User</th><th>Current session?</th></tr><tr><td>89</td><td>application_1678096020253_0160</td><td>spark</td><td>idle</td><td><a target=\"_blank\" href=\"http://ip-10-0-129-209.ec2.internal:20888/proxy/application_1678096020253_0160/\" class=\"emr-proxy-link j-6V65AY8X5VHR application_1678096020253_0160\" emr-resource=\"j-6V65AY8X5VHR\n\" application-id=\"application_1678096020253_0160\">Link</a></td><td><a target=\"_blank\" href=\"http://ip-10-0-132-108.ec2.internal:8042/node/containerlogs/container_1678096020253_0160_01_000001/livy\">Link</a></td><td>None</td><td>✔</td></tr></tbody></table>"
      ],
      "text/plain": [
       "<IPython.core.display.HTML object>"
      ]
     },
     "metadata": {},
     "output_type": "display_data"
    }
   ],
   "source": [
    "%%configure -f\n",
    "{\n",
    "    \"conf\" : {\n",
    "        \"spark.jars\":\"hdfs:///tmp/hudi-spark-bundle.jar\",            \n",
    "        \"spark.serializer\":\"org.apache.spark.serializer.KryoSerializer\",\n",
    "        \"spark.sql.extensions\":\"org.apache.spark.sql.hudi.HoodieSparkSessionExtension\",\n",
    "        \"spark.sql.catalog.spark_catalog\":\"org.apache.spark.sql.hudi.catalog.HoodieCatalog\"\n",
    "    }\n",
    "}"
   ]
  },
  {
   "cell_type": "code",
   "execution_count": 11,
   "id": "bc32a2d6-445f-4f77-8af9-04a345e6dc68",
   "metadata": {
    "execution": {
     "iopub.execute_input": "2023-03-16T05:54:08.220991Z",
     "iopub.status.busy": "2023-03-16T05:54:08.220415Z",
     "iopub.status.idle": "2023-03-16T05:54:08.226300Z",
     "shell.execute_reply": "2023-03-16T05:54:08.225504Z",
     "shell.execute_reply.started": "2023-03-16T05:54:08.220951Z"
    },
    "tags": []
   },
   "outputs": [
    {
     "name": "stdout",
     "output_type": "stream",
     "text": [
      "env: S3_BUCKET=apache-hudi-core-conceptions\n"
     ]
    }
   ],
   "source": [
    "%env S3_BUCKET=apache-hudi-core-conceptions"
   ]
  },
  {
   "cell_type": "code",
   "execution_count": 12,
   "id": "4ddf9830-9202-45a7-aa5f-94c9f1d11995",
   "metadata": {
    "execution": {
     "iopub.execute_input": "2023-03-16T05:54:08.228648Z",
     "iopub.status.busy": "2023-03-16T05:54:08.228036Z",
     "iopub.status.idle": "2023-03-16T05:54:15.736940Z",
     "shell.execute_reply": "2023-03-16T05:54:15.736216Z",
     "shell.execute_reply.started": "2023-03-16T05:54:08.228612Z"
    },
    "tags": []
   },
   "outputs": [
    {
     "data": {
      "application/vnd.jupyter.widget-view+json": {
       "model_id": "",
       "version_major": 2,
       "version_minor": 0
      },
      "text/plain": [
       "FloatProgress(value=0.0, bar_style='info', description='Progress:', layout=Layout(height='25px', width='50%'),…"
      ]
     },
     "metadata": {},
     "output_type": "display_data"
    },
    {
     "data": {
      "text/html": [
       "<style>.jp-OutputArea-child .jupyter-widgets.jp-OutputArea-output { overflow: auto; }</style>"
      ],
      "text/plain": [
       "<IPython.core.display.HTML object>"
      ]
     },
     "metadata": {},
     "output_type": "display_data"
    },
    {
     "data": {
      "application/vnd.jupyter.widget-view+json": {
       "model_id": "0d0a175f77fa40bc8ab17b7908d1fae7",
       "version_major": 2,
       "version_minor": 0
      },
      "text/plain": [
       "VBox(children=(HBox(children=(HTML(value='Type:'), Button(description='Table', layout=Layout(width='70px'), st…"
      ]
     },
     "metadata": {},
     "output_type": "display_data"
    },
    {
     "data": {
      "application/vnd.jupyter.widget-view+json": {
       "model_id": "e8a7001bf9b740099fb2449793eb74b8",
       "version_major": 2,
       "version_minor": 0
      },
      "text/plain": [
       "Output()"
      ]
     },
     "metadata": {},
     "output_type": "display_data"
    }
   ],
   "source": [
    "%%sql\n",
    "set S3_BUCKET=apache-hudi-core-conceptions"
   ]
  },
  {
   "cell_type": "code",
   "execution_count": 13,
   "id": "a26b4bca-2c9f-4df8-bae2-b6f410d234eb",
   "metadata": {
    "execution": {
     "iopub.execute_input": "2023-03-16T05:54:15.738665Z",
     "iopub.status.busy": "2023-03-16T05:54:15.738147Z",
     "iopub.status.idle": "2023-03-16T05:54:15.743569Z",
     "shell.execute_reply": "2023-03-16T05:54:15.742810Z",
     "shell.execute_reply.started": "2023-03-16T05:54:15.738631Z"
    },
    "tags": []
   },
   "outputs": [
    {
     "name": "stdout",
     "output_type": "stream",
     "text": [
      "env: WORKSPACE=/home/emr-notebook/apache-hudi-core-conceptions\n"
     ]
    }
   ],
   "source": [
    "%env WORKSPACE=/home/emr-notebook/apache-hudi-core-conceptions"
   ]
  },
  {
   "cell_type": "code",
   "execution_count": 14,
   "id": "6041fe4a-ef77-4519-aa37-9fd6feb3434e",
   "metadata": {
    "execution": {
     "iopub.execute_input": "2023-03-16T05:54:15.745583Z",
     "iopub.status.busy": "2023-03-16T05:54:15.745063Z",
     "iopub.status.idle": "2023-03-16T05:54:15.908658Z",
     "shell.execute_reply": "2023-03-16T05:54:15.907669Z",
     "shell.execute_reply.started": "2023-03-16T05:54:15.745551Z"
    },
    "tags": []
   },
   "outputs": [
    {
     "name": "stdout",
     "output_type": "stream",
     "text": [
      "/home/emr-notebook/apache-hudi-core-conceptions/hudi-stat.sh\n"
     ]
    }
   ],
   "source": [
    "%%sh\n",
    "# make workspace\n",
    "mkdir -p $WORKSPACE\n",
    "# deploy hudi-stat.sh, a utility shell script to output hudi table status\n",
    "wget https://raw.githubusercontent.com/bluishglc/apache-hudi-core-conceptions/master/hudi-stat.sh -O $WORKSPACE/hudi-stat.sh &>/dev/null\n",
    "chmod a+x $WORKSPACE/hudi-stat.sh\n",
    "ls $WORKSPACE/hudi-stat.sh"
   ]
  },
  {
   "cell_type": "code",
   "execution_count": 15,
   "id": "435d81cc-0e9d-4eaa-805b-2c28ff765b6e",
   "metadata": {
    "execution": {
     "iopub.execute_input": "2023-03-16T05:54:15.910205Z",
     "iopub.status.busy": "2023-03-16T05:54:15.909942Z",
     "iopub.status.idle": "2023-03-16T05:54:15.918545Z",
     "shell.execute_reply": "2023-03-16T05:54:15.917862Z",
     "shell.execute_reply.started": "2023-03-16T05:54:15.910175Z"
    },
    "tags": []
   },
   "outputs": [
    {
     "data": {
      "text/html": [
       "<style>\n",
       "table {float:left}\n",
       "</style>\n"
      ],
      "text/plain": [
       "<IPython.core.display.HTML object>"
      ]
     },
     "metadata": {},
     "output_type": "display_data"
    }
   ],
   "source": [
    "%%html\n",
    "<style>\n",
    "table {float:left}\n",
    "</style>"
   ]
  },
  {
   "cell_type": "markdown",
   "id": "07a926b5-08a4-4b5f-a8db-d2dd6e239566",
   "metadata": {
    "tags": []
   },
   "source": [
    "## 2. Test Case 1 - Sync Clustering ( Inline Schedule + Inline Execute )"
   ]
  },
  {
   "cell_type": "markdown",
   "id": "ef523d6b-0976-4b44-b924-c5526bce23f6",
   "metadata": {
    "jp-MarkdownHeadingCollapsed": true,
    "tags": []
   },
   "source": [
    "### 2.1. Test Plan\n",
    "\n",
    "Step No.|Action|Volume / Partition |File System\n",
    ":--------:|:------|:------|:----------\n",
    "1|Insert|96MB|+ 1 Small FileGroup\n",
    "2|Insert|213MB|+ 1 Max File + 1 Small File\n",
    "3|Insert|182MB|+ 1 Max File + 1 Small File"
   ]
  },
  {
   "cell_type": "markdown",
   "id": "ee4c3d26-6790-4d3f-b468-88fb765bef94",
   "metadata": {
    "tags": []
   },
   "source": [
    "### 2.2. Key Settings\n",
    "\n",
    "KEY|DEFAULT VALUE|SET VALUE\n",
    ":---|:---|:---\n",
    "hoodie.clustering.inline|false|true\n",
    "hoodie.clustering.schedule.inline|false|false\n",
    "hoodie.clustering.async.enabled|false|false\n",
    "hoodie.clustering.inline.max.commits|4|3\n",
    "hoodie.clustering.plan.strategy.target.file.max.bytes|1073741824 / 1GB|314572800 / 300MB\n",
    "hoodie.clustering.plan.strategy.small.file.limit|314572800 / 300MB|209715200 / 200MB\n",
    "hoodie.clustering.plan.strategy.sort.columns|-|review_date\n",
    "hoodie.parquet.small.file.limit|104857600 / 100MB | 0\n",
    "hoodie.copyonwrite.record.size.estimate|1024|175"
   ]
  },
  {
   "cell_type": "markdown",
   "id": "cbb044c2-c560-4ef5-a432-1459b2b0184d",
   "metadata": {
    "execution": {
     "iopub.execute_input": "2023-02-25T02:57:45.037101Z",
     "iopub.status.busy": "2023-02-25T02:57:45.036681Z",
     "iopub.status.idle": "2023-02-25T02:58:07.353493Z",
     "shell.execute_reply": "2023-02-25T02:58:07.352596Z",
     "shell.execute_reply.started": "2023-02-25T02:57:45.037060Z"
    },
    "tags": []
   },
   "source": [
    "### 2.3. Set Variables"
   ]
  },
  {
   "cell_type": "code",
   "execution_count": 51,
   "id": "ec227cb2-7934-4c0b-a156-17555d0bf51f",
   "metadata": {
    "execution": {
     "iopub.execute_input": "2023-03-16T04:03:01.278677Z",
     "iopub.status.busy": "2023-03-16T04:03:01.278195Z",
     "iopub.status.idle": "2023-03-16T04:03:08.768545Z",
     "shell.execute_reply": "2023-03-16T04:03:08.767641Z",
     "shell.execute_reply.started": "2023-03-16T04:03:01.278634Z"
    },
    "tags": []
   },
   "outputs": [
    {
     "data": {
      "application/vnd.jupyter.widget-view+json": {
       "model_id": "",
       "version_major": 2,
       "version_minor": 0
      },
      "text/plain": [
       "FloatProgress(value=0.0, bar_style='info', description='Progress:', layout=Layout(height='25px', width='50%'),…"
      ]
     },
     "metadata": {},
     "output_type": "display_data"
    },
    {
     "data": {
      "text/html": [
       "<style>.jp-OutputArea-child .jupyter-widgets.jp-OutputArea-output { overflow: auto; }</style>"
      ],
      "text/plain": [
       "<IPython.core.display.HTML object>"
      ]
     },
     "metadata": {},
     "output_type": "display_data"
    },
    {
     "data": {
      "application/vnd.jupyter.widget-view+json": {
       "model_id": "a9584738fb3648b78ec02cce017c8f37",
       "version_major": 2,
       "version_minor": 0
      },
      "text/plain": [
       "VBox(children=(HBox(children=(HTML(value='Type:'), Button(description='Table', layout=Layout(width='70px'), st…"
      ]
     },
     "metadata": {},
     "output_type": "display_data"
    },
    {
     "data": {
      "application/vnd.jupyter.widget-view+json": {
       "model_id": "c340179a431042779e929624ce1b0126",
       "version_major": 2,
       "version_minor": 0
      },
      "text/plain": [
       "Output()"
      ]
     },
     "metadata": {},
     "output_type": "display_data"
    }
   ],
   "source": [
    "%%sql\n",
    "set TABLE_NAME=reviews_cow_clustering_1"
   ]
  },
  {
   "cell_type": "code",
   "execution_count": 52,
   "id": "af107b02-40e6-4c04-9ec2-05f2a04d2774",
   "metadata": {
    "execution": {
     "iopub.execute_input": "2023-03-16T04:03:08.770028Z",
     "iopub.status.busy": "2023-03-16T04:03:08.769790Z",
     "iopub.status.idle": "2023-03-16T04:03:08.774504Z",
     "shell.execute_reply": "2023-03-16T04:03:08.773746Z",
     "shell.execute_reply.started": "2023-03-16T04:03:08.770006Z"
    },
    "tags": []
   },
   "outputs": [
    {
     "name": "stdout",
     "output_type": "stream",
     "text": [
      "env: TABLE_NAME=reviews_cow_clustering_1\n"
     ]
    }
   ],
   "source": [
    "%env TABLE_NAME=reviews_cow_clustering_1"
   ]
  },
  {
   "cell_type": "markdown",
   "id": "bf9f3e19-bde1-46c7-b0cf-fa4d30244da0",
   "metadata": {},
   "source": [
    "### 2.4. Create Table"
   ]
  },
  {
   "cell_type": "code",
   "execution_count": 53,
   "id": "c7e14f8e-d1ab-4a09-9285-645780cd2040",
   "metadata": {
    "execution": {
     "iopub.execute_input": "2023-03-16T04:03:08.776366Z",
     "iopub.status.busy": "2023-03-16T04:03:08.776058Z",
     "iopub.status.idle": "2023-03-16T04:03:14.917813Z",
     "shell.execute_reply": "2023-03-16T04:03:14.916950Z",
     "shell.execute_reply.started": "2023-03-16T04:03:08.776343Z"
    },
    "tags": []
   },
   "outputs": [],
   "source": [
    "%%sh\n",
    "aws s3 rm s3://${S3_BUCKET}/${TABLE_NAME} --recursive &>/dev/null\n",
    "rm -rf ${WORKSPACE}/${TABLE_NAME}\n",
    "sleep 5"
   ]
  },
  {
   "cell_type": "code",
   "execution_count": 54,
   "id": "bc129c8c-720a-4b59-ab69-e62fde049dd4",
   "metadata": {
    "execution": {
     "iopub.execute_input": "2023-03-16T04:03:14.919628Z",
     "iopub.status.busy": "2023-03-16T04:03:14.919380Z",
     "iopub.status.idle": "2023-03-16T04:03:15.797030Z",
     "shell.execute_reply": "2023-03-16T04:03:15.795874Z",
     "shell.execute_reply.started": "2023-03-16T04:03:14.919604Z"
    },
    "tags": []
   },
   "outputs": [
    {
     "data": {
      "application/vnd.jupyter.widget-view+json": {
       "model_id": "",
       "version_major": 2,
       "version_minor": 0
      },
      "text/plain": [
       "FloatProgress(value=0.0, bar_style='info', description='Progress:', layout=Layout(height='25px', width='50%'),…"
      ]
     },
     "metadata": {},
     "output_type": "display_data"
    },
    {
     "data": {
      "text/html": [
       "<style>.jp-OutputArea-child .jupyter-widgets.jp-OutputArea-output { overflow: auto; }</style>"
      ],
      "text/plain": [
       "<IPython.core.display.HTML object>"
      ]
     },
     "metadata": {},
     "output_type": "display_data"
    },
    {
     "data": {
      "application/vnd.jupyter.widget-view+json": {
       "model_id": "88bb3f3e152541cfa353bc14dd18ecde",
       "version_major": 2,
       "version_minor": 0
      },
      "text/plain": [
       "VBox(children=(HBox(), EncodingWidget(children=(VBox(children=(HTML(value='Encoding:'), Dropdown(description='…"
      ]
     },
     "metadata": {},
     "output_type": "display_data"
    },
    {
     "data": {
      "application/vnd.jupyter.widget-view+json": {
       "model_id": "51ee3bbc2ff64dafaf71547f972970c3",
       "version_major": 2,
       "version_minor": 0
      },
      "text/plain": [
       "Output()"
      ]
     },
     "metadata": {},
     "output_type": "display_data"
    }
   ],
   "source": [
    "%%sql\n",
    "drop table if exists ${TABLE_NAME}"
   ]
  },
  {
   "cell_type": "code",
   "execution_count": 55,
   "id": "de3784b9-9661-47d7-a7f1-fa4db6e48b7d",
   "metadata": {
    "execution": {
     "iopub.execute_input": "2023-03-16T04:03:15.798993Z",
     "iopub.status.busy": "2023-03-16T04:03:15.798505Z",
     "iopub.status.idle": "2023-03-16T04:03:18.150515Z",
     "shell.execute_reply": "2023-03-16T04:03:18.149735Z",
     "shell.execute_reply.started": "2023-03-16T04:03:15.798955Z"
    },
    "tags": []
   },
   "outputs": [
    {
     "data": {
      "application/vnd.jupyter.widget-view+json": {
       "model_id": "",
       "version_major": 2,
       "version_minor": 0
      },
      "text/plain": [
       "FloatProgress(value=0.0, bar_style='info', description='Progress:', layout=Layout(height='25px', width='50%'),…"
      ]
     },
     "metadata": {},
     "output_type": "display_data"
    },
    {
     "data": {
      "text/html": [
       "<style>.jp-OutputArea-child .jupyter-widgets.jp-OutputArea-output { overflow: auto; }</style>"
      ],
      "text/plain": [
       "<IPython.core.display.HTML object>"
      ]
     },
     "metadata": {},
     "output_type": "display_data"
    },
    {
     "data": {
      "application/vnd.jupyter.widget-view+json": {
       "model_id": "b477829821424325969ceadbaa1facc6",
       "version_major": 2,
       "version_minor": 0
      },
      "text/plain": [
       "VBox(children=(HBox(), EncodingWidget(children=(VBox(children=(HTML(value='Encoding:'), Dropdown(description='…"
      ]
     },
     "metadata": {},
     "output_type": "display_data"
    },
    {
     "data": {
      "application/vnd.jupyter.widget-view+json": {
       "model_id": "75300b0febca40ecb0bf5b5153541dcb",
       "version_major": 2,
       "version_minor": 0
      },
      "text/plain": [
       "Output()"
      ]
     },
     "metadata": {},
     "output_type": "display_data"
    }
   ],
   "source": [
    "%%sql\n",
    "create table if not exists ${TABLE_NAME}(\n",
    "    review_id string, \n",
    "    star_rating int, \n",
    "    review_body string, \n",
    "    review_date date, \n",
    "    year long,\n",
    "    timestamp long,\n",
    "    parity int\n",
    ")\n",
    "using hudi\n",
    "location 's3://${S3_BUCKET}/${TABLE_NAME}'\n",
    "partitioned by (parity)\n",
    "options ( \n",
    "    type = 'cow',  \n",
    "    primaryKey = 'review_id', \n",
    "    preCombineField = 'timestamp',\n",
    "    hoodie.clustering.inline = 'true',\n",
    "    hoodie.clustering.schedule.inline = 'false',\n",
    "    hoodie.clustering.async.enabled = 'false',\n",
    "    hoodie.clustering.inline.max.commits = '3',\n",
    "    hoodie.clustering.plan.strategy.small.file.limit = '209715200',\n",
    "    hoodie.clustering.plan.strategy.target.file.max.bytes = '314572800',\n",
    "    hoodie.clustering.plan.strategy.sort.columns = 'review_date',\n",
    "    hoodie.parquet.small.file.limit = '0',\n",
    "    hoodie.copyonwrite.record.size.estimate = '175'\n",
    ");"
   ]
  },
  {
   "cell_type": "markdown",
   "id": "52c86110-0dd8-49cb-9e5c-db659e915ae2",
   "metadata": {
    "tags": []
   },
   "source": [
    "### 2.5. Insert 96MB / + 1 Small File"
   ]
  },
  {
   "cell_type": "code",
   "execution_count": 56,
   "id": "f593c3f9-b0b2-4950-96a4-06428f3ad161",
   "metadata": {
    "execution": {
     "iopub.execute_input": "2023-03-16T04:03:18.151723Z",
     "iopub.status.busy": "2023-03-16T04:03:18.151492Z",
     "iopub.status.idle": "2023-03-16T04:04:17.635394Z",
     "shell.execute_reply": "2023-03-16T04:04:17.634544Z",
     "shell.execute_reply.started": "2023-03-16T04:03:18.151701Z"
    },
    "tags": []
   },
   "outputs": [
    {
     "data": {
      "application/vnd.jupyter.widget-view+json": {
       "model_id": "",
       "version_major": 2,
       "version_minor": 0
      },
      "text/plain": [
       "FloatProgress(value=0.0, bar_style='info', description='Progress:', layout=Layout(height='25px', width='50%'),…"
      ]
     },
     "metadata": {},
     "output_type": "display_data"
    },
    {
     "data": {
      "text/html": [
       "<style>.jp-OutputArea-child .jupyter-widgets.jp-OutputArea-output { overflow: auto; }</style>"
      ],
      "text/plain": [
       "<IPython.core.display.HTML object>"
      ]
     },
     "metadata": {},
     "output_type": "display_data"
    },
    {
     "data": {
      "application/vnd.jupyter.widget-view+json": {
       "model_id": "0ad5a8c94fa0475d9e4f381364faa138",
       "version_major": 2,
       "version_minor": 0
      },
      "text/plain": [
       "VBox(children=(HBox(), EncodingWidget(children=(VBox(children=(HTML(value='Encoding:'), Dropdown(description='…"
      ]
     },
     "metadata": {},
     "output_type": "display_data"
    },
    {
     "data": {
      "application/vnd.jupyter.widget-view+json": {
       "model_id": "4e105ec16165407fb5d9122932ee72b0",
       "version_major": 2,
       "version_minor": 0
      },
      "text/plain": [
       "Output()"
      ]
     },
     "metadata": {},
     "output_type": "display_data"
    }
   ],
   "source": [
    "%%sql\n",
    "insert into \n",
    "    ${TABLE_NAME}\n",
    "select \n",
    "    review_id, \n",
    "    star_rating, \n",
    "    review_body, \n",
    "    review_date, \n",
    "    year,\n",
    "    unix_timestamp(current_timestamp()) as timestamp,\n",
    "    mod(crc32(review_id), 2) as parity\n",
    "from\n",
    "    reviews\n",
    "where\n",
    "    year = 2003;"
   ]
  },
  {
   "cell_type": "code",
   "execution_count": 57,
   "id": "8dcdeac8-e953-4bdd-856a-c478bd52f7a8",
   "metadata": {
    "execution": {
     "iopub.execute_input": "2023-03-16T04:04:17.636721Z",
     "iopub.status.busy": "2023-03-16T04:04:17.636456Z",
     "iopub.status.idle": "2023-03-16T04:04:33.758681Z",
     "shell.execute_reply": "2023-03-16T04:04:33.757914Z",
     "shell.execute_reply.started": "2023-03-16T04:04:17.636695Z"
    },
    "tags": []
   },
   "outputs": [
    {
     "name": "stdout",
     "output_type": "stream",
     "text": [
      "\n",
      "[ TIMELINE ]\n",
      "\n",
      "╔═════╤═══════════════════╤════════╤═══════════╤═════════════╤═════════════╤═════════════╗\n",
      "║ No. │ Instant           │ Action │ State     │ Requested   │ Inflight    │ Completed   ║\n",
      "║     │                   │        │           │ Time        │ Time        │ Time        ║\n",
      "╠═════╪═══════════════════╪════════╪═══════════╪═════════════╪═════════════╪═════════════╣\n",
      "║ 0   │ 20230316040318675 │ commit │ COMPLETED │ 03-16 04:03 │ 03-16 04:03 │ 03-16 04:04 ║\n",
      "╚═════╧═══════════════════╧════════╧═══════════╧═════════════╧═════════════╧═════════════╝\n",
      "\n",
      "[ COMMITS ]\n",
      "\n",
      "╔═══════════════════╤═════════════════════╤═══════════════════╤═════════════════════╤══════════════════════════╤═══════════════════════╤══════════════════════════════╤══════════════╗\n",
      "║ CommitTime        │ Total Bytes Written │ Total Files Added │ Total Files Updated │ Total Partitions Written │ Total Records Written │ Total Update Records Written │ Total Errors ║\n",
      "╠═══════════════════╪═════════════════════╪═══════════════════╪═════════════════════╪══════════════════════════╪═══════════════════════╪══════════════════════════════╪══════════════╣\n",
      "║ 20230316040318675 │ 191.6 MB            │ 2                 │ 0                   │ 2                        │ 1155127               │ 0                            │ 0            ║\n",
      "╚═══════════════════╧═════════════════════╧═══════════════════╧═════════════════════╧══════════════════════════╧═══════════════════════╧══════════════════════════════╧══════════════╝\n",
      "\n",
      "[ STORAGE ]\n",
      "\n",
      "/home/emr-notebook/apache-hudi-core-conceptions/reviews_cow_clustering_1\n",
      "├── [ 96M 04:04:33]  parity=0\n",
      "│   └── [ 96M 04:04:07]  5da21b55-01b8-4428-8a21-9e3f5e6c0740-0_0-689-3983_20230316040318675.parquet\n",
      "└── [ 96M 04:04:33]  parity=1\n",
      "    └── [ 96M 04:04:06]  e98faca4-8431-4a1c-ad00-f2d30e8f93a9-0_1-689-3984_20230316040318675.parquet\n"
     ]
    }
   ],
   "source": [
    "%%sh\n",
    "${WORKSPACE}/hudi-stat.sh s3://${S3_BUCKET}/${TABLE_NAME} timeline commits storage"
   ]
  },
  {
   "cell_type": "markdown",
   "id": "49d18b4b-187c-4d78-8680-61638307d829",
   "metadata": {
    "tags": []
   },
   "source": [
    "### 2.6. Insert 213MB / + 1 Max File + 1 Small File"
   ]
  },
  {
   "cell_type": "code",
   "execution_count": 58,
   "id": "8ddba28f-865c-434e-8f5b-21d09c0daddc",
   "metadata": {
    "execution": {
     "iopub.execute_input": "2023-03-16T04:04:33.761544Z",
     "iopub.status.busy": "2023-03-16T04:04:33.761274Z",
     "iopub.status.idle": "2023-03-16T04:05:47.305635Z",
     "shell.execute_reply": "2023-03-16T04:05:47.304813Z",
     "shell.execute_reply.started": "2023-03-16T04:04:33.761519Z"
    },
    "tags": []
   },
   "outputs": [
    {
     "data": {
      "application/vnd.jupyter.widget-view+json": {
       "model_id": "",
       "version_major": 2,
       "version_minor": 0
      },
      "text/plain": [
       "FloatProgress(value=0.0, bar_style='info', description='Progress:', layout=Layout(height='25px', width='50%'),…"
      ]
     },
     "metadata": {},
     "output_type": "display_data"
    },
    {
     "data": {
      "text/html": [
       "<style>.jp-OutputArea-child .jupyter-widgets.jp-OutputArea-output { overflow: auto; }</style>"
      ],
      "text/plain": [
       "<IPython.core.display.HTML object>"
      ]
     },
     "metadata": {},
     "output_type": "display_data"
    },
    {
     "data": {
      "application/vnd.jupyter.widget-view+json": {
       "model_id": "981ff8ce91e543e59eb7ca45b249264e",
       "version_major": 2,
       "version_minor": 0
      },
      "text/plain": [
       "VBox(children=(HBox(), EncodingWidget(children=(VBox(children=(HTML(value='Encoding:'), Dropdown(description='…"
      ]
     },
     "metadata": {},
     "output_type": "display_data"
    },
    {
     "data": {
      "application/vnd.jupyter.widget-view+json": {
       "model_id": "b79a28d9984e437a88960465bb358827",
       "version_major": 2,
       "version_minor": 0
      },
      "text/plain": [
       "Output()"
      ]
     },
     "metadata": {},
     "output_type": "display_data"
    }
   ],
   "source": [
    "%%sql\n",
    "insert into \n",
    "    ${TABLE_NAME}\n",
    "select \n",
    "    review_id, \n",
    "    star_rating, \n",
    "    review_body, \n",
    "    review_date, \n",
    "    year,\n",
    "    unix_timestamp(current_timestamp()) as timestamp,\n",
    "    mod(crc32(review_id), 2) as parity\n",
    "from\n",
    "    reviews\n",
    "where\n",
    "    year in (2004, 2005);"
   ]
  },
  {
   "cell_type": "code",
   "execution_count": 59,
   "id": "cc1da694-7f0b-443a-bdc9-d9d2b9815682",
   "metadata": {
    "execution": {
     "iopub.execute_input": "2023-03-16T04:05:47.307690Z",
     "iopub.status.busy": "2023-03-16T04:05:47.307351Z",
     "iopub.status.idle": "2023-03-16T04:06:04.767099Z",
     "shell.execute_reply": "2023-03-16T04:06:04.766171Z",
     "shell.execute_reply.started": "2023-03-16T04:05:47.307655Z"
    },
    "tags": []
   },
   "outputs": [
    {
     "name": "stdout",
     "output_type": "stream",
     "text": [
      "\n",
      "[ TIMELINE ]\n",
      "\n",
      "╔═════╤═══════════════════╤════════╤═══════════╤═════════════╤═════════════╤═════════════╗\n",
      "║ No. │ Instant           │ Action │ State     │ Requested   │ Inflight    │ Completed   ║\n",
      "║     │                   │        │           │ Time        │ Time        │ Time        ║\n",
      "╠═════╪═══════════════════╪════════╪═══════════╪═════════════╪═════════════╪═════════════╣\n",
      "║ 0   │ 20230316040318675 │ commit │ COMPLETED │ 03-16 04:03 │ 03-16 04:03 │ 03-16 04:04 ║\n",
      "╟─────┼───────────────────┼────────┼───────────┼─────────────┼─────────────┼─────────────╢\n",
      "║ 1   │ 20230316040434923 │ commit │ COMPLETED │ 03-16 04:04 │ 03-16 04:05 │ 03-16 04:05 ║\n",
      "╚═════╧═══════════════════╧════════╧═══════════╧═════════════╧═════════════╧═════════════╝\n",
      "\n",
      "[ COMMITS ]\n",
      "\n",
      "╔═══════════════════╤═════════════════════╤═══════════════════╤═════════════════════╤══════════════════════════╤═══════════════════════╤══════════════════════════════╤══════════════╗\n",
      "║ CommitTime        │ Total Bytes Written │ Total Files Added │ Total Files Updated │ Total Partitions Written │ Total Records Written │ Total Update Records Written │ Total Errors ║\n",
      "╠═══════════════════╪═════════════════════╪═══════════════════╪═════════════════════╪══════════════════════════╪═══════════════════════╪══════════════════════════════╪══════════════╣\n",
      "║ 20230316040434923 │ 426.7 MB            │ 4                 │ 0                   │ 2                        │ 2570430               │ 0                            │ 0            ║\n",
      "╟───────────────────┼─────────────────────┼───────────────────┼─────────────────────┼──────────────────────────┼───────────────────────┼──────────────────────────────┼──────────────╢\n",
      "║ 20230316040318675 │ 191.6 MB            │ 2                 │ 0                   │ 2                        │ 1155127               │ 0                            │ 0            ║\n",
      "╚═══════════════════╧═════════════════════╧═══════════════════╧═════════════════════╧══════════════════════════╧═══════════════════════╧══════════════════════════════╧══════════════╝\n",
      "\n",
      "[ STORAGE ]\n",
      "\n",
      "/home/emr-notebook/apache-hudi-core-conceptions/reviews_cow_clustering_1\n",
      "├── [309M 04:06:04]  parity=0\n",
      "│   ├── [120M 04:05:36]  22435e15-5b44-4d13-a7d1-e0ebbabcec7d-0_0-736-4253_20230316040434923.parquet\n",
      "│   ├── [ 96M 04:04:07]  5da21b55-01b8-4428-8a21-9e3f5e6c0740-0_0-689-3983_20230316040318675.parquet\n",
      "│   └── [ 93M 04:05:31]  724f9768-5c8d-4eae-8aa5-5a29760493ee-0_1-736-4254_20230316040434923.parquet\n",
      "└── [309M 04:06:04]  parity=1\n",
      "    ├── [ 94M 04:05:34]  82a3ccba-8aa3-4aab-86d2-7ba5eea136be-0_3-736-4256_20230316040434923.parquet\n",
      "    ├── [120M 04:05:36]  abcb757a-7f7c-45d7-af61-ff6b808e1129-0_2-736-4255_20230316040434923.parquet\n",
      "    └── [ 96M 04:04:06]  e98faca4-8431-4a1c-ad00-f2d30e8f93a9-0_1-689-3984_20230316040318675.parquet\n"
     ]
    }
   ],
   "source": [
    "%%sh\n",
    "${WORKSPACE}/hudi-stat.sh s3://${S3_BUCKET}/${TABLE_NAME} timeline commits storage"
   ]
  },
  {
   "cell_type": "markdown",
   "id": "6ff12b6d-d624-4932-aaf8-efaca98b413b",
   "metadata": {
    "tags": []
   },
   "source": [
    "### 2.7. Insert 182MB / + 1 Max File + 1 Small File"
   ]
  },
  {
   "cell_type": "code",
   "execution_count": 60,
   "id": "63be0ec0-67e8-4767-a51c-24f5e2b6a25b",
   "metadata": {
    "execution": {
     "iopub.execute_input": "2023-03-16T04:06:04.768653Z",
     "iopub.status.busy": "2023-03-16T04:06:04.768409Z",
     "iopub.status.idle": "2023-03-16T04:09:34.727671Z",
     "shell.execute_reply": "2023-03-16T04:09:34.726804Z",
     "shell.execute_reply.started": "2023-03-16T04:06:04.768628Z"
    },
    "tags": []
   },
   "outputs": [
    {
     "data": {
      "application/vnd.jupyter.widget-view+json": {
       "model_id": "",
       "version_major": 2,
       "version_minor": 0
      },
      "text/plain": [
       "FloatProgress(value=0.0, bar_style='info', description='Progress:', layout=Layout(height='25px', width='50%'),…"
      ]
     },
     "metadata": {},
     "output_type": "display_data"
    },
    {
     "data": {
      "text/html": [
       "<style>.jp-OutputArea-child .jupyter-widgets.jp-OutputArea-output { overflow: auto; }</style>"
      ],
      "text/plain": [
       "<IPython.core.display.HTML object>"
      ]
     },
     "metadata": {},
     "output_type": "display_data"
    },
    {
     "data": {
      "application/vnd.jupyter.widget-view+json": {
       "model_id": "deba327e12e8474aba4803b41fe5221e",
       "version_major": 2,
       "version_minor": 0
      },
      "text/plain": [
       "VBox(children=(HBox(), EncodingWidget(children=(VBox(children=(HTML(value='Encoding:'), Dropdown(description='…"
      ]
     },
     "metadata": {},
     "output_type": "display_data"
    },
    {
     "data": {
      "application/vnd.jupyter.widget-view+json": {
       "model_id": "2ce028e81d194ecca6ab25d260ac3057",
       "version_major": 2,
       "version_minor": 0
      },
      "text/plain": [
       "Output()"
      ]
     },
     "metadata": {},
     "output_type": "display_data"
    }
   ],
   "source": [
    "%%sql\n",
    "insert into \n",
    "    ${TABLE_NAME}\n",
    "select \n",
    "    review_id, \n",
    "    star_rating, \n",
    "    review_body, \n",
    "    review_date, \n",
    "    year,\n",
    "    unix_timestamp(current_timestamp()) as timestamp,\n",
    "    mod(crc32(review_id), 2) as parity\n",
    "from\n",
    "    reviews\n",
    "where\n",
    "    year = 2007;"
   ]
  },
  {
   "cell_type": "code",
   "execution_count": 61,
   "id": "3cd2a646-fab5-49b4-81d1-d89729157174",
   "metadata": {
    "execution": {
     "iopub.execute_input": "2023-03-16T04:09:34.728856Z",
     "iopub.status.busy": "2023-03-16T04:09:34.728637Z",
     "iopub.status.idle": "2023-03-16T04:09:57.938908Z",
     "shell.execute_reply": "2023-03-16T04:09:57.937936Z",
     "shell.execute_reply.started": "2023-03-16T04:09:34.728836Z"
    },
    "tags": []
   },
   "outputs": [
    {
     "name": "stdout",
     "output_type": "stream",
     "text": [
      "\n",
      "[ TIMELINE ]\n",
      "\n",
      "╔═════╤═══════════════════╤═══════════════╤═══════════╤═════════════╤═════════════╤═════════════╗\n",
      "║ No. │ Instant           │ Action        │ State     │ Requested   │ Inflight    │ Completed   ║\n",
      "║     │                   │               │           │ Time        │ Time        │ Time        ║\n",
      "╠═════╪═══════════════════╪═══════════════╪═══════════╪═════════════╪═════════════╪═════════════╣\n",
      "║ 0   │ 20230316040318675 │ commit        │ COMPLETED │ 03-16 04:03 │ 03-16 04:03 │ 03-16 04:04 ║\n",
      "╟─────┼───────────────────┼───────────────┼───────────┼─────────────┼─────────────┼─────────────╢\n",
      "║ 1   │ 20230316040434923 │ commit        │ COMPLETED │ 03-16 04:04 │ 03-16 04:05 │ 03-16 04:05 ║\n",
      "╟─────┼───────────────────┼───────────────┼───────────┼─────────────┼─────────────┼─────────────╢\n",
      "║ 2   │ 20230316040606130 │ commit        │ COMPLETED │ 03-16 04:06 │ 03-16 04:06 │ 03-16 04:07 ║\n",
      "╟─────┼───────────────────┼───────────────┼───────────┼─────────────┼─────────────┼─────────────╢\n",
      "║ 3   │ 20230316040704649 │ replacecommit │ COMPLETED │ 03-16 04:07 │ 03-16 04:07 │ 03-16 04:09 ║\n",
      "╚═════╧═══════════════════╧═══════════════╧═══════════╧═════════════╧═════════════╧═════════════╝\n",
      "\n",
      "[ COMMITS ]\n",
      "\n",
      "╔═══════════════════╤═════════════════════╤═══════════════════╤═════════════════════╤══════════════════════════╤═══════════════════════╤══════════════════════════════╤══════════════╗\n",
      "║ CommitTime        │ Total Bytes Written │ Total Files Added │ Total Files Updated │ Total Partitions Written │ Total Records Written │ Total Update Records Written │ Total Errors ║\n",
      "╠═══════════════════╪═════════════════════╪═══════════════════╪═════════════════════╪══════════════════════════╪═══════════════════════╪══════════════════════════════╪══════════════╣\n",
      "║ 20230316040704649 │ 978.4 MB            │ 4                 │ 0                   │ 2                        │ 5920271               │ 0                            │ 0            ║\n",
      "╟───────────────────┼─────────────────────┼───────────────────┼─────────────────────┼──────────────────────────┼───────────────────────┼──────────────────────────────┼──────────────╢\n",
      "║ 20230316040606130 │ 364.3 MB            │ 4                 │ 0                   │ 2                        │ 2194714               │ 0                            │ 0            ║\n",
      "╟───────────────────┼─────────────────────┼───────────────────┼─────────────────────┼──────────────────────────┼───────────────────────┼──────────────────────────────┼──────────────╢\n",
      "║ 20230316040434923 │ 426.7 MB            │ 4                 │ 0                   │ 2                        │ 2570430               │ 0                            │ 0            ║\n",
      "╟───────────────────┼─────────────────────┼───────────────────┼─────────────────────┼──────────────────────────┼───────────────────────┼──────────────────────────────┼──────────────╢\n",
      "║ 20230316040318675 │ 191.6 MB            │ 2                 │ 0                   │ 2                        │ 1155127               │ 0                            │ 0            ║\n",
      "╚═══════════════════╧═════════════════════╧═══════════════════╧═════════════════════╧══════════════════════════╧═══════════════════════╧══════════════════════════════╧══════════════╝\n",
      "\n",
      "[ STORAGE ]\n",
      "\n",
      "/home/emr-notebook/apache-hudi-core-conceptions/reviews_cow_clustering_1\n",
      "├── [980M 04:09:57]  parity=0\n",
      "│   ├── [120M 04:05:36]  22435e15-5b44-4d13-a7d1-e0ebbabcec7d-0_0-736-4253_20230316040434923.parquet\n",
      "│   ├── [ 63M 04:06:50]  4a3a3c45-35e0-48e0-afab-04779a62f427-0_1-786-4533_20230316040606130.parquet\n",
      "│   ├── [119M 04:06:57]  5821b957-ab7b-4ac7-9a8e-f9b80c69cc4f-0_0-786-4532_20230316040606130.parquet\n",
      "│   ├── [255M 04:08:16]  5b441ee5-062c-40ca-ba2f-98c76a3a143c-0_1-813-4580_20230316040704649.parquet\n",
      "│   ├── [ 96M 04:04:07]  5da21b55-01b8-4428-8a21-9e3f5e6c0740-0_0-689-3983_20230316040318675.parquet\n",
      "│   ├── [ 93M 04:05:31]  724f9768-5c8d-4eae-8aa5-5a29760493ee-0_1-736-4254_20230316040434923.parquet\n",
      "│   └── [234M 04:08:15]  93de5fb3-4054-4bc8-ba62-8fec00feb851-0_0-813-4579_20230316040704649.parquet\n",
      "└── [981M 04:09:57]  parity=1\n",
      "    ├── [247M 04:08:16]  5552a26b-5fbc-4d83-b0b5-eb2a2ff72370-0_3-813-4582_20230316040704649.parquet\n",
      "    ├── [ 63M 04:06:47]  5dc648fe-a192-4be1-b5e4-a71912b6c0a6-0_3-786-4535_20230316040606130.parquet\n",
      "    ├── [119M 04:06:56]  74e03fcc-465b-49c6-abbd-fe33271c3169-0_2-786-4534_20230316040606130.parquet\n",
      "    ├── [ 94M 04:05:34]  82a3ccba-8aa3-4aab-86d2-7ba5eea136be-0_3-736-4256_20230316040434923.parquet\n",
      "    ├── [120M 04:05:36]  abcb757a-7f7c-45d7-af61-ff6b808e1129-0_2-736-4255_20230316040434923.parquet\n",
      "    ├── [ 96M 04:04:06]  e98faca4-8431-4a1c-ad00-f2d30e8f93a9-0_1-689-3984_20230316040318675.parquet\n",
      "    └── [242M 04:08:20]  f4919c37-f720-4029-8e66-63e9e36b1828-0_2-813-4581_20230316040704649.parquet\n"
     ]
    }
   ],
   "source": [
    "%%sh\n",
    "${WORKSPACE}/hudi-stat.sh s3://${S3_BUCKET}/${TABLE_NAME} timeline commits storage"
   ]
  },
  {
   "cell_type": "markdown",
   "id": "00bdc485-3043-484c-8603-0e630184d445",
   "metadata": {
    "tags": []
   },
   "source": [
    "## 3. Test Case 2 - Async Clustering ( Offline Schedule -> Offline Execute )"
   ]
  },
  {
   "cell_type": "markdown",
   "id": "02869779-0ffc-42f5-87f2-791bf152dff2",
   "metadata": {
    "tags": []
   },
   "source": [
    "### 3.1. Test Plan\n",
    "\n",
    "Step No.|Action|Volume / Partition |File System\n",
    ":--------:|:------|:------|:----------\n",
    "1|Insert|15MB|1 Small FileGroup\n",
    "2|Insert|341MB|3 Big FileGroups\n",
    "3|Async Clustering Schedule|-|-\n",
    "4|Async Clustering Eexecute|354MB|∑ 1 Clustered FileGroup\n",
    "5|Insert|377MB|3 Big FileGroups + 1 Small FileGroup\n",
    "6|Insert||"
   ]
  },
  {
   "cell_type": "markdown",
   "id": "1166a654-4057-4309-8ccb-2976b5fc0ee9",
   "metadata": {
    "tags": []
   },
   "source": [
    "### 3.2. Key Settings\n",
    "\n",
    "KEY|DEFAULT VALUE|SET VALUE\n",
    ":---|:---|:---\n",
    "hoodie.clustering.async.enabled|false|true\n",
    "hoodie.clustering.async.max.commits|4|3\n",
    "hoodie.clustering.plan.strategy.target.file.max.bytes|1073741824 / 1GB|314572800 / 400MB\n",
    "hoodie.clustering.plan.strategy.small.file.limit|314572800 / 300MB|209715200 / 200MB\n",
    "hoodie.clustering.plan.strategy.sort.columns|-|review_date\n",
    "hoodie.parquet.small.file.limit|104857600 / 100MB | 0\n",
    "hoodie.copyonwrite.record.size.estimate|1024|175"
   ]
  },
  {
   "cell_type": "markdown",
   "id": "992230f3-5f68-4a33-954c-3e1e6e120f06",
   "metadata": {
    "execution": {
     "iopub.execute_input": "2023-02-25T02:57:45.037101Z",
     "iopub.status.busy": "2023-02-25T02:57:45.036681Z",
     "iopub.status.idle": "2023-02-25T02:58:07.353493Z",
     "shell.execute_reply": "2023-02-25T02:58:07.352596Z",
     "shell.execute_reply.started": "2023-02-25T02:57:45.037060Z"
    },
    "tags": []
   },
   "source": [
    "### 3.3. Set Variables"
   ]
  },
  {
   "cell_type": "code",
   "execution_count": 16,
   "id": "63bf2e47-d172-4f81-949c-2b46c408e99e",
   "metadata": {
    "execution": {
     "iopub.execute_input": "2023-03-16T05:54:15.921078Z",
     "iopub.status.busy": "2023-03-16T05:54:15.920836Z",
     "iopub.status.idle": "2023-03-16T05:54:16.914526Z",
     "shell.execute_reply": "2023-03-16T05:54:16.913412Z",
     "shell.execute_reply.started": "2023-03-16T05:54:15.921055Z"
    },
    "tags": []
   },
   "outputs": [
    {
     "data": {
      "application/vnd.jupyter.widget-view+json": {
       "model_id": "",
       "version_major": 2,
       "version_minor": 0
      },
      "text/plain": [
       "FloatProgress(value=0.0, bar_style='info', description='Progress:', layout=Layout(height='25px', width='50%'),…"
      ]
     },
     "metadata": {},
     "output_type": "display_data"
    },
    {
     "data": {
      "text/html": [
       "<style>.jp-OutputArea-child .jupyter-widgets.jp-OutputArea-output { overflow: auto; }</style>"
      ],
      "text/plain": [
       "<IPython.core.display.HTML object>"
      ]
     },
     "metadata": {},
     "output_type": "display_data"
    },
    {
     "data": {
      "application/vnd.jupyter.widget-view+json": {
       "model_id": "c5bddff7c483456abd1d727e64cf1264",
       "version_major": 2,
       "version_minor": 0
      },
      "text/plain": [
       "VBox(children=(HBox(children=(HTML(value='Type:'), Button(description='Table', layout=Layout(width='70px'), st…"
      ]
     },
     "metadata": {},
     "output_type": "display_data"
    },
    {
     "data": {
      "application/vnd.jupyter.widget-view+json": {
       "model_id": "b176b8327dc14807ae674b130730c8e3",
       "version_major": 2,
       "version_minor": 0
      },
      "text/plain": [
       "Output()"
      ]
     },
     "metadata": {},
     "output_type": "display_data"
    }
   ],
   "source": [
    "%%sql\n",
    "set TABLE_NAME=reviews_cow_clustering_2"
   ]
  },
  {
   "cell_type": "code",
   "execution_count": 17,
   "id": "3cb3dd19-a55e-4ebd-ab6d-cb1c2cdef2b3",
   "metadata": {
    "execution": {
     "iopub.execute_input": "2023-03-16T05:54:16.917091Z",
     "iopub.status.busy": "2023-03-16T05:54:16.916759Z",
     "iopub.status.idle": "2023-03-16T05:54:16.925224Z",
     "shell.execute_reply": "2023-03-16T05:54:16.924277Z",
     "shell.execute_reply.started": "2023-03-16T05:54:16.917056Z"
    },
    "tags": []
   },
   "outputs": [
    {
     "name": "stdout",
     "output_type": "stream",
     "text": [
      "env: TABLE_NAME=reviews_cow_clustering_2\n"
     ]
    }
   ],
   "source": [
    "%env TABLE_NAME=reviews_cow_clustering_2"
   ]
  },
  {
   "cell_type": "markdown",
   "id": "0ba3031f-f92c-486d-a0de-3f141410f2bf",
   "metadata": {},
   "source": [
    "### 3.4. Create Table"
   ]
  },
  {
   "cell_type": "code",
   "execution_count": 18,
   "id": "bdcd022c-8a54-463d-9f3e-fbfb92969328",
   "metadata": {
    "execution": {
     "iopub.execute_input": "2023-03-16T05:54:16.926850Z",
     "iopub.status.busy": "2023-03-16T05:54:16.926520Z",
     "iopub.status.idle": "2023-03-16T05:54:23.269140Z",
     "shell.execute_reply": "2023-03-16T05:54:23.268284Z",
     "shell.execute_reply.started": "2023-03-16T05:54:16.926814Z"
    },
    "tags": []
   },
   "outputs": [],
   "source": [
    "%%sh\n",
    "aws s3 rm s3://${S3_BUCKET}/${TABLE_NAME} --recursive &>/dev/null\n",
    "rm -rf ${WORKSPACE}/${TABLE_NAME}\n",
    "sleep 5"
   ]
  },
  {
   "cell_type": "code",
   "execution_count": 19,
   "id": "2dd45b7f-cce2-4aec-99ec-7359d6d060e7",
   "metadata": {
    "execution": {
     "iopub.execute_input": "2023-03-16T05:54:23.270681Z",
     "iopub.status.busy": "2023-03-16T05:54:23.270414Z",
     "iopub.status.idle": "2023-03-16T05:54:24.608998Z",
     "shell.execute_reply": "2023-03-16T05:54:24.608139Z",
     "shell.execute_reply.started": "2023-03-16T05:54:23.270653Z"
    },
    "tags": []
   },
   "outputs": [
    {
     "data": {
      "application/vnd.jupyter.widget-view+json": {
       "model_id": "",
       "version_major": 2,
       "version_minor": 0
      },
      "text/plain": [
       "FloatProgress(value=0.0, bar_style='info', description='Progress:', layout=Layout(height='25px', width='50%'),…"
      ]
     },
     "metadata": {},
     "output_type": "display_data"
    },
    {
     "data": {
      "text/html": [
       "<style>.jp-OutputArea-child .jupyter-widgets.jp-OutputArea-output { overflow: auto; }</style>"
      ],
      "text/plain": [
       "<IPython.core.display.HTML object>"
      ]
     },
     "metadata": {},
     "output_type": "display_data"
    },
    {
     "data": {
      "application/vnd.jupyter.widget-view+json": {
       "model_id": "1aadc83ea116402a8acf540ff6a05116",
       "version_major": 2,
       "version_minor": 0
      },
      "text/plain": [
       "VBox(children=(HBox(), EncodingWidget(children=(VBox(children=(HTML(value='Encoding:'), Dropdown(description='…"
      ]
     },
     "metadata": {},
     "output_type": "display_data"
    },
    {
     "data": {
      "application/vnd.jupyter.widget-view+json": {
       "model_id": "5c3ebb356324434c92b135ea23c0033e",
       "version_major": 2,
       "version_minor": 0
      },
      "text/plain": [
       "Output()"
      ]
     },
     "metadata": {},
     "output_type": "display_data"
    }
   ],
   "source": [
    "%%sql\n",
    "drop table if exists ${TABLE_NAME}"
   ]
  },
  {
   "cell_type": "code",
   "execution_count": 20,
   "id": "f740f107-0ab8-46b7-bdd3-206571a40c09",
   "metadata": {
    "execution": {
     "iopub.execute_input": "2023-03-16T05:54:24.610396Z",
     "iopub.status.busy": "2023-03-16T05:54:24.610131Z",
     "iopub.status.idle": "2023-03-16T05:54:29.964792Z",
     "shell.execute_reply": "2023-03-16T05:54:29.964043Z",
     "shell.execute_reply.started": "2023-03-16T05:54:24.610371Z"
    },
    "tags": []
   },
   "outputs": [
    {
     "data": {
      "application/vnd.jupyter.widget-view+json": {
       "model_id": "",
       "version_major": 2,
       "version_minor": 0
      },
      "text/plain": [
       "FloatProgress(value=0.0, bar_style='info', description='Progress:', layout=Layout(height='25px', width='50%'),…"
      ]
     },
     "metadata": {},
     "output_type": "display_data"
    },
    {
     "data": {
      "text/html": [
       "<style>.jp-OutputArea-child .jupyter-widgets.jp-OutputArea-output { overflow: auto; }</style>"
      ],
      "text/plain": [
       "<IPython.core.display.HTML object>"
      ]
     },
     "metadata": {},
     "output_type": "display_data"
    },
    {
     "data": {
      "application/vnd.jupyter.widget-view+json": {
       "model_id": "62723d8237cb4d15ad547bb870abcd17",
       "version_major": 2,
       "version_minor": 0
      },
      "text/plain": [
       "VBox(children=(HBox(), EncodingWidget(children=(VBox(children=(HTML(value='Encoding:'), Dropdown(description='…"
      ]
     },
     "metadata": {},
     "output_type": "display_data"
    },
    {
     "data": {
      "application/vnd.jupyter.widget-view+json": {
       "model_id": "8decda751e4949558ae743e9fe956df6",
       "version_major": 2,
       "version_minor": 0
      },
      "text/plain": [
       "Output()"
      ]
     },
     "metadata": {},
     "output_type": "display_data"
    }
   ],
   "source": [
    "%%sql\n",
    "-- it shows by testing: some async clustering properties, i.e. paln strategy does NOT work as table properties\n",
    "-- we should always set them via spark job properties by --hoodie-conf or --props\n",
    "-- so, comment out clustering related settings, just keep them as reference.\n",
    "create table if not exists ${TABLE_NAME}(\n",
    "    review_id string, \n",
    "    star_rating int, \n",
    "    review_body string, \n",
    "    review_date date, \n",
    "    year long,\n",
    "    timestamp long,\n",
    "    parity int\n",
    ")\n",
    "using hudi\n",
    "location 's3://${S3_BUCKET}/${TABLE_NAME}'\n",
    "partitioned by (parity)\n",
    "options ( \n",
    "    type = 'cow',  \n",
    "    primaryKey = 'review_id', \n",
    "    preCombineField = 'timestamp',\n",
    "    -- hoodie.clustering.inline = 'false',\n",
    "    -- hoodie.clustering.schedule.inline = 'false',\n",
    "    -- hoodie.clustering.async.enabled = 'true',\n",
    "    -- hoodie.clustering.async.max.commits = '3',\n",
    "    -- hoodie.clustering.plan.strategy.small.file.limit = '209715200',\n",
    "    -- hoodie.clustering.plan.strategy.target.file.max.bytes = '314572800',\n",
    "    -- hoodie.clustering.plan.strategy.sort.columns = 'review_date',\n",
    "    hoodie.parquet.small.file.limit = '0',\n",
    "    hoodie.copyonwrite.record.size.estimate = '175'\n",
    ");"
   ]
  },
  {
   "cell_type": "markdown",
   "id": "970171f5-9d20-4683-98f7-29b1add0bf73",
   "metadata": {
    "tags": []
   },
   "source": [
    "### 3.5. Insert 96MB / + 1 Small File"
   ]
  },
  {
   "cell_type": "code",
   "execution_count": 21,
   "id": "68ba92de-f185-4316-a8f6-cec6ef2a5883",
   "metadata": {
    "execution": {
     "iopub.execute_input": "2023-03-16T05:54:29.966445Z",
     "iopub.status.busy": "2023-03-16T05:54:29.966112Z",
     "iopub.status.idle": "2023-03-16T05:55:31.447715Z",
     "shell.execute_reply": "2023-03-16T05:55:31.447051Z",
     "shell.execute_reply.started": "2023-03-16T05:54:29.966409Z"
    },
    "tags": []
   },
   "outputs": [
    {
     "data": {
      "application/vnd.jupyter.widget-view+json": {
       "model_id": "",
       "version_major": 2,
       "version_minor": 0
      },
      "text/plain": [
       "FloatProgress(value=0.0, bar_style='info', description='Progress:', layout=Layout(height='25px', width='50%'),…"
      ]
     },
     "metadata": {},
     "output_type": "display_data"
    },
    {
     "data": {
      "text/html": [
       "<style>.jp-OutputArea-child .jupyter-widgets.jp-OutputArea-output { overflow: auto; }</style>"
      ],
      "text/plain": [
       "<IPython.core.display.HTML object>"
      ]
     },
     "metadata": {},
     "output_type": "display_data"
    },
    {
     "data": {
      "application/vnd.jupyter.widget-view+json": {
       "model_id": "292667ce4fa5427593d42c4fcad0323f",
       "version_major": 2,
       "version_minor": 0
      },
      "text/plain": [
       "VBox(children=(HBox(), EncodingWidget(children=(VBox(children=(HTML(value='Encoding:'), Dropdown(description='…"
      ]
     },
     "metadata": {},
     "output_type": "display_data"
    },
    {
     "data": {
      "application/vnd.jupyter.widget-view+json": {
       "model_id": "8249416440f54c37a46ee7a7a408c17e",
       "version_major": 2,
       "version_minor": 0
      },
      "text/plain": [
       "Output()"
      ]
     },
     "metadata": {},
     "output_type": "display_data"
    }
   ],
   "source": [
    "%%sql\n",
    "insert into \n",
    "    ${TABLE_NAME}\n",
    "select \n",
    "    review_id, \n",
    "    star_rating, \n",
    "    review_body, \n",
    "    review_date, \n",
    "    year,\n",
    "    unix_timestamp(current_timestamp()) as timestamp,\n",
    "    mod(crc32(review_id), 2) as parity\n",
    "from\n",
    "    reviews\n",
    "where\n",
    "    year = 2003;"
   ]
  },
  {
   "cell_type": "code",
   "execution_count": 22,
   "id": "53d697ae-e73b-4218-a5f9-78c5f71c0d8e",
   "metadata": {
    "execution": {
     "iopub.execute_input": "2023-03-16T05:55:31.448975Z",
     "iopub.status.busy": "2023-03-16T05:55:31.448752Z",
     "iopub.status.idle": "2023-03-16T05:55:45.989662Z",
     "shell.execute_reply": "2023-03-16T05:55:45.988581Z",
     "shell.execute_reply.started": "2023-03-16T05:55:31.448953Z"
    },
    "tags": []
   },
   "outputs": [
    {
     "name": "stdout",
     "output_type": "stream",
     "text": [
      "\n",
      "[ TIMELINE ]\n",
      "\n",
      "╔═════╤═══════════════════╤════════╤═══════════╤═════════════╤═════════════╤═════════════╗\n",
      "║ No. │ Instant           │ Action │ State     │ Requested   │ Inflight    │ Completed   ║\n",
      "║     │                   │        │           │ Time        │ Time        │ Time        ║\n",
      "╠═════╪═══════════════════╪════════╪═══════════╪═════════════╪═════════════╪═════════════╣\n",
      "║ 0   │ 20230316055431234 │ commit │ COMPLETED │ 03-16 05:54 │ 03-16 05:54 │ 03-16 05:55 ║\n",
      "╚═════╧═══════════════════╧════════╧═══════════╧═════════════╧═════════════╧═════════════╝\n",
      "\n",
      "[ COMMITS ]\n",
      "\n",
      "╔═══════════════════╤═════════════════════╤═══════════════════╤═════════════════════╤══════════════════════════╤═══════════════════════╤══════════════════════════════╤══════════════╗\n",
      "║ CommitTime        │ Total Bytes Written │ Total Files Added │ Total Files Updated │ Total Partitions Written │ Total Records Written │ Total Update Records Written │ Total Errors ║\n",
      "╠═══════════════════╪═════════════════════╪═══════════════════╪═════════════════════╪══════════════════════════╪═══════════════════════╪══════════════════════════════╪══════════════╣\n",
      "║ 20230316055431234 │ 191.6 MB            │ 2                 │ 0                   │ 2                        │ 1155127               │ 0                            │ 0            ║\n",
      "╚═══════════════════╧═════════════════════╧═══════════════════╧═════════════════════╧══════════════════════════╧═══════════════════════╧══════════════════════════════╧══════════════╝\n",
      "\n",
      "[ STORAGE ]\n",
      "\n",
      "/home/emr-notebook/apache-hudi-core-conceptions/reviews_cow_clustering_2\n",
      "├── [ 96M 05:55:45]  parity=0\n",
      "│   └── [ 96M 05:55:18]  76f5a01e-b697-4272-8056-279c9773ebe0-0_0-34-628_20230316055431234.parquet\n",
      "└── [ 96M 05:55:45]  parity=1\n",
      "    └── [ 96M 05:55:17]  8a363e0b-b2fd-4da9-88ef-9738d9034831-0_1-34-629_20230316055431234.parquet\n"
     ]
    }
   ],
   "source": [
    "%%sh\n",
    "${WORKSPACE}/hudi-stat.sh s3://${S3_BUCKET}/${TABLE_NAME} timeline commits storage"
   ]
  },
  {
   "cell_type": "markdown",
   "id": "331f3396-e9e8-4cf4-9c7d-aeda1173b7f0",
   "metadata": {
    "tags": []
   },
   "source": [
    "### 3.6. Insert 213MB / + 1 Max File + 1 Small File"
   ]
  },
  {
   "cell_type": "code",
   "execution_count": 23,
   "id": "86502862-dfe3-46f2-b0db-a0a0850409dc",
   "metadata": {
    "execution": {
     "iopub.execute_input": "2023-03-16T05:55:45.991103Z",
     "iopub.status.busy": "2023-03-16T05:55:45.990864Z",
     "iopub.status.idle": "2023-03-16T05:56:53.537778Z",
     "shell.execute_reply": "2023-03-16T05:56:53.536865Z",
     "shell.execute_reply.started": "2023-03-16T05:55:45.991077Z"
    },
    "tags": []
   },
   "outputs": [
    {
     "data": {
      "application/vnd.jupyter.widget-view+json": {
       "model_id": "",
       "version_major": 2,
       "version_minor": 0
      },
      "text/plain": [
       "FloatProgress(value=0.0, bar_style='info', description='Progress:', layout=Layout(height='25px', width='50%'),…"
      ]
     },
     "metadata": {},
     "output_type": "display_data"
    },
    {
     "data": {
      "text/html": [
       "<style>.jp-OutputArea-child .jupyter-widgets.jp-OutputArea-output { overflow: auto; }</style>"
      ],
      "text/plain": [
       "<IPython.core.display.HTML object>"
      ]
     },
     "metadata": {},
     "output_type": "display_data"
    },
    {
     "data": {
      "application/vnd.jupyter.widget-view+json": {
       "model_id": "4918a8a30bdd4756a17d0e38af1b23cd",
       "version_major": 2,
       "version_minor": 0
      },
      "text/plain": [
       "VBox(children=(HBox(), EncodingWidget(children=(VBox(children=(HTML(value='Encoding:'), Dropdown(description='…"
      ]
     },
     "metadata": {},
     "output_type": "display_data"
    },
    {
     "data": {
      "application/vnd.jupyter.widget-view+json": {
       "model_id": "0b19f014491c441d9ee72e3a09adf0e9",
       "version_major": 2,
       "version_minor": 0
      },
      "text/plain": [
       "Output()"
      ]
     },
     "metadata": {},
     "output_type": "display_data"
    }
   ],
   "source": [
    "%%sql\n",
    "insert into \n",
    "    ${TABLE_NAME}\n",
    "select \n",
    "    review_id, \n",
    "    star_rating, \n",
    "    review_body, \n",
    "    review_date, \n",
    "    year,\n",
    "    unix_timestamp(current_timestamp()) as timestamp,\n",
    "    mod(crc32(review_id), 2) as parity\n",
    "from\n",
    "    reviews\n",
    "where\n",
    "    year in (2004, 2005);"
   ]
  },
  {
   "cell_type": "code",
   "execution_count": 24,
   "id": "f17d5f39-654f-4b30-bc94-9ac668b7cc48",
   "metadata": {
    "execution": {
     "iopub.execute_input": "2023-03-16T05:56:53.539260Z",
     "iopub.status.busy": "2023-03-16T05:56:53.538931Z",
     "iopub.status.idle": "2023-03-16T05:57:09.888367Z",
     "shell.execute_reply": "2023-03-16T05:57:09.887562Z",
     "shell.execute_reply.started": "2023-03-16T05:56:53.539225Z"
    },
    "tags": []
   },
   "outputs": [
    {
     "name": "stdout",
     "output_type": "stream",
     "text": [
      "\n",
      "[ TIMELINE ]\n",
      "\n",
      "╔═════╤═══════════════════╤════════╤═══════════╤═════════════╤═════════════╤═════════════╗\n",
      "║ No. │ Instant           │ Action │ State     │ Requested   │ Inflight    │ Completed   ║\n",
      "║     │                   │        │           │ Time        │ Time        │ Time        ║\n",
      "╠═════╪═══════════════════╪════════╪═══════════╪═════════════╪═════════════╪═════════════╣\n",
      "║ 0   │ 20230316055431234 │ commit │ COMPLETED │ 03-16 05:54 │ 03-16 05:54 │ 03-16 05:55 ║\n",
      "╟─────┼───────────────────┼────────┼───────────┼─────────────┼─────────────┼─────────────╢\n",
      "║ 1   │ 20230316055547446 │ commit │ COMPLETED │ 03-16 05:55 │ 03-16 05:56 │ 03-16 05:56 ║\n",
      "╚═════╧═══════════════════╧════════╧═══════════╧═════════════╧═════════════╧═════════════╝\n",
      "\n",
      "[ COMMITS ]\n",
      "\n",
      "╔═══════════════════╤═════════════════════╤═══════════════════╤═════════════════════╤══════════════════════════╤═══════════════════════╤══════════════════════════════╤══════════════╗\n",
      "║ CommitTime        │ Total Bytes Written │ Total Files Added │ Total Files Updated │ Total Partitions Written │ Total Records Written │ Total Update Records Written │ Total Errors ║\n",
      "╠═══════════════════╪═════════════════════╪═══════════════════╪═════════════════════╪══════════════════════════╪═══════════════════════╪══════════════════════════════╪══════════════╣\n",
      "║ 20230316055547446 │ 426.7 MB            │ 4                 │ 0                   │ 2                        │ 2570430               │ 0                            │ 0            ║\n",
      "╟───────────────────┼─────────────────────┼───────────────────┼─────────────────────┼──────────────────────────┼───────────────────────┼──────────────────────────────┼──────────────╢\n",
      "║ 20230316055431234 │ 191.6 MB            │ 2                 │ 0                   │ 2                        │ 1155127               │ 0                            │ 0            ║\n",
      "╚═══════════════════╧═════════════════════╧═══════════════════╧═════════════════════╧══════════════════════════╧═══════════════════════╧══════════════════════════════╧══════════════╝\n",
      "\n",
      "[ STORAGE ]\n",
      "\n",
      "/home/emr-notebook/apache-hudi-core-conceptions/reviews_cow_clustering_2\n",
      "├── [309M 05:57:09]  parity=0\n",
      "│   ├── [120M 05:56:42]  4d4daa1f-7434-4549-93c7-f5a2f610b10c-0_0-81-1327_20230316055547446.parquet\n",
      "│   ├── [ 96M 05:55:18]  76f5a01e-b697-4272-8056-279c9773ebe0-0_0-34-628_20230316055431234.parquet\n",
      "│   └── [ 93M 05:56:37]  9a0e6e25-935c-4567-9a2b-808de9955109-0_1-81-1328_20230316055547446.parquet\n",
      "└── [309M 05:57:09]  parity=1\n",
      "    ├── [ 94M 05:56:37]  74715eed-d354-462a-a3b3-72f51d4b8ed2-0_3-81-1330_20230316055547446.parquet\n",
      "    ├── [ 96M 05:55:17]  8a363e0b-b2fd-4da9-88ef-9738d9034831-0_1-34-629_20230316055431234.parquet\n",
      "    └── [120M 05:56:42]  ed612562-c0d7-41d4-ad51-10f2cce7af13-0_2-81-1329_20230316055547446.parquet\n"
     ]
    }
   ],
   "source": [
    "%%sh\n",
    "${WORKSPACE}/hudi-stat.sh s3://${S3_BUCKET}/${TABLE_NAME} timeline commits storage"
   ]
  },
  {
   "cell_type": "markdown",
   "id": "1e098aa2-c590-4b28-9935-3994cc7e3e83",
   "metadata": {
    "tags": []
   },
   "source": [
    "### 3.7. Insert 182MB / + 1 Max File + 1 Small File"
   ]
  },
  {
   "cell_type": "code",
   "execution_count": 25,
   "id": "4bd5a1d7-b6bf-4e8a-9b27-5a316819dd54",
   "metadata": {
    "execution": {
     "iopub.execute_input": "2023-03-16T05:57:09.890268Z",
     "iopub.status.busy": "2023-03-16T05:57:09.889878Z",
     "iopub.status.idle": "2023-03-16T05:58:17.399862Z",
     "shell.execute_reply": "2023-03-16T05:58:17.399026Z",
     "shell.execute_reply.started": "2023-03-16T05:57:09.890224Z"
    },
    "tags": []
   },
   "outputs": [
    {
     "data": {
      "application/vnd.jupyter.widget-view+json": {
       "model_id": "",
       "version_major": 2,
       "version_minor": 0
      },
      "text/plain": [
       "FloatProgress(value=0.0, bar_style='info', description='Progress:', layout=Layout(height='25px', width='50%'),…"
      ]
     },
     "metadata": {},
     "output_type": "display_data"
    },
    {
     "data": {
      "text/html": [
       "<style>.jp-OutputArea-child .jupyter-widgets.jp-OutputArea-output { overflow: auto; }</style>"
      ],
      "text/plain": [
       "<IPython.core.display.HTML object>"
      ]
     },
     "metadata": {},
     "output_type": "display_data"
    },
    {
     "data": {
      "application/vnd.jupyter.widget-view+json": {
       "model_id": "cd7bcbcee5e44e349a17dae321914c48",
       "version_major": 2,
       "version_minor": 0
      },
      "text/plain": [
       "VBox(children=(HBox(), EncodingWidget(children=(VBox(children=(HTML(value='Encoding:'), Dropdown(description='…"
      ]
     },
     "metadata": {},
     "output_type": "display_data"
    },
    {
     "data": {
      "application/vnd.jupyter.widget-view+json": {
       "model_id": "ac6395d810894157ba901c7f67ab9bfb",
       "version_major": 2,
       "version_minor": 0
      },
      "text/plain": [
       "Output()"
      ]
     },
     "metadata": {},
     "output_type": "display_data"
    }
   ],
   "source": [
    "%%sql\n",
    "insert into \n",
    "    ${TABLE_NAME}\n",
    "select \n",
    "    review_id, \n",
    "    star_rating, \n",
    "    review_body, \n",
    "    review_date, \n",
    "    year,\n",
    "    unix_timestamp(current_timestamp()) as timestamp,\n",
    "    mod(crc32(review_id), 2) as parity\n",
    "from\n",
    "    reviews\n",
    "where\n",
    "    year = 2007;"
   ]
  },
  {
   "cell_type": "code",
   "execution_count": 26,
   "id": "5079341a-0a03-4398-8ad8-c67ef7a07b85",
   "metadata": {
    "execution": {
     "iopub.execute_input": "2023-03-16T05:58:17.401102Z",
     "iopub.status.busy": "2023-03-16T05:58:17.400879Z",
     "iopub.status.idle": "2023-03-16T05:58:33.789554Z",
     "shell.execute_reply": "2023-03-16T05:58:33.788760Z",
     "shell.execute_reply.started": "2023-03-16T05:58:17.401080Z"
    },
    "tags": []
   },
   "outputs": [
    {
     "name": "stdout",
     "output_type": "stream",
     "text": [
      "\n",
      "[ TIMELINE ]\n",
      "\n",
      "╔═════╤═══════════════════╤════════╤═══════════╤═════════════╤═════════════╤═════════════╗\n",
      "║ No. │ Instant           │ Action │ State     │ Requested   │ Inflight    │ Completed   ║\n",
      "║     │                   │        │           │ Time        │ Time        │ Time        ║\n",
      "╠═════╪═══════════════════╪════════╪═══════════╪═════════════╪═════════════╪═════════════╣\n",
      "║ 0   │ 20230316055431234 │ commit │ COMPLETED │ 03-16 05:54 │ 03-16 05:54 │ 03-16 05:55 ║\n",
      "╟─────┼───────────────────┼────────┼───────────┼─────────────┼─────────────┼─────────────╢\n",
      "║ 1   │ 20230316055547446 │ commit │ COMPLETED │ 03-16 05:55 │ 03-16 05:56 │ 03-16 05:56 ║\n",
      "╟─────┼───────────────────┼────────┼───────────┼─────────────┼─────────────┼─────────────╢\n",
      "║ 2   │ 20230316055711299 │ commit │ COMPLETED │ 03-16 05:57 │ 03-16 05:57 │ 03-16 05:58 ║\n",
      "╚═════╧═══════════════════╧════════╧═══════════╧═════════════╧═════════════╧═════════════╝\n",
      "\n",
      "[ COMMITS ]\n",
      "\n",
      "╔═══════════════════╤═════════════════════╤═══════════════════╤═════════════════════╤══════════════════════════╤═══════════════════════╤══════════════════════════════╤══════════════╗\n",
      "║ CommitTime        │ Total Bytes Written │ Total Files Added │ Total Files Updated │ Total Partitions Written │ Total Records Written │ Total Update Records Written │ Total Errors ║\n",
      "╠═══════════════════╪═════════════════════╪═══════════════════╪═════════════════════╪══════════════════════════╪═══════════════════════╪══════════════════════════════╪══════════════╣\n",
      "║ 20230316055711299 │ 364.2 MB            │ 4                 │ 0                   │ 2                        │ 2194714               │ 0                            │ 0            ║\n",
      "╟───────────────────┼─────────────────────┼───────────────────┼─────────────────────┼──────────────────────────┼───────────────────────┼──────────────────────────────┼──────────────╢\n",
      "║ 20230316055547446 │ 426.7 MB            │ 4                 │ 0                   │ 2                        │ 2570430               │ 0                            │ 0            ║\n",
      "╟───────────────────┼─────────────────────┼───────────────────┼─────────────────────┼──────────────────────────┼───────────────────────┼──────────────────────────────┼──────────────╢\n",
      "║ 20230316055431234 │ 191.6 MB            │ 2                 │ 0                   │ 2                        │ 1155127               │ 0                            │ 0            ║\n",
      "╚═══════════════════╧═════════════════════╧═══════════════════╧═════════════════════╧══════════════════════════╧═══════════════════════╧══════════════════════════════╧══════════════╝\n",
      "\n",
      "[ STORAGE ]\n",
      "\n",
      "/home/emr-notebook/apache-hudi-core-conceptions/reviews_cow_clustering_2\n",
      "├── [491M 05:58:33]  parity=0\n",
      "│   ├── [120M 05:56:42]  4d4daa1f-7434-4549-93c7-f5a2f610b10c-0_0-81-1327_20230316055547446.parquet\n",
      "│   ├── [ 96M 05:55:18]  76f5a01e-b697-4272-8056-279c9773ebe0-0_0-34-628_20230316055431234.parquet\n",
      "│   ├── [119M 05:58:05]  80768418-438b-4bd6-a38c-1b5d9350671d-0_0-131-2064_20230316055711299.parquet\n",
      "│   ├── [ 93M 05:56:37]  9a0e6e25-935c-4567-9a2b-808de9955109-0_1-81-1328_20230316055547446.parquet\n",
      "│   └── [ 63M 05:57:54]  f49ecbe4-6ecb-4358-a48d-a31fc7b195ea-0_1-131-2065_20230316055711299.parquet\n",
      "└── [491M 05:58:33]  parity=1\n",
      "    ├── [ 94M 05:56:37]  74715eed-d354-462a-a3b3-72f51d4b8ed2-0_3-81-1330_20230316055547446.parquet\n",
      "    ├── [ 96M 05:55:17]  8a363e0b-b2fd-4da9-88ef-9738d9034831-0_1-34-629_20230316055431234.parquet\n",
      "    ├── [119M 05:58:05]  ce8b3482-f51c-4b51-8c5d-4cf309119f04-0_2-131-2066_20230316055711299.parquet\n",
      "    ├── [120M 05:56:42]  ed612562-c0d7-41d4-ad51-10f2cce7af13-0_2-81-1329_20230316055547446.parquet\n",
      "    └── [ 63M 05:57:54]  fdb1e6fa-859f-4043-846a-61443ebdf02a-0_3-131-2067_20230316055711299.parquet\n"
     ]
    }
   ],
   "source": [
    "%%sh\n",
    "${WORKSPACE}/hudi-stat.sh s3://${S3_BUCKET}/${TABLE_NAME} timeline commits storage"
   ]
  },
  {
   "cell_type": "markdown",
   "id": "0e56f987-da37-4cc5-9aa4-bfbabc80c2dd",
   "metadata": {
    "tags": []
   },
   "source": [
    "### 3.8. Offline Schedule"
   ]
  },
  {
   "cell_type": "code",
   "execution_count": 27,
   "id": "38f967c8-5dd4-419f-b35b-37aa7007c9e9",
   "metadata": {
    "execution": {
     "iopub.execute_input": "2023-03-16T05:58:33.791078Z",
     "iopub.status.busy": "2023-03-16T05:58:33.790806Z",
     "iopub.status.idle": "2023-03-16T05:58:57.992791Z",
     "shell.execute_reply": "2023-03-16T05:58:57.991895Z",
     "shell.execute_reply.started": "2023-03-16T05:58:33.791048Z"
    },
    "tags": []
   },
   "outputs": [],
   "source": [
    "%%sh\n",
    "# it's required for current user (emr-notebook) to get sudo permission\n",
    "sudo -u hadoop spark-submit \\\n",
    "  --jars '/usr/lib/hudi/hudi-spark-bundle.jar' \\\n",
    "  --class 'org.apache.hudi.utilities.HoodieClusteringJob' \\\n",
    "  /usr/lib/hudi/hudi-utilities-bundle.jar \\\n",
    "  --spark-memory '4g' \\\n",
    "  --mode 'schedule' \\\n",
    "  --base-path \"s3://${S3_BUCKET}/${TABLE_NAME}\" \\\n",
    "  --table-name \"${TABLE_NAME}\" \\\n",
    "  --hoodie-conf \"hoodie.clustering.async.enabled=true\" \\\n",
    "  --hoodie-conf \"hoodie.clustering.async.max.commits=3\" \\\n",
    "  --hoodie-conf \"hoodie.clustering.plan.strategy.small.file.limit=209715200\" \\\n",
    "  --hoodie-conf \"hoodie.clustering.plan.strategy.target.file.max.bytes=314572800\" \\\n",
    "  --hoodie-conf \"hoodie.clustering.plan.strategy.sort.columns=review_date\" > ${WORKSPACE}/${TABLE_NAME}.schedule.out &>/dev/null"
   ]
  },
  {
   "cell_type": "code",
   "execution_count": 28,
   "id": "54846a2b-c826-48c6-8e8c-6b03cb05064f",
   "metadata": {
    "execution": {
     "iopub.execute_input": "2023-03-16T05:58:57.994677Z",
     "iopub.status.busy": "2023-03-16T05:58:57.994301Z",
     "iopub.status.idle": "2023-03-16T05:59:12.291634Z",
     "shell.execute_reply": "2023-03-16T05:59:12.290861Z",
     "shell.execute_reply.started": "2023-03-16T05:58:57.994636Z"
    },
    "tags": []
   },
   "outputs": [
    {
     "name": "stdout",
     "output_type": "stream",
     "text": [
      "\n",
      "[ TIMELINE ]\n",
      "\n",
      "╔═════╤═══════════════════╤═══════════════╤═══════════╤═════════════╤═════════════╤═════════════╗\n",
      "║ No. │ Instant           │ Action        │ State     │ Requested   │ Inflight    │ Completed   ║\n",
      "║     │                   │               │           │ Time        │ Time        │ Time        ║\n",
      "╠═════╪═══════════════════╪═══════════════╪═══════════╪═════════════╪═════════════╪═════════════╣\n",
      "║ 0   │ 20230316055431234 │ commit        │ COMPLETED │ 03-16 05:54 │ 03-16 05:54 │ 03-16 05:55 ║\n",
      "╟─────┼───────────────────┼───────────────┼───────────┼─────────────┼─────────────┼─────────────╢\n",
      "║ 1   │ 20230316055547446 │ commit        │ COMPLETED │ 03-16 05:55 │ 03-16 05:56 │ 03-16 05:56 ║\n",
      "╟─────┼───────────────────┼───────────────┼───────────┼─────────────┼─────────────┼─────────────╢\n",
      "║ 2   │ 20230316055711299 │ commit        │ COMPLETED │ 03-16 05:57 │ 03-16 05:57 │ 03-16 05:58 ║\n",
      "╟─────┼───────────────────┼───────────────┼───────────┼─────────────┼─────────────┼─────────────╢\n",
      "║ 3   │ 20230316055850396 │ replacecommit │ REQUESTED │ 03-16 05:58 │ -           │ -           ║\n",
      "╚═════╧═══════════════════╧═══════════════╧═══════════╧═════════════╧═════════════╧═════════════╝\n",
      "\n",
      "[ COMMITS ]\n",
      "\n",
      "╔═══════════════════╤═════════════════════╤═══════════════════╤═════════════════════╤══════════════════════════╤═══════════════════════╤══════════════════════════════╤══════════════╗\n",
      "║ CommitTime        │ Total Bytes Written │ Total Files Added │ Total Files Updated │ Total Partitions Written │ Total Records Written │ Total Update Records Written │ Total Errors ║\n",
      "╠═══════════════════╪═════════════════════╪═══════════════════╪═════════════════════╪══════════════════════════╪═══════════════════════╪══════════════════════════════╪══════════════╣\n",
      "║ 20230316055711299 │ 364.2 MB            │ 4                 │ 0                   │ 2                        │ 2194714               │ 0                            │ 0            ║\n",
      "╟───────────────────┼─────────────────────┼───────────────────┼─────────────────────┼──────────────────────────┼───────────────────────┼──────────────────────────────┼──────────────╢\n",
      "║ 20230316055547446 │ 426.7 MB            │ 4                 │ 0                   │ 2                        │ 2570430               │ 0                            │ 0            ║\n",
      "╟───────────────────┼─────────────────────┼───────────────────┼─────────────────────┼──────────────────────────┼───────────────────────┼──────────────────────────────┼──────────────╢\n",
      "║ 20230316055431234 │ 191.6 MB            │ 2                 │ 0                   │ 2                        │ 1155127               │ 0                            │ 0            ║\n",
      "╚═══════════════════╧═════════════════════╧═══════════════════╧═════════════════════╧══════════════════════════╧═══════════════════════╧══════════════════════════════╧══════════════╝\n",
      "\n",
      "[ STORAGE ]\n",
      "\n",
      "/home/emr-notebook/apache-hudi-core-conceptions/reviews_cow_clustering_2\n",
      "├── [491M 05:58:33]  parity=0\n",
      "│   ├── [120M 05:56:42]  4d4daa1f-7434-4549-93c7-f5a2f610b10c-0_0-81-1327_20230316055547446.parquet\n",
      "│   ├── [ 96M 05:55:18]  76f5a01e-b697-4272-8056-279c9773ebe0-0_0-34-628_20230316055431234.parquet\n",
      "│   ├── [119M 05:58:05]  80768418-438b-4bd6-a38c-1b5d9350671d-0_0-131-2064_20230316055711299.parquet\n",
      "│   ├── [ 93M 05:56:37]  9a0e6e25-935c-4567-9a2b-808de9955109-0_1-81-1328_20230316055547446.parquet\n",
      "│   └── [ 63M 05:57:54]  f49ecbe4-6ecb-4358-a48d-a31fc7b195ea-0_1-131-2065_20230316055711299.parquet\n",
      "└── [491M 05:58:33]  parity=1\n",
      "    ├── [ 94M 05:56:37]  74715eed-d354-462a-a3b3-72f51d4b8ed2-0_3-81-1330_20230316055547446.parquet\n",
      "    ├── [ 96M 05:55:17]  8a363e0b-b2fd-4da9-88ef-9738d9034831-0_1-34-629_20230316055431234.parquet\n",
      "    ├── [119M 05:58:05]  ce8b3482-f51c-4b51-8c5d-4cf309119f04-0_2-131-2066_20230316055711299.parquet\n",
      "    ├── [120M 05:56:42]  ed612562-c0d7-41d4-ad51-10f2cce7af13-0_2-81-1329_20230316055547446.parquet\n",
      "    └── [ 63M 05:57:54]  fdb1e6fa-859f-4043-846a-61443ebdf02a-0_3-131-2067_20230316055711299.parquet\n"
     ]
    }
   ],
   "source": [
    "%%sh\n",
    "${WORKSPACE}/hudi-stat.sh s3://${S3_BUCKET}/${TABLE_NAME} timeline commits storage"
   ]
  },
  {
   "cell_type": "markdown",
   "id": "4d3095c2-2ee1-4aa0-9f91-4205e9865b89",
   "metadata": {
    "tags": []
   },
   "source": [
    "### 3.8. Offline Eexecute / 357MB -> +∑ 1 Clustered File"
   ]
  },
  {
   "cell_type": "code",
   "execution_count": 29,
   "id": "68836317-7694-4e78-a80b-105cbdbd9251",
   "metadata": {
    "execution": {
     "iopub.execute_input": "2023-03-16T05:59:12.293140Z",
     "iopub.status.busy": "2023-03-16T05:59:12.292905Z",
     "iopub.status.idle": "2023-03-16T06:02:02.716573Z",
     "shell.execute_reply": "2023-03-16T06:02:02.715695Z",
     "shell.execute_reply.started": "2023-03-16T05:59:12.293114Z"
    },
    "tags": []
   },
   "outputs": [],
   "source": [
    "%%sh\n",
    "# no need to provide --hoodie-conf setting again for execute, they are only used for schedule\n",
    "# for execute, if there are requested replacecommits in timeline, they will be executed via this job.\n",
    "# it's required for current user (emr-notebook) to get sudo permission\n",
    "sudo -u hadoop spark-submit \\\n",
    "  --jars '/usr/lib/hudi/hudi-spark-bundle.jar' \\\n",
    "  --class 'org.apache.hudi.utilities.HoodieClusteringJob' \\\n",
    "  /usr/lib/hudi/hudi-utilities-bundle.jar \\\n",
    "  --spark-memory '4g' \\\n",
    "  --mode 'execute' \\\n",
    "  --base-path \"s3://${S3_BUCKET}/${TABLE_NAME}\" \\\n",
    "  --table-name \"${TABLE_NAME}\" > ${WORKSPACE}/${TABLE_NAME}.execute.out &>/dev/null"
   ]
  },
  {
   "cell_type": "code",
   "execution_count": 30,
   "id": "2e63ca8f-a1ad-4f64-bb63-58d39cceb348",
   "metadata": {
    "execution": {
     "iopub.execute_input": "2023-03-16T06:02:02.718390Z",
     "iopub.status.busy": "2023-03-16T06:02:02.718015Z",
     "iopub.status.idle": "2023-03-16T06:02:24.029936Z",
     "shell.execute_reply": "2023-03-16T06:02:24.029126Z",
     "shell.execute_reply.started": "2023-03-16T06:02:02.718349Z"
    },
    "tags": []
   },
   "outputs": [
    {
     "name": "stdout",
     "output_type": "stream",
     "text": [
      "\n",
      "[ TIMELINE ]\n",
      "\n",
      "╔═════╤═══════════════════╤═══════════════╤═══════════╤═════════════╤═════════════╤═════════════╗\n",
      "║ No. │ Instant           │ Action        │ State     │ Requested   │ Inflight    │ Completed   ║\n",
      "║     │                   │               │           │ Time        │ Time        │ Time        ║\n",
      "╠═════╪═══════════════════╪═══════════════╪═══════════╪═════════════╪═════════════╪═════════════╣\n",
      "║ 0   │ 20230316055431234 │ commit        │ COMPLETED │ 03-16 05:54 │ 03-16 05:54 │ 03-16 05:55 ║\n",
      "╟─────┼───────────────────┼───────────────┼───────────┼─────────────┼─────────────┼─────────────╢\n",
      "║ 1   │ 20230316055547446 │ commit        │ COMPLETED │ 03-16 05:55 │ 03-16 05:56 │ 03-16 05:56 ║\n",
      "╟─────┼───────────────────┼───────────────┼───────────┼─────────────┼─────────────┼─────────────╢\n",
      "║ 2   │ 20230316055711299 │ commit        │ COMPLETED │ 03-16 05:57 │ 03-16 05:57 │ 03-16 05:58 ║\n",
      "╟─────┼───────────────────┼───────────────┼───────────┼─────────────┼─────────────┼─────────────╢\n",
      "║ 3   │ 20230316055850396 │ replacecommit │ COMPLETED │ 03-16 05:58 │ 03-16 05:59 │ 03-16 06:02 ║\n",
      "╚═════╧═══════════════════╧═══════════════╧═══════════╧═════════════╧═════════════╧═════════════╝\n",
      "\n",
      "[ COMMITS ]\n",
      "\n",
      "╔═══════════════════╤═════════════════════╤═══════════════════╤═════════════════════╤══════════════════════════╤═══════════════════════╤══════════════════════════════╤══════════════╗\n",
      "║ CommitTime        │ Total Bytes Written │ Total Files Added │ Total Files Updated │ Total Partitions Written │ Total Records Written │ Total Update Records Written │ Total Errors ║\n",
      "╠═══════════════════╪═════════════════════╪═══════════════════╪═════════════════════╪══════════════════════════╪═══════════════════════╪══════════════════════════════╪══════════════╣\n",
      "║ 20230316055850396 │ 978.4 MB            │ 4                 │ 0                   │ 2                        │ 5920271               │ 0                            │ 0            ║\n",
      "╟───────────────────┼─────────────────────┼───────────────────┼─────────────────────┼──────────────────────────┼───────────────────────┼──────────────────────────────┼──────────────╢\n",
      "║ 20230316055711299 │ 364.2 MB            │ 4                 │ 0                   │ 2                        │ 2194714               │ 0                            │ 0            ║\n",
      "╟───────────────────┼─────────────────────┼───────────────────┼─────────────────────┼──────────────────────────┼───────────────────────┼──────────────────────────────┼──────────────╢\n",
      "║ 20230316055547446 │ 426.7 MB            │ 4                 │ 0                   │ 2                        │ 2570430               │ 0                            │ 0            ║\n",
      "╟───────────────────┼─────────────────────┼───────────────────┼─────────────────────┼──────────────────────────┼───────────────────────┼──────────────────────────────┼──────────────╢\n",
      "║ 20230316055431234 │ 191.6 MB            │ 2                 │ 0                   │ 2                        │ 1155127               │ 0                            │ 0            ║\n",
      "╚═══════════════════╧═════════════════════╧═══════════════════╧═════════════════════╧══════════════════════════╧═══════════════════════╧══════════════════════════════╧══════════════╝\n",
      "\n",
      "[ STORAGE ]\n",
      "\n",
      "/home/emr-notebook/apache-hudi-core-conceptions/reviews_cow_clustering_2\n",
      "├── [980M 06:02:21]  parity=0\n",
      "│   ├── [248M 06:00:55]  3ead5aae-bd74-41df-b378-c3a05838ca64-0_0-4-20_20230316055850396.parquet\n",
      "│   ├── [120M 05:56:42]  4d4daa1f-7434-4549-93c7-f5a2f610b10c-0_0-81-1327_20230316055547446.parquet\n",
      "│   ├── [ 96M 05:55:18]  76f5a01e-b697-4272-8056-279c9773ebe0-0_0-34-628_20230316055431234.parquet\n",
      "│   ├── [241M 06:00:55]  79e5219a-5d9d-4697-9e24-98a739d44dc0-0_1-4-21_20230316055850396.parquet\n",
      "│   ├── [119M 05:58:05]  80768418-438b-4bd6-a38c-1b5d9350671d-0_0-131-2064_20230316055711299.parquet\n",
      "│   ├── [ 93M 05:56:37]  9a0e6e25-935c-4567-9a2b-808de9955109-0_1-81-1328_20230316055547446.parquet\n",
      "│   └── [ 63M 05:57:54]  f49ecbe4-6ecb-4358-a48d-a31fc7b195ea-0_1-131-2065_20230316055711299.parquet\n",
      "└── [981M 06:02:23]  parity=1\n",
      "    ├── [ 94M 05:56:37]  74715eed-d354-462a-a3b3-72f51d4b8ed2-0_3-81-1330_20230316055547446.parquet\n",
      "    ├── [ 96M 05:55:17]  8a363e0b-b2fd-4da9-88ef-9738d9034831-0_1-34-629_20230316055431234.parquet\n",
      "    ├── [246M 06:00:54]  ae883474-d5a6-4edc-96f0-6d0e9c566bf5-0_3-4-23_20230316055850396.parquet\n",
      "    ├── [119M 05:58:05]  ce8b3482-f51c-4b51-8c5d-4cf309119f04-0_2-131-2066_20230316055711299.parquet\n",
      "    ├── [244M 06:00:54]  e204464c-b25b-46f6-b9f2-2cc9964175e1-0_2-4-22_20230316055850396.parquet\n",
      "    ├── [120M 05:56:42]  ed612562-c0d7-41d4-ad51-10f2cce7af13-0_2-81-1329_20230316055547446.parquet\n",
      "    └── [ 63M 05:57:54]  fdb1e6fa-859f-4043-846a-61443ebdf02a-0_3-131-2067_20230316055711299.parquet\n"
     ]
    }
   ],
   "source": [
    "%%sh\n",
    "${WORKSPACE}/hudi-stat.sh s3://${S3_BUCKET}/${TABLE_NAME} timeline commits storage"
   ]
  },
  {
   "cell_type": "markdown",
   "id": "004697ae-2c51-4107-9bf0-60b0713fe6be",
   "metadata": {
    "tags": []
   },
   "source": [
    "## 4. Test Case 3 - Async Clustering ( Offline Schedule + Offline Execute )"
   ]
  },
  {
   "cell_type": "markdown",
   "id": "6d8be26b-fbe2-4be3-b228-9c559b1d7f40",
   "metadata": {
    "tags": []
   },
   "source": [
    "### 4.1. Test Plan\n",
    "\n",
    "Step No.|Action|Volume / Partition |File System\n",
    ":--------:|:------|:------|:----------\n",
    "1|Insert|15MB|1 Small FileGroup\n",
    "2|Insert|341MB|3 Big FileGroups\n",
    "3|Async Clustering Schedule|-|-\n",
    "4|Async Clustering Eexecute|354MB|∑ 1 Clustered FileGroup\n",
    "5|Insert|377MB|3 Big FileGroups + 1 Small FileGroup\n",
    "6|Insert||"
   ]
  },
  {
   "cell_type": "markdown",
   "id": "a1e7d641-3d45-4b84-9a77-16edf6f416a6",
   "metadata": {
    "tags": []
   },
   "source": [
    "### 4.2. Key Settings\n",
    "\n",
    "KEY|DEFAULT VALUE|SET VALUE\n",
    ":---|:---|:---\n",
    "hoodie.clustering.async.enabled|false|true\n",
    "hoodie.clustering.async.max.commits|4|3\n",
    "hoodie.clustering.plan.strategy.target.file.max.bytes|1073741824 / 1GB|314572800 / 400MB\n",
    "hoodie.clustering.plan.strategy.small.file.limit|314572800 / 300MB|209715200 / 200MB\n",
    "hoodie.clustering.plan.strategy.sort.columns|-|review_date\n",
    "hoodie.parquet.small.file.limit|104857600 / 100MB | 0\n",
    "hoodie.copyonwrite.record.size.estimate|1024|175"
   ]
  },
  {
   "cell_type": "markdown",
   "id": "1fb7dc06-61d1-43b4-a43e-c7cd9ff2adb6",
   "metadata": {
    "execution": {
     "iopub.execute_input": "2023-02-25T02:57:45.037101Z",
     "iopub.status.busy": "2023-02-25T02:57:45.036681Z",
     "iopub.status.idle": "2023-02-25T02:58:07.353493Z",
     "shell.execute_reply": "2023-02-25T02:58:07.352596Z",
     "shell.execute_reply.started": "2023-02-25T02:57:45.037060Z"
    },
    "tags": []
   },
   "source": [
    "### 4.3. Set Variables"
   ]
  },
  {
   "cell_type": "code",
   "execution_count": 44,
   "id": "c3a03aa0-ed08-4ece-90ee-8a04d33b0a1e",
   "metadata": {
    "execution": {
     "iopub.execute_input": "2023-03-16T06:33:39.774621Z",
     "iopub.status.busy": "2023-03-16T06:33:39.774290Z",
     "iopub.status.idle": "2023-03-16T06:33:47.200069Z",
     "shell.execute_reply": "2023-03-16T06:33:47.199315Z",
     "shell.execute_reply.started": "2023-03-16T06:33:39.774588Z"
    },
    "tags": []
   },
   "outputs": [
    {
     "data": {
      "application/vnd.jupyter.widget-view+json": {
       "model_id": "",
       "version_major": 2,
       "version_minor": 0
      },
      "text/plain": [
       "FloatProgress(value=0.0, bar_style='info', description='Progress:', layout=Layout(height='25px', width='50%'),…"
      ]
     },
     "metadata": {},
     "output_type": "display_data"
    },
    {
     "data": {
      "text/html": [
       "<style>.jp-OutputArea-child .jupyter-widgets.jp-OutputArea-output { overflow: auto; }</style>"
      ],
      "text/plain": [
       "<IPython.core.display.HTML object>"
      ]
     },
     "metadata": {},
     "output_type": "display_data"
    },
    {
     "data": {
      "application/vnd.jupyter.widget-view+json": {
       "model_id": "0235eb4dc71647c6bce980c986423f2c",
       "version_major": 2,
       "version_minor": 0
      },
      "text/plain": [
       "VBox(children=(HBox(children=(HTML(value='Type:'), Button(description='Table', layout=Layout(width='70px'), st…"
      ]
     },
     "metadata": {},
     "output_type": "display_data"
    },
    {
     "data": {
      "application/vnd.jupyter.widget-view+json": {
       "model_id": "96bacb0bf7c5440989657a7fe112ff7e",
       "version_major": 2,
       "version_minor": 0
      },
      "text/plain": [
       "Output()"
      ]
     },
     "metadata": {},
     "output_type": "display_data"
    }
   ],
   "source": [
    "%%sql\n",
    "set TABLE_NAME=reviews_cow_clustering_3"
   ]
  },
  {
   "cell_type": "code",
   "execution_count": 45,
   "id": "66ea5a4a-f5a6-44ca-9ddd-344522c1cc88",
   "metadata": {
    "execution": {
     "iopub.execute_input": "2023-03-16T06:33:47.201403Z",
     "iopub.status.busy": "2023-03-16T06:33:47.201159Z",
     "iopub.status.idle": "2023-03-16T06:33:47.205371Z",
     "shell.execute_reply": "2023-03-16T06:33:47.204700Z",
     "shell.execute_reply.started": "2023-03-16T06:33:47.201380Z"
    },
    "tags": []
   },
   "outputs": [
    {
     "name": "stdout",
     "output_type": "stream",
     "text": [
      "env: TABLE_NAME=reviews_cow_clustering_3\n"
     ]
    }
   ],
   "source": [
    "%env TABLE_NAME=reviews_cow_clustering_3"
   ]
  },
  {
   "cell_type": "markdown",
   "id": "2f20cdee-1a1f-44bf-be57-2bfbf6aeab7a",
   "metadata": {},
   "source": [
    "### 4.4. Create Table"
   ]
  },
  {
   "cell_type": "code",
   "execution_count": 46,
   "id": "36fc8a4e-423c-472a-85bf-c464b099c930",
   "metadata": {
    "execution": {
     "iopub.execute_input": "2023-03-16T06:33:47.207687Z",
     "iopub.status.busy": "2023-03-16T06:33:47.207324Z",
     "iopub.status.idle": "2023-03-16T06:33:53.376961Z",
     "shell.execute_reply": "2023-03-16T06:33:53.375918Z",
     "shell.execute_reply.started": "2023-03-16T06:33:47.207657Z"
    },
    "tags": []
   },
   "outputs": [],
   "source": [
    "%%sh\n",
    "aws s3 rm s3://${S3_BUCKET}/${TABLE_NAME} --recursive &>/dev/null\n",
    "rm -rf ${WORKSPACE}/${TABLE_NAME}\n",
    "sleep 5"
   ]
  },
  {
   "cell_type": "code",
   "execution_count": 47,
   "id": "c6477a30-4af3-4abe-9219-9324c924afa0",
   "metadata": {
    "execution": {
     "iopub.execute_input": "2023-03-16T06:33:53.379195Z",
     "iopub.status.busy": "2023-03-16T06:33:53.378815Z",
     "iopub.status.idle": "2023-03-16T06:33:54.209897Z",
     "shell.execute_reply": "2023-03-16T06:33:54.209105Z",
     "shell.execute_reply.started": "2023-03-16T06:33:53.379147Z"
    },
    "tags": []
   },
   "outputs": [
    {
     "data": {
      "application/vnd.jupyter.widget-view+json": {
       "model_id": "",
       "version_major": 2,
       "version_minor": 0
      },
      "text/plain": [
       "FloatProgress(value=0.0, bar_style='info', description='Progress:', layout=Layout(height='25px', width='50%'),…"
      ]
     },
     "metadata": {},
     "output_type": "display_data"
    },
    {
     "data": {
      "text/html": [
       "<style>.jp-OutputArea-child .jupyter-widgets.jp-OutputArea-output { overflow: auto; }</style>"
      ],
      "text/plain": [
       "<IPython.core.display.HTML object>"
      ]
     },
     "metadata": {},
     "output_type": "display_data"
    },
    {
     "data": {
      "application/vnd.jupyter.widget-view+json": {
       "model_id": "e6ac74878f7c4c4789e6f554d7afb57b",
       "version_major": 2,
       "version_minor": 0
      },
      "text/plain": [
       "VBox(children=(HBox(), EncodingWidget(children=(VBox(children=(HTML(value='Encoding:'), Dropdown(description='…"
      ]
     },
     "metadata": {},
     "output_type": "display_data"
    },
    {
     "data": {
      "application/vnd.jupyter.widget-view+json": {
       "model_id": "1b78078c5ae947b6a2a6b7b0b217f422",
       "version_major": 2,
       "version_minor": 0
      },
      "text/plain": [
       "Output()"
      ]
     },
     "metadata": {},
     "output_type": "display_data"
    }
   ],
   "source": [
    "%%sql\n",
    "drop table if exists ${TABLE_NAME}"
   ]
  },
  {
   "cell_type": "code",
   "execution_count": 48,
   "id": "fafa88ef-e062-4adf-86bf-564528715b3e",
   "metadata": {
    "execution": {
     "iopub.execute_input": "2023-03-16T06:33:54.211598Z",
     "iopub.status.busy": "2023-03-16T06:33:54.211253Z",
     "iopub.status.idle": "2023-03-16T06:33:56.558153Z",
     "shell.execute_reply": "2023-03-16T06:33:56.557472Z",
     "shell.execute_reply.started": "2023-03-16T06:33:54.211563Z"
    },
    "tags": []
   },
   "outputs": [
    {
     "data": {
      "application/vnd.jupyter.widget-view+json": {
       "model_id": "",
       "version_major": 2,
       "version_minor": 0
      },
      "text/plain": [
       "FloatProgress(value=0.0, bar_style='info', description='Progress:', layout=Layout(height='25px', width='50%'),…"
      ]
     },
     "metadata": {},
     "output_type": "display_data"
    },
    {
     "data": {
      "text/html": [
       "<style>.jp-OutputArea-child .jupyter-widgets.jp-OutputArea-output { overflow: auto; }</style>"
      ],
      "text/plain": [
       "<IPython.core.display.HTML object>"
      ]
     },
     "metadata": {},
     "output_type": "display_data"
    },
    {
     "data": {
      "application/vnd.jupyter.widget-view+json": {
       "model_id": "e84ead8548714e22b436a535fc31682d",
       "version_major": 2,
       "version_minor": 0
      },
      "text/plain": [
       "VBox(children=(HBox(), EncodingWidget(children=(VBox(children=(HTML(value='Encoding:'), Dropdown(description='…"
      ]
     },
     "metadata": {},
     "output_type": "display_data"
    },
    {
     "data": {
      "application/vnd.jupyter.widget-view+json": {
       "model_id": "19b7b59070ee4c2ebd4a0c313f65d27b",
       "version_major": 2,
       "version_minor": 0
      },
      "text/plain": [
       "Output()"
      ]
     },
     "metadata": {},
     "output_type": "display_data"
    }
   ],
   "source": [
    "%%sql\n",
    "-- it shows by testing: async clustering properties, i.e. paln strategy does NOT work as table properties\n",
    "-- we should always set them via spark job properties by --hoodie-conf or --props\n",
    "-- so, comment out clustering related settings, just keep them as reference.\n",
    "create table if not exists ${TABLE_NAME}(\n",
    "    review_id string, \n",
    "    star_rating int, \n",
    "    review_body string, \n",
    "    review_date date, \n",
    "    year long,\n",
    "    timestamp long,\n",
    "    parity int\n",
    ")\n",
    "using hudi\n",
    "location 's3://${S3_BUCKET}/${TABLE_NAME}'\n",
    "partitioned by (parity)\n",
    "options ( \n",
    "    type = 'cow',  \n",
    "    primaryKey = 'review_id', \n",
    "    preCombineField = 'timestamp',\n",
    "    hoodie.clustering.inline = 'false',\n",
    "    hoodie.clustering.schedule.inline = 'false',\n",
    "    hoodie.clustering.async.enabled = 'true',\n",
    "    hoodie.clustering.async.max.commits = '3',\n",
    "    -- hoodie.clustering.plan.strategy.small.file.limit = '209715200',\n",
    "    -- hoodie.clustering.plan.strategy.target.file.max.bytes = '314572800',\n",
    "    -- hoodie.clustering.plan.strategy.sort.columns = 'review_date',\n",
    "    hoodie.parquet.small.file.limit = '0',\n",
    "    hoodie.copyonwrite.record.size.estimate = '175'\n",
    ");"
   ]
  },
  {
   "cell_type": "markdown",
   "id": "0f800040-bb4f-41c6-8612-0beda2fae8fa",
   "metadata": {
    "tags": []
   },
   "source": [
    "### 4.5. Insert 96MB / + 1 Small File"
   ]
  },
  {
   "cell_type": "code",
   "execution_count": 49,
   "id": "38c23a76-db2b-425f-bee3-eac06216cd62",
   "metadata": {
    "execution": {
     "iopub.execute_input": "2023-03-16T06:33:56.559429Z",
     "iopub.status.busy": "2023-03-16T06:33:56.559192Z",
     "iopub.status.idle": "2023-03-16T06:34:54.060386Z",
     "shell.execute_reply": "2023-03-16T06:34:54.059445Z",
     "shell.execute_reply.started": "2023-03-16T06:33:56.559405Z"
    },
    "tags": []
   },
   "outputs": [
    {
     "data": {
      "application/vnd.jupyter.widget-view+json": {
       "model_id": "",
       "version_major": 2,
       "version_minor": 0
      },
      "text/plain": [
       "FloatProgress(value=0.0, bar_style='info', description='Progress:', layout=Layout(height='25px', width='50%'),…"
      ]
     },
     "metadata": {},
     "output_type": "display_data"
    },
    {
     "data": {
      "text/html": [
       "<style>.jp-OutputArea-child .jupyter-widgets.jp-OutputArea-output { overflow: auto; }</style>"
      ],
      "text/plain": [
       "<IPython.core.display.HTML object>"
      ]
     },
     "metadata": {},
     "output_type": "display_data"
    },
    {
     "data": {
      "application/vnd.jupyter.widget-view+json": {
       "model_id": "01ce74c4bcaa4276861d78fc175d6c41",
       "version_major": 2,
       "version_minor": 0
      },
      "text/plain": [
       "VBox(children=(HBox(), EncodingWidget(children=(VBox(children=(HTML(value='Encoding:'), Dropdown(description='…"
      ]
     },
     "metadata": {},
     "output_type": "display_data"
    },
    {
     "data": {
      "application/vnd.jupyter.widget-view+json": {
       "model_id": "04bf64b47d364fabaf042b4e0b483657",
       "version_major": 2,
       "version_minor": 0
      },
      "text/plain": [
       "Output()"
      ]
     },
     "metadata": {},
     "output_type": "display_data"
    }
   ],
   "source": [
    "%%sql\n",
    "insert into \n",
    "    ${TABLE_NAME}\n",
    "select \n",
    "    review_id, \n",
    "    star_rating, \n",
    "    review_body, \n",
    "    review_date, \n",
    "    year,\n",
    "    unix_timestamp(current_timestamp()) as timestamp,\n",
    "    mod(crc32(review_id), 2) as parity\n",
    "from\n",
    "    reviews\n",
    "where\n",
    "    year = 2003;"
   ]
  },
  {
   "cell_type": "code",
   "execution_count": 50,
   "id": "ade7d5bb-85b0-47d3-9df1-9e4402377472",
   "metadata": {
    "execution": {
     "iopub.execute_input": "2023-03-16T06:34:54.061657Z",
     "iopub.status.busy": "2023-03-16T06:34:54.061418Z",
     "iopub.status.idle": "2023-03-16T06:35:09.567088Z",
     "shell.execute_reply": "2023-03-16T06:35:09.566297Z",
     "shell.execute_reply.started": "2023-03-16T06:34:54.061635Z"
    },
    "tags": []
   },
   "outputs": [
    {
     "name": "stdout",
     "output_type": "stream",
     "text": [
      "\n",
      "[ TIMELINE ]\n",
      "\n",
      "╔═════╤═══════════════════╤════════╤═══════════╤═════════════╤═════════════╤═════════════╗\n",
      "║ No. │ Instant           │ Action │ State     │ Requested   │ Inflight    │ Completed   ║\n",
      "║     │                   │        │           │ Time        │ Time        │ Time        ║\n",
      "╠═════╪═══════════════════╪════════╪═══════════╪═════════════╪═════════════╪═════════════╣\n",
      "║ 0   │ 20230316063357096 │ commit │ COMPLETED │ 03-16 06:33 │ 03-16 06:34 │ 03-16 06:34 ║\n",
      "╚═════╧═══════════════════╧════════╧═══════════╧═════════════╧═════════════╧═════════════╝\n",
      "\n",
      "[ COMMITS ]\n",
      "\n",
      "╔═══════════════════╤═════════════════════╤═══════════════════╤═════════════════════╤══════════════════════════╤═══════════════════════╤══════════════════════════════╤══════════════╗\n",
      "║ CommitTime        │ Total Bytes Written │ Total Files Added │ Total Files Updated │ Total Partitions Written │ Total Records Written │ Total Update Records Written │ Total Errors ║\n",
      "╠═══════════════════╪═════════════════════╪═══════════════════╪═════════════════════╪══════════════════════════╪═══════════════════════╪══════════════════════════════╪══════════════╣\n",
      "║ 20230316063357096 │ 191.6 MB            │ 2                 │ 0                   │ 2                        │ 1155127               │ 0                            │ 0            ║\n",
      "╚═══════════════════╧═════════════════════╧═══════════════════╧═════════════════════╧══════════════════════════╧═══════════════════════╧══════════════════════════════╧══════════════╝\n",
      "\n",
      "[ STORAGE ]\n",
      "\n",
      "/home/emr-notebook/apache-hudi-core-conceptions/reviews_cow_clustering_3\n",
      "├── [ 96M 06:35:09]  parity=0\n",
      "│   └── [ 96M 06:34:44]  218cb281-2e96-45d9-b9c9-3d16650fd8ef-0_0-356-2924_20230316063357096.parquet\n",
      "└── [ 96M 06:35:09]  parity=1\n",
      "    └── [ 96M 06:34:43]  874dd1e4-81da-4e7b-96f1-2c394d3d060d-0_1-356-2925_20230316063357096.parquet\n"
     ]
    }
   ],
   "source": [
    "%%sh\n",
    "${WORKSPACE}/hudi-stat.sh s3://${S3_BUCKET}/${TABLE_NAME} timeline commits storage"
   ]
  },
  {
   "cell_type": "markdown",
   "id": "20f1b7e1-9c98-48c6-9a01-c8c27dc359e1",
   "metadata": {
    "tags": []
   },
   "source": [
    "### 4.6. Insert 213MB / + 1 Max File + 1 Small File"
   ]
  },
  {
   "cell_type": "code",
   "execution_count": 51,
   "id": "c4c7eb72-c2a3-4bc7-9b98-a835c3c7dd69",
   "metadata": {
    "execution": {
     "iopub.execute_input": "2023-03-16T06:35:09.569932Z",
     "iopub.status.busy": "2023-03-16T06:35:09.569675Z",
     "iopub.status.idle": "2023-03-16T06:36:25.224182Z",
     "shell.execute_reply": "2023-03-16T06:36:25.223487Z",
     "shell.execute_reply.started": "2023-03-16T06:35:09.569904Z"
    },
    "tags": []
   },
   "outputs": [
    {
     "data": {
      "application/vnd.jupyter.widget-view+json": {
       "model_id": "",
       "version_major": 2,
       "version_minor": 0
      },
      "text/plain": [
       "FloatProgress(value=0.0, bar_style='info', description='Progress:', layout=Layout(height='25px', width='50%'),…"
      ]
     },
     "metadata": {},
     "output_type": "display_data"
    },
    {
     "data": {
      "text/html": [
       "<style>.jp-OutputArea-child .jupyter-widgets.jp-OutputArea-output { overflow: auto; }</style>"
      ],
      "text/plain": [
       "<IPython.core.display.HTML object>"
      ]
     },
     "metadata": {},
     "output_type": "display_data"
    },
    {
     "data": {
      "application/vnd.jupyter.widget-view+json": {
       "model_id": "f686143444524468b4293b21a9a39fa9",
       "version_major": 2,
       "version_minor": 0
      },
      "text/plain": [
       "VBox(children=(HBox(), EncodingWidget(children=(VBox(children=(HTML(value='Encoding:'), Dropdown(description='…"
      ]
     },
     "metadata": {},
     "output_type": "display_data"
    },
    {
     "data": {
      "application/vnd.jupyter.widget-view+json": {
       "model_id": "be1894584284476f921cb7baa308dfe8",
       "version_major": 2,
       "version_minor": 0
      },
      "text/plain": [
       "Output()"
      ]
     },
     "metadata": {},
     "output_type": "display_data"
    }
   ],
   "source": [
    "%%sql\n",
    "insert into \n",
    "    ${TABLE_NAME}\n",
    "select \n",
    "    review_id, \n",
    "    star_rating, \n",
    "    review_body, \n",
    "    review_date, \n",
    "    year,\n",
    "    unix_timestamp(current_timestamp()) as timestamp,\n",
    "    mod(crc32(review_id), 2) as parity\n",
    "from\n",
    "    reviews\n",
    "where\n",
    "    year in (2004, 2005);"
   ]
  },
  {
   "cell_type": "code",
   "execution_count": 52,
   "id": "f4efab55-9d8a-450a-a747-b2e496e03f8d",
   "metadata": {
    "execution": {
     "iopub.execute_input": "2023-03-16T06:36:25.225678Z",
     "iopub.status.busy": "2023-03-16T06:36:25.225443Z",
     "iopub.status.idle": "2023-03-16T06:36:42.178896Z",
     "shell.execute_reply": "2023-03-16T06:36:42.178120Z",
     "shell.execute_reply.started": "2023-03-16T06:36:25.225654Z"
    },
    "tags": []
   },
   "outputs": [
    {
     "name": "stdout",
     "output_type": "stream",
     "text": [
      "\n",
      "[ TIMELINE ]\n",
      "\n",
      "╔═════╤═══════════════════╤════════╤═══════════╤═════════════╤═════════════╤═════════════╗\n",
      "║ No. │ Instant           │ Action │ State     │ Requested   │ Inflight    │ Completed   ║\n",
      "║     │                   │        │           │ Time        │ Time        │ Time        ║\n",
      "╠═════╪═══════════════════╪════════╪═══════════╪═════════════╪═════════════╪═════════════╣\n",
      "║ 0   │ 20230316063357096 │ commit │ COMPLETED │ 03-16 06:33 │ 03-16 06:34 │ 03-16 06:34 ║\n",
      "╟─────┼───────────────────┼────────┼───────────┼─────────────┼─────────────┼─────────────╢\n",
      "║ 1   │ 20230316063510697 │ commit │ COMPLETED │ 03-16 06:35 │ 03-16 06:35 │ 03-16 06:36 ║\n",
      "╚═════╧═══════════════════╧════════╧═══════════╧═════════════╧═════════════╧═════════════╝\n",
      "\n",
      "[ COMMITS ]\n",
      "\n",
      "╔═══════════════════╤═════════════════════╤═══════════════════╤═════════════════════╤══════════════════════════╤═══════════════════════╤══════════════════════════════╤══════════════╗\n",
      "║ CommitTime        │ Total Bytes Written │ Total Files Added │ Total Files Updated │ Total Partitions Written │ Total Records Written │ Total Update Records Written │ Total Errors ║\n",
      "╠═══════════════════╪═════════════════════╪═══════════════════╪═════════════════════╪══════════════════════════╪═══════════════════════╪══════════════════════════════╪══════════════╣\n",
      "║ 20230316063510697 │ 426.7 MB            │ 4                 │ 0                   │ 2                        │ 2570430               │ 0                            │ 0            ║\n",
      "╟───────────────────┼─────────────────────┼───────────────────┼─────────────────────┼──────────────────────────┼───────────────────────┼──────────────────────────────┼──────────────╢\n",
      "║ 20230316063357096 │ 191.6 MB            │ 2                 │ 0                   │ 2                        │ 1155127               │ 0                            │ 0            ║\n",
      "╚═══════════════════╧═════════════════════╧═══════════════════╧═════════════════════╧══════════════════════════╧═══════════════════════╧══════════════════════════════╧══════════════╝\n",
      "\n",
      "[ STORAGE ]\n",
      "\n",
      "/home/emr-notebook/apache-hudi-core-conceptions/reviews_cow_clustering_3\n",
      "├── [309M 06:36:42]  parity=0\n",
      "│   ├── [ 96M 06:34:44]  218cb281-2e96-45d9-b9c9-3d16650fd8ef-0_0-356-2924_20230316063357096.parquet\n",
      "│   ├── [ 93M 06:36:05]  27385d35-5f06-44b1-abb0-8c634cd7e559-0_1-403-3195_20230316063510697.parquet\n",
      "│   └── [120M 06:36:12]  e9253409-69eb-4236-ad5b-ab3f9555124f-0_0-403-3194_20230316063510697.parquet\n",
      "└── [309M 06:36:42]  parity=1\n",
      "    ├── [ 94M 06:36:05]  311ba464-1dec-4f04-ae12-cd10b6930b35-0_3-403-3197_20230316063510697.parquet\n",
      "    ├── [ 96M 06:34:43]  874dd1e4-81da-4e7b-96f1-2c394d3d060d-0_1-356-2925_20230316063357096.parquet\n",
      "    └── [120M 06:36:11]  fd896ec7-89aa-4fe7-9d2b-71354612349e-0_2-403-3196_20230316063510697.parquet\n"
     ]
    }
   ],
   "source": [
    "%%sh\n",
    "${WORKSPACE}/hudi-stat.sh s3://${S3_BUCKET}/${TABLE_NAME} timeline commits storage"
   ]
  },
  {
   "cell_type": "markdown",
   "id": "40debeda-12fb-4781-b44c-0d72ff19f8ff",
   "metadata": {
    "tags": []
   },
   "source": [
    "### 4.7. Insert 182MB / + 1 Max File + 1 Small File"
   ]
  },
  {
   "cell_type": "code",
   "execution_count": 53,
   "id": "e5fcb991-264a-4966-a235-285fafdc5422",
   "metadata": {
    "execution": {
     "iopub.execute_input": "2023-03-16T06:36:42.257593Z",
     "iopub.status.busy": "2023-03-16T06:36:42.257311Z",
     "iopub.status.idle": "2023-03-16T06:37:45.808777Z",
     "shell.execute_reply": "2023-03-16T06:37:45.807756Z",
     "shell.execute_reply.started": "2023-03-16T06:36:42.257563Z"
    },
    "tags": []
   },
   "outputs": [
    {
     "data": {
      "application/vnd.jupyter.widget-view+json": {
       "model_id": "",
       "version_major": 2,
       "version_minor": 0
      },
      "text/plain": [
       "FloatProgress(value=0.0, bar_style='info', description='Progress:', layout=Layout(height='25px', width='50%'),…"
      ]
     },
     "metadata": {},
     "output_type": "display_data"
    },
    {
     "data": {
      "text/html": [
       "<style>.jp-OutputArea-child .jupyter-widgets.jp-OutputArea-output { overflow: auto; }</style>"
      ],
      "text/plain": [
       "<IPython.core.display.HTML object>"
      ]
     },
     "metadata": {},
     "output_type": "display_data"
    },
    {
     "data": {
      "application/vnd.jupyter.widget-view+json": {
       "model_id": "6e8af302de0b4d1d9c9ecb77259adf3b",
       "version_major": 2,
       "version_minor": 0
      },
      "text/plain": [
       "VBox(children=(HBox(), EncodingWidget(children=(VBox(children=(HTML(value='Encoding:'), Dropdown(description='…"
      ]
     },
     "metadata": {},
     "output_type": "display_data"
    },
    {
     "data": {
      "application/vnd.jupyter.widget-view+json": {
       "model_id": "5eab844c0d764651977fd1e519bc50ef",
       "version_major": 2,
       "version_minor": 0
      },
      "text/plain": [
       "Output()"
      ]
     },
     "metadata": {},
     "output_type": "display_data"
    }
   ],
   "source": [
    "%%sql\n",
    "insert into \n",
    "    ${TABLE_NAME}\n",
    "select \n",
    "    review_id, \n",
    "    star_rating, \n",
    "    review_body, \n",
    "    review_date, \n",
    "    year,\n",
    "    unix_timestamp(current_timestamp()) as timestamp,\n",
    "    mod(crc32(review_id), 2) as parity\n",
    "from\n",
    "    reviews\n",
    "where\n",
    "    year = 2007;"
   ]
  },
  {
   "cell_type": "code",
   "execution_count": 54,
   "id": "87b77ce1-04db-4118-b133-7e4850def52a",
   "metadata": {
    "execution": {
     "iopub.execute_input": "2023-03-16T06:37:45.810399Z",
     "iopub.status.busy": "2023-03-16T06:37:45.809905Z",
     "iopub.status.idle": "2023-03-16T06:38:02.935856Z",
     "shell.execute_reply": "2023-03-16T06:38:02.934999Z",
     "shell.execute_reply.started": "2023-03-16T06:37:45.810359Z"
    },
    "tags": []
   },
   "outputs": [
    {
     "name": "stdout",
     "output_type": "stream",
     "text": [
      "\n",
      "[ TIMELINE ]\n",
      "\n",
      "╔═════╤═══════════════════╤════════╤═══════════╤═════════════╤═════════════╤═════════════╗\n",
      "║ No. │ Instant           │ Action │ State     │ Requested   │ Inflight    │ Completed   ║\n",
      "║     │                   │        │           │ Time        │ Time        │ Time        ║\n",
      "╠═════╪═══════════════════╪════════╪═══════════╪═════════════╪═════════════╪═════════════╣\n",
      "║ 0   │ 20230316063357096 │ commit │ COMPLETED │ 03-16 06:33 │ 03-16 06:34 │ 03-16 06:34 ║\n",
      "╟─────┼───────────────────┼────────┼───────────┼─────────────┼─────────────┼─────────────╢\n",
      "║ 1   │ 20230316063510697 │ commit │ COMPLETED │ 03-16 06:35 │ 03-16 06:35 │ 03-16 06:36 ║\n",
      "╟─────┼───────────────────┼────────┼───────────┼─────────────┼─────────────┼─────────────╢\n",
      "║ 2   │ 20230316063643506 │ commit │ COMPLETED │ 03-16 06:36 │ 03-16 06:37 │ 03-16 06:37 ║\n",
      "╚═════╧═══════════════════╧════════╧═══════════╧═════════════╧═════════════╧═════════════╝\n",
      "\n",
      "[ COMMITS ]\n",
      "\n",
      "╔═══════════════════╤═════════════════════╤═══════════════════╤═════════════════════╤══════════════════════════╤═══════════════════════╤══════════════════════════════╤══════════════╗\n",
      "║ CommitTime        │ Total Bytes Written │ Total Files Added │ Total Files Updated │ Total Partitions Written │ Total Records Written │ Total Update Records Written │ Total Errors ║\n",
      "╠═══════════════════╪═════════════════════╪═══════════════════╪═════════════════════╪══════════════════════════╪═══════════════════════╪══════════════════════════════╪══════════════╣\n",
      "║ 20230316063643506 │ 364.2 MB            │ 4                 │ 0                   │ 2                        │ 2194714               │ 0                            │ 0            ║\n",
      "╟───────────────────┼─────────────────────┼───────────────────┼─────────────────────┼──────────────────────────┼───────────────────────┼──────────────────────────────┼──────────────╢\n",
      "║ 20230316063510697 │ 426.7 MB            │ 4                 │ 0                   │ 2                        │ 2570430               │ 0                            │ 0            ║\n",
      "╟───────────────────┼─────────────────────┼───────────────────┼─────────────────────┼──────────────────────────┼───────────────────────┼──────────────────────────────┼──────────────╢\n",
      "║ 20230316063357096 │ 191.6 MB            │ 2                 │ 0                   │ 2                        │ 1155127               │ 0                            │ 0            ║\n",
      "╚═══════════════════╧═════════════════════╧═══════════════════╧═════════════════════╧══════════════════════════╧═══════════════════════╧══════════════════════════════╧══════════════╝\n",
      "\n",
      "[ STORAGE ]\n",
      "\n",
      "/home/emr-notebook/apache-hudi-core-conceptions/reviews_cow_clustering_3\n",
      "├── [491M 06:38:02]  parity=0\n",
      "│   ├── [ 63M 06:37:25]  1a5d975b-3360-46d5-9835-23d10ede57c4-0_1-453-3474_20230316063643506.parquet\n",
      "│   ├── [ 96M 06:34:44]  218cb281-2e96-45d9-b9c9-3d16650fd8ef-0_0-356-2924_20230316063357096.parquet\n",
      "│   ├── [ 93M 06:36:05]  27385d35-5f06-44b1-abb0-8c634cd7e559-0_1-403-3195_20230316063510697.parquet\n",
      "│   ├── [120M 06:36:12]  e9253409-69eb-4236-ad5b-ab3f9555124f-0_0-403-3194_20230316063510697.parquet\n",
      "│   └── [119M 06:37:34]  ea2b978e-2cac-46e5-ada2-8fdecddc0a10-0_0-453-3473_20230316063643506.parquet\n",
      "└── [491M 06:38:02]  parity=1\n",
      "    ├── [ 94M 06:36:05]  311ba464-1dec-4f04-ae12-cd10b6930b35-0_3-403-3197_20230316063510697.parquet\n",
      "    ├── [119M 06:37:34]  3921d3d8-0564-403a-a283-02f47661b212-0_2-453-3475_20230316063643506.parquet\n",
      "    ├── [ 96M 06:34:43]  874dd1e4-81da-4e7b-96f1-2c394d3d060d-0_1-356-2925_20230316063357096.parquet\n",
      "    ├── [ 63M 06:37:25]  c67e99f3-5e45-4791-b3fd-af1e6add7e4c-0_3-453-3476_20230316063643506.parquet\n",
      "    └── [120M 06:36:11]  fd896ec7-89aa-4fe7-9d2b-71354612349e-0_2-403-3196_20230316063510697.parquet\n"
     ]
    }
   ],
   "source": [
    "%%sh\n",
    "${WORKSPACE}/hudi-stat.sh s3://${S3_BUCKET}/${TABLE_NAME} timeline commits storage"
   ]
  },
  {
   "cell_type": "markdown",
   "id": "e81e2c4d-ef6a-4786-ac61-e57bb3750dab",
   "metadata": {
    "tags": []
   },
   "source": [
    "### 4.8. Offline Schedule + Eexecute / 357MB -> +∑ 1 Clustered File"
   ]
  },
  {
   "cell_type": "code",
   "execution_count": null,
   "id": "68c9f1ad-346b-408d-afc6-72203763c32c",
   "metadata": {
    "execution": {
     "iopub.execute_input": "2023-03-16T06:38:02.941888Z",
     "iopub.status.busy": "2023-03-16T06:38:02.941468Z"
    },
    "tags": []
   },
   "outputs": [],
   "source": [
    "%%sh\n",
    "# it's required for current user (emr-notebook) to get sudo permission\n",
    "sudo -u hadoop spark-submit \\\n",
    "  --jars '/usr/lib/hudi/hudi-spark-bundle.jar' \\\n",
    "  --class 'org.apache.hudi.utilities.HoodieClusteringJob' \\\n",
    "  /usr/lib/hudi/hudi-utilities-bundle.jar \\\n",
    "  --spark-memory '4g' \\\n",
    "  --mode 'scheduleAndExecute' \\\n",
    "  --base-path \"s3://${S3_BUCKET}/${TABLE_NAME}\" \\\n",
    "  --table-name \"${TABLE_NAME}\" \\\n",
    "  --hoodie-conf \"hoodie.clustering.plan.strategy.small.file.limit=209715200\" \\\n",
    "  --hoodie-conf \"hoodie.clustering.plan.strategy.target.file.max.bytes=314572800\" \\\n",
    "  --hoodie-conf \"hoodie.clustering.plan.strategy.sort.columns=review_date\" > ${WORKSPACE}/${TABLE_NAME}.schedule.out &>/dev/null"
   ]
  },
  {
   "cell_type": "code",
   "execution_count": null,
   "id": "faa167dd-fff0-4500-9139-e0d21c296d9a",
   "metadata": {
    "tags": []
   },
   "outputs": [],
   "source": [
    "%%sh\n",
    "${WORKSPACE}/hudi-stat.sh s3://${S3_BUCKET}/${TABLE_NAME} timeline commits storage"
   ]
  },
  {
   "cell_type": "markdown",
   "id": "c9bddac8-2e03-4cbb-8853-6833f63e96f4",
   "metadata": {
    "tags": []
   },
   "source": [
    "## 5. Test Case 4 - Semi-Sync Clustering ( Inline Schedule + Offline Execute )"
   ]
  },
  {
   "cell_type": "markdown",
   "id": "a49f3d86-1eec-49be-9eb5-78c5064bce62",
   "metadata": {
    "tags": []
   },
   "source": [
    "### 5.1. Test Plan\n",
    "\n",
    "Step No.|Action|Volume / Partition |File System\n",
    ":--------:|:------|:------|:----------\n",
    "1|Insert|15MB|1 Small FileGroup\n",
    "2|Insert|341MB|3 Big FileGroups\n",
    "3|Insert|377MB|3 Big FileGroups + 1 Small FileGroup\n",
    "4|Insert||"
   ]
  },
  {
   "cell_type": "markdown",
   "id": "2bc71f37-3a53-45ab-8eed-466899a2d01d",
   "metadata": {
    "tags": []
   },
   "source": [
    "### 5.2. Key Settings\n",
    "\n",
    "KEY|DEFAULT VALUE|SET VALUE\n",
    ":---|:---|:---\n",
    "hoodie.clustering.inline|false|true\n",
    "hoodie.clustering.inline.max.commits|4|2\n",
    "hoodie.clustering.async.enabled|false|false\n",
    "hoodie.clustering.plan.strategy.target.file.max.bytes|1073741824 / 1GB|314572800 / 400MB\n",
    "hoodie.clustering.plan.strategy.small.file.limit|314572800 / 300MB|209715200 / 200MB\n",
    "hoodie.clustering.plan.strategy.sort.columns|-|review_date\n",
    "hoodie.parquet.small.file.limit|104857600 / 100MB | 0\n",
    "hoodie.copyonwrite.record.size.estimate|1024|175"
   ]
  },
  {
   "cell_type": "markdown",
   "id": "50fe4d6c-b78f-49d2-a524-d01b41ae5678",
   "metadata": {
    "execution": {
     "iopub.execute_input": "2023-02-25T02:57:45.037101Z",
     "iopub.status.busy": "2023-02-25T02:57:45.036681Z",
     "iopub.status.idle": "2023-02-25T02:58:07.353493Z",
     "shell.execute_reply": "2023-02-25T02:58:07.352596Z",
     "shell.execute_reply.started": "2023-02-25T02:57:45.037060Z"
    },
    "tags": []
   },
   "source": [
    "### 5.3. Set Variables"
   ]
  },
  {
   "cell_type": "code",
   "execution_count": null,
   "id": "0dab4969-c56e-4938-878d-dcc24c95e3a1",
   "metadata": {
    "execution": {
     "iopub.execute_input": "2023-03-16T03:08:20.488545Z",
     "iopub.status.busy": "2023-03-16T03:08:20.488243Z"
    },
    "tags": []
   },
   "outputs": [
    {
     "data": {
      "application/vnd.jupyter.widget-view+json": {
       "model_id": "",
       "version_major": 2,
       "version_minor": 0
      },
      "text/plain": [
       "FloatProgress(value=0.0, bar_style='info', description='Progress:', layout=Layout(height='25px', width='50%'),…"
      ]
     },
     "metadata": {},
     "output_type": "display_data"
    },
    {
     "data": {
      "text/html": [
       "<style>.jp-OutputArea-child .jupyter-widgets.jp-OutputArea-output { overflow: auto; }</style>"
      ],
      "text/plain": [
       "<IPython.core.display.HTML object>"
      ]
     },
     "metadata": {},
     "output_type": "display_data"
    },
    {
     "data": {
      "application/vnd.jupyter.widget-view+json": {
       "model_id": "b22d8c156e444365b835292550056dfb",
       "version_major": 2,
       "version_minor": 0
      },
      "text/plain": [
       "VBox(children=(HBox(children=(HTML(value='Type:'), Button(description='Table', layout=Layout(width='70px'), st…"
      ]
     },
     "metadata": {},
     "output_type": "display_data"
    },
    {
     "data": {
      "application/vnd.jupyter.widget-view+json": {
       "model_id": "6adb64b8c723464d8f56d2dc7ff68cd8",
       "version_major": 2,
       "version_minor": 0
      },
      "text/plain": [
       "Output()"
      ]
     },
     "metadata": {},
     "output_type": "display_data"
    }
   ],
   "source": [
    "%%sql\n",
    "set TABLE_NAME=reviews_cow_clustering_4"
   ]
  },
  {
   "cell_type": "code",
   "execution_count": null,
   "id": "fa1dfb76-1755-439f-97bb-5a64e78aa86e",
   "metadata": {
    "tags": []
   },
   "outputs": [],
   "source": [
    "%env TABLE_NAME=reviews_cow_clustering_4"
   ]
  },
  {
   "cell_type": "markdown",
   "id": "85d90d6c-0615-479e-a60a-afef4764178d",
   "metadata": {},
   "source": [
    "### 5.4. Create Table"
   ]
  },
  {
   "cell_type": "code",
   "execution_count": null,
   "id": "91677f08-c8d0-4055-b708-cf11d148b3a4",
   "metadata": {
    "tags": []
   },
   "outputs": [],
   "source": [
    "%%sh\n",
    "aws s3 rm s3://${S3_BUCKET}/${TABLE_NAME} --recursive &>/dev/null\n",
    "rm -rf ${WORKSPACE}/${TABLE_NAME}\n",
    "sleep 5"
   ]
  },
  {
   "cell_type": "code",
   "execution_count": null,
   "id": "47091422-382f-4517-adab-7d7706f1e737",
   "metadata": {
    "tags": []
   },
   "outputs": [],
   "source": [
    "%%sql\n",
    "drop table if exists ${TABLE_NAME}"
   ]
  },
  {
   "cell_type": "code",
   "execution_count": null,
   "id": "92622bf2-688c-45b9-bb01-3fae12174b3d",
   "metadata": {
    "tags": []
   },
   "outputs": [],
   "source": [
    "%%sql\n",
    "create table if not exists ${TABLE_NAME}(\n",
    "    review_id string, \n",
    "    star_rating int, \n",
    "    review_body string, \n",
    "    review_date date, \n",
    "    year long,\n",
    "    timestamp long,\n",
    "    parity int\n",
    ")\n",
    "using hudi\n",
    "location 's3://${S3_BUCKET}/${TABLE_NAME}'\n",
    "partitioned by (parity)\n",
    "options ( \n",
    "    type = 'cow',  \n",
    "    primaryKey = 'review_id', \n",
    "    preCombineField = 'timestamp',\n",
    "    hoodie.clustering.inline = 'false',\n",
    "    hoodie.clustering.schedule.inline = 'true',\n",
    "    hoodie.clustering.async.enabled = 'false',\n",
    "    hoodie.clustering.inline.max.commits = '3',\n",
    "    hoodie.clustering.plan.strategy.small.file.limit = '209715200',\n",
    "    hoodie.clustering.plan.strategy.target.file.max.bytes = '314572800',\n",
    "    hoodie.clustering.plan.strategy.sort.columns = 'review_date',\n",
    "    hoodie.parquet.small.file.limit = '0',\n",
    "    hoodie.copyonwrite.record.size.estimate = '175'\n",
    ");"
   ]
  },
  {
   "cell_type": "markdown",
   "id": "87b6f8a3-2835-41ed-aff0-9dab05e8b6c2",
   "metadata": {
    "tags": []
   },
   "source": [
    "### 5.5. Insert 96MB / + 1 Small File"
   ]
  },
  {
   "cell_type": "code",
   "execution_count": 56,
   "id": "e0701ba9-197a-4b64-8a28-1d58049f174f",
   "metadata": {
    "execution": {
     "iopub.execute_input": "2023-03-16T04:03:18.151723Z",
     "iopub.status.busy": "2023-03-16T04:03:18.151492Z",
     "iopub.status.idle": "2023-03-16T04:04:17.635394Z",
     "shell.execute_reply": "2023-03-16T04:04:17.634544Z",
     "shell.execute_reply.started": "2023-03-16T04:03:18.151701Z"
    },
    "tags": []
   },
   "outputs": [
    {
     "data": {
      "application/vnd.jupyter.widget-view+json": {
       "model_id": "",
       "version_major": 2,
       "version_minor": 0
      },
      "text/plain": [
       "FloatProgress(value=0.0, bar_style='info', description='Progress:', layout=Layout(height='25px', width='50%'),…"
      ]
     },
     "metadata": {},
     "output_type": "display_data"
    },
    {
     "data": {
      "text/html": [
       "<style>.jp-OutputArea-child .jupyter-widgets.jp-OutputArea-output { overflow: auto; }</style>"
      ],
      "text/plain": [
       "<IPython.core.display.HTML object>"
      ]
     },
     "metadata": {},
     "output_type": "display_data"
    },
    {
     "data": {
      "application/vnd.jupyter.widget-view+json": {
       "model_id": "0ad5a8c94fa0475d9e4f381364faa138",
       "version_major": 2,
       "version_minor": 0
      },
      "text/plain": [
       "VBox(children=(HBox(), EncodingWidget(children=(VBox(children=(HTML(value='Encoding:'), Dropdown(description='…"
      ]
     },
     "metadata": {},
     "output_type": "display_data"
    },
    {
     "data": {
      "application/vnd.jupyter.widget-view+json": {
       "model_id": "4e105ec16165407fb5d9122932ee72b0",
       "version_major": 2,
       "version_minor": 0
      },
      "text/plain": [
       "Output()"
      ]
     },
     "metadata": {},
     "output_type": "display_data"
    }
   ],
   "source": [
    "%%sql\n",
    "insert into \n",
    "    ${TABLE_NAME}\n",
    "select \n",
    "    review_id, \n",
    "    star_rating, \n",
    "    review_body, \n",
    "    review_date, \n",
    "    year,\n",
    "    unix_timestamp(current_timestamp()) as timestamp,\n",
    "    mod(crc32(review_id), 2) as parity\n",
    "from\n",
    "    reviews\n",
    "where\n",
    "    year = 2003;"
   ]
  },
  {
   "cell_type": "code",
   "execution_count": 57,
   "id": "c0d0ab36-69bb-42ed-8dcb-8cbef542ef88",
   "metadata": {
    "execution": {
     "iopub.execute_input": "2023-03-16T04:04:17.636721Z",
     "iopub.status.busy": "2023-03-16T04:04:17.636456Z",
     "iopub.status.idle": "2023-03-16T04:04:33.758681Z",
     "shell.execute_reply": "2023-03-16T04:04:33.757914Z",
     "shell.execute_reply.started": "2023-03-16T04:04:17.636695Z"
    },
    "tags": []
   },
   "outputs": [
    {
     "name": "stdout",
     "output_type": "stream",
     "text": [
      "\n",
      "[ TIMELINE ]\n",
      "\n",
      "╔═════╤═══════════════════╤════════╤═══════════╤═════════════╤═════════════╤═════════════╗\n",
      "║ No. │ Instant           │ Action │ State     │ Requested   │ Inflight    │ Completed   ║\n",
      "║     │                   │        │           │ Time        │ Time        │ Time        ║\n",
      "╠═════╪═══════════════════╪════════╪═══════════╪═════════════╪═════════════╪═════════════╣\n",
      "║ 0   │ 20230316040318675 │ commit │ COMPLETED │ 03-16 04:03 │ 03-16 04:03 │ 03-16 04:04 ║\n",
      "╚═════╧═══════════════════╧════════╧═══════════╧═════════════╧═════════════╧═════════════╝\n",
      "\n",
      "[ COMMITS ]\n",
      "\n",
      "╔═══════════════════╤═════════════════════╤═══════════════════╤═════════════════════╤══════════════════════════╤═══════════════════════╤══════════════════════════════╤══════════════╗\n",
      "║ CommitTime        │ Total Bytes Written │ Total Files Added │ Total Files Updated │ Total Partitions Written │ Total Records Written │ Total Update Records Written │ Total Errors ║\n",
      "╠═══════════════════╪═════════════════════╪═══════════════════╪═════════════════════╪══════════════════════════╪═══════════════════════╪══════════════════════════════╪══════════════╣\n",
      "║ 20230316040318675 │ 191.6 MB            │ 2                 │ 0                   │ 2                        │ 1155127               │ 0                            │ 0            ║\n",
      "╚═══════════════════╧═════════════════════╧═══════════════════╧═════════════════════╧══════════════════════════╧═══════════════════════╧══════════════════════════════╧══════════════╝\n",
      "\n",
      "[ STORAGE ]\n",
      "\n",
      "/home/emr-notebook/apache-hudi-core-conceptions/reviews_cow_clustering_1\n",
      "├── [ 96M 04:04:33]  parity=0\n",
      "│   └── [ 96M 04:04:07]  5da21b55-01b8-4428-8a21-9e3f5e6c0740-0_0-689-3983_20230316040318675.parquet\n",
      "└── [ 96M 04:04:33]  parity=1\n",
      "    └── [ 96M 04:04:06]  e98faca4-8431-4a1c-ad00-f2d30e8f93a9-0_1-689-3984_20230316040318675.parquet\n"
     ]
    }
   ],
   "source": [
    "%%sh\n",
    "${WORKSPACE}/hudi-stat.sh s3://${S3_BUCKET}/${TABLE_NAME} timeline commits storage"
   ]
  },
  {
   "cell_type": "markdown",
   "id": "b17ff215-c6c6-46db-afe0-89ee101ceb80",
   "metadata": {
    "tags": []
   },
   "source": [
    "### 5.6. Insert 213MB / + 1 Max File + 1 Small File"
   ]
  },
  {
   "cell_type": "code",
   "execution_count": 58,
   "id": "b465bffa-b354-402a-ab65-80bbb0a2f188",
   "metadata": {
    "execution": {
     "iopub.execute_input": "2023-03-16T04:04:33.761544Z",
     "iopub.status.busy": "2023-03-16T04:04:33.761274Z",
     "iopub.status.idle": "2023-03-16T04:05:47.305635Z",
     "shell.execute_reply": "2023-03-16T04:05:47.304813Z",
     "shell.execute_reply.started": "2023-03-16T04:04:33.761519Z"
    },
    "tags": []
   },
   "outputs": [
    {
     "data": {
      "application/vnd.jupyter.widget-view+json": {
       "model_id": "",
       "version_major": 2,
       "version_minor": 0
      },
      "text/plain": [
       "FloatProgress(value=0.0, bar_style='info', description='Progress:', layout=Layout(height='25px', width='50%'),…"
      ]
     },
     "metadata": {},
     "output_type": "display_data"
    },
    {
     "data": {
      "text/html": [
       "<style>.jp-OutputArea-child .jupyter-widgets.jp-OutputArea-output { overflow: auto; }</style>"
      ],
      "text/plain": [
       "<IPython.core.display.HTML object>"
      ]
     },
     "metadata": {},
     "output_type": "display_data"
    },
    {
     "data": {
      "application/vnd.jupyter.widget-view+json": {
       "model_id": "981ff8ce91e543e59eb7ca45b249264e",
       "version_major": 2,
       "version_minor": 0
      },
      "text/plain": [
       "VBox(children=(HBox(), EncodingWidget(children=(VBox(children=(HTML(value='Encoding:'), Dropdown(description='…"
      ]
     },
     "metadata": {},
     "output_type": "display_data"
    },
    {
     "data": {
      "application/vnd.jupyter.widget-view+json": {
       "model_id": "b79a28d9984e437a88960465bb358827",
       "version_major": 2,
       "version_minor": 0
      },
      "text/plain": [
       "Output()"
      ]
     },
     "metadata": {},
     "output_type": "display_data"
    }
   ],
   "source": [
    "%%sql\n",
    "insert into \n",
    "    ${TABLE_NAME}\n",
    "select \n",
    "    review_id, \n",
    "    star_rating, \n",
    "    review_body, \n",
    "    review_date, \n",
    "    year,\n",
    "    unix_timestamp(current_timestamp()) as timestamp,\n",
    "    mod(crc32(review_id), 2) as parity\n",
    "from\n",
    "    reviews\n",
    "where\n",
    "    year in (2004, 2005);"
   ]
  },
  {
   "cell_type": "code",
   "execution_count": 59,
   "id": "245bc526-52c4-44d4-b70b-b55dce3c9c60",
   "metadata": {
    "execution": {
     "iopub.execute_input": "2023-03-16T04:05:47.307690Z",
     "iopub.status.busy": "2023-03-16T04:05:47.307351Z",
     "iopub.status.idle": "2023-03-16T04:06:04.767099Z",
     "shell.execute_reply": "2023-03-16T04:06:04.766171Z",
     "shell.execute_reply.started": "2023-03-16T04:05:47.307655Z"
    },
    "tags": []
   },
   "outputs": [
    {
     "name": "stdout",
     "output_type": "stream",
     "text": [
      "\n",
      "[ TIMELINE ]\n",
      "\n",
      "╔═════╤═══════════════════╤════════╤═══════════╤═════════════╤═════════════╤═════════════╗\n",
      "║ No. │ Instant           │ Action │ State     │ Requested   │ Inflight    │ Completed   ║\n",
      "║     │                   │        │           │ Time        │ Time        │ Time        ║\n",
      "╠═════╪═══════════════════╪════════╪═══════════╪═════════════╪═════════════╪═════════════╣\n",
      "║ 0   │ 20230316040318675 │ commit │ COMPLETED │ 03-16 04:03 │ 03-16 04:03 │ 03-16 04:04 ║\n",
      "╟─────┼───────────────────┼────────┼───────────┼─────────────┼─────────────┼─────────────╢\n",
      "║ 1   │ 20230316040434923 │ commit │ COMPLETED │ 03-16 04:04 │ 03-16 04:05 │ 03-16 04:05 ║\n",
      "╚═════╧═══════════════════╧════════╧═══════════╧═════════════╧═════════════╧═════════════╝\n",
      "\n",
      "[ COMMITS ]\n",
      "\n",
      "╔═══════════════════╤═════════════════════╤═══════════════════╤═════════════════════╤══════════════════════════╤═══════════════════════╤══════════════════════════════╤══════════════╗\n",
      "║ CommitTime        │ Total Bytes Written │ Total Files Added │ Total Files Updated │ Total Partitions Written │ Total Records Written │ Total Update Records Written │ Total Errors ║\n",
      "╠═══════════════════╪═════════════════════╪═══════════════════╪═════════════════════╪══════════════════════════╪═══════════════════════╪══════════════════════════════╪══════════════╣\n",
      "║ 20230316040434923 │ 426.7 MB            │ 4                 │ 0                   │ 2                        │ 2570430               │ 0                            │ 0            ║\n",
      "╟───────────────────┼─────────────────────┼───────────────────┼─────────────────────┼──────────────────────────┼───────────────────────┼──────────────────────────────┼──────────────╢\n",
      "║ 20230316040318675 │ 191.6 MB            │ 2                 │ 0                   │ 2                        │ 1155127               │ 0                            │ 0            ║\n",
      "╚═══════════════════╧═════════════════════╧═══════════════════╧═════════════════════╧══════════════════════════╧═══════════════════════╧══════════════════════════════╧══════════════╝\n",
      "\n",
      "[ STORAGE ]\n",
      "\n",
      "/home/emr-notebook/apache-hudi-core-conceptions/reviews_cow_clustering_1\n",
      "├── [309M 04:06:04]  parity=0\n",
      "│   ├── [120M 04:05:36]  22435e15-5b44-4d13-a7d1-e0ebbabcec7d-0_0-736-4253_20230316040434923.parquet\n",
      "│   ├── [ 96M 04:04:07]  5da21b55-01b8-4428-8a21-9e3f5e6c0740-0_0-689-3983_20230316040318675.parquet\n",
      "│   └── [ 93M 04:05:31]  724f9768-5c8d-4eae-8aa5-5a29760493ee-0_1-736-4254_20230316040434923.parquet\n",
      "└── [309M 04:06:04]  parity=1\n",
      "    ├── [ 94M 04:05:34]  82a3ccba-8aa3-4aab-86d2-7ba5eea136be-0_3-736-4256_20230316040434923.parquet\n",
      "    ├── [120M 04:05:36]  abcb757a-7f7c-45d7-af61-ff6b808e1129-0_2-736-4255_20230316040434923.parquet\n",
      "    └── [ 96M 04:04:06]  e98faca4-8431-4a1c-ad00-f2d30e8f93a9-0_1-689-3984_20230316040318675.parquet\n"
     ]
    }
   ],
   "source": [
    "%%sh\n",
    "${WORKSPACE}/hudi-stat.sh s3://${S3_BUCKET}/${TABLE_NAME} timeline commits storage"
   ]
  },
  {
   "cell_type": "markdown",
   "id": "b8d20628-f332-48d8-8590-02f0bb9b24c1",
   "metadata": {
    "tags": []
   },
   "source": [
    "### 5.7. Insert 182MB / + 1 Max File + 1 Small File"
   ]
  },
  {
   "cell_type": "code",
   "execution_count": 60,
   "id": "bb1f461a-5ff4-44d2-a4f9-6f0fb2ff3a29",
   "metadata": {
    "execution": {
     "iopub.execute_input": "2023-03-16T04:06:04.768653Z",
     "iopub.status.busy": "2023-03-16T04:06:04.768409Z",
     "iopub.status.idle": "2023-03-16T04:09:34.727671Z",
     "shell.execute_reply": "2023-03-16T04:09:34.726804Z",
     "shell.execute_reply.started": "2023-03-16T04:06:04.768628Z"
    },
    "tags": []
   },
   "outputs": [
    {
     "data": {
      "application/vnd.jupyter.widget-view+json": {
       "model_id": "",
       "version_major": 2,
       "version_minor": 0
      },
      "text/plain": [
       "FloatProgress(value=0.0, bar_style='info', description='Progress:', layout=Layout(height='25px', width='50%'),…"
      ]
     },
     "metadata": {},
     "output_type": "display_data"
    },
    {
     "data": {
      "text/html": [
       "<style>.jp-OutputArea-child .jupyter-widgets.jp-OutputArea-output { overflow: auto; }</style>"
      ],
      "text/plain": [
       "<IPython.core.display.HTML object>"
      ]
     },
     "metadata": {},
     "output_type": "display_data"
    },
    {
     "data": {
      "application/vnd.jupyter.widget-view+json": {
       "model_id": "deba327e12e8474aba4803b41fe5221e",
       "version_major": 2,
       "version_minor": 0
      },
      "text/plain": [
       "VBox(children=(HBox(), EncodingWidget(children=(VBox(children=(HTML(value='Encoding:'), Dropdown(description='…"
      ]
     },
     "metadata": {},
     "output_type": "display_data"
    },
    {
     "data": {
      "application/vnd.jupyter.widget-view+json": {
       "model_id": "2ce028e81d194ecca6ab25d260ac3057",
       "version_major": 2,
       "version_minor": 0
      },
      "text/plain": [
       "Output()"
      ]
     },
     "metadata": {},
     "output_type": "display_data"
    }
   ],
   "source": [
    "%%sql\n",
    "insert into \n",
    "    ${TABLE_NAME}\n",
    "select \n",
    "    review_id, \n",
    "    star_rating, \n",
    "    review_body, \n",
    "    review_date, \n",
    "    year,\n",
    "    unix_timestamp(current_timestamp()) as timestamp,\n",
    "    mod(crc32(review_id), 2) as parity\n",
    "from\n",
    "    reviews\n",
    "where\n",
    "    year = 2007;"
   ]
  },
  {
   "cell_type": "code",
   "execution_count": 61,
   "id": "4f1adcf2-235a-483c-97c9-a90015921c18",
   "metadata": {
    "execution": {
     "iopub.execute_input": "2023-03-16T04:09:34.728856Z",
     "iopub.status.busy": "2023-03-16T04:09:34.728637Z",
     "iopub.status.idle": "2023-03-16T04:09:57.938908Z",
     "shell.execute_reply": "2023-03-16T04:09:57.937936Z",
     "shell.execute_reply.started": "2023-03-16T04:09:34.728836Z"
    },
    "tags": []
   },
   "outputs": [
    {
     "name": "stdout",
     "output_type": "stream",
     "text": [
      "\n",
      "[ TIMELINE ]\n",
      "\n",
      "╔═════╤═══════════════════╤═══════════════╤═══════════╤═════════════╤═════════════╤═════════════╗\n",
      "║ No. │ Instant           │ Action        │ State     │ Requested   │ Inflight    │ Completed   ║\n",
      "║     │                   │               │           │ Time        │ Time        │ Time        ║\n",
      "╠═════╪═══════════════════╪═══════════════╪═══════════╪═════════════╪═════════════╪═════════════╣\n",
      "║ 0   │ 20230316040318675 │ commit        │ COMPLETED │ 03-16 04:03 │ 03-16 04:03 │ 03-16 04:04 ║\n",
      "╟─────┼───────────────────┼───────────────┼───────────┼─────────────┼─────────────┼─────────────╢\n",
      "║ 1   │ 20230316040434923 │ commit        │ COMPLETED │ 03-16 04:04 │ 03-16 04:05 │ 03-16 04:05 ║\n",
      "╟─────┼───────────────────┼───────────────┼───────────┼─────────────┼─────────────┼─────────────╢\n",
      "║ 2   │ 20230316040606130 │ commit        │ COMPLETED │ 03-16 04:06 │ 03-16 04:06 │ 03-16 04:07 ║\n",
      "╟─────┼───────────────────┼───────────────┼───────────┼─────────────┼─────────────┼─────────────╢\n",
      "║ 3   │ 20230316040704649 │ replacecommit │ COMPLETED │ 03-16 04:07 │ 03-16 04:07 │ 03-16 04:09 ║\n",
      "╚═════╧═══════════════════╧═══════════════╧═══════════╧═════════════╧═════════════╧═════════════╝\n",
      "\n",
      "[ COMMITS ]\n",
      "\n",
      "╔═══════════════════╤═════════════════════╤═══════════════════╤═════════════════════╤══════════════════════════╤═══════════════════════╤══════════════════════════════╤══════════════╗\n",
      "║ CommitTime        │ Total Bytes Written │ Total Files Added │ Total Files Updated │ Total Partitions Written │ Total Records Written │ Total Update Records Written │ Total Errors ║\n",
      "╠═══════════════════╪═════════════════════╪═══════════════════╪═════════════════════╪══════════════════════════╪═══════════════════════╪══════════════════════════════╪══════════════╣\n",
      "║ 20230316040704649 │ 978.4 MB            │ 4                 │ 0                   │ 2                        │ 5920271               │ 0                            │ 0            ║\n",
      "╟───────────────────┼─────────────────────┼───────────────────┼─────────────────────┼──────────────────────────┼───────────────────────┼──────────────────────────────┼──────────────╢\n",
      "║ 20230316040606130 │ 364.3 MB            │ 4                 │ 0                   │ 2                        │ 2194714               │ 0                            │ 0            ║\n",
      "╟───────────────────┼─────────────────────┼───────────────────┼─────────────────────┼──────────────────────────┼───────────────────────┼──────────────────────────────┼──────────────╢\n",
      "║ 20230316040434923 │ 426.7 MB            │ 4                 │ 0                   │ 2                        │ 2570430               │ 0                            │ 0            ║\n",
      "╟───────────────────┼─────────────────────┼───────────────────┼─────────────────────┼──────────────────────────┼───────────────────────┼──────────────────────────────┼──────────────╢\n",
      "║ 20230316040318675 │ 191.6 MB            │ 2                 │ 0                   │ 2                        │ 1155127               │ 0                            │ 0            ║\n",
      "╚═══════════════════╧═════════════════════╧═══════════════════╧═════════════════════╧══════════════════════════╧═══════════════════════╧══════════════════════════════╧══════════════╝\n",
      "\n",
      "[ STORAGE ]\n",
      "\n",
      "/home/emr-notebook/apache-hudi-core-conceptions/reviews_cow_clustering_1\n",
      "├── [980M 04:09:57]  parity=0\n",
      "│   ├── [120M 04:05:36]  22435e15-5b44-4d13-a7d1-e0ebbabcec7d-0_0-736-4253_20230316040434923.parquet\n",
      "│   ├── [ 63M 04:06:50]  4a3a3c45-35e0-48e0-afab-04779a62f427-0_1-786-4533_20230316040606130.parquet\n",
      "│   ├── [119M 04:06:57]  5821b957-ab7b-4ac7-9a8e-f9b80c69cc4f-0_0-786-4532_20230316040606130.parquet\n",
      "│   ├── [255M 04:08:16]  5b441ee5-062c-40ca-ba2f-98c76a3a143c-0_1-813-4580_20230316040704649.parquet\n",
      "│   ├── [ 96M 04:04:07]  5da21b55-01b8-4428-8a21-9e3f5e6c0740-0_0-689-3983_20230316040318675.parquet\n",
      "│   ├── [ 93M 04:05:31]  724f9768-5c8d-4eae-8aa5-5a29760493ee-0_1-736-4254_20230316040434923.parquet\n",
      "│   └── [234M 04:08:15]  93de5fb3-4054-4bc8-ba62-8fec00feb851-0_0-813-4579_20230316040704649.parquet\n",
      "└── [981M 04:09:57]  parity=1\n",
      "    ├── [247M 04:08:16]  5552a26b-5fbc-4d83-b0b5-eb2a2ff72370-0_3-813-4582_20230316040704649.parquet\n",
      "    ├── [ 63M 04:06:47]  5dc648fe-a192-4be1-b5e4-a71912b6c0a6-0_3-786-4535_20230316040606130.parquet\n",
      "    ├── [119M 04:06:56]  74e03fcc-465b-49c6-abbd-fe33271c3169-0_2-786-4534_20230316040606130.parquet\n",
      "    ├── [ 94M 04:05:34]  82a3ccba-8aa3-4aab-86d2-7ba5eea136be-0_3-736-4256_20230316040434923.parquet\n",
      "    ├── [120M 04:05:36]  abcb757a-7f7c-45d7-af61-ff6b808e1129-0_2-736-4255_20230316040434923.parquet\n",
      "    ├── [ 96M 04:04:06]  e98faca4-8431-4a1c-ad00-f2d30e8f93a9-0_1-689-3984_20230316040318675.parquet\n",
      "    └── [242M 04:08:20]  f4919c37-f720-4029-8e66-63e9e36b1828-0_2-813-4581_20230316040704649.parquet\n"
     ]
    }
   ],
   "source": [
    "%%sh\n",
    "${WORKSPACE}/hudi-stat.sh s3://${S3_BUCKET}/${TABLE_NAME} timeline commits storage"
   ]
  },
  {
   "cell_type": "markdown",
   "id": "a6495b74-f28d-4a5c-806e-81a85ab1ec8f",
   "metadata": {
    "tags": []
   },
   "source": [
    "### 5.7. Offline Eexecute 354MB ( ∑ 1 Clustered FileGroup )"
   ]
  },
  {
   "cell_type": "code",
   "execution_count": null,
   "id": "e4092073-0258-42ac-8e62-51f1e4412bee",
   "metadata": {
    "tags": []
   },
   "outputs": [],
   "source": [
    "%%sh\n",
    "# it's required for current user (emr-notebook) to get sudo permission\n",
    "sudo -u hadoop spark-submit \\\n",
    "  --jars '/usr/lib/hudi/hudi-spark-bundle.jar' \\\n",
    "  --class 'org.apache.hudi.utilities.HoodieClusteringJob' \\\n",
    "  /usr/lib/hudi/hudi-utilities-bundle.jar \\\n",
    "  --spark-memory '4g' \\\n",
    "  --mode 'execute' \\\n",
    "  --base-path \"s3://${S3_BUCKET}/${TABLE_NAME}\" \\\n",
    "  --table-name \"${TABLE_NAME}\" > ${WORKSPACE}/${TABLE_NAME}.execute.out &>/dev/null"
   ]
  },
  {
   "cell_type": "code",
   "execution_count": null,
   "id": "b39c694d-1d14-4139-ae3c-3afd0ad82f98",
   "metadata": {
    "tags": []
   },
   "outputs": [],
   "source": [
    "%%sh\n",
    "${WORKSPACE}/hudi-stat.sh s3://${S3_BUCKET}/${TABLE_NAME} timeline commits storage"
   ]
  }
 ],
 "metadata": {
  "kernelspec": {
   "display_name": "Spark",
   "language": "scala",
   "name": "sparkkernel"
  },
  "language_info": {
   "codemirror_mode": "text/x-scala",
   "file_extension": ".sc",
   "mimetype": "text/x-scala",
   "name": "scala",
   "pygments_lexer": "scala"
  }
 },
 "nbformat": 4,
 "nbformat_minor": 5
}
