{
 "cells": [
  {
   "cell_type": "markdown",
   "id": "1d574cc5-0034-439e-b4c9-45f0afea203d",
   "metadata": {
    "tags": []
   },
   "source": [
    "# Apache Hudi Core Conceptions (5) - MOR + Compaction"
   ]
  },
  {
   "cell_type": "markdown",
   "id": "a8f99894-93f3-4cef-a853-d2d73a3515b6",
   "metadata": {},
   "source": [
    "## 1. Configuration"
   ]
  },
  {
   "cell_type": "code",
   "execution_count": 1,
   "id": "72812554-9bcb-4166-a5bf-6bf756594716",
   "metadata": {
    "execution": {
     "iopub.execute_input": "2023-03-04T09:19:57.664931Z",
     "iopub.status.busy": "2023-03-04T09:19:57.664612Z",
     "iopub.status.idle": "2023-03-04T09:19:57.773145Z",
     "shell.execute_reply": "2023-03-04T09:19:57.769653Z",
     "shell.execute_reply.started": "2023-03-04T09:19:57.664899Z"
    },
    "tags": []
   },
   "outputs": [
    {
     "data": {
      "text/html": [
       "Current session configs: <tt>{'conf': {'spark.jars': 'hdfs:///tmp/hudi-spark-bundle.jar', 'spark.serializer': 'org.apache.spark.serializer.KryoSerializer', 'spark.sql.extensions': 'org.apache.spark.sql.hudi.HoodieSparkSessionExtension', 'spark.sql.catalog.spark_catalog': 'org.apache.spark.sql.hudi.catalog.HoodieCatalog'}, 'proxyUser': 'user_bluishglc', 'kind': 'spark'}</tt><br>"
      ],
      "text/plain": [
       "<IPython.core.display.HTML object>"
      ]
     },
     "metadata": {},
     "output_type": "display_data"
    },
    {
     "data": {
      "text/html": [
       "<table>\n",
       "<tr><th>ID</th><th>YARN Application ID</th><th>Kind</th><th>State</th><th>Spark UI</th><th>Driver log</th><th>User</th><th>Current session?</th></tr><tr><td>103</td><td>application_1677377031637_0142</td><td>spark</td><td>idle</td><td><a target=\"_blank\" href=\"http://ip-10-0-143-215.ec2.internal:20888/proxy/application_1677377031637_0142/\" class=\"emr-proxy-link\" emr-resource=\"j-2CS22PN3RJ0XE\n",
       "\" application-id=\"application_1677377031637_0142\">Link</a></td><td><a target=\"_blank\" href=\"http://ip-10-0-134-70.ec2.internal:8042/node/containerlogs/container_1677377031637_0142_01_000001/livy\" >Link</a></td><td>None</td><td></td></tr><tr><td>104</td><td>application_1677377031637_0143</td><td>spark</td><td>idle</td><td><a target=\"_blank\" href=\"http://ip-10-0-143-215.ec2.internal:20888/proxy/application_1677377031637_0143/\" class=\"emr-proxy-link\" emr-resource=\"j-2CS22PN3RJ0XE\n",
       "\" application-id=\"application_1677377031637_0143\">Link</a></td><td><a target=\"_blank\" href=\"http://ip-10-0-134-70.ec2.internal:8042/node/containerlogs/container_1677377031637_0143_01_000001/livy\" >Link</a></td><td>None</td><td></td></tr><tr><td>105</td><td>application_1677377031637_0144</td><td>spark</td><td>idle</td><td><a target=\"_blank\" href=\"http://ip-10-0-143-215.ec2.internal:20888/proxy/application_1677377031637_0144/\" class=\"emr-proxy-link\" emr-resource=\"j-2CS22PN3RJ0XE\n",
       "\" application-id=\"application_1677377031637_0144\">Link</a></td><td><a target=\"_blank\" href=\"http://ip-10-0-134-70.ec2.internal:8042/node/containerlogs/container_1677377031637_0144_01_000001/livy\" >Link</a></td><td>None</td><td></td></tr><tr><td>106</td><td>application_1677377031637_0145</td><td>spark</td><td>idle</td><td><a target=\"_blank\" href=\"http://ip-10-0-143-215.ec2.internal:20888/proxy/application_1677377031637_0145/\" class=\"emr-proxy-link\" emr-resource=\"j-2CS22PN3RJ0XE\n",
       "\" application-id=\"application_1677377031637_0145\">Link</a></td><td><a target=\"_blank\" href=\"http://ip-10-0-134-70.ec2.internal:8042/node/containerlogs/container_1677377031637_0145_01_000001/livy\" >Link</a></td><td>None</td><td></td></tr><tr><td>107</td><td>application_1677377031637_0146</td><td>spark</td><td>idle</td><td><a target=\"_blank\" href=\"http://ip-10-0-143-215.ec2.internal:20888/proxy/application_1677377031637_0146/\" class=\"emr-proxy-link\" emr-resource=\"j-2CS22PN3RJ0XE\n",
       "\" application-id=\"application_1677377031637_0146\">Link</a></td><td><a target=\"_blank\" href=\"http://ip-10-0-134-70.ec2.internal:8042/node/containerlogs/container_1677377031637_0146_01_000001/livy\" >Link</a></td><td>None</td><td></td></tr></table>"
      ],
      "text/plain": [
       "<IPython.core.display.HTML object>"
      ]
     },
     "metadata": {},
     "output_type": "display_data"
    }
   ],
   "source": [
    "%%configure -f\n",
    "{\n",
    "    \"conf\" : {\n",
    "        \"spark.jars\":\"hdfs:///tmp/hudi-spark-bundle.jar\",            \n",
    "        \"spark.serializer\":\"org.apache.spark.serializer.KryoSerializer\",\n",
    "        \"spark.sql.extensions\":\"org.apache.spark.sql.hudi.HoodieSparkSessionExtension\",\n",
    "        \"spark.sql.catalog.spark_catalog\":\"org.apache.spark.sql.hudi.catalog.HoodieCatalog\"\n",
    "    }\n",
    "}"
   ]
  },
  {
   "cell_type": "code",
   "execution_count": 2,
   "id": "6733c603-a38d-4c2b-9e03-bbbc9fe125f0",
   "metadata": {
    "execution": {
     "iopub.execute_input": "2023-03-04T09:19:57.776621Z",
     "iopub.status.busy": "2023-03-04T09:19:57.776274Z",
     "iopub.status.idle": "2023-03-04T09:20:05.386657Z",
     "shell.execute_reply": "2023-03-04T09:20:05.385549Z",
     "shell.execute_reply.started": "2023-03-04T09:19:57.776583Z"
    },
    "tags": []
   },
   "outputs": [
    {
     "name": "stdout",
     "output_type": "stream",
     "text": [
      "-rw-r--r--   1 emr-notebook hdfsadmingroup   61421977 2023-03-04 09:20 /tmp/hudi-spark-bundle.jar\n",
      "/home/emr-notebook/hudi-stat.sh\n"
     ]
    }
   ],
   "source": [
    "%%sh\n",
    "# deploy hudi bundle jar\n",
    "hdfs dfs -copyFromLocal -f /usr/lib/hudi/hudi-spark-bundle.jar /tmp/hudi-spark-bundle.jar\n",
    "hdfs dfs -ls /tmp/hudi-spark-bundle.jar\n",
    "# deploy hudi-stat.sh - a utility shell script \n",
    "wget https://github.com/bluishglc/hudi-core-conceptions/releases/download/v1.0/hudi-stat.sh -O ~/hudi-stat.sh &>/dev/null\n",
    "chmod a+x ~/hudi-stat.sh\n",
    "ls ~/hudi-stat.sh"
   ]
  },
  {
   "cell_type": "code",
   "execution_count": 3,
   "id": "633e3ffe-d90d-44ab-98d6-ab1069af5192",
   "metadata": {
    "execution": {
     "iopub.execute_input": "2023-03-04T09:20:05.389351Z",
     "iopub.status.busy": "2023-03-04T09:20:05.389008Z",
     "iopub.status.idle": "2023-03-04T09:20:05.397704Z",
     "shell.execute_reply": "2023-03-04T09:20:05.396563Z",
     "shell.execute_reply.started": "2023-03-04T09:20:05.389318Z"
    },
    "tags": []
   },
   "outputs": [
    {
     "data": {
      "text/html": [
       "<style>\n",
       "table {float:left}\n",
       "</style>\n"
      ],
      "text/plain": [
       "<IPython.core.display.HTML object>"
      ]
     },
     "metadata": {},
     "output_type": "display_data"
    }
   ],
   "source": [
    "%%html\n",
    "<style>\n",
    "table {float:left}\n",
    "</style>"
   ]
  },
  {
   "cell_type": "markdown",
   "id": "bc82b4ae-9599-456d-8935-09a752cfc084",
   "metadata": {
    "tags": []
   },
   "source": [
    "## 2. Sync Compaction: Inline Schedule + Inline Execute"
   ]
  },
  {
   "cell_type": "markdown",
   "id": "f91bc196-3c0e-4576-bdf6-42aa983278dc",
   "metadata": {
    "tags": []
   },
   "source": [
    "### 2.1. Create Table"
   ]
  },
  {
   "cell_type": "code",
   "execution_count": 4,
   "id": "ae9c10d7-cd59-44da-bb25-a6ad915c1f4d",
   "metadata": {
    "execution": {
     "iopub.execute_input": "2023-03-04T09:20:05.399357Z",
     "iopub.status.busy": "2023-03-04T09:20:05.399120Z",
     "iopub.status.idle": "2023-03-04T09:20:37.228236Z",
     "shell.execute_reply": "2023-03-04T09:20:37.227300Z",
     "shell.execute_reply.started": "2023-03-04T09:20:05.399335Z"
    },
    "tags": []
   },
   "outputs": [
    {
     "name": "stdout",
     "output_type": "stream",
     "text": [
      "Starting Spark application\n"
     ]
    },
    {
     "data": {
      "text/html": [
       "<table>\n",
       "<tr><th>ID</th><th>YARN Application ID</th><th>Kind</th><th>State</th><th>Spark UI</th><th>Driver log</th><th>User</th><th>Current session?</th></tr><tr><td>108</td><td>application_1677377031637_0150</td><td>spark</td><td>idle</td><td><a target=\"_blank\" href=\"http://ip-10-0-143-215.ec2.internal:20888/proxy/application_1677377031637_0150/\" class=\"emr-proxy-link\" emr-resource=\"j-2CS22PN3RJ0XE\n",
       "\" application-id=\"application_1677377031637_0150\">Link</a></td><td><a target=\"_blank\" href=\"http://ip-10-0-134-70.ec2.internal:8042/node/containerlogs/container_1677377031637_0150_01_000001/livy\" >Link</a></td><td>None</td><td>✔</td></tr></table>"
      ],
      "text/plain": [
       "<IPython.core.display.HTML object>"
      ]
     },
     "metadata": {},
     "output_type": "display_data"
    },
    {
     "data": {
      "application/vnd.jupyter.widget-view+json": {
       "model_id": "",
       "version_major": 2,
       "version_minor": 0
      },
      "text/plain": [
       "FloatProgress(value=0.0, bar_style='info', description='Progress:', layout=Layout(height='25px', width='50%'),…"
      ]
     },
     "metadata": {},
     "output_type": "display_data"
    },
    {
     "name": "stdout",
     "output_type": "stream",
     "text": [
      "SparkSession available as 'spark'.\n"
     ]
    },
    {
     "data": {
      "application/vnd.jupyter.widget-view+json": {
       "model_id": "",
       "version_major": 2,
       "version_minor": 0
      },
      "text/plain": [
       "FloatProgress(value=0.0, bar_style='info', description='Progress:', layout=Layout(height='25px', width='50%'),…"
      ]
     },
     "metadata": {},
     "output_type": "display_data"
    },
    {
     "data": {
      "text/html": [
       "<style>.jp-OutputArea-child .jupyter-widgets.jp-OutputArea-output { overflow: auto; }</style>"
      ],
      "text/plain": [
       "<IPython.core.display.HTML object>"
      ]
     },
     "metadata": {},
     "output_type": "display_data"
    },
    {
     "data": {
      "application/vnd.jupyter.widget-view+json": {
       "model_id": "d75d766dd5a44a51948865b37376d167",
       "version_major": 2,
       "version_minor": 0
      },
      "text/plain": [
       "VBox(children=(HBox(children=(HTML(value='Type:'), Button(description='Table', layout=Layout(width='70px'), st…"
      ]
     },
     "metadata": {},
     "output_type": "display_data"
    },
    {
     "data": {
      "application/vnd.jupyter.widget-view+json": {
       "model_id": "455095917c974d3db65021f12e99f487",
       "version_major": 2,
       "version_minor": 0
      },
      "text/plain": [
       "Output()"
      ]
     },
     "metadata": {},
     "output_type": "display_data"
    }
   ],
   "source": [
    "%%sql\n",
    "set TABLE_NAME=reviews_mor_simple_1"
   ]
  },
  {
   "cell_type": "code",
   "execution_count": 5,
   "id": "f9e697e5-3841-4a83-8dab-f58998ca859d",
   "metadata": {
    "execution": {
     "iopub.execute_input": "2023-03-04T09:20:37.230383Z",
     "iopub.status.busy": "2023-03-04T09:20:37.229671Z",
     "iopub.status.idle": "2023-03-04T09:20:38.246736Z",
     "shell.execute_reply": "2023-03-04T09:20:38.245123Z",
     "shell.execute_reply.started": "2023-03-04T09:20:37.230346Z"
    },
    "tags": []
   },
   "outputs": [
    {
     "data": {
      "application/vnd.jupyter.widget-view+json": {
       "model_id": "",
       "version_major": 2,
       "version_minor": 0
      },
      "text/plain": [
       "FloatProgress(value=0.0, bar_style='info', description='Progress:', layout=Layout(height='25px', width='50%'),…"
      ]
     },
     "metadata": {},
     "output_type": "display_data"
    },
    {
     "data": {
      "text/html": [
       "<style>.jp-OutputArea-child .jupyter-widgets.jp-OutputArea-output { overflow: auto; }</style>"
      ],
      "text/plain": [
       "<IPython.core.display.HTML object>"
      ]
     },
     "metadata": {},
     "output_type": "display_data"
    },
    {
     "data": {
      "application/vnd.jupyter.widget-view+json": {
       "model_id": "87aa937babf14627bae78d0a3501c01a",
       "version_major": 2,
       "version_minor": 0
      },
      "text/plain": [
       "VBox(children=(HBox(children=(HTML(value='Type:'), Button(description='Table', layout=Layout(width='70px'), st…"
      ]
     },
     "metadata": {},
     "output_type": "display_data"
    },
    {
     "data": {
      "application/vnd.jupyter.widget-view+json": {
       "model_id": "560c9ccc76574f0c96a2d973f12d9240",
       "version_major": 2,
       "version_minor": 0
      },
      "text/plain": [
       "Output()"
      ]
     },
     "metadata": {},
     "output_type": "display_data"
    }
   ],
   "source": [
    "%%sql\n",
    "set TABLE_PATH=s3://glc-examples/hudi-core-conceptions/reviews_mor_simple_1"
   ]
  },
  {
   "cell_type": "code",
   "execution_count": 6,
   "id": "47e4e724-ee74-4ba4-9ff0-6145b124e2a8",
   "metadata": {
    "execution": {
     "iopub.execute_input": "2023-03-04T09:20:38.248435Z",
     "iopub.status.busy": "2023-03-04T09:20:38.248091Z",
     "iopub.status.idle": "2023-03-04T09:20:38.254417Z",
     "shell.execute_reply": "2023-03-04T09:20:38.253174Z",
     "shell.execute_reply.started": "2023-03-04T09:20:38.248402Z"
    },
    "tags": []
   },
   "outputs": [
    {
     "name": "stdout",
     "output_type": "stream",
     "text": [
      "env: TABLE_NAME=reviews_mor_simple_1\n"
     ]
    }
   ],
   "source": [
    "%env TABLE_NAME=reviews_mor_simple_1"
   ]
  },
  {
   "cell_type": "code",
   "execution_count": 7,
   "id": "e40d793f-417d-41b3-8121-0132614892ed",
   "metadata": {
    "execution": {
     "iopub.execute_input": "2023-03-04T09:20:38.256232Z",
     "iopub.status.busy": "2023-03-04T09:20:38.255907Z",
     "iopub.status.idle": "2023-03-04T09:20:38.261495Z",
     "shell.execute_reply": "2023-03-04T09:20:38.260539Z",
     "shell.execute_reply.started": "2023-03-04T09:20:38.256200Z"
    },
    "tags": []
   },
   "outputs": [
    {
     "name": "stdout",
     "output_type": "stream",
     "text": [
      "env: TABLE_PATH=s3://glc-examples/hudi-core-conceptions/reviews_mor_simple_1\n"
     ]
    }
   ],
   "source": [
    "%env TABLE_PATH=s3://glc-examples/hudi-core-conceptions/reviews_mor_simple_1"
   ]
  },
  {
   "cell_type": "code",
   "execution_count": 8,
   "id": "ac378d22-f430-4130-adf7-43955c5a9994",
   "metadata": {
    "execution": {
     "iopub.execute_input": "2023-03-04T09:20:38.266924Z",
     "iopub.status.busy": "2023-03-04T09:20:38.266471Z",
     "iopub.status.idle": "2023-03-04T09:20:42.535100Z",
     "shell.execute_reply": "2023-03-04T09:20:42.534186Z",
     "shell.execute_reply.started": "2023-03-04T09:20:38.266887Z"
    },
    "tags": []
   },
   "outputs": [
    {
     "name": "stdout",
     "output_type": "stream",
     "text": [
      "reviews_mor_simple_1\n"
     ]
    }
   ],
   "source": [
    "%%sh\n",
    "echo $(basename $TABLE_PATH)\n",
    "aws s3 rm $TABLE_PATH --recursive &>/dev/null\n",
    "rm -rf ~/${TABLE_NAME}\n",
    "sleep 3"
   ]
  },
  {
   "cell_type": "code",
   "execution_count": 9,
   "id": "a90d05cd-a733-4919-aa15-e2c970de300f",
   "metadata": {
    "execution": {
     "iopub.execute_input": "2023-03-04T09:20:42.537322Z",
     "iopub.status.busy": "2023-03-04T09:20:42.537051Z",
     "iopub.status.idle": "2023-03-04T09:20:45.923868Z",
     "shell.execute_reply": "2023-03-04T09:20:45.923020Z",
     "shell.execute_reply.started": "2023-03-04T09:20:42.537296Z"
    },
    "tags": []
   },
   "outputs": [
    {
     "data": {
      "application/vnd.jupyter.widget-view+json": {
       "model_id": "",
       "version_major": 2,
       "version_minor": 0
      },
      "text/plain": [
       "FloatProgress(value=0.0, bar_style='info', description='Progress:', layout=Layout(height='25px', width='50%'),…"
      ]
     },
     "metadata": {},
     "output_type": "display_data"
    },
    {
     "data": {
      "text/html": [
       "<style>.jp-OutputArea-child .jupyter-widgets.jp-OutputArea-output { overflow: auto; }</style>"
      ],
      "text/plain": [
       "<IPython.core.display.HTML object>"
      ]
     },
     "metadata": {},
     "output_type": "display_data"
    },
    {
     "data": {
      "application/vnd.jupyter.widget-view+json": {
       "model_id": "8cb07f3da386420bb07b6419cda6737f",
       "version_major": 2,
       "version_minor": 0
      },
      "text/plain": [
       "VBox(children=(HBox(), EncodingWidget(children=(VBox(children=(HTML(value='Encoding:'), Dropdown(description='…"
      ]
     },
     "metadata": {},
     "output_type": "display_data"
    },
    {
     "data": {
      "application/vnd.jupyter.widget-view+json": {
       "model_id": "921f33f379324df89d1b7d510d8f4483",
       "version_major": 2,
       "version_minor": 0
      },
      "text/plain": [
       "Output()"
      ]
     },
     "metadata": {},
     "output_type": "display_data"
    }
   ],
   "source": [
    "%%sql\n",
    "drop table if exists ${TABLE_NAME}"
   ]
  },
  {
   "cell_type": "code",
   "execution_count": 10,
   "id": "bbfb084d-6f9b-440b-a50d-c2186dd9838f",
   "metadata": {
    "execution": {
     "iopub.execute_input": "2023-03-04T09:20:45.925645Z",
     "iopub.status.busy": "2023-03-04T09:20:45.925079Z",
     "iopub.status.idle": "2023-03-04T09:20:46.796336Z",
     "shell.execute_reply": "2023-03-04T09:20:46.795400Z",
     "shell.execute_reply.started": "2023-03-04T09:20:45.925607Z"
    },
    "tags": []
   },
   "outputs": [
    {
     "data": {
      "application/vnd.jupyter.widget-view+json": {
       "model_id": "",
       "version_major": 2,
       "version_minor": 0
      },
      "text/plain": [
       "FloatProgress(value=0.0, bar_style='info', description='Progress:', layout=Layout(height='25px', width='50%'),…"
      ]
     },
     "metadata": {},
     "output_type": "display_data"
    },
    {
     "data": {
      "text/html": [
       "<style>.jp-OutputArea-child .jupyter-widgets.jp-OutputArea-output { overflow: auto; }</style>"
      ],
      "text/plain": [
       "<IPython.core.display.HTML object>"
      ]
     },
     "metadata": {},
     "output_type": "display_data"
    },
    {
     "data": {
      "application/vnd.jupyter.widget-view+json": {
       "model_id": "58530b4393684f6ab0516c78040ad159",
       "version_major": 2,
       "version_minor": 0
      },
      "text/plain": [
       "VBox(children=(HBox(), EncodingWidget(children=(VBox(children=(HTML(value='Encoding:'), Dropdown(description='…"
      ]
     },
     "metadata": {},
     "output_type": "display_data"
    },
    {
     "data": {
      "application/vnd.jupyter.widget-view+json": {
       "model_id": "63c883da468f40eb9862264d77e131b9",
       "version_major": 2,
       "version_minor": 0
      },
      "text/plain": [
       "Output()"
      ]
     },
     "metadata": {},
     "output_type": "display_data"
    }
   ],
   "source": [
    "%%sql\n",
    "drop table if exists ${TABLE_NAME}_ro"
   ]
  },
  {
   "cell_type": "code",
   "execution_count": 11,
   "id": "871286b5-a304-4e8b-a341-1ed8f903c607",
   "metadata": {
    "execution": {
     "iopub.execute_input": "2023-03-04T09:20:46.798232Z",
     "iopub.status.busy": "2023-03-04T09:20:46.797636Z",
     "iopub.status.idle": "2023-03-04T09:20:47.674094Z",
     "shell.execute_reply": "2023-03-04T09:20:47.673026Z",
     "shell.execute_reply.started": "2023-03-04T09:20:46.798191Z"
    },
    "tags": []
   },
   "outputs": [
    {
     "data": {
      "application/vnd.jupyter.widget-view+json": {
       "model_id": "",
       "version_major": 2,
       "version_minor": 0
      },
      "text/plain": [
       "FloatProgress(value=0.0, bar_style='info', description='Progress:', layout=Layout(height='25px', width='50%'),…"
      ]
     },
     "metadata": {},
     "output_type": "display_data"
    },
    {
     "data": {
      "text/html": [
       "<style>.jp-OutputArea-child .jupyter-widgets.jp-OutputArea-output { overflow: auto; }</style>"
      ],
      "text/plain": [
       "<IPython.core.display.HTML object>"
      ]
     },
     "metadata": {},
     "output_type": "display_data"
    },
    {
     "data": {
      "application/vnd.jupyter.widget-view+json": {
       "model_id": "fc6b589531f5469dace1186dcc478b43",
       "version_major": 2,
       "version_minor": 0
      },
      "text/plain": [
       "VBox(children=(HBox(), EncodingWidget(children=(VBox(children=(HTML(value='Encoding:'), Dropdown(description='…"
      ]
     },
     "metadata": {},
     "output_type": "display_data"
    },
    {
     "data": {
      "application/vnd.jupyter.widget-view+json": {
       "model_id": "94cde291d85e4a26b01e6c0e90b51ef7",
       "version_major": 2,
       "version_minor": 0
      },
      "text/plain": [
       "Output()"
      ]
     },
     "metadata": {},
     "output_type": "display_data"
    }
   ],
   "source": [
    "%%sql\n",
    "drop table if exists ${TABLE_NAME}_rt"
   ]
  },
  {
   "cell_type": "code",
   "execution_count": 12,
   "id": "dc87312e-a379-417a-a556-918898068755",
   "metadata": {
    "execution": {
     "iopub.execute_input": "2023-03-04T09:20:47.675882Z",
     "iopub.status.busy": "2023-03-04T09:20:47.675544Z",
     "iopub.status.idle": "2023-03-04T09:20:51.074886Z",
     "shell.execute_reply": "2023-03-04T09:20:51.073980Z",
     "shell.execute_reply.started": "2023-03-04T09:20:47.675849Z"
    },
    "tags": []
   },
   "outputs": [
    {
     "data": {
      "application/vnd.jupyter.widget-view+json": {
       "model_id": "",
       "version_major": 2,
       "version_minor": 0
      },
      "text/plain": [
       "FloatProgress(value=0.0, bar_style='info', description='Progress:', layout=Layout(height='25px', width='50%'),…"
      ]
     },
     "metadata": {},
     "output_type": "display_data"
    },
    {
     "data": {
      "text/html": [
       "<style>.jp-OutputArea-child .jupyter-widgets.jp-OutputArea-output { overflow: auto; }</style>"
      ],
      "text/plain": [
       "<IPython.core.display.HTML object>"
      ]
     },
     "metadata": {},
     "output_type": "display_data"
    },
    {
     "data": {
      "application/vnd.jupyter.widget-view+json": {
       "model_id": "1f4cf506979748be9629a496c65d6dfa",
       "version_major": 2,
       "version_minor": 0
      },
      "text/plain": [
       "VBox(children=(HBox(), EncodingWidget(children=(VBox(children=(HTML(value='Encoding:'), Dropdown(description='…"
      ]
     },
     "metadata": {},
     "output_type": "display_data"
    },
    {
     "data": {
      "application/vnd.jupyter.widget-view+json": {
       "model_id": "0c40915055e44bf497fb72e277f89103",
       "version_major": 2,
       "version_minor": 0
      },
      "text/plain": [
       "Output()"
      ]
     },
     "metadata": {},
     "output_type": "display_data"
    }
   ],
   "source": [
    "%%sql\n",
    "create table if not exists ${TABLE_NAME} (\n",
    "    review_id string, \n",
    "    star_rating long, \n",
    "    review_body string, \n",
    "    review_date date, \n",
    "    year long,\n",
    "    timestamp long,\n",
    "    parity int\n",
    ")\n",
    "using hudi\n",
    "location '${TABLE_PATH}'\n",
    "partitioned by (parity)\n",
    "options ( \n",
    "    type = 'mor',  \n",
    "    primaryKey = 'review_id', \n",
    "    preCombineField = 'timestamp',\n",
    "    hoodie.copyonwrite.record.size.estimate = '175',\n",
    "    hoodie.compact.inline = 'true',\n",
    "    -- hoodie.compact.schedule.inline = 'false',\n",
    "    hoodie.compact.inline.max.delta.commits = '3'\n",
    ");"
   ]
  },
  {
   "cell_type": "markdown",
   "id": "bdf101e6-61f5-46ec-95cd-2eecaeb948c8",
   "metadata": {
    "tags": []
   },
   "source": [
    "### 2.2. Batch 1 - Insert"
   ]
  },
  {
   "cell_type": "code",
   "execution_count": 13,
   "id": "d3aab4ae-4f88-4539-841f-38f254fc2d83",
   "metadata": {
    "execution": {
     "iopub.execute_input": "2023-03-04T09:20:51.076185Z",
     "iopub.status.busy": "2023-03-04T09:20:51.075905Z",
     "iopub.status.idle": "2023-03-04T09:21:34.635132Z",
     "shell.execute_reply": "2023-03-04T09:21:34.634252Z",
     "shell.execute_reply.started": "2023-03-04T09:20:51.076161Z"
    },
    "tags": []
   },
   "outputs": [
    {
     "data": {
      "application/vnd.jupyter.widget-view+json": {
       "model_id": "",
       "version_major": 2,
       "version_minor": 0
      },
      "text/plain": [
       "FloatProgress(value=0.0, bar_style='info', description='Progress:', layout=Layout(height='25px', width='50%'),…"
      ]
     },
     "metadata": {},
     "output_type": "display_data"
    },
    {
     "data": {
      "text/html": [
       "<style>.jp-OutputArea-child .jupyter-widgets.jp-OutputArea-output { overflow: auto; }</style>"
      ],
      "text/plain": [
       "<IPython.core.display.HTML object>"
      ]
     },
     "metadata": {},
     "output_type": "display_data"
    },
    {
     "data": {
      "application/vnd.jupyter.widget-view+json": {
       "model_id": "616766e0ea624cfbb6161b47cf737358",
       "version_major": 2,
       "version_minor": 0
      },
      "text/plain": [
       "VBox(children=(HBox(), EncodingWidget(children=(VBox(children=(HTML(value='Encoding:'), Dropdown(description='…"
      ]
     },
     "metadata": {},
     "output_type": "display_data"
    },
    {
     "data": {
      "application/vnd.jupyter.widget-view+json": {
       "model_id": "45804ff4d0c94cc1b4c052e04ee3ffe6",
       "version_major": 2,
       "version_minor": 0
      },
      "text/plain": [
       "Output()"
      ]
     },
     "metadata": {},
     "output_type": "display_data"
    }
   ],
   "source": [
    "%%sql\n",
    "insert into \n",
    "    ${TABLE_NAME}\n",
    "select \n",
    "    review_id, \n",
    "    star_rating, \n",
    "    review_body, \n",
    "    review_date, \n",
    "    year,\n",
    "    unix_timestamp(current_timestamp()) as timestamp,\n",
    "    mod(crc32(review_id), 2) as parity\n",
    "from\n",
    "    reviews\n",
    "where\n",
    "    year = 1999"
   ]
  },
  {
   "cell_type": "code",
   "execution_count": 14,
   "id": "d1c970c1-888f-425c-9715-4be8feb40ed1",
   "metadata": {
    "execution": {
     "iopub.execute_input": "2023-03-04T09:21:34.636916Z",
     "iopub.status.busy": "2023-03-04T09:21:34.636384Z",
     "iopub.status.idle": "2023-03-04T09:22:02.800201Z",
     "shell.execute_reply": "2023-03-04T09:22:02.799405Z",
     "shell.execute_reply.started": "2023-03-04T09:21:34.636879Z"
    },
    "tags": []
   },
   "outputs": [
    {
     "name": "stdout",
     "output_type": "stream",
     "text": [
      "\n",
      "[ TIMELINE ]\n",
      "\n",
      "╔═════╤═══════════════════╤═════════════╤═══════════╤═════════════╤═════════════╤═════════════╗\n",
      "║ No. │ Instant           │ Action      │ State     │ Requested   │ Inflight    │ Completed   ║\n",
      "║     │                   │             │           │ Time        │ Time        │ Time        ║\n",
      "╠═════╪═══════════════════╪═════════════╪═══════════╪═════════════╪═════════════╪═════════════╣\n",
      "║ 0   │ 20230304092052102 │ deltacommit │ COMPLETED │ 03-04 09:20 │ 03-04 09:21 │ 03-04 09:21 ║\n",
      "╚═════╧═══════════════════╧═════════════╧═══════════╧═════════════╧═════════════╧═════════════╝\n",
      "\n",
      "[ COMMITS ]\n",
      "\n",
      "╔═══════════════════╤═════════════════════╤═══════════════════╤═════════════════════╤══════════════════════════╤═══════════════════════╤══════════════════════════════╤══════════════╗\n",
      "║ CommitTime        │ Total Bytes Written │ Total Files Added │ Total Files Updated │ Total Partitions Written │ Total Records Written │ Total Update Records Written │ Total Errors ║\n",
      "╠═══════════════════╪═════════════════════╪═══════════════════╪═════════════════════╪══════════════════════════╪═══════════════════════╪══════════════════════════════╪══════════════╣\n",
      "║ 20230304092052102 │ 81.3 MB             │ 2                 │ 0                   │ 2                        │ 484469                │ 0                            │ 0            ║\n",
      "╚═══════════════════╧═════════════════════╧═══════════════════╧═════════════════════╧══════════════════════════╧═══════════════════════╧══════════════════════════════╧══════════════╝\n",
      "\n",
      "[ COMPACTIONS ]\n",
      "\n",
      "╔═════════════════════════╤═══════╤═══════════════════════════════╗\n",
      "║ Compaction Instant Time │ State │ Total FileIds to be Compacted ║\n",
      "╠═════════════════════════╧═══════╧═══════════════════════════════╣\n",
      "║ (empty)                                                         ║\n",
      "╚═════════════════════════════════════════════════════════════════╝\n",
      "\n",
      "[ STORAGE ]\n",
      "\n",
      "/home/emr-notebook/reviews_mor_simple_1\n",
      "├── [ 41M 09:22:02]  parity=0\n",
      "│   └── [ 41M 09:21:21]  8bf891d4-ec16-4cea-9fa3-22a57ee02f34-0_0-35-288_20230304092052102.parquet\n",
      "└── [ 41M 09:22:02]  parity=1\n",
      "    └── [ 41M 09:21:21]  52a7359c-daa8-428f-bcc6-3e2552ce905d-0_1-35-289_20230304092052102.parquet\n",
      "\n",
      "  81M used in 2 directories, 2 files\n"
     ]
    }
   ],
   "source": [
    "%%sh\n",
    "~/hudi-stat.sh $TABLE_PATH timeline commits compactions storage"
   ]
  },
  {
   "cell_type": "markdown",
   "id": "2e557928-f092-4752-b170-6cd18b0a77bb",
   "metadata": {
    "tags": []
   },
   "source": [
    "### 2.3.  Batch 2 - Update"
   ]
  },
  {
   "cell_type": "code",
   "execution_count": 15,
   "id": "a75f4152-7c4b-4f59-a80f-8dd0ac26cd56",
   "metadata": {
    "execution": {
     "iopub.execute_input": "2023-03-04T09:22:02.801676Z",
     "iopub.status.busy": "2023-03-04T09:22:02.801392Z",
     "iopub.status.idle": "2023-03-04T09:22:20.288612Z",
     "shell.execute_reply": "2023-03-04T09:22:20.287635Z",
     "shell.execute_reply.started": "2023-03-04T09:22:02.801651Z"
    },
    "tags": []
   },
   "outputs": [
    {
     "data": {
      "application/vnd.jupyter.widget-view+json": {
       "model_id": "",
       "version_major": 2,
       "version_minor": 0
      },
      "text/plain": [
       "FloatProgress(value=0.0, bar_style='info', description='Progress:', layout=Layout(height='25px', width='50%'),…"
      ]
     },
     "metadata": {},
     "output_type": "display_data"
    },
    {
     "data": {
      "text/html": [
       "<style>.jp-OutputArea-child .jupyter-widgets.jp-OutputArea-output { overflow: auto; }</style>"
      ],
      "text/plain": [
       "<IPython.core.display.HTML object>"
      ]
     },
     "metadata": {},
     "output_type": "display_data"
    },
    {
     "data": {
      "application/vnd.jupyter.widget-view+json": {
       "model_id": "bd16217f55a549fbbe3302f88929b667",
       "version_major": 2,
       "version_minor": 0
      },
      "text/plain": [
       "VBox(children=(HBox(), EncodingWidget(children=(VBox(children=(HTML(value='Encoding:'), Dropdown(description='…"
      ]
     },
     "metadata": {},
     "output_type": "display_data"
    },
    {
     "data": {
      "application/vnd.jupyter.widget-view+json": {
       "model_id": "5603ff4694e048caae2a074fb03acf8f",
       "version_major": 2,
       "version_minor": 0
      },
      "text/plain": [
       "Output()"
      ]
     },
     "metadata": {},
     "output_type": "display_data"
    }
   ],
   "source": [
    "%%sql\n",
    "update\n",
    "    ${TABLE_NAME}\n",
    "set             \n",
    "    review_body = concat(uuid(),uuid(),uuid(),uuid(),uuid(),uuid(),uuid(),uuid(),uuid(),uuid()),\n",
    "    timestamp = unix_timestamp(current_timestamp())\n",
    "where\n",
    "    review_date = '1999-01-01'\n",
    ";"
   ]
  },
  {
   "cell_type": "code",
   "execution_count": 16,
   "id": "890ce406-1702-4170-9525-278588ec3424",
   "metadata": {
    "execution": {
     "iopub.execute_input": "2023-03-04T09:22:20.290489Z",
     "iopub.status.busy": "2023-03-04T09:22:20.289932Z",
     "iopub.status.idle": "2023-03-04T09:22:48.056822Z",
     "shell.execute_reply": "2023-03-04T09:22:48.055938Z",
     "shell.execute_reply.started": "2023-03-04T09:22:20.290452Z"
    },
    "tags": []
   },
   "outputs": [
    {
     "name": "stdout",
     "output_type": "stream",
     "text": [
      "\n",
      "[ TIMELINE ]\n",
      "\n",
      "╔═════╤═══════════════════╤═════════════╤═══════════╤═════════════╤═════════════╤═════════════╗\n",
      "║ No. │ Instant           │ Action      │ State     │ Requested   │ Inflight    │ Completed   ║\n",
      "║     │                   │             │           │ Time        │ Time        │ Time        ║\n",
      "╠═════╪═══════════════════╪═════════════╪═══════════╪═════════════╪═════════════╪═════════════╣\n",
      "║ 0   │ 20230304092052102 │ deltacommit │ COMPLETED │ 03-04 09:20 │ 03-04 09:21 │ 03-04 09:21 ║\n",
      "╟─────┼───────────────────┼─────────────┼───────────┼─────────────┼─────────────┼─────────────╢\n",
      "║ 1   │ 20230304092203550 │ deltacommit │ COMPLETED │ 03-04 09:22 │ 03-04 09:22 │ 03-04 09:22 ║\n",
      "╚═════╧═══════════════════╧═════════════╧═══════════╧═════════════╧═════════════╧═════════════╝\n",
      "\n",
      "[ COMMITS ]\n",
      "\n",
      "╔═══════════════════╤═════════════════════╤═══════════════════╤═════════════════════╤══════════════════════════╤═══════════════════════╤══════════════════════════════╤══════════════╗\n",
      "║ CommitTime        │ Total Bytes Written │ Total Files Added │ Total Files Updated │ Total Partitions Written │ Total Records Written │ Total Update Records Written │ Total Errors ║\n",
      "╠═══════════════════╪═════════════════════╪═══════════════════╪═════════════════════╪══════════════════════════╪═══════════════════════╪══════════════════════════════╪══════════════╣\n",
      "║ 20230304092203550 │ 381.2 KB            │ 0                 │ 2                   │ 2                        │ 701                   │ 701                          │ 0            ║\n",
      "╟───────────────────┼─────────────────────┼───────────────────┼─────────────────────┼──────────────────────────┼───────────────────────┼──────────────────────────────┼──────────────╢\n",
      "║ 20230304092052102 │ 81.3 MB             │ 2                 │ 0                   │ 2                        │ 484469                │ 0                            │ 0            ║\n",
      "╚═══════════════════╧═════════════════════╧═══════════════════╧═════════════════════╧══════════════════════════╧═══════════════════════╧══════════════════════════════╧══════════════╝\n",
      "\n",
      "[ COMPACTIONS ]\n",
      "\n",
      "╔═════════════════════════╤═══════╤═══════════════════════════════╗\n",
      "║ Compaction Instant Time │ State │ Total FileIds to be Compacted ║\n",
      "╠═════════════════════════╧═══════╧═══════════════════════════════╣\n",
      "║ (empty)                                                         ║\n",
      "╚═════════════════════════════════════════════════════════════════╝\n",
      "\n",
      "[ STORAGE ]\n",
      "\n",
      "/home/emr-notebook/reviews_mor_simple_1\n",
      "├── [ 41M 09:22:47]  parity=0\n",
      "│   ├── [198K 09:22:11]  .8bf891d4-ec16-4cea-9fa3-22a57ee02f34-0_20230304092052102.log.1_0-83-349\n",
      "│   └── [ 41M 09:21:21]  8bf891d4-ec16-4cea-9fa3-22a57ee02f34-0_0-35-288_20230304092052102.parquet\n",
      "└── [ 41M 09:22:47]  parity=1\n",
      "    ├── [183K 09:22:11]  .52a7359c-daa8-428f-bcc6-3e2552ce905d-0_20230304092052102.log.1_1-83-350\n",
      "    └── [ 41M 09:21:21]  52a7359c-daa8-428f-bcc6-3e2552ce905d-0_1-35-289_20230304092052102.parquet\n",
      "\n",
      "  82M used in 2 directories, 4 files\n"
     ]
    }
   ],
   "source": [
    "%%sh\n",
    "~/hudi-stat.sh $TABLE_PATH timeline commits compactions storage"
   ]
  },
  {
   "cell_type": "markdown",
   "id": "4b31ffb1-7cd5-4be0-a7b6-211fb0b54ba1",
   "metadata": {
    "tags": []
   },
   "source": [
    "### 2.4. Batch 3 - Update"
   ]
  },
  {
   "cell_type": "code",
   "execution_count": 17,
   "id": "3673cbdb-71a8-45a6-b092-c6bb6215a235",
   "metadata": {
    "execution": {
     "iopub.execute_input": "2023-03-04T09:22:48.058723Z",
     "iopub.status.busy": "2023-03-04T09:22:48.058358Z",
     "iopub.status.idle": "2023-03-04T09:23:21.603833Z",
     "shell.execute_reply": "2023-03-04T09:23:21.602375Z",
     "shell.execute_reply.started": "2023-03-04T09:22:48.058685Z"
    },
    "tags": []
   },
   "outputs": [
    {
     "data": {
      "application/vnd.jupyter.widget-view+json": {
       "model_id": "",
       "version_major": 2,
       "version_minor": 0
      },
      "text/plain": [
       "FloatProgress(value=0.0, bar_style='info', description='Progress:', layout=Layout(height='25px', width='50%'),…"
      ]
     },
     "metadata": {},
     "output_type": "display_data"
    },
    {
     "data": {
      "text/html": [
       "<style>.jp-OutputArea-child .jupyter-widgets.jp-OutputArea-output { overflow: auto; }</style>"
      ],
      "text/plain": [
       "<IPython.core.display.HTML object>"
      ]
     },
     "metadata": {},
     "output_type": "display_data"
    },
    {
     "data": {
      "application/vnd.jupyter.widget-view+json": {
       "model_id": "8c8275ba1bf5463aacb894d6e28cbc10",
       "version_major": 2,
       "version_minor": 0
      },
      "text/plain": [
       "VBox(children=(HBox(), EncodingWidget(children=(VBox(children=(HTML(value='Encoding:'), Dropdown(description='…"
      ]
     },
     "metadata": {},
     "output_type": "display_data"
    },
    {
     "data": {
      "application/vnd.jupyter.widget-view+json": {
       "model_id": "84ab0df6ffd6481b9b281800c14eb2a0",
       "version_major": 2,
       "version_minor": 0
      },
      "text/plain": [
       "Output()"
      ]
     },
     "metadata": {},
     "output_type": "display_data"
    }
   ],
   "source": [
    "%%sql\n",
    "update\n",
    "    ${TABLE_NAME}\n",
    "set             \n",
    "    review_body = concat(uuid(),uuid(),uuid(),uuid(),uuid(),uuid(),uuid(),uuid(),uuid(),uuid()),\n",
    "    timestamp = unix_timestamp(current_timestamp())\n",
    "where\n",
    "    review_date = '1999-01-02'\n",
    ";"
   ]
  },
  {
   "cell_type": "code",
   "execution_count": 18,
   "id": "f4ab5e65-8a0a-4b0b-ae18-13135f7b757f",
   "metadata": {
    "execution": {
     "iopub.execute_input": "2023-03-04T09:23:21.605323Z",
     "iopub.status.busy": "2023-03-04T09:23:21.604991Z",
     "iopub.status.idle": "2023-03-04T09:23:50.306095Z",
     "shell.execute_reply": "2023-03-04T09:23:50.304939Z",
     "shell.execute_reply.started": "2023-03-04T09:23:21.605287Z"
    },
    "tags": []
   },
   "outputs": [
    {
     "name": "stdout",
     "output_type": "stream",
     "text": [
      "\n",
      "[ TIMELINE ]\n",
      "\n",
      "╔═════╤═══════════════════╤═════════════╤═══════════╤═════════════╤═════════════╤═════════════╗\n",
      "║ No. │ Instant           │ Action      │ State     │ Requested   │ Inflight    │ Completed   ║\n",
      "║     │                   │             │           │ Time        │ Time        │ Time        ║\n",
      "╠═════╪═══════════════════╪═════════════╪═══════════╪═════════════╪═════════════╪═════════════╣\n",
      "║ 0   │ 20230304092052102 │ deltacommit │ COMPLETED │ 03-04 09:20 │ 03-04 09:21 │ 03-04 09:21 ║\n",
      "╟─────┼───────────────────┼─────────────┼───────────┼─────────────┼─────────────┼─────────────╢\n",
      "║ 1   │ 20230304092203550 │ deltacommit │ COMPLETED │ 03-04 09:22 │ 03-04 09:22 │ 03-04 09:22 ║\n",
      "╟─────┼───────────────────┼─────────────┼───────────┼─────────────┼─────────────┼─────────────╢\n",
      "║ 2   │ 20230304092248714 │ deltacommit │ COMPLETED │ 03-04 09:22 │ 03-04 09:22 │ 03-04 09:23 ║\n",
      "╟─────┼───────────────────┼─────────────┼───────────┼─────────────┼─────────────┼─────────────╢\n",
      "║ 3   │ 20230304092301764 │ commit      │ COMPLETED │ 03-04 09:23 │ 03-04 09:23 │ 03-04 09:23 ║\n",
      "╚═════╧═══════════════════╧═════════════╧═══════════╧═════════════╧═════════════╧═════════════╝\n",
      "\n",
      "[ COMMITS ]\n",
      "\n",
      "╔═══════════════════╤═════════════════════╤═══════════════════╤═════════════════════╤══════════════════════════╤═══════════════════════╤══════════════════════════════╤══════════════╗\n",
      "║ CommitTime        │ Total Bytes Written │ Total Files Added │ Total Files Updated │ Total Partitions Written │ Total Records Written │ Total Update Records Written │ Total Errors ║\n",
      "╠═══════════════════╪═════════════════════╪═══════════════════╪═════════════════════╪══════════════════════════╪═══════════════════════╪══════════════════════════════╪══════════════╣\n",
      "║ 20230304092301764 │ 81.5 MB             │ 0                 │ 2                   │ 2                        │ 484469                │ 1627                         │ 0            ║\n",
      "╟───────────────────┼─────────────────────┼───────────────────┼─────────────────────┼──────────────────────────┼───────────────────────┼──────────────────────────────┼──────────────╢\n",
      "║ 20230304092248714 │ 503.6 KB            │ 0                 │ 2                   │ 2                        │ 926                   │ 926                          │ 0            ║\n",
      "╟───────────────────┼─────────────────────┼───────────────────┼─────────────────────┼──────────────────────────┼───────────────────────┼──────────────────────────────┼──────────────╢\n",
      "║ 20230304092203550 │ 381.2 KB            │ 0                 │ 2                   │ 2                        │ 701                   │ 701                          │ 0            ║\n",
      "╟───────────────────┼─────────────────────┼───────────────────┼─────────────────────┼──────────────────────────┼───────────────────────┼──────────────────────────────┼──────────────╢\n",
      "║ 20230304092052102 │ 81.3 MB             │ 2                 │ 0                   │ 2                        │ 484469                │ 0                            │ 0            ║\n",
      "╚═══════════════════╧═════════════════════╧═══════════════════╧═════════════════════╧══════════════════════════╧═══════════════════════╧══════════════════════════════╧══════════════╝\n",
      "\n",
      "[ COMPACTIONS ]\n",
      "\n",
      "╔═════════════════════════╤═══════════╤═══════════════════════════════╗\n",
      "║ Compaction Instant Time │ State     │ Total FileIds to be Compacted ║\n",
      "╠═════════════════════════╪═══════════╪═══════════════════════════════╣\n",
      "║ 20230304092301764       │ COMPLETED │ 2                             ║\n",
      "╚═════════════════════════╧═══════════╧═══════════════════════════════╝\n",
      "\n",
      "[ STORAGE ]\n",
      "\n",
      "/home/emr-notebook/reviews_mor_simple_1\n",
      "├── [ 82M 09:23:50]  parity=0\n",
      "│   ├── [198K 09:22:11]  .8bf891d4-ec16-4cea-9fa3-22a57ee02f34-0_20230304092052102.log.1_0-83-349\n",
      "│   ├── [253K 09:22:56]  .8bf891d4-ec16-4cea-9fa3-22a57ee02f34-0_20230304092052102.log.2_0-131-410\n",
      "│   ├── [ 41M 09:23:15]  8bf891d4-ec16-4cea-9fa3-22a57ee02f34-0_0-154-431_20230304092301764.parquet\n",
      "│   └── [ 41M 09:21:21]  8bf891d4-ec16-4cea-9fa3-22a57ee02f34-0_0-35-288_20230304092052102.parquet\n",
      "└── [ 82M 09:23:50]  parity=1\n",
      "    ├── [183K 09:22:11]  .52a7359c-daa8-428f-bcc6-3e2552ce905d-0_20230304092052102.log.1_1-83-350\n",
      "    ├── [251K 09:22:56]  .52a7359c-daa8-428f-bcc6-3e2552ce905d-0_20230304092052102.log.2_1-131-411\n",
      "    ├── [ 41M 09:23:15]  52a7359c-daa8-428f-bcc6-3e2552ce905d-0_1-154-432_20230304092301764.parquet\n",
      "    └── [ 41M 09:21:21]  52a7359c-daa8-428f-bcc6-3e2552ce905d-0_1-35-289_20230304092052102.parquet\n",
      "\n",
      " 164M used in 2 directories, 8 files\n"
     ]
    }
   ],
   "source": [
    "%%sh\n",
    "~/hudi-stat.sh $TABLE_PATH timeline commits compactions storage"
   ]
  },
  {
   "cell_type": "markdown",
   "id": "55444eec-8bca-40a6-9e55-93b01a62b14b",
   "metadata": {
    "tags": []
   },
   "source": [
    "## 3. Async Compaction: Inline Schedule + Offline Execute"
   ]
  },
  {
   "cell_type": "markdown",
   "id": "9ff3a295-839b-4751-9b14-d9ddebc637ed",
   "metadata": {
    "tags": []
   },
   "source": [
    "### 3.1. Create Table"
   ]
  },
  {
   "cell_type": "code",
   "execution_count": 19,
   "id": "d97867de-c62b-423f-9c89-623c75c3458c",
   "metadata": {
    "execution": {
     "iopub.execute_input": "2023-03-04T09:23:50.307807Z",
     "iopub.status.busy": "2023-03-04T09:23:50.307443Z",
     "iopub.status.idle": "2023-03-04T09:23:51.404029Z",
     "shell.execute_reply": "2023-03-04T09:23:51.403119Z",
     "shell.execute_reply.started": "2023-03-04T09:23:50.307769Z"
    },
    "tags": []
   },
   "outputs": [
    {
     "data": {
      "application/vnd.jupyter.widget-view+json": {
       "model_id": "",
       "version_major": 2,
       "version_minor": 0
      },
      "text/plain": [
       "FloatProgress(value=0.0, bar_style='info', description='Progress:', layout=Layout(height='25px', width='50%'),…"
      ]
     },
     "metadata": {},
     "output_type": "display_data"
    },
    {
     "data": {
      "text/html": [
       "<style>.jp-OutputArea-child .jupyter-widgets.jp-OutputArea-output { overflow: auto; }</style>"
      ],
      "text/plain": [
       "<IPython.core.display.HTML object>"
      ]
     },
     "metadata": {},
     "output_type": "display_data"
    },
    {
     "data": {
      "application/vnd.jupyter.widget-view+json": {
       "model_id": "6ea5e3c67e20474da69bacff50c25c40",
       "version_major": 2,
       "version_minor": 0
      },
      "text/plain": [
       "VBox(children=(HBox(children=(HTML(value='Type:'), Button(description='Table', layout=Layout(width='70px'), st…"
      ]
     },
     "metadata": {},
     "output_type": "display_data"
    },
    {
     "data": {
      "application/vnd.jupyter.widget-view+json": {
       "model_id": "6a40a18470a14073b9371893130686c9",
       "version_major": 2,
       "version_minor": 0
      },
      "text/plain": [
       "Output()"
      ]
     },
     "metadata": {},
     "output_type": "display_data"
    }
   ],
   "source": [
    "%%sql\n",
    "set TABLE_NAME=reviews_mor_simple_2"
   ]
  },
  {
   "cell_type": "code",
   "execution_count": 20,
   "id": "8ce23c59-3a01-47e1-a5e8-6cf818928899",
   "metadata": {
    "execution": {
     "iopub.execute_input": "2023-03-04T09:23:51.406217Z",
     "iopub.status.busy": "2023-03-04T09:23:51.405544Z",
     "iopub.status.idle": "2023-03-04T09:23:52.433347Z",
     "shell.execute_reply": "2023-03-04T09:23:52.432294Z",
     "shell.execute_reply.started": "2023-03-04T09:23:51.406173Z"
    },
    "tags": []
   },
   "outputs": [
    {
     "data": {
      "application/vnd.jupyter.widget-view+json": {
       "model_id": "",
       "version_major": 2,
       "version_minor": 0
      },
      "text/plain": [
       "FloatProgress(value=0.0, bar_style='info', description='Progress:', layout=Layout(height='25px', width='50%'),…"
      ]
     },
     "metadata": {},
     "output_type": "display_data"
    },
    {
     "data": {
      "text/html": [
       "<style>.jp-OutputArea-child .jupyter-widgets.jp-OutputArea-output { overflow: auto; }</style>"
      ],
      "text/plain": [
       "<IPython.core.display.HTML object>"
      ]
     },
     "metadata": {},
     "output_type": "display_data"
    },
    {
     "data": {
      "application/vnd.jupyter.widget-view+json": {
       "model_id": "c53de444a34748788de3b3c364e0af1a",
       "version_major": 2,
       "version_minor": 0
      },
      "text/plain": [
       "VBox(children=(HBox(children=(HTML(value='Type:'), Button(description='Table', layout=Layout(width='70px'), st…"
      ]
     },
     "metadata": {},
     "output_type": "display_data"
    },
    {
     "data": {
      "application/vnd.jupyter.widget-view+json": {
       "model_id": "85de07337f5e42599fe7eb5206a02b94",
       "version_major": 2,
       "version_minor": 0
      },
      "text/plain": [
       "Output()"
      ]
     },
     "metadata": {},
     "output_type": "display_data"
    }
   ],
   "source": [
    "%%sql\n",
    "set TABLE_PATH=s3://glc-examples/hudi-core-conceptions/reviews_mor_simple_2"
   ]
  },
  {
   "cell_type": "code",
   "execution_count": 21,
   "id": "0d950462-2d13-406b-b8c1-fee45fd924ff",
   "metadata": {
    "execution": {
     "iopub.execute_input": "2023-03-04T09:23:52.435240Z",
     "iopub.status.busy": "2023-03-04T09:23:52.434897Z",
     "iopub.status.idle": "2023-03-04T09:23:52.442297Z",
     "shell.execute_reply": "2023-03-04T09:23:52.441198Z",
     "shell.execute_reply.started": "2023-03-04T09:23:52.435203Z"
    },
    "tags": []
   },
   "outputs": [
    {
     "name": "stdout",
     "output_type": "stream",
     "text": [
      "env: TABLE_NAME=reviews_mor_simple_2\n"
     ]
    }
   ],
   "source": [
    "%env TABLE_NAME=reviews_mor_simple_2"
   ]
  },
  {
   "cell_type": "code",
   "execution_count": 22,
   "id": "710e5c45-6a5a-49b7-a967-54e1a90566ae",
   "metadata": {
    "execution": {
     "iopub.execute_input": "2023-03-04T09:23:52.444127Z",
     "iopub.status.busy": "2023-03-04T09:23:52.443788Z",
     "iopub.status.idle": "2023-03-04T09:23:52.452362Z",
     "shell.execute_reply": "2023-03-04T09:23:52.450378Z",
     "shell.execute_reply.started": "2023-03-04T09:23:52.444082Z"
    },
    "tags": []
   },
   "outputs": [
    {
     "name": "stdout",
     "output_type": "stream",
     "text": [
      "env: TABLE_PATH=s3://glc-examples/hudi-core-conceptions/reviews_mor_simple_2\n"
     ]
    }
   ],
   "source": [
    "%env TABLE_PATH=s3://glc-examples/hudi-core-conceptions/reviews_mor_simple_2"
   ]
  },
  {
   "cell_type": "code",
   "execution_count": 23,
   "id": "81d4cf3a-64d9-443c-a68d-00acb016023d",
   "metadata": {
    "execution": {
     "iopub.execute_input": "2023-03-04T09:23:52.464838Z",
     "iopub.status.busy": "2023-03-04T09:23:52.464212Z",
     "iopub.status.idle": "2023-03-04T09:23:56.953152Z",
     "shell.execute_reply": "2023-03-04T09:23:56.952155Z",
     "shell.execute_reply.started": "2023-03-04T09:23:52.464799Z"
    },
    "tags": []
   },
   "outputs": [
    {
     "name": "stdout",
     "output_type": "stream",
     "text": [
      "reviews_mor_simple_2\n"
     ]
    }
   ],
   "source": [
    "%%sh\n",
    "echo $(basename $TABLE_PATH)\n",
    "aws s3 rm $TABLE_PATH --recursive &>/dev/null\n",
    "rm -rf ~/${TABLE_NAME}\n",
    "sleep 3"
   ]
  },
  {
   "cell_type": "code",
   "execution_count": 24,
   "id": "908a5c32-cf70-4a38-8df2-7c43633cb278",
   "metadata": {
    "execution": {
     "iopub.execute_input": "2023-03-04T09:23:56.957009Z",
     "iopub.status.busy": "2023-03-04T09:23:56.956736Z",
     "iopub.status.idle": "2023-03-04T09:23:57.781272Z",
     "shell.execute_reply": "2023-03-04T09:23:57.780366Z",
     "shell.execute_reply.started": "2023-03-04T09:23:56.956983Z"
    },
    "tags": []
   },
   "outputs": [
    {
     "data": {
      "application/vnd.jupyter.widget-view+json": {
       "model_id": "",
       "version_major": 2,
       "version_minor": 0
      },
      "text/plain": [
       "FloatProgress(value=0.0, bar_style='info', description='Progress:', layout=Layout(height='25px', width='50%'),…"
      ]
     },
     "metadata": {},
     "output_type": "display_data"
    },
    {
     "data": {
      "text/html": [
       "<style>.jp-OutputArea-child .jupyter-widgets.jp-OutputArea-output { overflow: auto; }</style>"
      ],
      "text/plain": [
       "<IPython.core.display.HTML object>"
      ]
     },
     "metadata": {},
     "output_type": "display_data"
    },
    {
     "data": {
      "application/vnd.jupyter.widget-view+json": {
       "model_id": "e222b532475743d78b639952f5c56594",
       "version_major": 2,
       "version_minor": 0
      },
      "text/plain": [
       "VBox(children=(HBox(), EncodingWidget(children=(VBox(children=(HTML(value='Encoding:'), Dropdown(description='…"
      ]
     },
     "metadata": {},
     "output_type": "display_data"
    },
    {
     "data": {
      "application/vnd.jupyter.widget-view+json": {
       "model_id": "a6b2ea1683ba426bbfce0ccd27f5385f",
       "version_major": 2,
       "version_minor": 0
      },
      "text/plain": [
       "Output()"
      ]
     },
     "metadata": {},
     "output_type": "display_data"
    }
   ],
   "source": [
    "%%sql\n",
    "drop table if exists ${TABLE_NAME}"
   ]
  },
  {
   "cell_type": "code",
   "execution_count": 25,
   "id": "26f33c28-05b3-42d8-b3dc-d874e950d577",
   "metadata": {
    "execution": {
     "iopub.execute_input": "2023-03-04T09:23:57.782630Z",
     "iopub.status.busy": "2023-03-04T09:23:57.782395Z",
     "iopub.status.idle": "2023-03-04T09:23:58.634682Z",
     "shell.execute_reply": "2023-03-04T09:23:58.633952Z",
     "shell.execute_reply.started": "2023-03-04T09:23:57.782607Z"
    },
    "tags": []
   },
   "outputs": [
    {
     "data": {
      "application/vnd.jupyter.widget-view+json": {
       "model_id": "",
       "version_major": 2,
       "version_minor": 0
      },
      "text/plain": [
       "FloatProgress(value=0.0, bar_style='info', description='Progress:', layout=Layout(height='25px', width='50%'),…"
      ]
     },
     "metadata": {},
     "output_type": "display_data"
    },
    {
     "data": {
      "text/html": [
       "<style>.jp-OutputArea-child .jupyter-widgets.jp-OutputArea-output { overflow: auto; }</style>"
      ],
      "text/plain": [
       "<IPython.core.display.HTML object>"
      ]
     },
     "metadata": {},
     "output_type": "display_data"
    },
    {
     "data": {
      "application/vnd.jupyter.widget-view+json": {
       "model_id": "3f58d39ed2234fea8df84e37d84ef834",
       "version_major": 2,
       "version_minor": 0
      },
      "text/plain": [
       "VBox(children=(HBox(), EncodingWidget(children=(VBox(children=(HTML(value='Encoding:'), Dropdown(description='…"
      ]
     },
     "metadata": {},
     "output_type": "display_data"
    },
    {
     "data": {
      "application/vnd.jupyter.widget-view+json": {
       "model_id": "0957a49f10f74a5c8041c70c91f0fa18",
       "version_major": 2,
       "version_minor": 0
      },
      "text/plain": [
       "Output()"
      ]
     },
     "metadata": {},
     "output_type": "display_data"
    }
   ],
   "source": [
    "%%sql\n",
    "drop table if exists ${TABLE_NAME}_ro"
   ]
  },
  {
   "cell_type": "code",
   "execution_count": 26,
   "id": "83622006-a6fd-4b97-ab7d-e36940956928",
   "metadata": {
    "execution": {
     "iopub.execute_input": "2023-03-04T09:23:58.636022Z",
     "iopub.status.busy": "2023-03-04T09:23:58.635759Z",
     "iopub.status.idle": "2023-03-04T09:23:59.512336Z",
     "shell.execute_reply": "2023-03-04T09:23:59.509532Z",
     "shell.execute_reply.started": "2023-03-04T09:23:58.635992Z"
    },
    "tags": []
   },
   "outputs": [
    {
     "data": {
      "application/vnd.jupyter.widget-view+json": {
       "model_id": "",
       "version_major": 2,
       "version_minor": 0
      },
      "text/plain": [
       "FloatProgress(value=0.0, bar_style='info', description='Progress:', layout=Layout(height='25px', width='50%'),…"
      ]
     },
     "metadata": {},
     "output_type": "display_data"
    },
    {
     "data": {
      "text/html": [
       "<style>.jp-OutputArea-child .jupyter-widgets.jp-OutputArea-output { overflow: auto; }</style>"
      ],
      "text/plain": [
       "<IPython.core.display.HTML object>"
      ]
     },
     "metadata": {},
     "output_type": "display_data"
    },
    {
     "data": {
      "application/vnd.jupyter.widget-view+json": {
       "model_id": "4c608a4e80b448498b2809dd28f9ca80",
       "version_major": 2,
       "version_minor": 0
      },
      "text/plain": [
       "VBox(children=(HBox(), EncodingWidget(children=(VBox(children=(HTML(value='Encoding:'), Dropdown(description='…"
      ]
     },
     "metadata": {},
     "output_type": "display_data"
    },
    {
     "data": {
      "application/vnd.jupyter.widget-view+json": {
       "model_id": "8f15fff7739c4fa8aaf505d078f7256d",
       "version_major": 2,
       "version_minor": 0
      },
      "text/plain": [
       "Output()"
      ]
     },
     "metadata": {},
     "output_type": "display_data"
    }
   ],
   "source": [
    "%%sql\n",
    "drop table if exists ${TABLE_NAME}_rt"
   ]
  },
  {
   "cell_type": "code",
   "execution_count": 27,
   "id": "494b711d-eff7-43ca-b816-47d8a6909a38",
   "metadata": {
    "execution": {
     "iopub.execute_input": "2023-03-04T09:23:59.515922Z",
     "iopub.status.busy": "2023-03-04T09:23:59.515569Z",
     "iopub.status.idle": "2023-03-04T09:24:01.960135Z",
     "shell.execute_reply": "2023-03-04T09:24:01.959363Z",
     "shell.execute_reply.started": "2023-03-04T09:23:59.515887Z"
    },
    "tags": []
   },
   "outputs": [
    {
     "data": {
      "application/vnd.jupyter.widget-view+json": {
       "model_id": "",
       "version_major": 2,
       "version_minor": 0
      },
      "text/plain": [
       "FloatProgress(value=0.0, bar_style='info', description='Progress:', layout=Layout(height='25px', width='50%'),…"
      ]
     },
     "metadata": {},
     "output_type": "display_data"
    },
    {
     "data": {
      "text/html": [
       "<style>.jp-OutputArea-child .jupyter-widgets.jp-OutputArea-output { overflow: auto; }</style>"
      ],
      "text/plain": [
       "<IPython.core.display.HTML object>"
      ]
     },
     "metadata": {},
     "output_type": "display_data"
    },
    {
     "data": {
      "application/vnd.jupyter.widget-view+json": {
       "model_id": "4a018c739dad494da371f3a14e0f86aa",
       "version_major": 2,
       "version_minor": 0
      },
      "text/plain": [
       "VBox(children=(HBox(), EncodingWidget(children=(VBox(children=(HTML(value='Encoding:'), Dropdown(description='…"
      ]
     },
     "metadata": {},
     "output_type": "display_data"
    },
    {
     "data": {
      "application/vnd.jupyter.widget-view+json": {
       "model_id": "e2ef6ec7863f44c4ac8a0e1d79ef6768",
       "version_major": 2,
       "version_minor": 0
      },
      "text/plain": [
       "Output()"
      ]
     },
     "metadata": {},
     "output_type": "display_data"
    }
   ],
   "source": [
    "%%sql\n",
    "create table if not exists ${TABLE_NAME} (\n",
    "    review_id string, \n",
    "    star_rating long, \n",
    "    review_body string, \n",
    "    review_date date, \n",
    "    year long,\n",
    "    timestamp long,\n",
    "    parity int\n",
    ")\n",
    "using hudi\n",
    "location '${TABLE_PATH}'\n",
    "partitioned by (parity)\n",
    "options ( \n",
    "    type = 'mor',  \n",
    "    primaryKey = 'review_id', \n",
    "    preCombineField = 'timestamp',\n",
    "    hoodie.copyonwrite.record.size.estimate = '175',\n",
    "    hoodie.compact.inline = 'false',\n",
    "    hoodie.compact.schedule.inline = 'true',\n",
    "    hoodie.compact.inline.max.delta.commits = '3'\n",
    ");"
   ]
  },
  {
   "cell_type": "markdown",
   "id": "a6291baf-6afd-4f6e-b56a-83dd5c613a8e",
   "metadata": {
    "tags": []
   },
   "source": [
    "### 3.2. Batch 1 - Insert"
   ]
  },
  {
   "cell_type": "code",
   "execution_count": 28,
   "id": "4d68bff7-e1db-46b5-8684-de53633dbf4e",
   "metadata": {
    "execution": {
     "iopub.execute_input": "2023-03-04T09:24:01.961895Z",
     "iopub.status.busy": "2023-03-04T09:24:01.961537Z",
     "iopub.status.idle": "2023-03-04T09:24:31.383429Z",
     "shell.execute_reply": "2023-03-04T09:24:31.382746Z",
     "shell.execute_reply.started": "2023-03-04T09:24:01.961859Z"
    },
    "tags": []
   },
   "outputs": [
    {
     "data": {
      "application/vnd.jupyter.widget-view+json": {
       "model_id": "",
       "version_major": 2,
       "version_minor": 0
      },
      "text/plain": [
       "FloatProgress(value=0.0, bar_style='info', description='Progress:', layout=Layout(height='25px', width='50%'),…"
      ]
     },
     "metadata": {},
     "output_type": "display_data"
    },
    {
     "data": {
      "text/html": [
       "<style>.jp-OutputArea-child .jupyter-widgets.jp-OutputArea-output { overflow: auto; }</style>"
      ],
      "text/plain": [
       "<IPython.core.display.HTML object>"
      ]
     },
     "metadata": {},
     "output_type": "display_data"
    },
    {
     "data": {
      "application/vnd.jupyter.widget-view+json": {
       "model_id": "48851609c3d5424e8e28672a13abf556",
       "version_major": 2,
       "version_minor": 0
      },
      "text/plain": [
       "VBox(children=(HBox(), EncodingWidget(children=(VBox(children=(HTML(value='Encoding:'), Dropdown(description='…"
      ]
     },
     "metadata": {},
     "output_type": "display_data"
    },
    {
     "data": {
      "application/vnd.jupyter.widget-view+json": {
       "model_id": "88a049baf84b44d2b6d8d0553f5135ab",
       "version_major": 2,
       "version_minor": 0
      },
      "text/plain": [
       "Output()"
      ]
     },
     "metadata": {},
     "output_type": "display_data"
    }
   ],
   "source": [
    "%%sql\n",
    "insert into \n",
    "    ${TABLE_NAME}\n",
    "select \n",
    "    review_id, \n",
    "    star_rating, \n",
    "    review_body, \n",
    "    review_date, \n",
    "    year,\n",
    "    unix_timestamp(current_timestamp()) as timestamp,\n",
    "    mod(crc32(review_id), 2) as parity\n",
    "from\n",
    "    reviews\n",
    "where\n",
    "    year = 1999"
   ]
  },
  {
   "cell_type": "code",
   "execution_count": 29,
   "id": "d8879b18-34e8-482f-8710-8776505e6f62",
   "metadata": {
    "execution": {
     "iopub.execute_input": "2023-03-04T09:24:31.384785Z",
     "iopub.status.busy": "2023-03-04T09:24:31.384522Z",
     "iopub.status.idle": "2023-03-04T09:25:00.274260Z",
     "shell.execute_reply": "2023-03-04T09:25:00.273345Z",
     "shell.execute_reply.started": "2023-03-04T09:24:31.384761Z"
    },
    "tags": []
   },
   "outputs": [
    {
     "name": "stdout",
     "output_type": "stream",
     "text": [
      "\n",
      "[ TIMELINE ]\n",
      "\n",
      "╔═════╤═══════════════════╤═════════════╤═══════════╤═════════════╤═════════════╤═════════════╗\n",
      "║ No. │ Instant           │ Action      │ State     │ Requested   │ Inflight    │ Completed   ║\n",
      "║     │                   │             │           │ Time        │ Time        │ Time        ║\n",
      "╠═════╪═══════════════════╪═════════════╪═══════════╪═════════════╪═════════════╪═════════════╣\n",
      "║ 0   │ 20230304092402455 │ deltacommit │ COMPLETED │ 03-04 09:24 │ 03-04 09:24 │ 03-04 09:24 ║\n",
      "╚═════╧═══════════════════╧═════════════╧═══════════╧═════════════╧═════════════╧═════════════╝\n",
      "\n",
      "[ COMMITS ]\n",
      "\n",
      "╔═══════════════════╤═════════════════════╤═══════════════════╤═════════════════════╤══════════════════════════╤═══════════════════════╤══════════════════════════════╤══════════════╗\n",
      "║ CommitTime        │ Total Bytes Written │ Total Files Added │ Total Files Updated │ Total Partitions Written │ Total Records Written │ Total Update Records Written │ Total Errors ║\n",
      "╠═══════════════════╪═════════════════════╪═══════════════════╪═════════════════════╪══════════════════════════╪═══════════════════════╪══════════════════════════════╪══════════════╣\n",
      "║ 20230304092402455 │ 81.3 MB             │ 2                 │ 0                   │ 2                        │ 484469                │ 0                            │ 0            ║\n",
      "╚═══════════════════╧═════════════════════╧═══════════════════╧═════════════════════╧══════════════════════════╧═══════════════════════╧══════════════════════════════╧══════════════╝\n",
      "\n",
      "[ COMPACTIONS ]\n",
      "\n",
      "╔═════════════════════════╤═══════╤═══════════════════════════════╗\n",
      "║ Compaction Instant Time │ State │ Total FileIds to be Compacted ║\n",
      "╠═════════════════════════╧═══════╧═══════════════════════════════╣\n",
      "║ (empty)                                                         ║\n",
      "╚═════════════════════════════════════════════════════════════════╝\n",
      "\n",
      "[ STORAGE ]\n",
      "\n",
      "/home/emr-notebook/reviews_mor_simple_2\n",
      "├── [ 41M 09:25:00]  parity=0\n",
      "│   └── [ 41M 09:24:22]  7de0e7c1-0d04-4658-9f95-f8a859d63d77-0_0-208-744_20230304092402455.parquet\n",
      "└── [ 41M 09:25:00]  parity=1\n",
      "    └── [ 41M 09:24:22]  6ae1335d-cab8-4e14-bb07-1c0c0cefad46-0_1-208-745_20230304092402455.parquet\n",
      "\n",
      "  81M used in 2 directories, 2 files\n"
     ]
    }
   ],
   "source": [
    "%%sh\n",
    "~/hudi-stat.sh $TABLE_PATH timeline commits compactions storage"
   ]
  },
  {
   "cell_type": "markdown",
   "id": "c37c027f-e63b-4387-9cf8-06eabd9055fe",
   "metadata": {
    "tags": []
   },
   "source": [
    "### 3.3. Batch 2 - Update"
   ]
  },
  {
   "cell_type": "code",
   "execution_count": 30,
   "id": "63a21ca1-826c-4201-9da0-66e7d2ee81ba",
   "metadata": {
    "execution": {
     "iopub.execute_input": "2023-03-04T09:25:00.276320Z",
     "iopub.status.busy": "2023-03-04T09:25:00.275909Z",
     "iopub.status.idle": "2023-03-04T09:25:15.666190Z",
     "shell.execute_reply": "2023-03-04T09:25:15.665045Z",
     "shell.execute_reply.started": "2023-03-04T09:25:00.276280Z"
    },
    "tags": []
   },
   "outputs": [
    {
     "data": {
      "application/vnd.jupyter.widget-view+json": {
       "model_id": "",
       "version_major": 2,
       "version_minor": 0
      },
      "text/plain": [
       "FloatProgress(value=0.0, bar_style='info', description='Progress:', layout=Layout(height='25px', width='50%'),…"
      ]
     },
     "metadata": {},
     "output_type": "display_data"
    },
    {
     "data": {
      "text/html": [
       "<style>.jp-OutputArea-child .jupyter-widgets.jp-OutputArea-output { overflow: auto; }</style>"
      ],
      "text/plain": [
       "<IPython.core.display.HTML object>"
      ]
     },
     "metadata": {},
     "output_type": "display_data"
    },
    {
     "data": {
      "application/vnd.jupyter.widget-view+json": {
       "model_id": "7f40e4d3a17548369bbf8a837892633f",
       "version_major": 2,
       "version_minor": 0
      },
      "text/plain": [
       "VBox(children=(HBox(), EncodingWidget(children=(VBox(children=(HTML(value='Encoding:'), Dropdown(description='…"
      ]
     },
     "metadata": {},
     "output_type": "display_data"
    },
    {
     "data": {
      "application/vnd.jupyter.widget-view+json": {
       "model_id": "5939cf9a254641448bc34e46c22300a9",
       "version_major": 2,
       "version_minor": 0
      },
      "text/plain": [
       "Output()"
      ]
     },
     "metadata": {},
     "output_type": "display_data"
    }
   ],
   "source": [
    "%%sql\n",
    "-- 更新1999-01-01的评价\n",
    "update\n",
    "    ${TABLE_NAME}\n",
    "set             \n",
    "    review_body = concat(uuid(),uuid(),uuid(),uuid(),uuid(),uuid(),uuid(),uuid(),uuid(),uuid()),\n",
    "    timestamp = unix_timestamp(current_timestamp())\n",
    "where\n",
    "    review_date = '1999-01-01'\n",
    ";"
   ]
  },
  {
   "cell_type": "code",
   "execution_count": 31,
   "id": "8d6b87be-cbe8-4d32-aaa5-79903d878180",
   "metadata": {
    "execution": {
     "iopub.execute_input": "2023-03-04T09:25:15.667611Z",
     "iopub.status.busy": "2023-03-04T09:25:15.667221Z",
     "iopub.status.idle": "2023-03-04T09:25:44.394186Z",
     "shell.execute_reply": "2023-03-04T09:25:44.393052Z",
     "shell.execute_reply.started": "2023-03-04T09:25:15.667575Z"
    },
    "tags": []
   },
   "outputs": [
    {
     "name": "stdout",
     "output_type": "stream",
     "text": [
      "\n",
      "[ TIMELINE ]\n",
      "\n",
      "╔═════╤═══════════════════╤═════════════╤═══════════╤═════════════╤═════════════╤═════════════╗\n",
      "║ No. │ Instant           │ Action      │ State     │ Requested   │ Inflight    │ Completed   ║\n",
      "║     │                   │             │           │ Time        │ Time        │ Time        ║\n",
      "╠═════╪═══════════════════╪═════════════╪═══════════╪═════════════╪═════════════╪═════════════╣\n",
      "║ 0   │ 20230304092402455 │ deltacommit │ COMPLETED │ 03-04 09:24 │ 03-04 09:24 │ 03-04 09:24 ║\n",
      "╟─────┼───────────────────┼─────────────┼───────────┼─────────────┼─────────────┼─────────────╢\n",
      "║ 1   │ 20230304092500900 │ deltacommit │ COMPLETED │ 03-04 09:25 │ 03-04 09:25 │ 03-04 09:25 ║\n",
      "╚═════╧═══════════════════╧═════════════╧═══════════╧═════════════╧═════════════╧═════════════╝\n",
      "\n",
      "[ COMMITS ]\n",
      "\n",
      "╔═══════════════════╤═════════════════════╤═══════════════════╤═════════════════════╤══════════════════════════╤═══════════════════════╤══════════════════════════════╤══════════════╗\n",
      "║ CommitTime        │ Total Bytes Written │ Total Files Added │ Total Files Updated │ Total Partitions Written │ Total Records Written │ Total Update Records Written │ Total Errors ║\n",
      "╠═══════════════════╪═════════════════════╪═══════════════════╪═════════════════════╪══════════════════════════╪═══════════════════════╪══════════════════════════════╪══════════════╣\n",
      "║ 20230304092500900 │ 382.0 KB            │ 0                 │ 2                   │ 2                        │ 701                   │ 701                          │ 0            ║\n",
      "╟───────────────────┼─────────────────────┼───────────────────┼─────────────────────┼──────────────────────────┼───────────────────────┼──────────────────────────────┼──────────────╢\n",
      "║ 20230304092402455 │ 81.3 MB             │ 2                 │ 0                   │ 2                        │ 484469                │ 0                            │ 0            ║\n",
      "╚═══════════════════╧═════════════════════╧═══════════════════╧═════════════════════╧══════════════════════════╧═══════════════════════╧══════════════════════════════╧══════════════╝\n",
      "\n",
      "[ COMPACTIONS ]\n",
      "\n",
      "╔═════════════════════════╤═══════╤═══════════════════════════════╗\n",
      "║ Compaction Instant Time │ State │ Total FileIds to be Compacted ║\n",
      "╠═════════════════════════╧═══════╧═══════════════════════════════╣\n",
      "║ (empty)                                                         ║\n",
      "╚═════════════════════════════════════════════════════════════════╝\n",
      "\n",
      "[ STORAGE ]\n",
      "\n",
      "/home/emr-notebook/reviews_mor_simple_2\n",
      "├── [ 41M 09:25:44]  parity=0\n",
      "│   ├── [198K 09:25:08]  .7de0e7c1-0d04-4658-9f95-f8a859d63d77-0_20230304092402455.log.1_0-256-805\n",
      "│   └── [ 41M 09:24:22]  7de0e7c1-0d04-4658-9f95-f8a859d63d77-0_0-208-744_20230304092402455.parquet\n",
      "└── [ 41M 09:25:44]  parity=1\n",
      "    ├── [184K 09:25:08]  .6ae1335d-cab8-4e14-bb07-1c0c0cefad46-0_20230304092402455.log.1_1-256-806\n",
      "    └── [ 41M 09:24:22]  6ae1335d-cab8-4e14-bb07-1c0c0cefad46-0_1-208-745_20230304092402455.parquet\n",
      "\n",
      "  82M used in 2 directories, 4 files\n"
     ]
    }
   ],
   "source": [
    "%%sh\n",
    "~/hudi-stat.sh $TABLE_PATH timeline commits compactions storage"
   ]
  },
  {
   "cell_type": "markdown",
   "id": "bfa29f8c-33f3-4a74-b9e1-2ef66f5d7019",
   "metadata": {
    "tags": []
   },
   "source": [
    "### 3.4. Batch 3 - Update"
   ]
  },
  {
   "cell_type": "code",
   "execution_count": 32,
   "id": "cf852ac7-29b4-4b05-8cdc-4d8f41f801d5",
   "metadata": {
    "execution": {
     "iopub.execute_input": "2023-03-04T09:25:44.395908Z",
     "iopub.status.busy": "2023-03-04T09:25:44.395493Z",
     "iopub.status.idle": "2023-03-04T09:26:03.789694Z",
     "shell.execute_reply": "2023-03-04T09:26:03.788789Z",
     "shell.execute_reply.started": "2023-03-04T09:25:44.395869Z"
    },
    "tags": []
   },
   "outputs": [
    {
     "data": {
      "application/vnd.jupyter.widget-view+json": {
       "model_id": "",
       "version_major": 2,
       "version_minor": 0
      },
      "text/plain": [
       "FloatProgress(value=0.0, bar_style='info', description='Progress:', layout=Layout(height='25px', width='50%'),…"
      ]
     },
     "metadata": {},
     "output_type": "display_data"
    },
    {
     "data": {
      "text/html": [
       "<style>.jp-OutputArea-child .jupyter-widgets.jp-OutputArea-output { overflow: auto; }</style>"
      ],
      "text/plain": [
       "<IPython.core.display.HTML object>"
      ]
     },
     "metadata": {},
     "output_type": "display_data"
    },
    {
     "data": {
      "application/vnd.jupyter.widget-view+json": {
       "model_id": "b4fc152a109344329037342f89a76fad",
       "version_major": 2,
       "version_minor": 0
      },
      "text/plain": [
       "VBox(children=(HBox(), EncodingWidget(children=(VBox(children=(HTML(value='Encoding:'), Dropdown(description='…"
      ]
     },
     "metadata": {},
     "output_type": "display_data"
    },
    {
     "data": {
      "application/vnd.jupyter.widget-view+json": {
       "model_id": "5c98fb5d443b4b29b1adecf2e920fbfe",
       "version_major": 2,
       "version_minor": 0
      },
      "text/plain": [
       "Output()"
      ]
     },
     "metadata": {},
     "output_type": "display_data"
    }
   ],
   "source": [
    "%%sql\n",
    "-- 更新1999-01-02的评价\n",
    "update\n",
    "    ${TABLE_NAME}\n",
    "set             \n",
    "    review_body = concat(uuid(),uuid(),uuid(),uuid(),uuid(),uuid(),uuid(),uuid(),uuid(),uuid()),\n",
    "    timestamp = unix_timestamp(current_timestamp())\n",
    "where\n",
    "    review_date = '1999-01-02'\n",
    ";"
   ]
  },
  {
   "cell_type": "code",
   "execution_count": 33,
   "id": "a2559fa0-3dd1-46fe-bd5f-40373e76f347",
   "metadata": {
    "execution": {
     "iopub.execute_input": "2023-03-04T09:26:03.790932Z",
     "iopub.status.busy": "2023-03-04T09:26:03.790704Z",
     "iopub.status.idle": "2023-03-04T09:26:31.882405Z",
     "shell.execute_reply": "2023-03-04T09:26:31.881550Z",
     "shell.execute_reply.started": "2023-03-04T09:26:03.790911Z"
    },
    "tags": []
   },
   "outputs": [
    {
     "name": "stdout",
     "output_type": "stream",
     "text": [
      "\n",
      "[ TIMELINE ]\n",
      "\n",
      "╔═════╤═══════════════════╤═════════════╤═══════════╤═════════════╤═════════════╤═════════════╗\n",
      "║ No. │ Instant           │ Action      │ State     │ Requested   │ Inflight    │ Completed   ║\n",
      "║     │                   │             │           │ Time        │ Time        │ Time        ║\n",
      "╠═════╪═══════════════════╪═════════════╪═══════════╪═════════════╪═════════════╪═════════════╣\n",
      "║ 0   │ 20230304092402455 │ deltacommit │ COMPLETED │ 03-04 09:24 │ 03-04 09:24 │ 03-04 09:24 ║\n",
      "╟─────┼───────────────────┼─────────────┼───────────┼─────────────┼─────────────┼─────────────╢\n",
      "║ 1   │ 20230304092500900 │ deltacommit │ COMPLETED │ 03-04 09:25 │ 03-04 09:25 │ 03-04 09:25 ║\n",
      "╟─────┼───────────────────┼─────────────┼───────────┼─────────────┼─────────────┼─────────────╢\n",
      "║ 2   │ 20230304092545066 │ deltacommit │ COMPLETED │ 03-04 09:25 │ 03-04 09:25 │ 03-04 09:25 ║\n",
      "╟─────┼───────────────────┼─────────────┼───────────┼─────────────┼─────────────┼─────────────╢\n",
      "║ 3   │ 20230304092557623 │ compaction  │ REQUESTED │ 03-04 09:26 │ -           │ -           ║\n",
      "╚═════╧═══════════════════╧═════════════╧═══════════╧═════════════╧═════════════╧═════════════╝\n",
      "\n",
      "[ COMMITS ]\n",
      "\n",
      "╔═══════════════════╤═════════════════════╤═══════════════════╤═════════════════════╤══════════════════════════╤═══════════════════════╤══════════════════════════════╤══════════════╗\n",
      "║ CommitTime        │ Total Bytes Written │ Total Files Added │ Total Files Updated │ Total Partitions Written │ Total Records Written │ Total Update Records Written │ Total Errors ║\n",
      "╠═══════════════════╪═════════════════════╪═══════════════════╪═════════════════════╪══════════════════════════╪═══════════════════════╪══════════════════════════════╪══════════════╣\n",
      "║ 20230304092545066 │ 503.9 KB            │ 0                 │ 2                   │ 2                        │ 926                   │ 926                          │ 0            ║\n",
      "╟───────────────────┼─────────────────────┼───────────────────┼─────────────────────┼──────────────────────────┼───────────────────────┼──────────────────────────────┼──────────────╢\n",
      "║ 20230304092500900 │ 382.0 KB            │ 0                 │ 2                   │ 2                        │ 701                   │ 701                          │ 0            ║\n",
      "╟───────────────────┼─────────────────────┼───────────────────┼─────────────────────┼──────────────────────────┼───────────────────────┼──────────────────────────────┼──────────────╢\n",
      "║ 20230304092402455 │ 81.3 MB             │ 2                 │ 0                   │ 2                        │ 484469                │ 0                            │ 0            ║\n",
      "╚═══════════════════╧═════════════════════╧═══════════════════╧═════════════════════╧══════════════════════════╧═══════════════════════╧══════════════════════════════╧══════════════╝\n",
      "\n",
      "[ COMPACTIONS ]\n",
      "\n",
      "╔═════════════════════════╤═══════════╤═══════════════════════════════╗\n",
      "║ Compaction Instant Time │ State     │ Total FileIds to be Compacted ║\n",
      "╠═════════════════════════╪═══════════╪═══════════════════════════════╣\n",
      "║ 20230304092557623       │ REQUESTED │ 2                             ║\n",
      "╚═════════════════════════╧═══════════╧═══════════════════════════════╝\n",
      "\n",
      "[ STORAGE ]\n",
      "\n",
      "/home/emr-notebook/reviews_mor_simple_2\n",
      "├── [ 41M 09:26:31]  parity=0\n",
      "│   ├── [198K 09:25:08]  .7de0e7c1-0d04-4658-9f95-f8a859d63d77-0_20230304092402455.log.1_0-256-805\n",
      "│   ├── [253K 09:25:52]  .7de0e7c1-0d04-4658-9f95-f8a859d63d77-0_20230304092402455.log.2_0-304-866\n",
      "│   └── [ 41M 09:24:22]  7de0e7c1-0d04-4658-9f95-f8a859d63d77-0_0-208-744_20230304092402455.parquet\n",
      "└── [ 41M 09:26:31]  parity=1\n",
      "    ├── [184K 09:25:08]  .6ae1335d-cab8-4e14-bb07-1c0c0cefad46-0_20230304092402455.log.1_1-256-806\n",
      "    ├── [251K 09:25:52]  .6ae1335d-cab8-4e14-bb07-1c0c0cefad46-0_20230304092402455.log.2_1-304-867\n",
      "    └── [ 41M 09:24:22]  6ae1335d-cab8-4e14-bb07-1c0c0cefad46-0_1-208-745_20230304092402455.parquet\n",
      "\n",
      "  82M used in 2 directories, 6 files\n"
     ]
    }
   ],
   "source": [
    "%%sh\n",
    "~/hudi-stat.sh $TABLE_PATH timeline commits compactions storage"
   ]
  },
  {
   "cell_type": "markdown",
   "id": "45092c79-c89c-4643-9c53-3ec8ff7e5d23",
   "metadata": {},
   "source": [
    "### 3.5. Async Execute Compaction"
   ]
  },
  {
   "cell_type": "code",
   "execution_count": 34,
   "id": "f4c2102e-7d4a-4395-9538-d73d2d0686ec",
   "metadata": {
    "execution": {
     "iopub.execute_input": "2023-03-04T09:26:31.883935Z",
     "iopub.status.busy": "2023-03-04T09:26:31.883681Z",
     "iopub.status.idle": "2023-03-04T09:27:12.920041Z",
     "shell.execute_reply": "2023-03-04T09:27:12.917917Z",
     "shell.execute_reply.started": "2023-03-04T09:26:31.883911Z"
    },
    "tags": []
   },
   "outputs": [],
   "source": [
    "%%sh\n",
    "# it's required for current user (emr-notebook) to get sudo permission\n",
    "sudo -u hadoop spark-submit \\\n",
    "  --jars '/usr/lib/hudi/hudi-spark-bundle.jar' \\\n",
    "  --class \"org.apache.hudi.utilities.HoodieCompactor\" \\\n",
    "  /usr/lib/hudi/hudi-utilities-bundle.jar \\\n",
    "  --spark-memory '4g' \\\n",
    "  --mode 'execute' \\\n",
    "  --base-path \"$TABLE_PATH\" \\\n",
    "  --table-name \"$TABLE_NAME\" > ~/${TABLE_NAME}.compaction.execute.out &>/dev/null"
   ]
  },
  {
   "cell_type": "code",
   "execution_count": 35,
   "id": "83d7b6c0-930f-4410-9643-20d9b9a01b63",
   "metadata": {
    "execution": {
     "iopub.execute_input": "2023-03-04T09:27:12.921647Z",
     "iopub.status.busy": "2023-03-04T09:27:12.921297Z",
     "iopub.status.idle": "2023-03-04T09:27:40.532683Z",
     "shell.execute_reply": "2023-03-04T09:27:40.531463Z",
     "shell.execute_reply.started": "2023-03-04T09:27:12.921607Z"
    },
    "tags": []
   },
   "outputs": [
    {
     "name": "stdout",
     "output_type": "stream",
     "text": [
      "\n",
      "[ TIMELINE ]\n",
      "\n",
      "╔═════╤═══════════════════╤═════════════╤═══════════╤═════════════╤═════════════╤═════════════╗\n",
      "║ No. │ Instant           │ Action      │ State     │ Requested   │ Inflight    │ Completed   ║\n",
      "║     │                   │             │           │ Time        │ Time        │ Time        ║\n",
      "╠═════╪═══════════════════╪═════════════╪═══════════╪═════════════╪═════════════╪═════════════╣\n",
      "║ 0   │ 20230304092402455 │ deltacommit │ COMPLETED │ 03-04 09:24 │ 03-04 09:24 │ 03-04 09:24 ║\n",
      "╟─────┼───────────────────┼─────────────┼───────────┼─────────────┼─────────────┼─────────────╢\n",
      "║ 1   │ 20230304092500900 │ deltacommit │ COMPLETED │ 03-04 09:25 │ 03-04 09:25 │ 03-04 09:25 ║\n",
      "╟─────┼───────────────────┼─────────────┼───────────┼─────────────┼─────────────┼─────────────╢\n",
      "║ 2   │ 20230304092545066 │ deltacommit │ COMPLETED │ 03-04 09:25 │ 03-04 09:25 │ 03-04 09:25 ║\n",
      "╟─────┼───────────────────┼─────────────┼───────────┼─────────────┼─────────────┼─────────────╢\n",
      "║ 3   │ 20230304092557623 │ commit      │ COMPLETED │ 03-04 09:26 │ 03-04 09:26 │ 03-04 09:27 ║\n",
      "╚═════╧═══════════════════╧═════════════╧═══════════╧═════════════╧═════════════╧═════════════╝\n",
      "\n",
      "[ COMMITS ]\n",
      "\n",
      "╔═══════════════════╤═════════════════════╤═══════════════════╤═════════════════════╤══════════════════════════╤═══════════════════════╤══════════════════════════════╤══════════════╗\n",
      "║ CommitTime        │ Total Bytes Written │ Total Files Added │ Total Files Updated │ Total Partitions Written │ Total Records Written │ Total Update Records Written │ Total Errors ║\n",
      "╠═══════════════════╪═════════════════════╪═══════════════════╪═════════════════════╪══════════════════════════╪═══════════════════════╪══════════════════════════════╪══════════════╣\n",
      "║ 20230304092557623 │ 81.5 MB             │ 0                 │ 2                   │ 2                        │ 484469                │ 1627                         │ 0            ║\n",
      "╟───────────────────┼─────────────────────┼───────────────────┼─────────────────────┼──────────────────────────┼───────────────────────┼──────────────────────────────┼──────────────╢\n",
      "║ 20230304092545066 │ 503.9 KB            │ 0                 │ 2                   │ 2                        │ 926                   │ 926                          │ 0            ║\n",
      "╟───────────────────┼─────────────────────┼───────────────────┼─────────────────────┼──────────────────────────┼───────────────────────┼──────────────────────────────┼──────────────╢\n",
      "║ 20230304092500900 │ 382.0 KB            │ 0                 │ 2                   │ 2                        │ 701                   │ 701                          │ 0            ║\n",
      "╟───────────────────┼─────────────────────┼───────────────────┼─────────────────────┼──────────────────────────┼───────────────────────┼──────────────────────────────┼──────────────╢\n",
      "║ 20230304092402455 │ 81.3 MB             │ 2                 │ 0                   │ 2                        │ 484469                │ 0                            │ 0            ║\n",
      "╚═══════════════════╧═════════════════════╧═══════════════════╧═════════════════════╧══════════════════════════╧═══════════════════════╧══════════════════════════════╧══════════════╝\n",
      "\n",
      "[ COMPACTIONS ]\n",
      "\n",
      "╔═════════════════════════╤═══════════╤═══════════════════════════════╗\n",
      "║ Compaction Instant Time │ State     │ Total FileIds to be Compacted ║\n",
      "╠═════════════════════════╪═══════════╪═══════════════════════════════╣\n",
      "║ 20230304092557623       │ COMPLETED │ 2                             ║\n",
      "╚═════════════════════════╧═══════════╧═══════════════════════════════╝\n",
      "\n",
      "[ STORAGE ]\n",
      "\n",
      "/home/emr-notebook/reviews_mor_simple_2\n",
      "├── [ 82M 09:27:40]  parity=0\n",
      "│   ├── [198K 09:25:08]  .7de0e7c1-0d04-4658-9f95-f8a859d63d77-0_20230304092402455.log.1_0-256-805\n",
      "│   ├── [253K 09:25:52]  .7de0e7c1-0d04-4658-9f95-f8a859d63d77-0_20230304092402455.log.2_0-304-866\n",
      "│   ├── [ 41M 09:27:06]  7de0e7c1-0d04-4658-9f95-f8a859d63d77-0_0-0-0_20230304092557623.parquet\n",
      "│   └── [ 41M 09:24:22]  7de0e7c1-0d04-4658-9f95-f8a859d63d77-0_0-208-744_20230304092402455.parquet\n",
      "└── [ 82M 09:27:40]  parity=1\n",
      "    ├── [184K 09:25:08]  .6ae1335d-cab8-4e14-bb07-1c0c0cefad46-0_20230304092402455.log.1_1-256-806\n",
      "    ├── [251K 09:25:52]  .6ae1335d-cab8-4e14-bb07-1c0c0cefad46-0_20230304092402455.log.2_1-304-867\n",
      "    ├── [ 41M 09:27:06]  6ae1335d-cab8-4e14-bb07-1c0c0cefad46-0_1-0-1_20230304092557623.parquet\n",
      "    └── [ 41M 09:24:22]  6ae1335d-cab8-4e14-bb07-1c0c0cefad46-0_1-208-745_20230304092402455.parquet\n",
      "\n",
      " 164M used in 2 directories, 8 files\n"
     ]
    }
   ],
   "source": [
    "%%sh\n",
    "~/hudi-stat.sh $TABLE_PATH timeline commits compactions storage"
   ]
  },
  {
   "cell_type": "markdown",
   "id": "0d75e921-d7ed-47c7-b9c1-1eb983e82f70",
   "metadata": {
    "tags": []
   },
   "source": [
    "## 4. Async Compaction: Offline Schedule + Offline Execute"
   ]
  },
  {
   "cell_type": "markdown",
   "id": "ac42cf25-8fd3-4c72-88d6-0153b34cf0de",
   "metadata": {
    "tags": []
   },
   "source": [
    "### 4.1. Create Table"
   ]
  },
  {
   "cell_type": "code",
   "execution_count": 36,
   "id": "55e7ce24-2737-4446-94b6-51abc95c7eb0",
   "metadata": {
    "execution": {
     "iopub.execute_input": "2023-03-04T09:27:40.535718Z",
     "iopub.status.busy": "2023-03-04T09:27:40.535338Z",
     "iopub.status.idle": "2023-03-04T09:27:48.043084Z",
     "shell.execute_reply": "2023-03-04T09:27:48.042149Z",
     "shell.execute_reply.started": "2023-03-04T09:27:40.535677Z"
    },
    "tags": []
   },
   "outputs": [
    {
     "data": {
      "application/vnd.jupyter.widget-view+json": {
       "model_id": "",
       "version_major": 2,
       "version_minor": 0
      },
      "text/plain": [
       "FloatProgress(value=0.0, bar_style='info', description='Progress:', layout=Layout(height='25px', width='50%'),…"
      ]
     },
     "metadata": {},
     "output_type": "display_data"
    },
    {
     "data": {
      "text/html": [
       "<style>.jp-OutputArea-child .jupyter-widgets.jp-OutputArea-output { overflow: auto; }</style>"
      ],
      "text/plain": [
       "<IPython.core.display.HTML object>"
      ]
     },
     "metadata": {},
     "output_type": "display_data"
    },
    {
     "data": {
      "application/vnd.jupyter.widget-view+json": {
       "model_id": "9b1276c88b25442e9504c5f8e38adcd3",
       "version_major": 2,
       "version_minor": 0
      },
      "text/plain": [
       "VBox(children=(HBox(children=(HTML(value='Type:'), Button(description='Table', layout=Layout(width='70px'), st…"
      ]
     },
     "metadata": {},
     "output_type": "display_data"
    },
    {
     "data": {
      "application/vnd.jupyter.widget-view+json": {
       "model_id": "68535b20f79049bcb6ec48071c1dc5c3",
       "version_major": 2,
       "version_minor": 0
      },
      "text/plain": [
       "Output()"
      ]
     },
     "metadata": {},
     "output_type": "display_data"
    }
   ],
   "source": [
    "%%sql\n",
    "set TABLE_NAME=reviews_mor_simple_3"
   ]
  },
  {
   "cell_type": "code",
   "execution_count": 37,
   "id": "df095b43-9ef3-49a2-b718-170429c36089",
   "metadata": {
    "execution": {
     "iopub.execute_input": "2023-03-04T09:27:48.044928Z",
     "iopub.status.busy": "2023-03-04T09:27:48.044592Z",
     "iopub.status.idle": "2023-03-04T09:27:49.064176Z",
     "shell.execute_reply": "2023-03-04T09:27:49.063179Z",
     "shell.execute_reply.started": "2023-03-04T09:27:48.044893Z"
    },
    "tags": []
   },
   "outputs": [
    {
     "data": {
      "application/vnd.jupyter.widget-view+json": {
       "model_id": "",
       "version_major": 2,
       "version_minor": 0
      },
      "text/plain": [
       "FloatProgress(value=0.0, bar_style='info', description='Progress:', layout=Layout(height='25px', width='50%'),…"
      ]
     },
     "metadata": {},
     "output_type": "display_data"
    },
    {
     "data": {
      "text/html": [
       "<style>.jp-OutputArea-child .jupyter-widgets.jp-OutputArea-output { overflow: auto; }</style>"
      ],
      "text/plain": [
       "<IPython.core.display.HTML object>"
      ]
     },
     "metadata": {},
     "output_type": "display_data"
    },
    {
     "data": {
      "application/vnd.jupyter.widget-view+json": {
       "model_id": "0ea333b520944f83a976ef8de4072dc2",
       "version_major": 2,
       "version_minor": 0
      },
      "text/plain": [
       "VBox(children=(HBox(children=(HTML(value='Type:'), Button(description='Table', layout=Layout(width='70px'), st…"
      ]
     },
     "metadata": {},
     "output_type": "display_data"
    },
    {
     "data": {
      "application/vnd.jupyter.widget-view+json": {
       "model_id": "375ff3163ac243f995a12a89673d4569",
       "version_major": 2,
       "version_minor": 0
      },
      "text/plain": [
       "Output()"
      ]
     },
     "metadata": {},
     "output_type": "display_data"
    }
   ],
   "source": [
    "%%sql\n",
    "set TABLE_PATH=s3://glc-examples/hudi-core-conceptions/reviews_mor_simple_3"
   ]
  },
  {
   "cell_type": "code",
   "execution_count": 38,
   "id": "aa987e9d-b73f-4dd9-b93e-9b7b988a3ceb",
   "metadata": {
    "execution": {
     "iopub.execute_input": "2023-03-04T09:27:49.066189Z",
     "iopub.status.busy": "2023-03-04T09:27:49.065584Z",
     "iopub.status.idle": "2023-03-04T09:27:49.074493Z",
     "shell.execute_reply": "2023-03-04T09:27:49.073579Z",
     "shell.execute_reply.started": "2023-03-04T09:27:49.066151Z"
    },
    "tags": []
   },
   "outputs": [
    {
     "name": "stdout",
     "output_type": "stream",
     "text": [
      "env: TABLE_NAME=reviews_mor_simple_3\n"
     ]
    }
   ],
   "source": [
    "%env TABLE_NAME=reviews_mor_simple_3"
   ]
  },
  {
   "cell_type": "code",
   "execution_count": 39,
   "id": "b730461d-8115-4b28-9cc8-cc237a7e1ff3",
   "metadata": {
    "execution": {
     "iopub.execute_input": "2023-03-04T09:27:49.076433Z",
     "iopub.status.busy": "2023-03-04T09:27:49.075834Z",
     "iopub.status.idle": "2023-03-04T09:27:49.081802Z",
     "shell.execute_reply": "2023-03-04T09:27:49.080854Z",
     "shell.execute_reply.started": "2023-03-04T09:27:49.076396Z"
    },
    "tags": []
   },
   "outputs": [
    {
     "name": "stdout",
     "output_type": "stream",
     "text": [
      "env: TABLE_PATH=s3://glc-examples/hudi-core-conceptions/reviews_mor_simple_3\n"
     ]
    }
   ],
   "source": [
    "%env TABLE_PATH=s3://glc-examples/hudi-core-conceptions/reviews_mor_simple_3"
   ]
  },
  {
   "cell_type": "code",
   "execution_count": 40,
   "id": "fe5da321-6ef0-4837-b4fb-c3e22c0d34cf",
   "metadata": {
    "execution": {
     "iopub.execute_input": "2023-03-04T09:27:49.083733Z",
     "iopub.status.busy": "2023-03-04T09:27:49.083125Z",
     "iopub.status.idle": "2023-03-04T09:27:53.261701Z",
     "shell.execute_reply": "2023-03-04T09:27:53.260773Z",
     "shell.execute_reply.started": "2023-03-04T09:27:49.083698Z"
    },
    "tags": []
   },
   "outputs": [
    {
     "name": "stdout",
     "output_type": "stream",
     "text": [
      "reviews_mor_simple_3\n"
     ]
    }
   ],
   "source": [
    "%%sh\n",
    "echo $(basename $TABLE_PATH)\n",
    "aws s3 rm $TABLE_PATH --recursive &>/dev/null\n",
    "rm -rf ~/${TABLE_NAME}\n",
    "sleep 3"
   ]
  },
  {
   "cell_type": "code",
   "execution_count": 41,
   "id": "3bbb4fc2-4aa0-46d4-9e6b-68ae62a5e024",
   "metadata": {
    "execution": {
     "iopub.execute_input": "2023-03-04T09:27:53.263250Z",
     "iopub.status.busy": "2023-03-04T09:27:53.262980Z",
     "iopub.status.idle": "2023-03-04T09:27:54.129355Z",
     "shell.execute_reply": "2023-03-04T09:27:54.128445Z",
     "shell.execute_reply.started": "2023-03-04T09:27:53.263225Z"
    },
    "tags": []
   },
   "outputs": [
    {
     "data": {
      "application/vnd.jupyter.widget-view+json": {
       "model_id": "",
       "version_major": 2,
       "version_minor": 0
      },
      "text/plain": [
       "FloatProgress(value=0.0, bar_style='info', description='Progress:', layout=Layout(height='25px', width='50%'),…"
      ]
     },
     "metadata": {},
     "output_type": "display_data"
    },
    {
     "data": {
      "text/html": [
       "<style>.jp-OutputArea-child .jupyter-widgets.jp-OutputArea-output { overflow: auto; }</style>"
      ],
      "text/plain": [
       "<IPython.core.display.HTML object>"
      ]
     },
     "metadata": {},
     "output_type": "display_data"
    },
    {
     "data": {
      "application/vnd.jupyter.widget-view+json": {
       "model_id": "d01b8c1387834bbc80fbc858b31361ca",
       "version_major": 2,
       "version_minor": 0
      },
      "text/plain": [
       "VBox(children=(HBox(), EncodingWidget(children=(VBox(children=(HTML(value='Encoding:'), Dropdown(description='…"
      ]
     },
     "metadata": {},
     "output_type": "display_data"
    },
    {
     "data": {
      "application/vnd.jupyter.widget-view+json": {
       "model_id": "7d3e7d7147d84db9ae42e54ffbd27928",
       "version_major": 2,
       "version_minor": 0
      },
      "text/plain": [
       "Output()"
      ]
     },
     "metadata": {},
     "output_type": "display_data"
    }
   ],
   "source": [
    "%%sql\n",
    "drop table if exists ${TABLE_NAME}"
   ]
  },
  {
   "cell_type": "code",
   "execution_count": 42,
   "id": "6f672ee0-33d8-49cc-9722-c664a6b42d42",
   "metadata": {
    "execution": {
     "iopub.execute_input": "2023-03-04T09:27:54.131341Z",
     "iopub.status.busy": "2023-03-04T09:27:54.130747Z",
     "iopub.status.idle": "2023-03-04T09:27:55.018147Z",
     "shell.execute_reply": "2023-03-04T09:27:55.017132Z",
     "shell.execute_reply.started": "2023-03-04T09:27:54.131302Z"
    },
    "tags": []
   },
   "outputs": [
    {
     "data": {
      "application/vnd.jupyter.widget-view+json": {
       "model_id": "",
       "version_major": 2,
       "version_minor": 0
      },
      "text/plain": [
       "FloatProgress(value=0.0, bar_style='info', description='Progress:', layout=Layout(height='25px', width='50%'),…"
      ]
     },
     "metadata": {},
     "output_type": "display_data"
    },
    {
     "data": {
      "text/html": [
       "<style>.jp-OutputArea-child .jupyter-widgets.jp-OutputArea-output { overflow: auto; }</style>"
      ],
      "text/plain": [
       "<IPython.core.display.HTML object>"
      ]
     },
     "metadata": {},
     "output_type": "display_data"
    },
    {
     "data": {
      "application/vnd.jupyter.widget-view+json": {
       "model_id": "4a12c3fa7b2e436da5da5beede50d51a",
       "version_major": 2,
       "version_minor": 0
      },
      "text/plain": [
       "VBox(children=(HBox(), EncodingWidget(children=(VBox(children=(HTML(value='Encoding:'), Dropdown(description='…"
      ]
     },
     "metadata": {},
     "output_type": "display_data"
    },
    {
     "data": {
      "application/vnd.jupyter.widget-view+json": {
       "model_id": "36490fc0c8c14c72bf89f758a517c763",
       "version_major": 2,
       "version_minor": 0
      },
      "text/plain": [
       "Output()"
      ]
     },
     "metadata": {},
     "output_type": "display_data"
    }
   ],
   "source": [
    "%%sql\n",
    "drop table if exists ${TABLE_NAME}_ro"
   ]
  },
  {
   "cell_type": "code",
   "execution_count": 43,
   "id": "45f5b4d7-78ef-4334-9250-fdbd28685547",
   "metadata": {
    "execution": {
     "iopub.execute_input": "2023-03-04T09:27:55.020158Z",
     "iopub.status.busy": "2023-03-04T09:27:55.019528Z",
     "iopub.status.idle": "2023-03-04T09:27:55.959458Z",
     "shell.execute_reply": "2023-03-04T09:27:55.958607Z",
     "shell.execute_reply.started": "2023-03-04T09:27:55.020117Z"
    },
    "tags": []
   },
   "outputs": [
    {
     "data": {
      "application/vnd.jupyter.widget-view+json": {
       "model_id": "",
       "version_major": 2,
       "version_minor": 0
      },
      "text/plain": [
       "FloatProgress(value=0.0, bar_style='info', description='Progress:', layout=Layout(height='25px', width='50%'),…"
      ]
     },
     "metadata": {},
     "output_type": "display_data"
    },
    {
     "data": {
      "text/html": [
       "<style>.jp-OutputArea-child .jupyter-widgets.jp-OutputArea-output { overflow: auto; }</style>"
      ],
      "text/plain": [
       "<IPython.core.display.HTML object>"
      ]
     },
     "metadata": {},
     "output_type": "display_data"
    },
    {
     "data": {
      "application/vnd.jupyter.widget-view+json": {
       "model_id": "017c09a2f25640ce8786e65adeaf9f07",
       "version_major": 2,
       "version_minor": 0
      },
      "text/plain": [
       "VBox(children=(HBox(), EncodingWidget(children=(VBox(children=(HTML(value='Encoding:'), Dropdown(description='…"
      ]
     },
     "metadata": {},
     "output_type": "display_data"
    },
    {
     "data": {
      "application/vnd.jupyter.widget-view+json": {
       "model_id": "a12aab7e21db4b2387891f524277e7cf",
       "version_major": 2,
       "version_minor": 0
      },
      "text/plain": [
       "Output()"
      ]
     },
     "metadata": {},
     "output_type": "display_data"
    }
   ],
   "source": [
    "%%sql\n",
    "drop table if exists ${TABLE_NAME}_rt"
   ]
  },
  {
   "cell_type": "code",
   "execution_count": 44,
   "id": "b270a64b-5b71-4593-855a-f627cf2e5da3",
   "metadata": {
    "execution": {
     "iopub.execute_input": "2023-03-04T09:27:55.961348Z",
     "iopub.status.busy": "2023-03-04T09:27:55.960792Z",
     "iopub.status.idle": "2023-03-04T09:27:58.311912Z",
     "shell.execute_reply": "2023-03-04T09:27:58.311203Z",
     "shell.execute_reply.started": "2023-03-04T09:27:55.961312Z"
    },
    "tags": []
   },
   "outputs": [
    {
     "data": {
      "application/vnd.jupyter.widget-view+json": {
       "model_id": "",
       "version_major": 2,
       "version_minor": 0
      },
      "text/plain": [
       "FloatProgress(value=0.0, bar_style='info', description='Progress:', layout=Layout(height='25px', width='50%'),…"
      ]
     },
     "metadata": {},
     "output_type": "display_data"
    },
    {
     "data": {
      "text/html": [
       "<style>.jp-OutputArea-child .jupyter-widgets.jp-OutputArea-output { overflow: auto; }</style>"
      ],
      "text/plain": [
       "<IPython.core.display.HTML object>"
      ]
     },
     "metadata": {},
     "output_type": "display_data"
    },
    {
     "data": {
      "application/vnd.jupyter.widget-view+json": {
       "model_id": "2718de67486041c89ee37804ef3d1a39",
       "version_major": 2,
       "version_minor": 0
      },
      "text/plain": [
       "VBox(children=(HBox(), EncodingWidget(children=(VBox(children=(HTML(value='Encoding:'), Dropdown(description='…"
      ]
     },
     "metadata": {},
     "output_type": "display_data"
    },
    {
     "data": {
      "application/vnd.jupyter.widget-view+json": {
       "model_id": "34902befe2ac4b76a8be8bb78e77ea1f",
       "version_major": 2,
       "version_minor": 0
      },
      "text/plain": [
       "Output()"
      ]
     },
     "metadata": {},
     "output_type": "display_data"
    }
   ],
   "source": [
    "%%sql\n",
    "create table if not exists ${TABLE_NAME} (\n",
    "    review_id string, \n",
    "    star_rating long, \n",
    "    review_body string, \n",
    "    review_date date, \n",
    "    year long,\n",
    "    timestamp long,\n",
    "    parity int\n",
    ")\n",
    "using hudi\n",
    "location '${TABLE_PATH}'\n",
    "partitioned by (parity)\n",
    "options ( \n",
    "    type = 'mor',  \n",
    "    primaryKey = 'review_id', \n",
    "    preCombineField = 'timestamp',\n",
    "    hoodie.copyonwrite.record.size.estimate = '175',\n",
    "    -- hoodie.compact.inline = 'false',\n",
    "    -- hoodie.compact.schedule.inline = 'false',\n",
    "    hoodie.logfile.max.size = '512000',\n",
    "    hoodie.compact.inline.max.delta.commits = '3'\n",
    ");"
   ]
  },
  {
   "cell_type": "markdown",
   "id": "e76f1b1b-1ff8-42a8-8845-8d9b1a5a5d0c",
   "metadata": {
    "tags": []
   },
   "source": [
    "### 4.2. Batch 1 - Insert"
   ]
  },
  {
   "cell_type": "code",
   "execution_count": 45,
   "id": "d059dd64-5473-4170-804c-865f2a905446",
   "metadata": {
    "execution": {
     "iopub.execute_input": "2023-03-04T09:27:58.313152Z",
     "iopub.status.busy": "2023-03-04T09:27:58.312917Z",
     "iopub.status.idle": "2023-03-04T09:28:43.823549Z",
     "shell.execute_reply": "2023-03-04T09:28:43.822657Z",
     "shell.execute_reply.started": "2023-03-04T09:27:58.313130Z"
    },
    "tags": []
   },
   "outputs": [
    {
     "data": {
      "application/vnd.jupyter.widget-view+json": {
       "model_id": "",
       "version_major": 2,
       "version_minor": 0
      },
      "text/plain": [
       "FloatProgress(value=0.0, bar_style='info', description='Progress:', layout=Layout(height='25px', width='50%'),…"
      ]
     },
     "metadata": {},
     "output_type": "display_data"
    },
    {
     "data": {
      "text/html": [
       "<style>.jp-OutputArea-child .jupyter-widgets.jp-OutputArea-output { overflow: auto; }</style>"
      ],
      "text/plain": [
       "<IPython.core.display.HTML object>"
      ]
     },
     "metadata": {},
     "output_type": "display_data"
    },
    {
     "data": {
      "application/vnd.jupyter.widget-view+json": {
       "model_id": "fc3539946d9b4fe7b66276d9de1afe67",
       "version_major": 2,
       "version_minor": 0
      },
      "text/plain": [
       "VBox(children=(HBox(), EncodingWidget(children=(VBox(children=(HTML(value='Encoding:'), Dropdown(description='…"
      ]
     },
     "metadata": {},
     "output_type": "display_data"
    },
    {
     "data": {
      "application/vnd.jupyter.widget-view+json": {
       "model_id": "f6fa1926e39947b088a2c3c6f47fe599",
       "version_major": 2,
       "version_minor": 0
      },
      "text/plain": [
       "Output()"
      ]
     },
     "metadata": {},
     "output_type": "display_data"
    }
   ],
   "source": [
    "%%sql\n",
    "insert into \n",
    "    ${TABLE_NAME}\n",
    "select \n",
    "    review_id, \n",
    "    star_rating, \n",
    "    review_body, \n",
    "    review_date, \n",
    "    year,\n",
    "    unix_timestamp(current_timestamp()) as timestamp,\n",
    "    mod(crc32(review_id), 2) as parity\n",
    "from\n",
    "    reviews\n",
    "where\n",
    "    year = 1999"
   ]
  },
  {
   "cell_type": "code",
   "execution_count": 46,
   "id": "f81f5f74-d832-449f-8dd2-27d241c08b27",
   "metadata": {
    "execution": {
     "iopub.execute_input": "2023-03-04T09:28:43.826032Z",
     "iopub.status.busy": "2023-03-04T09:28:43.825397Z",
     "iopub.status.idle": "2023-03-04T09:29:12.048488Z",
     "shell.execute_reply": "2023-03-04T09:29:12.047595Z",
     "shell.execute_reply.started": "2023-03-04T09:28:43.825996Z"
    },
    "tags": []
   },
   "outputs": [
    {
     "name": "stdout",
     "output_type": "stream",
     "text": [
      "\n",
      "[ TIMELINE ]\n",
      "\n",
      "╔═════╤═══════════════════╤═════════════╤═══════════╤═════════════╤═════════════╤═════════════╗\n",
      "║ No. │ Instant           │ Action      │ State     │ Requested   │ Inflight    │ Completed   ║\n",
      "║     │                   │             │           │ Time        │ Time        │ Time        ║\n",
      "╠═════╪═══════════════════╪═════════════╪═══════════╪═════════════╪═════════════╪═════════════╣\n",
      "║ 0   │ 20230304092758774 │ deltacommit │ COMPLETED │ 03-04 09:28 │ 03-04 09:28 │ 03-04 09:28 ║\n",
      "╚═════╧═══════════════════╧═════════════╧═══════════╧═════════════╧═════════════╧═════════════╝\n",
      "\n",
      "[ COMMITS ]\n",
      "\n",
      "╔═══════════════════╤═════════════════════╤═══════════════════╤═════════════════════╤══════════════════════════╤═══════════════════════╤══════════════════════════════╤══════════════╗\n",
      "║ CommitTime        │ Total Bytes Written │ Total Files Added │ Total Files Updated │ Total Partitions Written │ Total Records Written │ Total Update Records Written │ Total Errors ║\n",
      "╠═══════════════════╪═════════════════════╪═══════════════════╪═════════════════════╪══════════════════════════╪═══════════════════════╪══════════════════════════════╪══════════════╣\n",
      "║ 20230304092758774 │ 81.3 MB             │ 2                 │ 0                   │ 2                        │ 484469                │ 0                            │ 0            ║\n",
      "╚═══════════════════╧═════════════════════╧═══════════════════╧═════════════════════╧══════════════════════════╧═══════════════════════╧══════════════════════════════╧══════════════╝\n",
      "\n",
      "[ COMPACTIONS ]\n",
      "\n",
      "╔═════════════════════════╤═══════╤═══════════════════════════════╗\n",
      "║ Compaction Instant Time │ State │ Total FileIds to be Compacted ║\n",
      "╠═════════════════════════╧═══════╧═══════════════════════════════╣\n",
      "║ (empty)                                                         ║\n",
      "╚═════════════════════════════════════════════════════════════════╝\n",
      "\n",
      "[ STORAGE ]\n",
      "\n",
      "/home/emr-notebook/reviews_mor_simple_3\n",
      "├── [ 41M 09:29:11]  parity=0\n",
      "│   └── [ 41M 09:28:32]  55957292-92f0-4ee0-bc5b-e28b5dc1577a-0_0-368-980_20230304092758774.parquet\n",
      "└── [ 41M 09:29:11]  parity=1\n",
      "    └── [ 41M 09:28:30]  ad98f509-6c2b-4214-b505-3ec5dae69b95-0_1-368-981_20230304092758774.parquet\n",
      "\n",
      "  81M used in 2 directories, 2 files\n"
     ]
    }
   ],
   "source": [
    "%%sh\n",
    "~/hudi-stat.sh $TABLE_PATH timeline commits compactions storage"
   ]
  },
  {
   "cell_type": "markdown",
   "id": "d3e89e88-2b0e-4663-9b08-b8faabe9a568",
   "metadata": {
    "tags": []
   },
   "source": [
    "### 4.3. Batch 2 - Update"
   ]
  },
  {
   "cell_type": "code",
   "execution_count": 47,
   "id": "c7e4040d-bc2a-462e-b3ca-e828638a6f5f",
   "metadata": {
    "execution": {
     "iopub.execute_input": "2023-03-04T09:29:12.049999Z",
     "iopub.status.busy": "2023-03-04T09:29:12.049732Z",
     "iopub.status.idle": "2023-03-04T09:29:29.453755Z",
     "shell.execute_reply": "2023-03-04T09:29:29.452804Z",
     "shell.execute_reply.started": "2023-03-04T09:29:12.049974Z"
    },
    "tags": []
   },
   "outputs": [
    {
     "data": {
      "application/vnd.jupyter.widget-view+json": {
       "model_id": "",
       "version_major": 2,
       "version_minor": 0
      },
      "text/plain": [
       "FloatProgress(value=0.0, bar_style='info', description='Progress:', layout=Layout(height='25px', width='50%'),…"
      ]
     },
     "metadata": {},
     "output_type": "display_data"
    },
    {
     "data": {
      "text/html": [
       "<style>.jp-OutputArea-child .jupyter-widgets.jp-OutputArea-output { overflow: auto; }</style>"
      ],
      "text/plain": [
       "<IPython.core.display.HTML object>"
      ]
     },
     "metadata": {},
     "output_type": "display_data"
    },
    {
     "data": {
      "application/vnd.jupyter.widget-view+json": {
       "model_id": "c0ff28aea0b04683a461d973931f7e66",
       "version_major": 2,
       "version_minor": 0
      },
      "text/plain": [
       "VBox(children=(HBox(), EncodingWidget(children=(VBox(children=(HTML(value='Encoding:'), Dropdown(description='…"
      ]
     },
     "metadata": {},
     "output_type": "display_data"
    },
    {
     "data": {
      "application/vnd.jupyter.widget-view+json": {
       "model_id": "52336f03a5de49eaa2a463f407ec34c7",
       "version_major": 2,
       "version_minor": 0
      },
      "text/plain": [
       "Output()"
      ]
     },
     "metadata": {},
     "output_type": "display_data"
    }
   ],
   "source": [
    "%%sql\n",
    "-- 更新1999-01-01的评价\n",
    "update\n",
    "    ${TABLE_NAME}\n",
    "set             \n",
    "    review_body = concat(uuid(),uuid(),uuid(),uuid(),uuid(),uuid(),uuid(),uuid(),uuid(),uuid()),\n",
    "    timestamp = unix_timestamp(current_timestamp())\n",
    "where\n",
    "    review_date = '1999-01-01'\n",
    ";"
   ]
  },
  {
   "cell_type": "code",
   "execution_count": 48,
   "id": "0ac85b4e-db3d-4db8-a19f-61dcd159262a",
   "metadata": {
    "execution": {
     "iopub.execute_input": "2023-03-04T09:29:29.455490Z",
     "iopub.status.busy": "2023-03-04T09:29:29.455125Z",
     "iopub.status.idle": "2023-03-04T09:29:56.194930Z",
     "shell.execute_reply": "2023-03-04T09:29:56.193922Z",
     "shell.execute_reply.started": "2023-03-04T09:29:29.455454Z"
    },
    "tags": []
   },
   "outputs": [
    {
     "name": "stdout",
     "output_type": "stream",
     "text": [
      "\n",
      "[ TIMELINE ]\n",
      "\n",
      "╔═════╤═══════════════════╤═════════════╤═══════════╤═════════════╤═════════════╤═════════════╗\n",
      "║ No. │ Instant           │ Action      │ State     │ Requested   │ Inflight    │ Completed   ║\n",
      "║     │                   │             │           │ Time        │ Time        │ Time        ║\n",
      "╠═════╪═══════════════════╪═════════════╪═══════════╪═════════════╪═════════════╪═════════════╣\n",
      "║ 0   │ 20230304092758774 │ deltacommit │ COMPLETED │ 03-04 09:28 │ 03-04 09:28 │ 03-04 09:28 ║\n",
      "╟─────┼───────────────────┼─────────────┼───────────┼─────────────┼─────────────┼─────────────╢\n",
      "║ 1   │ 20230304092912844 │ deltacommit │ COMPLETED │ 03-04 09:29 │ 03-04 09:29 │ 03-04 09:29 ║\n",
      "╚═════╧═══════════════════╧═════════════╧═══════════╧═════════════╧═════════════╧═════════════╝\n",
      "\n",
      "[ COMMITS ]\n",
      "\n",
      "╔═══════════════════╤═════════════════════╤═══════════════════╤═════════════════════╤══════════════════════════╤═══════════════════════╤══════════════════════════════╤══════════════╗\n",
      "║ CommitTime        │ Total Bytes Written │ Total Files Added │ Total Files Updated │ Total Partitions Written │ Total Records Written │ Total Update Records Written │ Total Errors ║\n",
      "╠═══════════════════╪═════════════════════╪═══════════════════╪═════════════════════╪══════════════════════════╪═══════════════════════╪══════════════════════════════╪══════════════╣\n",
      "║ 20230304092912844 │ 381.1 KB            │ 0                 │ 2                   │ 2                        │ 701                   │ 701                          │ 0            ║\n",
      "╟───────────────────┼─────────────────────┼───────────────────┼─────────────────────┼──────────────────────────┼───────────────────────┼──────────────────────────────┼──────────────╢\n",
      "║ 20230304092758774 │ 81.3 MB             │ 2                 │ 0                   │ 2                        │ 484469                │ 0                            │ 0            ║\n",
      "╚═══════════════════╧═════════════════════╧═══════════════════╧═════════════════════╧══════════════════════════╧═══════════════════════╧══════════════════════════════╧══════════════╝\n",
      "\n",
      "[ COMPACTIONS ]\n",
      "\n",
      "╔═════════════════════════╤═══════╤═══════════════════════════════╗\n",
      "║ Compaction Instant Time │ State │ Total FileIds to be Compacted ║\n",
      "╠═════════════════════════╧═══════╧═══════════════════════════════╣\n",
      "║ (empty)                                                         ║\n",
      "╚═════════════════════════════════════════════════════════════════╝\n",
      "\n",
      "[ STORAGE ]\n",
      "\n",
      "/home/emr-notebook/reviews_mor_simple_3\n",
      "├── [ 41M 09:29:56]  parity=0\n",
      "│   ├── [198K 09:29:21]  .55957292-92f0-4ee0-bc5b-e28b5dc1577a-0_20230304092758774.log.1_0-416-1042\n",
      "│   └── [ 41M 09:28:32]  55957292-92f0-4ee0-bc5b-e28b5dc1577a-0_0-368-980_20230304092758774.parquet\n",
      "└── [ 41M 09:29:56]  parity=1\n",
      "    ├── [183K 09:29:21]  .ad98f509-6c2b-4214-b505-3ec5dae69b95-0_20230304092758774.log.1_1-416-1043\n",
      "    └── [ 41M 09:28:30]  ad98f509-6c2b-4214-b505-3ec5dae69b95-0_1-368-981_20230304092758774.parquet\n",
      "\n",
      "  82M used in 2 directories, 4 files\n"
     ]
    }
   ],
   "source": [
    "%%sh\n",
    "~/hudi-stat.sh $TABLE_PATH timeline commits compactions storage"
   ]
  },
  {
   "cell_type": "markdown",
   "id": "c4222f76-6ae8-4837-87ca-f5129883e803",
   "metadata": {
    "tags": []
   },
   "source": [
    "### 4.4. Batch 3 - Update"
   ]
  },
  {
   "cell_type": "code",
   "execution_count": 49,
   "id": "83a0ad1b-978d-4ab3-af04-843065e50880",
   "metadata": {
    "execution": {
     "iopub.execute_input": "2023-03-04T09:29:56.196517Z",
     "iopub.status.busy": "2023-03-04T09:29:56.196238Z",
     "iopub.status.idle": "2023-03-04T09:30:29.654422Z",
     "shell.execute_reply": "2023-03-04T09:30:29.653387Z",
     "shell.execute_reply.started": "2023-03-04T09:29:56.196484Z"
    },
    "tags": []
   },
   "outputs": [
    {
     "data": {
      "application/vnd.jupyter.widget-view+json": {
       "model_id": "",
       "version_major": 2,
       "version_minor": 0
      },
      "text/plain": [
       "FloatProgress(value=0.0, bar_style='info', description='Progress:', layout=Layout(height='25px', width='50%'),…"
      ]
     },
     "metadata": {},
     "output_type": "display_data"
    },
    {
     "data": {
      "text/html": [
       "<style>.jp-OutputArea-child .jupyter-widgets.jp-OutputArea-output { overflow: auto; }</style>"
      ],
      "text/plain": [
       "<IPython.core.display.HTML object>"
      ]
     },
     "metadata": {},
     "output_type": "display_data"
    },
    {
     "data": {
      "application/vnd.jupyter.widget-view+json": {
       "model_id": "ed5a838433804b36a090f5904c77f10a",
       "version_major": 2,
       "version_minor": 0
      },
      "text/plain": [
       "VBox(children=(HBox(), EncodingWidget(children=(VBox(children=(HTML(value='Encoding:'), Dropdown(description='…"
      ]
     },
     "metadata": {},
     "output_type": "display_data"
    },
    {
     "data": {
      "application/vnd.jupyter.widget-view+json": {
       "model_id": "50261ce39ec34c1fb7aa6194059e3a84",
       "version_major": 2,
       "version_minor": 0
      },
      "text/plain": [
       "Output()"
      ]
     },
     "metadata": {},
     "output_type": "display_data"
    }
   ],
   "source": [
    "%%sql\n",
    "-- 更新1999-01-02的评价\n",
    "update\n",
    "    ${TABLE_NAME}\n",
    "set             \n",
    "    review_body = concat(uuid(),uuid(),uuid(),uuid(),uuid(),uuid(),uuid(),uuid(),uuid(),uuid()),\n",
    "    timestamp = unix_timestamp(current_timestamp())\n",
    "where\n",
    "    star_rating = 5\n",
    ";"
   ]
  },
  {
   "cell_type": "code",
   "execution_count": 50,
   "id": "cad514b3-eb8b-4588-8d25-91a3bb754d8d",
   "metadata": {
    "execution": {
     "iopub.execute_input": "2023-03-04T09:30:29.655837Z",
     "iopub.status.busy": "2023-03-04T09:30:29.655493Z",
     "iopub.status.idle": "2023-03-04T09:30:58.178122Z",
     "shell.execute_reply": "2023-03-04T09:30:58.177078Z",
     "shell.execute_reply.started": "2023-03-04T09:30:29.655802Z"
    },
    "tags": []
   },
   "outputs": [
    {
     "name": "stdout",
     "output_type": "stream",
     "text": [
      "\n",
      "[ TIMELINE ]\n",
      "\n",
      "╔═════╤═══════════════════╤═════════════╤═══════════╤═════════════╤═════════════╤═════════════╗\n",
      "║ No. │ Instant           │ Action      │ State     │ Requested   │ Inflight    │ Completed   ║\n",
      "║     │                   │             │           │ Time        │ Time        │ Time        ║\n",
      "╠═════╪═══════════════════╪═════════════╪═══════════╪═════════════╪═════════════╪═════════════╣\n",
      "║ 0   │ 20230304092758774 │ deltacommit │ COMPLETED │ 03-04 09:28 │ 03-04 09:28 │ 03-04 09:28 ║\n",
      "╟─────┼───────────────────┼─────────────┼───────────┼─────────────┼─────────────┼─────────────╢\n",
      "║ 1   │ 20230304092912844 │ deltacommit │ COMPLETED │ 03-04 09:29 │ 03-04 09:29 │ 03-04 09:29 ║\n",
      "╟─────┼───────────────────┼─────────────┼───────────┼─────────────┼─────────────┼─────────────╢\n",
      "║ 2   │ 20230304092956914 │ deltacommit │ COMPLETED │ 03-04 09:29 │ 03-04 09:30 │ 03-04 09:30 ║\n",
      "╚═════╧═══════════════════╧═════════════╧═══════════╧═════════════╧═════════════╧═════════════╝\n",
      "\n",
      "[ COMMITS ]\n",
      "\n",
      "╔═══════════════════╤═════════════════════╤═══════════════════╤═════════════════════╤══════════════════════════╤═══════════════════════╤══════════════════════════════╤══════════════╗\n",
      "║ CommitTime        │ Total Bytes Written │ Total Files Added │ Total Files Updated │ Total Partitions Written │ Total Records Written │ Total Update Records Written │ Total Errors ║\n",
      "╠═══════════════════╪═════════════════════╪═══════════════════╪═════════════════════╪══════════════════════════╪═══════════════════════╪══════════════════════════════╪══════════════╣\n",
      "║ 20230304092956914 │ 168.8 MB            │ 0                 │ 2                   │ 2                        │ 318225                │ 318225                       │ 0            ║\n",
      "╟───────────────────┼─────────────────────┼───────────────────┼─────────────────────┼──────────────────────────┼───────────────────────┼──────────────────────────────┼──────────────╢\n",
      "║ 20230304092912844 │ 381.1 KB            │ 0                 │ 2                   │ 2                        │ 701                   │ 701                          │ 0            ║\n",
      "╟───────────────────┼─────────────────────┼───────────────────┼─────────────────────┼──────────────────────────┼───────────────────────┼──────────────────────────────┼──────────────╢\n",
      "║ 20230304092758774 │ 81.3 MB             │ 2                 │ 0                   │ 2                        │ 484469                │ 0                            │ 0            ║\n",
      "╚═══════════════════╧═════════════════════╧═══════════════════╧═════════════════════╧══════════════════════════╧═══════════════════════╧══════════════════════════════╧══════════════╝\n",
      "\n",
      "[ COMPACTIONS ]\n",
      "\n",
      "╔═════════════════════════╤═══════╤═══════════════════════════════╗\n",
      "║ Compaction Instant Time │ State │ Total FileIds to be Compacted ║\n",
      "╠═════════════════════════╧═══════╧═══════════════════════════════╣\n",
      "║ (empty)                                                         ║\n",
      "╚═════════════════════════════════════════════════════════════════╝\n",
      "\n",
      "[ STORAGE ]\n",
      "\n",
      "/home/emr-notebook/reviews_mor_simple_3\n",
      "├── [125M 09:30:58]  parity=0\n",
      "│   ├── [198K 09:29:21]  .55957292-92f0-4ee0-bc5b-e28b5dc1577a-0_20230304092758774.log.1_0-416-1042\n",
      "│   ├── [ 84M 09:30:16]  .55957292-92f0-4ee0-bc5b-e28b5dc1577a-0_20230304092758774.log.2_0-464-1104\n",
      "│   └── [ 41M 09:28:32]  55957292-92f0-4ee0-bc5b-e28b5dc1577a-0_0-368-980_20230304092758774.parquet\n",
      "└── [125M 09:30:58]  parity=1\n",
      "    ├── [183K 09:29:21]  .ad98f509-6c2b-4214-b505-3ec5dae69b95-0_20230304092758774.log.1_1-416-1043\n",
      "    ├── [ 84M 09:30:16]  .ad98f509-6c2b-4214-b505-3ec5dae69b95-0_20230304092758774.log.2_1-464-1105\n",
      "    └── [ 41M 09:28:30]  ad98f509-6c2b-4214-b505-3ec5dae69b95-0_1-368-981_20230304092758774.parquet\n",
      "\n",
      " 251M used in 2 directories, 6 files\n"
     ]
    }
   ],
   "source": [
    "%%sh\n",
    "~/hudi-stat.sh $TABLE_PATH timeline commits compactions storage"
   ]
  },
  {
   "cell_type": "markdown",
   "id": "f1c2185a-746d-4712-ae2d-10e601fb99ab",
   "metadata": {},
   "source": [
    "### 4.5. Async Schedule Compaction"
   ]
  },
  {
   "cell_type": "code",
   "execution_count": 51,
   "id": "5f0b4785-07ad-481e-ac72-06d420edc255",
   "metadata": {
    "execution": {
     "iopub.execute_input": "2023-03-04T09:30:58.179830Z",
     "iopub.status.busy": "2023-03-04T09:30:58.179571Z",
     "iopub.status.idle": "2023-03-04T09:31:26.026087Z",
     "shell.execute_reply": "2023-03-04T09:31:26.024579Z",
     "shell.execute_reply.started": "2023-03-04T09:30:58.179805Z"
    },
    "tags": []
   },
   "outputs": [],
   "source": [
    "%%sh\n",
    "# it's required for current user (emr-notebook) to get sudo permission\n",
    "sudo -u hadoop spark-submit \\\n",
    "  --jars '/usr/lib/hudi/hudi-spark-bundle.jar' \\\n",
    "  --class 'org.apache.hudi.utilities.HoodieCompactor' \\\n",
    "  /usr/lib/hudi/hudi-utilities-bundle.jar \\\n",
    "  --spark-memory '4g' \\\n",
    "  --mode 'schedule' \\\n",
    "  --base-path \"$TABLE_PATH\" \\\n",
    "  --table-name \"$TABLE_NAME\" \\\n",
    "  --hoodie-conf \"hoodie.compact.inline.max.delta.commits=3\" > ~/${TABLE_NAME}.compaction.schedule.out &>/dev/null"
   ]
  },
  {
   "cell_type": "code",
   "execution_count": 52,
   "id": "96250395-441a-47fc-8ae0-2fb4ff764af7",
   "metadata": {
    "execution": {
     "iopub.execute_input": "2023-03-04T09:31:26.027818Z",
     "iopub.status.busy": "2023-03-04T09:31:26.027468Z",
     "iopub.status.idle": "2023-03-04T09:31:51.190069Z",
     "shell.execute_reply": "2023-03-04T09:31:51.188809Z",
     "shell.execute_reply.started": "2023-03-04T09:31:26.027781Z"
    },
    "tags": []
   },
   "outputs": [
    {
     "name": "stdout",
     "output_type": "stream",
     "text": [
      "\n",
      "[ TIMELINE ]\n",
      "\n",
      "╔═════╤═══════════════════╤═════════════╤═══════════╤═════════════╤═════════════╤═════════════╗\n",
      "║ No. │ Instant           │ Action      │ State     │ Requested   │ Inflight    │ Completed   ║\n",
      "║     │                   │             │           │ Time        │ Time        │ Time        ║\n",
      "╠═════╪═══════════════════╪═════════════╪═══════════╪═════════════╪═════════════╪═════════════╣\n",
      "║ 0   │ 20230304092758774 │ deltacommit │ COMPLETED │ 03-04 09:28 │ 03-04 09:28 │ 03-04 09:28 ║\n",
      "╟─────┼───────────────────┼─────────────┼───────────┼─────────────┼─────────────┼─────────────╢\n",
      "║ 1   │ 20230304092912844 │ deltacommit │ COMPLETED │ 03-04 09:29 │ 03-04 09:29 │ 03-04 09:29 ║\n",
      "╟─────┼───────────────────┼─────────────┼───────────┼─────────────┼─────────────┼─────────────╢\n",
      "║ 2   │ 20230304092956914 │ deltacommit │ COMPLETED │ 03-04 09:29 │ 03-04 09:30 │ 03-04 09:30 ║\n",
      "╟─────┼───────────────────┼─────────────┼───────────┼─────────────┼─────────────┼─────────────╢\n",
      "║ 3   │ 20230304093117717 │ compaction  │ REQUESTED │ 03-04 09:31 │ -           │ -           ║\n",
      "╚═════╧═══════════════════╧═════════════╧═══════════╧═════════════╧═════════════╧═════════════╝\n",
      "\n",
      "[ COMMITS ]\n",
      "\n",
      "╔═══════════════════╤═════════════════════╤═══════════════════╤═════════════════════╤══════════════════════════╤═══════════════════════╤══════════════════════════════╤══════════════╗\n",
      "║ CommitTime        │ Total Bytes Written │ Total Files Added │ Total Files Updated │ Total Partitions Written │ Total Records Written │ Total Update Records Written │ Total Errors ║\n",
      "╠═══════════════════╪═════════════════════╪═══════════════════╪═════════════════════╪══════════════════════════╪═══════════════════════╪══════════════════════════════╪══════════════╣\n",
      "║ 20230304092956914 │ 168.8 MB            │ 0                 │ 2                   │ 2                        │ 318225                │ 318225                       │ 0            ║\n",
      "╟───────────────────┼─────────────────────┼───────────────────┼─────────────────────┼──────────────────────────┼───────────────────────┼──────────────────────────────┼──────────────╢\n",
      "║ 20230304092912844 │ 381.1 KB            │ 0                 │ 2                   │ 2                        │ 701                   │ 701                          │ 0            ║\n",
      "╟───────────────────┼─────────────────────┼───────────────────┼─────────────────────┼──────────────────────────┼───────────────────────┼──────────────────────────────┼──────────────╢\n",
      "║ 20230304092758774 │ 81.3 MB             │ 2                 │ 0                   │ 2                        │ 484469                │ 0                            │ 0            ║\n",
      "╚═══════════════════╧═════════════════════╧═══════════════════╧═════════════════════╧══════════════════════════╧═══════════════════════╧══════════════════════════════╧══════════════╝\n",
      "\n",
      "[ COMPACTIONS ]\n",
      "\n",
      "╔═════════════════════════╤═══════════╤═══════════════════════════════╗\n",
      "║ Compaction Instant Time │ State     │ Total FileIds to be Compacted ║\n",
      "╠═════════════════════════╪═══════════╪═══════════════════════════════╣\n",
      "║ 20230304093117717       │ REQUESTED │ 2                             ║\n",
      "╚═════════════════════════╧═══════════╧═══════════════════════════════╝\n",
      "\n",
      "[ STORAGE ]\n",
      "\n",
      "/home/emr-notebook/reviews_mor_simple_3\n",
      "├── [125M 09:30:58]  parity=0\n",
      "│   ├── [198K 09:29:21]  .55957292-92f0-4ee0-bc5b-e28b5dc1577a-0_20230304092758774.log.1_0-416-1042\n",
      "│   ├── [ 84M 09:30:16]  .55957292-92f0-4ee0-bc5b-e28b5dc1577a-0_20230304092758774.log.2_0-464-1104\n",
      "│   └── [ 41M 09:28:32]  55957292-92f0-4ee0-bc5b-e28b5dc1577a-0_0-368-980_20230304092758774.parquet\n",
      "└── [125M 09:30:58]  parity=1\n",
      "    ├── [183K 09:29:21]  .ad98f509-6c2b-4214-b505-3ec5dae69b95-0_20230304092758774.log.1_1-416-1043\n",
      "    ├── [ 84M 09:30:16]  .ad98f509-6c2b-4214-b505-3ec5dae69b95-0_20230304092758774.log.2_1-464-1105\n",
      "    └── [ 41M 09:28:30]  ad98f509-6c2b-4214-b505-3ec5dae69b95-0_1-368-981_20230304092758774.parquet\n",
      "\n",
      " 251M used in 2 directories, 6 files\n"
     ]
    }
   ],
   "source": [
    "%%sh\n",
    "~/hudi-stat.sh $TABLE_PATH timeline commits compactions storage"
   ]
  },
  {
   "cell_type": "markdown",
   "id": "9a0aa695-1f7d-4a70-b321-57a21aef42ae",
   "metadata": {},
   "source": [
    "### 4.6. Async Execute Compaction"
   ]
  },
  {
   "cell_type": "code",
   "execution_count": 53,
   "id": "c9c8c148-b805-4ff1-8cf2-2a6fe77f21e8",
   "metadata": {
    "execution": {
     "iopub.execute_input": "2023-03-04T09:31:51.192963Z",
     "iopub.status.busy": "2023-03-04T09:31:51.192594Z",
     "iopub.status.idle": "2023-03-04T09:32:37.368386Z",
     "shell.execute_reply": "2023-03-04T09:32:37.367170Z",
     "shell.execute_reply.started": "2023-03-04T09:31:51.192926Z"
    },
    "tags": []
   },
   "outputs": [],
   "source": [
    "%%sh\n",
    "# it's required for current user (emr-notebook) to get sudo permission\n",
    "sudo -u hadoop spark-submit \\\n",
    "  --jars '/usr/lib/hudi/hudi-spark-bundle.jar' \\\n",
    "  --class \"org.apache.hudi.utilities.HoodieCompactor\" \\\n",
    "  /usr/lib/hudi/hudi-utilities-bundle.jar \\\n",
    "  --spark-memory '4g' \\\n",
    "  --mode 'execute' \\\n",
    "  --base-path \"$TABLE_PATH\" \\\n",
    "  --table-name \"$TABLE_NAME\" > ~/${TABLE_NAME}.compaction.execute.out &>/dev/null"
   ]
  },
  {
   "cell_type": "code",
   "execution_count": 54,
   "id": "c9f122f1-50f1-4736-b7f3-82536c85c420",
   "metadata": {
    "execution": {
     "iopub.execute_input": "2023-03-04T09:32:37.370159Z",
     "iopub.status.busy": "2023-03-04T09:32:37.369810Z",
     "iopub.status.idle": "2023-03-04T09:33:08.310275Z",
     "shell.execute_reply": "2023-03-04T09:33:08.309188Z",
     "shell.execute_reply.started": "2023-03-04T09:32:37.370131Z"
    },
    "tags": []
   },
   "outputs": [
    {
     "name": "stdout",
     "output_type": "stream",
     "text": [
      "\n",
      "[ TIMELINE ]\n",
      "\n",
      "╔═════╤═══════════════════╤═════════════╤═══════════╤═════════════╤═════════════╤═════════════╗\n",
      "║ No. │ Instant           │ Action      │ State     │ Requested   │ Inflight    │ Completed   ║\n",
      "║     │                   │             │           │ Time        │ Time        │ Time        ║\n",
      "╠═════╪═══════════════════╪═════════════╪═══════════╪═════════════╪═════════════╪═════════════╣\n",
      "║ 0   │ 20230304092758774 │ deltacommit │ COMPLETED │ 03-04 09:28 │ 03-04 09:28 │ 03-04 09:28 ║\n",
      "╟─────┼───────────────────┼─────────────┼───────────┼─────────────┼─────────────┼─────────────╢\n",
      "║ 1   │ 20230304092912844 │ deltacommit │ COMPLETED │ 03-04 09:29 │ 03-04 09:29 │ 03-04 09:29 ║\n",
      "╟─────┼───────────────────┼─────────────┼───────────┼─────────────┼─────────────┼─────────────╢\n",
      "║ 2   │ 20230304092956914 │ deltacommit │ COMPLETED │ 03-04 09:29 │ 03-04 09:30 │ 03-04 09:30 ║\n",
      "╟─────┼───────────────────┼─────────────┼───────────┼─────────────┼─────────────┼─────────────╢\n",
      "║ 3   │ 20230304093117717 │ commit      │ COMPLETED │ 03-04 09:31 │ 03-04 09:32 │ 03-04 09:32 ║\n",
      "╚═════╧═══════════════════╧═════════════╧═══════════╧═════════════╧═════════════╧═════════════╝\n",
      "\n",
      "[ COMMITS ]\n",
      "\n",
      "╔═══════════════════╤═════════════════════╤═══════════════════╤═════════════════════╤══════════════════════════╤═══════════════════════╤══════════════════════════════╤══════════════╗\n",
      "║ CommitTime        │ Total Bytes Written │ Total Files Added │ Total Files Updated │ Total Partitions Written │ Total Records Written │ Total Update Records Written │ Total Errors ║\n",
      "╠═══════════════════╪═════════════════════╪═══════════════════╪═════════════════════╪══════════════════════════╪═══════════════════════╪══════════════════════════════╪══════════════╣\n",
      "║ 20230304093117717 │ 106.6 MB            │ 0                 │ 2                   │ 2                        │ 484469                │ 318460                       │ 0            ║\n",
      "╟───────────────────┼─────────────────────┼───────────────────┼─────────────────────┼──────────────────────────┼───────────────────────┼──────────────────────────────┼──────────────╢\n",
      "║ 20230304092956914 │ 168.8 MB            │ 0                 │ 2                   │ 2                        │ 318225                │ 318225                       │ 0            ║\n",
      "╟───────────────────┼─────────────────────┼───────────────────┼─────────────────────┼──────────────────────────┼───────────────────────┼──────────────────────────────┼──────────────╢\n",
      "║ 20230304092912844 │ 381.1 KB            │ 0                 │ 2                   │ 2                        │ 701                   │ 701                          │ 0            ║\n",
      "╟───────────────────┼─────────────────────┼───────────────────┼─────────────────────┼──────────────────────────┼───────────────────────┼──────────────────────────────┼──────────────╢\n",
      "║ 20230304092758774 │ 81.3 MB             │ 2                 │ 0                   │ 2                        │ 484469                │ 0                            │ 0            ║\n",
      "╚═══════════════════╧═════════════════════╧═══════════════════╧═════════════════════╧══════════════════════════╧═══════════════════════╧══════════════════════════════╧══════════════╝\n",
      "\n",
      "[ COMPACTIONS ]\n",
      "\n",
      "╔═════════════════════════╤═══════════╤═══════════════════════════════╗\n",
      "║ Compaction Instant Time │ State     │ Total FileIds to be Compacted ║\n",
      "╠═════════════════════════╪═══════════╪═══════════════════════════════╣\n",
      "║ 20230304093117717       │ COMPLETED │ 2                             ║\n",
      "╚═════════════════════════╧═══════════╧═══════════════════════════════╝\n",
      "\n",
      "[ STORAGE ]\n",
      "\n",
      "/home/emr-notebook/reviews_mor_simple_3\n",
      "├── [179M 09:33:08]  parity=0\n",
      "│   ├── [198K 09:29:21]  .55957292-92f0-4ee0-bc5b-e28b5dc1577a-0_20230304092758774.log.1_0-416-1042\n",
      "│   ├── [ 84M 09:30:16]  .55957292-92f0-4ee0-bc5b-e28b5dc1577a-0_20230304092758774.log.2_0-464-1104\n",
      "│   ├── [ 53M 09:32:31]  55957292-92f0-4ee0-bc5b-e28b5dc1577a-0_0-0-0_20230304093117717.parquet\n",
      "│   └── [ 41M 09:28:32]  55957292-92f0-4ee0-bc5b-e28b5dc1577a-0_0-368-980_20230304092758774.parquet\n",
      "└── [178M 09:33:08]  parity=1\n",
      "    ├── [183K 09:29:21]  .ad98f509-6c2b-4214-b505-3ec5dae69b95-0_20230304092758774.log.1_1-416-1043\n",
      "    ├── [ 84M 09:30:16]  .ad98f509-6c2b-4214-b505-3ec5dae69b95-0_20230304092758774.log.2_1-464-1105\n",
      "    ├── [ 53M 09:32:31]  ad98f509-6c2b-4214-b505-3ec5dae69b95-0_1-0-1_20230304093117717.parquet\n",
      "    └── [ 41M 09:28:30]  ad98f509-6c2b-4214-b505-3ec5dae69b95-0_1-368-981_20230304092758774.parquet\n",
      "\n",
      " 357M used in 2 directories, 8 files\n"
     ]
    }
   ],
   "source": [
    "%%sh\n",
    "~/hudi-stat.sh $TABLE_PATH timeline commits compactions storage"
   ]
  },
  {
   "cell_type": "code",
   "execution_count": null,
   "id": "d1d521b3-641d-450c-aa97-1c08f4718601",
   "metadata": {},
   "outputs": [],
   "source": []
  }
 ],
 "metadata": {
  "kernelspec": {
   "display_name": "Spark",
   "language": "scala",
   "name": "sparkkernel"
  },
  "language_info": {
   "codemirror_mode": "text/x-scala",
   "file_extension": ".sc",
   "mimetype": "text/x-scala",
   "name": "scala",
   "pygments_lexer": "scala"
  }
 },
 "nbformat": 4,
 "nbformat_minor": 5
}
