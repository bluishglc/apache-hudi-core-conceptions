{
 "cells": [
  {
   "cell_type": "markdown",
   "id": "1d574cc5-0034-439e-b4c9-45f0afea203d",
   "metadata": {
    "tags": []
   },
   "source": [
    "# Apache Hudi Core Conceptions (4) - MOR: Compaction"
   ]
  },
  {
   "cell_type": "markdown",
   "id": "a8f99894-93f3-4cef-a853-d2d73a3515b6",
   "metadata": {
    "tags": []
   },
   "source": [
    "## 1. Configuration"
   ]
  },
  {
   "cell_type": "code",
   "execution_count": 1,
   "id": "638504d6-1136-4807-af98-1d4248d1a8f3",
   "metadata": {
    "execution": {
     "iopub.execute_input": "2023-03-21T03:49:06.710188Z",
     "iopub.status.busy": "2023-03-21T03:49:06.709813Z",
     "iopub.status.idle": "2023-03-21T03:49:10.958280Z",
     "shell.execute_reply": "2023-03-21T03:49:10.957469Z",
     "shell.execute_reply.started": "2023-03-21T03:49:06.710158Z"
    },
    "tags": []
   },
   "outputs": [
    {
     "name": "stdout",
     "output_type": "stream",
     "text": [
      "-rw-r--r--   1 emr-notebook hdfsadmingroup   61421977 2023-03-21 03:49 /tmp/hudi-spark-bundle.jar\n"
     ]
    }
   ],
   "source": [
    "%%sh\n",
    "# deploy hudi bundle jar\n",
    "hdfs dfs -copyFromLocal -f /usr/lib/hudi/hudi-spark-bundle.jar /tmp/hudi-spark-bundle.jar\n",
    "hdfs dfs -ls /tmp/hudi-spark-bundle.jar"
   ]
  },
  {
   "cell_type": "code",
   "execution_count": 2,
   "id": "c7b533e6-60dc-44b6-be57-d3b86c11c583",
   "metadata": {
    "execution": {
     "iopub.execute_input": "2023-03-21T03:49:10.959906Z",
     "iopub.status.busy": "2023-03-21T03:49:10.959625Z",
     "iopub.status.idle": "2023-03-21T03:49:10.977107Z",
     "shell.execute_reply": "2023-03-21T03:49:10.976339Z",
     "shell.execute_reply.started": "2023-03-21T03:49:10.959879Z"
    },
    "tags": []
   },
   "outputs": [
    {
     "data": {
      "text/html": [
       "Current session configs: <tt>{'conf': {'spark.jars': 'hdfs:///tmp/hudi-spark-bundle.jar', 'spark.serializer': 'org.apache.spark.serializer.KryoSerializer', 'spark.sql.extensions': 'org.apache.spark.sql.hudi.HoodieSparkSessionExtension', 'spark.sql.catalog.spark_catalog': 'org.apache.spark.sql.hudi.catalog.HoodieCatalog'}, 'proxyUser': 'user_bluishglc', 'kind': 'spark'}</tt><br>"
      ],
      "text/plain": [
       "<IPython.core.display.HTML object>"
      ]
     },
     "metadata": {},
     "output_type": "display_data"
    },
    {
     "data": {
      "text/html": [
       "No active sessions."
      ],
      "text/plain": [
       "<IPython.core.display.HTML object>"
      ]
     },
     "metadata": {},
     "output_type": "display_data"
    }
   ],
   "source": [
    "%%configure -f\n",
    "{\n",
    "    \"conf\" : {\n",
    "        \"spark.jars\":\"hdfs:///tmp/hudi-spark-bundle.jar\",            \n",
    "        \"spark.serializer\":\"org.apache.spark.serializer.KryoSerializer\",\n",
    "        \"spark.sql.extensions\":\"org.apache.spark.sql.hudi.HoodieSparkSessionExtension\",\n",
    "        \"spark.sql.catalog.spark_catalog\":\"org.apache.spark.sql.hudi.catalog.HoodieCatalog\"\n",
    "    }\n",
    "}"
   ]
  },
  {
   "cell_type": "code",
   "execution_count": 3,
   "id": "8af4b944-fe51-41b9-90fb-ed249199f406",
   "metadata": {
    "execution": {
     "iopub.execute_input": "2023-03-21T03:49:10.979681Z",
     "iopub.status.busy": "2023-03-21T03:49:10.979202Z",
     "iopub.status.idle": "2023-03-21T03:49:10.984363Z",
     "shell.execute_reply": "2023-03-21T03:49:10.983530Z",
     "shell.execute_reply.started": "2023-03-21T03:49:10.979645Z"
    },
    "tags": []
   },
   "outputs": [
    {
     "name": "stdout",
     "output_type": "stream",
     "text": [
      "env: S3_BUCKET=apache-hudi-core-conceptions\n"
     ]
    }
   ],
   "source": [
    "%env S3_BUCKET=apache-hudi-core-conceptions"
   ]
  },
  {
   "cell_type": "code",
   "execution_count": 4,
   "id": "c5d08e30-76d6-4d19-af7c-15a49469c013",
   "metadata": {
    "execution": {
     "iopub.execute_input": "2023-03-21T03:49:10.986481Z",
     "iopub.status.busy": "2023-03-21T03:49:10.986163Z",
     "iopub.status.idle": "2023-03-21T03:49:42.552998Z",
     "shell.execute_reply": "2023-03-21T03:49:42.552280Z",
     "shell.execute_reply.started": "2023-03-21T03:49:10.986448Z"
    },
    "tags": []
   },
   "outputs": [
    {
     "name": "stdout",
     "output_type": "stream",
     "text": [
      "Starting Spark application\n"
     ]
    },
    {
     "data": {
      "text/html": [
       "<table>\n<tbody><tr><th>ID</th><th>YARN Application ID</th><th>Kind</th><th>State</th><th>Spark UI</th><th>Driver log</th><th>User</th><th>Current session?</th></tr><tr><td>105</td><td>application_1678096020253_0211</td><td>spark</td><td>idle</td><td><a target=\"_blank\" href=\"http://ip-10-0-129-209.ec2.internal:20888/proxy/application_1678096020253_0211/\" class=\"emr-proxy-link j-6V65AY8X5VHR application_1678096020253_0211\" emr-resource=\"j-6V65AY8X5VHR\n\" application-id=\"application_1678096020253_0211\">Link</a></td><td><a target=\"_blank\" href=\"http://ip-10-0-132-108.ec2.internal:8042/node/containerlogs/container_1678096020253_0211_01_000001/livy\">Link</a></td><td>None</td><td>✔</td></tr></tbody></table>"
      ],
      "text/plain": [
       "<IPython.core.display.HTML object>"
      ]
     },
     "metadata": {},
     "output_type": "display_data"
    },
    {
     "data": {
      "application/vnd.jupyter.widget-view+json": {
       "model_id": "",
       "version_major": 2,
       "version_minor": 0
      },
      "text/plain": [
       "FloatProgress(value=0.0, bar_style='info', description='Progress:', layout=Layout(height='25px', width='50%'),…"
      ]
     },
     "metadata": {},
     "output_type": "display_data"
    },
    {
     "name": "stdout",
     "output_type": "stream",
     "text": [
      "SparkSession available as 'spark'.\n"
     ]
    },
    {
     "data": {
      "application/vnd.jupyter.widget-view+json": {
       "model_id": "",
       "version_major": 2,
       "version_minor": 0
      },
      "text/plain": [
       "FloatProgress(value=0.0, bar_style='info', description='Progress:', layout=Layout(height='25px', width='50%'),…"
      ]
     },
     "metadata": {},
     "output_type": "display_data"
    },
    {
     "data": {
      "text/html": [
       "<style>.jp-OutputArea-child .jupyter-widgets.jp-OutputArea-output { overflow: auto; }</style>"
      ],
      "text/plain": [
       "<IPython.core.display.HTML object>"
      ]
     },
     "metadata": {},
     "output_type": "display_data"
    },
    {
     "data": {
      "application/vnd.jupyter.widget-view+json": {
       "model_id": "1ace040970ff4362b8115ceed8ac258e",
       "version_major": 2,
       "version_minor": 0
      },
      "text/plain": [
       "VBox(children=(HBox(children=(HTML(value='Type:'), Button(description='Table', layout=Layout(width='70px'), st…"
      ]
     },
     "metadata": {},
     "output_type": "display_data"
    },
    {
     "data": {
      "application/vnd.jupyter.widget-view+json": {
       "model_id": "80f3b89cd60240aa8769e991bd5bf1c8",
       "version_major": 2,
       "version_minor": 0
      },
      "text/plain": [
       "Output()"
      ]
     },
     "metadata": {},
     "output_type": "display_data"
    }
   ],
   "source": [
    "%%sql\n",
    "set S3_BUCKET=apache-hudi-core-conceptions"
   ]
  },
  {
   "cell_type": "code",
   "execution_count": 5,
   "id": "2b88311f-c410-4935-a41a-ce3d81c84920",
   "metadata": {
    "execution": {
     "iopub.execute_input": "2023-03-21T03:49:42.554708Z",
     "iopub.status.busy": "2023-03-21T03:49:42.554286Z",
     "iopub.status.idle": "2023-03-21T03:49:42.559469Z",
     "shell.execute_reply": "2023-03-21T03:49:42.558660Z",
     "shell.execute_reply.started": "2023-03-21T03:49:42.554672Z"
    },
    "tags": []
   },
   "outputs": [
    {
     "name": "stdout",
     "output_type": "stream",
     "text": [
      "env: WORKSPACE=/home/emr-notebook/apache-hudi-core-conceptions\n"
     ]
    }
   ],
   "source": [
    "%env WORKSPACE=/home/emr-notebook/apache-hudi-core-conceptions"
   ]
  },
  {
   "cell_type": "code",
   "execution_count": 6,
   "id": "78881ec6-4329-416b-ab27-38339020e322",
   "metadata": {
    "execution": {
     "iopub.execute_input": "2023-03-21T03:49:42.560942Z",
     "iopub.status.busy": "2023-03-21T03:49:42.560695Z",
     "iopub.status.idle": "2023-03-21T03:49:42.658804Z",
     "shell.execute_reply": "2023-03-21T03:49:42.658018Z",
     "shell.execute_reply.started": "2023-03-21T03:49:42.560919Z"
    },
    "tags": []
   },
   "outputs": [
    {
     "name": "stdout",
     "output_type": "stream",
     "text": [
      "/home/emr-notebook/apache-hudi-core-conceptions/hudi-stat.sh\n"
     ]
    }
   ],
   "source": [
    "%%sh\n",
    "# make workspace\n",
    "mkdir -p $WORKSPACE\n",
    "# deploy hudi-stat.sh, a utility shell script to output hudi table status\n",
    "wget https://raw.githubusercontent.com/bluishglc/apache-hudi-core-conceptions/master/hudi-stat.sh -O $WORKSPACE/hudi-stat.sh &>/dev/null\n",
    "chmod a+x $WORKSPACE/hudi-stat.sh\n",
    "ls $WORKSPACE/hudi-stat.sh"
   ]
  },
  {
   "cell_type": "code",
   "execution_count": 7,
   "id": "db234f04-c0c0-4be7-829b-0bbfc6e1395f",
   "metadata": {
    "execution": {
     "iopub.execute_input": "2023-03-21T03:49:42.660324Z",
     "iopub.status.busy": "2023-03-21T03:49:42.660073Z",
     "iopub.status.idle": "2023-03-21T03:49:42.665573Z",
     "shell.execute_reply": "2023-03-21T03:49:42.664929Z",
     "shell.execute_reply.started": "2023-03-21T03:49:42.660299Z"
    },
    "tags": []
   },
   "outputs": [
    {
     "data": {
      "text/html": [
       "<style>\n",
       "table {float:left}\n",
       "</style>\n"
      ],
      "text/plain": [
       "<IPython.core.display.HTML object>"
      ]
     },
     "metadata": {},
     "output_type": "display_data"
    }
   ],
   "source": [
    "%%html\n",
    "<style>\n",
    "table {float:left}\n",
    "</style>"
   ]
  },
  {
   "cell_type": "markdown",
   "id": "7915fc55-ebe6-4766-b32d-73f052f50c4f",
   "metadata": {
    "tags": []
   },
   "source": [
    "## 2. Test Case 1 - Sync Compaction ( Inline Schedule + Inline Execute )"
   ]
  },
  {
   "cell_type": "markdown",
   "id": "792c1cd6-5b05-4ca7-a97b-a30a599fc585",
   "metadata": {
    "jp-MarkdownHeadingCollapsed": true,
    "tags": []
   },
   "source": [
    "### 2.1. Test Plan\n",
    "\n",
    "Step No.|Action|Volume Per Partition |Storage\n",
    ":--------:|:------|:------|:----------\n",
    "1|Insert|96MB|+1 Base File\n",
    "2|Update|804KB|+1 Log File\n",
    "3|Update|1.2MB|+1 Log File +1 Base File"
   ]
  },
  {
   "cell_type": "markdown",
   "id": "41006950-e17e-46d5-9d8c-5ece022ecebd",
   "metadata": {
    "tags": []
   },
   "source": [
    "### 2.2. Key Settings\n",
    "\n",
    "KEY|DEFAULT VALUE|SET VALUE\n",
    ":---|:---|:---\n",
    "hoodie.compact.inline|false|true\n",
    "hoodie.compact.schedule.inline|false|false\n",
    "hoodie.compact.inline.max.delta.commits|5|3\n",
    "hoodie.copyonwrite.record.size.estimate|1024|175"
   ]
  },
  {
   "cell_type": "markdown",
   "id": "8a69bbf4-b366-4974-996e-55533732ff10",
   "metadata": {
    "execution": {
     "iopub.execute_input": "2023-02-25T02:57:45.037101Z",
     "iopub.status.busy": "2023-02-25T02:57:45.036681Z",
     "iopub.status.idle": "2023-02-25T02:58:07.353493Z",
     "shell.execute_reply": "2023-02-25T02:58:07.352596Z",
     "shell.execute_reply.started": "2023-02-25T02:57:45.037060Z"
    },
    "tags": []
   },
   "source": [
    "### 2.3. Set Variables"
   ]
  },
  {
   "cell_type": "code",
   "execution_count": 8,
   "id": "1c2945f5-27a3-45ab-90e5-3f76e941f758",
   "metadata": {
    "execution": {
     "iopub.execute_input": "2023-03-21T03:49:42.668132Z",
     "iopub.status.busy": "2023-03-21T03:49:42.667893Z",
     "iopub.status.idle": "2023-03-21T03:49:43.637366Z",
     "shell.execute_reply": "2023-03-21T03:49:43.636692Z",
     "shell.execute_reply.started": "2023-03-21T03:49:42.668111Z"
    },
    "tags": []
   },
   "outputs": [
    {
     "data": {
      "application/vnd.jupyter.widget-view+json": {
       "model_id": "",
       "version_major": 2,
       "version_minor": 0
      },
      "text/plain": [
       "FloatProgress(value=0.0, bar_style='info', description='Progress:', layout=Layout(height='25px', width='50%'),…"
      ]
     },
     "metadata": {},
     "output_type": "display_data"
    },
    {
     "data": {
      "text/html": [
       "<style>.jp-OutputArea-child .jupyter-widgets.jp-OutputArea-output { overflow: auto; }</style>"
      ],
      "text/plain": [
       "<IPython.core.display.HTML object>"
      ]
     },
     "metadata": {},
     "output_type": "display_data"
    },
    {
     "data": {
      "application/vnd.jupyter.widget-view+json": {
       "model_id": "de951971f1b54a73ba19f42a41804bdc",
       "version_major": 2,
       "version_minor": 0
      },
      "text/plain": [
       "VBox(children=(HBox(children=(HTML(value='Type:'), Button(description='Table', layout=Layout(width='70px'), st…"
      ]
     },
     "metadata": {},
     "output_type": "display_data"
    },
    {
     "data": {
      "application/vnd.jupyter.widget-view+json": {
       "model_id": "0bb9afc2d2094eaf96e1392a183654c5",
       "version_major": 2,
       "version_minor": 0
      },
      "text/plain": [
       "Output()"
      ]
     },
     "metadata": {},
     "output_type": "display_data"
    }
   ],
   "source": [
    "%%sql\n",
    "set TABLE_NAME=reviews_mor_compaction_1"
   ]
  },
  {
   "cell_type": "code",
   "execution_count": 9,
   "id": "3438353c-696d-4b31-bd71-cc59834b6178",
   "metadata": {
    "execution": {
     "iopub.execute_input": "2023-03-21T03:49:43.639079Z",
     "iopub.status.busy": "2023-03-21T03:49:43.638833Z",
     "iopub.status.idle": "2023-03-21T03:49:43.644916Z",
     "shell.execute_reply": "2023-03-21T03:49:43.643906Z",
     "shell.execute_reply.started": "2023-03-21T03:49:43.639056Z"
    },
    "tags": []
   },
   "outputs": [
    {
     "name": "stdout",
     "output_type": "stream",
     "text": [
      "env: TABLE_NAME=reviews_mor_compaction_1\n"
     ]
    }
   ],
   "source": [
    "%env TABLE_NAME=reviews_mor_compaction_1"
   ]
  },
  {
   "cell_type": "markdown",
   "id": "d28de246-213d-417f-9846-7f972772dc6f",
   "metadata": {
    "tags": []
   },
   "source": [
    "### 2.4. Create Table"
   ]
  },
  {
   "cell_type": "code",
   "execution_count": 10,
   "id": "b5dc879f-be2f-4321-a11d-348432c93fc3",
   "metadata": {
    "execution": {
     "iopub.execute_input": "2023-03-21T03:49:43.646521Z",
     "iopub.status.busy": "2023-03-21T03:49:43.646285Z",
     "iopub.status.idle": "2023-03-21T03:49:49.641144Z",
     "shell.execute_reply": "2023-03-21T03:49:49.640173Z",
     "shell.execute_reply.started": "2023-03-21T03:49:43.646499Z"
    },
    "tags": []
   },
   "outputs": [],
   "source": [
    "%%sh\n",
    "aws s3 rm s3://${S3_BUCKET}/${TABLE_NAME} --recursive &>/dev/null\n",
    "rm -rf ${WORKSPACE}/${TABLE_NAME}\n",
    "sleep 5"
   ]
  },
  {
   "cell_type": "code",
   "execution_count": 11,
   "id": "18a7e743-3174-48f0-a03a-e0facb60ef31",
   "metadata": {
    "execution": {
     "iopub.execute_input": "2023-03-21T03:49:49.642765Z",
     "iopub.status.busy": "2023-03-21T03:49:49.642495Z",
     "iopub.status.idle": "2023-03-21T03:49:52.983611Z",
     "shell.execute_reply": "2023-03-21T03:49:52.982892Z",
     "shell.execute_reply.started": "2023-03-21T03:49:49.642738Z"
    },
    "tags": []
   },
   "outputs": [
    {
     "data": {
      "application/vnd.jupyter.widget-view+json": {
       "model_id": "",
       "version_major": 2,
       "version_minor": 0
      },
      "text/plain": [
       "FloatProgress(value=0.0, bar_style='info', description='Progress:', layout=Layout(height='25px', width='50%'),…"
      ]
     },
     "metadata": {},
     "output_type": "display_data"
    },
    {
     "data": {
      "text/html": [
       "<style>.jp-OutputArea-child .jupyter-widgets.jp-OutputArea-output { overflow: auto; }</style>"
      ],
      "text/plain": [
       "<IPython.core.display.HTML object>"
      ]
     },
     "metadata": {},
     "output_type": "display_data"
    },
    {
     "data": {
      "application/vnd.jupyter.widget-view+json": {
       "model_id": "756712e23a5f459a96b4bcf7f36f3dec",
       "version_major": 2,
       "version_minor": 0
      },
      "text/plain": [
       "VBox(children=(HBox(), EncodingWidget(children=(VBox(children=(HTML(value='Encoding:'), Dropdown(description='…"
      ]
     },
     "metadata": {},
     "output_type": "display_data"
    },
    {
     "data": {
      "application/vnd.jupyter.widget-view+json": {
       "model_id": "eea0ced5546b4d0791ed8bc6fbe2516f",
       "version_major": 2,
       "version_minor": 0
      },
      "text/plain": [
       "Output()"
      ]
     },
     "metadata": {},
     "output_type": "display_data"
    }
   ],
   "source": [
    "%%sql\n",
    "drop table if exists ${TABLE_NAME}"
   ]
  },
  {
   "cell_type": "code",
   "execution_count": 12,
   "id": "2925561b-4951-4ef5-b911-9652d50c26f7",
   "metadata": {
    "execution": {
     "iopub.execute_input": "2023-03-21T03:49:52.984805Z",
     "iopub.status.busy": "2023-03-21T03:49:52.984577Z",
     "iopub.status.idle": "2023-03-21T03:49:53.833030Z",
     "shell.execute_reply": "2023-03-21T03:49:53.832066Z",
     "shell.execute_reply.started": "2023-03-21T03:49:52.984783Z"
    },
    "tags": []
   },
   "outputs": [
    {
     "data": {
      "application/vnd.jupyter.widget-view+json": {
       "model_id": "",
       "version_major": 2,
       "version_minor": 0
      },
      "text/plain": [
       "FloatProgress(value=0.0, bar_style='info', description='Progress:', layout=Layout(height='25px', width='50%'),…"
      ]
     },
     "metadata": {},
     "output_type": "display_data"
    },
    {
     "data": {
      "text/html": [
       "<style>.jp-OutputArea-child .jupyter-widgets.jp-OutputArea-output { overflow: auto; }</style>"
      ],
      "text/plain": [
       "<IPython.core.display.HTML object>"
      ]
     },
     "metadata": {},
     "output_type": "display_data"
    },
    {
     "data": {
      "application/vnd.jupyter.widget-view+json": {
       "model_id": "bf931b0f1ac449cbaea3d16925afe8b4",
       "version_major": 2,
       "version_minor": 0
      },
      "text/plain": [
       "VBox(children=(HBox(), EncodingWidget(children=(VBox(children=(HTML(value='Encoding:'), Dropdown(description='…"
      ]
     },
     "metadata": {},
     "output_type": "display_data"
    },
    {
     "data": {
      "application/vnd.jupyter.widget-view+json": {
       "model_id": "bc2f09f360e146549d33dbeee810ba54",
       "version_major": 2,
       "version_minor": 0
      },
      "text/plain": [
       "Output()"
      ]
     },
     "metadata": {},
     "output_type": "display_data"
    }
   ],
   "source": [
    "%%sql\n",
    "drop table if exists ${TABLE_NAME}_ro"
   ]
  },
  {
   "cell_type": "code",
   "execution_count": 13,
   "id": "209f965e-f46f-4087-8ab1-455047885371",
   "metadata": {
    "execution": {
     "iopub.execute_input": "2023-03-21T03:49:53.834577Z",
     "iopub.status.busy": "2023-03-21T03:49:53.834332Z",
     "iopub.status.idle": "2023-03-21T03:49:54.670663Z",
     "shell.execute_reply": "2023-03-21T03:49:54.669869Z",
     "shell.execute_reply.started": "2023-03-21T03:49:53.834554Z"
    },
    "tags": []
   },
   "outputs": [
    {
     "data": {
      "application/vnd.jupyter.widget-view+json": {
       "model_id": "",
       "version_major": 2,
       "version_minor": 0
      },
      "text/plain": [
       "FloatProgress(value=0.0, bar_style='info', description='Progress:', layout=Layout(height='25px', width='50%'),…"
      ]
     },
     "metadata": {},
     "output_type": "display_data"
    },
    {
     "data": {
      "text/html": [
       "<style>.jp-OutputArea-child .jupyter-widgets.jp-OutputArea-output { overflow: auto; }</style>"
      ],
      "text/plain": [
       "<IPython.core.display.HTML object>"
      ]
     },
     "metadata": {},
     "output_type": "display_data"
    },
    {
     "data": {
      "application/vnd.jupyter.widget-view+json": {
       "model_id": "b8dac0a67b3f448e840021643a858681",
       "version_major": 2,
       "version_minor": 0
      },
      "text/plain": [
       "VBox(children=(HBox(), EncodingWidget(children=(VBox(children=(HTML(value='Encoding:'), Dropdown(description='…"
      ]
     },
     "metadata": {},
     "output_type": "display_data"
    },
    {
     "data": {
      "application/vnd.jupyter.widget-view+json": {
       "model_id": "243d5176ffa7426b9b2dbfc3cfcdfc6c",
       "version_major": 2,
       "version_minor": 0
      },
      "text/plain": [
       "Output()"
      ]
     },
     "metadata": {},
     "output_type": "display_data"
    }
   ],
   "source": [
    "%%sql\n",
    "drop table if exists ${TABLE_NAME}_rt"
   ]
  },
  {
   "cell_type": "code",
   "execution_count": 14,
   "id": "696144de-8567-4b4f-8608-b2e33bfc0b0b",
   "metadata": {
    "execution": {
     "iopub.execute_input": "2023-03-21T03:49:54.672280Z",
     "iopub.status.busy": "2023-03-21T03:49:54.671944Z",
     "iopub.status.idle": "2023-03-21T03:49:58.013466Z",
     "shell.execute_reply": "2023-03-21T03:49:58.012652Z",
     "shell.execute_reply.started": "2023-03-21T03:49:54.672244Z"
    },
    "tags": []
   },
   "outputs": [
    {
     "data": {
      "application/vnd.jupyter.widget-view+json": {
       "model_id": "",
       "version_major": 2,
       "version_minor": 0
      },
      "text/plain": [
       "FloatProgress(value=0.0, bar_style='info', description='Progress:', layout=Layout(height='25px', width='50%'),…"
      ]
     },
     "metadata": {},
     "output_type": "display_data"
    },
    {
     "data": {
      "text/html": [
       "<style>.jp-OutputArea-child .jupyter-widgets.jp-OutputArea-output { overflow: auto; }</style>"
      ],
      "text/plain": [
       "<IPython.core.display.HTML object>"
      ]
     },
     "metadata": {},
     "output_type": "display_data"
    },
    {
     "data": {
      "application/vnd.jupyter.widget-view+json": {
       "model_id": "ed727c1539de401281b29fb6256f2683",
       "version_major": 2,
       "version_minor": 0
      },
      "text/plain": [
       "VBox(children=(HBox(), EncodingWidget(children=(VBox(children=(HTML(value='Encoding:'), Dropdown(description='…"
      ]
     },
     "metadata": {},
     "output_type": "display_data"
    },
    {
     "data": {
      "application/vnd.jupyter.widget-view+json": {
       "model_id": "19b379e80c1149b2a31b3e06af4aaa97",
       "version_major": 2,
       "version_minor": 0
      },
      "text/plain": [
       "Output()"
      ]
     },
     "metadata": {},
     "output_type": "display_data"
    }
   ],
   "source": [
    "%%sql\n",
    "create table if not exists ${TABLE_NAME} (\n",
    "    review_id string, \n",
    "    star_rating long, \n",
    "    review_body string, \n",
    "    review_date date, \n",
    "    year long,\n",
    "    timestamp long,\n",
    "    parity int\n",
    ")\n",
    "using hudi\n",
    "location 's3://${S3_BUCKET}/${TABLE_NAME}'\n",
    "partitioned by (parity)\n",
    "options ( \n",
    "    type = 'mor',  \n",
    "    primaryKey = 'review_id', \n",
    "    preCombineField = 'timestamp',\n",
    "    hoodie.compact.inline = 'true',\n",
    "    hoodie.compact.schedule.inline = 'false',\n",
    "    hoodie.compact.inline.max.delta.commits = '3',\n",
    "    hoodie.copyonwrite.record.size.estimate = '175'\n",
    ");"
   ]
  },
  {
   "cell_type": "markdown",
   "id": "56de236b-7561-4cd0-a6e2-3fedc1074a4a",
   "metadata": {
    "tags": []
   },
   "source": [
    "### 2.5. Insert 96MB / +1 Base File"
   ]
  },
  {
   "cell_type": "code",
   "execution_count": 15,
   "id": "75655d62-397d-4399-87e0-511af8a5e252",
   "metadata": {
    "execution": {
     "iopub.execute_input": "2023-03-21T03:49:58.014952Z",
     "iopub.status.busy": "2023-03-21T03:49:58.014701Z",
     "iopub.status.idle": "2023-03-21T03:50:57.518916Z",
     "shell.execute_reply": "2023-03-21T03:50:57.518118Z",
     "shell.execute_reply.started": "2023-03-21T03:49:58.014928Z"
    },
    "tags": []
   },
   "outputs": [
    {
     "data": {
      "application/vnd.jupyter.widget-view+json": {
       "model_id": "",
       "version_major": 2,
       "version_minor": 0
      },
      "text/plain": [
       "FloatProgress(value=0.0, bar_style='info', description='Progress:', layout=Layout(height='25px', width='50%'),…"
      ]
     },
     "metadata": {},
     "output_type": "display_data"
    },
    {
     "data": {
      "text/html": [
       "<style>.jp-OutputArea-child .jupyter-widgets.jp-OutputArea-output { overflow: auto; }</style>"
      ],
      "text/plain": [
       "<IPython.core.display.HTML object>"
      ]
     },
     "metadata": {},
     "output_type": "display_data"
    },
    {
     "data": {
      "application/vnd.jupyter.widget-view+json": {
       "model_id": "bf64e9878c5a4bb981e494a0de9691be",
       "version_major": 2,
       "version_minor": 0
      },
      "text/plain": [
       "VBox(children=(HBox(), EncodingWidget(children=(VBox(children=(HTML(value='Encoding:'), Dropdown(description='…"
      ]
     },
     "metadata": {},
     "output_type": "display_data"
    },
    {
     "data": {
      "application/vnd.jupyter.widget-view+json": {
       "model_id": "79a7b78227714e4691232c1634c0af52",
       "version_major": 2,
       "version_minor": 0
      },
      "text/plain": [
       "Output()"
      ]
     },
     "metadata": {},
     "output_type": "display_data"
    }
   ],
   "source": [
    "%%sql\n",
    "insert into \n",
    "    ${TABLE_NAME}\n",
    "select \n",
    "    review_id, \n",
    "    star_rating, \n",
    "    review_body, \n",
    "    review_date, \n",
    "    year,\n",
    "    unix_timestamp(current_timestamp()) as timestamp,\n",
    "    mod(crc32(review_id), 2) as parity\n",
    "from\n",
    "    reviews\n",
    "where\n",
    "    year = 2003"
   ]
  },
  {
   "cell_type": "code",
   "execution_count": 16,
   "id": "026ac372-3a9a-4cb2-b05c-d662efc2a2ce",
   "metadata": {
    "execution": {
     "iopub.execute_input": "2023-03-21T03:50:57.520711Z",
     "iopub.status.busy": "2023-03-21T03:50:57.520324Z",
     "iopub.status.idle": "2023-03-21T03:51:20.413080Z",
     "shell.execute_reply": "2023-03-21T03:51:20.412219Z",
     "shell.execute_reply.started": "2023-03-21T03:50:57.520674Z"
    },
    "tags": []
   },
   "outputs": [
    {
     "name": "stdout",
     "output_type": "stream",
     "text": [
      "\n",
      "[ TIMELINE ]\n",
      "\n",
      "╔═════╤═══════════════════╤═════════════╤═══════════╤═════════════╤═════════════╤═════════════╗\n",
      "║ No. │ Instant           │ Action      │ State     │ Requested   │ Inflight    │ Completed   ║\n",
      "║     │                   │             │           │ Time        │ Time        │ Time        ║\n",
      "╠═════╪═══════════════════╪═════════════╪═══════════╪═════════════╪═════════════╪═════════════╣\n",
      "║ 0   │ 20230321034958921 │ deltacommit │ COMPLETED │ 03-21 03:50 │ 03-21 03:50 │ 03-21 03:50 ║\n",
      "╚═════╧═══════════════════╧═════════════╧═══════════╧═════════════╧═════════════╧═════════════╝\n",
      "\n",
      "[ COMMITS ]\n",
      "\n",
      "╔═══════════════════╤═════════════════════╤═══════════════════╤═════════════════════╤══════════════════════════╤═══════════════════════╤══════════════════════════════╤══════════════╗\n",
      "║ CommitTime        │ Total Bytes Written │ Total Files Added │ Total Files Updated │ Total Partitions Written │ Total Records Written │ Total Update Records Written │ Total Errors ║\n",
      "╠═══════════════════╪═════════════════════╪═══════════════════╪═════════════════════╪══════════════════════════╪═══════════════════════╪══════════════════════════════╪══════════════╣\n",
      "║ 20230321034958921 │ 191.6 MB            │ 2                 │ 0                   │ 2                        │ 1155127               │ 0                            │ 0            ║\n",
      "╚═══════════════════╧═════════════════════╧═══════════════════╧═════════════════════╧══════════════════════════╧═══════════════════════╧══════════════════════════════╧══════════════╝\n",
      "\n",
      "[ COMPACTIONS ]\n",
      "\n",
      "╔═════════════════════════╤═══════╤═══════════════════════════════╗\n",
      "║ Compaction Instant Time │ State │ Total FileIds to be Compacted ║\n",
      "╠═════════════════════════╧═══════╧═══════════════════════════════╣\n",
      "║ (empty)                                                         ║\n",
      "╚═════════════════════════════════════════════════════════════════╝\n",
      "\n",
      "[ STORAGE ]\n",
      "\n",
      "/home/emr-notebook/apache-hudi-core-conceptions/reviews_mor_compaction_1\n",
      "├── [ 96M 03:51:20]  parity=0\n",
      "│   └── [ 96M 03:50:44]  e503f354-07cd-4318-81de-f81d01386c83-0_0-35-630_20230321034958921.parquet\n",
      "└── [ 96M 03:51:20]  parity=1\n",
      "    └── [ 96M 03:50:43]  477a89a0-a684-4353-9084-dbcf96e65ee6-0_1-35-631_20230321034958921.parquet\n"
     ]
    }
   ],
   "source": [
    "%%sh\n",
    "${WORKSPACE}/hudi-stat.sh s3://${S3_BUCKET}/${TABLE_NAME} timeline commits compactions storage"
   ]
  },
  {
   "cell_type": "markdown",
   "id": "8b09ae78-5fac-4a89-956d-6482046a0cae",
   "metadata": {
    "tags": []
   },
   "source": [
    "### 2.6. Update 803KB / +1 Log File"
   ]
  },
  {
   "cell_type": "code",
   "execution_count": 17,
   "id": "d7b2a994-1877-49b3-adb7-3e0bcbc603d6",
   "metadata": {
    "execution": {
     "iopub.execute_input": "2023-03-21T03:51:20.414648Z",
     "iopub.status.busy": "2023-03-21T03:51:20.414387Z",
     "iopub.status.idle": "2023-03-21T03:51:38.025716Z",
     "shell.execute_reply": "2023-03-21T03:51:38.024809Z",
     "shell.execute_reply.started": "2023-03-21T03:51:20.414620Z"
    },
    "tags": []
   },
   "outputs": [
    {
     "data": {
      "application/vnd.jupyter.widget-view+json": {
       "model_id": "",
       "version_major": 2,
       "version_minor": 0
      },
      "text/plain": [
       "FloatProgress(value=0.0, bar_style='info', description='Progress:', layout=Layout(height='25px', width='50%'),…"
      ]
     },
     "metadata": {},
     "output_type": "display_data"
    },
    {
     "data": {
      "text/html": [
       "<style>.jp-OutputArea-child .jupyter-widgets.jp-OutputArea-output { overflow: auto; }</style>"
      ],
      "text/plain": [
       "<IPython.core.display.HTML object>"
      ]
     },
     "metadata": {},
     "output_type": "display_data"
    },
    {
     "data": {
      "application/vnd.jupyter.widget-view+json": {
       "model_id": "32205d938e6e4fd2b5f4e65bf4aca4db",
       "version_major": 2,
       "version_minor": 0
      },
      "text/plain": [
       "VBox(children=(HBox(), EncodingWidget(children=(VBox(children=(HTML(value='Encoding:'), Dropdown(description='…"
      ]
     },
     "metadata": {},
     "output_type": "display_data"
    },
    {
     "data": {
      "application/vnd.jupyter.widget-view+json": {
       "model_id": "5e98bed3198b4e159238fbcea0485274",
       "version_major": 2,
       "version_minor": 0
      },
      "text/plain": [
       "Output()"
      ]
     },
     "metadata": {},
     "output_type": "display_data"
    }
   ],
   "source": [
    "%%sql\n",
    "update\n",
    "    ${TABLE_NAME}\n",
    "set             \n",
    "    review_body = concat(uuid(),uuid(),uuid(),uuid(),uuid(),uuid(),uuid(),uuid(),uuid(),uuid()),\n",
    "    timestamp = unix_timestamp(current_timestamp())\n",
    "where\n",
    "    review_date = '2003-01-01'\n",
    ";"
   ]
  },
  {
   "cell_type": "code",
   "execution_count": 18,
   "id": "4a3f08c1-7783-46af-a275-fdbb00f6ba0e",
   "metadata": {
    "execution": {
     "iopub.execute_input": "2023-03-21T03:51:38.027120Z",
     "iopub.status.busy": "2023-03-21T03:51:38.026847Z",
     "iopub.status.idle": "2023-03-21T03:52:00.373829Z",
     "shell.execute_reply": "2023-03-21T03:52:00.373013Z",
     "shell.execute_reply.started": "2023-03-21T03:51:38.027085Z"
    },
    "tags": []
   },
   "outputs": [
    {
     "name": "stdout",
     "output_type": "stream",
     "text": [
      "\n",
      "[ TIMELINE ]\n",
      "\n",
      "╔═════╤═══════════════════╤═════════════╤═══════════╤═════════════╤═════════════╤═════════════╗\n",
      "║ No. │ Instant           │ Action      │ State     │ Requested   │ Inflight    │ Completed   ║\n",
      "║     │                   │             │           │ Time        │ Time        │ Time        ║\n",
      "╠═════╪═══════════════════╪═════════════╪═══════════╪═════════════╪═════════════╪═════════════╣\n",
      "║ 0   │ 20230321034958921 │ deltacommit │ COMPLETED │ 03-21 03:50 │ 03-21 03:50 │ 03-21 03:50 ║\n",
      "╟─────┼───────────────────┼─────────────┼───────────┼─────────────┼─────────────┼─────────────╢\n",
      "║ 1   │ 20230321035121148 │ deltacommit │ COMPLETED │ 03-21 03:51 │ 03-21 03:51 │ 03-21 03:51 ║\n",
      "╚═════╧═══════════════════╧═════════════╧═══════════╧═════════════╧═════════════╧═════════════╝\n",
      "\n",
      "[ COMMITS ]\n",
      "\n",
      "╔═══════════════════╤═════════════════════╤═══════════════════╤═════════════════════╤══════════════════════════╤═══════════════════════╤══════════════════════════════╤══════════════╗\n",
      "║ CommitTime        │ Total Bytes Written │ Total Files Added │ Total Files Updated │ Total Partitions Written │ Total Records Written │ Total Update Records Written │ Total Errors ║\n",
      "╠═══════════════════╪═════════════════════╪═══════════════════╪═════════════════════╪══════════════════════════╪═══════════════════════╪══════════════════════════════╪══════════════╣\n",
      "║ 20230321035121148 │ 1.6 MB              │ 0                 │ 2                   │ 2                        │ 2951                  │ 2951                         │ 0            ║\n",
      "╟───────────────────┼─────────────────────┼───────────────────┼─────────────────────┼──────────────────────────┼───────────────────────┼──────────────────────────────┼──────────────╢\n",
      "║ 20230321034958921 │ 191.6 MB            │ 2                 │ 0                   │ 2                        │ 1155127               │ 0                            │ 0            ║\n",
      "╚═══════════════════╧═════════════════════╧═══════════════════╧═════════════════════╧══════════════════════════╧═══════════════════════╧══════════════════════════════╧══════════════╝\n",
      "\n",
      "[ COMPACTIONS ]\n",
      "\n",
      "╔═════════════════════════╤═══════╤═══════════════════════════════╗\n",
      "║ Compaction Instant Time │ State │ Total FileIds to be Compacted ║\n",
      "╠═════════════════════════╧═══════╧═══════════════════════════════╣\n",
      "║ (empty)                                                         ║\n",
      "╚═════════════════════════════════════════════════════════════════╝\n",
      "\n",
      "[ STORAGE ]\n",
      "\n",
      "/home/emr-notebook/apache-hudi-core-conceptions/reviews_mor_compaction_1\n",
      "├── [ 97M 03:52:00]  parity=0\n",
      "│   ├── [787K 03:51:30]  .e503f354-07cd-4318-81de-f81d01386c83-0_20230321034958921.log.1_0-83-691\n",
      "│   └── [ 96M 03:50:44]  e503f354-07cd-4318-81de-f81d01386c83-0_0-35-630_20230321034958921.parquet\n",
      "└── [ 97M 03:52:00]  parity=1\n",
      "    ├── [813K 03:51:30]  .477a89a0-a684-4353-9084-dbcf96e65ee6-0_20230321034958921.log.1_1-83-692\n",
      "    └── [ 96M 03:50:43]  477a89a0-a684-4353-9084-dbcf96e65ee6-0_1-35-631_20230321034958921.parquet\n"
     ]
    }
   ],
   "source": [
    "%%sh\n",
    "${WORKSPACE}/hudi-stat.sh s3://${S3_BUCKET}/${TABLE_NAME} timeline commits compactions storage"
   ]
  },
  {
   "cell_type": "markdown",
   "id": "92188a32-f51e-402b-a851-85b21021d0bb",
   "metadata": {
    "tags": []
   },
   "source": [
    "### 2.7. Update 1.2MB / +1 Log File +1 Base File"
   ]
  },
  {
   "cell_type": "code",
   "execution_count": 19,
   "id": "4c2900a0-e7a5-4a0e-9811-4c8511c2d699",
   "metadata": {
    "execution": {
     "iopub.execute_input": "2023-03-21T03:52:00.375744Z",
     "iopub.status.busy": "2023-03-21T03:52:00.375377Z",
     "iopub.status.idle": "2023-03-21T03:52:47.847231Z",
     "shell.execute_reply": "2023-03-21T03:52:47.846382Z",
     "shell.execute_reply.started": "2023-03-21T03:52:00.375705Z"
    },
    "tags": []
   },
   "outputs": [
    {
     "data": {
      "application/vnd.jupyter.widget-view+json": {
       "model_id": "",
       "version_major": 2,
       "version_minor": 0
      },
      "text/plain": [
       "FloatProgress(value=0.0, bar_style='info', description='Progress:', layout=Layout(height='25px', width='50%'),…"
      ]
     },
     "metadata": {},
     "output_type": "display_data"
    },
    {
     "data": {
      "text/html": [
       "<style>.jp-OutputArea-child .jupyter-widgets.jp-OutputArea-output { overflow: auto; }</style>"
      ],
      "text/plain": [
       "<IPython.core.display.HTML object>"
      ]
     },
     "metadata": {},
     "output_type": "display_data"
    },
    {
     "data": {
      "application/vnd.jupyter.widget-view+json": {
       "model_id": "705271dd305c407f81deb846730dafa8",
       "version_major": 2,
       "version_minor": 0
      },
      "text/plain": [
       "VBox(children=(HBox(), EncodingWidget(children=(VBox(children=(HTML(value='Encoding:'), Dropdown(description='…"
      ]
     },
     "metadata": {},
     "output_type": "display_data"
    },
    {
     "data": {
      "application/vnd.jupyter.widget-view+json": {
       "model_id": "2df8b4d2dd234d6a9252be052ab97ea8",
       "version_major": 2,
       "version_minor": 0
      },
      "text/plain": [
       "Output()"
      ]
     },
     "metadata": {},
     "output_type": "display_data"
    }
   ],
   "source": [
    "%%sql\n",
    "update\n",
    "    ${TABLE_NAME}\n",
    "set             \n",
    "    review_body = concat(uuid(),uuid(),uuid(),uuid(),uuid(),uuid(),uuid(),uuid(),uuid(),uuid()),\n",
    "    timestamp = unix_timestamp(current_timestamp())\n",
    "where\n",
    "    review_date = '2003-01-02'\n",
    ";"
   ]
  },
  {
   "cell_type": "code",
   "execution_count": 20,
   "id": "d656a2a9-0d72-4afd-b1b0-ce71be37c43d",
   "metadata": {
    "execution": {
     "iopub.execute_input": "2023-03-21T03:52:47.849088Z",
     "iopub.status.busy": "2023-03-21T03:52:47.848732Z",
     "iopub.status.idle": "2023-03-21T03:53:10.978937Z",
     "shell.execute_reply": "2023-03-21T03:53:10.978039Z",
     "shell.execute_reply.started": "2023-03-21T03:52:47.849053Z"
    },
    "tags": []
   },
   "outputs": [
    {
     "name": "stdout",
     "output_type": "stream",
     "text": [
      "\n",
      "[ TIMELINE ]\n",
      "\n",
      "╔═════╤═══════════════════╤═════════════╤═══════════╤═════════════╤═════════════╤═════════════╗\n",
      "║ No. │ Instant           │ Action      │ State     │ Requested   │ Inflight    │ Completed   ║\n",
      "║     │                   │             │           │ Time        │ Time        │ Time        ║\n",
      "╠═════╪═══════════════════╪═════════════╪═══════════╪═════════════╪═════════════╪═════════════╣\n",
      "║ 0   │ 20230321034958921 │ deltacommit │ COMPLETED │ 03-21 03:50 │ 03-21 03:50 │ 03-21 03:50 ║\n",
      "╟─────┼───────────────────┼─────────────┼───────────┼─────────────┼─────────────┼─────────────╢\n",
      "║ 1   │ 20230321035121148 │ deltacommit │ COMPLETED │ 03-21 03:51 │ 03-21 03:51 │ 03-21 03:51 ║\n",
      "╟─────┼───────────────────┼─────────────┼───────────┼─────────────┼─────────────┼─────────────╢\n",
      "║ 2   │ 20230321035201096 │ deltacommit │ COMPLETED │ 03-21 03:52 │ 03-21 03:52 │ 03-21 03:52 ║\n",
      "╟─────┼───────────────────┼─────────────┼───────────┼─────────────┼─────────────┼─────────────╢\n",
      "║ 3   │ 20230321035216478 │ commit      │ COMPLETED │ 03-21 03:52 │ 03-21 03:52 │ 03-21 03:52 ║\n",
      "╚═════╧═══════════════════╧═════════════╧═══════════╧═════════════╧═════════════╧═════════════╝\n",
      "\n",
      "[ COMMITS ]\n",
      "\n",
      "╔═══════════════════╤═════════════════════╤═══════════════════╤═════════════════════╤══════════════════════════╤═══════════════════════╤══════════════════════════════╤══════════════╗\n",
      "║ CommitTime        │ Total Bytes Written │ Total Files Added │ Total Files Updated │ Total Partitions Written │ Total Records Written │ Total Update Records Written │ Total Errors ║\n",
      "╠═══════════════════╪═════════════════════╪═══════════════════╪═════════════════════╪══════════════════════════╪═══════════════════════╪══════════════════════════════╪══════════════╣\n",
      "║ 20230321035216478 │ 192.3 MB            │ 0                 │ 2                   │ 2                        │ 1155127               │ 7292                         │ 0            ║\n",
      "╟───────────────────┼─────────────────────┼───────────────────┼─────────────────────┼──────────────────────────┼───────────────────────┼──────────────────────────────┼──────────────╢\n",
      "║ 20230321035201096 │ 2.3 MB              │ 0                 │ 2                   │ 2                        │ 4341                  │ 4341                         │ 0            ║\n",
      "╟───────────────────┼─────────────────────┼───────────────────┼─────────────────────┼──────────────────────────┼───────────────────────┼──────────────────────────────┼──────────────╢\n",
      "║ 20230321035121148 │ 1.6 MB              │ 0                 │ 2                   │ 2                        │ 2951                  │ 2951                         │ 0            ║\n",
      "╟───────────────────┼─────────────────────┼───────────────────┼─────────────────────┼──────────────────────────┼───────────────────────┼──────────────────────────────┼──────────────╢\n",
      "║ 20230321034958921 │ 191.6 MB            │ 2                 │ 0                   │ 2                        │ 1155127               │ 0                            │ 0            ║\n",
      "╚═══════════════════╧═════════════════════╧═══════════════════╧═════════════════════╧══════════════════════════╧═══════════════════════╧══════════════════════════════╧══════════════╝\n",
      "\n",
      "[ COMPACTIONS ]\n",
      "\n",
      "╔═════════════════════════╤═══════════╤═══════════════════════════════╗\n",
      "║ Compaction Instant Time │ State     │ Total FileIds to be Compacted ║\n",
      "╠═════════════════════════╪═══════════╪═══════════════════════════════╣\n",
      "║ 20230321035216478       │ COMPLETED │ 2                             ║\n",
      "╚═════════════════════════╧═══════════╧═══════════════════════════════╝\n",
      "\n",
      "[ STORAGE ]\n",
      "\n",
      "/home/emr-notebook/apache-hudi-core-conceptions/reviews_mor_compaction_1\n",
      "├── [194M 03:53:10]  parity=0\n",
      "│   ├── [787K 03:51:30]  .e503f354-07cd-4318-81de-f81d01386c83-0_20230321034958921.log.1_0-83-691\n",
      "│   ├── [1.2M 03:52:10]  .e503f354-07cd-4318-81de-f81d01386c83-0_20230321034958921.log.2_0-131-752\n",
      "│   ├── [ 96M 03:52:41]  e503f354-07cd-4318-81de-f81d01386c83-0_0-154-773_20230321035216478.parquet\n",
      "│   └── [ 96M 03:50:44]  e503f354-07cd-4318-81de-f81d01386c83-0_0-35-630_20230321034958921.parquet\n",
      "└── [194M 03:53:10]  parity=1\n",
      "    ├── [813K 03:51:30]  .477a89a0-a684-4353-9084-dbcf96e65ee6-0_20230321034958921.log.1_1-83-692\n",
      "    ├── [1.1M 03:52:10]  .477a89a0-a684-4353-9084-dbcf96e65ee6-0_20230321034958921.log.2_1-131-753\n",
      "    ├── [ 96M 03:52:41]  477a89a0-a684-4353-9084-dbcf96e65ee6-0_1-154-774_20230321035216478.parquet\n",
      "    └── [ 96M 03:50:43]  477a89a0-a684-4353-9084-dbcf96e65ee6-0_1-35-631_20230321034958921.parquet\n"
     ]
    }
   ],
   "source": [
    "%%sh\n",
    "${WORKSPACE}/hudi-stat.sh s3://${S3_BUCKET}/${TABLE_NAME} timeline commits compactions storage"
   ]
  },
  {
   "cell_type": "markdown",
   "id": "b6b4d1a0-eb11-44c8-84d6-e5511b010ee1",
   "metadata": {
    "tags": [],
    "toc-hr-collapsed": true
   },
   "source": [
    "## 3. Test Case 2 - Async Compaction ( Offline Schedule, Offline Execute )"
   ]
  },
  {
   "cell_type": "markdown",
   "id": "733e27a1-3654-46c9-a983-e5b50cce7a2f",
   "metadata": {
    "tags": []
   },
   "source": [
    "### 3.1. Test Plan\n",
    "\n",
    "Step No.|Action|Volume Per Partition |Storage\n",
    ":--------:|:------|:------|:----------\n",
    "1|Insert|96MB|+1 Base File\n",
    "2|Update|804KB|+1 Log File\n",
    "3|Update|1.2MB|+1 Log File +1 Base File\n",
    "4|Offline Schedule|N/A|N/A\n",
    "5|Offline Execute|96.15MB|+1 Compacted File"
   ]
  },
  {
   "cell_type": "markdown",
   "id": "97e4f5b9-0a56-449d-8ebe-fcc0407f13de",
   "metadata": {
    "tags": []
   },
   "source": [
    "### 3.2. Key Settings\n",
    "\n",
    "KEY|DEFAULT VALUE|SET VALUE\n",
    ":---|:---|:---\n",
    "hoodie.compact.inline|false|true\n",
    "hoodie.compact.schedule.inline|false|false\n",
    "hoodie.compact.inline.max.delta.commits|5|3\n",
    "hoodie.copyonwrite.record.size.estimate|1024|175"
   ]
  },
  {
   "cell_type": "markdown",
   "id": "6fdade50-00ad-4d47-b203-81d8c8066938",
   "metadata": {
    "execution": {
     "iopub.execute_input": "2023-02-25T02:57:45.037101Z",
     "iopub.status.busy": "2023-02-25T02:57:45.036681Z",
     "iopub.status.idle": "2023-02-25T02:58:07.353493Z",
     "shell.execute_reply": "2023-02-25T02:58:07.352596Z",
     "shell.execute_reply.started": "2023-02-25T02:57:45.037060Z"
    },
    "tags": []
   },
   "source": [
    "### 3.3. Set Variables"
   ]
  },
  {
   "cell_type": "code",
   "execution_count": 21,
   "id": "3e358585-c75c-4840-98da-f3385d2d915d",
   "metadata": {
    "execution": {
     "iopub.execute_input": "2023-03-21T03:53:10.980420Z",
     "iopub.status.busy": "2023-03-21T03:53:10.980176Z",
     "iopub.status.idle": "2023-03-21T03:53:12.030488Z",
     "shell.execute_reply": "2023-03-21T03:53:12.029779Z",
     "shell.execute_reply.started": "2023-03-21T03:53:10.980395Z"
    },
    "tags": []
   },
   "outputs": [
    {
     "data": {
      "application/vnd.jupyter.widget-view+json": {
       "model_id": "",
       "version_major": 2,
       "version_minor": 0
      },
      "text/plain": [
       "FloatProgress(value=0.0, bar_style='info', description='Progress:', layout=Layout(height='25px', width='50%'),…"
      ]
     },
     "metadata": {},
     "output_type": "display_data"
    },
    {
     "data": {
      "text/html": [
       "<style>.jp-OutputArea-child .jupyter-widgets.jp-OutputArea-output { overflow: auto; }</style>"
      ],
      "text/plain": [
       "<IPython.core.display.HTML object>"
      ]
     },
     "metadata": {},
     "output_type": "display_data"
    },
    {
     "data": {
      "application/vnd.jupyter.widget-view+json": {
       "model_id": "6dc48a8155b742b2ba285983b5e56b02",
       "version_major": 2,
       "version_minor": 0
      },
      "text/plain": [
       "VBox(children=(HBox(children=(HTML(value='Type:'), Button(description='Table', layout=Layout(width='70px'), st…"
      ]
     },
     "metadata": {},
     "output_type": "display_data"
    },
    {
     "data": {
      "application/vnd.jupyter.widget-view+json": {
       "model_id": "40660fd330df492f88cefe76415d5b29",
       "version_major": 2,
       "version_minor": 0
      },
      "text/plain": [
       "Output()"
      ]
     },
     "metadata": {},
     "output_type": "display_data"
    }
   ],
   "source": [
    "%%sql\n",
    "set TABLE_NAME=reviews_mor_compaction_2"
   ]
  },
  {
   "cell_type": "code",
   "execution_count": 22,
   "id": "a961a1cd-7a61-4fe8-aef5-36d54331aaef",
   "metadata": {
    "execution": {
     "iopub.execute_input": "2023-03-21T03:53:12.032027Z",
     "iopub.status.busy": "2023-03-21T03:53:12.031691Z",
     "iopub.status.idle": "2023-03-21T03:53:12.036581Z",
     "shell.execute_reply": "2023-03-21T03:53:12.035856Z",
     "shell.execute_reply.started": "2023-03-21T03:53:12.031996Z"
    },
    "tags": []
   },
   "outputs": [
    {
     "name": "stdout",
     "output_type": "stream",
     "text": [
      "env: TABLE_NAME=reviews_mor_compaction_2\n"
     ]
    }
   ],
   "source": [
    "%env TABLE_NAME=reviews_mor_compaction_2"
   ]
  },
  {
   "cell_type": "markdown",
   "id": "50c3d8e7-c792-45c7-b1b7-00122d252000",
   "metadata": {
    "tags": []
   },
   "source": [
    "### 3.4. Create Table"
   ]
  },
  {
   "cell_type": "code",
   "execution_count": 23,
   "id": "1d6e4141-cea5-4d95-871c-5d3b1be082ec",
   "metadata": {
    "execution": {
     "iopub.execute_input": "2023-03-21T03:53:12.044465Z",
     "iopub.status.busy": "2023-03-21T03:53:12.044164Z",
     "iopub.status.idle": "2023-03-21T03:53:17.989400Z",
     "shell.execute_reply": "2023-03-21T03:53:17.988502Z",
     "shell.execute_reply.started": "2023-03-21T03:53:12.044435Z"
    },
    "tags": []
   },
   "outputs": [],
   "source": [
    "%%sh\n",
    "aws s3 rm s3://${S3_BUCKET}/${TABLE_NAME} --recursive &>/dev/null\n",
    "rm -rf ${WORKSPACE}/${TABLE_NAME}\n",
    "sleep 5"
   ]
  },
  {
   "cell_type": "code",
   "execution_count": 24,
   "id": "caae37d5-1168-4e68-a8f9-7c3313529971",
   "metadata": {
    "execution": {
     "iopub.execute_input": "2023-03-21T03:53:17.992556Z",
     "iopub.status.busy": "2023-03-21T03:53:17.992307Z",
     "iopub.status.idle": "2023-03-21T03:53:18.827367Z",
     "shell.execute_reply": "2023-03-21T03:53:18.826628Z",
     "shell.execute_reply.started": "2023-03-21T03:53:17.992530Z"
    },
    "tags": []
   },
   "outputs": [
    {
     "data": {
      "application/vnd.jupyter.widget-view+json": {
       "model_id": "",
       "version_major": 2,
       "version_minor": 0
      },
      "text/plain": [
       "FloatProgress(value=0.0, bar_style='info', description='Progress:', layout=Layout(height='25px', width='50%'),…"
      ]
     },
     "metadata": {},
     "output_type": "display_data"
    },
    {
     "data": {
      "text/html": [
       "<style>.jp-OutputArea-child .jupyter-widgets.jp-OutputArea-output { overflow: auto; }</style>"
      ],
      "text/plain": [
       "<IPython.core.display.HTML object>"
      ]
     },
     "metadata": {},
     "output_type": "display_data"
    },
    {
     "data": {
      "application/vnd.jupyter.widget-view+json": {
       "model_id": "33fbbe9c1bd04e3599b158337756134c",
       "version_major": 2,
       "version_minor": 0
      },
      "text/plain": [
       "VBox(children=(HBox(), EncodingWidget(children=(VBox(children=(HTML(value='Encoding:'), Dropdown(description='…"
      ]
     },
     "metadata": {},
     "output_type": "display_data"
    },
    {
     "data": {
      "application/vnd.jupyter.widget-view+json": {
       "model_id": "0226d670f1b04cb2b406d945d4d9bcc8",
       "version_major": 2,
       "version_minor": 0
      },
      "text/plain": [
       "Output()"
      ]
     },
     "metadata": {},
     "output_type": "display_data"
    }
   ],
   "source": [
    "%%sql\n",
    "drop table if exists ${TABLE_NAME}"
   ]
  },
  {
   "cell_type": "code",
   "execution_count": 25,
   "id": "f0c8e2d7-ff10-4082-b71e-7268359d3574",
   "metadata": {
    "execution": {
     "iopub.execute_input": "2023-03-21T03:53:18.829090Z",
     "iopub.status.busy": "2023-03-21T03:53:18.828753Z",
     "iopub.status.idle": "2023-03-21T03:53:19.672363Z",
     "shell.execute_reply": "2023-03-21T03:53:19.671663Z",
     "shell.execute_reply.started": "2023-03-21T03:53:18.829054Z"
    },
    "tags": []
   },
   "outputs": [
    {
     "data": {
      "application/vnd.jupyter.widget-view+json": {
       "model_id": "",
       "version_major": 2,
       "version_minor": 0
      },
      "text/plain": [
       "FloatProgress(value=0.0, bar_style='info', description='Progress:', layout=Layout(height='25px', width='50%'),…"
      ]
     },
     "metadata": {},
     "output_type": "display_data"
    },
    {
     "data": {
      "text/html": [
       "<style>.jp-OutputArea-child .jupyter-widgets.jp-OutputArea-output { overflow: auto; }</style>"
      ],
      "text/plain": [
       "<IPython.core.display.HTML object>"
      ]
     },
     "metadata": {},
     "output_type": "display_data"
    },
    {
     "data": {
      "application/vnd.jupyter.widget-view+json": {
       "model_id": "dbb29a217d784316b377dd020e0e5db1",
       "version_major": 2,
       "version_minor": 0
      },
      "text/plain": [
       "VBox(children=(HBox(), EncodingWidget(children=(VBox(children=(HTML(value='Encoding:'), Dropdown(description='…"
      ]
     },
     "metadata": {},
     "output_type": "display_data"
    },
    {
     "data": {
      "application/vnd.jupyter.widget-view+json": {
       "model_id": "85a20889e14640b283e1534a0de54dba",
       "version_major": 2,
       "version_minor": 0
      },
      "text/plain": [
       "Output()"
      ]
     },
     "metadata": {},
     "output_type": "display_data"
    }
   ],
   "source": [
    "%%sql\n",
    "drop table if exists ${TABLE_NAME}_ro"
   ]
  },
  {
   "cell_type": "code",
   "execution_count": 26,
   "id": "3beb5c35-6be9-478d-aad6-ef1caa5f7430",
   "metadata": {
    "execution": {
     "iopub.execute_input": "2023-03-21T03:53:19.673572Z",
     "iopub.status.busy": "2023-03-21T03:53:19.673323Z",
     "iopub.status.idle": "2023-03-21T03:53:20.512547Z",
     "shell.execute_reply": "2023-03-21T03:53:20.511842Z",
     "shell.execute_reply.started": "2023-03-21T03:53:19.673549Z"
    },
    "tags": []
   },
   "outputs": [
    {
     "data": {
      "application/vnd.jupyter.widget-view+json": {
       "model_id": "",
       "version_major": 2,
       "version_minor": 0
      },
      "text/plain": [
       "FloatProgress(value=0.0, bar_style='info', description='Progress:', layout=Layout(height='25px', width='50%'),…"
      ]
     },
     "metadata": {},
     "output_type": "display_data"
    },
    {
     "data": {
      "text/html": [
       "<style>.jp-OutputArea-child .jupyter-widgets.jp-OutputArea-output { overflow: auto; }</style>"
      ],
      "text/plain": [
       "<IPython.core.display.HTML object>"
      ]
     },
     "metadata": {},
     "output_type": "display_data"
    },
    {
     "data": {
      "application/vnd.jupyter.widget-view+json": {
       "model_id": "f414f60cccd14d3181ef030d2ec88fa1",
       "version_major": 2,
       "version_minor": 0
      },
      "text/plain": [
       "VBox(children=(HBox(), EncodingWidget(children=(VBox(children=(HTML(value='Encoding:'), Dropdown(description='…"
      ]
     },
     "metadata": {},
     "output_type": "display_data"
    },
    {
     "data": {
      "application/vnd.jupyter.widget-view+json": {
       "model_id": "69a5098bfeef4bc7abb8088169aa57ae",
       "version_major": 2,
       "version_minor": 0
      },
      "text/plain": [
       "Output()"
      ]
     },
     "metadata": {},
     "output_type": "display_data"
    }
   ],
   "source": [
    "%%sql\n",
    "drop table if exists ${TABLE_NAME}_rt"
   ]
  },
  {
   "cell_type": "code",
   "execution_count": 27,
   "id": "39157868-3a23-4309-993f-343d8849ee4b",
   "metadata": {
    "execution": {
     "iopub.execute_input": "2023-03-21T03:53:20.513734Z",
     "iopub.status.busy": "2023-03-21T03:53:20.513501Z",
     "iopub.status.idle": "2023-03-21T03:53:22.848675Z",
     "shell.execute_reply": "2023-03-21T03:53:22.847888Z",
     "shell.execute_reply.started": "2023-03-21T03:53:20.513711Z"
    },
    "tags": []
   },
   "outputs": [
    {
     "data": {
      "application/vnd.jupyter.widget-view+json": {
       "model_id": "",
       "version_major": 2,
       "version_minor": 0
      },
      "text/plain": [
       "FloatProgress(value=0.0, bar_style='info', description='Progress:', layout=Layout(height='25px', width='50%'),…"
      ]
     },
     "metadata": {},
     "output_type": "display_data"
    },
    {
     "data": {
      "text/html": [
       "<style>.jp-OutputArea-child .jupyter-widgets.jp-OutputArea-output { overflow: auto; }</style>"
      ],
      "text/plain": [
       "<IPython.core.display.HTML object>"
      ]
     },
     "metadata": {},
     "output_type": "display_data"
    },
    {
     "data": {
      "application/vnd.jupyter.widget-view+json": {
       "model_id": "62df0fb96e054b07965dde151077f295",
       "version_major": 2,
       "version_minor": 0
      },
      "text/plain": [
       "VBox(children=(HBox(), EncodingWidget(children=(VBox(children=(HTML(value='Encoding:'), Dropdown(description='…"
      ]
     },
     "metadata": {},
     "output_type": "display_data"
    },
    {
     "data": {
      "application/vnd.jupyter.widget-view+json": {
       "model_id": "0ae734374ec34c65a81644117b7c68ac",
       "version_major": 2,
       "version_minor": 0
      },
      "text/plain": [
       "Output()"
      ]
     },
     "metadata": {},
     "output_type": "display_data"
    }
   ],
   "source": [
    "%%sql\n",
    "create table if not exists ${TABLE_NAME} (\n",
    "    review_id string, \n",
    "    star_rating long, \n",
    "    review_body string, \n",
    "    review_date date, \n",
    "    year long,\n",
    "    timestamp long,\n",
    "    parity int\n",
    ")\n",
    "using hudi\n",
    "location 's3://${S3_BUCKET}/${TABLE_NAME}'\n",
    "partitioned by (parity)\n",
    "options ( \n",
    "    type = 'mor',  \n",
    "    primaryKey = 'review_id', \n",
    "    preCombineField = 'timestamp',\n",
    "    hoodie.compact.inline = 'false',\n",
    "    hoodie.compact.schedule.inline = 'false',\n",
    "    hoodie.compact.inline.max.delta.commits = '3',\n",
    "    hoodie.copyonwrite.record.size.estimate = '175'\n",
    ");"
   ]
  },
  {
   "cell_type": "markdown",
   "id": "9245a1f4-bb6b-4866-8e92-1215b1078019",
   "metadata": {
    "tags": []
   },
   "source": [
    "### 3.5. Insert 96MB / +1 Base File"
   ]
  },
  {
   "cell_type": "code",
   "execution_count": 28,
   "id": "8ef4ae94-304a-4b11-911c-39a7bf3eb009",
   "metadata": {
    "execution": {
     "iopub.execute_input": "2023-03-21T03:53:22.850341Z",
     "iopub.status.busy": "2023-03-21T03:53:22.849994Z",
     "iopub.status.idle": "2023-03-21T03:54:08.306865Z",
     "shell.execute_reply": "2023-03-21T03:54:08.306043Z",
     "shell.execute_reply.started": "2023-03-21T03:53:22.850305Z"
    },
    "tags": []
   },
   "outputs": [
    {
     "data": {
      "application/vnd.jupyter.widget-view+json": {
       "model_id": "",
       "version_major": 2,
       "version_minor": 0
      },
      "text/plain": [
       "FloatProgress(value=0.0, bar_style='info', description='Progress:', layout=Layout(height='25px', width='50%'),…"
      ]
     },
     "metadata": {},
     "output_type": "display_data"
    },
    {
     "data": {
      "text/html": [
       "<style>.jp-OutputArea-child .jupyter-widgets.jp-OutputArea-output { overflow: auto; }</style>"
      ],
      "text/plain": [
       "<IPython.core.display.HTML object>"
      ]
     },
     "metadata": {},
     "output_type": "display_data"
    },
    {
     "data": {
      "application/vnd.jupyter.widget-view+json": {
       "model_id": "28ce16636ae34cb4ba775c74c8fbb0a9",
       "version_major": 2,
       "version_minor": 0
      },
      "text/plain": [
       "VBox(children=(HBox(), EncodingWidget(children=(VBox(children=(HTML(value='Encoding:'), Dropdown(description='…"
      ]
     },
     "metadata": {},
     "output_type": "display_data"
    },
    {
     "data": {
      "application/vnd.jupyter.widget-view+json": {
       "model_id": "6482fc26edaa4c599c5c33fd8b6b0717",
       "version_major": 2,
       "version_minor": 0
      },
      "text/plain": [
       "Output()"
      ]
     },
     "metadata": {},
     "output_type": "display_data"
    }
   ],
   "source": [
    "%%sql\n",
    "insert into \n",
    "    ${TABLE_NAME}\n",
    "select \n",
    "    review_id, \n",
    "    star_rating, \n",
    "    review_body, \n",
    "    review_date, \n",
    "    year,\n",
    "    unix_timestamp(current_timestamp()) as timestamp,\n",
    "    mod(crc32(review_id), 2) as parity\n",
    "from\n",
    "    reviews\n",
    "where\n",
    "    year = 2003"
   ]
  },
  {
   "cell_type": "code",
   "execution_count": 29,
   "id": "9bd9e397-d36b-4c13-a100-412071fbbe58",
   "metadata": {
    "execution": {
     "iopub.execute_input": "2023-03-21T03:54:08.308533Z",
     "iopub.status.busy": "2023-03-21T03:54:08.308198Z",
     "iopub.status.idle": "2023-03-21T03:54:31.786268Z",
     "shell.execute_reply": "2023-03-21T03:54:31.785411Z",
     "shell.execute_reply.started": "2023-03-21T03:54:08.308498Z"
    },
    "tags": []
   },
   "outputs": [
    {
     "name": "stdout",
     "output_type": "stream",
     "text": [
      "\n",
      "[ TIMELINE ]\n",
      "\n",
      "╔═════╤═══════════════════╤═════════════╤═══════════╤═════════════╤═════════════╤═════════════╗\n",
      "║ No. │ Instant           │ Action      │ State     │ Requested   │ Inflight    │ Completed   ║\n",
      "║     │                   │             │           │ Time        │ Time        │ Time        ║\n",
      "╠═════╪═══════════════════╪═════════════╪═══════════╪═════════════╪═════════════╪═════════════╣\n",
      "║ 0   │ 20230321035323365 │ deltacommit │ COMPLETED │ 03-21 03:53 │ 03-21 03:53 │ 03-21 03:54 ║\n",
      "╚═════╧═══════════════════╧═════════════╧═══════════╧═════════════╧═════════════╧═════════════╝\n",
      "\n",
      "[ COMMITS ]\n",
      "\n",
      "╔═══════════════════╤═════════════════════╤═══════════════════╤═════════════════════╤══════════════════════════╤═══════════════════════╤══════════════════════════════╤══════════════╗\n",
      "║ CommitTime        │ Total Bytes Written │ Total Files Added │ Total Files Updated │ Total Partitions Written │ Total Records Written │ Total Update Records Written │ Total Errors ║\n",
      "╠═══════════════════╪═════════════════════╪═══════════════════╪═════════════════════╪══════════════════════════╪═══════════════════════╪══════════════════════════════╪══════════════╣\n",
      "║ 20230321035323365 │ 191.6 MB            │ 2                 │ 0                   │ 2                        │ 1155127               │ 0                            │ 0            ║\n",
      "╚═══════════════════╧═════════════════════╧═══════════════════╧═════════════════════╧══════════════════════════╧═══════════════════════╧══════════════════════════════╧══════════════╝\n",
      "\n",
      "[ COMPACTIONS ]\n",
      "\n",
      "╔═════════════════════════╤═══════╤═══════════════════════════════╗\n",
      "║ Compaction Instant Time │ State │ Total FileIds to be Compacted ║\n",
      "╠═════════════════════════╧═══════╧═══════════════════════════════╣\n",
      "║ (empty)                                                         ║\n",
      "╚═════════════════════════════════════════════════════════════════╝\n",
      "\n",
      "[ STORAGE ]\n",
      "\n",
      "/home/emr-notebook/apache-hudi-core-conceptions/reviews_mor_compaction_2\n",
      "├── [ 96M 03:54:31]  parity=0\n",
      "│   └── [ 96M 03:53:57]  0a83abbb-1352-4f69-9d07-fbba4e0fb9c8-0_0-207-1427_20230321035323365.parquet\n",
      "└── [ 96M 03:54:31]  parity=1\n",
      "    └── [ 96M 03:53:57]  203ee1c1-b889-4007-b22a-49b3d0d995c2-0_1-207-1428_20230321035323365.parquet\n"
     ]
    }
   ],
   "source": [
    "%%sh\n",
    "${WORKSPACE}/hudi-stat.sh s3://${S3_BUCKET}/${TABLE_NAME} timeline commits compactions storage"
   ]
  },
  {
   "cell_type": "markdown",
   "id": "32af67bd-efd3-4b8e-9aed-c204fedc77c8",
   "metadata": {
    "tags": []
   },
   "source": [
    "### 3.6. Update 803KB / +1 Log File"
   ]
  },
  {
   "cell_type": "code",
   "execution_count": 30,
   "id": "a19c0c56-defc-4054-9104-943f2d10b1a1",
   "metadata": {
    "execution": {
     "iopub.execute_input": "2023-03-21T03:54:31.787764Z",
     "iopub.status.busy": "2023-03-21T03:54:31.787514Z",
     "iopub.status.idle": "2023-03-21T03:54:49.182117Z",
     "shell.execute_reply": "2023-03-21T03:54:49.181260Z",
     "shell.execute_reply.started": "2023-03-21T03:54:31.787739Z"
    },
    "tags": []
   },
   "outputs": [
    {
     "data": {
      "application/vnd.jupyter.widget-view+json": {
       "model_id": "",
       "version_major": 2,
       "version_minor": 0
      },
      "text/plain": [
       "FloatProgress(value=0.0, bar_style='info', description='Progress:', layout=Layout(height='25px', width='50%'),…"
      ]
     },
     "metadata": {},
     "output_type": "display_data"
    },
    {
     "data": {
      "text/html": [
       "<style>.jp-OutputArea-child .jupyter-widgets.jp-OutputArea-output { overflow: auto; }</style>"
      ],
      "text/plain": [
       "<IPython.core.display.HTML object>"
      ]
     },
     "metadata": {},
     "output_type": "display_data"
    },
    {
     "data": {
      "application/vnd.jupyter.widget-view+json": {
       "model_id": "489fe357f15d472d94dd890ca70ae615",
       "version_major": 2,
       "version_minor": 0
      },
      "text/plain": [
       "VBox(children=(HBox(), EncodingWidget(children=(VBox(children=(HTML(value='Encoding:'), Dropdown(description='…"
      ]
     },
     "metadata": {},
     "output_type": "display_data"
    },
    {
     "data": {
      "application/vnd.jupyter.widget-view+json": {
       "model_id": "7c4e509e412f4408aadeb0bf9ae622a5",
       "version_major": 2,
       "version_minor": 0
      },
      "text/plain": [
       "Output()"
      ]
     },
     "metadata": {},
     "output_type": "display_data"
    }
   ],
   "source": [
    "%%sql\n",
    "update\n",
    "    ${TABLE_NAME}\n",
    "set             \n",
    "    review_body = concat(uuid(),uuid(),uuid(),uuid(),uuid(),uuid(),uuid(),uuid(),uuid(),uuid()),\n",
    "    timestamp = unix_timestamp(current_timestamp())\n",
    "where\n",
    "    review_date = '2003-01-01'\n",
    ";"
   ]
  },
  {
   "cell_type": "code",
   "execution_count": 31,
   "id": "6f13aace-5dfa-456a-9d7b-6b3d0d08f09c",
   "metadata": {
    "execution": {
     "iopub.execute_input": "2023-03-21T03:54:49.183478Z",
     "iopub.status.busy": "2023-03-21T03:54:49.183245Z",
     "iopub.status.idle": "2023-03-21T03:55:10.863011Z",
     "shell.execute_reply": "2023-03-21T03:55:10.862180Z",
     "shell.execute_reply.started": "2023-03-21T03:54:49.183456Z"
    },
    "tags": []
   },
   "outputs": [
    {
     "name": "stdout",
     "output_type": "stream",
     "text": [
      "\n",
      "[ TIMELINE ]\n",
      "\n",
      "╔═════╤═══════════════════╤═════════════╤═══════════╤═════════════╤═════════════╤═════════════╗\n",
      "║ No. │ Instant           │ Action      │ State     │ Requested   │ Inflight    │ Completed   ║\n",
      "║     │                   │             │           │ Time        │ Time        │ Time        ║\n",
      "╠═════╪═══════════════════╪═════════════╪═══════════╪═════════════╪═════════════╪═════════════╣\n",
      "║ 0   │ 20230321035323365 │ deltacommit │ COMPLETED │ 03-21 03:53 │ 03-21 03:53 │ 03-21 03:54 ║\n",
      "╟─────┼───────────────────┼─────────────┼───────────┼─────────────┼─────────────┼─────────────╢\n",
      "║ 1   │ 20230321035432425 │ deltacommit │ COMPLETED │ 03-21 03:54 │ 03-21 03:54 │ 03-21 03:54 ║\n",
      "╚═════╧═══════════════════╧═════════════╧═══════════╧═════════════╧═════════════╧═════════════╝\n",
      "\n",
      "[ COMMITS ]\n",
      "\n",
      "╔═══════════════════╤═════════════════════╤═══════════════════╤═════════════════════╤══════════════════════════╤═══════════════════════╤══════════════════════════════╤══════════════╗\n",
      "║ CommitTime        │ Total Bytes Written │ Total Files Added │ Total Files Updated │ Total Partitions Written │ Total Records Written │ Total Update Records Written │ Total Errors ║\n",
      "╠═══════════════════╪═════════════════════╪═══════════════════╪═════════════════════╪══════════════════════════╪═══════════════════════╪══════════════════════════════╪══════════════╣\n",
      "║ 20230321035432425 │ 1.6 MB              │ 0                 │ 2                   │ 2                        │ 2951                  │ 2951                         │ 0            ║\n",
      "╟───────────────────┼─────────────────────┼───────────────────┼─────────────────────┼──────────────────────────┼───────────────────────┼──────────────────────────────┼──────────────╢\n",
      "║ 20230321035323365 │ 191.6 MB            │ 2                 │ 0                   │ 2                        │ 1155127               │ 0                            │ 0            ║\n",
      "╚═══════════════════╧═════════════════════╧═══════════════════╧═════════════════════╧══════════════════════════╧═══════════════════════╧══════════════════════════════╧══════════════╝\n",
      "\n",
      "[ COMPACTIONS ]\n",
      "\n",
      "╔═════════════════════════╤═══════╤═══════════════════════════════╗\n",
      "║ Compaction Instant Time │ State │ Total FileIds to be Compacted ║\n",
      "╠═════════════════════════╧═══════╧═══════════════════════════════╣\n",
      "║ (empty)                                                         ║\n",
      "╚═════════════════════════════════════════════════════════════════╝\n",
      "\n",
      "[ STORAGE ]\n",
      "\n",
      "/home/emr-notebook/apache-hudi-core-conceptions/reviews_mor_compaction_2\n",
      "├── [ 97M 03:55:10]  parity=0\n",
      "│   ├── [788K 03:54:40]  .0a83abbb-1352-4f69-9d07-fbba4e0fb9c8-0_20230321035323365.log.1_0-255-1488\n",
      "│   └── [ 96M 03:53:57]  0a83abbb-1352-4f69-9d07-fbba4e0fb9c8-0_0-207-1427_20230321035323365.parquet\n",
      "└── [ 97M 03:55:10]  parity=1\n",
      "    ├── [814K 03:54:40]  .203ee1c1-b889-4007-b22a-49b3d0d995c2-0_20230321035323365.log.1_1-255-1489\n",
      "    └── [ 96M 03:53:57]  203ee1c1-b889-4007-b22a-49b3d0d995c2-0_1-207-1428_20230321035323365.parquet\n"
     ]
    }
   ],
   "source": [
    "%%sh\n",
    "${WORKSPACE}/hudi-stat.sh s3://${S3_BUCKET}/${TABLE_NAME} timeline commits compactions storage"
   ]
  },
  {
   "cell_type": "markdown",
   "id": "6e08fab1-1da7-4d56-9105-1f1f198b94e3",
   "metadata": {
    "tags": []
   },
   "source": [
    "### 3.7. Update 1.2MB / +1 Log File +1 Base File"
   ]
  },
  {
   "cell_type": "code",
   "execution_count": 32,
   "id": "fb41bb13-86c9-476a-abdc-4e680da9137a",
   "metadata": {
    "execution": {
     "iopub.execute_input": "2023-03-21T03:55:10.864659Z",
     "iopub.status.busy": "2023-03-21T03:55:10.864400Z",
     "iopub.status.idle": "2023-03-21T03:55:28.284867Z",
     "shell.execute_reply": "2023-03-21T03:55:28.284188Z",
     "shell.execute_reply.started": "2023-03-21T03:55:10.864634Z"
    },
    "tags": []
   },
   "outputs": [
    {
     "data": {
      "application/vnd.jupyter.widget-view+json": {
       "model_id": "",
       "version_major": 2,
       "version_minor": 0
      },
      "text/plain": [
       "FloatProgress(value=0.0, bar_style='info', description='Progress:', layout=Layout(height='25px', width='50%'),…"
      ]
     },
     "metadata": {},
     "output_type": "display_data"
    },
    {
     "data": {
      "text/html": [
       "<style>.jp-OutputArea-child .jupyter-widgets.jp-OutputArea-output { overflow: auto; }</style>"
      ],
      "text/plain": [
       "<IPython.core.display.HTML object>"
      ]
     },
     "metadata": {},
     "output_type": "display_data"
    },
    {
     "data": {
      "application/vnd.jupyter.widget-view+json": {
       "model_id": "c2525784a52c4730ac46103536bd9891",
       "version_major": 2,
       "version_minor": 0
      },
      "text/plain": [
       "VBox(children=(HBox(), EncodingWidget(children=(VBox(children=(HTML(value='Encoding:'), Dropdown(description='…"
      ]
     },
     "metadata": {},
     "output_type": "display_data"
    },
    {
     "data": {
      "application/vnd.jupyter.widget-view+json": {
       "model_id": "4a8737160e564b078fd6c11e1714171d",
       "version_major": 2,
       "version_minor": 0
      },
      "text/plain": [
       "Output()"
      ]
     },
     "metadata": {},
     "output_type": "display_data"
    }
   ],
   "source": [
    "%%sql\n",
    "update\n",
    "    ${TABLE_NAME}\n",
    "set             \n",
    "    review_body = concat(uuid(),uuid(),uuid(),uuid(),uuid(),uuid(),uuid(),uuid(),uuid(),uuid()),\n",
    "    timestamp = unix_timestamp(current_timestamp())\n",
    "where\n",
    "    review_date = '2003-01-02'\n",
    ";"
   ]
  },
  {
   "cell_type": "code",
   "execution_count": 33,
   "id": "cba4b634-6c5a-4399-a7fa-b2d3a1ea7779",
   "metadata": {
    "execution": {
     "iopub.execute_input": "2023-03-21T03:55:28.286075Z",
     "iopub.status.busy": "2023-03-21T03:55:28.285836Z",
     "iopub.status.idle": "2023-03-21T03:55:51.243149Z",
     "shell.execute_reply": "2023-03-21T03:55:51.242259Z",
     "shell.execute_reply.started": "2023-03-21T03:55:28.286052Z"
    },
    "tags": []
   },
   "outputs": [
    {
     "name": "stdout",
     "output_type": "stream",
     "text": [
      "\n",
      "[ TIMELINE ]\n",
      "\n",
      "╔═════╤═══════════════════╤═════════════╤═══════════╤═════════════╤═════════════╤═════════════╗\n",
      "║ No. │ Instant           │ Action      │ State     │ Requested   │ Inflight    │ Completed   ║\n",
      "║     │                   │             │           │ Time        │ Time        │ Time        ║\n",
      "╠═════╪═══════════════════╪═════════════╪═══════════╪═════════════╪═════════════╪═════════════╣\n",
      "║ 0   │ 20230321035323365 │ deltacommit │ COMPLETED │ 03-21 03:53 │ 03-21 03:53 │ 03-21 03:54 ║\n",
      "╟─────┼───────────────────┼─────────────┼───────────┼─────────────┼─────────────┼─────────────╢\n",
      "║ 1   │ 20230321035432425 │ deltacommit │ COMPLETED │ 03-21 03:54 │ 03-21 03:54 │ 03-21 03:54 ║\n",
      "╟─────┼───────────────────┼─────────────┼───────────┼─────────────┼─────────────┼─────────────╢\n",
      "║ 2   │ 20230321035511490 │ deltacommit │ COMPLETED │ 03-21 03:55 │ 03-21 03:55 │ 03-21 03:55 ║\n",
      "╚═════╧═══════════════════╧═════════════╧═══════════╧═════════════╧═════════════╧═════════════╝\n",
      "\n",
      "[ COMMITS ]\n",
      "\n",
      "╔═══════════════════╤═════════════════════╤═══════════════════╤═════════════════════╤══════════════════════════╤═══════════════════════╤══════════════════════════════╤══════════════╗\n",
      "║ CommitTime        │ Total Bytes Written │ Total Files Added │ Total Files Updated │ Total Partitions Written │ Total Records Written │ Total Update Records Written │ Total Errors ║\n",
      "╠═══════════════════╪═════════════════════╪═══════════════════╪═════════════════════╪══════════════════════════╪═══════════════════════╪══════════════════════════════╪══════════════╣\n",
      "║ 20230321035511490 │ 2.3 MB              │ 0                 │ 2                   │ 2                        │ 4341                  │ 4341                         │ 0            ║\n",
      "╟───────────────────┼─────────────────────┼───────────────────┼─────────────────────┼──────────────────────────┼───────────────────────┼──────────────────────────────┼──────────────╢\n",
      "║ 20230321035432425 │ 1.6 MB              │ 0                 │ 2                   │ 2                        │ 2951                  │ 2951                         │ 0            ║\n",
      "╟───────────────────┼─────────────────────┼───────────────────┼─────────────────────┼──────────────────────────┼───────────────────────┼──────────────────────────────┼──────────────╢\n",
      "║ 20230321035323365 │ 191.6 MB            │ 2                 │ 0                   │ 2                        │ 1155127               │ 0                            │ 0            ║\n",
      "╚═══════════════════╧═════════════════════╧═══════════════════╧═════════════════════╧══════════════════════════╧═══════════════════════╧══════════════════════════════╧══════════════╝\n",
      "\n",
      "[ COMPACTIONS ]\n",
      "\n",
      "╔═════════════════════════╤═══════╤═══════════════════════════════╗\n",
      "║ Compaction Instant Time │ State │ Total FileIds to be Compacted ║\n",
      "╠═════════════════════════╧═══════╧═══════════════════════════════╣\n",
      "║ (empty)                                                         ║\n",
      "╚═════════════════════════════════════════════════════════════════╝\n",
      "\n",
      "[ STORAGE ]\n",
      "\n",
      "/home/emr-notebook/apache-hudi-core-conceptions/reviews_mor_compaction_2\n",
      "├── [ 98M 03:55:51]  parity=0\n",
      "│   ├── [788K 03:54:40]  .0a83abbb-1352-4f69-9d07-fbba4e0fb9c8-0_20230321035323365.log.1_0-255-1488\n",
      "│   ├── [1.2M 03:55:20]  .0a83abbb-1352-4f69-9d07-fbba4e0fb9c8-0_20230321035323365.log.2_0-303-1549\n",
      "│   └── [ 96M 03:53:57]  0a83abbb-1352-4f69-9d07-fbba4e0fb9c8-0_0-207-1427_20230321035323365.parquet\n",
      "└── [ 98M 03:55:51]  parity=1\n",
      "    ├── [814K 03:54:40]  .203ee1c1-b889-4007-b22a-49b3d0d995c2-0_20230321035323365.log.1_1-255-1489\n",
      "    ├── [1.1M 03:55:20]  .203ee1c1-b889-4007-b22a-49b3d0d995c2-0_20230321035323365.log.2_1-303-1550\n",
      "    └── [ 96M 03:53:57]  203ee1c1-b889-4007-b22a-49b3d0d995c2-0_1-207-1428_20230321035323365.parquet\n"
     ]
    }
   ],
   "source": [
    "%%sh\n",
    "${WORKSPACE}/hudi-stat.sh s3://${S3_BUCKET}/${TABLE_NAME} timeline commits compactions storage"
   ]
  },
  {
   "cell_type": "markdown",
   "id": "67fedbb9-282c-4a31-8c45-92c606c0d1e8",
   "metadata": {},
   "source": [
    "### 3.8. Offline Schedule"
   ]
  },
  {
   "cell_type": "code",
   "execution_count": 34,
   "id": "d1a86eab-96d4-41ae-8d5c-fde85bceec28",
   "metadata": {
    "execution": {
     "iopub.execute_input": "2023-03-21T03:55:51.244671Z",
     "iopub.status.busy": "2023-03-21T03:55:51.244425Z",
     "iopub.status.idle": "2023-03-21T03:56:15.168048Z",
     "shell.execute_reply": "2023-03-21T03:56:15.167108Z",
     "shell.execute_reply.started": "2023-03-21T03:55:51.244646Z"
    }
   },
   "outputs": [],
   "source": [
    "%%sh\n",
    "# it's required for current user (emr-notebook) to get sudo permission\n",
    "sudo -u hadoop spark-submit \\\n",
    "  --jars '/usr/lib/hudi/hudi-spark-bundle.jar' \\\n",
    "  --class 'org.apache.hudi.utilities.HoodieCompactor' \\\n",
    "  /usr/lib/hudi/hudi-utilities-bundle.jar \\\n",
    "  --spark-memory '4g' \\\n",
    "  --mode 'schedule' \\\n",
    "  --base-path \"s3://${S3_BUCKET}/${TABLE_NAME}\" \\\n",
    "  --table-name \"$TABLE_NAME\" \\\n",
    "  --hoodie-conf \"hoodie.compact.inline.max.delta.commits=3\" > ${WORKSPACE}/${TABLE_NAME}.schedule.out &>/dev/null"
   ]
  },
  {
   "cell_type": "code",
   "execution_count": 35,
   "id": "5a37632a-a3ad-4a04-8ac2-6358dc87ca20",
   "metadata": {
    "execution": {
     "iopub.execute_input": "2023-03-21T03:56:15.169559Z",
     "iopub.status.busy": "2023-03-21T03:56:15.169280Z",
     "iopub.status.idle": "2023-03-21T03:56:37.753468Z",
     "shell.execute_reply": "2023-03-21T03:56:37.752631Z",
     "shell.execute_reply.started": "2023-03-21T03:56:15.169533Z"
    }
   },
   "outputs": [
    {
     "name": "stdout",
     "output_type": "stream",
     "text": [
      "\n",
      "[ TIMELINE ]\n",
      "\n",
      "╔═════╤═══════════════════╤═════════════╤═══════════╤═════════════╤═════════════╤═════════════╗\n",
      "║ No. │ Instant           │ Action      │ State     │ Requested   │ Inflight    │ Completed   ║\n",
      "║     │                   │             │           │ Time        │ Time        │ Time        ║\n",
      "╠═════╪═══════════════════╪═════════════╪═══════════╪═════════════╪═════════════╪═════════════╣\n",
      "║ 0   │ 20230321035323365 │ deltacommit │ COMPLETED │ 03-21 03:53 │ 03-21 03:53 │ 03-21 03:54 ║\n",
      "╟─────┼───────────────────┼─────────────┼───────────┼─────────────┼─────────────┼─────────────╢\n",
      "║ 1   │ 20230321035432425 │ deltacommit │ COMPLETED │ 03-21 03:54 │ 03-21 03:54 │ 03-21 03:54 ║\n",
      "╟─────┼───────────────────┼─────────────┼───────────┼─────────────┼─────────────┼─────────────╢\n",
      "║ 2   │ 20230321035511490 │ deltacommit │ COMPLETED │ 03-21 03:55 │ 03-21 03:55 │ 03-21 03:55 ║\n",
      "╟─────┼───────────────────┼─────────────┼───────────┼─────────────┼─────────────┼─────────────╢\n",
      "║ 3   │ 20230321035607962 │ compaction  │ REQUESTED │ 03-21 03:56 │ -           │ -           ║\n",
      "╚═════╧═══════════════════╧═════════════╧═══════════╧═════════════╧═════════════╧═════════════╝\n",
      "\n",
      "[ COMMITS ]\n",
      "\n",
      "╔═══════════════════╤═════════════════════╤═══════════════════╤═════════════════════╤══════════════════════════╤═══════════════════════╤══════════════════════════════╤══════════════╗\n",
      "║ CommitTime        │ Total Bytes Written │ Total Files Added │ Total Files Updated │ Total Partitions Written │ Total Records Written │ Total Update Records Written │ Total Errors ║\n",
      "╠═══════════════════╪═════════════════════╪═══════════════════╪═════════════════════╪══════════════════════════╪═══════════════════════╪══════════════════════════════╪══════════════╣\n",
      "║ 20230321035511490 │ 2.3 MB              │ 0                 │ 2                   │ 2                        │ 4341                  │ 4341                         │ 0            ║\n",
      "╟───────────────────┼─────────────────────┼───────────────────┼─────────────────────┼──────────────────────────┼───────────────────────┼──────────────────────────────┼──────────────╢\n",
      "║ 20230321035432425 │ 1.6 MB              │ 0                 │ 2                   │ 2                        │ 2951                  │ 2951                         │ 0            ║\n",
      "╟───────────────────┼─────────────────────┼───────────────────┼─────────────────────┼──────────────────────────┼───────────────────────┼──────────────────────────────┼──────────────╢\n",
      "║ 20230321035323365 │ 191.6 MB            │ 2                 │ 0                   │ 2                        │ 1155127               │ 0                            │ 0            ║\n",
      "╚═══════════════════╧═════════════════════╧═══════════════════╧═════════════════════╧══════════════════════════╧═══════════════════════╧══════════════════════════════╧══════════════╝\n",
      "\n",
      "[ COMPACTIONS ]\n",
      "\n",
      "╔═════════════════════════╤═══════════╤═══════════════════════════════╗\n",
      "║ Compaction Instant Time │ State     │ Total FileIds to be Compacted ║\n",
      "╠═════════════════════════╪═══════════╪═══════════════════════════════╣\n",
      "║ 20230321035607962       │ REQUESTED │ 2                             ║\n",
      "╚═════════════════════════╧═══════════╧═══════════════════════════════╝\n",
      "\n",
      "[ STORAGE ]\n",
      "\n",
      "/home/emr-notebook/apache-hudi-core-conceptions/reviews_mor_compaction_2\n",
      "├── [ 98M 03:55:51]  parity=0\n",
      "│   ├── [788K 03:54:40]  .0a83abbb-1352-4f69-9d07-fbba4e0fb9c8-0_20230321035323365.log.1_0-255-1488\n",
      "│   ├── [1.2M 03:55:20]  .0a83abbb-1352-4f69-9d07-fbba4e0fb9c8-0_20230321035323365.log.2_0-303-1549\n",
      "│   └── [ 96M 03:53:57]  0a83abbb-1352-4f69-9d07-fbba4e0fb9c8-0_0-207-1427_20230321035323365.parquet\n",
      "└── [ 98M 03:55:51]  parity=1\n",
      "    ├── [814K 03:54:40]  .203ee1c1-b889-4007-b22a-49b3d0d995c2-0_20230321035323365.log.1_1-255-1489\n",
      "    ├── [1.1M 03:55:20]  .203ee1c1-b889-4007-b22a-49b3d0d995c2-0_20230321035323365.log.2_1-303-1550\n",
      "    └── [ 96M 03:53:57]  203ee1c1-b889-4007-b22a-49b3d0d995c2-0_1-207-1428_20230321035323365.parquet\n"
     ]
    }
   ],
   "source": [
    "%%sh\n",
    "${WORKSPACE}/hudi-stat.sh s3://${S3_BUCKET}/${TABLE_NAME} timeline commits compactions storage"
   ]
  },
  {
   "cell_type": "markdown",
   "id": "767651e7-0f4c-496f-9f26-83be7f2b2d1e",
   "metadata": {},
   "source": [
    "### 3.9. Offline Execute 96.15MB / +1 Compacted File"
   ]
  },
  {
   "cell_type": "code",
   "execution_count": 36,
   "id": "339cad2f-0e58-4439-bc68-b6cdda8ccd5f",
   "metadata": {
    "execution": {
     "iopub.execute_input": "2023-03-21T03:56:37.754964Z",
     "iopub.status.busy": "2023-03-21T03:56:37.754715Z",
     "iopub.status.idle": "2023-03-21T03:57:28.385010Z",
     "shell.execute_reply": "2023-03-21T03:57:28.384109Z",
     "shell.execute_reply.started": "2023-03-21T03:56:37.754937Z"
    },
    "tags": []
   },
   "outputs": [],
   "source": [
    "%%sh\n",
    "# it's required for current user (emr-notebook) to get sudo permission\n",
    "sudo -u hadoop spark-submit \\\n",
    "  --jars '/usr/lib/hudi/hudi-spark-bundle.jar' \\\n",
    "  --class \"org.apache.hudi.utilities.HoodieCompactor\" \\\n",
    "  /usr/lib/hudi/hudi-utilities-bundle.jar \\\n",
    "  --spark-memory '4g' \\\n",
    "  --mode 'execute' \\\n",
    "  --base-path \"s3://${S3_BUCKET}/${TABLE_NAME}\" \\\n",
    "  --table-name \"$TABLE_NAME\" > ${WORKSPACE}/${TABLE_NAME}.execute.out &>/dev/null"
   ]
  },
  {
   "cell_type": "code",
   "execution_count": 37,
   "id": "f7f3db57-9035-4c93-a5a5-0df1c810cafe",
   "metadata": {
    "execution": {
     "iopub.execute_input": "2023-03-21T03:57:28.386805Z",
     "iopub.status.busy": "2023-03-21T03:57:28.386458Z",
     "iopub.status.idle": "2023-03-21T03:57:53.018023Z",
     "shell.execute_reply": "2023-03-21T03:57:53.017211Z",
     "shell.execute_reply.started": "2023-03-21T03:57:28.386767Z"
    },
    "tags": []
   },
   "outputs": [
    {
     "name": "stdout",
     "output_type": "stream",
     "text": [
      "\n",
      "[ TIMELINE ]\n",
      "\n",
      "╔═════╤═══════════════════╤═════════════╤═══════════╤═════════════╤═════════════╤═════════════╗\n",
      "║ No. │ Instant           │ Action      │ State     │ Requested   │ Inflight    │ Completed   ║\n",
      "║     │                   │             │           │ Time        │ Time        │ Time        ║\n",
      "╠═════╪═══════════════════╪═════════════╪═══════════╪═════════════╪═════════════╪═════════════╣\n",
      "║ 0   │ 20230321035323365 │ deltacommit │ COMPLETED │ 03-21 03:53 │ 03-21 03:53 │ 03-21 03:54 ║\n",
      "╟─────┼───────────────────┼─────────────┼───────────┼─────────────┼─────────────┼─────────────╢\n",
      "║ 1   │ 20230321035432425 │ deltacommit │ COMPLETED │ 03-21 03:54 │ 03-21 03:54 │ 03-21 03:54 ║\n",
      "╟─────┼───────────────────┼─────────────┼───────────┼─────────────┼─────────────┼─────────────╢\n",
      "║ 2   │ 20230321035511490 │ deltacommit │ COMPLETED │ 03-21 03:55 │ 03-21 03:55 │ 03-21 03:55 ║\n",
      "╟─────┼───────────────────┼─────────────┼───────────┼─────────────┼─────────────┼─────────────╢\n",
      "║ 3   │ 20230321035607962 │ commit      │ COMPLETED │ 03-21 03:56 │ 03-21 03:56 │ 03-21 03:57 ║\n",
      "╚═════╧═══════════════════╧═════════════╧═══════════╧═════════════╧═════════════╧═════════════╝\n",
      "\n",
      "[ COMMITS ]\n",
      "\n",
      "╔═══════════════════╤═════════════════════╤═══════════════════╤═════════════════════╤══════════════════════════╤═══════════════════════╤══════════════════════════════╤══════════════╗\n",
      "║ CommitTime        │ Total Bytes Written │ Total Files Added │ Total Files Updated │ Total Partitions Written │ Total Records Written │ Total Update Records Written │ Total Errors ║\n",
      "╠═══════════════════╪═════════════════════╪═══════════════════╪═════════════════════╪══════════════════════════╪═══════════════════════╪══════════════════════════════╪══════════════╣\n",
      "║ 20230321035607962 │ 192.3 MB            │ 0                 │ 2                   │ 2                        │ 1155127               │ 7292                         │ 0            ║\n",
      "╟───────────────────┼─────────────────────┼───────────────────┼─────────────────────┼──────────────────────────┼───────────────────────┼──────────────────────────────┼──────────────╢\n",
      "║ 20230321035511490 │ 2.3 MB              │ 0                 │ 2                   │ 2                        │ 4341                  │ 4341                         │ 0            ║\n",
      "╟───────────────────┼─────────────────────┼───────────────────┼─────────────────────┼──────────────────────────┼───────────────────────┼──────────────────────────────┼──────────────╢\n",
      "║ 20230321035432425 │ 1.6 MB              │ 0                 │ 2                   │ 2                        │ 2951                  │ 2951                         │ 0            ║\n",
      "╟───────────────────┼─────────────────────┼───────────────────┼─────────────────────┼──────────────────────────┼───────────────────────┼──────────────────────────────┼──────────────╢\n",
      "║ 20230321035323365 │ 191.6 MB            │ 2                 │ 0                   │ 2                        │ 1155127               │ 0                            │ 0            ║\n",
      "╚═══════════════════╧═════════════════════╧═══════════════════╧═════════════════════╧══════════════════════════╧═══════════════════════╧══════════════════════════════╧══════════════╝\n",
      "\n",
      "[ COMPACTIONS ]\n",
      "\n",
      "╔═════════════════════════╤═══════════╤═══════════════════════════════╗\n",
      "║ Compaction Instant Time │ State     │ Total FileIds to be Compacted ║\n",
      "╠═════════════════════════╪═══════════╪═══════════════════════════════╣\n",
      "║ 20230321035607962       │ COMPLETED │ 2                             ║\n",
      "╚═════════════════════════╧═══════════╧═══════════════════════════════╝\n",
      "\n",
      "[ STORAGE ]\n",
      "\n",
      "/home/emr-notebook/apache-hudi-core-conceptions/reviews_mor_compaction_2\n",
      "├── [194M 03:57:52]  parity=0\n",
      "│   ├── [788K 03:54:40]  .0a83abbb-1352-4f69-9d07-fbba4e0fb9c8-0_20230321035323365.log.1_0-255-1488\n",
      "│   ├── [1.2M 03:55:20]  .0a83abbb-1352-4f69-9d07-fbba4e0fb9c8-0_20230321035323365.log.2_0-303-1549\n",
      "│   ├── [ 96M 03:57:22]  0a83abbb-1352-4f69-9d07-fbba4e0fb9c8-0_0-0-0_20230321035607962.parquet\n",
      "│   └── [ 96M 03:53:57]  0a83abbb-1352-4f69-9d07-fbba4e0fb9c8-0_0-207-1427_20230321035323365.parquet\n",
      "└── [194M 03:57:52]  parity=1\n",
      "    ├── [814K 03:54:40]  .203ee1c1-b889-4007-b22a-49b3d0d995c2-0_20230321035323365.log.1_1-255-1489\n",
      "    ├── [1.1M 03:55:20]  .203ee1c1-b889-4007-b22a-49b3d0d995c2-0_20230321035323365.log.2_1-303-1550\n",
      "    ├── [ 96M 03:57:22]  203ee1c1-b889-4007-b22a-49b3d0d995c2-0_1-0-1_20230321035607962.parquet\n",
      "    └── [ 96M 03:53:57]  203ee1c1-b889-4007-b22a-49b3d0d995c2-0_1-207-1428_20230321035323365.parquet\n"
     ]
    }
   ],
   "source": [
    "%%sh\n",
    "${WORKSPACE}/hudi-stat.sh s3://${S3_BUCKET}/${TABLE_NAME} timeline commits compactions storage"
   ]
  },
  {
   "cell_type": "markdown",
   "id": "353ea002-8fc0-4bef-a1a5-0360ba9a0c80",
   "metadata": {
    "tags": []
   },
   "source": [
    "## 4. Test Case 3 - Async Compaction ( Offline Schedule + Offline Execute )"
   ]
  },
  {
   "cell_type": "markdown",
   "id": "6bb042ba-800a-4951-8897-8782bbc31635",
   "metadata": {
    "tags": []
   },
   "source": [
    "### 4.1. Test Plan\n",
    "\n",
    "Step No.|Action|Volume Per Partition |Storage\n",
    ":--------:|:------|:------|:----------\n",
    "1|Insert|96MB|+1 Base File\n",
    "2|Update|804KB|+1 Log File\n",
    "3|Update|1.2MB|+1 Log File +1 Base File\n",
    "4|Offline Execute|96.15MB|+1 Compacted File"
   ]
  },
  {
   "cell_type": "markdown",
   "id": "28c6ce94-5a9f-4498-93f5-e353c6205aaa",
   "metadata": {
    "tags": []
   },
   "source": [
    "### 4.2. Key Settings\n",
    "\n",
    "KEY|DEFAULT VALUE|SET VALUE\n",
    ":---|:---|:---\n",
    "hoodie.compact.inline|false|true\n",
    "hoodie.compact.schedule.inline|false|false\n",
    "hoodie.compact.inline.max.delta.commits|5|3\n",
    "hoodie.copyonwrite.record.size.estimate|1024|175"
   ]
  },
  {
   "cell_type": "markdown",
   "id": "7cb1ef91-2a5f-4ddc-a041-a86238b58b72",
   "metadata": {
    "execution": {
     "iopub.execute_input": "2023-02-25T02:57:45.037101Z",
     "iopub.status.busy": "2023-02-25T02:57:45.036681Z",
     "iopub.status.idle": "2023-02-25T02:58:07.353493Z",
     "shell.execute_reply": "2023-02-25T02:58:07.352596Z",
     "shell.execute_reply.started": "2023-02-25T02:57:45.037060Z"
    },
    "tags": []
   },
   "source": [
    "### 4.3. Set Variables"
   ]
  },
  {
   "cell_type": "code",
   "execution_count": 38,
   "id": "aad6edd0-bb39-43d1-805c-fc4aa71e97af",
   "metadata": {
    "execution": {
     "iopub.execute_input": "2023-03-21T03:57:53.021378Z",
     "iopub.status.busy": "2023-03-21T03:57:53.021131Z",
     "iopub.status.idle": "2023-03-21T03:58:00.472621Z",
     "shell.execute_reply": "2023-03-21T03:58:00.471519Z",
     "shell.execute_reply.started": "2023-03-21T03:57:53.021353Z"
    },
    "tags": []
   },
   "outputs": [
    {
     "data": {
      "application/vnd.jupyter.widget-view+json": {
       "model_id": "",
       "version_major": 2,
       "version_minor": 0
      },
      "text/plain": [
       "FloatProgress(value=0.0, bar_style='info', description='Progress:', layout=Layout(height='25px', width='50%'),…"
      ]
     },
     "metadata": {},
     "output_type": "display_data"
    },
    {
     "data": {
      "text/html": [
       "<style>.jp-OutputArea-child .jupyter-widgets.jp-OutputArea-output { overflow: auto; }</style>"
      ],
      "text/plain": [
       "<IPython.core.display.HTML object>"
      ]
     },
     "metadata": {},
     "output_type": "display_data"
    },
    {
     "data": {
      "application/vnd.jupyter.widget-view+json": {
       "model_id": "d215317c9fef4d9f9a91d03784bf43c8",
       "version_major": 2,
       "version_minor": 0
      },
      "text/plain": [
       "VBox(children=(HBox(children=(HTML(value='Type:'), Button(description='Table', layout=Layout(width='70px'), st…"
      ]
     },
     "metadata": {},
     "output_type": "display_data"
    },
    {
     "data": {
      "application/vnd.jupyter.widget-view+json": {
       "model_id": "7e17f7d832f1412d834c0f16f85b7e02",
       "version_major": 2,
       "version_minor": 0
      },
      "text/plain": [
       "Output()"
      ]
     },
     "metadata": {},
     "output_type": "display_data"
    }
   ],
   "source": [
    "%%sql\n",
    "set TABLE_NAME=reviews_mor_compaction_2"
   ]
  },
  {
   "cell_type": "code",
   "execution_count": 39,
   "id": "6520d214-4743-4fad-91cc-eafaa04875eb",
   "metadata": {
    "execution": {
     "iopub.execute_input": "2023-03-21T03:58:00.473985Z",
     "iopub.status.busy": "2023-03-21T03:58:00.473749Z",
     "iopub.status.idle": "2023-03-21T03:58:00.478953Z",
     "shell.execute_reply": "2023-03-21T03:58:00.478210Z",
     "shell.execute_reply.started": "2023-03-21T03:58:00.473963Z"
    },
    "tags": []
   },
   "outputs": [
    {
     "name": "stdout",
     "output_type": "stream",
     "text": [
      "env: TABLE_NAME=reviews_mor_compaction_2\n"
     ]
    }
   ],
   "source": [
    "%env TABLE_NAME=reviews_mor_compaction_2"
   ]
  },
  {
   "cell_type": "markdown",
   "id": "6303f234-9f98-4f11-967f-206bef13ea59",
   "metadata": {
    "tags": []
   },
   "source": [
    "### 4.4. Create Table"
   ]
  },
  {
   "cell_type": "code",
   "execution_count": 40,
   "id": "a3a837bf-8ad3-4aab-aa89-8542d3c1a1b8",
   "metadata": {
    "execution": {
     "iopub.execute_input": "2023-03-21T03:58:00.480366Z",
     "iopub.status.busy": "2023-03-21T03:58:00.480115Z",
     "iopub.status.idle": "2023-03-21T03:58:06.482143Z",
     "shell.execute_reply": "2023-03-21T03:58:06.481291Z",
     "shell.execute_reply.started": "2023-03-21T03:58:00.480344Z"
    },
    "tags": []
   },
   "outputs": [],
   "source": [
    "%%sh\n",
    "aws s3 rm s3://${S3_BUCKET}/${TABLE_NAME} --recursive &>/dev/null\n",
    "rm -rf ${WORKSPACE}/${TABLE_NAME}\n",
    "sleep 5"
   ]
  },
  {
   "cell_type": "code",
   "execution_count": 41,
   "id": "c8570ddc-7e9e-4847-a027-939619998fbc",
   "metadata": {
    "execution": {
     "iopub.execute_input": "2023-03-21T03:58:06.484817Z",
     "iopub.status.busy": "2023-03-21T03:58:06.484446Z",
     "iopub.status.idle": "2023-03-21T03:58:07.320671Z",
     "shell.execute_reply": "2023-03-21T03:58:07.319840Z",
     "shell.execute_reply.started": "2023-03-21T03:58:06.484776Z"
    },
    "tags": []
   },
   "outputs": [
    {
     "data": {
      "application/vnd.jupyter.widget-view+json": {
       "model_id": "",
       "version_major": 2,
       "version_minor": 0
      },
      "text/plain": [
       "FloatProgress(value=0.0, bar_style='info', description='Progress:', layout=Layout(height='25px', width='50%'),…"
      ]
     },
     "metadata": {},
     "output_type": "display_data"
    },
    {
     "data": {
      "text/html": [
       "<style>.jp-OutputArea-child .jupyter-widgets.jp-OutputArea-output { overflow: auto; }</style>"
      ],
      "text/plain": [
       "<IPython.core.display.HTML object>"
      ]
     },
     "metadata": {},
     "output_type": "display_data"
    },
    {
     "data": {
      "application/vnd.jupyter.widget-view+json": {
       "model_id": "795699ac255f4b65b5be963dba192509",
       "version_major": 2,
       "version_minor": 0
      },
      "text/plain": [
       "VBox(children=(HBox(), EncodingWidget(children=(VBox(children=(HTML(value='Encoding:'), Dropdown(description='…"
      ]
     },
     "metadata": {},
     "output_type": "display_data"
    },
    {
     "data": {
      "application/vnd.jupyter.widget-view+json": {
       "model_id": "4cdc3b6a2b1e48fcb81d81bd42c7212b",
       "version_major": 2,
       "version_minor": 0
      },
      "text/plain": [
       "Output()"
      ]
     },
     "metadata": {},
     "output_type": "display_data"
    }
   ],
   "source": [
    "%%sql\n",
    "drop table if exists ${TABLE_NAME}"
   ]
  },
  {
   "cell_type": "code",
   "execution_count": 42,
   "id": "b9efb90f-c9fa-4c2a-b553-03ff864a79b5",
   "metadata": {
    "execution": {
     "iopub.execute_input": "2023-03-21T03:58:07.321976Z",
     "iopub.status.busy": "2023-03-21T03:58:07.321742Z",
     "iopub.status.idle": "2023-03-21T03:58:08.160366Z",
     "shell.execute_reply": "2023-03-21T03:58:08.159555Z",
     "shell.execute_reply.started": "2023-03-21T03:58:07.321954Z"
    },
    "tags": []
   },
   "outputs": [
    {
     "data": {
      "application/vnd.jupyter.widget-view+json": {
       "model_id": "",
       "version_major": 2,
       "version_minor": 0
      },
      "text/plain": [
       "FloatProgress(value=0.0, bar_style='info', description='Progress:', layout=Layout(height='25px', width='50%'),…"
      ]
     },
     "metadata": {},
     "output_type": "display_data"
    },
    {
     "data": {
      "text/html": [
       "<style>.jp-OutputArea-child .jupyter-widgets.jp-OutputArea-output { overflow: auto; }</style>"
      ],
      "text/plain": [
       "<IPython.core.display.HTML object>"
      ]
     },
     "metadata": {},
     "output_type": "display_data"
    },
    {
     "data": {
      "application/vnd.jupyter.widget-view+json": {
       "model_id": "110fc37230de4fe694880768541a4357",
       "version_major": 2,
       "version_minor": 0
      },
      "text/plain": [
       "VBox(children=(HBox(), EncodingWidget(children=(VBox(children=(HTML(value='Encoding:'), Dropdown(description='…"
      ]
     },
     "metadata": {},
     "output_type": "display_data"
    },
    {
     "data": {
      "application/vnd.jupyter.widget-view+json": {
       "model_id": "de88708851a8424380fab296c1213bae",
       "version_major": 2,
       "version_minor": 0
      },
      "text/plain": [
       "Output()"
      ]
     },
     "metadata": {},
     "output_type": "display_data"
    }
   ],
   "source": [
    "%%sql\n",
    "drop table if exists ${TABLE_NAME}_ro"
   ]
  },
  {
   "cell_type": "code",
   "execution_count": 43,
   "id": "80e60f4e-57fe-4a53-a748-55961dbb0c23",
   "metadata": {
    "execution": {
     "iopub.execute_input": "2023-03-21T03:58:08.161977Z",
     "iopub.status.busy": "2023-03-21T03:58:08.161649Z",
     "iopub.status.idle": "2023-03-21T03:58:08.991679Z",
     "shell.execute_reply": "2023-03-21T03:58:08.990998Z",
     "shell.execute_reply.started": "2023-03-21T03:58:08.161943Z"
    },
    "tags": []
   },
   "outputs": [
    {
     "data": {
      "application/vnd.jupyter.widget-view+json": {
       "model_id": "",
       "version_major": 2,
       "version_minor": 0
      },
      "text/plain": [
       "FloatProgress(value=0.0, bar_style='info', description='Progress:', layout=Layout(height='25px', width='50%'),…"
      ]
     },
     "metadata": {},
     "output_type": "display_data"
    },
    {
     "data": {
      "text/html": [
       "<style>.jp-OutputArea-child .jupyter-widgets.jp-OutputArea-output { overflow: auto; }</style>"
      ],
      "text/plain": [
       "<IPython.core.display.HTML object>"
      ]
     },
     "metadata": {},
     "output_type": "display_data"
    },
    {
     "data": {
      "application/vnd.jupyter.widget-view+json": {
       "model_id": "548d965154184fe3abf91f838b3dbff1",
       "version_major": 2,
       "version_minor": 0
      },
      "text/plain": [
       "VBox(children=(HBox(), EncodingWidget(children=(VBox(children=(HTML(value='Encoding:'), Dropdown(description='…"
      ]
     },
     "metadata": {},
     "output_type": "display_data"
    },
    {
     "data": {
      "application/vnd.jupyter.widget-view+json": {
       "model_id": "4ba063d2f2fd4d93adc1e7823bf8e3ee",
       "version_major": 2,
       "version_minor": 0
      },
      "text/plain": [
       "Output()"
      ]
     },
     "metadata": {},
     "output_type": "display_data"
    }
   ],
   "source": [
    "%%sql\n",
    "drop table if exists ${TABLE_NAME}_rt"
   ]
  },
  {
   "cell_type": "code",
   "execution_count": 44,
   "id": "7b5b247a-7796-4633-879c-06801e269992",
   "metadata": {
    "execution": {
     "iopub.execute_input": "2023-03-21T03:58:08.992909Z",
     "iopub.status.busy": "2023-03-21T03:58:08.992683Z",
     "iopub.status.idle": "2023-03-21T03:58:11.333469Z",
     "shell.execute_reply": "2023-03-21T03:58:11.332515Z",
     "shell.execute_reply.started": "2023-03-21T03:58:08.992887Z"
    },
    "tags": []
   },
   "outputs": [
    {
     "data": {
      "application/vnd.jupyter.widget-view+json": {
       "model_id": "",
       "version_major": 2,
       "version_minor": 0
      },
      "text/plain": [
       "FloatProgress(value=0.0, bar_style='info', description='Progress:', layout=Layout(height='25px', width='50%'),…"
      ]
     },
     "metadata": {},
     "output_type": "display_data"
    },
    {
     "data": {
      "text/html": [
       "<style>.jp-OutputArea-child .jupyter-widgets.jp-OutputArea-output { overflow: auto; }</style>"
      ],
      "text/plain": [
       "<IPython.core.display.HTML object>"
      ]
     },
     "metadata": {},
     "output_type": "display_data"
    },
    {
     "data": {
      "application/vnd.jupyter.widget-view+json": {
       "model_id": "15b81ed4c7dd45798120d960f063a9bb",
       "version_major": 2,
       "version_minor": 0
      },
      "text/plain": [
       "VBox(children=(HBox(), EncodingWidget(children=(VBox(children=(HTML(value='Encoding:'), Dropdown(description='…"
      ]
     },
     "metadata": {},
     "output_type": "display_data"
    },
    {
     "data": {
      "application/vnd.jupyter.widget-view+json": {
       "model_id": "1a28cb4b06aa475696bd9c6d210856f2",
       "version_major": 2,
       "version_minor": 0
      },
      "text/plain": [
       "Output()"
      ]
     },
     "metadata": {},
     "output_type": "display_data"
    }
   ],
   "source": [
    "%%sql\n",
    "create table if not exists ${TABLE_NAME} (\n",
    "    review_id string, \n",
    "    star_rating long, \n",
    "    review_body string, \n",
    "    review_date date, \n",
    "    year long,\n",
    "    timestamp long,\n",
    "    parity int\n",
    ")\n",
    "using hudi\n",
    "location 's3://${S3_BUCKET}/${TABLE_NAME}'\n",
    "partitioned by (parity)\n",
    "options ( \n",
    "    type = 'mor',  \n",
    "    primaryKey = 'review_id', \n",
    "    preCombineField = 'timestamp',\n",
    "    hoodie.compact.inline = 'false',\n",
    "    hoodie.compact.schedule.inline = 'false',\n",
    "    hoodie.compact.inline.max.delta.commits = '3',\n",
    "    hoodie.copyonwrite.record.size.estimate = '175'\n",
    ");"
   ]
  },
  {
   "cell_type": "markdown",
   "id": "102b9479-86ee-464f-a053-760031dbca07",
   "metadata": {
    "tags": []
   },
   "source": [
    "### 4.5. Insert 96MB / +1 Base File"
   ]
  },
  {
   "cell_type": "code",
   "execution_count": 45,
   "id": "abf83a33-35fc-4d38-af3d-9a63750cf704",
   "metadata": {
    "execution": {
     "iopub.execute_input": "2023-03-21T03:58:11.334755Z",
     "iopub.status.busy": "2023-03-21T03:58:11.334495Z",
     "iopub.status.idle": "2023-03-21T03:59:10.824164Z",
     "shell.execute_reply": "2023-03-21T03:59:10.823112Z",
     "shell.execute_reply.started": "2023-03-21T03:58:11.334730Z"
    },
    "tags": []
   },
   "outputs": [
    {
     "data": {
      "application/vnd.jupyter.widget-view+json": {
       "model_id": "",
       "version_major": 2,
       "version_minor": 0
      },
      "text/plain": [
       "FloatProgress(value=0.0, bar_style='info', description='Progress:', layout=Layout(height='25px', width='50%'),…"
      ]
     },
     "metadata": {},
     "output_type": "display_data"
    },
    {
     "data": {
      "text/html": [
       "<style>.jp-OutputArea-child .jupyter-widgets.jp-OutputArea-output { overflow: auto; }</style>"
      ],
      "text/plain": [
       "<IPython.core.display.HTML object>"
      ]
     },
     "metadata": {},
     "output_type": "display_data"
    },
    {
     "data": {
      "application/vnd.jupyter.widget-view+json": {
       "model_id": "cd879b664a724cda8da23efc92990f69",
       "version_major": 2,
       "version_minor": 0
      },
      "text/plain": [
       "VBox(children=(HBox(), EncodingWidget(children=(VBox(children=(HTML(value='Encoding:'), Dropdown(description='…"
      ]
     },
     "metadata": {},
     "output_type": "display_data"
    },
    {
     "data": {
      "application/vnd.jupyter.widget-view+json": {
       "model_id": "67c60fada0d64e1f9219cb2cf1016bf3",
       "version_major": 2,
       "version_minor": 0
      },
      "text/plain": [
       "Output()"
      ]
     },
     "metadata": {},
     "output_type": "display_data"
    }
   ],
   "source": [
    "%%sql\n",
    "insert into \n",
    "    ${TABLE_NAME}\n",
    "select \n",
    "    review_id, \n",
    "    star_rating, \n",
    "    review_body, \n",
    "    review_date, \n",
    "    year,\n",
    "    unix_timestamp(current_timestamp()) as timestamp,\n",
    "    mod(crc32(review_id), 2) as parity\n",
    "from\n",
    "    reviews\n",
    "where\n",
    "    year = 2003"
   ]
  },
  {
   "cell_type": "code",
   "execution_count": 46,
   "id": "12087bf4-d1d2-451d-919f-b42fa59bfc81",
   "metadata": {
    "execution": {
     "iopub.execute_input": "2023-03-21T03:59:10.825677Z",
     "iopub.status.busy": "2023-03-21T03:59:10.825332Z",
     "iopub.status.idle": "2023-03-21T03:59:33.404417Z",
     "shell.execute_reply": "2023-03-21T03:59:33.403572Z",
     "shell.execute_reply.started": "2023-03-21T03:59:10.825641Z"
    },
    "tags": []
   },
   "outputs": [
    {
     "name": "stdout",
     "output_type": "stream",
     "text": [
      "\n",
      "[ TIMELINE ]\n",
      "\n",
      "╔═════╤═══════════════════╤═════════════╤═══════════╤═════════════╤═════════════╤═════════════╗\n",
      "║ No. │ Instant           │ Action      │ State     │ Requested   │ Inflight    │ Completed   ║\n",
      "║     │                   │             │           │ Time        │ Time        │ Time        ║\n",
      "╠═════╪═══════════════════╪═════════════╪═══════════╪═════════════╪═════════════╪═════════════╣\n",
      "║ 0   │ 20230321035811812 │ deltacommit │ COMPLETED │ 03-21 03:58 │ 03-21 03:58 │ 03-21 03:59 ║\n",
      "╚═════╧═══════════════════╧═════════════╧═══════════╧═════════════╧═════════════╧═════════════╝\n",
      "\n",
      "[ COMMITS ]\n",
      "\n",
      "╔═══════════════════╤═════════════════════╤═══════════════════╤═════════════════════╤══════════════════════════╤═══════════════════════╤══════════════════════════════╤══════════════╗\n",
      "║ CommitTime        │ Total Bytes Written │ Total Files Added │ Total Files Updated │ Total Partitions Written │ Total Records Written │ Total Update Records Written │ Total Errors ║\n",
      "╠═══════════════════╪═════════════════════╪═══════════════════╪═════════════════════╪══════════════════════════╪═══════════════════════╪══════════════════════════════╪══════════════╣\n",
      "║ 20230321035811812 │ 191.6 MB            │ 2                 │ 0                   │ 2                        │ 1155127               │ 0                            │ 0            ║\n",
      "╚═══════════════════╧═════════════════════╧═══════════════════╧═════════════════════╧══════════════════════════╧═══════════════════════╧══════════════════════════════╧══════════════╝\n",
      "\n",
      "[ COMPACTIONS ]\n",
      "\n",
      "╔═════════════════════════╤═══════╤═══════════════════════════════╗\n",
      "║ Compaction Instant Time │ State │ Total FileIds to be Compacted ║\n",
      "╠═════════════════════════╧═══════╧═══════════════════════════════╣\n",
      "║ (empty)                                                         ║\n",
      "╚═════════════════════════════════════════════════════════════════╝\n",
      "\n",
      "[ STORAGE ]\n",
      "\n",
      "/home/emr-notebook/apache-hudi-core-conceptions/reviews_mor_compaction_2\n",
      "├── [ 96M 03:59:33]  parity=0\n",
      "│   └── [ 96M 03:58:57]  067fed5d-cbdc-42c7-8a49-e548cac5acf5-0_0-365-1696_20230321035811812.parquet\n",
      "└── [ 96M 03:59:33]  parity=1\n",
      "    └── [ 96M 03:58:58]  16c21f39-b120-4b30-a8a5-ecf5338c3653-0_1-365-1697_20230321035811812.parquet\n"
     ]
    }
   ],
   "source": [
    "%%sh\n",
    "${WORKSPACE}/hudi-stat.sh s3://${S3_BUCKET}/${TABLE_NAME} timeline commits compactions storage"
   ]
  },
  {
   "cell_type": "markdown",
   "id": "c70b5692-da44-461b-a765-67a9c9660d02",
   "metadata": {
    "tags": []
   },
   "source": [
    "### 4.6. Update 803KB / +1 Log File"
   ]
  },
  {
   "cell_type": "code",
   "execution_count": 47,
   "id": "909db704-a684-4c60-968b-3d9c2ed8cb50",
   "metadata": {
    "execution": {
     "iopub.execute_input": "2023-03-21T03:59:33.405979Z",
     "iopub.status.busy": "2023-03-21T03:59:33.405723Z",
     "iopub.status.idle": "2023-03-21T03:59:52.788902Z",
     "shell.execute_reply": "2023-03-21T03:59:52.788020Z",
     "shell.execute_reply.started": "2023-03-21T03:59:33.405951Z"
    },
    "tags": []
   },
   "outputs": [
    {
     "data": {
      "application/vnd.jupyter.widget-view+json": {
       "model_id": "",
       "version_major": 2,
       "version_minor": 0
      },
      "text/plain": [
       "FloatProgress(value=0.0, bar_style='info', description='Progress:', layout=Layout(height='25px', width='50%'),…"
      ]
     },
     "metadata": {},
     "output_type": "display_data"
    },
    {
     "data": {
      "text/html": [
       "<style>.jp-OutputArea-child .jupyter-widgets.jp-OutputArea-output { overflow: auto; }</style>"
      ],
      "text/plain": [
       "<IPython.core.display.HTML object>"
      ]
     },
     "metadata": {},
     "output_type": "display_data"
    },
    {
     "data": {
      "application/vnd.jupyter.widget-view+json": {
       "model_id": "1d6e6bf865c14482852f55e32d80afca",
       "version_major": 2,
       "version_minor": 0
      },
      "text/plain": [
       "VBox(children=(HBox(), EncodingWidget(children=(VBox(children=(HTML(value='Encoding:'), Dropdown(description='…"
      ]
     },
     "metadata": {},
     "output_type": "display_data"
    },
    {
     "data": {
      "application/vnd.jupyter.widget-view+json": {
       "model_id": "2379665a887d4acfb700320a2126b75f",
       "version_major": 2,
       "version_minor": 0
      },
      "text/plain": [
       "Output()"
      ]
     },
     "metadata": {},
     "output_type": "display_data"
    }
   ],
   "source": [
    "%%sql\n",
    "update\n",
    "    ${TABLE_NAME}\n",
    "set             \n",
    "    review_body = concat(uuid(),uuid(),uuid(),uuid(),uuid(),uuid(),uuid(),uuid(),uuid(),uuid()),\n",
    "    timestamp = unix_timestamp(current_timestamp())\n",
    "where\n",
    "    review_date = '2003-01-01'\n",
    ";"
   ]
  },
  {
   "cell_type": "code",
   "execution_count": 48,
   "id": "06c66e94-bd3a-40a7-a632-daa8cbaccd3c",
   "metadata": {
    "execution": {
     "iopub.execute_input": "2023-03-21T03:59:52.790284Z",
     "iopub.status.busy": "2023-03-21T03:59:52.789828Z",
     "iopub.status.idle": "2023-03-21T04:00:13.952750Z",
     "shell.execute_reply": "2023-03-21T04:00:13.951954Z",
     "shell.execute_reply.started": "2023-03-21T03:59:52.790262Z"
    },
    "tags": []
   },
   "outputs": [
    {
     "name": "stdout",
     "output_type": "stream",
     "text": [
      "\n",
      "[ TIMELINE ]\n",
      "\n",
      "╔═════╤═══════════════════╤═════════════╤═══════════╤═════════════╤═════════════╤═════════════╗\n",
      "║ No. │ Instant           │ Action      │ State     │ Requested   │ Inflight    │ Completed   ║\n",
      "║     │                   │             │           │ Time        │ Time        │ Time        ║\n",
      "╠═════╪═══════════════════╪═════════════╪═══════════╪═════════════╪═════════════╪═════════════╣\n",
      "║ 0   │ 20230321035811812 │ deltacommit │ COMPLETED │ 03-21 03:58 │ 03-21 03:58 │ 03-21 03:59 ║\n",
      "╟─────┼───────────────────┼─────────────┼───────────┼─────────────┼─────────────┼─────────────╢\n",
      "║ 1   │ 20230321035933922 │ deltacommit │ COMPLETED │ 03-21 03:59 │ 03-21 03:59 │ 03-21 03:59 ║\n",
      "╚═════╧═══════════════════╧═════════════╧═══════════╧═════════════╧═════════════╧═════════════╝\n",
      "\n",
      "[ COMMITS ]\n",
      "\n",
      "╔═══════════════════╤═════════════════════╤═══════════════════╤═════════════════════╤══════════════════════════╤═══════════════════════╤══════════════════════════════╤══════════════╗\n",
      "║ CommitTime        │ Total Bytes Written │ Total Files Added │ Total Files Updated │ Total Partitions Written │ Total Records Written │ Total Update Records Written │ Total Errors ║\n",
      "╠═══════════════════╪═════════════════════╪═══════════════════╪═════════════════════╪══════════════════════════╪═══════════════════════╪══════════════════════════════╪══════════════╣\n",
      "║ 20230321035933922 │ 1.6 MB              │ 0                 │ 2                   │ 2                        │ 2951                  │ 2951                         │ 0            ║\n",
      "╟───────────────────┼─────────────────────┼───────────────────┼─────────────────────┼──────────────────────────┼───────────────────────┼──────────────────────────────┼──────────────╢\n",
      "║ 20230321035811812 │ 191.6 MB            │ 2                 │ 0                   │ 2                        │ 1155127               │ 0                            │ 0            ║\n",
      "╚═══════════════════╧═════════════════════╧═══════════════════╧═════════════════════╧══════════════════════════╧═══════════════════════╧══════════════════════════════╧══════════════╝\n",
      "\n",
      "[ COMPACTIONS ]\n",
      "\n",
      "╔═════════════════════════╤═══════╤═══════════════════════════════╗\n",
      "║ Compaction Instant Time │ State │ Total FileIds to be Compacted ║\n",
      "╠═════════════════════════╧═══════╧═══════════════════════════════╣\n",
      "║ (empty)                                                         ║\n",
      "╚═════════════════════════════════════════════════════════════════╝\n",
      "\n",
      "[ STORAGE ]\n",
      "\n",
      "/home/emr-notebook/apache-hudi-core-conceptions/reviews_mor_compaction_2\n",
      "├── [ 97M 04:00:13]  parity=0\n",
      "│   ├── [787K 03:59:43]  .067fed5d-cbdc-42c7-8a49-e548cac5acf5-0_20230321035811812.log.1_0-413-1758\n",
      "│   └── [ 96M 03:58:57]  067fed5d-cbdc-42c7-8a49-e548cac5acf5-0_0-365-1696_20230321035811812.parquet\n",
      "└── [ 97M 04:00:13]  parity=1\n",
      "    ├── [812K 03:59:43]  .16c21f39-b120-4b30-a8a5-ecf5338c3653-0_20230321035811812.log.1_1-413-1759\n",
      "    └── [ 96M 03:58:58]  16c21f39-b120-4b30-a8a5-ecf5338c3653-0_1-365-1697_20230321035811812.parquet\n"
     ]
    }
   ],
   "source": [
    "%%sh\n",
    "${WORKSPACE}/hudi-stat.sh s3://${S3_BUCKET}/${TABLE_NAME} timeline commits compactions storage"
   ]
  },
  {
   "cell_type": "markdown",
   "id": "cddaeaad-e2a7-4c8d-a801-a19ee8a12407",
   "metadata": {
    "tags": []
   },
   "source": [
    "### 4.7. Update 1.2MB / +1 Log File +1 Base File"
   ]
  },
  {
   "cell_type": "code",
   "execution_count": 49,
   "id": "ca24f073-125a-42d2-bdbd-89a50c0e2cf3",
   "metadata": {
    "execution": {
     "iopub.execute_input": "2023-03-21T04:00:13.954591Z",
     "iopub.status.busy": "2023-03-21T04:00:13.954223Z",
     "iopub.status.idle": "2023-03-21T04:00:35.359075Z",
     "shell.execute_reply": "2023-03-21T04:00:35.358261Z",
     "shell.execute_reply.started": "2023-03-21T04:00:13.954552Z"
    },
    "tags": []
   },
   "outputs": [
    {
     "data": {
      "application/vnd.jupyter.widget-view+json": {
       "model_id": "",
       "version_major": 2,
       "version_minor": 0
      },
      "text/plain": [
       "FloatProgress(value=0.0, bar_style='info', description='Progress:', layout=Layout(height='25px', width='50%'),…"
      ]
     },
     "metadata": {},
     "output_type": "display_data"
    },
    {
     "data": {
      "text/html": [
       "<style>.jp-OutputArea-child .jupyter-widgets.jp-OutputArea-output { overflow: auto; }</style>"
      ],
      "text/plain": [
       "<IPython.core.display.HTML object>"
      ]
     },
     "metadata": {},
     "output_type": "display_data"
    },
    {
     "data": {
      "application/vnd.jupyter.widget-view+json": {
       "model_id": "ca9b4b71824745cb91b733c42b9d1d32",
       "version_major": 2,
       "version_minor": 0
      },
      "text/plain": [
       "VBox(children=(HBox(), EncodingWidget(children=(VBox(children=(HTML(value='Encoding:'), Dropdown(description='…"
      ]
     },
     "metadata": {},
     "output_type": "display_data"
    },
    {
     "data": {
      "application/vnd.jupyter.widget-view+json": {
       "model_id": "2138fb9a388441aea83cc999e4f83fbe",
       "version_major": 2,
       "version_minor": 0
      },
      "text/plain": [
       "Output()"
      ]
     },
     "metadata": {},
     "output_type": "display_data"
    }
   ],
   "source": [
    "%%sql\n",
    "update\n",
    "    ${TABLE_NAME}\n",
    "set             \n",
    "    review_body = concat(uuid(),uuid(),uuid(),uuid(),uuid(),uuid(),uuid(),uuid(),uuid(),uuid()),\n",
    "    timestamp = unix_timestamp(current_timestamp())\n",
    "where\n",
    "    review_date = '2003-01-02'\n",
    ";"
   ]
  },
  {
   "cell_type": "code",
   "execution_count": 50,
   "id": "42abe1d9-b86c-46dc-b24f-7656003239c5",
   "metadata": {
    "execution": {
     "iopub.execute_input": "2023-03-21T04:00:35.360348Z",
     "iopub.status.busy": "2023-03-21T04:00:35.360102Z",
     "iopub.status.idle": "2023-03-21T04:00:58.171948Z",
     "shell.execute_reply": "2023-03-21T04:00:58.171110Z",
     "shell.execute_reply.started": "2023-03-21T04:00:35.360325Z"
    },
    "tags": []
   },
   "outputs": [
    {
     "name": "stdout",
     "output_type": "stream",
     "text": [
      "\n",
      "[ TIMELINE ]\n",
      "\n",
      "╔═════╤═══════════════════╤═════════════╤═══════════╤═════════════╤═════════════╤═════════════╗\n",
      "║ No. │ Instant           │ Action      │ State     │ Requested   │ Inflight    │ Completed   ║\n",
      "║     │                   │             │           │ Time        │ Time        │ Time        ║\n",
      "╠═════╪═══════════════════╪═════════════╪═══════════╪═════════════╪═════════════╪═════════════╣\n",
      "║ 0   │ 20230321035811812 │ deltacommit │ COMPLETED │ 03-21 03:58 │ 03-21 03:58 │ 03-21 03:59 ║\n",
      "╟─────┼───────────────────┼─────────────┼───────────┼─────────────┼─────────────┼─────────────╢\n",
      "║ 1   │ 20230321035933922 │ deltacommit │ COMPLETED │ 03-21 03:59 │ 03-21 03:59 │ 03-21 03:59 ║\n",
      "╟─────┼───────────────────┼─────────────┼───────────┼─────────────┼─────────────┼─────────────╢\n",
      "║ 2   │ 20230321040014771 │ deltacommit │ COMPLETED │ 03-21 04:00 │ 03-21 04:00 │ 03-21 04:00 ║\n",
      "╚═════╧═══════════════════╧═════════════╧═══════════╧═════════════╧═════════════╧═════════════╝\n",
      "\n",
      "[ COMMITS ]\n",
      "\n",
      "╔═══════════════════╤═════════════════════╤═══════════════════╤═════════════════════╤══════════════════════════╤═══════════════════════╤══════════════════════════════╤══════════════╗\n",
      "║ CommitTime        │ Total Bytes Written │ Total Files Added │ Total Files Updated │ Total Partitions Written │ Total Records Written │ Total Update Records Written │ Total Errors ║\n",
      "╠═══════════════════╪═════════════════════╪═══════════════════╪═════════════════════╪══════════════════════════╪═══════════════════════╪══════════════════════════════╪══════════════╣\n",
      "║ 20230321040014771 │ 2.3 MB              │ 0                 │ 2                   │ 2                        │ 4341                  │ 4341                         │ 0            ║\n",
      "╟───────────────────┼─────────────────────┼───────────────────┼─────────────────────┼──────────────────────────┼───────────────────────┼──────────────────────────────┼──────────────╢\n",
      "║ 20230321035933922 │ 1.6 MB              │ 0                 │ 2                   │ 2                        │ 2951                  │ 2951                         │ 0            ║\n",
      "╟───────────────────┼─────────────────────┼───────────────────┼─────────────────────┼──────────────────────────┼───────────────────────┼──────────────────────────────┼──────────────╢\n",
      "║ 20230321035811812 │ 191.6 MB            │ 2                 │ 0                   │ 2                        │ 1155127               │ 0                            │ 0            ║\n",
      "╚═══════════════════╧═════════════════════╧═══════════════════╧═════════════════════╧══════════════════════════╧═══════════════════════╧══════════════════════════════╧══════════════╝\n",
      "\n",
      "[ COMPACTIONS ]\n",
      "\n",
      "╔═════════════════════════╤═══════╤═══════════════════════════════╗\n",
      "║ Compaction Instant Time │ State │ Total FileIds to be Compacted ║\n",
      "╠═════════════════════════╧═══════╧═══════════════════════════════╣\n",
      "║ (empty)                                                         ║\n",
      "╚═════════════════════════════════════════════════════════════════╝\n",
      "\n",
      "[ STORAGE ]\n",
      "\n",
      "/home/emr-notebook/apache-hudi-core-conceptions/reviews_mor_compaction_2\n",
      "├── [ 98M 04:00:58]  parity=0\n",
      "│   ├── [787K 03:59:43]  .067fed5d-cbdc-42c7-8a49-e548cac5acf5-0_20230321035811812.log.1_0-413-1758\n",
      "│   ├── [1.2M 04:00:25]  .067fed5d-cbdc-42c7-8a49-e548cac5acf5-0_20230321035811812.log.2_0-461-1820\n",
      "│   └── [ 96M 03:58:57]  067fed5d-cbdc-42c7-8a49-e548cac5acf5-0_0-365-1696_20230321035811812.parquet\n",
      "└── [ 98M 04:00:58]  parity=1\n",
      "    ├── [812K 03:59:43]  .16c21f39-b120-4b30-a8a5-ecf5338c3653-0_20230321035811812.log.1_1-413-1759\n",
      "    ├── [1.1M 04:00:25]  .16c21f39-b120-4b30-a8a5-ecf5338c3653-0_20230321035811812.log.2_1-461-1821\n",
      "    └── [ 96M 03:58:58]  16c21f39-b120-4b30-a8a5-ecf5338c3653-0_1-365-1697_20230321035811812.parquet\n"
     ]
    }
   ],
   "source": [
    "%%sh\n",
    "${WORKSPACE}/hudi-stat.sh s3://${S3_BUCKET}/${TABLE_NAME} timeline commits compactions storage"
   ]
  },
  {
   "cell_type": "markdown",
   "id": "2a7811a8-7495-4e4c-87e2-6d5e43d02f1f",
   "metadata": {},
   "source": [
    "### 3.8. Offline Schedule + Execute 96.15MB / +1 Compacted File"
   ]
  },
  {
   "cell_type": "code",
   "execution_count": 51,
   "id": "4c3c64ce-866f-4740-986c-27f9d4004f42",
   "metadata": {
    "execution": {
     "iopub.execute_input": "2023-03-21T04:00:58.173764Z",
     "iopub.status.busy": "2023-03-21T04:00:58.173366Z",
     "iopub.status.idle": "2023-03-21T04:01:51.946684Z",
     "shell.execute_reply": "2023-03-21T04:01:51.945845Z",
     "shell.execute_reply.started": "2023-03-21T04:00:58.173725Z"
    },
    "tags": []
   },
   "outputs": [],
   "source": [
    "%%sh\n",
    "# it's required for current user (emr-notebook) to get sudo permission\n",
    "sudo -u hadoop spark-submit \\\n",
    "  --jars '/usr/lib/hudi/hudi-spark-bundle.jar' \\\n",
    "  --class \"org.apache.hudi.utilities.HoodieCompactor\" \\\n",
    "  /usr/lib/hudi/hudi-utilities-bundle.jar \\\n",
    "  --spark-memory '4g' \\\n",
    "  --mode 'scheduleAndExecute' \\\n",
    "  --base-path \"s3://${S3_BUCKET}/${TABLE_NAME}\" \\\n",
    "  --table-name \"$TABLE_NAME\" \\\n",
    "  --hoodie-conf \"hoodie.compact.inline.max.delta.commits=3\" > ${WORKSPACE}/${TABLE_NAME}.execute.out &>/dev/null"
   ]
  },
  {
   "cell_type": "code",
   "execution_count": 52,
   "id": "9560755c-6a0a-48ee-8cc0-ff4b3d346ea3",
   "metadata": {
    "execution": {
     "iopub.execute_input": "2023-03-21T04:01:51.948224Z",
     "iopub.status.busy": "2023-03-21T04:01:51.947933Z",
     "iopub.status.idle": "2023-03-21T04:02:14.923442Z",
     "shell.execute_reply": "2023-03-21T04:02:14.922533Z",
     "shell.execute_reply.started": "2023-03-21T04:01:51.948197Z"
    },
    "tags": []
   },
   "outputs": [
    {
     "name": "stdout",
     "output_type": "stream",
     "text": [
      "\n",
      "[ TIMELINE ]\n",
      "\n",
      "╔═════╤═══════════════════╤═════════════╤═══════════╤═════════════╤═════════════╤═════════════╗\n",
      "║ No. │ Instant           │ Action      │ State     │ Requested   │ Inflight    │ Completed   ║\n",
      "║     │                   │             │           │ Time        │ Time        │ Time        ║\n",
      "╠═════╪═══════════════════╪═════════════╪═══════════╪═════════════╪═════════════╪═════════════╣\n",
      "║ 0   │ 20230321035811812 │ deltacommit │ COMPLETED │ 03-21 03:58 │ 03-21 03:58 │ 03-21 03:59 ║\n",
      "╟─────┼───────────────────┼─────────────┼───────────┼─────────────┼─────────────┼─────────────╢\n",
      "║ 1   │ 20230321035933922 │ deltacommit │ COMPLETED │ 03-21 03:59 │ 03-21 03:59 │ 03-21 03:59 ║\n",
      "╟─────┼───────────────────┼─────────────┼───────────┼─────────────┼─────────────┼─────────────╢\n",
      "║ 2   │ 20230321040014771 │ deltacommit │ COMPLETED │ 03-21 04:00 │ 03-21 04:00 │ 03-21 04:00 ║\n",
      "╟─────┼───────────────────┼─────────────┼───────────┼─────────────┼─────────────┼─────────────╢\n",
      "║ 3   │ 20230321040114818 │ commit      │ COMPLETED │ 03-21 04:01 │ 03-21 04:01 │ 03-21 04:01 ║\n",
      "╚═════╧═══════════════════╧═════════════╧═══════════╧═════════════╧═════════════╧═════════════╝\n",
      "\n",
      "[ COMMITS ]\n",
      "\n",
      "╔═══════════════════╤═════════════════════╤═══════════════════╤═════════════════════╤══════════════════════════╤═══════════════════════╤══════════════════════════════╤══════════════╗\n",
      "║ CommitTime        │ Total Bytes Written │ Total Files Added │ Total Files Updated │ Total Partitions Written │ Total Records Written │ Total Update Records Written │ Total Errors ║\n",
      "╠═══════════════════╪═════════════════════╪═══════════════════╪═════════════════════╪══════════════════════════╪═══════════════════════╪══════════════════════════════╪══════════════╣\n",
      "║ 20230321040114818 │ 192.3 MB            │ 0                 │ 2                   │ 2                        │ 1155127               │ 7292                         │ 0            ║\n",
      "╟───────────────────┼─────────────────────┼───────────────────┼─────────────────────┼──────────────────────────┼───────────────────────┼──────────────────────────────┼──────────────╢\n",
      "║ 20230321040014771 │ 2.3 MB              │ 0                 │ 2                   │ 2                        │ 4341                  │ 4341                         │ 0            ║\n",
      "╟───────────────────┼─────────────────────┼───────────────────┼─────────────────────┼──────────────────────────┼───────────────────────┼──────────────────────────────┼──────────────╢\n",
      "║ 20230321035933922 │ 1.6 MB              │ 0                 │ 2                   │ 2                        │ 2951                  │ 2951                         │ 0            ║\n",
      "╟───────────────────┼─────────────────────┼───────────────────┼─────────────────────┼──────────────────────────┼───────────────────────┼──────────────────────────────┼──────────────╢\n",
      "║ 20230321035811812 │ 191.6 MB            │ 2                 │ 0                   │ 2                        │ 1155127               │ 0                            │ 0            ║\n",
      "╚═══════════════════╧═════════════════════╧═══════════════════╧═════════════════════╧══════════════════════════╧═══════════════════════╧══════════════════════════════╧══════════════╝\n",
      "\n",
      "[ COMPACTIONS ]\n",
      "\n",
      "╔═════════════════════════╤═══════════╤═══════════════════════════════╗\n",
      "║ Compaction Instant Time │ State     │ Total FileIds to be Compacted ║\n",
      "╠═════════════════════════╪═══════════╪═══════════════════════════════╣\n",
      "║ 20230321040114818       │ COMPLETED │ 2                             ║\n",
      "╚═════════════════════════╧═══════════╧═══════════════════════════════╝\n",
      "\n",
      "[ STORAGE ]\n",
      "\n",
      "/home/emr-notebook/apache-hudi-core-conceptions/reviews_mor_compaction_2\n",
      "├── [194M 04:02:14]  parity=0\n",
      "│   ├── [787K 03:59:43]  .067fed5d-cbdc-42c7-8a49-e548cac5acf5-0_20230321035811812.log.1_0-413-1758\n",
      "│   ├── [1.2M 04:00:25]  .067fed5d-cbdc-42c7-8a49-e548cac5acf5-0_20230321035811812.log.2_0-461-1820\n",
      "│   ├── [ 96M 03:58:57]  067fed5d-cbdc-42c7-8a49-e548cac5acf5-0_0-365-1696_20230321035811812.parquet\n",
      "│   └── [ 96M 04:01:46]  067fed5d-cbdc-42c7-8a49-e548cac5acf5-0_1-1-3_20230321040114818.parquet\n",
      "└── [194M 04:02:14]  parity=1\n",
      "    ├── [812K 03:59:43]  .16c21f39-b120-4b30-a8a5-ecf5338c3653-0_20230321035811812.log.1_1-413-1759\n",
      "    ├── [1.1M 04:00:25]  .16c21f39-b120-4b30-a8a5-ecf5338c3653-0_20230321035811812.log.2_1-461-1821\n",
      "    ├── [ 96M 04:01:46]  16c21f39-b120-4b30-a8a5-ecf5338c3653-0_0-1-2_20230321040114818.parquet\n",
      "    └── [ 96M 03:58:58]  16c21f39-b120-4b30-a8a5-ecf5338c3653-0_1-365-1697_20230321035811812.parquet\n"
     ]
    }
   ],
   "source": [
    "%%sh\n",
    "${WORKSPACE}/hudi-stat.sh s3://${S3_BUCKET}/${TABLE_NAME} timeline commits compactions storage"
   ]
  },
  {
   "cell_type": "markdown",
   "id": "55444eec-8bca-40a6-9e55-93b01a62b14b",
   "metadata": {
    "tags": []
   },
   "source": [
    "## 5. Test Case 4 - Semi Async Compaction ( Inline Schedule, Offline Execute )"
   ]
  },
  {
   "cell_type": "markdown",
   "id": "f23e94a0-c051-48ef-bbc8-ac490daec733",
   "metadata": {
    "jp-MarkdownHeadingCollapsed": true,
    "tags": []
   },
   "source": [
    "### 5.1. Test Plan\n",
    "\n",
    "Step No.|Action|Volume Per Partition |Storage\n",
    ":--------:|:------|:------|:----------\n",
    "1|Insert|96MB|+1 Base File\n",
    "2|Update|804KB|+1 Log File\n",
    "3|Update|1.2MB|+1 Log File +1 Base File\n",
    "4|Offline Execute|96.15MB|+1 Compacted File"
   ]
  },
  {
   "cell_type": "markdown",
   "id": "ca054749-97a3-4d76-ab1f-97c14628eb45",
   "metadata": {
    "jp-MarkdownHeadingCollapsed": true,
    "tags": []
   },
   "source": [
    "### 5.2. Key Settings\n",
    "\n",
    "KEY|DEFAULT VALUE|SET VALUE\n",
    ":---|:---|:---\n",
    "hoodie.compact.inline|false|true\n",
    "hoodie.compact.schedule.inline|false|false\n",
    "hoodie.compact.inline.max.delta.commits|5|3\n",
    "hoodie.copyonwrite.record.size.estimate|1024|175"
   ]
  },
  {
   "cell_type": "markdown",
   "id": "958f85aa-bf3f-4c94-9ab2-a8e6826fa07d",
   "metadata": {
    "execution": {
     "iopub.execute_input": "2023-02-25T02:57:45.037101Z",
     "iopub.status.busy": "2023-02-25T02:57:45.036681Z",
     "iopub.status.idle": "2023-02-25T02:58:07.353493Z",
     "shell.execute_reply": "2023-02-25T02:58:07.352596Z",
     "shell.execute_reply.started": "2023-02-25T02:57:45.037060Z"
    },
    "tags": []
   },
   "source": [
    "### 5.3. Set Variables"
   ]
  },
  {
   "cell_type": "code",
   "execution_count": 53,
   "id": "c70795a8-5ad1-498a-9c77-1d22804448e3",
   "metadata": {
    "execution": {
     "iopub.execute_input": "2023-03-21T04:02:14.925323Z",
     "iopub.status.busy": "2023-03-21T04:02:14.924966Z",
     "iopub.status.idle": "2023-03-21T04:02:22.371662Z",
     "shell.execute_reply": "2023-03-21T04:02:22.370992Z",
     "shell.execute_reply.started": "2023-03-21T04:02:14.925284Z"
    },
    "tags": []
   },
   "outputs": [
    {
     "data": {
      "application/vnd.jupyter.widget-view+json": {
       "model_id": "",
       "version_major": 2,
       "version_minor": 0
      },
      "text/plain": [
       "FloatProgress(value=0.0, bar_style='info', description='Progress:', layout=Layout(height='25px', width='50%'),…"
      ]
     },
     "metadata": {},
     "output_type": "display_data"
    },
    {
     "data": {
      "text/html": [
       "<style>.jp-OutputArea-child .jupyter-widgets.jp-OutputArea-output { overflow: auto; }</style>"
      ],
      "text/plain": [
       "<IPython.core.display.HTML object>"
      ]
     },
     "metadata": {},
     "output_type": "display_data"
    },
    {
     "data": {
      "application/vnd.jupyter.widget-view+json": {
       "model_id": "703ba7b1a1ef45c3b5a7495a96aa46eb",
       "version_major": 2,
       "version_minor": 0
      },
      "text/plain": [
       "VBox(children=(HBox(children=(HTML(value='Type:'), Button(description='Table', layout=Layout(width='70px'), st…"
      ]
     },
     "metadata": {},
     "output_type": "display_data"
    },
    {
     "data": {
      "application/vnd.jupyter.widget-view+json": {
       "model_id": "f9f93a1671574d948b84d195db31074a",
       "version_major": 2,
       "version_minor": 0
      },
      "text/plain": [
       "Output()"
      ]
     },
     "metadata": {},
     "output_type": "display_data"
    }
   ],
   "source": [
    "%%sql\n",
    "set TABLE_NAME=reviews_mor_compaction_3"
   ]
  },
  {
   "cell_type": "code",
   "execution_count": 54,
   "id": "8924e11f-9d8b-4e98-b1b5-bacae57433cc",
   "metadata": {
    "execution": {
     "iopub.execute_input": "2023-03-21T04:02:22.372944Z",
     "iopub.status.busy": "2023-03-21T04:02:22.372685Z",
     "iopub.status.idle": "2023-03-21T04:02:22.377075Z",
     "shell.execute_reply": "2023-03-21T04:02:22.376410Z",
     "shell.execute_reply.started": "2023-03-21T04:02:22.372920Z"
    },
    "tags": []
   },
   "outputs": [
    {
     "name": "stdout",
     "output_type": "stream",
     "text": [
      "env: TABLE_NAME=reviews_mor_compaction_3\n"
     ]
    }
   ],
   "source": [
    "%env TABLE_NAME=reviews_mor_compaction_3"
   ]
  },
  {
   "cell_type": "markdown",
   "id": "e1fffe57-a602-40f5-aa20-ea1285eeeb7f",
   "metadata": {
    "tags": []
   },
   "source": [
    "### 5.4. Create Table"
   ]
  },
  {
   "cell_type": "code",
   "execution_count": 55,
   "id": "e2064d50-0ca9-4765-8282-e0d2f5fed32a",
   "metadata": {
    "execution": {
     "iopub.execute_input": "2023-03-21T04:02:22.378397Z",
     "iopub.status.busy": "2023-03-21T04:02:22.378136Z",
     "iopub.status.idle": "2023-03-21T04:02:28.380195Z",
     "shell.execute_reply": "2023-03-21T04:02:28.379307Z",
     "shell.execute_reply.started": "2023-03-21T04:02:22.378374Z"
    },
    "tags": []
   },
   "outputs": [],
   "source": [
    "%%sh\n",
    "aws s3 rm s3://${S3_BUCKET}/${TABLE_NAME} --recursive &>/dev/null\n",
    "rm -rf ${WORKSPACE}/${TABLE_NAME}\n",
    "sleep 5"
   ]
  },
  {
   "cell_type": "code",
   "execution_count": 56,
   "id": "177683eb-3b33-4f22-a549-f8d86c16cd5d",
   "metadata": {
    "execution": {
     "iopub.execute_input": "2023-03-21T04:02:28.381720Z",
     "iopub.status.busy": "2023-03-21T04:02:28.381473Z",
     "iopub.status.idle": "2023-03-21T04:02:29.239536Z",
     "shell.execute_reply": "2023-03-21T04:02:29.238664Z",
     "shell.execute_reply.started": "2023-03-21T04:02:28.381695Z"
    },
    "tags": []
   },
   "outputs": [
    {
     "data": {
      "application/vnd.jupyter.widget-view+json": {
       "model_id": "",
       "version_major": 2,
       "version_minor": 0
      },
      "text/plain": [
       "FloatProgress(value=0.0, bar_style='info', description='Progress:', layout=Layout(height='25px', width='50%'),…"
      ]
     },
     "metadata": {},
     "output_type": "display_data"
    },
    {
     "data": {
      "text/html": [
       "<style>.jp-OutputArea-child .jupyter-widgets.jp-OutputArea-output { overflow: auto; }</style>"
      ],
      "text/plain": [
       "<IPython.core.display.HTML object>"
      ]
     },
     "metadata": {},
     "output_type": "display_data"
    },
    {
     "data": {
      "application/vnd.jupyter.widget-view+json": {
       "model_id": "901bb465f39c4a558a2a99edf6a325b7",
       "version_major": 2,
       "version_minor": 0
      },
      "text/plain": [
       "VBox(children=(HBox(), EncodingWidget(children=(VBox(children=(HTML(value='Encoding:'), Dropdown(description='…"
      ]
     },
     "metadata": {},
     "output_type": "display_data"
    },
    {
     "data": {
      "application/vnd.jupyter.widget-view+json": {
       "model_id": "1c67da1a11a14d32bf9170c80c38f8f5",
       "version_major": 2,
       "version_minor": 0
      },
      "text/plain": [
       "Output()"
      ]
     },
     "metadata": {},
     "output_type": "display_data"
    }
   ],
   "source": [
    "%%sql\n",
    "drop table if exists ${TABLE_NAME}"
   ]
  },
  {
   "cell_type": "code",
   "execution_count": 57,
   "id": "48de5702-579b-49aa-b29d-69d75ae3b4a4",
   "metadata": {
    "execution": {
     "iopub.execute_input": "2023-03-21T04:02:29.241135Z",
     "iopub.status.busy": "2023-03-21T04:02:29.240886Z",
     "iopub.status.idle": "2023-03-21T04:02:30.075618Z",
     "shell.execute_reply": "2023-03-21T04:02:30.074821Z",
     "shell.execute_reply.started": "2023-03-21T04:02:29.241112Z"
    },
    "tags": []
   },
   "outputs": [
    {
     "data": {
      "application/vnd.jupyter.widget-view+json": {
       "model_id": "",
       "version_major": 2,
       "version_minor": 0
      },
      "text/plain": [
       "FloatProgress(value=0.0, bar_style='info', description='Progress:', layout=Layout(height='25px', width='50%'),…"
      ]
     },
     "metadata": {},
     "output_type": "display_data"
    },
    {
     "data": {
      "text/html": [
       "<style>.jp-OutputArea-child .jupyter-widgets.jp-OutputArea-output { overflow: auto; }</style>"
      ],
      "text/plain": [
       "<IPython.core.display.HTML object>"
      ]
     },
     "metadata": {},
     "output_type": "display_data"
    },
    {
     "data": {
      "application/vnd.jupyter.widget-view+json": {
       "model_id": "3b60312b8e3f4fec8377a8c5ee725bdc",
       "version_major": 2,
       "version_minor": 0
      },
      "text/plain": [
       "VBox(children=(HBox(), EncodingWidget(children=(VBox(children=(HTML(value='Encoding:'), Dropdown(description='…"
      ]
     },
     "metadata": {},
     "output_type": "display_data"
    },
    {
     "data": {
      "application/vnd.jupyter.widget-view+json": {
       "model_id": "1aa803dbff8d4ae38557d9e415473a30",
       "version_major": 2,
       "version_minor": 0
      },
      "text/plain": [
       "Output()"
      ]
     },
     "metadata": {},
     "output_type": "display_data"
    }
   ],
   "source": [
    "%%sql\n",
    "drop table if exists ${TABLE_NAME}_ro"
   ]
  },
  {
   "cell_type": "code",
   "execution_count": 58,
   "id": "de2a228d-9310-4e93-a5dd-fad37ff10b92",
   "metadata": {
    "execution": {
     "iopub.execute_input": "2023-03-21T04:02:30.077321Z",
     "iopub.status.busy": "2023-03-21T04:02:30.076964Z",
     "iopub.status.idle": "2023-03-21T04:02:30.931291Z",
     "shell.execute_reply": "2023-03-21T04:02:30.930470Z",
     "shell.execute_reply.started": "2023-03-21T04:02:30.077283Z"
    },
    "tags": []
   },
   "outputs": [
    {
     "data": {
      "application/vnd.jupyter.widget-view+json": {
       "model_id": "",
       "version_major": 2,
       "version_minor": 0
      },
      "text/plain": [
       "FloatProgress(value=0.0, bar_style='info', description='Progress:', layout=Layout(height='25px', width='50%'),…"
      ]
     },
     "metadata": {},
     "output_type": "display_data"
    },
    {
     "data": {
      "text/html": [
       "<style>.jp-OutputArea-child .jupyter-widgets.jp-OutputArea-output { overflow: auto; }</style>"
      ],
      "text/plain": [
       "<IPython.core.display.HTML object>"
      ]
     },
     "metadata": {},
     "output_type": "display_data"
    },
    {
     "data": {
      "application/vnd.jupyter.widget-view+json": {
       "model_id": "2c9ee07496664f28bb8dec10293e16aa",
       "version_major": 2,
       "version_minor": 0
      },
      "text/plain": [
       "VBox(children=(HBox(), EncodingWidget(children=(VBox(children=(HTML(value='Encoding:'), Dropdown(description='…"
      ]
     },
     "metadata": {},
     "output_type": "display_data"
    },
    {
     "data": {
      "application/vnd.jupyter.widget-view+json": {
       "model_id": "b3d2e6d571af45eea79c87765ac4ea58",
       "version_major": 2,
       "version_minor": 0
      },
      "text/plain": [
       "Output()"
      ]
     },
     "metadata": {},
     "output_type": "display_data"
    }
   ],
   "source": [
    "%%sql\n",
    "drop table if exists ${TABLE_NAME}_rt"
   ]
  },
  {
   "cell_type": "code",
   "execution_count": 59,
   "id": "bcbbdfb8-0757-4815-a551-2eed34a41eb8",
   "metadata": {
    "execution": {
     "iopub.execute_input": "2023-03-21T04:02:30.932915Z",
     "iopub.status.busy": "2023-03-21T04:02:30.932588Z",
     "iopub.status.idle": "2023-03-21T04:02:33.294461Z",
     "shell.execute_reply": "2023-03-21T04:02:33.293525Z",
     "shell.execute_reply.started": "2023-03-21T04:02:30.932880Z"
    },
    "tags": []
   },
   "outputs": [
    {
     "data": {
      "application/vnd.jupyter.widget-view+json": {
       "model_id": "",
       "version_major": 2,
       "version_minor": 0
      },
      "text/plain": [
       "FloatProgress(value=0.0, bar_style='info', description='Progress:', layout=Layout(height='25px', width='50%'),…"
      ]
     },
     "metadata": {},
     "output_type": "display_data"
    },
    {
     "data": {
      "text/html": [
       "<style>.jp-OutputArea-child .jupyter-widgets.jp-OutputArea-output { overflow: auto; }</style>"
      ],
      "text/plain": [
       "<IPython.core.display.HTML object>"
      ]
     },
     "metadata": {},
     "output_type": "display_data"
    },
    {
     "data": {
      "application/vnd.jupyter.widget-view+json": {
       "model_id": "5df85ef988c94b319780d05aaf76db11",
       "version_major": 2,
       "version_minor": 0
      },
      "text/plain": [
       "VBox(children=(HBox(), EncodingWidget(children=(VBox(children=(HTML(value='Encoding:'), Dropdown(description='…"
      ]
     },
     "metadata": {},
     "output_type": "display_data"
    },
    {
     "data": {
      "application/vnd.jupyter.widget-view+json": {
       "model_id": "2bc5b3cb4b6e475b88803cc0f0b18d01",
       "version_major": 2,
       "version_minor": 0
      },
      "text/plain": [
       "Output()"
      ]
     },
     "metadata": {},
     "output_type": "display_data"
    }
   ],
   "source": [
    "%%sql\n",
    "create table if not exists ${TABLE_NAME} (\n",
    "    review_id string, \n",
    "    star_rating long, \n",
    "    review_body string, \n",
    "    review_date date, \n",
    "    year long,\n",
    "    timestamp long,\n",
    "    parity int\n",
    ")\n",
    "using hudi\n",
    "location 's3://${S3_BUCKET}/${TABLE_NAME}'\n",
    "partitioned by (parity)\n",
    "options ( \n",
    "    type = 'mor',  \n",
    "    primaryKey = 'review_id', \n",
    "    preCombineField = 'timestamp',\n",
    "    hoodie.compact.inline = 'false',\n",
    "    hoodie.compact.schedule.inline = 'true',\n",
    "    hoodie.compact.inline.max.delta.commits = '3',\n",
    "    hoodie.copyonwrite.record.size.estimate = '175'\n",
    ");"
   ]
  },
  {
   "cell_type": "markdown",
   "id": "2e63a3f6-b9ee-4eb9-a14c-4f970aed7325",
   "metadata": {
    "tags": []
   },
   "source": [
    "### 5.5. Insert 96MB / +1 Base File"
   ]
  },
  {
   "cell_type": "code",
   "execution_count": 60,
   "id": "d15b6a2d-7e1f-4c6b-95df-4bf6c2fcd3ea",
   "metadata": {
    "execution": {
     "iopub.execute_input": "2023-03-21T04:02:33.296261Z",
     "iopub.status.busy": "2023-03-21T04:02:33.295709Z",
     "iopub.status.idle": "2023-03-21T04:03:32.786995Z",
     "shell.execute_reply": "2023-03-21T04:03:32.786198Z",
     "shell.execute_reply.started": "2023-03-21T04:02:33.296225Z"
    },
    "tags": []
   },
   "outputs": [
    {
     "data": {
      "application/vnd.jupyter.widget-view+json": {
       "model_id": "",
       "version_major": 2,
       "version_minor": 0
      },
      "text/plain": [
       "FloatProgress(value=0.0, bar_style='info', description='Progress:', layout=Layout(height='25px', width='50%'),…"
      ]
     },
     "metadata": {},
     "output_type": "display_data"
    },
    {
     "data": {
      "text/html": [
       "<style>.jp-OutputArea-child .jupyter-widgets.jp-OutputArea-output { overflow: auto; }</style>"
      ],
      "text/plain": [
       "<IPython.core.display.HTML object>"
      ]
     },
     "metadata": {},
     "output_type": "display_data"
    },
    {
     "data": {
      "application/vnd.jupyter.widget-view+json": {
       "model_id": "2c16905880274466b55310d091259b10",
       "version_major": 2,
       "version_minor": 0
      },
      "text/plain": [
       "VBox(children=(HBox(), EncodingWidget(children=(VBox(children=(HTML(value='Encoding:'), Dropdown(description='…"
      ]
     },
     "metadata": {},
     "output_type": "display_data"
    },
    {
     "data": {
      "application/vnd.jupyter.widget-view+json": {
       "model_id": "0ea66df83d794387bb8ea9ba17085206",
       "version_major": 2,
       "version_minor": 0
      },
      "text/plain": [
       "Output()"
      ]
     },
     "metadata": {},
     "output_type": "display_data"
    }
   ],
   "source": [
    "%%sql\n",
    "insert into \n",
    "    ${TABLE_NAME}\n",
    "select \n",
    "    review_id, \n",
    "    star_rating, \n",
    "    review_body, \n",
    "    review_date, \n",
    "    year,\n",
    "    unix_timestamp(current_timestamp()) as timestamp,\n",
    "    mod(crc32(review_id), 2) as parity\n",
    "from\n",
    "    reviews\n",
    "where\n",
    "    year = 2003"
   ]
  },
  {
   "cell_type": "code",
   "execution_count": 61,
   "id": "e7da5cb3-6e06-4dcb-9540-3ae2f14d9d2e",
   "metadata": {
    "execution": {
     "iopub.execute_input": "2023-03-21T04:03:32.788678Z",
     "iopub.status.busy": "2023-03-21T04:03:32.788341Z",
     "iopub.status.idle": "2023-03-21T04:03:55.997764Z",
     "shell.execute_reply": "2023-03-21T04:03:55.996674Z",
     "shell.execute_reply.started": "2023-03-21T04:03:32.788642Z"
    },
    "tags": []
   },
   "outputs": [
    {
     "name": "stdout",
     "output_type": "stream",
     "text": [
      "\n",
      "[ TIMELINE ]\n",
      "\n",
      "╔═════╤═══════════════════╤═════════════╤═══════════╤═════════════╤═════════════╤═════════════╗\n",
      "║ No. │ Instant           │ Action      │ State     │ Requested   │ Inflight    │ Completed   ║\n",
      "║     │                   │             │           │ Time        │ Time        │ Time        ║\n",
      "╠═════╪═══════════════════╪═════════════╪═══════════╪═════════════╪═════════════╪═════════════╣\n",
      "║ 0   │ 20230321040233833 │ deltacommit │ COMPLETED │ 03-21 04:02 │ 03-21 04:03 │ 03-21 04:03 ║\n",
      "╚═════╧═══════════════════╧═════════════╧═══════════╧═════════════╧═════════════╧═════════════╝\n",
      "\n",
      "[ COMMITS ]\n",
      "\n",
      "╔═══════════════════╤═════════════════════╤═══════════════════╤═════════════════════╤══════════════════════════╤═══════════════════════╤══════════════════════════════╤══════════════╗\n",
      "║ CommitTime        │ Total Bytes Written │ Total Files Added │ Total Files Updated │ Total Partitions Written │ Total Records Written │ Total Update Records Written │ Total Errors ║\n",
      "╠═══════════════════╪═════════════════════╪═══════════════════╪═════════════════════╪══════════════════════════╪═══════════════════════╪══════════════════════════════╪══════════════╣\n",
      "║ 20230321040233833 │ 191.6 MB            │ 2                 │ 0                   │ 2                        │ 1155127               │ 0                            │ 0            ║\n",
      "╚═══════════════════╧═════════════════════╧═══════════════════╧═════════════════════╧══════════════════════════╧═══════════════════════╧══════════════════════════════╧══════════════╝\n",
      "\n",
      "[ COMPACTIONS ]\n",
      "\n",
      "╔═════════════════════════╤═══════╤═══════════════════════════════╗\n",
      "║ Compaction Instant Time │ State │ Total FileIds to be Compacted ║\n",
      "╠═════════════════════════╧═══════╧═══════════════════════════════╣\n",
      "║ (empty)                                                         ║\n",
      "╚═════════════════════════════════════════════════════════════════╝\n",
      "\n",
      "[ STORAGE ]\n",
      "\n",
      "/home/emr-notebook/apache-hudi-core-conceptions/reviews_mor_compaction_3\n",
      "├── [ 96M 04:03:55]  parity=0\n",
      "│   └── [ 96M 04:03:19]  50e4a1be-018a-4af5-b98c-133f50c0bd90-0_0-523-1967_20230321040233833.parquet\n",
      "└── [ 96M 04:03:55]  parity=1\n",
      "    └── [ 96M 04:03:21]  f142610f-3091-4eba-8d08-367916d92422-0_1-523-1968_20230321040233833.parquet\n"
     ]
    }
   ],
   "source": [
    "%%sh\n",
    "${WORKSPACE}/hudi-stat.sh s3://${S3_BUCKET}/${TABLE_NAME} timeline commits compactions storage"
   ]
  },
  {
   "cell_type": "markdown",
   "id": "e536299d-3816-4a25-8903-20fd252316fe",
   "metadata": {
    "tags": []
   },
   "source": [
    "### 5.6. Update 803KB / +1 Log File"
   ]
  },
  {
   "cell_type": "code",
   "execution_count": 62,
   "id": "6de7d86c-c5c0-4a25-a59c-e2aa7f8d309f",
   "metadata": {
    "execution": {
     "iopub.execute_input": "2023-03-21T04:03:56.000508Z",
     "iopub.status.busy": "2023-03-21T04:03:56.000147Z",
     "iopub.status.idle": "2023-03-21T04:04:15.380714Z",
     "shell.execute_reply": "2023-03-21T04:04:15.379902Z",
     "shell.execute_reply.started": "2023-03-21T04:03:56.000471Z"
    },
    "tags": []
   },
   "outputs": [
    {
     "data": {
      "application/vnd.jupyter.widget-view+json": {
       "model_id": "",
       "version_major": 2,
       "version_minor": 0
      },
      "text/plain": [
       "FloatProgress(value=0.0, bar_style='info', description='Progress:', layout=Layout(height='25px', width='50%'),…"
      ]
     },
     "metadata": {},
     "output_type": "display_data"
    },
    {
     "data": {
      "text/html": [
       "<style>.jp-OutputArea-child .jupyter-widgets.jp-OutputArea-output { overflow: auto; }</style>"
      ],
      "text/plain": [
       "<IPython.core.display.HTML object>"
      ]
     },
     "metadata": {},
     "output_type": "display_data"
    },
    {
     "data": {
      "application/vnd.jupyter.widget-view+json": {
       "model_id": "a0ea6f6d5aa64f43be2c61ca80c08c56",
       "version_major": 2,
       "version_minor": 0
      },
      "text/plain": [
       "VBox(children=(HBox(), EncodingWidget(children=(VBox(children=(HTML(value='Encoding:'), Dropdown(description='…"
      ]
     },
     "metadata": {},
     "output_type": "display_data"
    },
    {
     "data": {
      "application/vnd.jupyter.widget-view+json": {
       "model_id": "15a55fbe197c42b4af2e6ed0a52cdf0d",
       "version_major": 2,
       "version_minor": 0
      },
      "text/plain": [
       "Output()"
      ]
     },
     "metadata": {},
     "output_type": "display_data"
    }
   ],
   "source": [
    "%%sql\n",
    "update\n",
    "    ${TABLE_NAME}\n",
    "set             \n",
    "    review_body = concat(uuid(),uuid(),uuid(),uuid(),uuid(),uuid(),uuid(),uuid(),uuid(),uuid()),\n",
    "    timestamp = unix_timestamp(current_timestamp())\n",
    "where\n",
    "    review_date = '2003-01-01'\n",
    ";"
   ]
  },
  {
   "cell_type": "code",
   "execution_count": 63,
   "id": "2658943d-5b22-4ccc-b781-9238f3b4ae69",
   "metadata": {
    "execution": {
     "iopub.execute_input": "2023-03-21T04:04:15.382049Z",
     "iopub.status.busy": "2023-03-21T04:04:15.381792Z",
     "iopub.status.idle": "2023-03-21T04:04:37.417552Z",
     "shell.execute_reply": "2023-03-21T04:04:37.416563Z",
     "shell.execute_reply.started": "2023-03-21T04:04:15.382027Z"
    },
    "tags": []
   },
   "outputs": [
    {
     "name": "stdout",
     "output_type": "stream",
     "text": [
      "\n",
      "[ TIMELINE ]\n",
      "\n",
      "╔═════╤═══════════════════╤═════════════╤═══════════╤═════════════╤═════════════╤═════════════╗\n",
      "║ No. │ Instant           │ Action      │ State     │ Requested   │ Inflight    │ Completed   ║\n",
      "║     │                   │             │           │ Time        │ Time        │ Time        ║\n",
      "╠═════╪═══════════════════╪═════════════╪═══════════╪═════════════╪═════════════╪═════════════╣\n",
      "║ 0   │ 20230321040233833 │ deltacommit │ COMPLETED │ 03-21 04:02 │ 03-21 04:03 │ 03-21 04:03 ║\n",
      "╟─────┼───────────────────┼─────────────┼───────────┼─────────────┼─────────────┼─────────────╢\n",
      "║ 1   │ 20230321040356558 │ deltacommit │ COMPLETED │ 03-21 04:03 │ 03-21 04:04 │ 03-21 04:04 ║\n",
      "╚═════╧═══════════════════╧═════════════╧═══════════╧═════════════╧═════════════╧═════════════╝\n",
      "\n",
      "[ COMMITS ]\n",
      "\n",
      "╔═══════════════════╤═════════════════════╤═══════════════════╤═════════════════════╤══════════════════════════╤═══════════════════════╤══════════════════════════════╤══════════════╗\n",
      "║ CommitTime        │ Total Bytes Written │ Total Files Added │ Total Files Updated │ Total Partitions Written │ Total Records Written │ Total Update Records Written │ Total Errors ║\n",
      "╠═══════════════════╪═════════════════════╪═══════════════════╪═════════════════════╪══════════════════════════╪═══════════════════════╪══════════════════════════════╪══════════════╣\n",
      "║ 20230321040356558 │ 1.6 MB              │ 0                 │ 2                   │ 2                        │ 2951                  │ 2951                         │ 0            ║\n",
      "╟───────────────────┼─────────────────────┼───────────────────┼─────────────────────┼──────────────────────────┼───────────────────────┼──────────────────────────────┼──────────────╢\n",
      "║ 20230321040233833 │ 191.6 MB            │ 2                 │ 0                   │ 2                        │ 1155127               │ 0                            │ 0            ║\n",
      "╚═══════════════════╧═════════════════════╧═══════════════════╧═════════════════════╧══════════════════════════╧═══════════════════════╧══════════════════════════════╧══════════════╝\n",
      "\n",
      "[ COMPACTIONS ]\n",
      "\n",
      "╔═════════════════════════╤═══════╤═══════════════════════════════╗\n",
      "║ Compaction Instant Time │ State │ Total FileIds to be Compacted ║\n",
      "╠═════════════════════════╧═══════╧═══════════════════════════════╣\n",
      "║ (empty)                                                         ║\n",
      "╚═════════════════════════════════════════════════════════════════╝\n",
      "\n",
      "[ STORAGE ]\n",
      "\n",
      "/home/emr-notebook/apache-hudi-core-conceptions/reviews_mor_compaction_3\n",
      "├── [ 97M 04:04:37]  parity=0\n",
      "│   ├── [787K 04:04:06]  .50e4a1be-018a-4af5-b98c-133f50c0bd90-0_20230321040233833.log.1_0-571-2029\n",
      "│   └── [ 96M 04:03:19]  50e4a1be-018a-4af5-b98c-133f50c0bd90-0_0-523-1967_20230321040233833.parquet\n",
      "└── [ 97M 04:04:37]  parity=1\n",
      "    ├── [812K 04:04:07]  .f142610f-3091-4eba-8d08-367916d92422-0_20230321040233833.log.1_1-571-2030\n",
      "    └── [ 96M 04:03:21]  f142610f-3091-4eba-8d08-367916d92422-0_1-523-1968_20230321040233833.parquet\n"
     ]
    }
   ],
   "source": [
    "%%sh\n",
    "${WORKSPACE}/hudi-stat.sh s3://${S3_BUCKET}/${TABLE_NAME} timeline commits compactions storage"
   ]
  },
  {
   "cell_type": "markdown",
   "id": "68b92eb9-a751-4605-bda8-8ec009560fbb",
   "metadata": {
    "tags": []
   },
   "source": [
    "### 5.7. Update 1.2MB / +1 Log File +1 Base File"
   ]
  },
  {
   "cell_type": "code",
   "execution_count": 64,
   "id": "86584bca-b9a6-4170-9c7b-e45750bd5515",
   "metadata": {
    "execution": {
     "iopub.execute_input": "2023-03-21T04:04:37.419589Z",
     "iopub.status.busy": "2023-03-21T04:04:37.419035Z",
     "iopub.status.idle": "2023-03-21T04:05:00.973056Z",
     "shell.execute_reply": "2023-03-21T04:05:00.972368Z",
     "shell.execute_reply.started": "2023-03-21T04:04:37.419551Z"
    },
    "tags": []
   },
   "outputs": [
    {
     "data": {
      "application/vnd.jupyter.widget-view+json": {
       "model_id": "",
       "version_major": 2,
       "version_minor": 0
      },
      "text/plain": [
       "FloatProgress(value=0.0, bar_style='info', description='Progress:', layout=Layout(height='25px', width='50%'),…"
      ]
     },
     "metadata": {},
     "output_type": "display_data"
    },
    {
     "data": {
      "text/html": [
       "<style>.jp-OutputArea-child .jupyter-widgets.jp-OutputArea-output { overflow: auto; }</style>"
      ],
      "text/plain": [
       "<IPython.core.display.HTML object>"
      ]
     },
     "metadata": {},
     "output_type": "display_data"
    },
    {
     "data": {
      "application/vnd.jupyter.widget-view+json": {
       "model_id": "b08c03226fe84eff9f2beb95c643b816",
       "version_major": 2,
       "version_minor": 0
      },
      "text/plain": [
       "VBox(children=(HBox(), EncodingWidget(children=(VBox(children=(HTML(value='Encoding:'), Dropdown(description='…"
      ]
     },
     "metadata": {},
     "output_type": "display_data"
    },
    {
     "data": {
      "application/vnd.jupyter.widget-view+json": {
       "model_id": "efe63c46404846ffa1bf23c3bd989b3d",
       "version_major": 2,
       "version_minor": 0
      },
      "text/plain": [
       "Output()"
      ]
     },
     "metadata": {},
     "output_type": "display_data"
    }
   ],
   "source": [
    "%%sql\n",
    "update\n",
    "    ${TABLE_NAME}\n",
    "set             \n",
    "    review_body = concat(uuid(),uuid(),uuid(),uuid(),uuid(),uuid(),uuid(),uuid(),uuid(),uuid()),\n",
    "    timestamp = unix_timestamp(current_timestamp())\n",
    "where\n",
    "    review_date = '2003-01-02'\n",
    ";"
   ]
  },
  {
   "cell_type": "code",
   "execution_count": 65,
   "id": "6111147c-bac6-456b-85f2-849750eaa772",
   "metadata": {
    "execution": {
     "iopub.execute_input": "2023-03-21T04:05:00.974304Z",
     "iopub.status.busy": "2023-03-21T04:05:00.974067Z",
     "iopub.status.idle": "2023-03-21T04:05:23.447453Z",
     "shell.execute_reply": "2023-03-21T04:05:23.446652Z",
     "shell.execute_reply.started": "2023-03-21T04:05:00.974281Z"
    },
    "tags": []
   },
   "outputs": [
    {
     "name": "stdout",
     "output_type": "stream",
     "text": [
      "\n",
      "[ TIMELINE ]\n",
      "\n",
      "╔═════╤═══════════════════╤═════════════╤═══════════╤═════════════╤═════════════╤═════════════╗\n",
      "║ No. │ Instant           │ Action      │ State     │ Requested   │ Inflight    │ Completed   ║\n",
      "║     │                   │             │           │ Time        │ Time        │ Time        ║\n",
      "╠═════╪═══════════════════╪═════════════╪═══════════╪═════════════╪═════════════╪═════════════╣\n",
      "║ 0   │ 20230321040233833 │ deltacommit │ COMPLETED │ 03-21 04:02 │ 03-21 04:03 │ 03-21 04:03 ║\n",
      "╟─────┼───────────────────┼─────────────┼───────────┼─────────────┼─────────────┼─────────────╢\n",
      "║ 1   │ 20230321040356558 │ deltacommit │ COMPLETED │ 03-21 04:03 │ 03-21 04:04 │ 03-21 04:04 ║\n",
      "╟─────┼───────────────────┼─────────────┼───────────┼─────────────┼─────────────┼─────────────╢\n",
      "║ 2   │ 20230321040438169 │ deltacommit │ COMPLETED │ 03-21 04:04 │ 03-21 04:04 │ 03-21 04:04 ║\n",
      "╟─────┼───────────────────┼─────────────┼───────────┼─────────────┼─────────────┼─────────────╢\n",
      "║ 3   │ 20230321040454612 │ compaction  │ REQUESTED │ 03-21 04:04 │ -           │ -           ║\n",
      "╚═════╧═══════════════════╧═════════════╧═══════════╧═════════════╧═════════════╧═════════════╝\n",
      "\n",
      "[ COMMITS ]\n",
      "\n",
      "╔═══════════════════╤═════════════════════╤═══════════════════╤═════════════════════╤══════════════════════════╤═══════════════════════╤══════════════════════════════╤══════════════╗\n",
      "║ CommitTime        │ Total Bytes Written │ Total Files Added │ Total Files Updated │ Total Partitions Written │ Total Records Written │ Total Update Records Written │ Total Errors ║\n",
      "╠═══════════════════╪═════════════════════╪═══════════════════╪═════════════════════╪══════════════════════════╪═══════════════════════╪══════════════════════════════╪══════════════╣\n",
      "║ 20230321040438169 │ 2.3 MB              │ 0                 │ 2                   │ 2                        │ 4341                  │ 4341                         │ 0            ║\n",
      "╟───────────────────┼─────────────────────┼───────────────────┼─────────────────────┼──────────────────────────┼───────────────────────┼──────────────────────────────┼──────────────╢\n",
      "║ 20230321040356558 │ 1.6 MB              │ 0                 │ 2                   │ 2                        │ 2951                  │ 2951                         │ 0            ║\n",
      "╟───────────────────┼─────────────────────┼───────────────────┼─────────────────────┼──────────────────────────┼───────────────────────┼──────────────────────────────┼──────────────╢\n",
      "║ 20230321040233833 │ 191.6 MB            │ 2                 │ 0                   │ 2                        │ 1155127               │ 0                            │ 0            ║\n",
      "╚═══════════════════╧═════════════════════╧═══════════════════╧═════════════════════╧══════════════════════════╧═══════════════════════╧══════════════════════════════╧══════════════╝\n",
      "\n",
      "[ COMPACTIONS ]\n",
      "\n",
      "╔═════════════════════════╤═══════════╤═══════════════════════════════╗\n",
      "║ Compaction Instant Time │ State     │ Total FileIds to be Compacted ║\n",
      "╠═════════════════════════╪═══════════╪═══════════════════════════════╣\n",
      "║ 20230321040454612       │ REQUESTED │ 2                             ║\n",
      "╚═════════════════════════╧═══════════╧═══════════════════════════════╝\n",
      "\n",
      "[ STORAGE ]\n",
      "\n",
      "/home/emr-notebook/apache-hudi-core-conceptions/reviews_mor_compaction_3\n",
      "├── [ 98M 04:05:23]  parity=0\n",
      "│   ├── [787K 04:04:06]  .50e4a1be-018a-4af5-b98c-133f50c0bd90-0_20230321040233833.log.1_0-571-2029\n",
      "│   ├── [1.2M 04:04:48]  .50e4a1be-018a-4af5-b98c-133f50c0bd90-0_20230321040233833.log.2_0-619-2091\n",
      "│   └── [ 96M 04:03:19]  50e4a1be-018a-4af5-b98c-133f50c0bd90-0_0-523-1967_20230321040233833.parquet\n",
      "└── [ 98M 04:05:23]  parity=1\n",
      "    ├── [812K 04:04:07]  .f142610f-3091-4eba-8d08-367916d92422-0_20230321040233833.log.1_1-571-2030\n",
      "    ├── [1.1M 04:04:48]  .f142610f-3091-4eba-8d08-367916d92422-0_20230321040233833.log.2_1-619-2092\n",
      "    └── [ 96M 04:03:21]  f142610f-3091-4eba-8d08-367916d92422-0_1-523-1968_20230321040233833.parquet\n"
     ]
    }
   ],
   "source": [
    "%%sh\n",
    "${WORKSPACE}/hudi-stat.sh s3://${S3_BUCKET}/${TABLE_NAME} timeline commits compactions storage"
   ]
  },
  {
   "cell_type": "markdown",
   "id": "a82f370d-cf74-4a46-b590-fb051d32e5f6",
   "metadata": {},
   "source": [
    "### 5.8. Offline Execute 96.15MB / +1 Compacted File"
   ]
  },
  {
   "cell_type": "code",
   "execution_count": 66,
   "id": "ce5ffcac-1e3b-454d-bab8-3fbfdd2a2512",
   "metadata": {
    "execution": {
     "iopub.execute_input": "2023-03-21T04:05:23.449001Z",
     "iopub.status.busy": "2023-03-21T04:05:23.448745Z",
     "iopub.status.idle": "2023-03-21T04:06:12.963523Z",
     "shell.execute_reply": "2023-03-21T04:06:12.962653Z",
     "shell.execute_reply.started": "2023-03-21T04:05:23.448975Z"
    },
    "tags": []
   },
   "outputs": [],
   "source": [
    "%%sh\n",
    "# it's required for current user (emr-notebook) to get sudo permission\n",
    "sudo -u hadoop spark-submit \\\n",
    "  --jars '/usr/lib/hudi/hudi-spark-bundle.jar' \\\n",
    "  --class \"org.apache.hudi.utilities.HoodieCompactor\" \\\n",
    "  /usr/lib/hudi/hudi-utilities-bundle.jar \\\n",
    "  --spark-memory '4g' \\\n",
    "  --mode 'execute' \\\n",
    "  --base-path \"s3://${S3_BUCKET}/${TABLE_NAME}\" \\\n",
    "  --table-name \"$TABLE_NAME\" > ${WORKSPACE}/${TABLE_NAME}.execute.out &>/dev/null"
   ]
  },
  {
   "cell_type": "code",
   "execution_count": 67,
   "id": "55e677b2-6151-4b87-b22a-55eba3550a1c",
   "metadata": {
    "execution": {
     "iopub.execute_input": "2023-03-21T04:06:12.965114Z",
     "iopub.status.busy": "2023-03-21T04:06:12.964825Z",
     "iopub.status.idle": "2023-03-21T04:06:36.552633Z",
     "shell.execute_reply": "2023-03-21T04:06:36.551644Z",
     "shell.execute_reply.started": "2023-03-21T04:06:12.965087Z"
    },
    "tags": []
   },
   "outputs": [
    {
     "name": "stdout",
     "output_type": "stream",
     "text": [
      "\n",
      "[ TIMELINE ]\n",
      "\n",
      "╔═════╤═══════════════════╤═════════════╤═══════════╤═════════════╤═════════════╤═════════════╗\n",
      "║ No. │ Instant           │ Action      │ State     │ Requested   │ Inflight    │ Completed   ║\n",
      "║     │                   │             │           │ Time        │ Time        │ Time        ║\n",
      "╠═════╪═══════════════════╪═════════════╪═══════════╪═════════════╪═════════════╪═════════════╣\n",
      "║ 0   │ 20230321040233833 │ deltacommit │ COMPLETED │ 03-21 04:02 │ 03-21 04:03 │ 03-21 04:03 ║\n",
      "╟─────┼───────────────────┼─────────────┼───────────┼─────────────┼─────────────┼─────────────╢\n",
      "║ 1   │ 20230321040356558 │ deltacommit │ COMPLETED │ 03-21 04:03 │ 03-21 04:04 │ 03-21 04:04 ║\n",
      "╟─────┼───────────────────┼─────────────┼───────────┼─────────────┼─────────────┼─────────────╢\n",
      "║ 2   │ 20230321040438169 │ deltacommit │ COMPLETED │ 03-21 04:04 │ 03-21 04:04 │ 03-21 04:04 ║\n",
      "╟─────┼───────────────────┼─────────────┼───────────┼─────────────┼─────────────┼─────────────╢\n",
      "║ 3   │ 20230321040454612 │ commit      │ COMPLETED │ 03-21 04:04 │ 03-21 04:05 │ 03-21 04:06 ║\n",
      "╚═════╧═══════════════════╧═════════════╧═══════════╧═════════════╧═════════════╧═════════════╝\n",
      "\n",
      "[ COMMITS ]\n",
      "\n",
      "╔═══════════════════╤═════════════════════╤═══════════════════╤═════════════════════╤══════════════════════════╤═══════════════════════╤══════════════════════════════╤══════════════╗\n",
      "║ CommitTime        │ Total Bytes Written │ Total Files Added │ Total Files Updated │ Total Partitions Written │ Total Records Written │ Total Update Records Written │ Total Errors ║\n",
      "╠═══════════════════╪═════════════════════╪═══════════════════╪═════════════════════╪══════════════════════════╪═══════════════════════╪══════════════════════════════╪══════════════╣\n",
      "║ 20230321040454612 │ 192.3 MB            │ 0                 │ 2                   │ 2                        │ 1155127               │ 7292                         │ 0            ║\n",
      "╟───────────────────┼─────────────────────┼───────────────────┼─────────────────────┼──────────────────────────┼───────────────────────┼──────────────────────────────┼──────────────╢\n",
      "║ 20230321040438169 │ 2.3 MB              │ 0                 │ 2                   │ 2                        │ 4341                  │ 4341                         │ 0            ║\n",
      "╟───────────────────┼─────────────────────┼───────────────────┼─────────────────────┼──────────────────────────┼───────────────────────┼──────────────────────────────┼──────────────╢\n",
      "║ 20230321040356558 │ 1.6 MB              │ 0                 │ 2                   │ 2                        │ 2951                  │ 2951                         │ 0            ║\n",
      "╟───────────────────┼─────────────────────┼───────────────────┼─────────────────────┼──────────────────────────┼───────────────────────┼──────────────────────────────┼──────────────╢\n",
      "║ 20230321040233833 │ 191.6 MB            │ 2                 │ 0                   │ 2                        │ 1155127               │ 0                            │ 0            ║\n",
      "╚═══════════════════╧═════════════════════╧═══════════════════╧═════════════════════╧══════════════════════════╧═══════════════════════╧══════════════════════════════╧══════════════╝\n",
      "\n",
      "[ COMPACTIONS ]\n",
      "\n",
      "╔═════════════════════════╤═══════════╤═══════════════════════════════╗\n",
      "║ Compaction Instant Time │ State     │ Total FileIds to be Compacted ║\n",
      "╠═════════════════════════╪═══════════╪═══════════════════════════════╣\n",
      "║ 20230321040454612       │ COMPLETED │ 2                             ║\n",
      "╚═════════════════════════╧═══════════╧═══════════════════════════════╝\n",
      "\n",
      "[ STORAGE ]\n",
      "\n",
      "/home/emr-notebook/apache-hudi-core-conceptions/reviews_mor_compaction_3\n",
      "├── [194M 04:06:36]  parity=0\n",
      "│   ├── [787K 04:04:06]  .50e4a1be-018a-4af5-b98c-133f50c0bd90-0_20230321040233833.log.1_0-571-2029\n",
      "│   ├── [1.2M 04:04:48]  .50e4a1be-018a-4af5-b98c-133f50c0bd90-0_20230321040233833.log.2_0-619-2091\n",
      "│   ├── [ 96M 04:03:19]  50e4a1be-018a-4af5-b98c-133f50c0bd90-0_0-523-1967_20230321040233833.parquet\n",
      "│   └── [ 96M 04:06:07]  50e4a1be-018a-4af5-b98c-133f50c0bd90-0_1-0-1_20230321040454612.parquet\n",
      "└── [194M 04:06:36]  parity=1\n",
      "    ├── [812K 04:04:07]  .f142610f-3091-4eba-8d08-367916d92422-0_20230321040233833.log.1_1-571-2030\n",
      "    ├── [1.1M 04:04:48]  .f142610f-3091-4eba-8d08-367916d92422-0_20230321040233833.log.2_1-619-2092\n",
      "    ├── [ 96M 04:06:07]  f142610f-3091-4eba-8d08-367916d92422-0_0-0-0_20230321040454612.parquet\n",
      "    └── [ 96M 04:03:21]  f142610f-3091-4eba-8d08-367916d92422-0_1-523-1968_20230321040233833.parquet\n"
     ]
    }
   ],
   "source": [
    "%%sh\n",
    "${WORKSPACE}/hudi-stat.sh s3://${S3_BUCKET}/${TABLE_NAME} timeline commits compactions storage"
   ]
  }
 ],
 "metadata": {
  "kernelspec": {
   "display_name": "Spark",
   "language": "scala",
   "name": "sparkkernel"
  },
  "language_info": {
   "codemirror_mode": "text/x-scala",
   "file_extension": ".sc",
   "mimetype": "text/x-scala",
   "name": "scala",
   "pygments_lexer": "scala"
  }
 },
 "nbformat": 4,
 "nbformat_minor": 5
}
