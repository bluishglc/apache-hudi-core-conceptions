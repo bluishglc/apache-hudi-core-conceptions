{
 "cells": [
  {
   "cell_type": "markdown",
   "id": "1d574cc5-0034-439e-b4c9-45f0afea203d",
   "metadata": {
    "tags": []
   },
   "source": [
    "# Apache Hudi Core Conceptions (3) - MOR: File Layouts & File Sizing"
   ]
  },
  {
   "cell_type": "markdown",
   "id": "8ab4926d-5fb6-4a3c-8466-bf5bd18192ba",
   "metadata": {},
   "source": [
    "*Author: [Laurence Geng](https://laurence.blog.csdn.net) @ [https://laurence.blog.csdn.net](https://laurence.blog.csdn.net)*"
   ]
  },
  {
   "cell_type": "markdown",
   "id": "a8f99894-93f3-4cef-a853-d2d73a3515b6",
   "metadata": {
    "tags": []
   },
   "source": [
    "## 1. Configuration"
   ]
  },
  {
   "cell_type": "code",
   "execution_count": 1,
   "id": "638504d6-1136-4807-af98-1d4248d1a8f3",
   "metadata": {
    "execution": {
     "iopub.execute_input": "2023-03-16T01:37:13.219867Z",
     "iopub.status.busy": "2023-03-16T01:37:13.219500Z",
     "iopub.status.idle": "2023-03-16T01:37:18.085515Z",
     "shell.execute_reply": "2023-03-16T01:37:18.084656Z",
     "shell.execute_reply.started": "2023-03-16T01:37:13.219838Z"
    },
    "tags": []
   },
   "outputs": [
    {
     "name": "stdout",
     "output_type": "stream",
     "text": [
      "-rw-r--r--   1 emr-notebook hdfsadmingroup   61421977 2023-03-16 01:37 /tmp/hudi-spark-bundle.jar\n"
     ]
    }
   ],
   "source": [
    "%%sh\n",
    "# deploy hudi bundle jar\n",
    "hdfs dfs -copyFromLocal -f /usr/lib/hudi/hudi-spark-bundle.jar /tmp/hudi-spark-bundle.jar\n",
    "hdfs dfs -ls /tmp/hudi-spark-bundle.jar"
   ]
  },
  {
   "cell_type": "code",
   "execution_count": 2,
   "id": "c7b533e6-60dc-44b6-be57-d3b86c11c583",
   "metadata": {
    "execution": {
     "iopub.execute_input": "2023-03-16T01:37:18.087258Z",
     "iopub.status.busy": "2023-03-16T01:37:18.086978Z",
     "iopub.status.idle": "2023-03-16T01:37:18.130266Z",
     "shell.execute_reply": "2023-03-16T01:37:18.129566Z",
     "shell.execute_reply.started": "2023-03-16T01:37:18.087229Z"
    },
    "tags": []
   },
   "outputs": [
    {
     "data": {
      "text/html": [
       "Current session configs: <tt>{'conf': {'spark.jars': 'hdfs:///tmp/hudi-spark-bundle.jar', 'spark.serializer': 'org.apache.spark.serializer.KryoSerializer', 'spark.sql.extensions': 'org.apache.spark.sql.hudi.HoodieSparkSessionExtension', 'spark.sql.catalog.spark_catalog': 'org.apache.spark.sql.hudi.catalog.HoodieCatalog'}, 'proxyUser': 'user_bluishglc', 'kind': 'spark'}</tt><br>"
      ],
      "text/plain": [
       "<IPython.core.display.HTML object>"
      ]
     },
     "metadata": {},
     "output_type": "display_data"
    },
    {
     "data": {
      "text/html": [
       "<table>\n<tbody><tr><th>ID</th><th>YARN Application ID</th><th>Kind</th><th>State</th><th>Spark UI</th><th>Driver log</th><th>User</th><th>Current session?</th></tr><tr><td>80</td><td>application_1678096020253_0135</td><td>spark</td><td>idle</td><td><a target=\"_blank\" href=\"http://ip-10-0-129-209.ec2.internal:20888/proxy/application_1678096020253_0135/\" class=\"emr-proxy-link j-6V65AY8X5VHR application_1678096020253_0135\" emr-resource=\"j-6V65AY8X5VHR\n\" application-id=\"application_1678096020253_0135\">Link</a></td><td><a target=\"_blank\" href=\"http://ip-10-0-132-108.ec2.internal:8042/node/containerlogs/container_1678096020253_0135_01_000001/livy\">Link</a></td><td>None</td><td></td></tr><tr><td>81</td><td>application_1678096020253_0140</td><td>spark</td><td>idle</td><td><a target=\"_blank\" href=\"http://ip-10-0-129-209.ec2.internal:20888/proxy/application_1678096020253_0140/\" class=\"emr-proxy-link j-6V65AY8X5VHR application_1678096020253_0140\" emr-resource=\"j-6V65AY8X5VHR\n\" application-id=\"application_1678096020253_0140\">Link</a></td><td><a target=\"_blank\" href=\"http://ip-10-0-132-108.ec2.internal:8042/node/containerlogs/container_1678096020253_0140_01_000001/livy\">Link</a></td><td>None</td><td></td></tr></tbody></table>"
      ],
      "text/plain": [
       "<IPython.core.display.HTML object>"
      ]
     },
     "metadata": {},
     "output_type": "display_data"
    }
   ],
   "source": [
    "%%configure -f\n",
    "{\n",
    "    \"conf\" : {\n",
    "        \"spark.jars\":\"hdfs:///tmp/hudi-spark-bundle.jar\",            \n",
    "        \"spark.serializer\":\"org.apache.spark.serializer.KryoSerializer\",\n",
    "        \"spark.sql.extensions\":\"org.apache.spark.sql.hudi.HoodieSparkSessionExtension\",\n",
    "        \"spark.sql.catalog.spark_catalog\":\"org.apache.spark.sql.hudi.catalog.HoodieCatalog\"\n",
    "    }\n",
    "}"
   ]
  },
  {
   "cell_type": "code",
   "execution_count": 3,
   "id": "8af4b944-fe51-41b9-90fb-ed249199f406",
   "metadata": {
    "execution": {
     "iopub.execute_input": "2023-03-16T01:37:18.131906Z",
     "iopub.status.busy": "2023-03-16T01:37:18.131653Z",
     "iopub.status.idle": "2023-03-16T01:37:18.136290Z",
     "shell.execute_reply": "2023-03-16T01:37:18.135607Z",
     "shell.execute_reply.started": "2023-03-16T01:37:18.131883Z"
    },
    "tags": []
   },
   "outputs": [
    {
     "name": "stdout",
     "output_type": "stream",
     "text": [
      "env: S3_BUCKET=apache-hudi-core-conceptions\n"
     ]
    }
   ],
   "source": [
    "%env S3_BUCKET=apache-hudi-core-conceptions"
   ]
  },
  {
   "cell_type": "code",
   "execution_count": 4,
   "id": "c5d08e30-76d6-4d19-af7c-15a49469c013",
   "metadata": {
    "execution": {
     "iopub.execute_input": "2023-03-16T01:37:18.137853Z",
     "iopub.status.busy": "2023-03-16T01:37:18.137576Z",
     "iopub.status.idle": "2023-03-16T01:37:49.765157Z",
     "shell.execute_reply": "2023-03-16T01:37:49.764377Z",
     "shell.execute_reply.started": "2023-03-16T01:37:18.137831Z"
    },
    "tags": []
   },
   "outputs": [
    {
     "name": "stdout",
     "output_type": "stream",
     "text": [
      "Starting Spark application\n"
     ]
    },
    {
     "data": {
      "text/html": [
       "<table>\n<tbody><tr><th>ID</th><th>YARN Application ID</th><th>Kind</th><th>State</th><th>Spark UI</th><th>Driver log</th><th>User</th><th>Current session?</th></tr><tr><td>82</td><td>application_1678096020253_0141</td><td>spark</td><td>idle</td><td><a target=\"_blank\" href=\"http://ip-10-0-129-209.ec2.internal:20888/proxy/application_1678096020253_0141/\" class=\"emr-proxy-link j-6V65AY8X5VHR application_1678096020253_0141\" emr-resource=\"j-6V65AY8X5VHR\n\" application-id=\"application_1678096020253_0141\">Link</a></td><td><a target=\"_blank\" href=\"http://ip-10-0-132-108.ec2.internal:8042/node/containerlogs/container_1678096020253_0141_01_000001/livy\">Link</a></td><td>None</td><td>✔</td></tr></tbody></table>"
      ],
      "text/plain": [
       "<IPython.core.display.HTML object>"
      ]
     },
     "metadata": {},
     "output_type": "display_data"
    },
    {
     "data": {
      "application/vnd.jupyter.widget-view+json": {
       "model_id": "",
       "version_major": 2,
       "version_minor": 0
      },
      "text/plain": [
       "FloatProgress(value=0.0, bar_style='info', description='Progress:', layout=Layout(height='25px', width='50%'),…"
      ]
     },
     "metadata": {},
     "output_type": "display_data"
    },
    {
     "name": "stdout",
     "output_type": "stream",
     "text": [
      "SparkSession available as 'spark'.\n"
     ]
    },
    {
     "data": {
      "application/vnd.jupyter.widget-view+json": {
       "model_id": "",
       "version_major": 2,
       "version_minor": 0
      },
      "text/plain": [
       "FloatProgress(value=0.0, bar_style='info', description='Progress:', layout=Layout(height='25px', width='50%'),…"
      ]
     },
     "metadata": {},
     "output_type": "display_data"
    },
    {
     "data": {
      "text/html": [
       "<style>.jp-OutputArea-child .jupyter-widgets.jp-OutputArea-output { overflow: auto; }</style>"
      ],
      "text/plain": [
       "<IPython.core.display.HTML object>"
      ]
     },
     "metadata": {},
     "output_type": "display_data"
    },
    {
     "data": {
      "application/vnd.jupyter.widget-view+json": {
       "model_id": "42290fd0bbd041c5a784b95dabb1b0da",
       "version_major": 2,
       "version_minor": 0
      },
      "text/plain": [
       "VBox(children=(HBox(children=(HTML(value='Type:'), Button(description='Table', layout=Layout(width='70px'), st…"
      ]
     },
     "metadata": {},
     "output_type": "display_data"
    },
    {
     "data": {
      "application/vnd.jupyter.widget-view+json": {
       "model_id": "3a77213b66504ebfb87134a7031d658e",
       "version_major": 2,
       "version_minor": 0
      },
      "text/plain": [
       "Output()"
      ]
     },
     "metadata": {},
     "output_type": "display_data"
    }
   ],
   "source": [
    "%%sql\n",
    "set S3_BUCKET=apache-hudi-core-conceptions"
   ]
  },
  {
   "cell_type": "code",
   "execution_count": 5,
   "id": "2b88311f-c410-4935-a41a-ce3d81c84920",
   "metadata": {
    "execution": {
     "iopub.execute_input": "2023-03-16T01:37:49.766777Z",
     "iopub.status.busy": "2023-03-16T01:37:49.766379Z",
     "iopub.status.idle": "2023-03-16T01:37:49.771686Z",
     "shell.execute_reply": "2023-03-16T01:37:49.770948Z",
     "shell.execute_reply.started": "2023-03-16T01:37:49.766747Z"
    },
    "tags": []
   },
   "outputs": [
    {
     "name": "stdout",
     "output_type": "stream",
     "text": [
      "env: WORKSPACE=/home/emr-notebook/apache-hudi-core-conceptions\n"
     ]
    }
   ],
   "source": [
    "%env WORKSPACE=/home/emr-notebook/apache-hudi-core-conceptions"
   ]
  },
  {
   "cell_type": "code",
   "execution_count": 6,
   "id": "78881ec6-4329-416b-ab27-38339020e322",
   "metadata": {
    "execution": {
     "iopub.execute_input": "2023-03-16T01:37:49.773493Z",
     "iopub.status.busy": "2023-03-16T01:37:49.773138Z",
     "iopub.status.idle": "2023-03-16T01:37:49.886609Z",
     "shell.execute_reply": "2023-03-16T01:37:49.885488Z",
     "shell.execute_reply.started": "2023-03-16T01:37:49.773460Z"
    },
    "tags": []
   },
   "outputs": [
    {
     "name": "stdout",
     "output_type": "stream",
     "text": [
      "/home/emr-notebook/apache-hudi-core-conceptions/hudi-stat.sh\n"
     ]
    }
   ],
   "source": [
    "%%sh\n",
    "# make workspace\n",
    "mkdir -p $WORKSPACE\n",
    "# deploy hudi-stat.sh, a utility shell script to output hudi table status\n",
    "wget https://raw.githubusercontent.com/bluishglc/apache-hudi-core-conceptions/master/hudi-stat.sh -O $WORKSPACE/hudi-stat.sh &>/dev/null\n",
    "chmod a+x $WORKSPACE/hudi-stat.sh\n",
    "ls $WORKSPACE/hudi-stat.sh"
   ]
  },
  {
   "cell_type": "code",
   "execution_count": 7,
   "id": "db234f04-c0c0-4be7-829b-0bbfc6e1395f",
   "metadata": {
    "execution": {
     "iopub.execute_input": "2023-03-16T01:37:49.888556Z",
     "iopub.status.busy": "2023-03-16T01:37:49.888181Z",
     "iopub.status.idle": "2023-03-16T01:37:49.896494Z",
     "shell.execute_reply": "2023-03-16T01:37:49.895328Z",
     "shell.execute_reply.started": "2023-03-16T01:37:49.888516Z"
    },
    "tags": []
   },
   "outputs": [
    {
     "data": {
      "text/html": [
       "<style>\n",
       "table {float:left}\n",
       "</style>\n"
      ],
      "text/plain": [
       "<IPython.core.display.HTML object>"
      ]
     },
     "metadata": {},
     "output_type": "display_data"
    }
   ],
   "source": [
    "%%html\n",
    "<style>\n",
    "table {float:left}\n",
    "</style>"
   ]
  },
  {
   "cell_type": "markdown",
   "id": "6214b0af-4317-403c-aaac-f556bd6572f8",
   "metadata": {
    "tags": []
   },
   "source": [
    "## 2. Test Case 1 - MOR: File Layouts + File Sizing"
   ]
  },
  {
   "cell_type": "markdown",
   "id": "ba6ba4c4-4a40-401b-9c2f-2726d57f8d1e",
   "metadata": {
    "jp-MarkdownHeadingCollapsed": true,
    "tags": []
   },
   "source": [
    "### 2.1. Test Plan\n",
    "\n",
    "Step No.|Action|Volume Per Partition |Storage\n",
    ":--------:|:------|:------|:----------\n",
    "1|Insert|96MB|+1 Base File\n",
    "2|Update|804KB|+1 Log File\n",
    "3|Update|1.2MB|+1 Log File +1 Base File\n",
    "4|Update|307MB|+1 Log File +1 Max Log File"
   ]
  },
  {
   "cell_type": "markdown",
   "id": "678e7c29-dd3f-413a-ae6e-367feec360f4",
   "metadata": {
    "tags": []
   },
   "source": [
    "### 2.2. Key Settings\n",
    "\n",
    "KEY|DEFAULT VALUE|SET VALUE\n",
    ":---|:---|:---\n",
    "hoodie.compact.inline|false|true\n",
    "hoodie.compact.schedule.inline|false|Default Value\n",
    "hoodie.compact.inline.max.delta.commits|5|3\n",
    "hoodie.logfile.max.size|1073741824 ( 1GB )|262144000 ( 250MB )\n",
    "hoodie.copyonwrite.record.size.estimate|1024|175"
   ]
  },
  {
   "cell_type": "markdown",
   "id": "2eeb3628-b884-494b-8452-ed6f5a54e052",
   "metadata": {
    "execution": {
     "iopub.execute_input": "2023-02-25T02:57:45.037101Z",
     "iopub.status.busy": "2023-02-25T02:57:45.036681Z",
     "iopub.status.idle": "2023-02-25T02:58:07.353493Z",
     "shell.execute_reply": "2023-02-25T02:58:07.352596Z",
     "shell.execute_reply.started": "2023-02-25T02:57:45.037060Z"
    },
    "tags": []
   },
   "source": [
    "### 2.3. Set Variables"
   ]
  },
  {
   "cell_type": "code",
   "execution_count": 8,
   "id": "64782769-59ad-4caa-83b1-1da57f43cfdf",
   "metadata": {
    "execution": {
     "iopub.execute_input": "2023-03-16T01:37:49.900651Z",
     "iopub.status.busy": "2023-03-16T01:37:49.900417Z",
     "iopub.status.idle": "2023-03-16T01:37:50.818012Z",
     "shell.execute_reply": "2023-03-16T01:37:50.817330Z",
     "shell.execute_reply.started": "2023-03-16T01:37:49.900628Z"
    },
    "tags": []
   },
   "outputs": [
    {
     "data": {
      "application/vnd.jupyter.widget-view+json": {
       "model_id": "",
       "version_major": 2,
       "version_minor": 0
      },
      "text/plain": [
       "FloatProgress(value=0.0, bar_style='info', description='Progress:', layout=Layout(height='25px', width='50%'),…"
      ]
     },
     "metadata": {},
     "output_type": "display_data"
    },
    {
     "data": {
      "text/html": [
       "<style>.jp-OutputArea-child .jupyter-widgets.jp-OutputArea-output { overflow: auto; }</style>"
      ],
      "text/plain": [
       "<IPython.core.display.HTML object>"
      ]
     },
     "metadata": {},
     "output_type": "display_data"
    },
    {
     "data": {
      "application/vnd.jupyter.widget-view+json": {
       "model_id": "d070370757714940b0378169699c11b4",
       "version_major": 2,
       "version_minor": 0
      },
      "text/plain": [
       "VBox(children=(HBox(children=(HTML(value='Type:'), Button(description='Table', layout=Layout(width='70px'), st…"
      ]
     },
     "metadata": {},
     "output_type": "display_data"
    },
    {
     "data": {
      "application/vnd.jupyter.widget-view+json": {
       "model_id": "c8d83dd79e284b59bd555a7555ec180a",
       "version_major": 2,
       "version_minor": 0
      },
      "text/plain": [
       "Output()"
      ]
     },
     "metadata": {},
     "output_type": "display_data"
    }
   ],
   "source": [
    "%%sql\n",
    "set TABLE_NAME=reviews_mor_layouts_sizing_1"
   ]
  },
  {
   "cell_type": "code",
   "execution_count": 9,
   "id": "ede1910f-d9ad-42cf-8068-4e7b13eac8fe",
   "metadata": {
    "execution": {
     "iopub.execute_input": "2023-03-16T01:37:50.819867Z",
     "iopub.status.busy": "2023-03-16T01:37:50.819602Z",
     "iopub.status.idle": "2023-03-16T01:37:50.823967Z",
     "shell.execute_reply": "2023-03-16T01:37:50.823274Z",
     "shell.execute_reply.started": "2023-03-16T01:37:50.819843Z"
    },
    "tags": []
   },
   "outputs": [
    {
     "name": "stdout",
     "output_type": "stream",
     "text": [
      "env: TABLE_NAME=reviews_mor_layouts_sizing_1\n"
     ]
    }
   ],
   "source": [
    "%env TABLE_NAME=reviews_mor_layouts_sizing_1"
   ]
  },
  {
   "cell_type": "markdown",
   "id": "d076084e-20f7-4077-b482-6e50d0af4c9c",
   "metadata": {
    "tags": []
   },
   "source": [
    "### 2.4. Create Table"
   ]
  },
  {
   "cell_type": "code",
   "execution_count": 10,
   "id": "276f4dca-b839-44f4-bf3a-dab576430cec",
   "metadata": {
    "execution": {
     "iopub.execute_input": "2023-03-16T01:37:50.825148Z",
     "iopub.status.busy": "2023-03-16T01:37:50.824924Z",
     "iopub.status.idle": "2023-03-16T01:37:56.455333Z",
     "shell.execute_reply": "2023-03-16T01:37:56.454476Z",
     "shell.execute_reply.started": "2023-03-16T01:37:50.825126Z"
    },
    "tags": []
   },
   "outputs": [],
   "source": [
    "%%sh\n",
    "aws s3 rm s3://${S3_BUCKET}/${TABLE_NAME} --recursive &>/dev/null\n",
    "rm -rf ${WORKSPACE}/${TABLE_NAME}\n",
    "sleep 5"
   ]
  },
  {
   "cell_type": "code",
   "execution_count": 11,
   "id": "6756d9bb-53ba-4713-a0b4-8a2ac104cd27",
   "metadata": {
    "execution": {
     "iopub.execute_input": "2023-03-16T01:37:56.457040Z",
     "iopub.status.busy": "2023-03-16T01:37:56.456761Z",
     "iopub.status.idle": "2023-03-16T01:37:57.800525Z",
     "shell.execute_reply": "2023-03-16T01:37:57.799698Z",
     "shell.execute_reply.started": "2023-03-16T01:37:56.457012Z"
    },
    "tags": []
   },
   "outputs": [
    {
     "data": {
      "application/vnd.jupyter.widget-view+json": {
       "model_id": "",
       "version_major": 2,
       "version_minor": 0
      },
      "text/plain": [
       "FloatProgress(value=0.0, bar_style='info', description='Progress:', layout=Layout(height='25px', width='50%'),…"
      ]
     },
     "metadata": {},
     "output_type": "display_data"
    },
    {
     "data": {
      "text/html": [
       "<style>.jp-OutputArea-child .jupyter-widgets.jp-OutputArea-output { overflow: auto; }</style>"
      ],
      "text/plain": [
       "<IPython.core.display.HTML object>"
      ]
     },
     "metadata": {},
     "output_type": "display_data"
    },
    {
     "data": {
      "application/vnd.jupyter.widget-view+json": {
       "model_id": "5b1f833719874d2ea6cab10b14a65cad",
       "version_major": 2,
       "version_minor": 0
      },
      "text/plain": [
       "VBox(children=(HBox(), EncodingWidget(children=(VBox(children=(HTML(value='Encoding:'), Dropdown(description='…"
      ]
     },
     "metadata": {},
     "output_type": "display_data"
    },
    {
     "data": {
      "application/vnd.jupyter.widget-view+json": {
       "model_id": "12e876c0d84f4837b541bcbdd1f84f06",
       "version_major": 2,
       "version_minor": 0
      },
      "text/plain": [
       "Output()"
      ]
     },
     "metadata": {},
     "output_type": "display_data"
    }
   ],
   "source": [
    "%%sql\n",
    "drop table if exists ${TABLE_NAME}"
   ]
  },
  {
   "cell_type": "code",
   "execution_count": 12,
   "id": "8eb4e764-3f34-40fa-81ed-966f47b74074",
   "metadata": {
    "execution": {
     "iopub.execute_input": "2023-03-16T01:37:57.802186Z",
     "iopub.status.busy": "2023-03-16T01:37:57.801854Z",
     "iopub.status.idle": "2023-03-16T01:37:58.632119Z",
     "shell.execute_reply": "2023-03-16T01:37:58.631200Z",
     "shell.execute_reply.started": "2023-03-16T01:37:57.802151Z"
    },
    "tags": []
   },
   "outputs": [
    {
     "data": {
      "application/vnd.jupyter.widget-view+json": {
       "model_id": "",
       "version_major": 2,
       "version_minor": 0
      },
      "text/plain": [
       "FloatProgress(value=0.0, bar_style='info', description='Progress:', layout=Layout(height='25px', width='50%'),…"
      ]
     },
     "metadata": {},
     "output_type": "display_data"
    },
    {
     "data": {
      "text/html": [
       "<style>.jp-OutputArea-child .jupyter-widgets.jp-OutputArea-output { overflow: auto; }</style>"
      ],
      "text/plain": [
       "<IPython.core.display.HTML object>"
      ]
     },
     "metadata": {},
     "output_type": "display_data"
    },
    {
     "data": {
      "application/vnd.jupyter.widget-view+json": {
       "model_id": "0252a452e670410dacd947fc95e1ea65",
       "version_major": 2,
       "version_minor": 0
      },
      "text/plain": [
       "VBox(children=(HBox(), EncodingWidget(children=(VBox(children=(HTML(value='Encoding:'), Dropdown(description='…"
      ]
     },
     "metadata": {},
     "output_type": "display_data"
    },
    {
     "data": {
      "application/vnd.jupyter.widget-view+json": {
       "model_id": "35c357b7d68d4c55a635823a93e10ad9",
       "version_major": 2,
       "version_minor": 0
      },
      "text/plain": [
       "Output()"
      ]
     },
     "metadata": {},
     "output_type": "display_data"
    }
   ],
   "source": [
    "%%sql\n",
    "drop table if exists ${TABLE_NAME}_ro"
   ]
  },
  {
   "cell_type": "code",
   "execution_count": 13,
   "id": "ee5cbe6b-fa70-4bdb-8214-7d24e9d190a9",
   "metadata": {
    "execution": {
     "iopub.execute_input": "2023-03-16T01:37:58.633342Z",
     "iopub.status.busy": "2023-03-16T01:37:58.633112Z",
     "iopub.status.idle": "2023-03-16T01:37:59.458150Z",
     "shell.execute_reply": "2023-03-16T01:37:59.457287Z",
     "shell.execute_reply.started": "2023-03-16T01:37:58.633320Z"
    },
    "tags": []
   },
   "outputs": [
    {
     "data": {
      "application/vnd.jupyter.widget-view+json": {
       "model_id": "",
       "version_major": 2,
       "version_minor": 0
      },
      "text/plain": [
       "FloatProgress(value=0.0, bar_style='info', description='Progress:', layout=Layout(height='25px', width='50%'),…"
      ]
     },
     "metadata": {},
     "output_type": "display_data"
    },
    {
     "data": {
      "text/html": [
       "<style>.jp-OutputArea-child .jupyter-widgets.jp-OutputArea-output { overflow: auto; }</style>"
      ],
      "text/plain": [
       "<IPython.core.display.HTML object>"
      ]
     },
     "metadata": {},
     "output_type": "display_data"
    },
    {
     "data": {
      "application/vnd.jupyter.widget-view+json": {
       "model_id": "8dfa88eba6bd4063b00e49369acba708",
       "version_major": 2,
       "version_minor": 0
      },
      "text/plain": [
       "VBox(children=(HBox(), EncodingWidget(children=(VBox(children=(HTML(value='Encoding:'), Dropdown(description='…"
      ]
     },
     "metadata": {},
     "output_type": "display_data"
    },
    {
     "data": {
      "application/vnd.jupyter.widget-view+json": {
       "model_id": "06fb0c1afbb94b89959ce07128bd3650",
       "version_major": 2,
       "version_minor": 0
      },
      "text/plain": [
       "Output()"
      ]
     },
     "metadata": {},
     "output_type": "display_data"
    }
   ],
   "source": [
    "%%sql\n",
    "drop table if exists ${TABLE_NAME}_rt"
   ]
  },
  {
   "cell_type": "code",
   "execution_count": 14,
   "id": "fedbcacb-0967-42e2-8999-fc51d84ecf9d",
   "metadata": {
    "execution": {
     "iopub.execute_input": "2023-03-16T01:37:59.459426Z",
     "iopub.status.busy": "2023-03-16T01:37:59.459179Z",
     "iopub.status.idle": "2023-03-16T01:38:04.819673Z",
     "shell.execute_reply": "2023-03-16T01:38:04.818756Z",
     "shell.execute_reply.started": "2023-03-16T01:37:59.459402Z"
    },
    "tags": []
   },
   "outputs": [
    {
     "data": {
      "application/vnd.jupyter.widget-view+json": {
       "model_id": "",
       "version_major": 2,
       "version_minor": 0
      },
      "text/plain": [
       "FloatProgress(value=0.0, bar_style='info', description='Progress:', layout=Layout(height='25px', width='50%'),…"
      ]
     },
     "metadata": {},
     "output_type": "display_data"
    },
    {
     "data": {
      "text/html": [
       "<style>.jp-OutputArea-child .jupyter-widgets.jp-OutputArea-output { overflow: auto; }</style>"
      ],
      "text/plain": [
       "<IPython.core.display.HTML object>"
      ]
     },
     "metadata": {},
     "output_type": "display_data"
    },
    {
     "data": {
      "application/vnd.jupyter.widget-view+json": {
       "model_id": "fd0c27ac7405468a959bf98967c947a2",
       "version_major": 2,
       "version_minor": 0
      },
      "text/plain": [
       "VBox(children=(HBox(), EncodingWidget(children=(VBox(children=(HTML(value='Encoding:'), Dropdown(description='…"
      ]
     },
     "metadata": {},
     "output_type": "display_data"
    },
    {
     "data": {
      "application/vnd.jupyter.widget-view+json": {
       "model_id": "0d7bf746eab049f6a8799e0bbf502400",
       "version_major": 2,
       "version_minor": 0
      },
      "text/plain": [
       "Output()"
      ]
     },
     "metadata": {},
     "output_type": "display_data"
    }
   ],
   "source": [
    "%%sql\n",
    "create table if not exists ${TABLE_NAME} (\n",
    "    review_id string, \n",
    "    star_rating long, \n",
    "    review_body string, \n",
    "    review_date date, \n",
    "    year long,\n",
    "    timestamp long,\n",
    "    parity int\n",
    ")\n",
    "using hudi\n",
    "location 's3://${S3_BUCKET}/${TABLE_NAME}'\n",
    "partitioned by (parity)\n",
    "options ( \n",
    "    type = 'mor',  \n",
    "    primaryKey = 'review_id', \n",
    "    preCombineField = 'timestamp',\n",
    "    hoodie.copyonwrite.record.size.estimate = '175',\n",
    "    hoodie.compact.inline = 'true',\n",
    "    -- hoodie.compact.schedule.inline = 'false',\n",
    "    hoodie.compact.inline.max.delta.commits = '3',\n",
    "    hoodie.logfile.max.size='262144000'\n",
    ");"
   ]
  },
  {
   "cell_type": "markdown",
   "id": "ff87bfb3-fd90-428a-b44f-d77f12bd109e",
   "metadata": {
    "tags": []
   },
   "source": [
    "### 2.5. Insert 96MB / +1 Base File"
   ]
  },
  {
   "cell_type": "code",
   "execution_count": 15,
   "id": "6d15fc74-9592-439d-b363-77afa4107602",
   "metadata": {
    "execution": {
     "iopub.execute_input": "2023-03-16T01:38:04.821016Z",
     "iopub.status.busy": "2023-03-16T01:38:04.820787Z",
     "iopub.status.idle": "2023-03-16T01:39:06.348080Z",
     "shell.execute_reply": "2023-03-16T01:39:06.347188Z",
     "shell.execute_reply.started": "2023-03-16T01:38:04.820994Z"
    },
    "tags": []
   },
   "outputs": [
    {
     "data": {
      "application/vnd.jupyter.widget-view+json": {
       "model_id": "",
       "version_major": 2,
       "version_minor": 0
      },
      "text/plain": [
       "FloatProgress(value=0.0, bar_style='info', description='Progress:', layout=Layout(height='25px', width='50%'),…"
      ]
     },
     "metadata": {},
     "output_type": "display_data"
    },
    {
     "data": {
      "text/html": [
       "<style>.jp-OutputArea-child .jupyter-widgets.jp-OutputArea-output { overflow: auto; }</style>"
      ],
      "text/plain": [
       "<IPython.core.display.HTML object>"
      ]
     },
     "metadata": {},
     "output_type": "display_data"
    },
    {
     "data": {
      "application/vnd.jupyter.widget-view+json": {
       "model_id": "b2956b4afb1a4024a04039f8fce07c2f",
       "version_major": 2,
       "version_minor": 0
      },
      "text/plain": [
       "VBox(children=(HBox(), EncodingWidget(children=(VBox(children=(HTML(value='Encoding:'), Dropdown(description='…"
      ]
     },
     "metadata": {},
     "output_type": "display_data"
    },
    {
     "data": {
      "application/vnd.jupyter.widget-view+json": {
       "model_id": "52f95af8d30e4c0897f7814977648067",
       "version_major": 2,
       "version_minor": 0
      },
      "text/plain": [
       "Output()"
      ]
     },
     "metadata": {},
     "output_type": "display_data"
    }
   ],
   "source": [
    "%%sql\n",
    "insert into \n",
    "    ${TABLE_NAME}\n",
    "select \n",
    "    review_id, \n",
    "    star_rating, \n",
    "    review_body, \n",
    "    review_date, \n",
    "    year,\n",
    "    unix_timestamp(current_timestamp()) as timestamp,\n",
    "    mod(crc32(review_id), 2) as parity\n",
    "from\n",
    "    reviews\n",
    "where\n",
    "    year = 2003"
   ]
  },
  {
   "cell_type": "code",
   "execution_count": 16,
   "id": "7b9f7588-f444-4032-9641-8f7edb41c574",
   "metadata": {
    "execution": {
     "iopub.execute_input": "2023-03-16T01:39:06.349365Z",
     "iopub.status.busy": "2023-03-16T01:39:06.349124Z",
     "iopub.status.idle": "2023-03-16T01:39:29.652977Z",
     "shell.execute_reply": "2023-03-16T01:39:29.652239Z",
     "shell.execute_reply.started": "2023-03-16T01:39:06.349342Z"
    },
    "tags": []
   },
   "outputs": [
    {
     "name": "stdout",
     "output_type": "stream",
     "text": [
      "\n",
      "[ TIMELINE ]\n",
      "\n",
      "╔═════╤═══════════════════╤═════════════╤═══════════╤═════════════╤═════════════╤═════════════╗\n",
      "║ No. │ Instant           │ Action      │ State     │ Requested   │ Inflight    │ Completed   ║\n",
      "║     │                   │             │           │ Time        │ Time        │ Time        ║\n",
      "╠═════╪═══════════════════╪═════════════╪═══════════╪═════════════╪═════════════╪═════════════╣\n",
      "║ 0   │ 20230316013805968 │ deltacommit │ COMPLETED │ 03-16 01:38 │ 03-16 01:38 │ 03-16 01:38 ║\n",
      "╚═════╧═══════════════════╧═════════════╧═══════════╧═════════════╧═════════════╧═════════════╝\n",
      "\n",
      "[ COMMITS ]\n",
      "\n",
      "╔═══════════════════╤═════════════════════╤═══════════════════╤═════════════════════╤══════════════════════════╤═══════════════════════╤══════════════════════════════╤══════════════╗\n",
      "║ CommitTime        │ Total Bytes Written │ Total Files Added │ Total Files Updated │ Total Partitions Written │ Total Records Written │ Total Update Records Written │ Total Errors ║\n",
      "╠═══════════════════╪═════════════════════╪═══════════════════╪═════════════════════╪══════════════════════════╪═══════════════════════╪══════════════════════════════╪══════════════╣\n",
      "║ 20230316013805968 │ 191.6 MB            │ 2                 │ 0                   │ 2                        │ 1155127               │ 0                            │ 0            ║\n",
      "╚═══════════════════╧═════════════════════╧═══════════════════╧═════════════════════╧══════════════════════════╧═══════════════════════╧══════════════════════════════╧══════════════╝\n",
      "\n",
      "[ COMPACTIONS ]\n",
      "\n",
      "╔═════════════════════════╤═══════╤═══════════════════════════════╗\n",
      "║ Compaction Instant Time │ State │ Total FileIds to be Compacted ║\n",
      "╠═════════════════════════╧═══════╧═══════════════════════════════╣\n",
      "║ (empty)                                                         ║\n",
      "╚═════════════════════════════════════════════════════════════════╝\n",
      "\n",
      "[ STORAGE ]\n",
      "\n",
      "/home/emr-notebook/apache-hudi-core-conceptions/reviews_mor_layouts_sizing_1\n",
      "├── [ 96M 01:39:29]  parity=0\n",
      "│   └── [ 96M 01:38:52]  c1198f5b-5e0f-49dc-a27b-0b3a1094cae3-0_0-35-630_20230316013805968.parquet\n",
      "└── [ 96M 01:39:29]  parity=1\n",
      "    └── [ 96M 01:38:52]  168b611c-0767-45f0-a6d4-78d3ca04007b-0_1-35-631_20230316013805968.parquet\n"
     ]
    }
   ],
   "source": [
    "%%sh\n",
    "${WORKSPACE}/hudi-stat.sh s3://${S3_BUCKET}/${TABLE_NAME} timeline commits compactions storage"
   ]
  },
  {
   "cell_type": "markdown",
   "id": "2dab2564-1050-4e85-bd99-29c984427c44",
   "metadata": {
    "tags": []
   },
   "source": [
    "### 2.6. Update 803KB / +1 Log File"
   ]
  },
  {
   "cell_type": "code",
   "execution_count": 17,
   "id": "1ba65f5f-feb3-4242-83c6-bf1ffcf710b5",
   "metadata": {
    "execution": {
     "iopub.execute_input": "2023-03-16T01:39:29.656244Z",
     "iopub.status.busy": "2023-03-16T01:39:29.656004Z",
     "iopub.status.idle": "2023-03-16T01:39:51.051197Z",
     "shell.execute_reply": "2023-03-16T01:39:51.050343Z",
     "shell.execute_reply.started": "2023-03-16T01:39:29.656221Z"
    },
    "tags": []
   },
   "outputs": [
    {
     "data": {
      "application/vnd.jupyter.widget-view+json": {
       "model_id": "",
       "version_major": 2,
       "version_minor": 0
      },
      "text/plain": [
       "FloatProgress(value=0.0, bar_style='info', description='Progress:', layout=Layout(height='25px', width='50%'),…"
      ]
     },
     "metadata": {},
     "output_type": "display_data"
    },
    {
     "data": {
      "text/html": [
       "<style>.jp-OutputArea-child .jupyter-widgets.jp-OutputArea-output { overflow: auto; }</style>"
      ],
      "text/plain": [
       "<IPython.core.display.HTML object>"
      ]
     },
     "metadata": {},
     "output_type": "display_data"
    },
    {
     "data": {
      "application/vnd.jupyter.widget-view+json": {
       "model_id": "be0a737e1ba2488d9115b16e29ecbe3a",
       "version_major": 2,
       "version_minor": 0
      },
      "text/plain": [
       "VBox(children=(HBox(), EncodingWidget(children=(VBox(children=(HTML(value='Encoding:'), Dropdown(description='…"
      ]
     },
     "metadata": {},
     "output_type": "display_data"
    },
    {
     "data": {
      "application/vnd.jupyter.widget-view+json": {
       "model_id": "fd7b7a4f5a74418abc5ef151617e1715",
       "version_major": 2,
       "version_minor": 0
      },
      "text/plain": [
       "Output()"
      ]
     },
     "metadata": {},
     "output_type": "display_data"
    }
   ],
   "source": [
    "%%sql\n",
    "update\n",
    "    ${TABLE_NAME}\n",
    "set             \n",
    "    review_body = concat(uuid(),uuid(),uuid(),uuid(),uuid(),uuid(),uuid(),uuid(),uuid(),uuid()),\n",
    "    timestamp = unix_timestamp(current_timestamp())\n",
    "where\n",
    "    review_date = '2003-01-01'\n",
    ";"
   ]
  },
  {
   "cell_type": "code",
   "execution_count": 18,
   "id": "3f316646-0db1-4882-ac34-b2e498014279",
   "metadata": {
    "execution": {
     "iopub.execute_input": "2023-03-16T01:39:51.052597Z",
     "iopub.status.busy": "2023-03-16T01:39:51.052373Z",
     "iopub.status.idle": "2023-03-16T01:40:12.520211Z",
     "shell.execute_reply": "2023-03-16T01:40:12.519439Z",
     "shell.execute_reply.started": "2023-03-16T01:39:51.052575Z"
    },
    "tags": []
   },
   "outputs": [
    {
     "name": "stdout",
     "output_type": "stream",
     "text": [
      "\n",
      "[ TIMELINE ]\n",
      "\n",
      "╔═════╤═══════════════════╤═════════════╤═══════════╤═════════════╤═════════════╤═════════════╗\n",
      "║ No. │ Instant           │ Action      │ State     │ Requested   │ Inflight    │ Completed   ║\n",
      "║     │                   │             │           │ Time        │ Time        │ Time        ║\n",
      "╠═════╪═══════════════════╪═════════════╪═══════════╪═════════════╪═════════════╪═════════════╣\n",
      "║ 0   │ 20230316013805968 │ deltacommit │ COMPLETED │ 03-16 01:38 │ 03-16 01:38 │ 03-16 01:38 ║\n",
      "╟─────┼───────────────────┼─────────────┼───────────┼─────────────┼─────────────┼─────────────╢\n",
      "║ 1   │ 20230316013930608 │ deltacommit │ COMPLETED │ 03-16 01:39 │ 03-16 01:39 │ 03-16 01:39 ║\n",
      "╚═════╧═══════════════════╧═════════════╧═══════════╧═════════════╧═════════════╧═════════════╝\n",
      "\n",
      "[ COMMITS ]\n",
      "\n",
      "╔═══════════════════╤═════════════════════╤═══════════════════╤═════════════════════╤══════════════════════════╤═══════════════════════╤══════════════════════════════╤══════════════╗\n",
      "║ CommitTime        │ Total Bytes Written │ Total Files Added │ Total Files Updated │ Total Partitions Written │ Total Records Written │ Total Update Records Written │ Total Errors ║\n",
      "╠═══════════════════╪═════════════════════╪═══════════════════╪═════════════════════╪══════════════════════════╪═══════════════════════╪══════════════════════════════╪══════════════╣\n",
      "║ 20230316013930608 │ 1.6 MB              │ 0                 │ 2                   │ 2                        │ 2951                  │ 2951                         │ 0            ║\n",
      "╟───────────────────┼─────────────────────┼───────────────────┼─────────────────────┼──────────────────────────┼───────────────────────┼──────────────────────────────┼──────────────╢\n",
      "║ 20230316013805968 │ 191.6 MB            │ 2                 │ 0                   │ 2                        │ 1155127               │ 0                            │ 0            ║\n",
      "╚═══════════════════╧═════════════════════╧═══════════════════╧═════════════════════╧══════════════════════════╧═══════════════════════╧══════════════════════════════╧══════════════╝\n",
      "\n",
      "[ COMPACTIONS ]\n",
      "\n",
      "╔═════════════════════════╤═══════╤═══════════════════════════════╗\n",
      "║ Compaction Instant Time │ State │ Total FileIds to be Compacted ║\n",
      "╠═════════════════════════╧═══════╧═══════════════════════════════╣\n",
      "║ (empty)                                                         ║\n",
      "╚═════════════════════════════════════════════════════════════════╝\n",
      "\n",
      "[ STORAGE ]\n",
      "\n",
      "/home/emr-notebook/apache-hudi-core-conceptions/reviews_mor_layouts_sizing_1\n",
      "├── [ 97M 01:40:12]  parity=0\n",
      "│   ├── [804K 01:39:40]  .c1198f5b-5e0f-49dc-a27b-0b3a1094cae3-0_20230316013805968.log.1_0-83-691\n",
      "│   └── [ 96M 01:38:52]  c1198f5b-5e0f-49dc-a27b-0b3a1094cae3-0_0-35-630_20230316013805968.parquet\n",
      "└── [ 97M 01:40:12]  parity=1\n",
      "    ├── [797K 01:39:40]  .168b611c-0767-45f0-a6d4-78d3ca04007b-0_20230316013805968.log.1_1-83-692\n",
      "    └── [ 96M 01:38:52]  168b611c-0767-45f0-a6d4-78d3ca04007b-0_1-35-631_20230316013805968.parquet\n"
     ]
    }
   ],
   "source": [
    "%%sh\n",
    "${WORKSPACE}/hudi-stat.sh s3://${S3_BUCKET}/${TABLE_NAME} timeline commits compactions storage"
   ]
  },
  {
   "cell_type": "markdown",
   "id": "883d3313-0e0e-4988-a235-bd80f5cbd38b",
   "metadata": {
    "tags": []
   },
   "source": [
    "### 2.7. Update 1.2MB / +1 Log File +1 Base File"
   ]
  },
  {
   "cell_type": "code",
   "execution_count": 19,
   "id": "e5a0f57e-27f0-473c-b834-492504977678",
   "metadata": {
    "execution": {
     "iopub.execute_input": "2023-03-16T01:40:12.521713Z",
     "iopub.status.busy": "2023-03-16T01:40:12.521471Z",
     "iopub.status.idle": "2023-03-16T01:41:03.980756Z",
     "shell.execute_reply": "2023-03-16T01:41:03.980023Z",
     "shell.execute_reply.started": "2023-03-16T01:40:12.521689Z"
    },
    "tags": []
   },
   "outputs": [
    {
     "data": {
      "application/vnd.jupyter.widget-view+json": {
       "model_id": "",
       "version_major": 2,
       "version_minor": 0
      },
      "text/plain": [
       "FloatProgress(value=0.0, bar_style='info', description='Progress:', layout=Layout(height='25px', width='50%'),…"
      ]
     },
     "metadata": {},
     "output_type": "display_data"
    },
    {
     "data": {
      "text/html": [
       "<style>.jp-OutputArea-child .jupyter-widgets.jp-OutputArea-output { overflow: auto; }</style>"
      ],
      "text/plain": [
       "<IPython.core.display.HTML object>"
      ]
     },
     "metadata": {},
     "output_type": "display_data"
    },
    {
     "data": {
      "application/vnd.jupyter.widget-view+json": {
       "model_id": "e54640f980424096a2fdfff726693c5f",
       "version_major": 2,
       "version_minor": 0
      },
      "text/plain": [
       "VBox(children=(HBox(), EncodingWidget(children=(VBox(children=(HTML(value='Encoding:'), Dropdown(description='…"
      ]
     },
     "metadata": {},
     "output_type": "display_data"
    },
    {
     "data": {
      "application/vnd.jupyter.widget-view+json": {
       "model_id": "05dd69a4bdff4cc8a5aa8e3483586288",
       "version_major": 2,
       "version_minor": 0
      },
      "text/plain": [
       "Output()"
      ]
     },
     "metadata": {},
     "output_type": "display_data"
    }
   ],
   "source": [
    "%%sql\n",
    "update\n",
    "    ${TABLE_NAME}\n",
    "set             \n",
    "    review_body = concat(uuid(),uuid(),uuid(),uuid(),uuid(),uuid(),uuid(),uuid(),uuid(),uuid()),\n",
    "    timestamp = unix_timestamp(current_timestamp())\n",
    "where\n",
    "    review_date = '2003-01-02'\n",
    ";"
   ]
  },
  {
   "cell_type": "code",
   "execution_count": 20,
   "id": "8932df29-2319-494d-9170-39e0041a18bd",
   "metadata": {
    "execution": {
     "iopub.execute_input": "2023-03-16T01:41:03.981999Z",
     "iopub.status.busy": "2023-03-16T01:41:03.981775Z",
     "iopub.status.idle": "2023-03-16T01:41:28.436624Z",
     "shell.execute_reply": "2023-03-16T01:41:28.435821Z",
     "shell.execute_reply.started": "2023-03-16T01:41:03.981977Z"
    },
    "tags": []
   },
   "outputs": [
    {
     "name": "stdout",
     "output_type": "stream",
     "text": [
      "\n",
      "[ TIMELINE ]\n",
      "\n",
      "╔═════╤═══════════════════╤═════════════╤═══════════╤═════════════╤═════════════╤═════════════╗\n",
      "║ No. │ Instant           │ Action      │ State     │ Requested   │ Inflight    │ Completed   ║\n",
      "║     │                   │             │           │ Time        │ Time        │ Time        ║\n",
      "╠═════╪═══════════════════╪═════════════╪═══════════╪═════════════╪═════════════╪═════════════╣\n",
      "║ 0   │ 20230316013805968 │ deltacommit │ COMPLETED │ 03-16 01:38 │ 03-16 01:38 │ 03-16 01:38 ║\n",
      "╟─────┼───────────────────┼─────────────┼───────────┼─────────────┼─────────────┼─────────────╢\n",
      "║ 1   │ 20230316013930608 │ deltacommit │ COMPLETED │ 03-16 01:39 │ 03-16 01:39 │ 03-16 01:39 ║\n",
      "╟─────┼───────────────────┼─────────────┼───────────┼─────────────┼─────────────┼─────────────╢\n",
      "║ 2   │ 20230316014013347 │ deltacommit │ COMPLETED │ 03-16 01:40 │ 03-16 01:40 │ 03-16 01:40 ║\n",
      "╟─────┼───────────────────┼─────────────┼───────────┼─────────────┼─────────────┼─────────────╢\n",
      "║ 3   │ 20230316014030291 │ commit      │ COMPLETED │ 03-16 01:40 │ 03-16 01:40 │ 03-16 01:41 ║\n",
      "╚═════╧═══════════════════╧═════════════╧═══════════╧═════════════╧═════════════╧═════════════╝\n",
      "\n",
      "[ COMMITS ]\n",
      "\n",
      "╔═══════════════════╤═════════════════════╤═══════════════════╤═════════════════════╤══════════════════════════╤═══════════════════════╤══════════════════════════════╤══════════════╗\n",
      "║ CommitTime        │ Total Bytes Written │ Total Files Added │ Total Files Updated │ Total Partitions Written │ Total Records Written │ Total Update Records Written │ Total Errors ║\n",
      "╠═══════════════════╪═════════════════════╪═══════════════════╪═════════════════════╪══════════════════════════╪═══════════════════════╪══════════════════════════════╪══════════════╣\n",
      "║ 20230316014030291 │ 192.3 MB            │ 0                 │ 2                   │ 2                        │ 1155127               │ 7292                         │ 0            ║\n",
      "╟───────────────────┼─────────────────────┼───────────────────┼─────────────────────┼──────────────────────────┼───────────────────────┼──────────────────────────────┼──────────────╢\n",
      "║ 20230316014013347 │ 2.3 MB              │ 0                 │ 2                   │ 2                        │ 4341                  │ 4341                         │ 0            ║\n",
      "╟───────────────────┼─────────────────────┼───────────────────┼─────────────────────┼──────────────────────────┼───────────────────────┼──────────────────────────────┼──────────────╢\n",
      "║ 20230316013930608 │ 1.6 MB              │ 0                 │ 2                   │ 2                        │ 2951                  │ 2951                         │ 0            ║\n",
      "╟───────────────────┼─────────────────────┼───────────────────┼─────────────────────┼──────────────────────────┼───────────────────────┼──────────────────────────────┼──────────────╢\n",
      "║ 20230316013805968 │ 191.6 MB            │ 2                 │ 0                   │ 2                        │ 1155127               │ 0                            │ 0            ║\n",
      "╚═══════════════════╧═════════════════════╧═══════════════════╧═════════════════════╧══════════════════════════╧═══════════════════════╧══════════════════════════════╧══════════════╝\n",
      "\n",
      "[ COMPACTIONS ]\n",
      "\n",
      "╔═════════════════════════╤═══════════╤═══════════════════════════════╗\n",
      "║ Compaction Instant Time │ State     │ Total FileIds to be Compacted ║\n",
      "╠═════════════════════════╪═══════════╪═══════════════════════════════╣\n",
      "║ 20230316014030291       │ COMPLETED │ 2                             ║\n",
      "╚═════════════════════════╧═══════════╧═══════════════════════════════╝\n",
      "\n",
      "[ STORAGE ]\n",
      "\n",
      "/home/emr-notebook/apache-hudi-core-conceptions/reviews_mor_layouts_sizing_1\n",
      "├── [194M 01:41:28]  parity=0\n",
      "│   ├── [804K 01:39:40]  .c1198f5b-5e0f-49dc-a27b-0b3a1094cae3-0_20230316013805968.log.1_0-83-691\n",
      "│   ├── [1.2M 01:40:23]  .c1198f5b-5e0f-49dc-a27b-0b3a1094cae3-0_20230316013805968.log.2_0-131-752\n",
      "│   ├── [ 96M 01:40:55]  c1198f5b-5e0f-49dc-a27b-0b3a1094cae3-0_0-154-773_20230316014030291.parquet\n",
      "│   └── [ 96M 01:38:52]  c1198f5b-5e0f-49dc-a27b-0b3a1094cae3-0_0-35-630_20230316013805968.parquet\n",
      "└── [194M 01:41:28]  parity=1\n",
      "    ├── [797K 01:39:40]  .168b611c-0767-45f0-a6d4-78d3ca04007b-0_20230316013805968.log.1_1-83-692\n",
      "    ├── [1.1M 01:40:23]  .168b611c-0767-45f0-a6d4-78d3ca04007b-0_20230316013805968.log.2_1-131-753\n",
      "    ├── [ 96M 01:40:56]  168b611c-0767-45f0-a6d4-78d3ca04007b-0_1-154-774_20230316014030291.parquet\n",
      "    └── [ 96M 01:38:52]  168b611c-0767-45f0-a6d4-78d3ca04007b-0_1-35-631_20230316013805968.parquet\n"
     ]
    }
   ],
   "source": [
    "%%sh\n",
    "${WORKSPACE}/hudi-stat.sh s3://${S3_BUCKET}/${TABLE_NAME} timeline commits compactions storage"
   ]
  },
  {
   "cell_type": "markdown",
   "id": "c5da2355-f57c-420b-a2a0-6f1602e07e09",
   "metadata": {
    "tags": []
   },
   "source": [
    "### 2.8. Update 307MB / +1 Log File +1 Max Log File"
   ]
  },
  {
   "cell_type": "code",
   "execution_count": 21,
   "id": "c71e399e-7954-4461-940b-e490c0edd846",
   "metadata": {
    "execution": {
     "iopub.execute_input": "2023-03-16T01:41:28.439591Z",
     "iopub.status.busy": "2023-03-16T01:41:28.439323Z",
     "iopub.status.idle": "2023-03-16T01:42:36.055125Z",
     "shell.execute_reply": "2023-03-16T01:42:36.054278Z",
     "shell.execute_reply.started": "2023-03-16T01:41:28.439565Z"
    },
    "tags": []
   },
   "outputs": [
    {
     "data": {
      "application/vnd.jupyter.widget-view+json": {
       "model_id": "",
       "version_major": 2,
       "version_minor": 0
      },
      "text/plain": [
       "FloatProgress(value=0.0, bar_style='info', description='Progress:', layout=Layout(height='25px', width='50%'),…"
      ]
     },
     "metadata": {},
     "output_type": "display_data"
    },
    {
     "data": {
      "text/html": [
       "<style>.jp-OutputArea-child .jupyter-widgets.jp-OutputArea-output { overflow: auto; }</style>"
      ],
      "text/plain": [
       "<IPython.core.display.HTML object>"
      ]
     },
     "metadata": {},
     "output_type": "display_data"
    },
    {
     "data": {
      "application/vnd.jupyter.widget-view+json": {
       "model_id": "9fcbead2539549c6ae0bc2692e65bbbc",
       "version_major": 2,
       "version_minor": 0
      },
      "text/plain": [
       "VBox(children=(HBox(), EncodingWidget(children=(VBox(children=(HTML(value='Encoding:'), Dropdown(description='…"
      ]
     },
     "metadata": {},
     "output_type": "display_data"
    },
    {
     "data": {
      "application/vnd.jupyter.widget-view+json": {
       "model_id": "10b9a24bfb83438a9c240777a7fbcbc1",
       "version_major": 2,
       "version_minor": 0
      },
      "text/plain": [
       "Output()"
      ]
     },
     "metadata": {},
     "output_type": "display_data"
    }
   ],
   "source": [
    "%%sql\n",
    "update\n",
    "    ${TABLE_NAME}\n",
    "set             \n",
    "    review_body = concat(uuid(),uuid(),uuid(),uuid(),uuid(),uuid(),uuid(),uuid(),uuid(),uuid()),\n",
    "    timestamp = unix_timestamp(current_timestamp())\n",
    ";"
   ]
  },
  {
   "cell_type": "code",
   "execution_count": 22,
   "id": "87e7e610-b67e-49ab-83d1-7804d15d66dd",
   "metadata": {
    "execution": {
     "iopub.execute_input": "2023-03-16T01:42:36.056494Z",
     "iopub.status.busy": "2023-03-16T01:42:36.056252Z",
     "iopub.status.idle": "2023-03-16T01:43:03.799281Z",
     "shell.execute_reply": "2023-03-16T01:43:03.798426Z",
     "shell.execute_reply.started": "2023-03-16T01:42:36.056473Z"
    },
    "tags": []
   },
   "outputs": [
    {
     "name": "stdout",
     "output_type": "stream",
     "text": [
      "\n",
      "[ TIMELINE ]\n",
      "\n",
      "╔═════╤═══════════════════╤═════════════╤═══════════╤═════════════╤═════════════╤═════════════╗\n",
      "║ No. │ Instant           │ Action      │ State     │ Requested   │ Inflight    │ Completed   ║\n",
      "║     │                   │             │           │ Time        │ Time        │ Time        ║\n",
      "╠═════╪═══════════════════╪═════════════╪═══════════╪═════════════╪═════════════╪═════════════╣\n",
      "║ 0   │ 20230316013805968 │ deltacommit │ COMPLETED │ 03-16 01:38 │ 03-16 01:38 │ 03-16 01:38 ║\n",
      "╟─────┼───────────────────┼─────────────┼───────────┼─────────────┼─────────────┼─────────────╢\n",
      "║ 1   │ 20230316013930608 │ deltacommit │ COMPLETED │ 03-16 01:39 │ 03-16 01:39 │ 03-16 01:39 ║\n",
      "╟─────┼───────────────────┼─────────────┼───────────┼─────────────┼─────────────┼─────────────╢\n",
      "║ 2   │ 20230316014013347 │ deltacommit │ COMPLETED │ 03-16 01:40 │ 03-16 01:40 │ 03-16 01:40 ║\n",
      "╟─────┼───────────────────┼─────────────┼───────────┼─────────────┼─────────────┼─────────────╢\n",
      "║ 3   │ 20230316014030291 │ commit      │ COMPLETED │ 03-16 01:40 │ 03-16 01:40 │ 03-16 01:41 ║\n",
      "╟─────┼───────────────────┼─────────────┼───────────┼─────────────┼─────────────┼─────────────╢\n",
      "║ 4   │ 20230316014129454 │ deltacommit │ COMPLETED │ 03-16 01:41 │ 03-16 01:42 │ 03-16 01:42 ║\n",
      "╚═════╧═══════════════════╧═════════════╧═══════════╧═════════════╧═════════════╧═════════════╝\n",
      "\n",
      "[ COMMITS ]\n",
      "\n",
      "╔═══════════════════╤═════════════════════╤═══════════════════╤═════════════════════╤══════════════════════════╤═══════════════════════╤══════════════════════════════╤══════════════╗\n",
      "║ CommitTime        │ Total Bytes Written │ Total Files Added │ Total Files Updated │ Total Partitions Written │ Total Records Written │ Total Update Records Written │ Total Errors ║\n",
      "╠═══════════════════╪═════════════════════╪═══════════════════╪═════════════════════╪══════════════════════════╪═══════════════════════╪══════════════════════════════╪══════════════╣\n",
      "║ 20230316014129454 │ 613.7 MB            │ 0                 │ 4                   │ 2                        │ 1155127               │ 1155127                      │ 0            ║\n",
      "╟───────────────────┼─────────────────────┼───────────────────┼─────────────────────┼──────────────────────────┼───────────────────────┼──────────────────────────────┼──────────────╢\n",
      "║ 20230316014030291 │ 192.3 MB            │ 0                 │ 2                   │ 2                        │ 1155127               │ 7292                         │ 0            ║\n",
      "╟───────────────────┼─────────────────────┼───────────────────┼─────────────────────┼──────────────────────────┼───────────────────────┼──────────────────────────────┼──────────────╢\n",
      "║ 20230316014013347 │ 2.3 MB              │ 0                 │ 2                   │ 2                        │ 4341                  │ 4341                         │ 0            ║\n",
      "╟───────────────────┼─────────────────────┼───────────────────┼─────────────────────┼──────────────────────────┼───────────────────────┼──────────────────────────────┼──────────────╢\n",
      "║ 20230316013930608 │ 1.6 MB              │ 0                 │ 2                   │ 2                        │ 2951                  │ 2951                         │ 0            ║\n",
      "╟───────────────────┼─────────────────────┼───────────────────┼─────────────────────┼──────────────────────────┼───────────────────────┼──────────────────────────────┼──────────────╢\n",
      "║ 20230316013805968 │ 191.6 MB            │ 2                 │ 0                   │ 2                        │ 1155127               │ 0                            │ 0            ║\n",
      "╚═══════════════════╧═════════════════════╧═══════════════════╧═════════════════════╧══════════════════════════╧═══════════════════════╧══════════════════════════════╧══════════════╝\n",
      "\n",
      "[ COMPACTIONS ]\n",
      "\n",
      "╔═════════════════════════╤═══════════╤═══════════════════════════════╗\n",
      "║ Compaction Instant Time │ State     │ Total FileIds to be Compacted ║\n",
      "╠═════════════════════════╪═══════════╪═══════════════════════════════╣\n",
      "║ 20230316014030291       │ COMPLETED │ 2                             ║\n",
      "╚═════════════════════════╧═══════════╧═══════════════════════════════╝\n",
      "\n",
      "[ STORAGE ]\n",
      "\n",
      "/home/emr-notebook/apache-hudi-core-conceptions/reviews_mor_layouts_sizing_1\n",
      "├── [500M 01:43:03]  parity=0\n",
      "│   ├── [804K 01:39:40]  .c1198f5b-5e0f-49dc-a27b-0b3a1094cae3-0_20230316013805968.log.1_0-83-691\n",
      "│   ├── [1.2M 01:40:23]  .c1198f5b-5e0f-49dc-a27b-0b3a1094cae3-0_20230316013805968.log.2_0-131-752\n",
      "│   ├── [268M 01:42:17]  .c1198f5b-5e0f-49dc-a27b-0b3a1094cae3-0_20230316014030291.log.1_0-196-832\n",
      "│   ├── [ 39M 01:42:23]  .c1198f5b-5e0f-49dc-a27b-0b3a1094cae3-0_20230316014030291.log.2_0-196-832\n",
      "│   ├── [ 96M 01:40:55]  c1198f5b-5e0f-49dc-a27b-0b3a1094cae3-0_0-154-773_20230316014030291.parquet\n",
      "│   └── [ 96M 01:38:52]  c1198f5b-5e0f-49dc-a27b-0b3a1094cae3-0_0-35-630_20230316013805968.parquet\n",
      "└── [501M 01:43:03]  parity=1\n",
      "    ├── [797K 01:39:40]  .168b611c-0767-45f0-a6d4-78d3ca04007b-0_20230316013805968.log.1_1-83-692\n",
      "    ├── [1.1M 01:40:23]  .168b611c-0767-45f0-a6d4-78d3ca04007b-0_20230316013805968.log.2_1-131-753\n",
      "    ├── [268M 01:42:17]  .168b611c-0767-45f0-a6d4-78d3ca04007b-0_20230316014030291.log.1_1-196-833\n",
      "    ├── [ 39M 01:42:23]  .168b611c-0767-45f0-a6d4-78d3ca04007b-0_20230316014030291.log.2_1-196-833\n",
      "    ├── [ 96M 01:40:56]  168b611c-0767-45f0-a6d4-78d3ca04007b-0_1-154-774_20230316014030291.parquet\n",
      "    └── [ 96M 01:38:52]  168b611c-0767-45f0-a6d4-78d3ca04007b-0_1-35-631_20230316013805968.parquet\n"
     ]
    }
   ],
   "source": [
    "%%sh\n",
    "${WORKSPACE}/hudi-stat.sh s3://${S3_BUCKET}/${TABLE_NAME} timeline commits compactions storage"
   ]
  }
 ],
 "metadata": {
  "kernelspec": {
   "display_name": "Spark",
   "language": "scala",
   "name": "sparkkernel"
  },
  "language_info": {
   "codemirror_mode": "text/x-scala",
   "file_extension": ".sc",
   "mimetype": "text/x-scala",
   "name": "scala",
   "pygments_lexer": "scala"
  }
 },
 "nbformat": 4,
 "nbformat_minor": 5
}
