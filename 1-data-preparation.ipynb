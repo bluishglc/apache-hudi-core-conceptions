{
 "cells": [
  {
   "cell_type": "markdown",
   "id": "3f4a1e33-7cb8-4ad9-84a7-4edef3375a3b",
   "metadata": {},
   "source": [
    "# Apache Hudi Core Conceptions (1) - Data Preparation"
   ]
  },
  {
   "cell_type": "markdown",
   "id": "d33f2538-0867-490a-9e06-696a4dce1b1f",
   "metadata": {},
   "source": [
    "*Author: [Laurence Geng](https://laurence.blog.csdn.net) @ [https://laurence.blog.csdn.net](https://laurence.blog.csdn.net)*"
   ]
  },
  {
   "cell_type": "markdown",
   "id": "710130ff-7cd8-4e0d-9db9-f3ade8b0b556",
   "metadata": {
    "tags": []
   },
   "source": [
    "Note: \n",
    "\n",
    "1. The public dataset amazon-reviews-pds is accessible on aws global regions, for China regions or non aws users, you can download it with S3 clients to local. \n",
    "\n",
    "2. The recommended configuration for Spark cluster is: 32 vCore，120GB or higher, the master node must have 100GB+ space."
   ]
  },
  {
   "cell_type": "markdown",
   "id": "2c556ef6-b984-4c43-b533-f2cb9d7e5c67",
   "metadata": {
    "tags": []
   },
   "source": [
    "## 1. Configuration"
   ]
  },
  {
   "cell_type": "code",
   "execution_count": 1,
   "id": "07e8341d-aae9-4e79-92ae-c6ae0e1ccbf3",
   "metadata": {
    "execution": {
     "iopub.execute_input": "2023-03-08T04:53:18.940822Z",
     "iopub.status.busy": "2023-03-08T04:53:18.940544Z",
     "iopub.status.idle": "2023-03-08T04:53:18.946013Z",
     "shell.execute_reply": "2023-03-08T04:53:18.945189Z",
     "shell.execute_reply.started": "2023-03-08T04:53:18.940798Z"
    },
    "tags": []
   },
   "outputs": [
    {
     "name": "stdout",
     "output_type": "stream",
     "text": [
      "env: S3_BUCKET=apache-hudi-core-conceptions\n"
     ]
    }
   ],
   "source": [
    "%env S3_BUCKET=apache-hudi-core-conceptions"
   ]
  },
  {
   "cell_type": "code",
   "execution_count": 2,
   "id": "f7c48157-54b0-4a95-a4fa-0101e207d225",
   "metadata": {
    "execution": {
     "iopub.execute_input": "2023-03-08T04:53:18.961524Z",
     "iopub.status.busy": "2023-03-08T04:53:18.961295Z",
     "iopub.status.idle": "2023-03-08T04:53:48.516261Z",
     "shell.execute_reply": "2023-03-08T04:53:48.515445Z",
     "shell.execute_reply.started": "2023-03-08T04:53:18.961503Z"
    }
   },
   "outputs": [
    {
     "name": "stdout",
     "output_type": "stream",
     "text": [
      "Starting Spark application\n"
     ]
    },
    {
     "data": {
      "text/html": [
       "<table>\n",
       "<tr><th>ID</th><th>YARN Application ID</th><th>Kind</th><th>State</th><th>Spark UI</th><th>Driver log</th><th>User</th><th>Current session?</th></tr><tr><td>25</td><td>application_1678096020253_0045</td><td>spark</td><td>idle</td><td><a target=\"_blank\" href=\"http://ip-10-0-129-209.ec2.internal:20888/proxy/application_1678096020253_0045/\" class=\"emr-proxy-link\" emr-resource=\"j-6V65AY8X5VHR\n",
       "\" application-id=\"application_1678096020253_0045\">Link</a></td><td><a target=\"_blank\" href=\"http://ip-10-0-132-108.ec2.internal:8042/node/containerlogs/container_1678096020253_0045_01_000001/livy\" >Link</a></td><td>None</td><td>✔</td></tr></table>"
      ],
      "text/plain": [
       "<IPython.core.display.HTML object>"
      ]
     },
     "metadata": {},
     "output_type": "display_data"
    },
    {
     "data": {
      "application/vnd.jupyter.widget-view+json": {
       "model_id": "",
       "version_major": 2,
       "version_minor": 0
      },
      "text/plain": [
       "FloatProgress(value=0.0, bar_style='info', description='Progress:', layout=Layout(height='25px', width='50%'),…"
      ]
     },
     "metadata": {},
     "output_type": "display_data"
    },
    {
     "name": "stdout",
     "output_type": "stream",
     "text": [
      "SparkSession available as 'spark'.\n"
     ]
    },
    {
     "data": {
      "application/vnd.jupyter.widget-view+json": {
       "model_id": "",
       "version_major": 2,
       "version_minor": 0
      },
      "text/plain": [
       "FloatProgress(value=0.0, bar_style='info', description='Progress:', layout=Layout(height='25px', width='50%'),…"
      ]
     },
     "metadata": {},
     "output_type": "display_data"
    },
    {
     "data": {
      "text/html": [
       "<style>.jp-OutputArea-child .jupyter-widgets.jp-OutputArea-output { overflow: auto; }</style>"
      ],
      "text/plain": [
       "<IPython.core.display.HTML object>"
      ]
     },
     "metadata": {},
     "output_type": "display_data"
    },
    {
     "data": {
      "application/vnd.jupyter.widget-view+json": {
       "model_id": "64a59f9738b240b7bd2b3f60918cceee",
       "version_major": 2,
       "version_minor": 0
      },
      "text/plain": [
       "VBox(children=(HBox(children=(HTML(value='Type:'), Button(description='Table', layout=Layout(width='70px'), st…"
      ]
     },
     "metadata": {},
     "output_type": "display_data"
    },
    {
     "data": {
      "application/vnd.jupyter.widget-view+json": {
       "model_id": "c6e1fec7f5644cd5ba44445c28446e49",
       "version_major": 2,
       "version_minor": 0
      },
      "text/plain": [
       "Output()"
      ]
     },
     "metadata": {},
     "output_type": "display_data"
    }
   ],
   "source": [
    "%%sql\n",
    "set S3_BUCKET=apache-hudi-core-conceptions"
   ]
  },
  {
   "cell_type": "code",
   "execution_count": 3,
   "id": "4b896164-83f7-4f11-a084-e25055b36c07",
   "metadata": {
    "execution": {
     "iopub.execute_input": "2023-03-08T04:53:48.518085Z",
     "iopub.status.busy": "2023-03-08T04:53:48.517666Z",
     "iopub.status.idle": "2023-03-08T04:53:50.086542Z",
     "shell.execute_reply": "2023-03-08T04:53:50.085785Z",
     "shell.execute_reply.started": "2023-03-08T04:53:48.518054Z"
    },
    "tags": []
   },
   "outputs": [
    {
     "name": "stdout",
     "output_type": "stream",
     "text": [
      "make_bucket: apache-hudi-core-conceptions\n"
     ]
    }
   ],
   "source": [
    "%%sh\n",
    "aws s3 mb s3://${S3_BUCKET}"
   ]
  },
  {
   "cell_type": "markdown",
   "id": "ee1ac6af-41ac-4b48-a371-1972d54b3822",
   "metadata": {
    "tags": []
   },
   "source": [
    "## 1. Create Raw Data Table"
   ]
  },
  {
   "cell_type": "code",
   "execution_count": 4,
   "id": "d8d2259d-c1ad-4543-911a-89f751dd7e08",
   "metadata": {
    "execution": {
     "iopub.execute_input": "2023-03-08T04:53:50.089153Z",
     "iopub.status.busy": "2023-03-08T04:53:50.088806Z",
     "iopub.status.idle": "2023-03-08T04:53:52.439929Z",
     "shell.execute_reply": "2023-03-08T04:53:52.439041Z",
     "shell.execute_reply.started": "2023-03-08T04:53:50.089115Z"
    },
    "tags": []
   },
   "outputs": [
    {
     "data": {
      "application/vnd.jupyter.widget-view+json": {
       "model_id": "",
       "version_major": 2,
       "version_minor": 0
      },
      "text/plain": [
       "FloatProgress(value=0.0, bar_style='info', description='Progress:', layout=Layout(height='25px', width='50%'),…"
      ]
     },
     "metadata": {},
     "output_type": "display_data"
    },
    {
     "data": {
      "text/html": [
       "<style>.jp-OutputArea-child .jupyter-widgets.jp-OutputArea-output { overflow: auto; }</style>"
      ],
      "text/plain": [
       "<IPython.core.display.HTML object>"
      ]
     },
     "metadata": {},
     "output_type": "display_data"
    },
    {
     "data": {
      "application/vnd.jupyter.widget-view+json": {
       "model_id": "7b02919dc6f04b129e19879ac2d13238",
       "version_major": 2,
       "version_minor": 0
      },
      "text/plain": [
       "VBox(children=(HBox(), EncodingWidget(children=(VBox(children=(HTML(value='Encoding:'), Dropdown(description='…"
      ]
     },
     "metadata": {},
     "output_type": "display_data"
    },
    {
     "data": {
      "application/vnd.jupyter.widget-view+json": {
       "model_id": "933000997eb440fdac0551113af96fe9",
       "version_major": 2,
       "version_minor": 0
      },
      "text/plain": [
       "Output()"
      ]
     },
     "metadata": {},
     "output_type": "display_data"
    }
   ],
   "source": [
    "%%sql\n",
    "drop table if exists all_reviews"
   ]
  },
  {
   "cell_type": "code",
   "execution_count": 5,
   "id": "cff15ddd-0f0c-4a55-be0d-cb281bbe5763",
   "metadata": {
    "execution": {
     "iopub.execute_input": "2023-03-08T04:53:52.442128Z",
     "iopub.status.busy": "2023-03-08T04:53:52.441757Z",
     "iopub.status.idle": "2023-03-08T04:53:53.280464Z",
     "shell.execute_reply": "2023-03-08T04:53:53.279589Z",
     "shell.execute_reply.started": "2023-03-08T04:53:52.442092Z"
    },
    "tags": []
   },
   "outputs": [
    {
     "data": {
      "application/vnd.jupyter.widget-view+json": {
       "model_id": "",
       "version_major": 2,
       "version_minor": 0
      },
      "text/plain": [
       "FloatProgress(value=0.0, bar_style='info', description='Progress:', layout=Layout(height='25px', width='50%'),…"
      ]
     },
     "metadata": {},
     "output_type": "display_data"
    },
    {
     "data": {
      "text/html": [
       "<style>.jp-OutputArea-child .jupyter-widgets.jp-OutputArea-output { overflow: auto; }</style>"
      ],
      "text/plain": [
       "<IPython.core.display.HTML object>"
      ]
     },
     "metadata": {},
     "output_type": "display_data"
    },
    {
     "data": {
      "application/vnd.jupyter.widget-view+json": {
       "model_id": "1d9513ce889d481d8048ce17f33cbf5a",
       "version_major": 2,
       "version_minor": 0
      },
      "text/plain": [
       "VBox(children=(HBox(), EncodingWidget(children=(VBox(children=(HTML(value='Encoding:'), Dropdown(description='…"
      ]
     },
     "metadata": {},
     "output_type": "display_data"
    },
    {
     "data": {
      "application/vnd.jupyter.widget-view+json": {
       "model_id": "4098145060d948c7bf19ed22c2239b79",
       "version_major": 2,
       "version_minor": 0
      },
      "text/plain": [
       "Output()"
      ]
     },
     "metadata": {},
     "output_type": "display_data"
    }
   ],
   "source": [
    "%%sql\n",
    "create external table if not exists all_reviews(\n",
    "    marketplace string, \n",
    "    customer_id string, \n",
    "    review_id string, \n",
    "    product_id string, \n",
    "    product_parent string, \n",
    "    product_title string, \n",
    "    star_rating int, \n",
    "    helpful_votes int, \n",
    "    total_votes int, \n",
    "    vine string, \n",
    "    verified_purchase string, \n",
    "    review_headline string, \n",
    "    review_body string, \n",
    "    review_date date, \n",
    "    year int,\n",
    "    product_category string\n",
    ")\n",
    "PARTITIONED BY (product_category)\n",
    "STORED AS PARQUET\n",
    "LOCATION 's3://amazon-reviews-pds/parquet/';"
   ]
  },
  {
   "cell_type": "code",
   "execution_count": 6,
   "id": "c8794a0c-e753-4aac-a3cf-da159f079e76",
   "metadata": {
    "execution": {
     "iopub.execute_input": "2023-03-08T04:53:53.281745Z",
     "iopub.status.busy": "2023-03-08T04:53:53.281510Z",
     "iopub.status.idle": "2023-03-08T04:53:58.623380Z",
     "shell.execute_reply": "2023-03-08T04:53:58.622522Z",
     "shell.execute_reply.started": "2023-03-08T04:53:53.281721Z"
    },
    "tags": []
   },
   "outputs": [
    {
     "data": {
      "application/vnd.jupyter.widget-view+json": {
       "model_id": "",
       "version_major": 2,
       "version_minor": 0
      },
      "text/plain": [
       "FloatProgress(value=0.0, bar_style='info', description='Progress:', layout=Layout(height='25px', width='50%'),…"
      ]
     },
     "metadata": {},
     "output_type": "display_data"
    },
    {
     "data": {
      "text/html": [
       "<style>.jp-OutputArea-child .jupyter-widgets.jp-OutputArea-output { overflow: auto; }</style>"
      ],
      "text/plain": [
       "<IPython.core.display.HTML object>"
      ]
     },
     "metadata": {},
     "output_type": "display_data"
    },
    {
     "data": {
      "application/vnd.jupyter.widget-view+json": {
       "model_id": "fc80c76975194761829c4f38732b2020",
       "version_major": 2,
       "version_minor": 0
      },
      "text/plain": [
       "VBox(children=(HBox(), EncodingWidget(children=(VBox(children=(HTML(value='Encoding:'), Dropdown(description='…"
      ]
     },
     "metadata": {},
     "output_type": "display_data"
    },
    {
     "data": {
      "application/vnd.jupyter.widget-view+json": {
       "model_id": "e8476e155d534d9a9258849e1a9b9e3b",
       "version_major": 2,
       "version_minor": 0
      },
      "text/plain": [
       "Output()"
      ]
     },
     "metadata": {},
     "output_type": "display_data"
    }
   ],
   "source": [
    "%%sql\n",
    "msck repair table all_reviews;"
   ]
  },
  {
   "cell_type": "code",
   "execution_count": 7,
   "id": "7edd7639-a625-4048-94e2-7edb31a13f65",
   "metadata": {
    "execution": {
     "iopub.execute_input": "2023-03-08T04:53:58.624664Z",
     "iopub.status.busy": "2023-03-08T04:53:58.624407Z",
     "iopub.status.idle": "2023-03-08T04:54:28.198319Z",
     "shell.execute_reply": "2023-03-08T04:54:28.197566Z",
     "shell.execute_reply.started": "2023-03-08T04:53:58.624641Z"
    },
    "tags": []
   },
   "outputs": [
    {
     "data": {
      "application/vnd.jupyter.widget-view+json": {
       "model_id": "",
       "version_major": 2,
       "version_minor": 0
      },
      "text/plain": [
       "FloatProgress(value=0.0, bar_style='info', description='Progress:', layout=Layout(height='25px', width='50%'),…"
      ]
     },
     "metadata": {},
     "output_type": "display_data"
    },
    {
     "data": {
      "text/html": [
       "<style>.jp-OutputArea-child .jupyter-widgets.jp-OutputArea-output { overflow: auto; }</style>"
      ],
      "text/plain": [
       "<IPython.core.display.HTML object>"
      ]
     },
     "metadata": {},
     "output_type": "display_data"
    },
    {
     "data": {
      "application/vnd.jupyter.widget-view+json": {
       "model_id": "b52fde96767a4595be8f2b6221676bb2",
       "version_major": 2,
       "version_minor": 0
      },
      "text/plain": [
       "VBox(children=(HBox(children=(HTML(value='Type:'), Button(description='Table', layout=Layout(width='70px'), st…"
      ]
     },
     "metadata": {},
     "output_type": "display_data"
    },
    {
     "data": {
      "application/vnd.jupyter.widget-view+json": {
       "model_id": "b973f67bbb9f4fa2a4431216ac834625",
       "version_major": 2,
       "version_minor": 0
      },
      "text/plain": [
       "Output()"
      ]
     },
     "metadata": {},
     "output_type": "display_data"
    }
   ],
   "source": [
    "%%sql\n",
    "select * from all_reviews limit 5;"
   ]
  },
  {
   "cell_type": "code",
   "execution_count": 8,
   "id": "5d5f1741-9022-49b9-8b4e-e47f01cd16e2",
   "metadata": {
    "execution": {
     "iopub.execute_input": "2023-03-08T04:54:28.199846Z",
     "iopub.status.busy": "2023-03-08T04:54:28.199478Z",
     "iopub.status.idle": "2023-03-08T04:54:31.633404Z",
     "shell.execute_reply": "2023-03-08T04:54:31.632657Z",
     "shell.execute_reply.started": "2023-03-08T04:54:28.199808Z"
    },
    "tags": []
   },
   "outputs": [
    {
     "data": {
      "application/vnd.jupyter.widget-view+json": {
       "model_id": "",
       "version_major": 2,
       "version_minor": 0
      },
      "text/plain": [
       "FloatProgress(value=0.0, bar_style='info', description='Progress:', layout=Layout(height='25px', width='50%'),…"
      ]
     },
     "metadata": {},
     "output_type": "display_data"
    },
    {
     "data": {
      "text/html": [
       "<style>.jp-OutputArea-child .jupyter-widgets.jp-OutputArea-output { overflow: auto; }</style>"
      ],
      "text/plain": [
       "<IPython.core.display.HTML object>"
      ]
     },
     "metadata": {},
     "output_type": "display_data"
    },
    {
     "data": {
      "application/vnd.jupyter.widget-view+json": {
       "model_id": "428133107a62411497ffe4be18a18b77",
       "version_major": 2,
       "version_minor": 0
      },
      "text/plain": [
       "VBox(children=(HBox(children=(HTML(value='Type:'), Button(description='Table', layout=Layout(width='70px'), st…"
      ]
     },
     "metadata": {},
     "output_type": "display_data"
    },
    {
     "data": {
      "application/vnd.jupyter.widget-view+json": {
       "model_id": "7b5a1a384eed443ba056284b823af6ec",
       "version_major": 2,
       "version_minor": 0
      },
      "text/plain": [
       "Output()"
      ]
     },
     "metadata": {},
     "output_type": "display_data"
    }
   ],
   "source": [
    "%%sql\n",
    "select year, count(1) as count1, concat(cast(round((count(1) / 10000),0) as int), 'W') as count2 from all_reviews group by year order by year asc;"
   ]
  },
  {
   "cell_type": "markdown",
   "id": "b88d9cc1-3c32-449c-8180-5e179214bcfc",
   "metadata": {},
   "source": [
    "## 2. Create Pruned Data Table"
   ]
  },
  {
   "cell_type": "code",
   "execution_count": 9,
   "id": "80a75526-b6d5-46db-bacc-4c6dbeed038a",
   "metadata": {
    "execution": {
     "iopub.execute_input": "2023-03-08T04:54:31.636953Z",
     "iopub.status.busy": "2023-03-08T04:54:31.636649Z",
     "iopub.status.idle": "2023-03-08T04:54:59.597552Z",
     "shell.execute_reply": "2023-03-08T04:54:59.596715Z",
     "shell.execute_reply.started": "2023-03-08T04:54:31.636923Z"
    },
    "tags": []
   },
   "outputs": [],
   "source": [
    "%%sh\n",
    "aws s3 rm s3://${S3_BUCKET}/reviews --recursive &>/dev/null"
   ]
  },
  {
   "cell_type": "code",
   "execution_count": 10,
   "id": "a923bf75-7195-460d-93ce-873b91220b29",
   "metadata": {
    "execution": {
     "iopub.execute_input": "2023-03-08T04:54:59.599768Z",
     "iopub.status.busy": "2023-03-08T04:54:59.599527Z",
     "iopub.status.idle": "2023-03-08T04:55:00.426941Z",
     "shell.execute_reply": "2023-03-08T04:55:00.426090Z",
     "shell.execute_reply.started": "2023-03-08T04:54:59.599743Z"
    },
    "tags": []
   },
   "outputs": [
    {
     "data": {
      "application/vnd.jupyter.widget-view+json": {
       "model_id": "",
       "version_major": 2,
       "version_minor": 0
      },
      "text/plain": [
       "FloatProgress(value=0.0, bar_style='info', description='Progress:', layout=Layout(height='25px', width='50%'),…"
      ]
     },
     "metadata": {},
     "output_type": "display_data"
    },
    {
     "data": {
      "text/html": [
       "<style>.jp-OutputArea-child .jupyter-widgets.jp-OutputArea-output { overflow: auto; }</style>"
      ],
      "text/plain": [
       "<IPython.core.display.HTML object>"
      ]
     },
     "metadata": {},
     "output_type": "display_data"
    },
    {
     "data": {
      "application/vnd.jupyter.widget-view+json": {
       "model_id": "01ccc356070e4cd983fdc13d77e8aadc",
       "version_major": 2,
       "version_minor": 0
      },
      "text/plain": [
       "VBox(children=(HBox(), EncodingWidget(children=(VBox(children=(HTML(value='Encoding:'), Dropdown(description='…"
      ]
     },
     "metadata": {},
     "output_type": "display_data"
    },
    {
     "data": {
      "application/vnd.jupyter.widget-view+json": {
       "model_id": "362463246ad94284b01b42eb0c6cc8b5",
       "version_major": 2,
       "version_minor": 0
      },
      "text/plain": [
       "Output()"
      ]
     },
     "metadata": {},
     "output_type": "display_data"
    }
   ],
   "source": [
    "%%sql\n",
    "drop table if exists reviews"
   ]
  },
  {
   "cell_type": "code",
   "execution_count": 11,
   "id": "59f92eb8-ae02-4741-bd0a-ed1bd576aa04",
   "metadata": {
    "execution": {
     "iopub.execute_input": "2023-03-08T04:55:00.428582Z",
     "iopub.status.busy": "2023-03-08T04:55:00.428230Z",
     "iopub.status.idle": "2023-03-08T04:55:59.976844Z",
     "shell.execute_reply": "2023-03-08T04:55:59.975716Z",
     "shell.execute_reply.started": "2023-03-08T04:55:00.428547Z"
    },
    "tags": []
   },
   "outputs": [
    {
     "data": {
      "application/vnd.jupyter.widget-view+json": {
       "model_id": "",
       "version_major": 2,
       "version_minor": 0
      },
      "text/plain": [
       "FloatProgress(value=0.0, bar_style='info', description='Progress:', layout=Layout(height='25px', width='50%'),…"
      ]
     },
     "metadata": {},
     "output_type": "display_data"
    },
    {
     "data": {
      "text/html": [
       "<style>.jp-OutputArea-child .jupyter-widgets.jp-OutputArea-output { overflow: auto; }</style>"
      ],
      "text/plain": [
       "<IPython.core.display.HTML object>"
      ]
     },
     "metadata": {},
     "output_type": "display_data"
    },
    {
     "data": {
      "application/vnd.jupyter.widget-view+json": {
       "model_id": "08e8dc8b1ba241568f636b3204398aa9",
       "version_major": 2,
       "version_minor": 0
      },
      "text/plain": [
       "VBox(children=(HBox(), EncodingWidget(children=(VBox(children=(HTML(value='Encoding:'), Dropdown(description='…"
      ]
     },
     "metadata": {},
     "output_type": "display_data"
    },
    {
     "data": {
      "application/vnd.jupyter.widget-view+json": {
       "model_id": "d082e0d8be224250b7bef3b4dcf62122",
       "version_major": 2,
       "version_minor": 0
      },
      "text/plain": [
       "Output()"
      ]
     },
     "metadata": {},
     "output_type": "display_data"
    }
   ],
   "source": [
    "%%sql\n",
    "create table reviews\n",
    "using parquet\n",
    "partitioned by (year)\n",
    "location 's3://${S3_BUCKET}/reviews'\n",
    "as select\n",
    "    uuid() as review_id, \n",
    "    star_rating, \n",
    "    concat(uuid(),uuid(),uuid(),uuid(),uuid(),uuid()) as review_body, \n",
    "    review_date, \n",
    "    year\n",
    "from\n",
    "    all_reviews"
   ]
  },
  {
   "cell_type": "code",
   "execution_count": 12,
   "id": "46472fde-8456-4346-b3e1-1fb139492ece",
   "metadata": {
    "execution": {
     "iopub.execute_input": "2023-03-08T04:55:59.978318Z",
     "iopub.status.busy": "2023-03-08T04:55:59.978014Z",
     "iopub.status.idle": "2023-03-08T04:56:15.388313Z",
     "shell.execute_reply": "2023-03-08T04:56:15.387478Z",
     "shell.execute_reply.started": "2023-03-08T04:55:59.978282Z"
    },
    "tags": []
   },
   "outputs": [
    {
     "data": {
      "application/vnd.jupyter.widget-view+json": {
       "model_id": "",
       "version_major": 2,
       "version_minor": 0
      },
      "text/plain": [
       "FloatProgress(value=0.0, bar_style='info', description='Progress:', layout=Layout(height='25px', width='50%'),…"
      ]
     },
     "metadata": {},
     "output_type": "display_data"
    },
    {
     "data": {
      "text/html": [
       "<style>.jp-OutputArea-child .jupyter-widgets.jp-OutputArea-output { overflow: auto; }</style>"
      ],
      "text/plain": [
       "<IPython.core.display.HTML object>"
      ]
     },
     "metadata": {},
     "output_type": "display_data"
    },
    {
     "data": {
      "application/vnd.jupyter.widget-view+json": {
       "model_id": "e24b237e62da498cb0463b5dc28ee560",
       "version_major": 2,
       "version_minor": 0
      },
      "text/plain": [
       "VBox(children=(HBox(), EncodingWidget(children=(VBox(children=(HTML(value='Encoding:'), Dropdown(description='…"
      ]
     },
     "metadata": {},
     "output_type": "display_data"
    },
    {
     "data": {
      "application/vnd.jupyter.widget-view+json": {
       "model_id": "ff885c5806e14810b8a952544c2633cd",
       "version_major": 2,
       "version_minor": 0
      },
      "text/plain": [
       "Output()"
      ]
     },
     "metadata": {},
     "output_type": "display_data"
    }
   ],
   "source": [
    "%%sql\n",
    "select review_id from reviews group by review_id having count(1) >= 2;"
   ]
  },
  {
   "cell_type": "code",
   "execution_count": 13,
   "id": "38a10cf9-2381-4483-be03-bd2206c72186",
   "metadata": {
    "execution": {
     "iopub.execute_input": "2023-03-08T04:56:15.389529Z",
     "iopub.status.busy": "2023-03-08T04:56:15.389295Z",
     "iopub.status.idle": "2023-03-08T04:56:18.806806Z",
     "shell.execute_reply": "2023-03-08T04:56:18.805998Z",
     "shell.execute_reply.started": "2023-03-08T04:56:15.389507Z"
    },
    "tags": []
   },
   "outputs": [
    {
     "data": {
      "application/vnd.jupyter.widget-view+json": {
       "model_id": "",
       "version_major": 2,
       "version_minor": 0
      },
      "text/plain": [
       "FloatProgress(value=0.0, bar_style='info', description='Progress:', layout=Layout(height='25px', width='50%'),…"
      ]
     },
     "metadata": {},
     "output_type": "display_data"
    },
    {
     "data": {
      "text/html": [
       "<style>.jp-OutputArea-child .jupyter-widgets.jp-OutputArea-output { overflow: auto; }</style>"
      ],
      "text/plain": [
       "<IPython.core.display.HTML object>"
      ]
     },
     "metadata": {},
     "output_type": "display_data"
    },
    {
     "data": {
      "application/vnd.jupyter.widget-view+json": {
       "model_id": "d2d9a311ecb8462486c4051df4774379",
       "version_major": 2,
       "version_minor": 0
      },
      "text/plain": [
       "VBox(children=(HBox(children=(HTML(value='Type:'), Button(description='Table', layout=Layout(width='70px'), st…"
      ]
     },
     "metadata": {},
     "output_type": "display_data"
    },
    {
     "data": {
      "application/vnd.jupyter.widget-view+json": {
       "model_id": "a2cfcbe00ff14ffb991cc1884ace6bd3",
       "version_major": 2,
       "version_minor": 0
      },
      "text/plain": [
       "Output()"
      ]
     },
     "metadata": {},
     "output_type": "display_data"
    }
   ],
   "source": [
    "%%sql\n",
    "select count(1) from reviews;"
   ]
  },
  {
   "cell_type": "code",
   "execution_count": 14,
   "id": "93ea47f5-2eb4-439a-a513-5e554c5aa6ee",
   "metadata": {
    "execution": {
     "iopub.execute_input": "2023-03-08T04:56:18.808253Z",
     "iopub.status.busy": "2023-03-08T04:56:18.807772Z",
     "iopub.status.idle": "2023-03-08T04:56:24.280015Z",
     "shell.execute_reply": "2023-03-08T04:56:24.279292Z",
     "shell.execute_reply.started": "2023-03-08T04:56:18.808227Z"
    },
    "tags": []
   },
   "outputs": [
    {
     "data": {
      "application/vnd.jupyter.widget-view+json": {
       "model_id": "",
       "version_major": 2,
       "version_minor": 0
      },
      "text/plain": [
       "FloatProgress(value=0.0, bar_style='info', description='Progress:', layout=Layout(height='25px', width='50%'),…"
      ]
     },
     "metadata": {},
     "output_type": "display_data"
    },
    {
     "data": {
      "text/html": [
       "<style>.jp-OutputArea-child .jupyter-widgets.jp-OutputArea-output { overflow: auto; }</style>"
      ],
      "text/plain": [
       "<IPython.core.display.HTML object>"
      ]
     },
     "metadata": {},
     "output_type": "display_data"
    },
    {
     "data": {
      "application/vnd.jupyter.widget-view+json": {
       "model_id": "b0631f69ba494ebb9791975b0c611b5d",
       "version_major": 2,
       "version_minor": 0
      },
      "text/plain": [
       "VBox(children=(HBox(children=(HTML(value='Type:'), Button(description='Table', layout=Layout(width='70px'), st…"
      ]
     },
     "metadata": {},
     "output_type": "display_data"
    },
    {
     "data": {
      "application/vnd.jupyter.widget-view+json": {
       "model_id": "2d041e9034884df7b8db79edc84ee517",
       "version_major": 2,
       "version_minor": 0
      },
      "text/plain": [
       "Output()"
      ]
     },
     "metadata": {},
     "output_type": "display_data"
    }
   ],
   "source": [
    "%%sql\n",
    "select * from reviews limit 5;"
   ]
  },
  {
   "cell_type": "code",
   "execution_count": 15,
   "id": "f386d687-9941-4b3f-9c2b-1be3996bc574",
   "metadata": {
    "execution": {
     "iopub.execute_input": "2023-03-08T04:56:24.281210Z",
     "iopub.status.busy": "2023-03-08T04:56:24.280983Z",
     "iopub.status.idle": "2023-03-08T04:56:27.710105Z",
     "shell.execute_reply": "2023-03-08T04:56:27.709411Z",
     "shell.execute_reply.started": "2023-03-08T04:56:24.281188Z"
    },
    "tags": []
   },
   "outputs": [
    {
     "data": {
      "application/vnd.jupyter.widget-view+json": {
       "model_id": "",
       "version_major": 2,
       "version_minor": 0
      },
      "text/plain": [
       "FloatProgress(value=0.0, bar_style='info', description='Progress:', layout=Layout(height='25px', width='50%'),…"
      ]
     },
     "metadata": {},
     "output_type": "display_data"
    },
    {
     "data": {
      "text/html": [
       "<style>.jp-OutputArea-child .jupyter-widgets.jp-OutputArea-output { overflow: auto; }</style>"
      ],
      "text/plain": [
       "<IPython.core.display.HTML object>"
      ]
     },
     "metadata": {},
     "output_type": "display_data"
    },
    {
     "data": {
      "application/vnd.jupyter.widget-view+json": {
       "model_id": "1547bcbdbce9411eb73b651d657806c3",
       "version_major": 2,
       "version_minor": 0
      },
      "text/plain": [
       "VBox(children=(HBox(children=(HTML(value='Type:'), Button(description='Table', layout=Layout(width='70px'), st…"
      ]
     },
     "metadata": {},
     "output_type": "display_data"
    },
    {
     "data": {
      "application/vnd.jupyter.widget-view+json": {
       "model_id": "407e2193593d4e1f8fdc183bb7a7fbf3",
       "version_major": 2,
       "version_minor": 0
      },
      "text/plain": [
       "Output()"
      ]
     },
     "metadata": {},
     "output_type": "display_data"
    }
   ],
   "source": [
    "%%sql\n",
    "select year, count(1) as count1, concat(cast(round((count(1) / 10000),0) as int), 'W') as count2 from reviews group by year order by year asc;"
   ]
  },
  {
   "cell_type": "code",
   "execution_count": 16,
   "id": "ff94a148-16e0-45d7-943a-e0ed076f2952",
   "metadata": {
    "execution": {
     "iopub.execute_input": "2023-03-08T04:56:27.711432Z",
     "iopub.status.busy": "2023-03-08T04:56:27.711206Z",
     "iopub.status.idle": "2023-03-08T04:56:29.665574Z",
     "shell.execute_reply": "2023-03-08T04:56:29.664761Z",
     "shell.execute_reply.started": "2023-03-08T04:56:27.711411Z"
    },
    "tags": []
   },
   "outputs": [
    {
     "name": "stdout",
     "output_type": "stream",
     "text": [
      "Total Size:\t[ 40165885421 ]\n",
      "Total Records:\t[ 160796570 ]\n",
      "Average Size:\t[ 249 ] Bytes\n"
     ]
    }
   ],
   "source": [
    "%%sh\n",
    "total_size=$(aws s3 ls --summarize --recursive \"s3://${S3_BUCKET}/reviews/\" | sed -nE \"s/\\s+Total\\sSize\\:\\s+(\\d*)/\\1/p\")\n",
    "echo -e \"Total Size:\\t[ ${total_size} ]\"\n",
    "echo -e \"Total Records:\\t[ 160796570 ]\"\n",
    "avg_size=$((total_size/160796570))\n",
    "echo -e \"Average Size:\\t[ ${avg_size} ] Bytes\""
   ]
  },
  {
   "cell_type": "markdown",
   "id": "2e08fe13-c535-49d7-9cef-6439d0500c4d",
   "metadata": {},
   "source": [
    "Note: Hudi talbes' schema is different from reviews table, the average record size of hudi table is [ 175 ] bytes not [ 249 ] Bytes!!\n",
    "This is a question, becuase hudi table has 5 + 2 = 7 extra fields, but it is smaller (not compressed)!"
   ]
  },
  {
   "cell_type": "code",
   "execution_count": null,
   "id": "f95b4b86-c4f3-465c-86d8-9b524576e18e",
   "metadata": {},
   "outputs": [],
   "source": []
  }
 ],
 "metadata": {
  "kernelspec": {
   "display_name": "Spark",
   "language": "scala",
   "name": "sparkkernel"
  },
  "language_info": {
   "codemirror_mode": "text/x-scala",
   "file_extension": ".sc",
   "mimetype": "text/x-scala",
   "name": "scala",
   "pygments_lexer": "scala"
  }
 },
 "nbformat": 4,
 "nbformat_minor": 5
}
